{
  "cells": [
    {
      "cell_type": "markdown",
      "metadata": {
        "id": "view-in-github",
        "colab_type": "text"
      },
      "source": [
        "<a href=\"https://colab.research.google.com/github/ccwu0918/classroom-hahow-sqlfifty/blob/main/11-union-join/lecture.ipynb\" target=\"_parent\"><img src=\"https://colab.research.google.com/assets/colab-badge.svg\" alt=\"Open In Colab\"/></a>"
      ]
    },
    {
      "cell_type": "markdown",
      "id": "lightweight-fruit",
      "metadata": {
        "id": "lightweight-fruit"
      },
      "source": [
        "# SQL 的五十道練習\n",
        "\n",
        "> 垂直與水平合併\n",
        "\n",
        "[數據交點](https://www.datainpoint.com/) | 郭耀仁 <yaojenkuo@datainpoint.com>"
      ]
    },
    {
      "cell_type": "markdown",
      "id": "associate-buffalo",
      "metadata": {
        "id": "associate-buffalo"
      },
      "source": [
        "## 這個章節要學起來的 SQL 保留字\n",
        "\n",
        "- `UNION`\n",
        "- `ALL`\n",
        "- `JOIN`\n",
        "- `ON`\n",
        "- `LEFT JOIN`"
      ]
    },
    {
      "cell_type": "code",
      "source": [
        "!git clone https://github.com/ccwu0918/classroom-hahow-sqlfifty.git"
      ],
      "metadata": {
        "id": "Q93Vk9GKbVjj",
        "outputId": "fc4f6c45-5682-4bd8-fccb-cc9266548b1e",
        "colab": {
          "base_uri": "https://localhost:8080/"
        }
      },
      "execution_count": null,
      "outputs": [
        {
          "output_type": "stream",
          "name": "stdout",
          "text": [
            "Cloning into 'classroom-hahow-sqlfifty'...\n",
            "remote: Enumerating objects: 931, done.\u001b[K\n",
            "remote: Counting objects: 100% (182/182), done.\u001b[K\n",
            "remote: Compressing objects: 100% (152/152), done.\u001b[K\n",
            "remote: Total 931 (delta 100), reused 70 (delta 29), pack-reused 749\u001b[K\n",
            "Receiving objects: 100% (931/931), 69.00 MiB | 12.33 MiB/s, done.\n",
            "Resolving deltas: 100% (592/592), done.\n",
            "Updating files: 100% (130/130), done.\n"
          ]
        }
      ],
      "id": "Q93Vk9GKbVjj"
    },
    {
      "cell_type": "code",
      "source": [
        "%cd classroom-hahow-sqlfifty"
      ],
      "metadata": {
        "id": "HlcICLC8bloZ",
        "outputId": "3143f639-a33a-4b3f-93fc-22b7080ce2fb",
        "colab": {
          "base_uri": "https://localhost:8080/"
        }
      },
      "execution_count": null,
      "outputs": [
        {
          "output_type": "stream",
          "name": "stdout",
          "text": [
            "/content/classroom-hahow-sqlfifty/classroom-hahow-sqlfifty\n"
          ]
        }
      ],
      "id": "HlcICLC8bloZ"
    },
    {
      "cell_type": "code",
      "source": [
        "%load_ext sql"
      ],
      "metadata": {
        "id": "vLAGRoijcSb0",
        "outputId": "d119c029-cc2d-4617-d486-ebf4b2c9ef03",
        "colab": {
          "base_uri": "https://localhost:8080/"
        }
      },
      "execution_count": null,
      "outputs": [
        {
          "output_type": "stream",
          "name": "stdout",
          "text": [
            "The sql extension is already loaded. To reload it, use:\n",
            "  %reload_ext sql\n"
          ]
        }
      ],
      "id": "vLAGRoijcSb0"
    },
    {
      "cell_type": "code",
      "source": [
        "%sql sqlite:///./databases/imdb.db\n",
        "%sql ATTACH './databases/covid19.db' AS covid19\n",
        "%sql ATTACH './databases/twElection2020.db' AS twElection2020\n",
        "%sql ATTACH './databases/nba.db' AS nba"
      ],
      "metadata": {
        "id": "gCsaniX2cz6Z"
      },
      "execution_count": null,
      "outputs": [],
      "id": "gCsaniX2cz6Z"
    },
    {
      "cell_type": "markdown",
      "id": "forward-passage",
      "metadata": {
        "id": "forward-passage"
      },
      "source": [
        "## 關聯資料表"
      ]
    },
    {
      "cell_type": "markdown",
      "id": "guided-credit",
      "metadata": {
        "id": "guided-credit"
      },
      "source": [
        "## 在「子查詢 」章節中，我們知道子查詢常見的應用情境有：\n",
        "\n",
        "- 查詢的篩選條件必須要先做一個查詢才能得知。\n",
        "- 查詢的計算內容必須要先做一個查詢才能得知。\n",
        "- 查詢所需要的**資料來自不同資料表**。"
      ]
    },
    {
      "cell_type": "markdown",
      "id": "endless-sodium",
      "metadata": {
        "id": "endless-sodium"
      },
      "source": [
        "## 回憶一下當時如何回答這個問題：我們想知道在 `imdb` 資料庫中，哪幾部電影 Tom Hanks 有演出？\n",
        "\n",
        "- 先從 `actors` 資料表查詢 Tom Hanks 的演員編號是多少。\n",
        "- 再依據前一個查詢結果去 `casting` 資料表查詢。\n",
        "- 再依據前一個查詢結果去 `movies` 資料表查詢。"
      ]
    },
    {
      "cell_type": "markdown",
      "id": "decimal-newsletter",
      "metadata": {
        "id": "decimal-newsletter"
      },
      "source": [
        "## 這意味著我們的查詢範圍開始由「單個」資料表擴展至「多個」資料表\n",
        "\n",
        "- 子查詢。\n",
        "- 垂直與水平合併。"
      ]
    },
    {
      "cell_type": "markdown",
      "id": "smaller-transaction",
      "metadata": {
        "id": "smaller-transaction"
      },
      "source": [
        "## 關聯式資料庫（Relational Database）的核心精神\n",
        "\n",
        "- 可以設計資料表彼此之間的「關聯」特性。\n",
        "- 讓資料表彼此之間的重複性、重疊性降低。"
      ]
    },
    {
      "cell_type": "markdown",
      "id": "previous-gasoline",
      "metadata": {
        "id": "previous-gasoline"
      },
      "source": [
        "## 資料表能夠從兩個維度關聯\n",
        "\n",
        "- 垂直合併：讓資料表以垂直方向合併觀測值（列）。\n",
        "- 水平合併：讓資料表以水平方向合併變數（欄）。"
      ]
    },
    {
      "cell_type": "markdown",
      "id": "supposed-spread",
      "metadata": {
        "id": "supposed-spread"
      },
      "source": [
        "## 垂直合併"
      ]
    },
    {
      "cell_type": "markdown",
      "id": "impaired-section",
      "metadata": {
        "id": "impaired-section"
      },
      "source": [
        "## 以 `UNION` 垂直合併\n",
        "\n",
        "```sql\n",
        "A SELECT statement\n",
        "UNION\n",
        "Another SELECT statement\n",
        "```"
      ]
    },
    {
      "cell_type": "markdown",
      "id": "brief-castle",
      "metadata": {
        "id": "brief-castle"
      },
      "source": [
        "## 垂直合併簡單來說，就是結合觀測值\n",
        "\n",
        "![union](https://github.com/ccwu0918/classroom-hahow-sqlfifty/blob/main/11-union-join/union.png?raw=1)"
      ]
    },
    {
      "cell_type": "code",
      "execution_count": null,
      "id": "subjective-therapist",
      "metadata": {
        "id": "subjective-therapist",
        "outputId": "beaf403c-01bd-4fa4-ca2e-71cd5a65002f"
      },
      "outputs": [
        {
          "data": {
            "text/html": [
              "<table>\n",
              "<tr>\n",
              "<th>my_favorites</th>\n",
              "</tr>\n",
              "<tr>\n",
              "<td>Christopher Nolan</td>\n",
              "</tr>\n",
              "<tr>\n",
              "<td>Leonardo DiCaprio</td>\n",
              "</tr>\n",
              "<tr>\n",
              "<td>Steven Spielberg</td>\n",
              "</tr>\n",
              "<tr>\n",
              "<td>Tom Hanks</td>\n",
              "</tr>\n",
              "</table>\n",
              "4 rows in set (0.00 sec)"
            ],
            "text/plain": [
              "+-------------------+\n",
              "| my_favorites      |\n",
              "+-------------------+\n",
              "| Christopher Nolan |\n",
              "+-------------------+\n",
              "| Leonardo DiCaprio |\n",
              "+-------------------+\n",
              "| Steven Spielberg  |\n",
              "+-------------------+\n",
              "| Tom Hanks         |\n",
              "+-------------------+\n",
              "4 rows in set (0.00 sec)"
            ]
          },
          "execution_count": 5,
          "metadata": {},
          "output_type": "execute_result"
        }
      ],
      "source": [
        "%%sql\n",
        "SELECT director AS my_favorites\n",
        "  FROM movies\n",
        " WHERE director IN ('Christopher Nolan', 'Steven Spielberg')\n",
        " UNION\n",
        "SELECT name\n",
        "  FROM actors\n",
        " WHERE name IN ('Tom Hanks', 'Leonardo DiCaprio');"
      ]
    },
    {
      "cell_type": "markdown",
      "id": "sound-chassis",
      "metadata": {
        "id": "sound-chassis"
      },
      "source": [
        "## 使用 `UNION` 的注意事項\n",
        "\n",
        "- 垂直合併的欄位數要相同。\n",
        "- 垂直合併的 SQL 若有使用到 `ORDER BY` 只能放在 `UNION` 之後。\n",
        "- 垂直合併的重複觀測值會被省略。"
      ]
    },
    {
      "cell_type": "markdown",
      "id": "legendary-learning",
      "metadata": {
        "id": "legendary-learning"
      },
      "source": [
        "## 垂直合併的欄位數要相同\n",
        "\n",
        "```sql\n",
        "SELECT director AS my_favorites\n",
        "  FROM movies\n",
        " WHERE director IN ('Christopher Nolan', 'Steven Spielberg')\n",
        " UNION\n",
        "SELECT name,\n",
        "       id  -- 垂直合併的欄位數不相同\n",
        "  FROM actors\n",
        " WHERE name IN ('Tom Hanks', 'Leonardo DiCaprio');\n",
        "```"
      ]
    },
    {
      "cell_type": "code",
      "execution_count": null,
      "id": "established-award",
      "metadata": {
        "id": "established-award"
      },
      "outputs": [],
      "source": [
        "%%sql\n",
        "SELECT director AS my_favorites\n",
        "  FROM movies\n",
        " WHERE director IN ('Christopher Nolan', 'Steven Spielberg')\n",
        " UNION\n",
        "SELECT name,\n",
        "       id  -- 垂直合併的欄位數不相同\n",
        "  FROM actors\n",
        " WHERE name IN ('Tom Hanks', 'Leonardo DiCaprio');"
      ]
    },
    {
      "cell_type": "markdown",
      "id": "mighty-survival",
      "metadata": {
        "id": "mighty-survival"
      },
      "source": [
        "## 垂直合併的 SQL 若有使用到 `ORDER BY` 只能放在 `UNION` 之後\n",
        "\n",
        "```sql\n",
        "SELECT director AS my_favorites\n",
        "  FROM movies\n",
        " WHERE director IN ('Christopher Nolan', 'Steven Spielberg')\n",
        " ORDER BY my_favorites\n",
        " UNION\n",
        "SELECT name\n",
        "  FROM actors\n",
        " WHERE name IN ('Tom Hanks', 'Leonardo DiCaprio');\n",
        "```"
      ]
    },
    {
      "cell_type": "code",
      "execution_count": null,
      "id": "equal-swedish",
      "metadata": {
        "id": "equal-swedish"
      },
      "outputs": [],
      "source": [
        "%%sql\n",
        "SELECT director AS my_favorites\n",
        "  FROM movies\n",
        " WHERE director IN ('Christopher Nolan', 'Steven Spielberg')\n",
        " ORDER BY my_favorites\n",
        " UNION\n",
        "SELECT name\n",
        "  FROM actors\n",
        " WHERE name IN ('Tom Hanks', 'Leonardo DiCaprio');"
      ]
    },
    {
      "cell_type": "markdown",
      "id": "regulation-remainder",
      "metadata": {
        "id": "regulation-remainder"
      },
      "source": [
        "## 垂直合併的重複觀測值會被省略"
      ]
    },
    {
      "cell_type": "code",
      "execution_count": null,
      "id": "comprehensive-classification",
      "metadata": {
        "id": "comprehensive-classification",
        "outputId": "eb0204da-d7ca-4358-f55d-4c5b2e1c8808"
      },
      "outputs": [
        {
          "data": {
            "text/html": [
              "<table>\n",
              "<tr>\n",
              "<th>my_favorites</th>\n",
              "</tr>\n",
              "<tr>\n",
              "<td>Christopher Nolan</td>\n",
              "</tr>\n",
              "<tr>\n",
              "<td>Steven Spielberg</td>\n",
              "</tr>\n",
              "<tr>\n",
              "<td>Christopher Nolan</td>\n",
              "</tr>\n",
              "<tr>\n",
              "<td>Steven Spielberg</td>\n",
              "</tr>\n",
              "<tr>\n",
              "<td>Christopher Nolan</td>\n",
              "</tr>\n",
              "<tr>\n",
              "<td>Christopher Nolan</td>\n",
              "</tr>\n",
              "<tr>\n",
              "<td>Christopher Nolan</td>\n",
              "</tr>\n",
              "<tr>\n",
              "<td>Steven Spielberg</td>\n",
              "</tr>\n",
              "<tr>\n",
              "<td>Christopher Nolan</td>\n",
              "</tr>\n",
              "<tr>\n",
              "<td>Steven Spielberg</td>\n",
              "</tr>\n",
              "<tr>\n",
              "<td>Christopher Nolan</td>\n",
              "</tr>\n",
              "<tr>\n",
              "<td>Steven Spielberg</td>\n",
              "</tr>\n",
              "<tr>\n",
              "<td>Steven Spielberg</td>\n",
              "</tr>\n",
              "</table>\n",
              "13 rows in set (0.00 sec)"
            ],
            "text/plain": [
              "+-------------------+\n",
              "| my_favorites      |\n",
              "+-------------------+\n",
              "| Christopher Nolan |\n",
              "+-------------------+\n",
              "| Steven Spielberg  |\n",
              "+-------------------+\n",
              "| Christopher Nolan |\n",
              "+-------------------+\n",
              "| Steven Spielberg  |\n",
              "+-------------------+\n",
              "| Christopher Nolan |\n",
              "+-------------------+\n",
              "| Christopher Nolan |\n",
              "+-------------------+\n",
              "| Christopher Nolan |\n",
              "+-------------------+\n",
              "| Steven Spielberg  |\n",
              "+-------------------+\n",
              "| Christopher Nolan |\n",
              "+-------------------+\n",
              "| Steven Spielberg  |\n",
              "+-------------------+\n",
              "| Christopher Nolan |\n",
              "+-------------------+\n",
              "| Steven Spielberg  |\n",
              "+-------------------+\n",
              "| Steven Spielberg  |\n",
              "+-------------------+\n",
              "13 rows in set (0.00 sec)"
            ]
          },
          "execution_count": 6,
          "metadata": {},
          "output_type": "execute_result"
        }
      ],
      "source": [
        "%%sql\n",
        "SELECT director AS my_favorites\n",
        "  FROM movies\n",
        " WHERE director IN ('Christopher Nolan', 'Steven Spielberg');\n",
        "SELECT name\n",
        "  FROM actors\n",
        " WHERE name IN ('Tom Hanks', 'Leonardo DiCaprio')\n",
        " ORDER BY my_favorites;"
      ]
    },
    {
      "cell_type": "markdown",
      "id": "understood-match",
      "metadata": {
        "id": "understood-match"
      },
      "source": [
        "## 若希望保留重複觀測值，改使用 `UNION ALL`\n",
        "\n",
        "```sql\n",
        "A SELECT statement\n",
        "UNION ALL\n",
        "Another SELECT statement\n",
        "```"
      ]
    },
    {
      "cell_type": "code",
      "execution_count": null,
      "id": "technical-package",
      "metadata": {
        "id": "technical-package",
        "outputId": "e9eac238-ca8f-4538-d817-87c17ba672f2"
      },
      "outputs": [
        {
          "data": {
            "text/html": [
              "<table>\n",
              "<tr>\n",
              "<th>my_favorites</th>\n",
              "</tr>\n",
              "<tr>\n",
              "<td>Christopher Nolan</td>\n",
              "</tr>\n",
              "<tr>\n",
              "<td>Christopher Nolan</td>\n",
              "</tr>\n",
              "<tr>\n",
              "<td>Christopher Nolan</td>\n",
              "</tr>\n",
              "<tr>\n",
              "<td>Christopher Nolan</td>\n",
              "</tr>\n",
              "<tr>\n",
              "<td>Christopher Nolan</td>\n",
              "</tr>\n",
              "<tr>\n",
              "<td>Christopher Nolan</td>\n",
              "</tr>\n",
              "<tr>\n",
              "<td>Christopher Nolan</td>\n",
              "</tr>\n",
              "<tr>\n",
              "<td>Leonardo DiCaprio</td>\n",
              "</tr>\n",
              "<tr>\n",
              "<td>Steven Spielberg</td>\n",
              "</tr>\n",
              "<tr>\n",
              "<td>Steven Spielberg</td>\n",
              "</tr>\n",
              "<tr>\n",
              "<td>Steven Spielberg</td>\n",
              "</tr>\n",
              "<tr>\n",
              "<td>Steven Spielberg</td>\n",
              "</tr>\n",
              "<tr>\n",
              "<td>Steven Spielberg</td>\n",
              "</tr>\n",
              "<tr>\n",
              "<td>Steven Spielberg</td>\n",
              "</tr>\n",
              "<tr>\n",
              "<td>Tom Hanks</td>\n",
              "</tr>\n",
              "</table>\n",
              "15 rows in set (0.00 sec)"
            ],
            "text/plain": [
              "+-------------------+\n",
              "| my_favorites      |\n",
              "+-------------------+\n",
              "| Christopher Nolan |\n",
              "+-------------------+\n",
              "| Christopher Nolan |\n",
              "+-------------------+\n",
              "| Christopher Nolan |\n",
              "+-------------------+\n",
              "| Christopher Nolan |\n",
              "+-------------------+\n",
              "| Christopher Nolan |\n",
              "+-------------------+\n",
              "| Christopher Nolan |\n",
              "+-------------------+\n",
              "| Christopher Nolan |\n",
              "+-------------------+\n",
              "| Leonardo DiCaprio |\n",
              "+-------------------+\n",
              "| Steven Spielberg  |\n",
              "+-------------------+\n",
              "| Steven Spielberg  |\n",
              "+-------------------+\n",
              "| Steven Spielberg  |\n",
              "+-------------------+\n",
              "| Steven Spielberg  |\n",
              "+-------------------+\n",
              "| Steven Spielberg  |\n",
              "+-------------------+\n",
              "| Steven Spielberg  |\n",
              "+-------------------+\n",
              "| Tom Hanks         |\n",
              "+-------------------+\n",
              "15 rows in set (0.00 sec)"
            ]
          },
          "execution_count": 7,
          "metadata": {},
          "output_type": "execute_result"
        }
      ],
      "source": [
        "%%sql\n",
        "SELECT director AS my_favorites\n",
        "  FROM movies\n",
        " WHERE director IN ('Christopher Nolan', 'Steven Spielberg')\n",
        " UNION ALL\n",
        "SELECT name\n",
        "  FROM actors\n",
        " WHERE name IN ('Tom Hanks', 'Leonardo DiCaprio')\n",
        " ORDER BY my_favorites;"
      ]
    },
    {
      "cell_type": "markdown",
      "id": "sunset-testing",
      "metadata": {
        "id": "sunset-testing"
      },
      "source": [
        "## 水平合併"
      ]
    },
    {
      "cell_type": "markdown",
      "id": "tough-appreciation",
      "metadata": {
        "id": "tough-appreciation"
      },
      "source": [
        "## 學習資料庫的實體關係圖（ER Diagram, Entity Relationship Diagram）\n",
        "\n",
        "- 體會關聯式資料庫的核心精神。\n",
        "- 暸解資料表之間透過如同「橋樑」般存在的**結合鍵**（Join Key）水平合併。"
      ]
    },
    {
      "cell_type": "markdown",
      "id": "occupational-frame",
      "metadata": {
        "id": "occupational-frame"
      },
      "source": [
        "## `covid19` 資料庫的實體關係圖\n",
        "\n",
        "![erd_covid19](https://github.com/ccwu0918/classroom-hahow-sqlfifty/blob/main/11-union-join/erd_covid19.png?raw=1)"
      ]
    },
    {
      "cell_type": "markdown",
      "id": "bigger-interstate",
      "metadata": {
        "id": "bigger-interstate"
      },
      "source": [
        "## `imdb` 資料庫的實體關係圖\n",
        "\n",
        "![erd_imdb](https://github.com/ccwu0918/classroom-hahow-sqlfifty/blob/main/11-union-join/erd_imdb.png?raw=1)"
      ]
    },
    {
      "cell_type": "markdown",
      "id": "loving-shell",
      "metadata": {
        "id": "loving-shell"
      },
      "source": [
        "## `nba` 資料庫的實體關係圖\n",
        "\n",
        "![erd_nba](https://github.com/ccwu0918/classroom-hahow-sqlfifty/blob/main/11-union-join/erd_nba.png?raw=1)"
      ]
    },
    {
      "cell_type": "markdown",
      "id": "capital-first",
      "metadata": {
        "id": "capital-first"
      },
      "source": [
        "## `twElection2020` 資料庫的實體關係圖\n",
        "\n",
        "![erd_twElection2020](https://github.com/ccwu0918/classroom-hahow-sqlfifty/blob/main/11-union-join/erd_twElection2020.png?raw=1)"
      ]
    },
    {
      "cell_type": "markdown",
      "id": "superior-dynamics",
      "metadata": {
        "id": "superior-dynamics"
      },
      "source": [
        "## 以 `JOIN` 水平合併\n",
        "\n",
        "因為是「水平」合併，在 `FROM` 後的資料表被稱為「左表格」、`JOIN` 後的資料表被稱為「右表格」。\n",
        "\n",
        "```sql\n",
        "SELECT left_table.column_names,\n",
        "       right_table.column_names\n",
        "  FROM left_table\n",
        "  JOIN right_table\n",
        "    ON left_table.join_key = right_table.join_key;\n",
        "```"
      ]
    },
    {
      "cell_type": "markdown",
      "id": "afraid-cuisine",
      "metadata": {
        "id": "afraid-cuisine"
      },
      "source": [
        "## 水平合併簡單來說，就是結合變數\n",
        "\n",
        "![join](https://github.com/ccwu0918/classroom-hahow-sqlfifty/blob/main/11-union-join/join.png?raw=1)"
      ]
    },
    {
      "cell_type": "markdown",
      "id": "gentle-watts",
      "metadata": {
        "id": "gentle-watts"
      },
      "source": [
        "## 以 `JOIN` 水平合併 `movies` 與 `casting`"
      ]
    },
    {
      "cell_type": "code",
      "execution_count": null,
      "id": "raising-cigarette",
      "metadata": {
        "id": "raising-cigarette",
        "outputId": "93de6a5b-9a4b-4839-c559-f7850c1b7d3a"
      },
      "outputs": [
        {
          "data": {
            "text/html": [
              "<table>\n",
              "<tr>\n",
              "<th>title</th>\n",
              "<th>actor_id</th>\n",
              "</tr>\n",
              "<tr>\n",
              "<td>The Shawshank Redemption</td>\n",
              "<td>2853</td>\n",
              "</tr>\n",
              "<tr>\n",
              "<td>The Shawshank Redemption</td>\n",
              "<td>2097</td>\n",
              "</tr>\n",
              "<tr>\n",
              "<td>The Shawshank Redemption</td>\n",
              "<td>333</td>\n",
              "</tr>\n",
              "<tr>\n",
              "<td>The Shawshank Redemption</td>\n",
              "<td>3029</td>\n",
              "</tr>\n",
              "<tr>\n",
              "<td>The Shawshank Redemption</td>\n",
              "<td>533</td>\n",
              "</tr>\n",
              "<tr>\n",
              "<td>The Shawshank Redemption</td>\n",
              "<td>1042</td>\n",
              "</tr>\n",
              "<tr>\n",
              "<td>The Shawshank Redemption</td>\n",
              "<td>1923</td>\n",
              "</tr>\n",
              "<tr>\n",
              "<td>The Shawshank Redemption</td>\n",
              "<td>1319</td>\n",
              "</tr>\n",
              "<tr>\n",
              "<td>The Shawshank Redemption</td>\n",
              "<td>1370</td>\n",
              "</tr>\n",
              "<tr>\n",
              "<td>The Shawshank Redemption</td>\n",
              "<td>1724</td>\n",
              "</tr>\n",
              "<tr>\n",
              "<td>The Shawshank Redemption</td>\n",
              "<td>2151</td>\n",
              "</tr>\n",
              "<tr>\n",
              "<td>The Shawshank Redemption</td>\n",
              "<td>363</td>\n",
              "</tr>\n",
              "<tr>\n",
              "<td>The Shawshank Redemption</td>\n",
              "<td>659</td>\n",
              "</tr>\n",
              "<tr>\n",
              "<td>The Shawshank Redemption</td>\n",
              "<td>1530</td>\n",
              "</tr>\n",
              "<tr>\n",
              "<td>The Shawshank Redemption</td>\n",
              "<td>1553</td>\n",
              "</tr>\n",
              "</table>\n",
              "15 rows in set (0.00 sec)"
            ],
            "text/plain": [
              "+--------------------------+----------+\n",
              "| title                    | actor_id |\n",
              "+--------------------------+----------+\n",
              "| The Shawshank Redemption | 2853     |\n",
              "+--------------------------+----------+\n",
              "| The Shawshank Redemption | 2097     |\n",
              "+--------------------------+----------+\n",
              "| The Shawshank Redemption | 333      |\n",
              "+--------------------------+----------+\n",
              "| The Shawshank Redemption | 3029     |\n",
              "+--------------------------+----------+\n",
              "| The Shawshank Redemption | 533      |\n",
              "+--------------------------+----------+\n",
              "| The Shawshank Redemption | 1042     |\n",
              "+--------------------------+----------+\n",
              "| The Shawshank Redemption | 1923     |\n",
              "+--------------------------+----------+\n",
              "| The Shawshank Redemption | 1319     |\n",
              "+--------------------------+----------+\n",
              "| The Shawshank Redemption | 1370     |\n",
              "+--------------------------+----------+\n",
              "| The Shawshank Redemption | 1724     |\n",
              "+--------------------------+----------+\n",
              "| The Shawshank Redemption | 2151     |\n",
              "+--------------------------+----------+\n",
              "| The Shawshank Redemption | 363      |\n",
              "+--------------------------+----------+\n",
              "| The Shawshank Redemption | 659      |\n",
              "+--------------------------+----------+\n",
              "| The Shawshank Redemption | 1530     |\n",
              "+--------------------------+----------+\n",
              "| The Shawshank Redemption | 1553     |\n",
              "+--------------------------+----------+\n",
              "15 rows in set (0.00 sec)"
            ]
          },
          "execution_count": 8,
          "metadata": {},
          "output_type": "execute_result"
        }
      ],
      "source": [
        "%%sql\n",
        "SELECT movies.title,\n",
        "       casting.actor_id\n",
        "  FROM movies  -- 左表格\n",
        "  JOIN casting -- 右表格\n",
        "    ON movies.id = casting.movie_id\n",
        " WHERE movies.title = 'The Shawshank Redemption';"
      ]
    },
    {
      "cell_type": "markdown",
      "id": "included-fiction",
      "metadata": {
        "id": "included-fiction"
      },
      "source": [
        "## 以 `JOIN` 水平合併 `movies`、`casting` 與 `actors`"
      ]
    },
    {
      "cell_type": "code",
      "execution_count": null,
      "id": "dried-aspect",
      "metadata": {
        "id": "dried-aspect",
        "outputId": "8255c775-7f90-47ff-aab2-6004698cbf6f"
      },
      "outputs": [
        {
          "data": {
            "text/html": [
              "<table>\n",
              "<tr>\n",
              "<th>title</th>\n",
              "<th>ord</th>\n",
              "<th>name</th>\n",
              "</tr>\n",
              "<tr>\n",
              "<td>The Shawshank Redemption</td>\n",
              "<td>1</td>\n",
              "<td>Tim Robbins</td>\n",
              "</tr>\n",
              "<tr>\n",
              "<td>The Shawshank Redemption</td>\n",
              "<td>2</td>\n",
              "<td>Morgan Freeman</td>\n",
              "</tr>\n",
              "<tr>\n",
              "<td>The Shawshank Redemption</td>\n",
              "<td>3</td>\n",
              "<td>Bob Gunton</td>\n",
              "</tr>\n",
              "<tr>\n",
              "<td>The Shawshank Redemption</td>\n",
              "<td>4</td>\n",
              "<td>William Sadler</td>\n",
              "</tr>\n",
              "<tr>\n",
              "<td>The Shawshank Redemption</td>\n",
              "<td>5</td>\n",
              "<td>Clancy Brown</td>\n",
              "</tr>\n",
              "<tr>\n",
              "<td>The Shawshank Redemption</td>\n",
              "<td>6</td>\n",
              "<td>Gil Bellows</td>\n",
              "</tr>\n",
              "<tr>\n",
              "<td>The Shawshank Redemption</td>\n",
              "<td>7</td>\n",
              "<td>Mark Rolston</td>\n",
              "</tr>\n",
              "<tr>\n",
              "<td>The Shawshank Redemption</td>\n",
              "<td>8</td>\n",
              "<td>James Whitmore</td>\n",
              "</tr>\n",
              "<tr>\n",
              "<td>The Shawshank Redemption</td>\n",
              "<td>9</td>\n",
              "<td>Jeffrey DeMunn</td>\n",
              "</tr>\n",
              "<tr>\n",
              "<td>The Shawshank Redemption</td>\n",
              "<td>10</td>\n",
              "<td>Larry Brandenburg</td>\n",
              "</tr>\n",
              "<tr>\n",
              "<td>The Shawshank Redemption</td>\n",
              "<td>11</td>\n",
              "<td>Neil Giuntoli</td>\n",
              "</tr>\n",
              "<tr>\n",
              "<td>The Shawshank Redemption</td>\n",
              "<td>12</td>\n",
              "<td>Brian Libby</td>\n",
              "</tr>\n",
              "<tr>\n",
              "<td>The Shawshank Redemption</td>\n",
              "<td>13</td>\n",
              "<td>David Proval</td>\n",
              "</tr>\n",
              "<tr>\n",
              "<td>The Shawshank Redemption</td>\n",
              "<td>14</td>\n",
              "<td>Joseph Ragno</td>\n",
              "</tr>\n",
              "<tr>\n",
              "<td>The Shawshank Redemption</td>\n",
              "<td>15</td>\n",
              "<td>Jude Ciccolella</td>\n",
              "</tr>\n",
              "</table>\n",
              "15 rows in set (0.00 sec)"
            ],
            "text/plain": [
              "+--------------------------+-----+-------------------+\n",
              "| title                    | ord | name              |\n",
              "+--------------------------+-----+-------------------+\n",
              "| The Shawshank Redemption | 1   | Tim Robbins       |\n",
              "+--------------------------+-----+-------------------+\n",
              "| The Shawshank Redemption | 2   | Morgan Freeman    |\n",
              "+--------------------------+-----+-------------------+\n",
              "| The Shawshank Redemption | 3   | Bob Gunton        |\n",
              "+--------------------------+-----+-------------------+\n",
              "| The Shawshank Redemption | 4   | William Sadler    |\n",
              "+--------------------------+-----+-------------------+\n",
              "| The Shawshank Redemption | 5   | Clancy Brown      |\n",
              "+--------------------------+-----+-------------------+\n",
              "| The Shawshank Redemption | 6   | Gil Bellows       |\n",
              "+--------------------------+-----+-------------------+\n",
              "| The Shawshank Redemption | 7   | Mark Rolston      |\n",
              "+--------------------------+-----+-------------------+\n",
              "| The Shawshank Redemption | 8   | James Whitmore    |\n",
              "+--------------------------+-----+-------------------+\n",
              "| The Shawshank Redemption | 9   | Jeffrey DeMunn    |\n",
              "+--------------------------+-----+-------------------+\n",
              "| The Shawshank Redemption | 10  | Larry Brandenburg |\n",
              "+--------------------------+-----+-------------------+\n",
              "| The Shawshank Redemption | 11  | Neil Giuntoli     |\n",
              "+--------------------------+-----+-------------------+\n",
              "| The Shawshank Redemption | 12  | Brian Libby       |\n",
              "+--------------------------+-----+-------------------+\n",
              "| The Shawshank Redemption | 13  | David Proval      |\n",
              "+--------------------------+-----+-------------------+\n",
              "| The Shawshank Redemption | 14  | Joseph Ragno      |\n",
              "+--------------------------+-----+-------------------+\n",
              "| The Shawshank Redemption | 15  | Jude Ciccolella   |\n",
              "+--------------------------+-----+-------------------+\n",
              "15 rows in set (0.00 sec)"
            ]
          },
          "execution_count": 9,
          "metadata": {},
          "output_type": "execute_result"
        }
      ],
      "source": [
        "%%sql\n",
        "SELECT movies.title,\n",
        "       casting.ord,\n",
        "       actors.name\n",
        "  FROM movies   -- 左表格\n",
        "  JOIN casting  -- 右一表格\n",
        "    ON movies.id = casting.movie_id\n",
        "  JOIN actors   -- 右二表格\n",
        "    ON casting.actor_id = actors.id\n",
        " WHERE movies.title = 'The Shawshank Redemption';"
      ]
    },
    {
      "cell_type": "markdown",
      "id": "balanced-wound",
      "metadata": {
        "id": "balanced-wound"
      },
      "source": [
        "## 使用 `JOIN` 水平合併資料表時的注意事項\n",
        "\n",
        "- 養成為水平合併的資料表取別名並在欄位名稱前註明清楚的好習慣。\n",
        "- 除了實體資料表亦可使用子查詢生成的結果作為合併來源。\n",
        "- 預設保留左表格與右表格**交集**的觀測值。"
      ]
    },
    {
      "cell_type": "markdown",
      "id": "auburn-accused",
      "metadata": {
        "id": "auburn-accused"
      },
      "source": [
        "## 養成為水平合併的資料表取別名並在欄位名稱前註明清楚的好習慣\n",
        "\n",
        "舉例來說，在 `movies` 與 `actors` 兩個資料表中都有 `id` 欄位。\n",
        "\n",
        "- `movies.id` 指的是電影編號。\n",
        "- `actors.id` 指的是演員編號。"
      ]
    },
    {
      "cell_type": "markdown",
      "id": "center-block",
      "metadata": {
        "id": "center-block"
      },
      "source": [
        "## 如果沒有註明 id 來自哪個資料表會產生錯誤\n",
        "\n",
        "```sql\n",
        "SELECT title,\n",
        "       ord,\n",
        "       name\n",
        "  FROM movies\n",
        "  JOIN casting\n",
        "    ON id = movie_id\n",
        "  JOIN actors\n",
        "    ON actor_id = id\n",
        " WHERE title = 'The Shawshank Redemption';\n",
        "```"
      ]
    },
    {
      "cell_type": "code",
      "execution_count": null,
      "id": "numerical-probe",
      "metadata": {
        "id": "numerical-probe"
      },
      "outputs": [],
      "source": [
        "%%sql\n",
        "SELECT title,\n",
        "       ord,\n",
        "       name\n",
        "  FROM movies\n",
        "  JOIN casting\n",
        "    ON id = movie_id\n",
        "  JOIN actors\n",
        "    ON actor_id = id\n",
        " WHERE title = 'The Shawshank Redemption';"
      ]
    },
    {
      "cell_type": "markdown",
      "id": "solved-graduation",
      "metadata": {
        "id": "solved-graduation"
      },
      "source": [
        "## 除了實體資料表亦可使用子查詢生成的結果作為合併來源"
      ]
    },
    {
      "cell_type": "code",
      "execution_count": null,
      "id": "average-shopper",
      "metadata": {
        "id": "average-shopper",
        "outputId": "26b6e1a3-7716-4bb1-a838-a005dbc8f9c3"
      },
      "outputs": [
        {
          "data": {
            "text/html": [
              "<table>\n",
              "<tr>\n",
              "<th>title</th>\n",
              "<th>ord</th>\n",
              "<th>name</th>\n",
              "</tr>\n",
              "<tr>\n",
              "<td>The Shawshank Redemption</td>\n",
              "<td>1</td>\n",
              "<td>Tim Robbins</td>\n",
              "</tr>\n",
              "<tr>\n",
              "<td>Forrest Gump</td>\n",
              "<td>1</td>\n",
              "<td>Tom Hanks</td>\n",
              "</tr>\n",
              "<tr>\n",
              "<td>The Shawshank Redemption</td>\n",
              "<td>2</td>\n",
              "<td>Morgan Freeman</td>\n",
              "</tr>\n",
              "<tr>\n",
              "<td>Forrest Gump</td>\n",
              "<td>2</td>\n",
              "<td>Rebecca Williams</td>\n",
              "</tr>\n",
              "<tr>\n",
              "<td>The Shawshank Redemption</td>\n",
              "<td>3</td>\n",
              "<td>Bob Gunton</td>\n",
              "</tr>\n",
              "<tr>\n",
              "<td>Forrest Gump</td>\n",
              "<td>3</td>\n",
              "<td>Sally Field</td>\n",
              "</tr>\n",
              "<tr>\n",
              "<td>The Shawshank Redemption</td>\n",
              "<td>4</td>\n",
              "<td>William Sadler</td>\n",
              "</tr>\n",
              "<tr>\n",
              "<td>Forrest Gump</td>\n",
              "<td>4</td>\n",
              "<td>Michael Conner Humphreys</td>\n",
              "</tr>\n",
              "<tr>\n",
              "<td>The Shawshank Redemption</td>\n",
              "<td>5</td>\n",
              "<td>Clancy Brown</td>\n",
              "</tr>\n",
              "<tr>\n",
              "<td>Forrest Gump</td>\n",
              "<td>5</td>\n",
              "<td>Harold G. Herthum</td>\n",
              "</tr>\n",
              "<tr>\n",
              "<td>The Shawshank Redemption</td>\n",
              "<td>6</td>\n",
              "<td>Gil Bellows</td>\n",
              "</tr>\n",
              "<tr>\n",
              "<td>Forrest Gump</td>\n",
              "<td>6</td>\n",
              "<td>George Kelly</td>\n",
              "</tr>\n",
              "<tr>\n",
              "<td>The Shawshank Redemption</td>\n",
              "<td>7</td>\n",
              "<td>Mark Rolston</td>\n",
              "</tr>\n",
              "<tr>\n",
              "<td>Forrest Gump</td>\n",
              "<td>7</td>\n",
              "<td>Bob Penny</td>\n",
              "</tr>\n",
              "<tr>\n",
              "<td>The Shawshank Redemption</td>\n",
              "<td>8</td>\n",
              "<td>James Whitmore</td>\n",
              "</tr>\n",
              "<tr>\n",
              "<td>Forrest Gump</td>\n",
              "<td>8</td>\n",
              "<td>John Randall</td>\n",
              "</tr>\n",
              "<tr>\n",
              "<td>The Shawshank Redemption</td>\n",
              "<td>9</td>\n",
              "<td>Jeffrey DeMunn</td>\n",
              "</tr>\n",
              "<tr>\n",
              "<td>Forrest Gump</td>\n",
              "<td>9</td>\n",
              "<td>Sam Anderson</td>\n",
              "</tr>\n",
              "<tr>\n",
              "<td>The Shawshank Redemption</td>\n",
              "<td>10</td>\n",
              "<td>Larry Brandenburg</td>\n",
              "</tr>\n",
              "<tr>\n",
              "<td>Forrest Gump</td>\n",
              "<td>10</td>\n",
              "<td>Margo Moorer</td>\n",
              "</tr>\n",
              "<tr>\n",
              "<td>The Shawshank Redemption</td>\n",
              "<td>11</td>\n",
              "<td>Neil Giuntoli</td>\n",
              "</tr>\n",
              "<tr>\n",
              "<td>Forrest Gump</td>\n",
              "<td>11</td>\n",
              "<td>Ione M. Telech</td>\n",
              "</tr>\n",
              "<tr>\n",
              "<td>The Shawshank Redemption</td>\n",
              "<td>12</td>\n",
              "<td>Brian Libby</td>\n",
              "</tr>\n",
              "<tr>\n",
              "<td>Forrest Gump</td>\n",
              "<td>12</td>\n",
              "<td>Christine Seabrook</td>\n",
              "</tr>\n",
              "<tr>\n",
              "<td>The Shawshank Redemption</td>\n",
              "<td>13</td>\n",
              "<td>David Proval</td>\n",
              "</tr>\n",
              "<tr>\n",
              "<td>Forrest Gump</td>\n",
              "<td>13</td>\n",
              "<td>John Worsham</td>\n",
              "</tr>\n",
              "<tr>\n",
              "<td>The Shawshank Redemption</td>\n",
              "<td>14</td>\n",
              "<td>Joseph Ragno</td>\n",
              "</tr>\n",
              "<tr>\n",
              "<td>Forrest Gump</td>\n",
              "<td>14</td>\n",
              "<td>Peter Dobson</td>\n",
              "</tr>\n",
              "<tr>\n",
              "<td>The Shawshank Redemption</td>\n",
              "<td>15</td>\n",
              "<td>Jude Ciccolella</td>\n",
              "</tr>\n",
              "<tr>\n",
              "<td>Forrest Gump</td>\n",
              "<td>15</td>\n",
              "<td>Siobhan Fallon Hogan</td>\n",
              "</tr>\n",
              "</table>\n",
              "30 rows in set (0.00 sec)"
            ],
            "text/plain": [
              "+--------------------------+-----+--------------------------+\n",
              "| title                    | ord | name                     |\n",
              "+--------------------------+-----+--------------------------+\n",
              "| The Shawshank Redemption | 1   | Tim Robbins              |\n",
              "+--------------------------+-----+--------------------------+\n",
              "| Forrest Gump             | 1   | Tom Hanks                |\n",
              "+--------------------------+-----+--------------------------+\n",
              "| The Shawshank Redemption | 2   | Morgan Freeman           |\n",
              "+--------------------------+-----+--------------------------+\n",
              "| Forrest Gump             | 2   | Rebecca Williams         |\n",
              "+--------------------------+-----+--------------------------+\n",
              "| The Shawshank Redemption | 3   | Bob Gunton               |\n",
              "+--------------------------+-----+--------------------------+\n",
              "| Forrest Gump             | 3   | Sally Field              |\n",
              "+--------------------------+-----+--------------------------+\n",
              "| The Shawshank Redemption | 4   | William Sadler           |\n",
              "+--------------------------+-----+--------------------------+\n",
              "| Forrest Gump             | 4   | Michael Conner Humphreys |\n",
              "+--------------------------+-----+--------------------------+\n",
              "| The Shawshank Redemption | 5   | Clancy Brown             |\n",
              "+--------------------------+-----+--------------------------+\n",
              "| Forrest Gump             | 5   | Harold G. Herthum        |\n",
              "+--------------------------+-----+--------------------------+\n",
              "| The Shawshank Redemption | 6   | Gil Bellows              |\n",
              "+--------------------------+-----+--------------------------+\n",
              "| Forrest Gump             | 6   | George Kelly             |\n",
              "+--------------------------+-----+--------------------------+\n",
              "| The Shawshank Redemption | 7   | Mark Rolston             |\n",
              "+--------------------------+-----+--------------------------+\n",
              "| Forrest Gump             | 7   | Bob Penny                |\n",
              "+--------------------------+-----+--------------------------+\n",
              "| The Shawshank Redemption | 8   | James Whitmore           |\n",
              "+--------------------------+-----+--------------------------+\n",
              "| Forrest Gump             | 8   | John Randall             |\n",
              "+--------------------------+-----+--------------------------+\n",
              "| The Shawshank Redemption | 9   | Jeffrey DeMunn           |\n",
              "+--------------------------+-----+--------------------------+\n",
              "| Forrest Gump             | 9   | Sam Anderson             |\n",
              "+--------------------------+-----+--------------------------+\n",
              "| The Shawshank Redemption | 10  | Larry Brandenburg        |\n",
              "+--------------------------+-----+--------------------------+\n",
              "| Forrest Gump             | 10  | Margo Moorer             |\n",
              "+--------------------------+-----+--------------------------+\n",
              "| The Shawshank Redemption | 11  | Neil Giuntoli            |\n",
              "+--------------------------+-----+--------------------------+\n",
              "| Forrest Gump             | 11  | Ione M. Telech           |\n",
              "+--------------------------+-----+--------------------------+\n",
              "| The Shawshank Redemption | 12  | Brian Libby              |\n",
              "+--------------------------+-----+--------------------------+\n",
              "| Forrest Gump             | 12  | Christine Seabrook       |\n",
              "+--------------------------+-----+--------------------------+\n",
              "| The Shawshank Redemption | 13  | David Proval             |\n",
              "+--------------------------+-----+--------------------------+\n",
              "| Forrest Gump             | 13  | John Worsham             |\n",
              "+--------------------------+-----+--------------------------+\n",
              "| The Shawshank Redemption | 14  | Joseph Ragno             |\n",
              "+--------------------------+-----+--------------------------+\n",
              "| Forrest Gump             | 14  | Peter Dobson             |\n",
              "+--------------------------+-----+--------------------------+\n",
              "| The Shawshank Redemption | 15  | Jude Ciccolella          |\n",
              "+--------------------------+-----+--------------------------+\n",
              "| Forrest Gump             | 15  | Siobhan Fallon Hogan     |\n",
              "+--------------------------+-----+--------------------------+\n",
              "30 rows in set (0.00 sec)"
            ]
          },
          "execution_count": 10,
          "metadata": {},
          "output_type": "execute_result"
        }
      ],
      "source": [
        "%%sql\n",
        "SELECT subquery_movies.title,\n",
        "       casting.ord,\n",
        "       actors.name\n",
        "  FROM (SELECT id,\n",
        "               title,\n",
        "               director\n",
        "          FROM movies\n",
        "         WHERE title IN ('The Shawshank Redemption', 'Forrest Gump')) AS subquery_movies -- 左表格\n",
        "  JOIN casting  -- 右一表格\n",
        "    ON subquery_movies.id = casting.movie_id\n",
        "  JOIN actors   -- 右二表格\n",
        "    ON casting.actor_id = actors.id\n",
        " ORDER BY ord;"
      ]
    },
    {
      "cell_type": "markdown",
      "id": "tracked-pregnancy",
      "metadata": {
        "id": "tracked-pregnancy"
      },
      "source": [
        "## 預設保留左表格與右表格交集的觀測值"
      ]
    },
    {
      "cell_type": "code",
      "execution_count": null,
      "id": "leading-fever",
      "metadata": {
        "id": "leading-fever",
        "outputId": "1a1e1307-d313-4cf7-d16b-4f327fcb5538"
      },
      "outputs": [
        {
          "data": {
            "text/html": [
              "<table>\n",
              "<tr>\n",
              "<th>title</th>\n",
              "<th>actor_id</th>\n",
              "</tr>\n",
              "<tr>\n",
              "<td>The Shawshank Redemption</td>\n",
              "<td>2853</td>\n",
              "</tr>\n",
              "<tr>\n",
              "<td>The Shawshank Redemption</td>\n",
              "<td>2097</td>\n",
              "</tr>\n",
              "<tr>\n",
              "<td>The Shawshank Redemption</td>\n",
              "<td>333</td>\n",
              "</tr>\n",
              "<tr>\n",
              "<td>The Shawshank Redemption</td>\n",
              "<td>3029</td>\n",
              "</tr>\n",
              "<tr>\n",
              "<td>The Shawshank Redemption</td>\n",
              "<td>533</td>\n",
              "</tr>\n",
              "<tr>\n",
              "<td>The Shawshank Redemption</td>\n",
              "<td>1042</td>\n",
              "</tr>\n",
              "<tr>\n",
              "<td>The Shawshank Redemption</td>\n",
              "<td>1923</td>\n",
              "</tr>\n",
              "<tr>\n",
              "<td>The Shawshank Redemption</td>\n",
              "<td>1319</td>\n",
              "</tr>\n",
              "<tr>\n",
              "<td>The Shawshank Redemption</td>\n",
              "<td>1370</td>\n",
              "</tr>\n",
              "<tr>\n",
              "<td>The Shawshank Redemption</td>\n",
              "<td>1724</td>\n",
              "</tr>\n",
              "<tr>\n",
              "<td>The Shawshank Redemption</td>\n",
              "<td>2151</td>\n",
              "</tr>\n",
              "<tr>\n",
              "<td>The Shawshank Redemption</td>\n",
              "<td>363</td>\n",
              "</tr>\n",
              "<tr>\n",
              "<td>The Shawshank Redemption</td>\n",
              "<td>659</td>\n",
              "</tr>\n",
              "<tr>\n",
              "<td>The Shawshank Redemption</td>\n",
              "<td>1530</td>\n",
              "</tr>\n",
              "<tr>\n",
              "<td>The Shawshank Redemption</td>\n",
              "<td>1553</td>\n",
              "</tr>\n",
              "</table>\n",
              "15 rows in set (0.00 sec)"
            ],
            "text/plain": [
              "+--------------------------+----------+\n",
              "| title                    | actor_id |\n",
              "+--------------------------+----------+\n",
              "| The Shawshank Redemption | 2853     |\n",
              "+--------------------------+----------+\n",
              "| The Shawshank Redemption | 2097     |\n",
              "+--------------------------+----------+\n",
              "| The Shawshank Redemption | 333      |\n",
              "+--------------------------+----------+\n",
              "| The Shawshank Redemption | 3029     |\n",
              "+--------------------------+----------+\n",
              "| The Shawshank Redemption | 533      |\n",
              "+--------------------------+----------+\n",
              "| The Shawshank Redemption | 1042     |\n",
              "+--------------------------+----------+\n",
              "| The Shawshank Redemption | 1923     |\n",
              "+--------------------------+----------+\n",
              "| The Shawshank Redemption | 1319     |\n",
              "+--------------------------+----------+\n",
              "| The Shawshank Redemption | 1370     |\n",
              "+--------------------------+----------+\n",
              "| The Shawshank Redemption | 1724     |\n",
              "+--------------------------+----------+\n",
              "| The Shawshank Redemption | 2151     |\n",
              "+--------------------------+----------+\n",
              "| The Shawshank Redemption | 363      |\n",
              "+--------------------------+----------+\n",
              "| The Shawshank Redemption | 659      |\n",
              "+--------------------------+----------+\n",
              "| The Shawshank Redemption | 1530     |\n",
              "+--------------------------+----------+\n",
              "| The Shawshank Redemption | 1553     |\n",
              "+--------------------------+----------+\n",
              "15 rows in set (0.00 sec)"
            ]
          },
          "execution_count": 11,
          "metadata": {},
          "output_type": "execute_result"
        }
      ],
      "source": [
        "%%sql\n",
        "SELECT two_movies.title,\n",
        "       two_castings.actor_id\n",
        "  -- 左表格是刺激1995與阿甘正傳的電影資料\n",
        "  FROM (SELECT *\n",
        "          FROM movies\n",
        "         WHERE title IN ('The Shawshank Redemption', 'Forrest Gump')) AS two_movies\n",
        "  -- 右表格是刺激1995與黑暗騎士的演員名單資料\n",
        "  JOIN (SELECT *\n",
        "          FROM casting\n",
        "         WHERE movie_id IN (1, 4)) AS two_castings\n",
        "    ON two_movies.id = two_castings.movie_id\n",
        " ORDER BY two_movies.title;"
      ]
    },
    {
      "cell_type": "markdown",
      "id": "characteristic-telescope",
      "metadata": {
        "id": "characteristic-telescope"
      },
      "source": [
        "## 若希望保留以左表格為主的觀測值，改使用 `LEFT JOIN`\n",
        "\n",
        "```sql\n",
        "SELECT left_table.column_names,\n",
        "       right_table.column_names\n",
        "  FROM table_name AS left_table\n",
        "  LEFT JOIN table_name AS right_table\n",
        "    ON left_table.join_key = right_table.join_key;\n",
        "```"
      ]
    },
    {
      "cell_type": "code",
      "execution_count": null,
      "id": "confidential-airline",
      "metadata": {
        "id": "confidential-airline",
        "outputId": "953ec2cf-5ec2-446d-c822-58c5043bd5ad"
      },
      "outputs": [
        {
          "data": {
            "text/html": [
              "<table>\n",
              "<tr>\n",
              "<th>title</th>\n",
              "<th>actor_id</th>\n",
              "</tr>\n",
              "<tr>\n",
              "<td>Forrest Gump</td>\n",
              "<td>NULL</td>\n",
              "</tr>\n",
              "<tr>\n",
              "<td>The Shawshank Redemption</td>\n",
              "<td>333</td>\n",
              "</tr>\n",
              "<tr>\n",
              "<td>The Shawshank Redemption</td>\n",
              "<td>363</td>\n",
              "</tr>\n",
              "<tr>\n",
              "<td>The Shawshank Redemption</td>\n",
              "<td>533</td>\n",
              "</tr>\n",
              "<tr>\n",
              "<td>The Shawshank Redemption</td>\n",
              "<td>659</td>\n",
              "</tr>\n",
              "<tr>\n",
              "<td>The Shawshank Redemption</td>\n",
              "<td>1042</td>\n",
              "</tr>\n",
              "<tr>\n",
              "<td>The Shawshank Redemption</td>\n",
              "<td>1319</td>\n",
              "</tr>\n",
              "<tr>\n",
              "<td>The Shawshank Redemption</td>\n",
              "<td>1370</td>\n",
              "</tr>\n",
              "<tr>\n",
              "<td>The Shawshank Redemption</td>\n",
              "<td>1530</td>\n",
              "</tr>\n",
              "<tr>\n",
              "<td>The Shawshank Redemption</td>\n",
              "<td>1553</td>\n",
              "</tr>\n",
              "<tr>\n",
              "<td>The Shawshank Redemption</td>\n",
              "<td>1724</td>\n",
              "</tr>\n",
              "<tr>\n",
              "<td>The Shawshank Redemption</td>\n",
              "<td>1923</td>\n",
              "</tr>\n",
              "<tr>\n",
              "<td>The Shawshank Redemption</td>\n",
              "<td>2097</td>\n",
              "</tr>\n",
              "<tr>\n",
              "<td>The Shawshank Redemption</td>\n",
              "<td>2151</td>\n",
              "</tr>\n",
              "<tr>\n",
              "<td>The Shawshank Redemption</td>\n",
              "<td>2853</td>\n",
              "</tr>\n",
              "<tr>\n",
              "<td>The Shawshank Redemption</td>\n",
              "<td>3029</td>\n",
              "</tr>\n",
              "</table>\n",
              "16 rows in set (0.01 sec)"
            ],
            "text/plain": [
              "+--------------------------+----------+\n",
              "| title                    | actor_id |\n",
              "+--------------------------+----------+\n",
              "| Forrest Gump             | NULL     |\n",
              "+--------------------------+----------+\n",
              "| The Shawshank Redemption | 333      |\n",
              "+--------------------------+----------+\n",
              "| The Shawshank Redemption | 363      |\n",
              "+--------------------------+----------+\n",
              "| The Shawshank Redemption | 533      |\n",
              "+--------------------------+----------+\n",
              "| The Shawshank Redemption | 659      |\n",
              "+--------------------------+----------+\n",
              "| The Shawshank Redemption | 1042     |\n",
              "+--------------------------+----------+\n",
              "| The Shawshank Redemption | 1319     |\n",
              "+--------------------------+----------+\n",
              "| The Shawshank Redemption | 1370     |\n",
              "+--------------------------+----------+\n",
              "| The Shawshank Redemption | 1530     |\n",
              "+--------------------------+----------+\n",
              "| The Shawshank Redemption | 1553     |\n",
              "+--------------------------+----------+\n",
              "| The Shawshank Redemption | 1724     |\n",
              "+--------------------------+----------+\n",
              "| The Shawshank Redemption | 1923     |\n",
              "+--------------------------+----------+\n",
              "| The Shawshank Redemption | 2097     |\n",
              "+--------------------------+----------+\n",
              "| The Shawshank Redemption | 2151     |\n",
              "+--------------------------+----------+\n",
              "| The Shawshank Redemption | 2853     |\n",
              "+--------------------------+----------+\n",
              "| The Shawshank Redemption | 3029     |\n",
              "+--------------------------+----------+\n",
              "16 rows in set (0.01 sec)"
            ]
          },
          "execution_count": 12,
          "metadata": {},
          "output_type": "execute_result"
        }
      ],
      "source": [
        "%%sql\n",
        "SELECT two_movies.title,\n",
        "       two_castings.actor_id\n",
        "  -- 左表格是刺激1995與阿甘正傳的電影資料\n",
        "  FROM (SELECT *\n",
        "          FROM movies\n",
        "         WHERE title IN ('The Shawshank Redemption', 'Forrest Gump')) AS two_movies\n",
        "  -- 右表格是刺激1995與黑暗騎士的名單資料\n",
        "  LEFT JOIN (SELECT *\n",
        "               FROM casting\n",
        "              WHERE movie_id IN (1, 4)) AS two_castings\n",
        "    ON two_movies.id = two_castings.movie_id\n",
        " ORDER BY two_movies.title;"
      ]
    },
    {
      "cell_type": "markdown",
      "id": "understanding-sudan",
      "metadata": {
        "id": "understanding-sudan"
      },
      "source": [
        "## 重點統整\n",
        "\n",
        "- 我們的查詢範圍開始由「單個」資料表擴展至「多個」資料表。\n",
        "- 資料表能夠用兩個方向關聯：\n",
        "    - 垂直合併\n",
        "    - 水平合併"
      ]
    },
    {
      "cell_type": "markdown",
      "id": "accepting-witch",
      "metadata": {
        "id": "accepting-witch"
      },
      "source": [
        "## 重點統整（續）\n",
        "\n",
        "- 使用 `UNION` 垂直合併的注意事項\n",
        "    - 垂直合併的欄位數要相同。\n",
        "    - 垂直合併的 SQL 若有使用到 `ORDER BY` 只能放在 `UNION` 之後。\n",
        "    - 垂直合併的重複觀測值會被省略。\n",
        "    - 若希望保留重複觀測值，改使用 `UNION ALL`。"
      ]
    },
    {
      "cell_type": "markdown",
      "id": "closing-insider",
      "metadata": {
        "id": "closing-insider"
      },
      "source": [
        "## 重點統整（續）\n",
        "\n",
        "- 使用 `JOIN` 水平合併的注意事項\n",
        "    - 養成為水平合併的資料表取別名並在欄位名稱前註明清楚的好習慣。\n",
        "    - 除了實體資料表亦可使用子查詢生成的結果作為合併來源。\n",
        "    - 預設保留左表格與右表格交集的觀測值。\n",
        "    - 若希望保留以左表格為主的觀測值，改使用 `LEFT JOIN`。"
      ]
    },
    {
      "cell_type": "markdown",
      "source": [
        "\n",
        "```sql\n",
        "/*截至目前學起來的 SQL 有哪些？\n",
        "SQL 寫作順序必須遵從標準 SQL 的規定。*/\n",
        "SELECT column_names     -- 選擇哪些欄位\n",
        "  FROM left_table       -- 從哪個資料庫的資料表\n",
        "  JOIN right_table      -- 與哪個資料表水平合併\n",
        "    ON left_table.join_key = right_table.join_key\n",
        " WHERE conditions       -- 篩選哪些觀測值\n",
        " GROUP BY column_names  -- 指定依照哪個變數分組\n",
        "HAVING conditions       -- 篩選哪些分組聚合的結果\n",
        " UNION SELECT statement -- 與哪段 SQL 垂直合併\n",
        " ORDER BY column_names  -- 指定依照哪個變數排序\n",
        " LIMIT m;               -- 查詢結果顯示前 m 列就好\n",
        "\n",
        "```\n",
        "\n"
      ],
      "metadata": {
        "id": "VjcZ6Vr5wmwS"
      },
      "id": "VjcZ6Vr5wmwS"
    }
  ],
  "metadata": {
    "celltoolbar": "Slideshow",
    "kernelspec": {
      "display_name": "xsql",
      "language": "sqlite",
      "name": "xsql"
    },
    "language_info": {
      "codemirror_mode": "sql",
      "file_extension": "",
      "mimetype": "",
      "name": "mysql",
      "version": "0.0.8"
    },
    "colab": {
      "provenance": [],
      "include_colab_link": true
    }
  },
  "nbformat": 4,
  "nbformat_minor": 5
}