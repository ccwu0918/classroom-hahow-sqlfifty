{
  "cells": [
    {
      "cell_type": "markdown",
      "metadata": {
        "id": "view-in-github",
        "colab_type": "text"
      },
      "source": [
        "<a href=\"https://colab.research.google.com/github/ccwu0918/classroom-hahow-sqlfifty/blob/main/03-select-from/exercises-colab.ipynb\" target=\"_parent\"><img src=\"https://colab.research.google.com/assets/colab-badge.svg\" alt=\"Open In Colab\"/></a>"
      ]
    },
    {
      "cell_type": "markdown",
      "metadata": {
        "deletable": false,
        "editable": false,
        "id": "fxNlxLOdbSHx"
      },
      "source": [
        "# SQL 的五十道練習\n",
        "\n",
        "> 從資料表選擇\n",
        "\n",
        "[數據交點](https://www.datainpoint.com/) | 郭耀仁 <yaojenkuo@datainpoint.com>"
      ]
    },
    {
      "cell_type": "markdown",
      "metadata": {
        "deletable": false,
        "id": "fz17Ae6rbSHy"
      },
      "source": [
        "## 練習題指引\n",
        "\n",
        "- 由於近期 mybinder.org 的服務不穩定，新增 Google Colab 作為另一個寫作練習題的平台。\n",
        "- 開始寫作之前，可以先按上方「Copy to Drive」按鈕將筆記本複製到自己的 Google 雲端硬碟。\n",
        "- 在每份練習題的開始，都會先將四個學習資料庫載入環境。\n",
        "- 因此 SQL 可以指定四個學習資料庫中的資料表，不需要額外指定資料庫。\n",
        "- 在 SQL 語法起點與 SQL 語法終點這兩個單行註解之間撰寫能夠得到預期結果的 SQL。\n",
        "- 可以先在自己電腦的 SQLiteStudio 或者 DBeaver 寫出跟預期結果相同的 SQL 後再複製貼上到練習題。\n",
        "- 執行測試的方式為點選右上角 Connect，然後點選上方選單的 Runtime -> Restart and run all -> Yes -> Run anyway。\n",
        "- 移動到 Google Colab 的最後一個儲存格看測試結果。\n",
        "- 可以每寫一題就執行測試，也可以全部寫完再執行測試。\n",
        "- 練習題閒置超過 10 分鐘會自動斷線，這時只要重新點選練習題連結即可重新啟動。"
      ]
    },
    {
      "cell_type": "code",
      "source": [
        "!git clone https://github.com/ccwu0918/classroom-hahow-sqlfifty.git"
      ],
      "metadata": {
        "id": "Q93Vk9GKbVjj",
        "outputId": "bd033ac9-5908-48b2-aac0-852ca4b7ed18",
        "colab": {
          "base_uri": "https://localhost:8080/"
        }
      },
      "execution_count": 1,
      "outputs": [
        {
          "output_type": "stream",
          "name": "stdout",
          "text": [
            "Cloning into 'classroom-hahow-sqlfifty'...\n",
            "remote: Enumerating objects: 907, done.\u001b[K\n",
            "remote: Counting objects: 100% (158/158), done.\u001b[K\n",
            "remote: Compressing objects: 100% (128/128), done.\u001b[K\n",
            "remote: Total 907 (delta 84), reused 70 (delta 29), pack-reused 749\u001b[K\n",
            "Receiving objects: 100% (907/907), 68.98 MiB | 9.83 MiB/s, done.\n",
            "Resolving deltas: 100% (576/576), done.\n",
            "Updating files: 100% (130/130), done.\n"
          ]
        }
      ]
    },
    {
      "cell_type": "code",
      "source": [
        "%cd classroom-hahow-sqlfifty"
      ],
      "metadata": {
        "id": "HlcICLC8bloZ",
        "outputId": "42ff92a6-0bfb-4bff-d0dd-06bac023754e",
        "colab": {
          "base_uri": "https://localhost:8080/"
        }
      },
      "execution_count": 2,
      "outputs": [
        {
          "output_type": "stream",
          "name": "stdout",
          "text": [
            "/content/classroom-hahow-sqlfifty\n"
          ]
        }
      ]
    },
    {
      "cell_type": "code",
      "execution_count": null,
      "metadata": {
        "id": "iFUJM6J9bSHy"
      },
      "outputs": [],
      "source": [
        "# !wget -N https://raw.githubusercontent.com/datainpoint/classroom-hahow-sqlfifty/main/databases/nba.db\n",
        "# !wget -N https://raw.githubusercontent.com/datainpoint/classroom-hahow-sqlfifty/main/databases/covid19.db\n",
        "# !wget -N https://raw.githubusercontent.com/datainpoint/classroom-hahow-sqlfifty/main/databases/twElection2020.db\n",
        "# !wget -N https://raw.githubusercontent.com/datainpoint/classroom-hahow-sqlfifty/main/databases/imdb.db\n",
        "# !wget -N https://raw.githubusercontent.com/datainpoint/classroom-hahow-sqlfifty/main/exercise_index.json"
      ]
    },
    {
      "cell_type": "code",
      "execution_count": 46,
      "metadata": {
        "deletable": false,
        "id": "JzoixGNlbSHz",
        "outputId": "f3bbd88f-1ba4-4546-93c3-172c9948590d",
        "colab": {
          "base_uri": "https://localhost:8080/"
        }
      },
      "outputs": [
        {
          "output_type": "execute_result",
          "data": {
            "text/plain": [
              "<sqlite3.Cursor at 0x7d80f49307c0>"
            ]
          },
          "metadata": {},
          "execution_count": 46
        }
      ],
      "source": [
        "import sqlite3\n",
        "import unittest\n",
        "import json\n",
        "import os\n",
        "import numpy as np\n",
        "import pandas as pd\n",
        "conn = sqlite3.connect('./databases/nba.db')\n",
        "conn.execute(\"\"\"ATTACH './databases/covid19.db' AS covid19\"\"\")\n",
        "conn.execute(\"\"\"ATTACH './databases/twElection2020.db' AS twElection2020\"\"\")\n",
        "conn.execute(\"\"\"ATTACH './databases/imdb.db' AS imdb\"\"\")"
      ]
    },
    {
      "cell_type": "code",
      "source": [
        "%load_ext sql"
      ],
      "metadata": {
        "id": "vLAGRoijcSb0",
        "outputId": "eeb8c89e-1d1d-47ea-f534-f5d50ff77603",
        "colab": {
          "base_uri": "https://localhost:8080/"
        }
      },
      "execution_count": 47,
      "outputs": [
        {
          "output_type": "stream",
          "name": "stdout",
          "text": [
            "The sql extension is already loaded. To reload it, use:\n",
            "  %reload_ext sql\n"
          ]
        }
      ]
    },
    {
      "cell_type": "code",
      "source": [
        "%sql sqlite:///./databases/nba.db\n",
        "%sql ATTACH './databases/covid19.db' AS covid19\n",
        "%sql ATTACH './databases/twElection2020.db' AS twElection2020\n",
        "%sql ATTACH './databases/imdb.db' AS imdb"
      ],
      "metadata": {
        "id": "gCsaniX2cz6Z",
        "outputId": "fc1c55e3-94d1-4493-8b39-70bbbbbf40ad",
        "colab": {
          "base_uri": "https://localhost:8080/"
        }
      },
      "execution_count": 48,
      "outputs": [
        {
          "output_type": "stream",
          "name": "stdout",
          "text": [
            " * sqlite:///./databases/nba.db\n",
            "(sqlite3.OperationalError) database covid19 is already in use\n",
            "[SQL: ATTACH './databases/covid19.db' AS covid19]\n",
            "(Background on this error at: https://sqlalche.me/e/20/e3q8)\n",
            " * sqlite:///./databases/nba.db\n",
            "(sqlite3.OperationalError) database twElection2020 is already in use\n",
            "[SQL: ATTACH './databases/twElection2020.db' AS twElection2020]\n",
            "(Background on this error at: https://sqlalche.me/e/20/e3q8)\n",
            " * sqlite:///./databases/nba.db\n",
            "(sqlite3.OperationalError) database imdb is already in use\n",
            "[SQL: ATTACH './databases/imdb.db' AS imdb]\n",
            "(Background on this error at: https://sqlalche.me/e/20/e3q8)\n"
          ]
        }
      ]
    },
    {
      "cell_type": "markdown",
      "metadata": {
        "id": "NcRqrHQLbSHz"
      },
      "source": [
        "## 01. 從 `twElection2020` 資料庫的 `admin_regions` 資料表選擇所有變數，並且使用 `LIMIT 5` 顯示前五列資料，參考下列的預期查詢結果。\n",
        "\n",
        "- 預期輸入：SQL 查詢語法。\n",
        "- 預期輸出：(5, 4) 的查詢結果。\n",
        "\n",
        "```\n",
        "   id county town village\n",
        "0   1    南投縣  中寮鄉     中寮村\n",
        "1   2    南投縣  中寮鄉     內城村\n",
        "2   3    南投縣  中寮鄉     八仙村\n",
        "3   4    南投縣  中寮鄉     和興村\n",
        "4   5    南投縣  中寮鄉     崁頂村\n",
        "```"
      ]
    },
    {
      "cell_type": "code",
      "source": [
        "%%sql\n",
        "SELECT * FROM twElection2020.admin_regions"
      ],
      "metadata": {
        "id": "xcT1w16Pdt_4"
      },
      "execution_count": null,
      "outputs": []
    },
    {
      "cell_type": "code",
      "source": [
        "pd.read_sql(\"SELECT * FROM twElection2020.admin_regions\", conn)"
      ],
      "metadata": {
        "id": "Eg5WdV6KexYV"
      },
      "execution_count": null,
      "outputs": []
    },
    {
      "cell_type": "code",
      "execution_count": 24,
      "metadata": {
        "id": "LCG6x8WnbSHz"
      },
      "outputs": [],
      "source": [
        "select_all_from_admin_regions =\\\n",
        "\"\"\"\n",
        "-- SQL 查詢語法起點\n",
        "\n",
        "-- SQL 查詢語法終點\n",
        "\"\"\""
      ]
    },
    {
      "cell_type": "markdown",
      "metadata": {
        "id": "07YgCxZjbSHz"
      },
      "source": [
        "## 02. 從 `nba` 資料庫的球隊資料表 `teams` 中選擇 `confName`、`divName`、`fullName` 三個欄位，並且使用 `LIMIT 10` 顯示前十列資料，參考下列預期的查詢結果。\n",
        "\n",
        "- 預期輸入：SQL 查詢語法。\n",
        "- 預期輸出：(10, 3) 的查詢結果。\n",
        "\n",
        "```\n",
        "  confName    divName               fullName\n",
        "0     East  Southeast          Atlanta Hawks\n",
        "1     East   Atlantic         Boston Celtics\n",
        "2     East    Central    Cleveland Cavaliers\n",
        "3     West  Southwest   New Orleans Pelicans\n",
        "4     East    Central          Chicago Bulls\n",
        "5     West  Southwest       Dallas Mavericks\n",
        "6     West  Northwest         Denver Nuggets\n",
        "7     West    Pacific  Golden State Warriors\n",
        "8     West  Southwest        Houston Rockets\n",
        "9     West    Pacific            LA Clippers\n",
        "```"
      ]
    },
    {
      "cell_type": "code",
      "source": [
        "%%sql\n",
        "SELECT * FROM teams limit 10"
      ],
      "metadata": {
        "id": "FOzXpuHUgydP"
      },
      "execution_count": null,
      "outputs": []
    },
    {
      "cell_type": "code",
      "source": [
        "pd.read_sql(\"SELECT * FROM teams limit 10\", conn)"
      ],
      "metadata": {
        "id": "L6dYyzSxfdjG"
      },
      "execution_count": null,
      "outputs": []
    },
    {
      "cell_type": "code",
      "execution_count": 54,
      "metadata": {
        "id": "kiXZLpLObSHz"
      },
      "outputs": [],
      "source": [
        "select_variables_from_teams =\\\n",
        "\"\"\"\n",
        "-- SQL 查詢語法起點\n",
        "\n",
        "-- SQL 查詢語法終點\n",
        "\"\"\""
      ]
    },
    {
      "cell_type": "markdown",
      "metadata": {
        "id": "e4WTfdNgbSHz"
      },
      "source": [
        "## 03. 從 `nba` 資料庫的球員資料表 `players` 中選擇 `firstName`、`lastName` 兩個變數，並依序取別名為 `first_name`、`last_name`，使用 `LIMIT 5` 顯示前五列資料，參考下列預期的查詢結果。\n",
        "\n",
        "- 預期輸入：SQL 查詢語法。\n",
        "- 預期輸出：(5, 2) 的查詢結果。\n",
        "\n",
        "```\n",
        "  first_name last_name\n",
        "0     LeBron     James\n",
        "1    Carmelo   Anthony\n",
        "2     Udonis    Haslem\n",
        "3     Dwight    Howard\n",
        "4      Andre  Iguodala\n",
        "```"
      ]
    },
    {
      "cell_type": "code",
      "execution_count": null,
      "metadata": {
        "id": "NNkZb2RVbSH0"
      },
      "outputs": [],
      "source": [
        "select_variables_as_from_players =\\\n",
        "\"\"\"\n",
        "-- SQL 查詢語法起點\n",
        "\n",
        "-- SQL 查詢語法終點\n",
        "\"\"\""
      ]
    },
    {
      "cell_type": "markdown",
      "metadata": {
        "id": "p9lGqidobSH0"
      },
      "source": [
        "## 04. 從 `twElection2020` 資料庫的 `admin_regions` 資料表選擇「不重複」的縣市（`county`），參考下列的預期查詢結果。\n",
        "\n",
        "- 預期輸入：SQL 查詢語法。\n",
        "- 預期輸出：(22, 1) 的查詢結果。\n",
        "\n",
        "```\n",
        "   distinct_counties\n",
        "0                南投縣\n",
        "1                嘉義市\n",
        "2                嘉義縣\n",
        "3                基隆市\n",
        "4                宜蘭縣\n",
        "5                屏東縣\n",
        "6                彰化縣\n",
        "7                新北市\n",
        "8                新竹市\n",
        "9                新竹縣\n",
        "10               桃園市\n",
        "11               澎湖縣\n",
        "12               臺中市\n",
        "13               臺北市\n",
        "14               臺南市\n",
        "15               臺東縣\n",
        "16               花蓮縣\n",
        "17               苗栗縣\n",
        "18               連江縣\n",
        "19               金門縣\n",
        "20               雲林縣\n",
        "21               高雄市\n",
        "```"
      ]
    },
    {
      "cell_type": "code",
      "execution_count": null,
      "metadata": {
        "id": "EeqkSsMZbSH0"
      },
      "outputs": [],
      "source": [
        "select_distinct_county_from_admin_regions =\\\n",
        "\"\"\"\n",
        "-- SQL 查詢語法起點\n",
        "\n",
        "-- SQL 查詢語法終點\n",
        "\"\"\""
      ]
    },
    {
      "cell_type": "markdown",
      "metadata": {
        "id": "1ubfupyNbSH0"
      },
      "source": [
        "## 05. 從 `nba` 資料庫的 `teams` 資料表選擇「不重複」的分組（`divName`），參考下列的預期查詢結果。\n",
        "\n",
        "- 預期輸入：SQL 查詢語法。\n",
        "- 預期輸出：(6, 1) 的查詢結果。\n",
        "\n",
        "```\n",
        "  distinct_divisions\n",
        "0          Southeast\n",
        "1           Atlantic\n",
        "2            Central\n",
        "3          Southwest\n",
        "4          Northwest\n",
        "5            Pacific\n",
        "```"
      ]
    },
    {
      "cell_type": "code",
      "execution_count": null,
      "metadata": {
        "id": "18tVnH4ibSH0"
      },
      "outputs": [],
      "source": [
        "select_distinct_division_from_teams =\\\n",
        "\"\"\"\n",
        "-- SQL 查詢語法起點\n",
        "\n",
        "-- SQL 查詢語法終點\n",
        "\"\"\""
      ]
    },
    {
      "cell_type": "markdown",
      "metadata": {
        "deletable": false,
        "id": "2E47sO6RbSH0"
      },
      "source": [
        "## 執行測試！\n",
        "\n",
        "Runtime -> Restart and run all -> Yes -> Run anyway."
      ]
    },
    {
      "cell_type": "code",
      "execution_count": null,
      "metadata": {
        "deletable": false,
        "cellView": "form",
        "id": "Fk2MrUtKbSH0"
      },
      "outputs": [],
      "source": [
        "# @title\n",
        "class TestSelectFrom(unittest.TestCase):\n",
        "    def test_01_select_all_from_admin_regions(self):\n",
        "        all_from_admin_regions = pd.read_sql(select_all_from_admin_regions, conn)\n",
        "        self.assertEqual(all_from_admin_regions.shape, (5, 4))\n",
        "    def test_02_select_variables_from_teams(self):\n",
        "        variables_from_teams = pd.read_sql(select_variables_from_teams, conn)\n",
        "        self.assertEqual(variables_from_teams.shape, (10, 3))\n",
        "        np.testing.assert_equal(variables_from_teams.columns.values,\n",
        "                               np.array(['confName', 'divName', 'fullName']))\n",
        "    def test_03_select_variables_as_from_players(self):\n",
        "        variables_as_from_players = pd.read_sql(select_variables_as_from_players, conn)\n",
        "        self.assertEqual(variables_as_from_players.shape, (5, 2))\n",
        "        np.testing.assert_equal(variables_as_from_players.columns.values,\n",
        "                               np.array(['first_name', 'last_name']))\n",
        "    def test_04_select_distinct_county_from_admin_regions(self):\n",
        "        distinct_county_from_admin_regions = pd.read_sql(select_distinct_county_from_admin_regions, conn)\n",
        "        self.assertEqual(distinct_county_from_admin_regions.shape, (22, 1))\n",
        "    def test_05_select_distinct_division_from_teams(self):\n",
        "        distinct_division_from_teams = pd.read_sql(select_distinct_division_from_teams, conn)\n",
        "        self.assertEqual(distinct_division_from_teams.shape, (6, 1))\n",
        "\n",
        "suite = unittest.TestLoader().loadTestsFromTestCase(TestSelectFrom)\n",
        "runner = unittest.TextTestRunner(verbosity=2)\n",
        "test_results = runner.run(suite)\n",
        "number_of_failures = len(test_results.failures)\n",
        "number_of_errors = len(test_results.errors)\n",
        "number_of_test_runs = test_results.testsRun\n",
        "number_of_successes = number_of_test_runs - (number_of_failures + number_of_errors)\n",
        "#cwd = os.getcwd()\n",
        "folder_name = \"03-select-from\"\n",
        "with open(\"exercise_index.json\", \"r\") as content:\n",
        "    exercise_index = json.load(content)\n",
        "chapter_name = exercise_index[folder_name]"
      ]
    },
    {
      "cell_type": "code",
      "execution_count": null,
      "metadata": {
        "deletable": false,
        "editable": false,
        "cellView": "form",
        "id": "2qrThLnnbSH0"
      },
      "outputs": [],
      "source": [
        "# @title\n",
        "print(\"您在「{}」章節中的 {} 道 SQL 練習答對了 {} 題。\".format(chapter_name, number_of_test_runs, number_of_successes))"
      ]
    }
  ],
  "metadata": {
    "celltoolbar": "Edit Metadata",
    "kernelspec": {
      "display_name": "Python 3 (ipykernel)",
      "language": "python",
      "name": "python3"
    },
    "language_info": {
      "codemirror_mode": {
        "name": "ipython",
        "version": 3
      },
      "file_extension": ".py",
      "mimetype": "text/x-python",
      "name": "python",
      "nbconvert_exporter": "python",
      "pygments_lexer": "ipython3",
      "version": "3.9.5"
    },
    "colab": {
      "provenance": [],
      "include_colab_link": true
    }
  },
  "nbformat": 4,
  "nbformat_minor": 0
}