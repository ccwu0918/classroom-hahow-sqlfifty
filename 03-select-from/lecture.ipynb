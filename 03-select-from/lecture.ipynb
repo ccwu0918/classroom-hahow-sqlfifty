{
  "cells": [
    {
      "cell_type": "markdown",
      "metadata": {
        "id": "view-in-github",
        "colab_type": "text"
      },
      "source": [
        "<a href=\"https://colab.research.google.com/github/ccwu0918/classroom-hahow-sqlfifty/blob/main/03-select-from/lecture.ipynb\" target=\"_parent\"><img src=\"https://colab.research.google.com/assets/colab-badge.svg\" alt=\"Open In Colab\"/></a>"
      ]
    },
    {
      "cell_type": "markdown",
      "id": "lightweight-fruit",
      "metadata": {
        "id": "lightweight-fruit"
      },
      "source": [
        "# SQL 的五十道練習\n",
        "\n",
        "> 從資料表選擇\n",
        "\n",
        "[數據交點](https://www.datainpoint.com/) | 郭耀仁 <yaojenkuo@datainpoint.com>"
      ]
    },
    {
      "cell_type": "markdown",
      "id": "increasing-attempt",
      "metadata": {
        "id": "increasing-attempt"
      },
      "source": [
        "## 這個章節要學起來的 SQL 保留字\n",
        "\n",
        "- `SELECT`\n",
        "- `FROM`\n",
        "- `LIMIT`\n",
        "- `AS`\n",
        "- `DISTINCT`"
      ]
    },
    {
      "cell_type": "code",
      "source": [
        "!git clone https://github.com/ccwu0918/classroom-hahow-sqlfifty.git"
      ],
      "metadata": {
        "id": "qgukXNA0jS00",
        "outputId": "b50072b9-2c41-4f22-e5f9-fc28511f10bd",
        "colab": {
          "base_uri": "https://localhost:8080/"
        }
      },
      "id": "qgukXNA0jS00",
      "execution_count": 1,
      "outputs": [
        {
          "output_type": "stream",
          "name": "stdout",
          "text": [
            "Cloning into 'classroom-hahow-sqlfifty'...\n",
            "remote: Enumerating objects: 911, done.\u001b[K\n",
            "remote: Counting objects: 100% (162/162), done.\u001b[K\n",
            "remote: Compressing objects: 100% (132/132), done.\u001b[K\n",
            "remote: Total 911 (delta 86), reused 70 (delta 29), pack-reused 749\u001b[K\n",
            "Receiving objects: 100% (911/911), 68.98 MiB | 10.73 MiB/s, done.\n",
            "Resolving deltas: 100% (578/578), done.\n",
            "Updating files: 100% (130/130), done.\n"
          ]
        }
      ]
    },
    {
      "cell_type": "code",
      "source": [
        "%cd classroom-hahow-sqlfifty"
      ],
      "metadata": {
        "id": "OJOtPKkvjatM",
        "outputId": "48b31264-5379-43f5-e150-234085eb2234",
        "colab": {
          "base_uri": "https://localhost:8080/"
        }
      },
      "id": "OJOtPKkvjatM",
      "execution_count": 2,
      "outputs": [
        {
          "output_type": "stream",
          "name": "stdout",
          "text": [
            "/content/classroom-hahow-sqlfifty\n"
          ]
        }
      ]
    },
    {
      "cell_type": "code",
      "source": [
        "%load_ext sql"
      ],
      "metadata": {
        "id": "gUrTn0JkjdJY"
      },
      "id": "gUrTn0JkjdJY",
      "execution_count": 3,
      "outputs": []
    },
    {
      "cell_type": "code",
      "source": [
        "%sql sqlite:///./databases/imdb.db\n",
        "%sql ATTACH './databases/covid19.db' AS covid19\n",
        "%sql ATTACH './databases/twElection2020.db' AS twElection2020\n",
        "%sql ATTACH './databases/nba.db' AS nba"
      ],
      "metadata": {
        "id": "Qa7_DFVKjhKc",
        "outputId": "66278f0f-0194-4456-b656-4149754d90d8",
        "colab": {
          "base_uri": "https://localhost:8080/"
        }
      },
      "id": "Qa7_DFVKjhKc",
      "execution_count": 5,
      "outputs": [
        {
          "output_type": "stream",
          "name": "stdout",
          "text": [
            " * sqlite:///./databases/imdb.db\n",
            "Done.\n",
            " * sqlite:///./databases/imdb.db\n",
            "Done.\n",
            " * sqlite:///./databases/imdb.db\n",
            "Done.\n"
          ]
        },
        {
          "output_type": "execute_result",
          "data": {
            "text/plain": [
              "[]"
            ]
          },
          "metadata": {},
          "execution_count": 5
        }
      ]
    },
    {
      "cell_type": "markdown",
      "id": "supposed-spread",
      "metadata": {
        "id": "supposed-spread"
      },
      "source": [
        "## 以 `SELECT` 與 `FROM` 從資料表選擇"
      ]
    },
    {
      "cell_type": "markdown",
      "id": "threaded-police",
      "metadata": {
        "id": "threaded-police"
      },
      "source": [
        "## 回憶一下「哈囉資料庫」SQL"
      ]
    },
    {
      "cell_type": "code",
      "execution_count": 8,
      "id": "wired-consciousness",
      "metadata": {
        "id": "wired-consciousness",
        "outputId": "ac37cd0a-3d68-4773-e735-07f9b0974e80",
        "colab": {
          "base_uri": "https://localhost:8080/",
          "height": 182
        }
      },
      "outputs": [
        {
          "output_type": "stream",
          "name": "stdout",
          "text": [
            " * sqlite:///./databases/imdb.db\n",
            "Done.\n"
          ]
        },
        {
          "output_type": "execute_result",
          "data": {
            "text/plain": [
              "[(1, 'The Shawshank Redemption', 1994, 9.3, 'Frank Darabont', 142),\n",
              " (2, 'The Godfather', 1972, 9.2, 'Francis Ford Coppola', 175),\n",
              " (3, 'The Godfather: Part II', 1974, 9.0, 'Francis Ford Coppola', 202),\n",
              " (4, 'The Dark Knight', 2008, 9.0, 'Christopher Nolan', 152),\n",
              " (5, '12 Angry Men', 1957, 9.0, 'Sidney Lumet', 96)]"
            ],
            "text/html": [
              "<table>\n",
              "    <thead>\n",
              "        <tr>\n",
              "            <th>id</th>\n",
              "            <th>title</th>\n",
              "            <th>release_year</th>\n",
              "            <th>rating</th>\n",
              "            <th>director</th>\n",
              "            <th>runtime</th>\n",
              "        </tr>\n",
              "    </thead>\n",
              "    <tbody>\n",
              "        <tr>\n",
              "            <td>1</td>\n",
              "            <td>The Shawshank Redemption</td>\n",
              "            <td>1994</td>\n",
              "            <td>9.3</td>\n",
              "            <td>Frank Darabont</td>\n",
              "            <td>142</td>\n",
              "        </tr>\n",
              "        <tr>\n",
              "            <td>2</td>\n",
              "            <td>The Godfather</td>\n",
              "            <td>1972</td>\n",
              "            <td>9.2</td>\n",
              "            <td>Francis Ford Coppola</td>\n",
              "            <td>175</td>\n",
              "        </tr>\n",
              "        <tr>\n",
              "            <td>3</td>\n",
              "            <td>The Godfather: Part II</td>\n",
              "            <td>1974</td>\n",
              "            <td>9.0</td>\n",
              "            <td>Francis Ford Coppola</td>\n",
              "            <td>202</td>\n",
              "        </tr>\n",
              "        <tr>\n",
              "            <td>4</td>\n",
              "            <td>The Dark Knight</td>\n",
              "            <td>2008</td>\n",
              "            <td>9.0</td>\n",
              "            <td>Christopher Nolan</td>\n",
              "            <td>152</td>\n",
              "        </tr>\n",
              "        <tr>\n",
              "            <td>5</td>\n",
              "            <td>12 Angry Men</td>\n",
              "            <td>1957</td>\n",
              "            <td>9.0</td>\n",
              "            <td>Sidney Lumet</td>\n",
              "            <td>96</td>\n",
              "        </tr>\n",
              "    </tbody>\n",
              "</table>"
            ]
          },
          "metadata": {},
          "execution_count": 8
        }
      ],
      "source": [
        "%%sql\n",
        "SELECT *\n",
        "  FROM movies\n",
        " LIMIT 5;"
      ]
    },
    {
      "cell_type": "markdown",
      "id": "lasting-fantasy",
      "metadata": {
        "id": "lasting-fantasy"
      },
      "source": [
        "## `SELECT`、`FROM` 與 `LIMIT`\n",
        "\n",
        "- `SELECT` 是「選擇」欄位。\n",
        "- `FROM` 是指定「從」哪個資料表查詢資料。\n",
        "- `LIMIT` 是讓資料查詢結果顯示指定的前幾列。\n",
        "- `*` 表示「所有」。\n",
        "- `;` 表示一段 SQL 的結束。"
      ]
    },
    {
      "cell_type": "markdown",
      "id": "compound-combining",
      "metadata": {
        "id": "compound-combining"
      },
      "source": [
        "## 儲存在資料庫中的資料表是有兩個維度的資料結構\n",
        "\n",
        "- 第一個維度稱為觀測值（Observations），有時亦稱為列（Rows）。\n",
        "- 第二個維度稱為變數（Variables），有時亦稱為欄（Columns）。"
      ]
    },
    {
      "cell_type": "markdown",
      "id": "compressed-experience",
      "metadata": {
        "id": "compressed-experience"
      },
      "source": [
        "## 如何描述一個資料表的外觀\n",
        "\n",
        "我們習慣以 `(m, n)` 或者 `m x n` 來描述一個具有 `m` 列觀測值、`n` 欄變數的資料表（或者資料查詢結果）。\n",
        "\n",
        "![tidy-data](https://github.com/ccwu0918/classroom-hahow-sqlfifty/blob/main/03-select-from/tidy-data.png?raw=1)\n",
        "\n",
        "Source: <https://www.rstudio.com/resources/cheatsheets>"
      ]
    },
    {
      "cell_type": "markdown",
      "id": "sophisticated-functionality",
      "metadata": {
        "id": "sophisticated-functionality"
      },
      "source": [
        "## 「哈囉資料庫」SQL 資料查詢結果的外觀為 `(5, 6)` 或者 `5 x 6`"
      ]
    },
    {
      "cell_type": "code",
      "execution_count": 9,
      "id": "trying-playing",
      "metadata": {
        "id": "trying-playing",
        "outputId": "48e09595-ee0b-4d36-da4a-1e51d447748f",
        "colab": {
          "base_uri": "https://localhost:8080/",
          "height": 182
        }
      },
      "outputs": [
        {
          "output_type": "stream",
          "name": "stdout",
          "text": [
            " * sqlite:///./databases/imdb.db\n",
            "Done.\n"
          ]
        },
        {
          "output_type": "execute_result",
          "data": {
            "text/plain": [
              "[(1, 'The Shawshank Redemption', 1994, 9.3, 'Frank Darabont', 142),\n",
              " (2, 'The Godfather', 1972, 9.2, 'Francis Ford Coppola', 175),\n",
              " (3, 'The Godfather: Part II', 1974, 9.0, 'Francis Ford Coppola', 202),\n",
              " (4, 'The Dark Knight', 2008, 9.0, 'Christopher Nolan', 152),\n",
              " (5, '12 Angry Men', 1957, 9.0, 'Sidney Lumet', 96)]"
            ],
            "text/html": [
              "<table>\n",
              "    <thead>\n",
              "        <tr>\n",
              "            <th>id</th>\n",
              "            <th>title</th>\n",
              "            <th>release_year</th>\n",
              "            <th>rating</th>\n",
              "            <th>director</th>\n",
              "            <th>runtime</th>\n",
              "        </tr>\n",
              "    </thead>\n",
              "    <tbody>\n",
              "        <tr>\n",
              "            <td>1</td>\n",
              "            <td>The Shawshank Redemption</td>\n",
              "            <td>1994</td>\n",
              "            <td>9.3</td>\n",
              "            <td>Frank Darabont</td>\n",
              "            <td>142</td>\n",
              "        </tr>\n",
              "        <tr>\n",
              "            <td>2</td>\n",
              "            <td>The Godfather</td>\n",
              "            <td>1972</td>\n",
              "            <td>9.2</td>\n",
              "            <td>Francis Ford Coppola</td>\n",
              "            <td>175</td>\n",
              "        </tr>\n",
              "        <tr>\n",
              "            <td>3</td>\n",
              "            <td>The Godfather: Part II</td>\n",
              "            <td>1974</td>\n",
              "            <td>9.0</td>\n",
              "            <td>Francis Ford Coppola</td>\n",
              "            <td>202</td>\n",
              "        </tr>\n",
              "        <tr>\n",
              "            <td>4</td>\n",
              "            <td>The Dark Knight</td>\n",
              "            <td>2008</td>\n",
              "            <td>9.0</td>\n",
              "            <td>Christopher Nolan</td>\n",
              "            <td>152</td>\n",
              "        </tr>\n",
              "        <tr>\n",
              "            <td>5</td>\n",
              "            <td>12 Angry Men</td>\n",
              "            <td>1957</td>\n",
              "            <td>9.0</td>\n",
              "            <td>Sidney Lumet</td>\n",
              "            <td>96</td>\n",
              "        </tr>\n",
              "    </tbody>\n",
              "</table>"
            ]
          },
          "metadata": {},
          "execution_count": 9
        }
      ],
      "source": [
        "%%sql\n",
        "SELECT *\n",
        "  FROM movies\n",
        " LIMIT 5;"
      ]
    },
    {
      "cell_type": "markdown",
      "id": "engaging-sustainability",
      "metadata": {
        "id": "engaging-sustainability"
      },
      "source": [
        "## 在 `SELECT` 後加入欄位的名稱表示查詢結果只選擇指定欄位\n",
        "\n",
        "![select](https://github.com/ccwu0918/classroom-hahow-sqlfifty/blob/main/03-select-from/select.png?raw=1)"
      ]
    },
    {
      "cell_type": "code",
      "execution_count": 11,
      "id": "checked-student",
      "metadata": {
        "id": "checked-student",
        "outputId": "e93a9503-ac38-429b-a827-662701a913ba",
        "colab": {
          "base_uri": "https://localhost:8080/",
          "height": 110
        }
      },
      "outputs": [
        {
          "output_type": "error",
          "ename": "IndentationError",
          "evalue": "unindent does not match any outer indentation level (<tokenize>, line 3)",
          "traceback": [
            "\u001b[0;36m  File \u001b[0;32m\"<tokenize>\"\u001b[0;36m, line \u001b[0;32m3\u001b[0m\n\u001b[0;31m    LIMIT 5;\u001b[0m\n\u001b[0m    ^\u001b[0m\n\u001b[0;31mIndentationError\u001b[0m\u001b[0;31m:\u001b[0m unindent does not match any outer indentation level\n"
          ]
        }
      ],
      "source": [
        "SELECT title\n",
        "  FROM movies\n",
        " LIMIT 5;"
      ]
    },
    {
      "cell_type": "markdown",
      "id": "gross-parameter",
      "metadata": {
        "id": "gross-parameter"
      },
      "source": [
        "## 若想指定多個欄位，就用逗號 `,` 將多個欄位名稱隔開"
      ]
    },
    {
      "cell_type": "code",
      "execution_count": 12,
      "id": "southeast-prize",
      "metadata": {
        "id": "southeast-prize",
        "outputId": "94abf779-9e27-4ee9-f463-f2b2f58b21bf",
        "colab": {
          "base_uri": "https://localhost:8080/",
          "height": 182
        }
      },
      "outputs": [
        {
          "output_type": "stream",
          "name": "stdout",
          "text": [
            " * sqlite:///./databases/imdb.db\n",
            "Done.\n"
          ]
        },
        {
          "output_type": "execute_result",
          "data": {
            "text/plain": [
              "[('The Shawshank Redemption', 1994, 9.3),\n",
              " ('The Godfather', 1972, 9.2),\n",
              " ('The Godfather: Part II', 1974, 9.0),\n",
              " ('The Dark Knight', 2008, 9.0),\n",
              " ('12 Angry Men', 1957, 9.0)]"
            ],
            "text/html": [
              "<table>\n",
              "    <thead>\n",
              "        <tr>\n",
              "            <th>title</th>\n",
              "            <th>release_year</th>\n",
              "            <th>rating</th>\n",
              "        </tr>\n",
              "    </thead>\n",
              "    <tbody>\n",
              "        <tr>\n",
              "            <td>The Shawshank Redemption</td>\n",
              "            <td>1994</td>\n",
              "            <td>9.3</td>\n",
              "        </tr>\n",
              "        <tr>\n",
              "            <td>The Godfather</td>\n",
              "            <td>1972</td>\n",
              "            <td>9.2</td>\n",
              "        </tr>\n",
              "        <tr>\n",
              "            <td>The Godfather: Part II</td>\n",
              "            <td>1974</td>\n",
              "            <td>9.0</td>\n",
              "        </tr>\n",
              "        <tr>\n",
              "            <td>The Dark Knight</td>\n",
              "            <td>2008</td>\n",
              "            <td>9.0</td>\n",
              "        </tr>\n",
              "        <tr>\n",
              "            <td>12 Angry Men</td>\n",
              "            <td>1957</td>\n",
              "            <td>9.0</td>\n",
              "        </tr>\n",
              "    </tbody>\n",
              "</table>"
            ]
          },
          "metadata": {},
          "execution_count": 12
        }
      ],
      "source": [
        "%%sql\n",
        "SELECT title,\n",
        "       release_year,\n",
        "       rating\n",
        "  FROM movies\n",
        " LIMIT 5;"
      ]
    },
    {
      "cell_type": "markdown",
      "id": "extensive-engagement",
      "metadata": {
        "id": "extensive-engagement"
      },
      "source": [
        "## 注意事項\n",
        "\n",
        "- 保留字大小寫不會影響執行結果的對錯。\n",
        "- 寫作一段 SQL 可以單行或者換行並搭配縮排。"
      ]
    },
    {
      "cell_type": "markdown",
      "id": "gentle-archive",
      "metadata": {
        "id": "gentle-archive"
      },
      "source": [
        "## SQL 中的保留字大小寫不會影響執行結果的對錯， 但是我推薦採用「全大寫」的風格"
      ]
    },
    {
      "cell_type": "code",
      "execution_count": 15,
      "id": "czech-arena",
      "metadata": {
        "id": "czech-arena",
        "outputId": "71c804da-e2cf-435f-d956-017cda76e195",
        "colab": {
          "base_uri": "https://localhost:8080/",
          "height": 182
        }
      },
      "outputs": [
        {
          "output_type": "stream",
          "name": "stdout",
          "text": [
            " * sqlite:///./databases/imdb.db\n",
            "Done.\n"
          ]
        },
        {
          "output_type": "execute_result",
          "data": {
            "text/plain": [
              "[('The Shawshank Redemption', 1994, 9.3),\n",
              " ('The Godfather', 1972, 9.2),\n",
              " ('The Godfather: Part II', 1974, 9.0),\n",
              " ('The Dark Knight', 2008, 9.0),\n",
              " ('12 Angry Men', 1957, 9.0)]"
            ],
            "text/html": [
              "<table>\n",
              "    <thead>\n",
              "        <tr>\n",
              "            <th>title</th>\n",
              "            <th>release_year</th>\n",
              "            <th>rating</th>\n",
              "        </tr>\n",
              "    </thead>\n",
              "    <tbody>\n",
              "        <tr>\n",
              "            <td>The Shawshank Redemption</td>\n",
              "            <td>1994</td>\n",
              "            <td>9.3</td>\n",
              "        </tr>\n",
              "        <tr>\n",
              "            <td>The Godfather</td>\n",
              "            <td>1972</td>\n",
              "            <td>9.2</td>\n",
              "        </tr>\n",
              "        <tr>\n",
              "            <td>The Godfather: Part II</td>\n",
              "            <td>1974</td>\n",
              "            <td>9.0</td>\n",
              "        </tr>\n",
              "        <tr>\n",
              "            <td>The Dark Knight</td>\n",
              "            <td>2008</td>\n",
              "            <td>9.0</td>\n",
              "        </tr>\n",
              "        <tr>\n",
              "            <td>12 Angry Men</td>\n",
              "            <td>1957</td>\n",
              "            <td>9.0</td>\n",
              "        </tr>\n",
              "    </tbody>\n",
              "</table>"
            ]
          },
          "metadata": {},
          "execution_count": 15
        }
      ],
      "source": [
        "%%sql\n",
        "SELECT title,\n",
        "       release_year,\n",
        "       rating\n",
        "  FROM movies\n",
        " LIMIT 5;"
      ]
    },
    {
      "cell_type": "markdown",
      "id": "manual-worse",
      "metadata": {
        "id": "manual-worse"
      },
      "source": [
        "## 寫作一段 SQL 可以單行或者換行，但是我推薦採用「換行並靠右對齊縮排」的風格"
      ]
    },
    {
      "cell_type": "code",
      "execution_count": 16,
      "id": "wooden-baptist",
      "metadata": {
        "id": "wooden-baptist",
        "outputId": "0b0a6abc-bc24-4c64-e0ec-4ba0b67bcd36",
        "colab": {
          "base_uri": "https://localhost:8080/",
          "height": 182
        }
      },
      "outputs": [
        {
          "output_type": "stream",
          "name": "stdout",
          "text": [
            " * sqlite:///./databases/imdb.db\n",
            "Done.\n"
          ]
        },
        {
          "output_type": "execute_result",
          "data": {
            "text/plain": [
              "[('The Shawshank Redemption', 1994, 9.3),\n",
              " ('The Godfather', 1972, 9.2),\n",
              " ('The Godfather: Part II', 1974, 9.0),\n",
              " ('The Dark Knight', 2008, 9.0),\n",
              " ('12 Angry Men', 1957, 9.0)]"
            ],
            "text/html": [
              "<table>\n",
              "    <thead>\n",
              "        <tr>\n",
              "            <th>title</th>\n",
              "            <th>release_year</th>\n",
              "            <th>rating</th>\n",
              "        </tr>\n",
              "    </thead>\n",
              "    <tbody>\n",
              "        <tr>\n",
              "            <td>The Shawshank Redemption</td>\n",
              "            <td>1994</td>\n",
              "            <td>9.3</td>\n",
              "        </tr>\n",
              "        <tr>\n",
              "            <td>The Godfather</td>\n",
              "            <td>1972</td>\n",
              "            <td>9.2</td>\n",
              "        </tr>\n",
              "        <tr>\n",
              "            <td>The Godfather: Part II</td>\n",
              "            <td>1974</td>\n",
              "            <td>9.0</td>\n",
              "        </tr>\n",
              "        <tr>\n",
              "            <td>The Dark Knight</td>\n",
              "            <td>2008</td>\n",
              "            <td>9.0</td>\n",
              "        </tr>\n",
              "        <tr>\n",
              "            <td>12 Angry Men</td>\n",
              "            <td>1957</td>\n",
              "            <td>9.0</td>\n",
              "        </tr>\n",
              "    </tbody>\n",
              "</table>"
            ]
          },
          "metadata": {},
          "execution_count": 16
        }
      ],
      "source": [
        "%%sql\n",
        "SELECT title,\n",
        "       release_year,\n",
        "       rating\n",
        "  FROM movies\n",
        " LIMIT 5;"
      ]
    },
    {
      "cell_type": "markdown",
      "id": "covered-object",
      "metadata": {
        "id": "covered-object"
      },
      "source": [
        "## 之所以推薦特定的寫作風格，是因為我遵從了 Simon Holywell 所寫的 SQL 風格指南\n",
        "\n",
        "[SQL Style Guide by Simon Holywell](https://www.sqlstyle.guide/zh-tw/)"
      ]
    },
    {
      "cell_type": "markdown",
      "id": "allied-unemployment",
      "metadata": {
        "id": "allied-unemployment"
      },
      "source": [
        "## 其他 SQL 風格指南\n",
        "\n",
        "- [SQL Style Guide by GitLab](https://about.gitlab.com/handbook/business-technology/data-team/platform/sql-style-guide/)\n",
        "- [SQL Style Guide by Mozilla](https://docs.telemetry.mozilla.org/concepts/sql_style.html)\n",
        "- ...etc."
      ]
    },
    {
      "cell_type": "markdown",
      "id": "thorough-reward",
      "metadata": {
        "id": "thorough-reward"
      },
      "source": [
        "## 在 SQL 中添加註解"
      ]
    },
    {
      "cell_type": "markdown",
      "id": "nearby-slide",
      "metadata": {
        "id": "nearby-slide"
      },
      "source": [
        "## 寫作 SQL 時我們會在段落中添加註解，有兩種常用的註解形式\n",
        "\n",
        "1. 單行註解\n",
        "\n",
        "```sql\n",
        "-- comments\n",
        "```\n",
        "\n",
        "2. 多行註解\n",
        "\n",
        "```sql\n",
        "/*\n",
        "...comments\n",
        "...comments\n",
        "...comments\n",
        "*/\n",
        "```"
      ]
    },
    {
      "cell_type": "markdown",
      "id": "female-runner",
      "metadata": {
        "id": "female-runner"
      },
      "source": [
        "## 使用兩個減號 `--` 添加單行註解"
      ]
    },
    {
      "cell_type": "code",
      "execution_count": 17,
      "id": "rough-weekly",
      "metadata": {
        "id": "rough-weekly",
        "outputId": "8a622f33-627c-4e47-f12b-9bdd0d26e4b5",
        "colab": {
          "base_uri": "https://localhost:8080/",
          "height": 140
        }
      },
      "outputs": [
        {
          "output_type": "stream",
          "name": "stdout",
          "text": [
            " * sqlite:///./databases/imdb.db\n",
            "Done.\n"
          ]
        },
        {
          "output_type": "execute_result",
          "data": {
            "text/plain": [
              "[('The Shawshank Redemption', 1994, 9.3),\n",
              " ('The Godfather', 1972, 9.2),\n",
              " ('The Godfather: Part II', 1974, 9.0)]"
            ],
            "text/html": [
              "<table>\n",
              "    <thead>\n",
              "        <tr>\n",
              "            <th>title</th>\n",
              "            <th>release_year</th>\n",
              "            <th>rating</th>\n",
              "        </tr>\n",
              "    </thead>\n",
              "    <tbody>\n",
              "        <tr>\n",
              "            <td>The Shawshank Redemption</td>\n",
              "            <td>1994</td>\n",
              "            <td>9.3</td>\n",
              "        </tr>\n",
              "        <tr>\n",
              "            <td>The Godfather</td>\n",
              "            <td>1972</td>\n",
              "            <td>9.2</td>\n",
              "        </tr>\n",
              "        <tr>\n",
              "            <td>The Godfather: Part II</td>\n",
              "            <td>1974</td>\n",
              "            <td>9.0</td>\n",
              "        </tr>\n",
              "    </tbody>\n",
              "</table>"
            ]
          },
          "metadata": {},
          "execution_count": 17
        }
      ],
      "source": [
        "%%sql\n",
        "-- 如何添加單行註解\n",
        "SELECT title,         -- 用逗號將欄位名稱隔開\n",
        "       release_year,  -- 用逗號將欄位名稱隔開\n",
        "       rating         -- 最後一個欄位名稱後面不要逗號\n",
        "  FROM movies         -- 存於 imdb.db 中的 movies 資料表\n",
        " LIMIT 3;             -- 顯示前 3 列並且用分號;表示一段 SQL 的結束"
      ]
    },
    {
      "cell_type": "markdown",
      "id": "narrative-balance",
      "metadata": {
        "id": "narrative-balance"
      },
      "source": [
        "## 使用 `/*` 與 `*/` 添加多行註解"
      ]
    },
    {
      "cell_type": "code",
      "execution_count": 18,
      "id": "german-endorsement",
      "metadata": {
        "id": "german-endorsement",
        "outputId": "d1df374c-b7f5-445a-cd45-5d05ffc131e4",
        "colab": {
          "base_uri": "https://localhost:8080/",
          "height": 140
        }
      },
      "outputs": [
        {
          "output_type": "stream",
          "name": "stdout",
          "text": [
            " * sqlite:///./databases/imdb.db\n",
            "Done.\n"
          ]
        },
        {
          "output_type": "execute_result",
          "data": {
            "text/plain": [
              "[('The Shawshank Redemption', 1994, 9.3),\n",
              " ('The Godfather', 1972, 9.2),\n",
              " ('The Godfather: Part II', 1974, 9.0)]"
            ],
            "text/html": [
              "<table>\n",
              "    <thead>\n",
              "        <tr>\n",
              "            <th>title</th>\n",
              "            <th>release_year</th>\n",
              "            <th>rating</th>\n",
              "        </tr>\n",
              "    </thead>\n",
              "    <tbody>\n",
              "        <tr>\n",
              "            <td>The Shawshank Redemption</td>\n",
              "            <td>1994</td>\n",
              "            <td>9.3</td>\n",
              "        </tr>\n",
              "        <tr>\n",
              "            <td>The Godfather</td>\n",
              "            <td>1972</td>\n",
              "            <td>9.2</td>\n",
              "        </tr>\n",
              "        <tr>\n",
              "            <td>The Godfather: Part II</td>\n",
              "            <td>1974</td>\n",
              "            <td>9.0</td>\n",
              "        </tr>\n",
              "    </tbody>\n",
              "</table>"
            ]
          },
          "metadata": {},
          "execution_count": 18
        }
      ],
      "source": [
        "%%sql\n",
        "/*\n",
        "如何添加多行註解\n",
        "用逗號將欄位名稱隔開\n",
        "最後一個欄位名稱後面不要逗號\n",
        "存於 imdb.db 中的 movies 資料表\n",
        "顯示前 3 列並且用分號;表示一段 SQL 的結束\n",
        "*/\n",
        "SELECT title,\n",
        "       release_year,\n",
        "       rating\n",
        "  FROM movies\n",
        " LIMIT 3;"
      ]
    },
    {
      "cell_type": "markdown",
      "id": "joint-hearing",
      "metadata": {
        "id": "joint-hearing"
      },
      "source": [
        "## 替查詢結果的欄位取別名"
      ]
    },
    {
      "cell_type": "markdown",
      "id": "third-capacity",
      "metadata": {
        "id": "third-capacity"
      },
      "source": [
        "## 使用 `AS` 為查詢結果中的變數取別名"
      ]
    },
    {
      "cell_type": "code",
      "execution_count": 19,
      "id": "sapphire-platinum",
      "metadata": {
        "id": "sapphire-platinum",
        "outputId": "5e149373-0f5c-4727-e770-20a1dd8ab814",
        "colab": {
          "base_uri": "https://localhost:8080/",
          "height": 182
        }
      },
      "outputs": [
        {
          "output_type": "stream",
          "name": "stdout",
          "text": [
            " * sqlite:///./databases/imdb.db\n",
            "Done.\n"
          ]
        },
        {
          "output_type": "execute_result",
          "data": {
            "text/plain": [
              "[('The Shawshank Redemption', 1994, 9.3),\n",
              " ('The Godfather', 1972, 9.2),\n",
              " ('The Godfather: Part II', 1974, 9.0),\n",
              " ('The Dark Knight', 2008, 9.0),\n",
              " ('12 Angry Men', 1957, 9.0)]"
            ],
            "text/html": [
              "<table>\n",
              "    <thead>\n",
              "        <tr>\n",
              "            <th>movie_title</th>\n",
              "            <th>movie_year</th>\n",
              "            <th>imdb_rating</th>\n",
              "        </tr>\n",
              "    </thead>\n",
              "    <tbody>\n",
              "        <tr>\n",
              "            <td>The Shawshank Redemption</td>\n",
              "            <td>1994</td>\n",
              "            <td>9.3</td>\n",
              "        </tr>\n",
              "        <tr>\n",
              "            <td>The Godfather</td>\n",
              "            <td>1972</td>\n",
              "            <td>9.2</td>\n",
              "        </tr>\n",
              "        <tr>\n",
              "            <td>The Godfather: Part II</td>\n",
              "            <td>1974</td>\n",
              "            <td>9.0</td>\n",
              "        </tr>\n",
              "        <tr>\n",
              "            <td>The Dark Knight</td>\n",
              "            <td>2008</td>\n",
              "            <td>9.0</td>\n",
              "        </tr>\n",
              "        <tr>\n",
              "            <td>12 Angry Men</td>\n",
              "            <td>1957</td>\n",
              "            <td>9.0</td>\n",
              "        </tr>\n",
              "    </tbody>\n",
              "</table>"
            ]
          },
          "metadata": {},
          "execution_count": 19
        }
      ],
      "source": [
        "%%sql\n",
        "SELECT title AS movie_title,\n",
        "       release_year AS movie_year,\n",
        "       rating AS imdb_rating\n",
        "  FROM movies\n",
        " LIMIT 5;"
      ]
    },
    {
      "cell_type": "markdown",
      "id": "controlling-marina",
      "metadata": {
        "id": "controlling-marina"
      },
      "source": [
        "## 查詢結果僅顯示獨一值"
      ]
    },
    {
      "cell_type": "markdown",
      "id": "harmful-acting",
      "metadata": {
        "id": "harmful-acting"
      },
      "source": [
        "## 使用 `DISTINCT` 省略查詢結果中重複的資料"
      ]
    },
    {
      "cell_type": "code",
      "execution_count": 20,
      "id": "activated-norman",
      "metadata": {
        "id": "activated-norman",
        "outputId": "dccc1834-d17f-4382-c034-488d0e9cba22",
        "colab": {
          "base_uri": "https://localhost:8080/",
          "height": 711
        }
      },
      "outputs": [
        {
          "output_type": "stream",
          "name": "stdout",
          "text": [
            " * sqlite:///./databases/imdb.db\n",
            "Done.\n"
          ]
        },
        {
          "output_type": "execute_result",
          "data": {
            "text/plain": [
              "[('East',),\n",
              " ('East',),\n",
              " ('East',),\n",
              " ('West',),\n",
              " ('East',),\n",
              " ('West',),\n",
              " ('West',),\n",
              " ('West',),\n",
              " ('West',),\n",
              " ('West',),\n",
              " ('West',),\n",
              " ('East',),\n",
              " ('East',),\n",
              " ('West',),\n",
              " ('East',),\n",
              " ('East',),\n",
              " ('East',),\n",
              " ('East',),\n",
              " ('East',),\n",
              " ('West',),\n",
              " ('West',),\n",
              " ('West',),\n",
              " ('West',),\n",
              " ('West',),\n",
              " ('East',),\n",
              " ('West',),\n",
              " ('West',),\n",
              " ('East',),\n",
              " ('East',),\n",
              " ('East',)]"
            ],
            "text/html": [
              "<table>\n",
              "    <thead>\n",
              "        <tr>\n",
              "            <th>confName</th>\n",
              "        </tr>\n",
              "    </thead>\n",
              "    <tbody>\n",
              "        <tr>\n",
              "            <td>East</td>\n",
              "        </tr>\n",
              "        <tr>\n",
              "            <td>East</td>\n",
              "        </tr>\n",
              "        <tr>\n",
              "            <td>East</td>\n",
              "        </tr>\n",
              "        <tr>\n",
              "            <td>West</td>\n",
              "        </tr>\n",
              "        <tr>\n",
              "            <td>East</td>\n",
              "        </tr>\n",
              "        <tr>\n",
              "            <td>West</td>\n",
              "        </tr>\n",
              "        <tr>\n",
              "            <td>West</td>\n",
              "        </tr>\n",
              "        <tr>\n",
              "            <td>West</td>\n",
              "        </tr>\n",
              "        <tr>\n",
              "            <td>West</td>\n",
              "        </tr>\n",
              "        <tr>\n",
              "            <td>West</td>\n",
              "        </tr>\n",
              "        <tr>\n",
              "            <td>West</td>\n",
              "        </tr>\n",
              "        <tr>\n",
              "            <td>East</td>\n",
              "        </tr>\n",
              "        <tr>\n",
              "            <td>East</td>\n",
              "        </tr>\n",
              "        <tr>\n",
              "            <td>West</td>\n",
              "        </tr>\n",
              "        <tr>\n",
              "            <td>East</td>\n",
              "        </tr>\n",
              "        <tr>\n",
              "            <td>East</td>\n",
              "        </tr>\n",
              "        <tr>\n",
              "            <td>East</td>\n",
              "        </tr>\n",
              "        <tr>\n",
              "            <td>East</td>\n",
              "        </tr>\n",
              "        <tr>\n",
              "            <td>East</td>\n",
              "        </tr>\n",
              "        <tr>\n",
              "            <td>West</td>\n",
              "        </tr>\n",
              "        <tr>\n",
              "            <td>West</td>\n",
              "        </tr>\n",
              "        <tr>\n",
              "            <td>West</td>\n",
              "        </tr>\n",
              "        <tr>\n",
              "            <td>West</td>\n",
              "        </tr>\n",
              "        <tr>\n",
              "            <td>West</td>\n",
              "        </tr>\n",
              "        <tr>\n",
              "            <td>East</td>\n",
              "        </tr>\n",
              "        <tr>\n",
              "            <td>West</td>\n",
              "        </tr>\n",
              "        <tr>\n",
              "            <td>West</td>\n",
              "        </tr>\n",
              "        <tr>\n",
              "            <td>East</td>\n",
              "        </tr>\n",
              "        <tr>\n",
              "            <td>East</td>\n",
              "        </tr>\n",
              "        <tr>\n",
              "            <td>East</td>\n",
              "        </tr>\n",
              "    </tbody>\n",
              "</table>"
            ]
          },
          "metadata": {},
          "execution_count": 20
        }
      ],
      "source": [
        "%%sql\n",
        "SELECT confName\n",
        "  FROM teams;  -- 存於 nba.db 中的 teams 資料表"
      ]
    },
    {
      "cell_type": "code",
      "execution_count": 21,
      "id": "favorite-minnesota",
      "metadata": {
        "id": "favorite-minnesota",
        "outputId": "598aafc4-51a1-4479-809b-1cab46c3d423",
        "colab": {
          "base_uri": "https://localhost:8080/",
          "height": 119
        }
      },
      "outputs": [
        {
          "output_type": "stream",
          "name": "stdout",
          "text": [
            " * sqlite:///./databases/imdb.db\n",
            "Done.\n"
          ]
        },
        {
          "output_type": "execute_result",
          "data": {
            "text/plain": [
              "[('East',), ('West',)]"
            ],
            "text/html": [
              "<table>\n",
              "    <thead>\n",
              "        <tr>\n",
              "            <th>distinct_conf_name</th>\n",
              "        </tr>\n",
              "    </thead>\n",
              "    <tbody>\n",
              "        <tr>\n",
              "            <td>East</td>\n",
              "        </tr>\n",
              "        <tr>\n",
              "            <td>West</td>\n",
              "        </tr>\n",
              "    </tbody>\n",
              "</table>"
            ]
          },
          "metadata": {},
          "execution_count": 21
        }
      ],
      "source": [
        "%%sql\n",
        "SELECT DISTINCT confName AS distinct_conf_name\n",
        "  FROM teams;  -- 存於 nba.db 中的 teams 資料表"
      ]
    },
    {
      "cell_type": "markdown",
      "id": "regulated-familiar",
      "metadata": {
        "id": "regulated-familiar"
      },
      "source": [
        "## 重點統整\n",
        "\n",
        "- `SELECT` 與 `FROM` 是從資料表選擇變數的保留字。\n",
        "- `LIMIT` 是讓資料查詢結果顯示指定前幾列的保留字。\n",
        "- 寫作 SQL 時應該遵從指定的風格指南。"
      ]
    },
    {
      "cell_type": "markdown",
      "id": "computational-africa",
      "metadata": {
        "id": "computational-africa"
      },
      "source": [
        "## 重點統整（續）\n",
        "\n",
        "- 寫作 SQL 時會添加單行註解或者多行註解。\n",
        "- 使用 `AS` 為查詢結果的變數取別名。\n",
        "- 使用 `DISTINCT` 省略查詢結果中重複的資料。"
      ]
    },
    {
      "cell_type": "markdown",
      "id": "employed-thousand",
      "metadata": {
        "id": "employed-thousand"
      },
      "source": [
        "```sql\n",
        "/*\n",
        "截至目前學起來的 SQL 有哪些？\n",
        "SQL 寫作順序必須遵從標準 SQL 的規定。\n",
        "*/\n",
        "SELECT column_names  -- 選擇哪些欄位\n",
        "  FROM table_name    -- 從哪個資料庫的資料表\n",
        " LIMIT m;            -- 查詢結果顯示前 m 列就好\n",
        "```"
      ]
    }
  ],
  "metadata": {
    "celltoolbar": "Slideshow",
    "kernelspec": {
      "display_name": "xsqlite",
      "language": "sqlite",
      "name": "xsqlite"
    },
    "language_info": {
      "codemirror_mode": "sql",
      "file_extension": "",
      "mimetype": "",
      "name": "sqlite3",
      "version": "3.33.0"
    },
    "colab": {
      "provenance": [],
      "include_colab_link": true
    }
  },
  "nbformat": 4,
  "nbformat_minor": 5
}