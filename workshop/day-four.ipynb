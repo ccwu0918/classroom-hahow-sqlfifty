{
 "cells": [
  {
   "cell_type": "markdown",
   "id": "lightweight-fruit",
   "metadata": {
    "slideshow": {
     "slide_type": "slide"
    }
   },
   "source": [
    "# SQL 的五十道練習：初學者友善的資料庫八週專班\n",
    "\n",
    "> 第四天\n",
    "\n",
    "[數聚點](https://www.datainpoint.com/) | 郭耀仁 <yaojenkuo@datainpoint.com>"
   ]
  },
  {
   "cell_type": "markdown",
   "id": "ee8cdc51",
   "metadata": {
    "slideshow": {
     "slide_type": "subslide"
    }
   },
   "source": [
    "## 複習一下 SQL 的分類\n",
    "\n",
    "|SQL 的分類|範例|\n",
    "|:---------|:----|\n",
    "|資料查詢語言（Data Query Language, DQL）|`SELECT ...`|\n",
    "|資料定義語言（Data Definition Language, DDL）|`CREATE ...`|\n",
    "|資料操作語言（Data Manipulation Language, DML）|`UPDATE ...`|\n",
    "|資料控制語言（Data Control Language, DCL）|`GRANT ...`|\n",
    "|交易控制語言（Transaction Control Language, TCL）|`COMMIT`|"
   ]
  },
  {
   "cell_type": "markdown",
   "id": "59edcf13",
   "metadata": {
    "slideshow": {
     "slide_type": "slide"
    }
   },
   "source": [
    "## 資料定義語言"
   ]
  },
  {
   "cell_type": "markdown",
   "id": "c2653760",
   "metadata": {
    "slideshow": {
     "slide_type": "subslide"
    }
   },
   "source": [
    "## 資料定義語言（Data Definition Language, DDL）最主要的保留字\n",
    "\n",
    "- `CREATE`\n",
    "- `DROP`\n",
    "\n",
    "這意味著我們可以在資料庫創造與刪除物件。"
   ]
  },
  {
   "cell_type": "markdown",
   "id": "f728eef3",
   "metadata": {
    "slideshow": {
     "slide_type": "subslide"
    }
   },
   "source": [
    "## 有哪些物件可以被創造與刪除\n",
    "\n",
    "- 檢視表（Views）。\n",
    "- 資料表（Tables）。"
   ]
  },
  {
   "cell_type": "markdown",
   "id": "753c75a7",
   "metadata": {
    "slideshow": {
     "slide_type": "subslide"
    }
   },
   "source": [
    "## 什麼是檢視表\n",
    "\n",
    "- 檢視表可以直接將 SQL 敘述儲存在資料庫中，並且給予一個檢視表命名。\n",
    "- 想要檢視該段 SQL 敘述的查詢結果時，只需要將檢視表命名放在 `FROM` 保留字之後即可。\n",
    "\n",
    "```sql\n",
    "SELECT *\n",
    "  FROM view;\n",
    "```"
   ]
  },
  {
   "cell_type": "markdown",
   "id": "828fb8a1",
   "metadata": {
    "slideshow": {
     "slide_type": "subslide"
    }
   },
   "source": [
    "## 檢視表不等於資料表\n",
    "\n",
    "- 實際上檢視表儲存的內容並不是列（Rows）與欄（Columns）所組成的二維表格，而是一段 SQL 敘述。\n",
    "- 只有在對檢視表寫作資料查詢語言時，才會執行被儲存的 SQL 敘述。\n",
    "- 簡單來說，檢視表是一種介於「子查詢」與「建立資料表」之間的功能。\n",
    "- 就像是資料表版本的「衍生計算欄位」，由於多數「非資料庫管理員」的資料分析師在公司中沒有建立資料表的權限，因此若是有建立檢視表的權限將可以滿足我們對資料表的創造需求。"
   ]
  },
  {
   "cell_type": "markdown",
   "id": "associate-buffalo",
   "metadata": {
    "slideshow": {
     "slide_type": "subslide"
    }
   },
   "source": [
    "## 建立檢視表\n",
    "\n",
    "使用 `CREATE VIEW` 建立檢視表並給予檢視表命名，然後再加入希望檢視表被查詢時所執行的 SQL 敘述。\n",
    "\n",
    "```sql\n",
    "CREATE VIEW view_name\n",
    "    AS\n",
    "   SQL Statement;\n",
    "```"
   ]
  },
  {
   "cell_type": "markdown",
   "id": "f4684449",
   "metadata": {
    "slideshow": {
     "slide_type": "subslide"
    }
   },
   "source": [
    "## 建立為檢視表之後是可以確實在 SQLiteStudio 的資料庫清單中看到，而非像子查詢使用後即被捨棄\n",
    "\n",
    "```sql\n",
    "-- CREATE VIEW\n",
    "CREATE VIEW avg_rating_by_release_year\n",
    "    AS\n",
    "SELECT release_year,\n",
    "       AVG(rating) AS avg_rating\n",
    "  FROM movies\n",
    " GROUP BY release_year;\n",
    "\n",
    "-- SELECT FROM VIEW \n",
    "SELECT *\n",
    "  FROM avg_rating_by_release_year\n",
    " WHERE avg_rating >= 8.5;\n",
    "```"
   ]
  },
  {
   "cell_type": "markdown",
   "id": "significant-zoning",
   "metadata": {
    "slideshow": {
     "slide_type": "subslide"
    }
   },
   "source": [
    "## 刪除檢視表\n",
    "\n",
    "使用 `DROP VIEW` 刪除檢視表，指定欲刪除的檢視表命名即可。\n",
    "\n",
    "```sql\n",
    "DROP VIEW view_name;\n",
    "```"
   ]
  },
  {
   "cell_type": "markdown",
   "id": "c6e3d228",
   "metadata": {
    "slideshow": {
     "slide_type": "subslide"
    }
   },
   "source": [
    "## 刪除檢視表之後，在 SQLiteStudio 的資料庫清單中就能夠看到檢視表已經不存在\n",
    "\n",
    "```sql\n",
    "-- DROP VIEW\n",
    "DROP VIEW avg_rating_by_release_year;\n",
    "```"
   ]
  },
  {
   "cell_type": "markdown",
   "id": "e4ce6b38",
   "metadata": {
    "slideshow": {
     "slide_type": "subslide"
    }
   },
   "source": [
    "## 刪除檢視表之後，就無法在 `FROM` 保留字之後指定檢視表查詢。\n",
    "\n",
    "```sql\n",
    "SELECT *\n",
    "  FROM avg_rating_by_release_year\n",
    " WHERE avg_rating >= 8.5;\n",
    "```"
   ]
  },
  {
   "cell_type": "markdown",
   "id": "37424715",
   "metadata": {
    "slideshow": {
     "slide_type": "slide"
    }
   },
   "source": [
    "## Common Table Expression(CTE)"
   ]
  },
  {
   "cell_type": "markdown",
   "id": "a4c67859",
   "metadata": {
    "slideshow": {
     "slide_type": "subslide"
    }
   },
   "source": [
    "## 什麼是 Common Table Expression(CTE)\n",
    "\n",
    "- Common Table Expression(CTE)是一種介於子查詢與檢視表之間的存在。\n",
    "- 我們可以將 Common Table Expression(CTE) 視為一種暫存的檢視表，僅在一個 SQL 敘述中有效。\n",
    "- 使用 CTE 時必須在同一個 SQL 敘述中涵蓋建立與查詢的語法。"
   ]
  },
  {
   "cell_type": "markdown",
   "id": "a1508bfc",
   "metadata": {
    "slideshow": {
     "slide_type": "subslide"
    }
   },
   "source": [
    "## 建立 Common Table Expression(CTE)\n",
    "\n",
    "使用 `WITH` 建立 Common Table Expression(CTE) 並給予命名，然後再加入 SQL 敘述。\n",
    "\n",
    "```sql\n",
    "WITH cte_name AS (\n",
    "    SQL Statement\n",
    ")\n",
    "SELECT columns FROM cte_name ...;\n",
    "```"
   ]
  },
  {
   "cell_type": "markdown",
   "id": "a413a0d7",
   "metadata": {
    "slideshow": {
     "slide_type": "subslide"
    }
   },
   "source": [
    "```sql\n",
    "WITH avg_rating_by_release_year AS (\n",
    "    SELECT release_year,\n",
    "           AVG(rating) AS avg_rating\n",
    "      FROM movies\n",
    "     GROUP BY release_year\n",
    ")\n",
    "SELECT *\n",
    "  FROM avg_rating_by_release_year;\n",
    "```"
   ]
  },
  {
   "cell_type": "markdown",
   "id": "bdc093e3",
   "metadata": {
    "slideshow": {
     "slide_type": "subslide"
    }
   },
   "source": [
    "## 除了資料查詢語言，其他 SQL 分支如何在實戰中應用\n",
    "\n",
    "- 資料定義語言（Data Definition Language, DDL）：建立檢視表、資料表，成為活躍使用者（Power user）。\n",
    "- 資料操作語言（Data Manipulation Language, DML）：成為資料工程師、資料庫管理員（DBA）。\n",
    "- 資料控制語言（Data Control Language, DCL）：成為資料庫管理員（DBA）。\n",
    "- 交易控制語言（Transaction Control Language, TCL）：成為資料工程師、參與 ETL（Extract Transform Load）管線規劃。"
   ]
  },
  {
   "cell_type": "markdown",
   "id": "77f8d461",
   "metadata": {
    "slideshow": {
     "slide_type": "subslide"
    }
   },
   "source": [
    "## 額外練習題參考解答\n",
    "\n",
    "- [第二天](https://gke.mybinder.org/v2/gh/datainpoint/environment-hahow-sqlfifty/main?urlpath=git-pull%3Frepo%3Dhttps%253A%252F%252Fgithub.com%252Fdatainpoint%252Fclassroom-hahow-sqlfifty%26urlpath%3Dtree%252Fclassroom-hahow-sqlfifty%252Fworkshop%252Fsuggested_answers_day_two.ipynb%26branch%3Dmain)\n",
    "- [第三天](https://gke.mybinder.org/v2/gh/datainpoint/environment-hahow-sqlfifty/main?urlpath=git-pull%3Frepo%3Dhttps%253A%252F%252Fgithub.com%252Fdatainpoint%252Fclassroom-hahow-sqlfifty%26urlpath%3Dtree%252Fclassroom-hahow-sqlfifty%252Fworkshop%252Fsuggested_answers_day_three.ipynb%26branch%3Dmain)"
   ]
  },
  {
   "cell_type": "markdown",
   "id": "46075812",
   "metadata": {
    "slideshow": {
     "slide_type": "slide"
    }
   },
   "source": [
    "## 如何求職、準備作品集"
   ]
  },
  {
   "cell_type": "markdown",
   "id": "823310fe",
   "metadata": {
    "slideshow": {
     "slide_type": "subslide"
    }
   },
   "source": [
    "## 與 SQL 課程相關的問題\n",
    "\n",
    "> 目前是 SQL 的初級班，如果在實務業界，有沒有建議我們跟進階的學習資源和方式，可以讓我們職場找工作可以拿到工作的入場券？\n",
    ">\n",
    "> 以求職為導向的話，除了這堂課的內容以外，有無建議其他要加深 SQL 的技巧或能力?\n",
    ">\n",
    "> 對於水平合併有更加了解，但還是想知道有沒有其他可以學習 sql 題目的網站可以加強？也想知道 sql 學習到怎樣的階段才算是有一定的程度到外面求職？\n",
    ">\n",
    "> 但在學習的路上會發現可以理解內容，但對於吸收內化後，可以馬上解題的部分還有一些距離，希望老師可以給予一些方向跟建議"
   ]
  },
  {
   "cell_type": "markdown",
   "id": "21d27787",
   "metadata": {
    "slideshow": {
     "slide_type": "subslide"
    }
   },
   "source": [
    "## 需要 SQL 的相關工作\n",
    "\n",
    "- **商業分析師**、**資料分析師**、**資料科學家**：熟悉 DQL（掌握 Sub-query 與 JOIN 就有自信地開始求職！）。\n",
    "- 資料工程師、後端工程師：熟悉 DQL、DDL、DML、TCL 與 Stored Procedure。\n",
    "- 資料庫管理員：熟悉 DQL、DDL、DML、TCL、DCL、Stored Procedure 與效能調校。"
   ]
  },
  {
   "cell_type": "markdown",
   "id": "3e99c6a1",
   "metadata": {
    "slideshow": {
     "slide_type": "subslide"
    }
   },
   "source": [
    "## 精進 DQL 的學習網站\n",
    "\n",
    "- [DataCamp](https://datacamp.pxf.io/LXaLej)\n",
    "- [Codewars](https://www.codewars.com/kata/sql)\n",
    "- [Leetcode](https://leetcode.com/problemset/database)\n",
    "- [SQLZOO](https://sqlzoo.net/wiki/SQL_Tutorial)\n",
    "- [SQLBolt](https://sqlbolt.com)"
   ]
  },
  {
   "cell_type": "markdown",
   "id": "f36c8db0",
   "metadata": {
    "slideshow": {
     "slide_type": "subslide"
    }
   },
   "source": [
    "## 效果更好的吸收與內化\n",
    "\n",
    "- 找到自己感興趣的資料來源。\n",
    "- 依據正規化準則設計資料表的關聯模型。\n",
    "    - [第一正規化](https://zh.wikipedia.org/zh-tw/%E7%AC%AC%E4%B8%80%E6%AD%A3%E8%A6%8F%E5%8C%96)：排除重複值的出現，要求資料表的每一列都由不可分割的資料值組成。\n",
    "    - [第二正規化](https://zh.wikipedia.org/zh-hant/%E7%AC%AC%E4%BA%8C%E6%AD%A3%E8%A6%8F%E5%8C%96)：互相依賴、具有從屬與對應關係的資料要分不同的資料表紀錄。\n",
    "    - [第三正規化](https://zh.wikipedia.org/zh-tw/%E7%AC%AC%E4%B8%89%E6%AD%A3%E8%A6%8F%E5%8C%96)：第二正規化的進一步加強，切割從屬關係。"
   ]
  },
  {
   "cell_type": "markdown",
   "id": "67a4fab1",
   "metadata": {
    "slideshow": {
     "slide_type": "subslide"
    }
   },
   "source": [
    "## 與作品集準備相關的問題\n",
    "\n",
    "> 針對單一分析專案來說，其實會有點不知道單個分析專案要怎麼製作？怎麼呈現？也就是實戰的部分不知道怎麼進行。希望有機會可以分享實戰的部分。\n",
    ">\n",
    "> 有看到YTR分享，在作品集的同一個專案中，可以自行選擇要同時呈現多少工具的能力(SQL/Python/Tableau)，想請教的是，假設希望都使用，那該如何同時呈現出這些工具的使用呢？\n",
    ">\n",
    "> 常聽到分析之前要做資料前處理，比如資料清洗之類的，不曉得下一次的直播中，有可以教學關於資料前處理的部份嗎？\n",
    ">\n",
    "> 作品集的介紹，希望可以有參考的實際範例，如何設計、必備項目、優缺點、注意事項、怎麼樣才是讓人驚艷的作品，讓我們有更明確的框架概念。"
   ]
  },
  {
   "cell_type": "markdown",
   "id": "3b5bd6e7",
   "metadata": {
    "slideshow": {
     "slide_type": "subslide"
    }
   },
   "source": [
    "## 資料科學的管線（應用場景）\n",
    "\n",
    "![](../images/r-for-data-science.png)\n",
    "\n",
    "來源：<https://r4ds.had.co.nz>"
   ]
  },
  {
   "cell_type": "markdown",
   "id": "37ca473b",
   "metadata": {
    "slideshow": {
     "slide_type": "subslide"
    }
   },
   "source": [
    "## 挑選想要展現能力的應用場景\n",
    "\n",
    "- SQL: Import, Tidy, Transform.\n",
    "- Python/R: End-to-end.\n",
    "- Tableau: Visualize, Communicate."
   ]
  },
  {
   "cell_type": "markdown",
   "id": "99bad082",
   "metadata": {
    "slideshow": {
     "slide_type": "subslide"
    }
   },
   "source": [
    "## 作品集的設計\n",
    "\n",
    "- 最好能夠視理想工作、產業而尋找題目素材。\n",
    "- 一個基於「問題解決 Problem Solving」的題目。\n",
    "- 起承轉合可以從 5W2H 開始，然後以資料科學的管線作為框架來解題。\n",
    "- 選定最拿手、最熟悉的分析工具，而非熱門但陌生的。"
   ]
  },
  {
   "cell_type": "markdown",
   "id": "91cd1419",
   "metadata": {
    "slideshow": {
     "slide_type": "subslide"
    }
   },
   "source": [
    "## 作品集的必備項目\n",
    "\n",
    "- 問題解決的思路。\n",
    "- 標記語言或文字。\n",
    "- 資料集。\n",
    "- 可重現、有組織性的程式碼（至少是函數的形式。）\n",
    "- 可運行、帶入參數的執行環境或者網頁應用程式。"
   ]
  },
  {
   "cell_type": "markdown",
   "id": "4dcff883",
   "metadata": {
    "slideshow": {
     "slide_type": "subslide"
    }
   },
   "source": [
    "## 作品集的注意事項\n",
    "\n",
    "- 避免使用玩具資料集，例如鳶尾花（Iris）、鐵達尼號（Titanic）、波士頓房價（Boston Housing Price）、手寫數字（MNIST）。\n",
    "    - 什麼時候可以使用玩具資料集？當你在展現 Build-from-scratch 的能力時。\n",
    "- 挑選特定的應用場景展現能力：\n",
    "    - 應徵商業分析師：Visualize, Communicate.\n",
    "    - 應徵資料分析師：Import, Tidy, Transform, Visualize, Communicate.\n",
    "    - 應徵資料科學家：Model, Visualize, Communicate."
   ]
  },
  {
   "cell_type": "markdown",
   "id": "87d15db6",
   "metadata": {
    "slideshow": {
     "slide_type": "subslide"
    }
   },
   "source": [
    "## 會令人驚豔的作品集\n",
    "\n",
    "- 面試者自己蒐集、定義並整併的（多個）資料來源。\n",
    "- 程式碼可以重現，是可以輸入參數執行的型態（函數、類別或者模組。）\n",
    "- 是可執行（Google Colab）或者網頁應用程式的格式，而非靜態的格式。\n",
    "- 能夠用簡潔的文字、視覺化傳達主要的問題解決思路、結論。"
   ]
  },
  {
   "cell_type": "markdown",
   "id": "7034cb40",
   "metadata": {
    "slideshow": {
     "slide_type": "subslide"
    }
   },
   "source": [
    "## 以曾經寫過的 Medium/Substack/Shiny apps 為例\n",
    "\n",
    "- [使用 Python 探索氣溫觀測紀錄](https://medium.com/datainpoint/%E4%BD%BF%E7%94%A8-python-%E6%8E%A2%E7%B4%A2%E6%B0%A3%E6%BA%AB%E8%A7%80%E6%B8%AC%E7%B4%80%E9%8C%84-d2dff9642a25)\n",
    "- [探索主流深度學習框架在 GitHub 的活躍程度\n",
    "](https://medium.com/datainpoint/%E6%8E%A2%E7%B4%A2%E4%B8%BB%E6%B5%81%E6%B7%B1%E5%BA%A6%E5%AD%B8%E7%BF%92%E6%A1%86%E6%9E%B6%E5%9C%A8-github-%E7%9A%84%E6%B4%BB%E8%BA%8D%E7%A8%8B%E5%BA%A6-cbc15a41c09a)\n",
    "- [臺北馬拉松參賽選手水平逐漸提升](https://medium.com/datainpoint/%E8%87%BA%E5%8C%97%E9%A6%AC%E6%8B%89%E6%9D%BE%E5%8F%83%E8%B3%BD%E9%81%B8%E6%89%8B%E6%B0%B4%E5%B9%B3%E9%80%90%E6%BC%B8%E6%8F%90%E5%8D%87-179931f811f3)\n",
    "- [生活中的資料科學：中選會選舉資料庫\n",
    "](https://medium.com/datainpoint/taiwan-presidential-election-2020-votes-867c0f03afbc)\n",
    "- [結合 Python 基礎資料分析套件的小專案](https://open.substack.com/pub/datainpoint/p/-python-?r=8zju4&utm_campaign=post&utm_medium=web)\n",
    "- [指數是什麼？動手算一次就懂](https://open.substack.com/pub/datainpoint/p/b26?r=8zju4&utm_campaign=post&utm_medium=web)\n",
    "- [在資料分析添加物件導向的風味](https://datainpoint.substack.com/p/project-kaggle-survey-2021)\n",
    "- [擴大紓困方案試算](https://yaojenkuo.shinyapps.io/bailout_calculator)\n",
    "- [Gapminder Replica](https://yaojenkuo.shinyapps.io/gapminder_replica)"
   ]
  },
  {
   "cell_type": "markdown",
   "id": "09cc8dd0",
   "metadata": {
    "slideshow": {
     "slide_type": "subslide"
    }
   },
   "source": [
    "## 以 `covid19.db` 學習資料庫的 End-to-end 建立流程為例\n",
    "\n",
    "<https://colab.research.google.com/github/datainpoint/classroom-hahow-sqlfifty/blob/main/workshop/get_covid19_data.ipynb>"
   ]
  },
  {
   "cell_type": "markdown",
   "id": "3d656cda",
   "metadata": {
    "slideshow": {
     "slide_type": "subslide"
    }
   },
   "source": [
    "## 與後續專班規劃相關的問題\n",
    "\n",
    "> 許願希望老師可以開分析專案實戰班/作品集製作實戰班之類的。\n",
    ">\n",
    "> 請問老師之後會開 python 的課程嗎？"
   ]
  },
  {
   "cell_type": "markdown",
   "id": "7d3ad15d",
   "metadata": {
    "slideshow": {
     "slide_type": "subslide"
    }
   },
   "source": [
    "## 素材與網頁應用程式\n",
    "\n",
    "- 素材\n",
    "    - [Kaggle](https://www.kaggle.com)\n",
    "    - [Coursera](https://www.coursera.org)\n",
    "- 網頁應用程式\n",
    "    - [Shiny for Python](https://shiny.rstudio.com/py)\n",
    "    - [gradio](https://gradio.app/demos/)\n",
    "    - [Streamlit](https://streamlit.io/gallery)\n",
    "- 歡迎各位學員提供！"
   ]
  },
  {
   "cell_type": "markdown",
   "id": "b6f54194",
   "metadata": {
    "slideshow": {
     "slide_type": "subslide"
    }
   },
   "source": [
    "## 我的 Python 課程\n",
    "\n",
    "[Python 的 50+ 練習](https://hahow.in/cr/pythonfiftyplus)"
   ]
  }
 ],
 "metadata": {
  "celltoolbar": "Slideshow",
  "kernelspec": {
   "display_name": "Python 3 (ipykernel)",
   "language": "python",
   "name": "python3"
  },
  "language_info": {
   "codemirror_mode": {
    "name": "ipython",
    "version": 3
   },
   "file_extension": ".py",
   "mimetype": "text/x-python",
   "name": "python",
   "nbconvert_exporter": "python",
   "pygments_lexer": "ipython3",
   "version": "3.9.12"
  }
 },
 "nbformat": 4,
 "nbformat_minor": 5
}
