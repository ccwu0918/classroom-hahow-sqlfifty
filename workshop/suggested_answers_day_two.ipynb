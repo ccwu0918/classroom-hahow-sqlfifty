{
 "cells": [
  {
   "cell_type": "markdown",
   "metadata": {
    "deletable": false
   },
   "source": [
    "# SQL 的五十道練習：初學者友善的資料庫八週專班\n",
    "\n",
    "> 第二天：參考解答\n",
    "\n",
    "[數聚點](https://www.datainpoint.com/) | 郭耀仁 <yaojenkuo@datainpoint.com>"
   ]
  },
  {
   "cell_type": "markdown",
   "metadata": {
    "deletable": false
   },
   "source": [
    "## 練習題指引\n",
    "\n",
    "- 在每份練習題的開始，都會先將所有學習資料庫載入環境。\n",
    "- 因此 SQL 可以指定所有學習資料庫中的資料表，不需要額外指定資料庫。\n",
    "- 在 SQL 語法起點與 SQL 語法終點這兩個單行註解之間撰寫能夠得到預期結果的 SQL。\n",
    "- 可以先在自己電腦的 SQLiteStudio 或者 DBeaver 寫出跟預期結果相同的 SQL 後再複製貼上到練習題。\n",
    "- 執行測試的方式為點選上方選單的 Kernel -> Restart & Run All -> Restart and Run All Cells。\n",
    "- 可以每寫一題就執行測試，也可以全部寫完再執行測試。\n",
    "- 練習題閒置超過 10 分鐘會自動斷線，這時只要重新點選練習題連結即可重新啟動。"
   ]
  },
  {
   "cell_type": "code",
   "execution_count": 1,
   "metadata": {
    "deletable": false
   },
   "outputs": [
    {
     "data": {
      "text/plain": [
       "<sqlite3.Cursor at 0x1139265c0>"
      ]
     },
     "execution_count": 1,
     "metadata": {},
     "output_type": "execute_result"
    }
   ],
   "source": [
    "import sqlite3\n",
    "import unittest\n",
    "import json\n",
    "import os\n",
    "import numpy as np\n",
    "import pandas as pd\n",
    "\n",
    "conn = sqlite3.connect('../databases/twElection2022.db')\n",
    "conn.execute(\"\"\"ATTACH '../databases/kaggleSurvey2022.db' AS kaggleSurvey2022\"\"\")"
   ]
  },
  {
   "cell_type": "markdown",
   "metadata": {},
   "source": [
    "## 01. 從 `kaggleSurvey2022` 資料庫查詢填答者的職稱分佈，參考下列的預期查詢結果。\n",
    "\n",
    "- 預期輸入：SQL 查詢語法。\n",
    "- 預期輸出：(15, 2) 的查詢結果。\n",
    "\n",
    "```\n",
    "                                               choice  n_respondants\n",
    "0                                      Data Scientist           1929\n",
    "1   Data Analyst (Business, Marketing, Financial, ...           1538\n",
    "2                              Currently not employed           1432\n",
    "3                                   Software Engineer            980\n",
    "4                                 Teacher / professor            833\n",
    "5   Manager (Program, Project, Operations, Executi...            832\n",
    "6                                               Other            754\n",
    "7                                  Research Scientist            593\n",
    "8                    Machine Learning/ MLops Engineer            571\n",
    "9                             Engineer (non-software)            465\n",
    "10                                      Data Engineer            352\n",
    "11                                       Statistician            125\n",
    "12                                     Data Architect             95\n",
    "13                                 Data Administrator             70\n",
    "14                                 Developer Advocate             61\n",
    "```"
   ]
  },
  {
   "cell_type": "code",
   "execution_count": 2,
   "metadata": {},
   "outputs": [],
   "source": [
    "find_distinct_titles_from_responses =\\\n",
    "\"\"\"\n",
    "-- SQL 查詢語法起點\n",
    "SELECT choice,\n",
    "       COUNT(*) AS n_respondants\n",
    "  FROM responses\n",
    " WHERE question_id = 22\n",
    " GROUP BY choice\n",
    " ORDER BY n_respondants DESC;\n",
    "-- SQL 查詢語法終點\n",
    "\"\"\""
   ]
  },
  {
   "cell_type": "markdown",
   "metadata": {},
   "source": [
    "## 02. 從 `twElection2022` 資料庫查詢六都（臺北市、新北市、桃園市、臺中市、臺南市、高雄市）的行政區，參考下列的預期查詢結果。\n",
    "\n",
    "- 預期輸入：SQL 查詢語法。\n",
    "- 預期輸出：(158, 2) 的查詢結果。\n",
    "\n",
    "```\n",
    "    county town\n",
    "0      新北市  三峽區\n",
    "1      新北市  三芝區\n",
    "2      新北市  三重區\n",
    "3      新北市  中和區\n",
    "4      新北市  五股區\n",
    "..     ...  ...\n",
    "153    高雄市  阿蓮區\n",
    "154    高雄市  鳥松區\n",
    "155    高雄市  鳳山區\n",
    "156    高雄市  鹽埕區\n",
    "157    高雄市  鼓山區\n",
    "\n",
    "[158 rows x 2 columns]\n",
    "```"
   ]
  },
  {
   "cell_type": "code",
   "execution_count": 3,
   "metadata": {},
   "outputs": [],
   "source": [
    "find_distinct_towns_in_capitals =\\\n",
    "\"\"\"\n",
    "-- SQL 查詢語法起點\n",
    "SELECT county,\n",
    "       town\n",
    "  FROM admin_regions\n",
    " WHERE county IN ('臺北市', '新北市', '桃園市', '臺中市', '臺南市', '高雄市')\n",
    " GROUP BY county,\n",
    "          town;\n",
    "-- SQL 查詢語法終點\n",
    "\"\"\""
   ]
  },
  {
   "cell_type": "markdown",
   "metadata": {},
   "source": [
    "## 03. 從 `kaggleSurvey2022` 資料庫查詢日常使用的程式語言，列出排名第二至第五的結果，參考下列的預期查詢結果。\n",
    "\n",
    "- 預期輸入：SQL 查詢語法。\n",
    "- 預期輸出：(4, 2) 的查詢結果。\n",
    "\n",
    "```\n",
    "  choice  n_selections\n",
    "0    SQL          9620\n",
    "1      R          4571\n",
    "2    C++          4549\n",
    "3   Java          3862\n",
    "```"
   ]
  },
  {
   "cell_type": "code",
   "execution_count": 4,
   "metadata": {},
   "outputs": [],
   "source": [
    "find_2nd_to_5th_programming_languages =\\\n",
    "\"\"\"\n",
    "-- SQL 查詢語法起點\n",
    "SELECT choice,\n",
    "       COUNT(*) AS n_selections\n",
    "  FROM responses\n",
    " WHERE question_id = 11\n",
    " GROUP BY choice\n",
    " ORDER BY n_selections DESC\n",
    " LIMIT 4\n",
    "OFFSET 1;\n",
    "-- SQL 查詢語法終點\n",
    "\"\"\""
   ]
  },
  {
   "cell_type": "markdown",
   "metadata": {},
   "source": [
    "## 04. 從 `twElection2022` 資料庫查詢台灣縣市的同名鄰里（`village`），顯示個數大於等於 10 個的同名鄰里，參考下列的預期查詢結果。\n",
    "\n",
    "- 預期輸入：SQL 查詢語法。\n",
    "- 預期輸出：(46, 2) 的查詢結果。\n",
    "\n",
    "```\n",
    "   village  n_duplicates\n",
    "0      中興里            31\n",
    "1      中正里            31\n",
    "2      中山里            29\n",
    "3      新興里            22\n",
    "4      復興里            22\n",
    "5      大同里            22\n",
    "6      成功里            21\n",
    "7      仁愛里            21\n",
    "8      永安里            20\n",
    "9      文化里            20\n",
    "10     和平里            19\n",
    "11     光明里            18\n",
    "12     中和里            18\n",
    "13     福德里            17\n",
    "14     忠孝里            17\n",
    "15     福興里            16\n",
    "16     新生里            16\n",
    "17     光華里            16\n",
    "18     自強里            15\n",
    "19     民生里            15\n",
    "20     三民里            15\n",
    "21     三和里            15\n",
    "22     信義里            14\n",
    "23     長安里            13\n",
    "24     福安里            13\n",
    "25     建國里            13\n",
    "26     平和里            13\n",
    "27     西安里            12\n",
    "28     東興里            12\n",
    "29     東勢里            12\n",
    "30     新庄里            12\n",
    "31     光復里            12\n",
    "32     仁和里            12\n",
    "33     永興里            11\n",
    "34     振興里            11\n",
    "35     南勢里            11\n",
    "36     仁德里            11\n",
    "37     中華里            11\n",
    "38     中央里            11\n",
    "39     福興村            10\n",
    "40     民權里            10\n",
    "41     東門里            10\n",
    "42     東山里            10\n",
    "43     東安里            10\n",
    "44     廣興里            10\n",
    "45     仁義里            10\n",
    "```"
   ]
  },
  {
   "cell_type": "code",
   "execution_count": 5,
   "metadata": {},
   "outputs": [],
   "source": [
    "find_villages_with_same_name =\\\n",
    "\"\"\"\n",
    "-- SQL 查詢語法起點\n",
    "SELECT village,\n",
    "       COUNT(*) AS n_duplicates\n",
    "  FROM admin_regions\n",
    " GROUP BY village\n",
    "HAVING n_duplicates >= 10\n",
    " ORDER BY COUNT(*) DESC;\n",
    "-- SQL 查詢語法終點\n",
    "\"\"\""
   ]
  },
  {
   "cell_type": "markdown",
   "metadata": {},
   "source": [
    "## 05. 從 `twElection2022` 資料庫查詢同名同姓的候選人，參考下列的預期查詢結果。\n",
    "\n",
    "- 預期輸入：SQL 查詢語法。\n",
    "- 預期輸出：(5, 2) 的查詢結果。\n",
    "\n",
    "```\n",
    "  candidate  n_duplicates\n",
    "0       陳志明             3\n",
    "1       許淑華             2\n",
    "2       洪志明             2\n",
    "3       李柏毅             2\n",
    "4       張志豪             2\n",
    "```"
   ]
  },
  {
   "cell_type": "code",
   "execution_count": 6,
   "metadata": {},
   "outputs": [],
   "source": [
    "find_candidates_with_same_name =\\\n",
    "\"\"\"\n",
    "-- SQL 查詢語法起點\n",
    "SELECT candidate,\n",
    "       COUNT(*) AS n_duplicates\n",
    "  FROM candidates\n",
    " GROUP BY candidate\n",
    "HAVING n_duplicates > 1\n",
    " ORDER BY n_duplicates DESC;\n",
    "-- SQL 查詢語法終點\n",
    "\"\"\""
   ]
  },
  {
   "cell_type": "markdown",
   "metadata": {
    "deletable": false,
    "editable": false
   },
   "source": [
    "## 執行測試！\n",
    "\n",
    "Kernel -> Restart & Run All -> Restart and Run All Cells."
   ]
  },
  {
   "cell_type": "code",
   "execution_count": 7,
   "metadata": {
    "deletable": false
   },
   "outputs": [
    {
     "name": "stderr",
     "output_type": "stream",
     "text": [
      "test_01_find_distinct_titles_from_responses (__main__.TestDayTwoExercises) ... ok\n",
      "test_02_find_distinct_towns_in_capitals (__main__.TestDayTwoExercises) ... ok\n",
      "test_03_find_2nd_to_5th_programming_languages (__main__.TestDayTwoExercises) ... ok\n",
      "test_04_find_villages_with_same_name (__main__.TestDayTwoExercises) ... ok\n",
      "test_05_find_candidates_with_same_name (__main__.TestDayTwoExercises) ... ok\n",
      "\n",
      "----------------------------------------------------------------------\n",
      "Ran 5 tests in 0.314s\n",
      "\n",
      "OK\n"
     ]
    }
   ],
   "source": [
    "class TestDayTwoExercises(unittest.TestCase):\n",
    "    def test_01_find_distinct_titles_from_responses(self):\n",
    "        distinct_titles_from_responses = pd.read_sql(find_distinct_titles_from_responses, conn)\n",
    "        self.assertEqual(distinct_titles_from_responses.shape, (15, 2))\n",
    "        column_values = distinct_titles_from_responses.iloc[:, 0].values\n",
    "        self.assertTrue('Data Scientist' in column_values)\n",
    "        self.assertTrue('Data Engineer' in column_values)\n",
    "    def test_02_find_distinct_towns_in_capitals(self):\n",
    "        distinct_towns_in_capitals = pd.read_sql(find_distinct_towns_in_capitals, conn)\n",
    "        self.assertEqual(distinct_towns_in_capitals.shape, (158, 2))\n",
    "        column_values = distinct_towns_in_capitals.iloc[:, 0].values\n",
    "        self.assertTrue('臺南市' in column_values)\n",
    "        self.assertTrue('高雄市' in column_values)\n",
    "    def test_03_find_2nd_to_5th_programming_languages(self):\n",
    "        Znd_to_5th_programming_languages = pd.read_sql(find_2nd_to_5th_programming_languages, conn)\n",
    "        self.assertEqual(Znd_to_5th_programming_languages.shape, (4, 2))\n",
    "        column_values = Znd_to_5th_programming_languages.iloc[:, 0].values\n",
    "        self.assertTrue('SQL' in column_values)\n",
    "        self.assertTrue('R' in column_values)\n",
    "    def test_04_find_villages_with_same_name(self):\n",
    "        villages_with_same_name = pd.read_sql(find_villages_with_same_name, conn)\n",
    "        self.assertEqual(villages_with_same_name.shape, (46, 2))\n",
    "        column_values = villages_with_same_name.iloc[:, 0].values\n",
    "        self.assertTrue('中興里' in column_values)\n",
    "        self.assertTrue('中正里' in column_values)\n",
    "        self.assertTrue('中山里' in column_values)\n",
    "    def test_05_find_candidates_with_same_name(self):\n",
    "        candidates_with_same_name = pd.read_sql(find_candidates_with_same_name, conn)\n",
    "        self.assertEqual(candidates_with_same_name.shape, (5, 2))\n",
    "        column_values = candidates_with_same_name.iloc[:, 0].values\n",
    "        self.assertTrue('陳志明' in column_values)\n",
    "        self.assertTrue('許淑華' in column_values)\n",
    "        self.assertTrue('張志豪' in column_values)\n",
    "\n",
    "suite = unittest.TestLoader().loadTestsFromTestCase(TestDayTwoExercises)\n",
    "runner = unittest.TextTestRunner(verbosity=2)\n",
    "test_results = runner.run(suite)\n",
    "number_of_failures = len(test_results.failures)\n",
    "number_of_errors = len(test_results.errors)\n",
    "number_of_test_runs = test_results.testsRun\n",
    "number_of_successes = number_of_test_runs - (number_of_failures + number_of_errors)"
   ]
  },
  {
   "cell_type": "code",
   "execution_count": 8,
   "metadata": {
    "deletable": false
   },
   "outputs": [
    {
     "name": "stdout",
     "output_type": "stream",
     "text": [
      "您在「專班第二天」章節中的 5 道 SQL 練習答對了 5 題。\n"
     ]
    }
   ],
   "source": [
    "print(\"您在「專班第二天」章節中的 {} 道 SQL 練習答對了 {} 題。\".format(number_of_test_runs, number_of_successes))"
   ]
  }
 ],
 "metadata": {
  "celltoolbar": "Edit Metadata",
  "kernelspec": {
   "display_name": "Python 3 (ipykernel)",
   "language": "python",
   "name": "python3"
  },
  "language_info": {
   "codemirror_mode": {
    "name": "ipython",
    "version": 3
   },
   "file_extension": ".py",
   "mimetype": "text/x-python",
   "name": "python",
   "nbconvert_exporter": "python",
   "pygments_lexer": "ipython3",
   "version": "3.10.6"
  }
 },
 "nbformat": 4,
 "nbformat_minor": 4
}
