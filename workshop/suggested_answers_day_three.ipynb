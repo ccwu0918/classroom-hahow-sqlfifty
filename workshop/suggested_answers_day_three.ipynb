{
 "cells": [
  {
   "cell_type": "markdown",
   "metadata": {
    "deletable": false
   },
   "source": [
    "# SQL 的五十道練習：初學者友善的資料庫八週專班\n",
    "\n",
    "> 第三天：參考解答\n",
    "\n",
    "[數聚點](https://www.datainpoint.com/) | 郭耀仁 <yaojenkuo@datainpoint.com>"
   ]
  },
  {
   "cell_type": "markdown",
   "metadata": {
    "deletable": false
   },
   "source": [
    "## 練習題指引\n",
    "\n",
    "- 在每份練習題的開始，都會先將所有學習資料庫載入環境。\n",
    "- 因此 SQL 可以指定所有學習資料庫中的資料表，不需要額外指定資料庫。\n",
    "- 在 SQL 語法起點與 SQL 語法終點這兩個單行註解之間撰寫能夠得到預期結果的 SQL。\n",
    "- 可以先在自己電腦的 SQLiteStudio 或者 DBeaver 寫出跟預期結果相同的 SQL 後再複製貼上到練習題。\n",
    "- 執行測試的方式為點選上方選單的 Kernel -> Restart & Run All -> Restart and Run All Cells。\n",
    "- 可以每寫一題就執行測試，也可以全部寫完再執行測試。\n",
    "- 練習題閒置超過 10 分鐘會自動斷線，這時只要重新點選練習題連結即可重新啟動。"
   ]
  },
  {
   "cell_type": "code",
   "execution_count": 1,
   "metadata": {
    "deletable": false
   },
   "outputs": [
    {
     "data": {
      "text/plain": [
       "<sqlite3.Cursor at 0x11621e5c0>"
      ]
     },
     "execution_count": 1,
     "metadata": {},
     "output_type": "execute_result"
    }
   ],
   "source": [
    "import sqlite3\n",
    "import unittest\n",
    "import json\n",
    "import os\n",
    "import numpy as np\n",
    "import pandas as pd\n",
    "\n",
    "conn = sqlite3.connect('../databases/twElection2022.db')\n",
    "conn.execute(\"\"\"ATTACH '../databases/kaggleSurvey2022.db' AS kaggleSurvey2022\"\"\")"
   ]
  },
  {
   "cell_type": "markdown",
   "metadata": {},
   "source": [
    "## 01. 從 `kaggleSurvey2022` 資料庫查詢問題 \"What programming languages do you use on a regular basis? (Select all that apply)\" 的填答個數，參考下列的預期查詢結果。\n",
    "\n",
    "- 預期輸入：SQL 查詢語法。\n",
    "- 預期輸出：(15, 3) 的查詢結果。\n",
    "\n",
    "```\n",
    "                                          description      choice  n_response\n",
    "0   What programming languages do you use on a reg...      Python       18653\n",
    "1   What programming languages do you use on a reg...         SQL        9620\n",
    "2   What programming languages do you use on a reg...           R        4571\n",
    "3   What programming languages do you use on a reg...         C++        4549\n",
    "4   What programming languages do you use on a reg...        Java        3862\n",
    "5   What programming languages do you use on a reg...           C        3801\n",
    "6   What programming languages do you use on a reg...  Javascript        3489\n",
    "7   What programming languages do you use on a reg...      MATLAB        2441\n",
    "8   What programming languages do you use on a reg...        Bash        1674\n",
    "9   What programming languages do you use on a reg...          C#        1473\n",
    "10  What programming languages do you use on a reg...         PHP        1443\n",
    "11  What programming languages do you use on a reg...       Other        1342\n",
    "12  What programming languages do you use on a reg...          Go         322\n",
    "13  What programming languages do you use on a reg...       Julia         296\n",
    "14  What programming languages do you use on a reg...        None         256\n",
    "```"
   ]
  },
  {
   "cell_type": "code",
   "execution_count": 2,
   "metadata": {},
   "outputs": [],
   "source": [
    "find_programming_language_selections =\\\n",
    "\"\"\"\n",
    "-- SQL 查詢語法起點\n",
    "SELECT questions.description,\n",
    "       responses.choice,\n",
    "       COUNT( * ) AS n_response\n",
    "  FROM questions\n",
    "       JOIN\n",
    "       responses ON questions.id = responses.question_id\n",
    " WHERE questions.description LIKE '%programming languages%'\n",
    " GROUP BY responses.choice\n",
    " ORDER BY n_response DESC;\n",
    "-- SQL 查詢語法終點\n",
    "\"\"\""
   ]
  },
  {
   "cell_type": "markdown",
   "metadata": {},
   "source": [
    "## 02. 從 `kaggleSurvey2022` 資料庫查詢問題 \"Select the title most similar to your current role (or most recent title if retired):\" 的填答比例，參考下列的預期查詢結果。\n",
    "\n",
    "- 預期輸入：SQL 查詢語法。\n",
    "- 預期輸出：(15, 4) 的查詢結果。\n",
    "\n",
    "```\n",
    "                                          description  \\\n",
    "0   Select the title most similar to your current ...   \n",
    "1   Select the title most similar to your current ...   \n",
    "2   Select the title most similar to your current ...   \n",
    "3   Select the title most similar to your current ...   \n",
    "4   Select the title most similar to your current ...   \n",
    "5   Select the title most similar to your current ...   \n",
    "6   Select the title most similar to your current ...   \n",
    "7   Select the title most similar to your current ...   \n",
    "8   Select the title most similar to your current ...   \n",
    "9   Select the title most similar to your current ...   \n",
    "10  Select the title most similar to your current ...   \n",
    "11  Select the title most similar to your current ...   \n",
    "12  Select the title most similar to your current ...   \n",
    "13  Select the title most similar to your current ...   \n",
    "14  Select the title most similar to your current ...   \n",
    "\n",
    "                                               choice  n_response  \\\n",
    "0                                      Data Scientist        1929   \n",
    "1   Data Analyst (Business, Marketing, Financial, ...        1538   \n",
    "2                              Currently not employed        1432   \n",
    "3                                   Software Engineer         980   \n",
    "4                                 Teacher / professor         833   \n",
    "5   Manager (Program, Project, Operations, Executi...         832   \n",
    "6                                               Other         754   \n",
    "7                                  Research Scientist         593   \n",
    "8                    Machine Learning/ MLops Engineer         571   \n",
    "9                             Engineer (non-software)         465   \n",
    "10                                      Data Engineer         352   \n",
    "11                                       Statistician         125   \n",
    "12                                     Data Architect          95   \n",
    "13                                 Data Administrator          70   \n",
    "14                                 Developer Advocate          61   \n",
    "\n",
    "   response_percentage  \n",
    "0               18.15%  \n",
    "1               14.47%  \n",
    "2               13.47%  \n",
    "3                9.22%  \n",
    "4                7.84%  \n",
    "5                7.83%  \n",
    "6                7.09%  \n",
    "7                5.58%  \n",
    "8                5.37%  \n",
    "9                4.37%  \n",
    "10               3.31%  \n",
    "11               1.18%  \n",
    "12               0.89%  \n",
    "13               0.66%  \n",
    "14               0.57%\n",
    "```"
   ]
  },
  {
   "cell_type": "code",
   "execution_count": 3,
   "metadata": {},
   "outputs": [],
   "source": [
    "find_title_percentages =\\\n",
    "\"\"\"\n",
    "-- SQL 查詢語法起點\n",
    "SELECT questions.description,\n",
    "       responses.choice,\n",
    "       COUNT( * ) AS n_response,\n",
    "       ROUND(COUNT( * ) * 100.0 / (\n",
    "                                      SELECT COUNT( * ) \n",
    "                                        FROM responses\n",
    "                                       WHERE question_id = (\n",
    "                                                               SELECT questions.id\n",
    "                                                                 FROM questions\n",
    "                                                                WHERE description LIKE '%title%'\n",
    "                                                           )\n",
    "                                  ), 2) || '%' AS response_percentage\n",
    "  FROM questions\n",
    "       JOIN\n",
    "       responses ON questions.id = responses.question_id\n",
    " WHERE questions.description LIKE '%title%'\n",
    " GROUP BY responses.choice\n",
    " ORDER BY n_response DESC;\n",
    "-- SQL 查詢語法終點\n",
    "\"\"\""
   ]
  },
  {
   "cell_type": "markdown",
   "metadata": {},
   "source": [
    "## 03. 從 `twElection2022` 資料庫查詢同名同姓的候選人資訊，參考下列的預期查詢結果。\n",
    "\n",
    "- 預期輸入：SQL 查詢語法。\n",
    "- 預期輸出：(11, 4) 的查詢結果。\n",
    "\n",
    "```\n",
    "      id candidate  type  party\n",
    "0     12       許淑華   縣市長  中國國民黨\n",
    "1    132       洪志明  縣市議員  中國國民黨\n",
    "2    457       李柏毅  縣市議員  中國國民黨\n",
    "3    620       洪志明  縣市議員  台灣民眾黨\n",
    "4    670       張志豪  縣市議員  台灣民眾黨\n",
    "5    713       陳志明  縣市議員   時代力量\n",
    "6    812       李柏毅  縣市議員  民主進步黨\n",
    "7   1047       張志豪  縣市議員  民主進步黨\n",
    "8   1094       許淑華  縣市議員  民主進步黨\n",
    "9   1212       陳志明  縣市議員      無\n",
    "10  1539       陳志明  縣市議員      無\n",
    "```"
   ]
  },
  {
   "cell_type": "code",
   "execution_count": 4,
   "metadata": {},
   "outputs": [],
   "source": [
    "find_candidates_with_same_name =\\\n",
    "\"\"\"\n",
    "-- SQL 查詢語法起點\n",
    "SELECT candidates.id,\n",
    "       candidates.candidate,\n",
    "       candidates.type,\n",
    "       parties.party\n",
    "  FROM candidates\n",
    "       JOIN\n",
    "       parties ON candidates.party_id = parties.id\n",
    " WHERE candidates.candidate IN (\n",
    "           SELECT candidate\n",
    "             FROM candidates\n",
    "            GROUP BY candidate\n",
    "           HAVING COUNT( * ) > 1\n",
    "       )\n",
    " ORDER BY parties.id;\n",
    "-- SQL 查詢語法終點\n",
    "\"\"\""
   ]
  },
  {
   "cell_type": "markdown",
   "metadata": {},
   "source": [
    "## 04. 從 `twElection2022` 資料庫查詢政黨的縣市長得票率，參考下列的預期查詢結果。\n",
    "\n",
    "- 預期輸入：SQL 查詢語法。\n",
    "- 預期輸出：(11, 2) 的查詢結果。\n",
    "\n",
    "```\n",
    "      party votes_percentage\n",
    "0     中國國民黨           50.14%\n",
    "1     民主進步黨           41.57%\n",
    "2         無            6.15%\n",
    "3     台灣民眾黨            1.47%\n",
    "4      時代力量            0.61%\n",
    "5   台灣動物保護黨            0.02%\n",
    "6      台灣維新            0.02%\n",
    "7       天一黨            0.01%\n",
    "8       共和黨             0.0%\n",
    "9       台澎黨             0.0%\n",
    "10       龍黨             0.0%\n",
    "```"
   ]
  },
  {
   "cell_type": "code",
   "execution_count": 5,
   "metadata": {},
   "outputs": [],
   "source": [
    "find_party_percentages_of_mayor =\\\n",
    "\"\"\"\n",
    "-- SQL 查詢語法起點\n",
    "SELECT parties.party,\n",
    "       ROUND(SUM(mayors.votes) * 100.0 / (\n",
    "                                             SELECT SUM(votes) \n",
    "                                               FROM mayors\n",
    "                                         ), 2) || '%' AS votes_percentage\n",
    "  FROM mayors\n",
    "       JOIN\n",
    "       candidates ON mayors.candidate_id = candidates.id\n",
    "       JOIN\n",
    "       parties ON candidates.party_id = parties.id\n",
    " GROUP BY parties.party\n",
    " ORDER BY SUM(mayors.votes) DESC;\n",
    "-- SQL 查詢語法終點\n",
    "\"\"\""
   ]
  },
  {
   "cell_type": "markdown",
   "metadata": {},
   "source": [
    "## 05. 從 `twElection2022` 資料庫查詢政黨的縣市長與縣市議員得票率，參考下列的預期查詢結果。\n",
    "\n",
    "- 預期輸入：SQL 查詢語法。\n",
    "- 預期輸出：(38, 3) 的查詢結果。\n",
    "\n",
    "```\n",
    "   campaign        party votes_percentage\n",
    "0       縣市長        中國國民黨           50.14%\n",
    "1       縣市長        民主進步黨           41.57%\n",
    "2       縣市長            無            6.15%\n",
    "3       縣市長        台灣民眾黨            1.47%\n",
    "4       縣市長         時代力量            0.61%\n",
    "5       縣市長      台灣動物保護黨            0.02%\n",
    "6       縣市長         台灣維新            0.02%\n",
    "7       縣市長          天一黨            0.01%\n",
    "8       縣市長          共和黨             0.0%\n",
    "9       縣市長          台澎黨             0.0%\n",
    "10      縣市長           龍黨             0.0%\n",
    "11     縣市議員        中國國民黨           37.75%\n",
    "12     縣市議員        民主進步黨           33.28%\n",
    "13     縣市議員            無           19.69%\n",
    "14     縣市議員        台灣民眾黨             4.0%\n",
    "15     縣市議員         時代力量            1.56%\n",
    "16     縣市議員         台灣基進            1.09%\n",
    "17     縣市議員       無黨團結聯盟            0.95%\n",
    "18     縣市議員    小民參政歐巴桑聯盟            0.36%\n",
    "19     縣市議員       台灣團結聯盟            0.33%\n",
    "20     縣市議員           新黨             0.3%\n",
    "21     縣市議員        社會民主黨            0.25%\n",
    "22     縣市議員           綠黨            0.12%\n",
    "23     縣市議員          親民黨             0.1%\n",
    "24     縣市議員          勞動黨            0.06%\n",
    "25     縣市議員      台灣動物保護黨            0.04%\n",
    "26     縣市議員         正神名黨            0.03%\n",
    "27     縣市議員         台灣維新            0.02%\n",
    "28     縣市議員      中華統一促進黨            0.01%\n",
    "29     縣市議員         左翼聯盟            0.01%\n",
    "30     縣市議員        金色力量黨            0.01%\n",
    "31     縣市議員      中國和平統一黨             0.0%\n",
    "32     縣市議員  中國國家社會主義勞工黨             0.0%\n",
    "33     縣市議員          共和黨             0.0%\n",
    "34     縣市議員          前進黨             0.0%\n",
    "35     縣市議員        台灣君民黨             0.0%\n",
    "36     縣市議員       台灣新住民黨             0.0%\n",
    "37     縣市議員      臺灣人民共產黨             0.0%\n",
    "```"
   ]
  },
  {
   "cell_type": "code",
   "execution_count": 6,
   "metadata": {},
   "outputs": [],
   "source": [
    "find_party_percentages =\\\n",
    "\"\"\"\n",
    "-- SQL 查詢語法起點\n",
    "SELECT campaign,\n",
    "       party,\n",
    "       votes_percentage || '%' AS votes_percentage\n",
    "  FROM (\n",
    "           SELECT '縣市長' AS campaign,\n",
    "                  parties.party,\n",
    "                  ROUND(SUM(mayors.votes) * 100.0 / (\n",
    "                                                        SELECT SUM(votes) \n",
    "                                                          FROM mayors\n",
    "                                                    ), 2) AS votes_percentage\n",
    "             FROM mayors\n",
    "                  JOIN\n",
    "                  candidates ON mayors.candidate_id = candidates.id\n",
    "                  JOIN\n",
    "                  parties ON candidates.party_id = parties.id\n",
    "            GROUP BY parties.party\n",
    "           UNION\n",
    "           SELECT '縣市議員' AS campaign,\n",
    "                  parties.party,\n",
    "                  ROUND(SUM(councillors.votes) * 100.0 / (\n",
    "                                                             SELECT SUM(votes) \n",
    "                                                               FROM councillors\n",
    "                                                         ), 2) AS votes_percentage\n",
    "             FROM councillors\n",
    "                  JOIN\n",
    "                  candidates ON councillors.candidate_id = candidates.id\n",
    "                  JOIN\n",
    "                  parties ON candidates.party_id = parties.id\n",
    "            GROUP BY parties.party\n",
    "            ORDER BY campaign DESC,\n",
    "                     votes_percentage DESC\n",
    "       )\n",
    "       AS percentage_without_sign;\n",
    "-- SQL 查詢語法終點\n",
    "\"\"\""
   ]
  },
  {
   "cell_type": "markdown",
   "metadata": {
    "deletable": false,
    "editable": false
   },
   "source": [
    "## 執行測試！\n",
    "\n",
    "Kernel -> Restart & Run All -> Restart and Run All Cells."
   ]
  },
  {
   "cell_type": "code",
   "execution_count": 7,
   "metadata": {
    "deletable": false
   },
   "outputs": [
    {
     "name": "stderr",
     "output_type": "stream",
     "text": [
      "test_01_find_programming_language_selections (__main__.TestDayThreeExercises) ... ok\n",
      "test_02_find_title_percentages (__main__.TestDayThreeExercises) ... ok\n",
      "test_03_find_candidates_with_same_name (__main__.TestDayThreeExercises) ... ok\n",
      "test_04_find_party_percentages_of_mayor (__main__.TestDayThreeExercises) ... ok\n",
      "test_05_find_party_percentages (__main__.TestDayThreeExercises) ... ok\n",
      "\n",
      "----------------------------------------------------------------------\n",
      "Ran 5 tests in 1.019s\n",
      "\n",
      "OK\n"
     ]
    }
   ],
   "source": [
    "class TestDayThreeExercises(unittest.TestCase):\n",
    "    def test_01_find_programming_language_selections(self):\n",
    "        programming_language_selections = pd.read_sql(find_programming_language_selections, conn)\n",
    "        self.assertEqual(programming_language_selections.shape, (15, 3))\n",
    "        column_values = programming_language_selections.iloc[:, 1].values\n",
    "        self.assertTrue('Python' in column_values)\n",
    "        self.assertTrue('SQL' in column_values)\n",
    "        column_values = programming_language_selections.iloc[:, 2].values\n",
    "        self.assertEqual(column_values.sum(), 57792)\n",
    "    def test_02_find_title_percentages(self):\n",
    "        title_percentages = pd.read_sql(find_title_percentages, conn)\n",
    "        self.assertEqual(title_percentages.shape, (15, 4))\n",
    "        column_values = title_percentages.iloc[:, 1].values\n",
    "        self.assertTrue('Data Scientist' in column_values)\n",
    "        self.assertTrue('Software Engineer' in column_values)\n",
    "        column_values = title_percentages.iloc[:, 2].values\n",
    "        self.assertEqual(column_values.sum(), 10630)\n",
    "    def test_03_find_candidates_with_same_name(self):\n",
    "        candidates_with_same_name = pd.read_sql(find_candidates_with_same_name, conn)\n",
    "        self.assertEqual(candidates_with_same_name.shape, (11, 4))\n",
    "        column_values = candidates_with_same_name.iloc[:, 1].values\n",
    "        self.assertTrue('陳志明' in column_values)\n",
    "        self.assertTrue('許淑華' in column_values)\n",
    "        self.assertTrue('張志豪' in column_values)\n",
    "        self.assertTrue('李柏毅' in column_values)\n",
    "        self.assertTrue('洪志明' in column_values)\n",
    "    def test_04_find_party_percentages_of_mayor(self):\n",
    "        party_percentages_of_mayor = pd.read_sql(find_party_percentages_of_mayor, conn)\n",
    "        self.assertEqual(party_percentages_of_mayor.shape, (11, 2))\n",
    "        column_values = party_percentages_of_mayor.iloc[:, 0].values\n",
    "        self.assertTrue('民主進步黨' in column_values)\n",
    "        self.assertTrue('中國國民黨' in column_values)\n",
    "        self.assertTrue('無' in column_values)\n",
    "    def test_05_find_party_percentages(self):\n",
    "        party_percentages = pd.read_sql(find_party_percentages, conn)\n",
    "        self.assertEqual(party_percentages.shape, (38, 3))\n",
    "        column_values = party_percentages.iloc[:, 1].values\n",
    "        self.assertTrue('民主進步黨' in column_values)\n",
    "        self.assertTrue('台灣基進' in column_values)\n",
    "        self.assertTrue('小民參政歐巴桑聯盟' in column_values)\n",
    "        \n",
    "suite = unittest.TestLoader().loadTestsFromTestCase(TestDayThreeExercises)\n",
    "runner = unittest.TextTestRunner(verbosity=2)\n",
    "test_results = runner.run(suite)\n",
    "number_of_failures = len(test_results.failures)\n",
    "number_of_errors = len(test_results.errors)\n",
    "number_of_test_runs = test_results.testsRun\n",
    "number_of_successes = number_of_test_runs - (number_of_failures + number_of_errors)"
   ]
  },
  {
   "cell_type": "code",
   "execution_count": 8,
   "metadata": {
    "deletable": false
   },
   "outputs": [
    {
     "name": "stdout",
     "output_type": "stream",
     "text": [
      "您在「專班第三天」章節中的 5 道 SQL 練習答對了 5 題。\n"
     ]
    }
   ],
   "source": [
    "print(\"您在「專班第三天」章節中的 {} 道 SQL 練習答對了 {} 題。\".format(number_of_test_runs, number_of_successes))"
   ]
  }
 ],
 "metadata": {
  "celltoolbar": "Edit Metadata",
  "kernelspec": {
   "display_name": "Python 3 (ipykernel)",
   "language": "python",
   "name": "python3"
  },
  "language_info": {
   "codemirror_mode": {
    "name": "ipython",
    "version": 3
   },
   "file_extension": ".py",
   "mimetype": "text/x-python",
   "name": "python",
   "nbconvert_exporter": "python",
   "pygments_lexer": "ipython3",
   "version": "3.10.6"
  }
 },
 "nbformat": 4,
 "nbformat_minor": 4
}
