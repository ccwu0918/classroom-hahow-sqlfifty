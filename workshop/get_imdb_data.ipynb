{
 "cells": [
  {
   "cell_type": "code",
   "execution_count": 1,
   "metadata": {
    "colab": {
     "base_uri": "https://localhost:8080/"
    },
    "id": "jSKlG-WNHEjF",
    "outputId": "731d9a69-c26a-4f8b-c423-8191caa7adee"
   },
   "outputs": [
    {
     "name": "stdout",
     "output_type": "stream",
     "text": [
      "Requirement already satisfied: beautifulsoup4 in /usr/local/lib/python3.7/dist-packages (4.6.3)\n",
      "Collecting beautifulsoup4\n",
      "  Downloading beautifulsoup4-4.10.0-py3-none-any.whl (97 kB)\n",
      "\u001b[K     |████████████████████████████████| 97 kB 3.4 MB/s \n",
      "\u001b[?25hRequirement already satisfied: soupsieve>1.2 in /usr/local/lib/python3.7/dist-packages (from beautifulsoup4) (2.3.1)\n",
      "Installing collected packages: beautifulsoup4\n",
      "  Attempting uninstall: beautifulsoup4\n",
      "    Found existing installation: beautifulsoup4 4.6.3\n",
      "    Uninstalling beautifulsoup4-4.6.3:\n",
      "      Successfully uninstalled beautifulsoup4-4.6.3\n",
      "Successfully installed beautifulsoup4-4.10.0\n"
     ]
    }
   ],
   "source": [
    "!pip install -U beautifulsoup4"
   ]
  },
  {
   "cell_type": "code",
   "execution_count": 2,
   "metadata": {
    "id": "jadTEy3W4zls"
   },
   "outputs": [],
   "source": [
    "import sqlite3\n",
    "import numpy as np\n",
    "import pandas as pd\n",
    "import requests\n",
    "from lxml import etree\n",
    "from bs4 import BeautifulSoup\n",
    "from tqdm import tqdm\n",
    "from datetime import datetime"
   ]
  },
  {
   "cell_type": "code",
   "execution_count": 3,
   "metadata": {
    "id": "4azjY4tH4zlu"
   },
   "outputs": [],
   "source": [
    "class IMDBScraper:\n",
    "    def __init__(self):\n",
    "        self.request_headers = {\n",
    "            'accept-language': \"en-US,en;q=1.0\",\n",
    "            'content-language': 'en-US',\n",
    "            'user-agent': 'user-agent: Mozilla/5.0 (Macintosh; Intel Mac OS X 10_15_7) AppleWebKit/537.36 (KHTML, like Gecko) Chrome/86.0.4240.183 Safari/537.36'\n",
    "        }\n",
    "    def get_top_rated(self):\n",
    "        response = requests.get('https://www.imdb.com/chart/top', headers=self.request_headers)\n",
    "        soup = BeautifulSoup(response.text)\n",
    "        movie_titles = [e.text for e in soup.select('.titleColumn a')]\n",
    "        movie_years = [int(e.text.replace('(', '').replace(')', '')) for e in soup.select('.secondaryInfo')]\n",
    "        top_rated_movies = pd.DataFrame()\n",
    "        top_rated_movies['id'] = range(1, len(movie_titles) + 1)\n",
    "        top_rated_movies['title'] = movie_titles\n",
    "        top_rated_movies['release_year'] = movie_years\n",
    "        movie_page_links = [e.get(\"href\") for e in soup.select('.titleColumn a')]\n",
    "        self.movie_titles = movie_titles\n",
    "        self.movie_page_links = movie_page_links\n",
    "        return top_rated_movies\n",
    "    def get_movie_info(self):\n",
    "        top_rated_movies = self.get_top_rated()\n",
    "        movie_ids = top_rated_movies['id'].values\n",
    "        movie_info = []\n",
    "        for mplink, mid, mtitle in tqdm(zip(self.movie_page_links, movie_ids, self.movie_titles)):\n",
    "            rating_page = f\"https://www.imdb.com{mplink}ratings\"\n",
    "            response = requests.get(rating_page, headers=self.request_headers)\n",
    "            soup = BeautifulSoup(response.text)\n",
    "            try:\n",
    "                rating = float(soup.select('.ipl-rating-star__rating')[0].text)\n",
    "            except:\n",
    "                rating = None\n",
    "            movie_page = f\"https://www.imdb.com{mplink}\"\n",
    "            response = requests.get(movie_page, headers=self.request_headers)\n",
    "            soup = BeautifulSoup(response.text)\n",
    "            try:\n",
    "                director = soup.select('a.ipc-metadata-list-item__list-content-item--link')[0].text\n",
    "            except:\n",
    "                director = None\n",
    "            soup = BeautifulSoup(response.content, \"html.parser\")\n",
    "            dom = etree.HTML(str(soup))\n",
    "            release_year = int(dom.xpath('//*[@id=\"__next\"]/main/div/section[1]/section/div[3]/section/section/div[1]/div[1]/div/ul/li[1]/a')[0].text)\n",
    "            if mtitle == \"The Boat\":\n",
    "                movie_time = soup.select(\"div > ul > li:nth-child(2)\")[0].text.split()\n",
    "            else:\n",
    "                movie_time = soup.select(\"div > ul > li:nth-child(3)\")[0].text.split()\n",
    "            if len(movie_time) == 2:\n",
    "                hours, mins = int(movie_time[0].replace(\"h\", \"\")), int(movie_time[1].replace(\"m\", \"\"))\n",
    "                movie_time_mins = hours * 60 + mins\n",
    "            else:\n",
    "                hours_mins = movie_time[0]\n",
    "                if 'h' in hours_mins:\n",
    "                    hours = int(hours_mins.replace('h', ''))\n",
    "                    movie_time_mins = hours * 60\n",
    "                elif 'm' in hours_mins:\n",
    "                    mins = int(hours_mins.replace('m', ''))\n",
    "                    movie_time_mins = mins\n",
    "            credits_page = f\"https://www.imdb.com{mplink}fullcredits\"\n",
    "            response = requests.get(credits_page, headers=self.request_headers)\n",
    "            soup = BeautifulSoup(response.text)\n",
    "            actors = [e.text.strip() for e in soup.select('.primary_photo+ td a')]\n",
    "            if len(actors) > 15:\n",
    "                actors = actors[:15]\n",
    "            ords = list(range(1, len(actors) + 1))\n",
    "            print(f\"{mtitle}: {actors}\")\n",
    "            movie_data = {\n",
    "                'id': mid,\n",
    "                'rating': rating,\n",
    "                'director': director,\n",
    "                'release_year': release_year,\n",
    "                'runtime': movie_time_mins,\n",
    "                'actor': actors,\n",
    "                'ord': ords\n",
    "            }\n",
    "            movie_info.append(movie_data)\n",
    "        self._movie_info = movie_info\n",
    "        return movie_info\n",
    "    def get_top_rated_movies(self):\n",
    "        top_rated = self.get_top_rated()\n",
    "        movie_info = self.get_movie_info()\n",
    "        movie_info_list = []\n",
    "        for item in movie_info:\n",
    "            movie_data = {\n",
    "                'id': item['id'],\n",
    "                'rating': item['rating'],\n",
    "                'director': item['director'],\n",
    "                'runtime': item['runtime']\n",
    "            }\n",
    "            movie_info_list.append(movie_data)\n",
    "        movie_info_df = pd.DataFrame(movie_info_list)\n",
    "        top_rated_movies = pd.merge(top_rated, movie_info_df, left_on='id', right_on='id')\n",
    "        return top_rated_movies[['id', 'title', 'release_year', 'rating', 'director', 'runtime']]\n",
    "    def get_actors(self):\n",
    "        movie_info = self._movie_info\n",
    "        actors_list = []\n",
    "        for item in tqdm(movie_info):\n",
    "            actor = item['actor']\n",
    "            actors_list += actor\n",
    "        unique_actors = set(actors_list)\n",
    "        ordered_actors = sorted(list(unique_actors))\n",
    "        ids = list(range(1, len(ordered_actors) + 1))\n",
    "        actors = pd.DataFrame()\n",
    "        actors['id'] = ids\n",
    "        actors['name'] = ordered_actors\n",
    "        self._actors = actors\n",
    "        return actors\n",
    "    def get_casting(self):\n",
    "        movie_info = self._movie_info\n",
    "        actors = self._actors\n",
    "        casting = pd.DataFrame()\n",
    "        for item in tqdm(movie_info):\n",
    "            movie_id = item['id']\n",
    "            names = item['actor']\n",
    "            ords = item['ord']\n",
    "            df = pd.DataFrame()\n",
    "            df['actor_name'] = names\n",
    "            df['ord'] = ords\n",
    "            df['movie_id'] = movie_id\n",
    "            casting = casting.append(df)\n",
    "        casting_merged = pd.merge(casting, actors, left_on='actor_name', right_on='name', how='left')\n",
    "        casting_selected = casting_merged[['movie_id', 'id', 'ord']]\n",
    "        casting_selected.columns = ['movie_id', 'actor_id', 'ord']\n",
    "        return casting_selected"
   ]
  },
  {
   "cell_type": "code",
   "execution_count": 4,
   "metadata": {
    "colab": {
     "base_uri": "https://localhost:8080/"
    },
    "id": "IP0x3xJDKk81",
    "outputId": "051308d5-440e-4622-a989-7de99ec9f609"
   },
   "outputs": [
    {
     "data": {
      "text/plain": [
       "['Tim Robbins',\n",
       " 'Morgan Freeman',\n",
       " 'Bob Gunton',\n",
       " 'William Sadler',\n",
       " 'Clancy Brown',\n",
       " 'Gil Bellows',\n",
       " 'Mark Rolston',\n",
       " 'James Whitmore',\n",
       " 'Jeffrey DeMunn',\n",
       " 'Larry Brandenburg',\n",
       " 'Neil Giuntoli',\n",
       " 'Brian Libby',\n",
       " 'David Proval',\n",
       " 'Joseph Ragno',\n",
       " 'Jude Ciccolella',\n",
       " 'Paul McCrane',\n",
       " 'Renee Blaine',\n",
       " 'Scott Mann',\n",
       " 'John Horton',\n",
       " 'Gordon Greene',\n",
       " 'Alfonso Freeman',\n",
       " 'Vincent Foster',\n",
       " 'John E. Summers',\n",
       " 'Frank Medrano',\n",
       " 'Mack Miles',\n",
       " 'Alan R. Kessler',\n",
       " 'Morgan Lund',\n",
       " 'Cornell Wallace',\n",
       " 'Gary Lee Davis',\n",
       " 'Neil Summers',\n",
       " 'Ned Bellamy',\n",
       " 'Joe Pecoraro',\n",
       " 'Harold E. Cope Jr.',\n",
       " 'Brian Delate',\n",
       " 'Don McManus',\n",
       " 'Donald Zinn',\n",
       " 'Dorothy Silver',\n",
       " 'Robert Haley',\n",
       " 'Dana Snyder',\n",
       " 'John D. Craig',\n",
       " 'Ken Magee',\n",
       " 'Eugene C. DePasquale',\n",
       " 'Bill Bolender',\n",
       " 'Ron Newell',\n",
       " 'John R. Woodward',\n",
       " 'Chuck Brauchler',\n",
       " 'Dion Anderson',\n",
       " 'Claire Slemmer',\n",
       " 'James Kisicki',\n",
       " 'Rohn Thomas',\n",
       " 'Charlie Kearns',\n",
       " 'Rob Reider',\n",
       " 'Brian Brophy',\n",
       " 'Paul Kennedy',\n",
       " 'James Babson',\n",
       " 'Dennis Baker',\n",
       " 'Fred Culbertson',\n",
       " 'Richard Doone',\n",
       " 'Shane Grove',\n",
       " 'Rita Hayworth',\n",
       " 'David Hecht',\n",
       " 'Alonzo F. Jones',\n",
       " 'Gary Jones',\n",
       " 'Sergio Kato',\n",
       " 'Michael Lightsey',\n",
       " 'George Macready',\n",
       " 'Christopher Page',\n",
       " 'Neil Riddaway',\n",
       " 'Brad Spencer',\n",
       " 'Jodiviah Stepp',\n",
       " 'Mark A. Strain']"
      ]
     },
     "execution_count": 4,
     "metadata": {},
     "output_type": "execute_result"
    }
   ],
   "source": [
    "response = requests.get(\"https://www.imdb.com/title/tt0111161/fullcredits\")\n",
    "soup = BeautifulSoup(response.text)\n",
    "actors = [e.text.strip() for e in soup.select('.primary_photo+ td a')]\n",
    "actors"
   ]
  },
  {
   "cell_type": "code",
   "execution_count": 5,
   "metadata": {
    "colab": {
     "base_uri": "https://localhost:8080/"
    },
    "id": "Y77Bb8Ug4zlu",
    "outputId": "b83bbc58-fb52-4191-ad9b-0186bee03f4b"
   },
   "outputs": [
    {
     "name": "stderr",
     "output_type": "stream",
     "text": [
      "1it [00:02,  2.28s/it]"
     ]
    },
    {
     "name": "stdout",
     "output_type": "stream",
     "text": [
      "The Shawshank Redemption: ['Tim Robbins', 'Morgan Freeman', 'Bob Gunton', 'William Sadler', 'Clancy Brown', 'Gil Bellows', 'Mark Rolston', 'James Whitmore', 'Jeffrey DeMunn', 'Larry Brandenburg', 'Neil Giuntoli', 'Brian Libby', 'David Proval', 'Joseph Ragno', 'Jude Ciccolella']\n"
     ]
    },
    {
     "name": "stderr",
     "output_type": "stream",
     "text": [
      "\r",
      "2it [00:05,  2.77s/it]"
     ]
    },
    {
     "name": "stdout",
     "output_type": "stream",
     "text": [
      "The Godfather: ['Marlon Brando', 'Al Pacino', 'James Caan', 'Richard S. Castellano', 'Robert Duvall', 'Sterling Hayden', 'John Marley', 'Richard Conte', 'Al Lettieri', 'Diane Keaton', 'Abe Vigoda', 'Talia Shire', 'Gianni Russo', 'John Cazale', 'Rudy Bond']\n"
     ]
    },
    {
     "name": "stderr",
     "output_type": "stream",
     "text": [
      "\r",
      "3it [00:10,  3.73s/it]"
     ]
    },
    {
     "name": "stdout",
     "output_type": "stream",
     "text": [
      "The Dark Knight: ['Christian Bale', 'Heath Ledger', 'Aaron Eckhart', 'Michael Caine', 'Maggie Gyllenhaal', 'Gary Oldman', 'Morgan Freeman', 'Monique Gabriela Curnen', 'Ron Dean', 'Cillian Murphy', 'Chin Han', 'Nestor Carbonell', 'Eric Roberts', 'Ritchie Coster', 'Anthony Michael Hall']\n"
     ]
    },
    {
     "name": "stderr",
     "output_type": "stream",
     "text": [
      "\r",
      "4it [00:13,  3.65s/it]"
     ]
    },
    {
     "name": "stdout",
     "output_type": "stream",
     "text": [
      "The Godfather: Part II: ['Al Pacino', 'Robert Duvall', 'Diane Keaton', 'Robert De Niro', 'John Cazale', 'Talia Shire', 'Lee Strasberg', 'Michael V. Gazzo', 'G.D. Spradlin', 'Richard Bright', 'Gastone Moschin', 'Tom Rosqui', 'Bruno Kirby', 'Frank Sivero', 'Francesca De Sapio']\n"
     ]
    },
    {
     "name": "stderr",
     "output_type": "stream",
     "text": [
      "\r",
      "5it [00:15,  3.08s/it]"
     ]
    },
    {
     "name": "stdout",
     "output_type": "stream",
     "text": [
      "12 Angry Men: ['Martin Balsam', 'John Fiedler', 'Lee J. Cobb', 'E.G. Marshall', 'Jack Klugman', 'Edward Binns', 'Jack Warden', 'Henry Fonda', 'Joseph Sweeney', 'Ed Begley', 'George Voskovec', 'Robert Webber', 'Rudy Bond', 'Tom Gorman', 'James Kelly']\n"
     ]
    },
    {
     "name": "stderr",
     "output_type": "stream",
     "text": [
      "\r",
      "6it [00:17,  2.74s/it]"
     ]
    },
    {
     "name": "stdout",
     "output_type": "stream",
     "text": [
      "Schindler's List: ['Liam Neeson', 'Ben Kingsley', 'Ralph Fiennes', 'Caroline Goodall', 'Jonathan Sagall', 'Embeth Davidtz', 'Malgorzata Gebel', 'Shmuel Levy', 'Mark Ivanir', 'Béatrice Macola', 'Andrzej Seweryn', 'Friedrich von Thun', 'Krzysztof Luft', 'Harry Nehring', 'Norbert Weisser']\n"
     ]
    },
    {
     "name": "stderr",
     "output_type": "stream",
     "text": [
      "\r",
      "7it [00:21,  2.90s/it]"
     ]
    },
    {
     "name": "stdout",
     "output_type": "stream",
     "text": [
      "The Lord of the Rings: The Return of the King: ['Noel Appleby', 'Ali Astin', 'Sean Astin', 'David Aston', 'John Bach', 'Sean Bean', 'Cate Blanchett', 'Orlando Bloom', 'Billy Boyd', 'Sadwyn Brophy', 'Alistair Browning', 'Marton Csokas', 'Richard Edge', 'Jason Fitch', 'Bernard Hill']\n"
     ]
    },
    {
     "name": "stderr",
     "output_type": "stream",
     "text": [
      "\r",
      "8it [00:23,  2.69s/it]"
     ]
    },
    {
     "name": "stdout",
     "output_type": "stream",
     "text": [
      "Pulp Fiction: ['Tim Roth', 'Amanda Plummer', 'Laura Lovelace', 'John Travolta', 'Samuel L. Jackson', 'Phil LaMarr', 'Frank Whaley', 'Burr Steers', 'Bruce Willis', 'Ving Rhames', 'Paul Calderon', 'Bronagh Gallagher', 'Rosanna Arquette', 'Eric Stoltz', 'Uma Thurman']\n"
     ]
    },
    {
     "name": "stderr",
     "output_type": "stream",
     "text": [
      "\r",
      "9it [00:25,  2.59s/it]"
     ]
    },
    {
     "name": "stdout",
     "output_type": "stream",
     "text": [
      "The Lord of the Rings: The Fellowship of the Ring: ['Alan Howard', 'Noel Appleby', 'Sean Astin', 'Sala Baker', 'Sean Bean', 'Cate Blanchett', 'Orlando Bloom', 'Billy Boyd', 'Marton Csokas', 'Megan Edwards', 'Michael Elsworth', 'Mark Ferguson', 'Ian Holm', 'Christopher Lee', 'Lawrence Makoare']\n"
     ]
    },
    {
     "name": "stderr",
     "output_type": "stream",
     "text": [
      "\r",
      "10it [00:27,  2.45s/it]"
     ]
    },
    {
     "name": "stdout",
     "output_type": "stream",
     "text": [
      "The Good, the Bad and the Ugly: ['Eli Wallach', 'Clint Eastwood', 'Lee Van Cleef', 'Aldo Giuffrè', 'Luigi Pistilli', 'Rada Rassimov', 'Enzo Petito', 'Claudio Scarchilli', 'John Bartha', 'Livio Lorenzon', 'Antonio Casale', 'Sandro Scarchilli', 'Benito Stefanelli', 'Angelo Novi', 'Antonio Casas']\n"
     ]
    },
    {
     "name": "stderr",
     "output_type": "stream",
     "text": [
      "\r",
      "11it [00:31,  2.79s/it]"
     ]
    },
    {
     "name": "stdout",
     "output_type": "stream",
     "text": [
      "Forrest Gump: ['Tom Hanks', 'Rebecca Williams', 'Sally Field', 'Michael Conner Humphreys', 'Harold G. Herthum', 'George Kelly', 'Bob Penny', 'John Randall', 'Sam Anderson', 'Margo Moorer', 'Ione M. Telech', 'Christine Seabrook', 'John Worsham', 'Peter Dobson', 'Siobhan Fallon Hogan']\n"
     ]
    },
    {
     "name": "stderr",
     "output_type": "stream",
     "text": [
      "\r",
      "12it [00:34,  2.72s/it]"
     ]
    },
    {
     "name": "stdout",
     "output_type": "stream",
     "text": [
      "Fight Club: ['Edward Norton', 'Brad Pitt', 'Meat Loaf', 'Zach Grenier', 'Richmond Arquette', 'David Andrews', 'George Maguire', 'Eugenie Bondurant', 'Christina Cabot', 'Helena Bonham Carter', \"Sydney 'Big Dawg' Colston\", 'Rachel Singer', 'Christie Cronenweth', 'Tim DeZarn', 'Ezra Buzzington']\n"
     ]
    },
    {
     "name": "stderr",
     "output_type": "stream",
     "text": [
      "\r",
      "13it [00:37,  2.99s/it]"
     ]
    },
    {
     "name": "stdout",
     "output_type": "stream",
     "text": [
      "Inception: ['Leonardo DiCaprio', 'Joseph Gordon-Levitt', 'Elliot Page', 'Tom Hardy', 'Ken Watanabe', 'Dileep Rao', 'Cillian Murphy', 'Tom Berenger', 'Marion Cotillard', 'Pete Postlethwaite', 'Michael Caine', 'Lukas Haas', 'Tai-Li Lee', 'Claire Geare', 'Magnus Nolan']\n"
     ]
    },
    {
     "name": "stderr",
     "output_type": "stream",
     "text": [
      "\r",
      "14it [00:40,  2.97s/it]"
     ]
    },
    {
     "name": "stdout",
     "output_type": "stream",
     "text": [
      "The Lord of the Rings: The Two Towers: ['Bruce Allpress', 'Sean Astin', 'John Bach', 'Sala Baker', 'Cate Blanchett', 'Orlando Bloom', 'Billy Boyd', 'Jed Brophy', 'Sam Comery', 'Brad Dourif', 'Calum Gittins', 'Bernard Hill', 'Bruce Hopkins', 'Paris Howe Strewe', 'Christopher Lee']\n"
     ]
    },
    {
     "name": "stderr",
     "output_type": "stream",
     "text": [
      "\r",
      "15it [00:42,  2.74s/it]"
     ]
    },
    {
     "name": "stdout",
     "output_type": "stream",
     "text": [
      "Star Wars: Episode V - The Empire Strikes Back: ['Mark Hamill', 'Harrison Ford', 'Carrie Fisher', 'Billy Dee Williams', 'Anthony Daniels', 'David Prowse', 'Peter Mayhew', 'Kenny Baker', 'Frank Oz', 'Alec Guinness', 'Jeremy Bulloch', 'John Hollis', 'Jack Purvis', 'Des Webb', 'Clive Revill']\n"
     ]
    },
    {
     "name": "stderr",
     "output_type": "stream",
     "text": [
      "\r",
      "16it [00:44,  2.53s/it]"
     ]
    },
    {
     "name": "stdout",
     "output_type": "stream",
     "text": [
      "The Matrix: ['Keanu Reeves', 'Laurence Fishburne', 'Carrie-Anne Moss', 'Hugo Weaving', 'Gloria Foster', 'Joe Pantoliano', 'Marcus Chong', 'Julian Arahanga', 'Matt Doran', 'Belinda McClory', 'Anthony Ray Parker', 'Paul Goddard', 'Robert Taylor', 'David Aston', 'Marc Aden Gray']\n"
     ]
    },
    {
     "name": "stderr",
     "output_type": "stream",
     "text": [
      "\r",
      "17it [00:46,  2.27s/it]"
     ]
    },
    {
     "name": "stdout",
     "output_type": "stream",
     "text": [
      "Goodfellas: ['Robert De Niro', 'Ray Liotta', 'Joe Pesci', 'Lorraine Bracco', 'Paul Sorvino', 'Frank Sivero', 'Tony Darrow', 'Mike Starr', 'Frank Vincent', 'Chuck Low', 'Frank DiLeo', 'Henny Youngman', 'Gina Mastrogiacomo', 'Catherine Scorsese', 'Charles Scorsese']\n"
     ]
    },
    {
     "name": "stderr",
     "output_type": "stream",
     "text": [
      "\r",
      "18it [00:48,  2.12s/it]"
     ]
    },
    {
     "name": "stdout",
     "output_type": "stream",
     "text": [
      "One Flew Over the Cuckoo's Nest: ['Michael Berryman', 'Peter Brocco', 'Dean R. Brooks', 'Alonzo Brown', 'Scatman Crothers', 'Mwako Cumbuka', 'Danny DeVito', 'William Duell', 'Josip Elic', 'Lan Fendors', 'Louise Fletcher', 'Nathan George', 'Ken Kenny', 'Mel Lambert', 'Sydney Lassick']\n"
     ]
    },
    {
     "name": "stderr",
     "output_type": "stream",
     "text": [
      "\r",
      "19it [00:50,  2.04s/it]"
     ]
    },
    {
     "name": "stdout",
     "output_type": "stream",
     "text": [
      "Se7en: ['Morgan Freeman', 'Andrew Kevin Walker', 'Daniel Zacapa', 'Brad Pitt', 'Gwyneth Paltrow', 'John Cassini', 'Bob Mack', 'Peter Crombie', 'Reg E. Cathey', 'R. Lee Ermey', 'George Christy', 'Endre Hules', 'Hawthorne James', 'William Davidson', 'Bob Collins']\n"
     ]
    },
    {
     "name": "stderr",
     "output_type": "stream",
     "text": [
      "\r",
      "20it [00:52,  2.12s/it]"
     ]
    },
    {
     "name": "stdout",
     "output_type": "stream",
     "text": [
      "Seven Samurai: ['Toshirô Mifune', 'Takashi Shimura', 'Keiko Tsushima', 'Yukiko Shimazaki', 'Kamatari Fujiwara', 'Daisuke Katô', 'Isao Kimura', 'Minoru Chiaki', 'Seiji Miyaguchi', 'Yoshio Kosugi', 'Bokuzen Hidari', 'Yoshio Inaba', 'Yoshio Tsuchiya', 'Kokuten Kôdô', 'Eijirô Tôno']\n"
     ]
    },
    {
     "name": "stderr",
     "output_type": "stream",
     "text": [
      "\r",
      "21it [00:54,  2.09s/it]"
     ]
    },
    {
     "name": "stdout",
     "output_type": "stream",
     "text": [
      "It's a Wonderful Life: ['James Stewart', 'Donna Reed', 'Lionel Barrymore', 'Thomas Mitchell', 'Henry Travers', 'Beulah Bondi', 'Frank Faylen', 'Ward Bond', 'Gloria Grahame', 'H.B. Warner', 'Frank Albertson', 'Todd Karns', 'Samuel S. Hinds', 'Mary Treen', 'Virginia Patton']\n"
     ]
    },
    {
     "name": "stderr",
     "output_type": "stream",
     "text": [
      "\r",
      "22it [00:56,  1.94s/it]"
     ]
    },
    {
     "name": "stdout",
     "output_type": "stream",
     "text": [
      "The Silence of the Lambs: ['Jodie Foster', 'Lawrence A. Bonney', 'Kasi Lemmons', 'Lawrence T. Wrentz', 'Scott Glenn', 'Anthony Heald', 'Frankie Faison', 'Don Brockett', 'Frank Seals Jr.', 'Stuart Rudin', 'Anthony Hopkins', 'Maria Skorobogatov', 'Jeffrie Lane', 'Leib Lensky', \"George 'Red' Schwartz\"]\n"
     ]
    },
    {
     "name": "stderr",
     "output_type": "stream",
     "text": [
      "\r",
      "23it [00:58,  2.03s/it]"
     ]
    },
    {
     "name": "stdout",
     "output_type": "stream",
     "text": [
      "Saving Private Ryan: ['Tom Hanks', 'Tom Sizemore', 'Edward Burns', 'Barry Pepper', 'Adam Goldberg', 'Vin Diesel', 'Giovanni Ribisi', 'Jeremy Davies', 'Matt Damon', 'Ted Danson', 'Paul Giamatti', 'Dennis Farina', 'Joerg Stadler', 'Max Martini', 'Dylan Bruno']\n"
     ]
    },
    {
     "name": "stderr",
     "output_type": "stream",
     "text": [
      "\r",
      "24it [01:00,  1.95s/it]"
     ]
    },
    {
     "name": "stdout",
     "output_type": "stream",
     "text": [
      "City of God: ['Alexandre Rodrigues', 'Leandro Firmino', 'Phellipe Haagensen', 'Douglas Silva', 'Jonathan Haagensen', 'Matheus Nachtergaele', 'Seu Jorge', 'Jefechander Suplino', 'Alice Braga', 'Emerson Gomes', 'Edson Oliveira', 'Michel Gomes', 'Roberta Rodrigues', 'Luis Otávio', 'Kiko Marques']\n"
     ]
    },
    {
     "name": "stderr",
     "output_type": "stream",
     "text": [
      "\r",
      "25it [01:01,  1.89s/it]"
     ]
    },
    {
     "name": "stdout",
     "output_type": "stream",
     "text": [
      "Life Is Beautiful: ['Roberto Benigni', 'Nicoletta Braschi', 'Giorgio Cantarini', 'Giustino Durano', 'Sergio Bini Bustric', 'Marisa Paredes', 'Horst Buchholz', 'Lidia Alfonsi', 'Giuliana Lojodice', 'Amerigo Fontani', 'Pietro De Silva', 'Francesco Guzzo', 'Raffaella Lebboroni', 'Claudio Alfonsi', 'Gil Baroni']\n"
     ]
    },
    {
     "name": "stderr",
     "output_type": "stream",
     "text": [
      "\r",
      "26it [01:03,  1.92s/it]"
     ]
    },
    {
     "name": "stdout",
     "output_type": "stream",
     "text": [
      "The Green Mile: ['Tom Hanks', 'David Morse', 'Bonnie Hunt', 'Michael Clarke Duncan', 'James Cromwell', 'Michael Jeter', 'Graham Greene', 'Doug Hutchison', 'Sam Rockwell', 'Barry Pepper', 'Jeffrey DeMunn', 'Patricia Clarkson', 'Harry Dean Stanton', 'Dabbs Greer', 'Eve Brent']\n"
     ]
    },
    {
     "name": "stderr",
     "output_type": "stream",
     "text": [
      "\r",
      "27it [01:06,  2.08s/it]"
     ]
    },
    {
     "name": "stdout",
     "output_type": "stream",
     "text": [
      "Star Wars: ['Mark Hamill', 'Harrison Ford', 'Carrie Fisher', 'Peter Cushing', 'Alec Guinness', 'Anthony Daniels', 'Kenny Baker', 'Peter Mayhew', 'David Prowse', 'Phil Brown', 'Shelagh Fraser', 'Jack Purvis', 'Alex McCrindle', 'Eddie Byrne', 'Drewe Henley']\n"
     ]
    },
    {
     "name": "stderr",
     "output_type": "stream",
     "text": [
      "\r",
      "28it [01:08,  2.19s/it]"
     ]
    },
    {
     "name": "stdout",
     "output_type": "stream",
     "text": [
      "Interstellar: ['Ellen Burstyn', 'Matthew McConaughey', 'Mackenzie Foy', 'John Lithgow', 'Timothée Chalamet', 'David Oyelowo', 'Collette Wolfe', 'Francis X. McCarthy', 'Bill Irwin', 'Anne Hathaway', 'Andrew Borba', 'Wes Bentley', 'William Devane', 'Michael Caine', 'David Gyasi']\n"
     ]
    },
    {
     "name": "stderr",
     "output_type": "stream",
     "text": [
      "\r",
      "29it [01:10,  2.21s/it]"
     ]
    },
    {
     "name": "stdout",
     "output_type": "stream",
     "text": [
      "Terminator 2: Judgment Day: ['Arnold Schwarzenegger', 'Linda Hamilton', 'Edward Furlong', 'Robert Patrick', 'Earl Boen', 'Joe Morton', 'S. Epatha Merkerson', 'Castulo Guerra', 'Danny Cooksey', 'Jenette Goldstein', 'Xander Berkeley', 'Leslie Hamilton Gearren', 'Ken Gibbel', 'Robert Winley', 'Peter Schrum']\n"
     ]
    },
    {
     "name": "stderr",
     "output_type": "stream",
     "text": [
      "\r",
      "30it [01:13,  2.18s/it]"
     ]
    },
    {
     "name": "stdout",
     "output_type": "stream",
     "text": [
      "Back to the Future: ['Michael J. Fox', 'Christopher Lloyd', 'Lea Thompson', 'Crispin Glover', 'Tom Wilson', 'Claudia Wells', 'Marc McClure', 'Wendie Jo Sperber', 'George DiCenzo', 'Frances Lee McCain', 'James Tolkan', 'J.J. Cohen', 'Casey Siemaszko', 'Billy Zane', 'Harry Waters Jr.']\n"
     ]
    },
    {
     "name": "stderr",
     "output_type": "stream",
     "text": [
      "\r",
      "31it [01:16,  2.55s/it]"
     ]
    },
    {
     "name": "stdout",
     "output_type": "stream",
     "text": [
      "Spirited Away: ['Rumi Hiiragi', 'Miyu Irino', 'Mari Natsuki', 'Takashi Naitô', 'Yasuko Sawaguchi', 'Tatsuya Gashûin', 'Ryûnosuke Kamiki', 'Yumi Tamai', 'Yô Ôizumi', 'Koba Hayashi', 'Tsunehiko Kamijô', 'Takehiko Ono', 'Bunta Sugawara', 'Shigeru Wakita', 'Shirô Saitô']\n"
     ]
    },
    {
     "name": "stderr",
     "output_type": "stream",
     "text": [
      "\r",
      "32it [01:18,  2.40s/it]"
     ]
    },
    {
     "name": "stdout",
     "output_type": "stream",
     "text": [
      "Psycho: ['Anthony Perkins', 'Vera Miles', 'John Gavin', 'Janet Leigh', 'Martin Balsam', 'John McIntire', 'Simon Oakland', 'Frank Albertson', 'Patricia Hitchcock', 'Vaughn Taylor', 'Lurene Tuttle', 'John Anderson', 'Mort Mills', 'Fletcher Allen', 'Walter Bacon']\n"
     ]
    },
    {
     "name": "stderr",
     "output_type": "stream",
     "text": [
      "\r",
      "33it [01:21,  2.53s/it]"
     ]
    },
    {
     "name": "stdout",
     "output_type": "stream",
     "text": [
      "The Pianist: ['Adrien Brody', 'Emilia Fox', 'Michal Zebrowski', 'Ed Stoppard', 'Maureen Lipman', 'Frank Finlay', 'Jessica Kate Meyer', 'Julia Rayner', 'Wanja Mues', 'Richard Ridings', 'Nomi Sharron', 'Anthony Milner', 'Lucy Skeaping', 'Roddy Skeaping', 'Ben Harlan']\n"
     ]
    },
    {
     "name": "stderr",
     "output_type": "stream",
     "text": [
      "\r",
      "34it [01:23,  2.40s/it]"
     ]
    },
    {
     "name": "stdout",
     "output_type": "stream",
     "text": [
      "Léon: The Professional: ['Jean Reno', 'Gary Oldman', 'Natalie Portman', 'Danny Aiello', 'Peter Appel', 'Willi One Blood', 'Don Creech', 'Keith A. Glascoe', 'Randolph Scott', 'Michael Badalucco', 'Ellen Greene', 'Elizabeth Regen', 'Carl J. Matusovich', 'Frank Senger', 'Lucius Wyatt Cherokee']\n"
     ]
    },
    {
     "name": "stderr",
     "output_type": "stream",
     "text": [
      "\r",
      "35it [01:25,  2.45s/it]"
     ]
    },
    {
     "name": "stdout",
     "output_type": "stream",
     "text": [
      "Parasite: ['Kang-ho Song', 'Sun-kyun Lee', 'Yeo-jeong Cho', 'Choi Woo-sik', 'So-dam Park', 'Lee Jeong-eun', 'Jang Hye-jin', 'Park Myeong-hoon', 'Ji-so Jung', 'Hyun-jun Jung', 'Keun-rok Park', 'Yi-Seo Jung', 'Jae-myeong Jo', 'Ik-han Jung', 'Kyu-baek Kim']\n"
     ]
    },
    {
     "name": "stderr",
     "output_type": "stream",
     "text": [
      "\r",
      "36it [01:28,  2.43s/it]"
     ]
    },
    {
     "name": "stdout",
     "output_type": "stream",
     "text": [
      "The Lion King: ['Rowan Atkinson', 'Matthew Broderick', 'Niketa Calame-Harris', 'Jim Cummings', 'Whoopi Goldberg', 'Robert Guillaume', 'Jeremy Irons', 'James Earl Jones', 'Moira Kelly', 'Nathan Lane', 'Zoe Leader', 'Cheech Marin', 'Ernie Sabella', 'Madge Sinclair', 'Jonathan Taylor Thomas']\n"
     ]
    },
    {
     "name": "stderr",
     "output_type": "stream",
     "text": [
      "\r",
      "37it [01:30,  2.45s/it]"
     ]
    },
    {
     "name": "stdout",
     "output_type": "stream",
     "text": [
      "Gladiator: ['Russell Crowe', 'Joaquin Phoenix', 'Connie Nielsen', 'Oliver Reed', 'Richard Harris', 'Derek Jacobi', 'Djimon Hounsou', 'David Schofield', 'John Shrapnel', 'Tomas Arana', 'Ralf Moeller', 'Spencer Treat Clark', 'David Hemmings', 'Tommy Flanagan', 'Sven-Ole Thorsen']\n"
     ]
    },
    {
     "name": "stderr",
     "output_type": "stream",
     "text": [
      "\r",
      "38it [01:32,  2.29s/it]"
     ]
    },
    {
     "name": "stdout",
     "output_type": "stream",
     "text": [
      "American History X: ['Edward Norton', 'Edward Furlong', \"Beverly D'Angelo\", 'Jennifer Lien', 'Ethan Suplee', 'Fairuza Balk', 'Avery Brooks', 'Elliott Gould', 'Stacy Keach', 'William Russ', 'Guy Torry', 'Joe Cortese', 'Jason Bose Smith', 'Antonio David Lyons', 'Alex Sol']\n"
     ]
    },
    {
     "name": "stderr",
     "output_type": "stream",
     "text": [
      "\r",
      "39it [01:35,  2.30s/it]"
     ]
    },
    {
     "name": "stdout",
     "output_type": "stream",
     "text": [
      "The Usual Suspects: ['Stephen Baldwin', 'Gabriel Byrne', 'Benicio Del Toro', 'Kevin Pollak', 'Kevin Spacey', 'Chazz Palminteri', 'Pete Postlethwaite', 'Suzy Amis', 'Giancarlo Esposito', 'Dan Hedaya', 'Paul Bartel', 'Carl Bressler', 'Phillipe Simon', 'Jack Shearer', 'Christine Estabrook']\n"
     ]
    },
    {
     "name": "stderr",
     "output_type": "stream",
     "text": [
      "\r",
      "40it [01:37,  2.29s/it]"
     ]
    },
    {
     "name": "stdout",
     "output_type": "stream",
     "text": [
      "The Departed: ['Leonardo DiCaprio', 'Matt Damon', 'Jack Nicholson', 'Mark Wahlberg', 'Martin Sheen', 'Ray Winstone', 'Vera Farmiga', 'Anthony Anderson', 'Alec Baldwin', 'Kevin Corrigan', 'James Badge Dale', \"David O'Hara\", 'Mark Rolston', 'Robert Wahlberg', 'Kristen Dalton']\n"
     ]
    },
    {
     "name": "stderr",
     "output_type": "stream",
     "text": [
      "\r",
      "41it [01:39,  2.30s/it]"
     ]
    },
    {
     "name": "stdout",
     "output_type": "stream",
     "text": [
      "The Prestige: ['Hugh Jackman', 'Christian Bale', 'Michael Caine', 'Piper Perabo', 'Rebecca Hall', 'Scarlett Johansson', 'Samantha Mahurin', 'David Bowie', 'Andy Serkis', 'Daniel Davis', 'Jim Piddock', 'Christopher Neame', 'Mark Ryan', 'Roger Rees', 'Jamie Harris']\n"
     ]
    },
    {
     "name": "stderr",
     "output_type": "stream",
     "text": [
      "\r",
      "42it [01:41,  2.07s/it]"
     ]
    },
    {
     "name": "stdout",
     "output_type": "stream",
     "text": [
      "Casablanca: ['Humphrey Bogart', 'Ingrid Bergman', 'Paul Henreid', 'Claude Rains', 'Conrad Veidt', 'Sydney Greenstreet', 'Peter Lorre', 'S.Z. Sakall', 'Madeleine Lebeau', 'Dooley Wilson', 'Joy Page', 'John Qualen', 'Leonid Kinskey', 'Curt Bois', 'Abdullah Abbas']\n"
     ]
    },
    {
     "name": "stderr",
     "output_type": "stream",
     "text": [
      "\r",
      "43it [01:43,  2.12s/it]"
     ]
    },
    {
     "name": "stdout",
     "output_type": "stream",
     "text": [
      "Whiplash: ['Miles Teller', 'J.K. Simmons', 'Paul Reiser', 'Melissa Benoist', 'Austin Stowell', 'Nate Lang', 'Chris Mulkey', 'Damon Gupton', 'Suanne Spoke', 'Max Kasch', 'Charlie Ian', 'Jayson Blair', 'Kofi Siriboe', 'Kavita Patil', 'C.J. Vana']\n"
     ]
    },
    {
     "name": "stderr",
     "output_type": "stream",
     "text": [
      "\r",
      "44it [01:45,  1.97s/it]"
     ]
    },
    {
     "name": "stdout",
     "output_type": "stream",
     "text": [
      "The Intouchables: ['François Cluzet', 'Omar Sy', 'Anne Le Ny', 'Audrey Fleurot', 'Joséphine de Meaux', 'Clotilde Mollet', 'Alba Gaïa Bellugi', 'Cyril Mendy', 'Salimata Kamate', 'Absa Diatou Toure', 'Grégoire Oestermann', 'Dominique Daguier', 'François Caron', 'Christian Ameri', 'Thomas Solivérès']\n"
     ]
    },
    {
     "name": "stderr",
     "output_type": "stream",
     "text": [
      "\r",
      "45it [01:46,  1.83s/it]"
     ]
    },
    {
     "name": "stdout",
     "output_type": "stream",
     "text": [
      "Modern Times: ['Charles Chaplin', 'Paulette Goddard', 'Henry Bergman', 'Tiny Sandford', 'Chester Conklin', 'Hank Mann', 'Stanley Blystone', 'Al Ernest Garcia', 'Richard Alexander', 'Cecil Reynolds', 'Mira McKinney', 'Murdock MacQuarrie', 'Wilfred Lucas', 'Edward LeSaint', 'Fred Malatesta']\n"
     ]
    },
    {
     "name": "stderr",
     "output_type": "stream",
     "text": [
      "\r",
      "46it [01:49,  2.04s/it]"
     ]
    },
    {
     "name": "stdout",
     "output_type": "stream",
     "text": [
      "Once Upon a Time in the West: ['Claudia Cardinale', 'Henry Fonda', 'Jason Robards', 'Charles Bronson', 'Gabriele Ferzetti', 'Paolo Stoppa', 'Woody Strode', 'Jack Elam', 'Keenan Wynn', 'Frank Wolff', 'Lionel Stander', 'Livio Andronico', 'Salvatore Basile', 'Aldo Berti', 'Joseph Bradley']\n"
     ]
    },
    {
     "name": "stderr",
     "output_type": "stream",
     "text": [
      "\r",
      "47it [01:51,  2.03s/it]"
     ]
    },
    {
     "name": "stdout",
     "output_type": "stream",
     "text": [
      "Hara-Kiri: ['Tatsuya Nakadai', 'Akira Ishihama', 'Shima Iwashita', 'Tetsurô Tanba', 'Masao Mishima', 'Ichirô Nakatani', 'Kei Satô', 'Yoshio Inaba', 'Hisashi Igawa', 'Tôru Takeuchi', 'Yoshirô Aoki', 'Tatsuo Matsumura', 'Akiji Kobayashi', 'Kôichi Hayashi', 'Ryûtarô Gomi']\n"
     ]
    },
    {
     "name": "stderr",
     "output_type": "stream",
     "text": [
      "\r",
      "48it [01:54,  2.33s/it]"
     ]
    },
    {
     "name": "stdout",
     "output_type": "stream",
     "text": [
      "Grave of the Fireflies: ['Tsutomu Tatsumi', 'Ayano Shiraishi', 'Yoshiko Shinohara', 'Akemi Yamaguchi', 'Kôzô Hashida', 'Masayo Sakai', 'Kazumi Nozaki', 'Yoshio Matsuoka', 'Masahiro Kanetake', 'Kiyoshi Yanagawa', 'Hajime Maki', 'Atsuo Omote', 'Teruhisa Harita', 'Hiroshi Tanaka', 'Michio Denpô']\n"
     ]
    },
    {
     "name": "stderr",
     "output_type": "stream",
     "text": [
      "\r",
      "49it [01:56,  2.25s/it]"
     ]
    },
    {
     "name": "stdout",
     "output_type": "stream",
     "text": [
      "Alien: ['Tom Skerritt', 'Sigourney Weaver', 'Veronica Cartwright', 'Harry Dean Stanton', 'John Hurt', 'Ian Holm', 'Yaphet Kotto', 'Bolaji Badejo', 'Helen Horton', 'Eddie Powell']\n"
     ]
    },
    {
     "name": "stderr",
     "output_type": "stream",
     "text": [
      "\r",
      "50it [01:58,  2.24s/it]"
     ]
    },
    {
     "name": "stdout",
     "output_type": "stream",
     "text": [
      "Rear Window: ['James Stewart', 'Grace Kelly', 'Wendell Corey', 'Thelma Ritter', 'Raymond Burr', 'Judith Evelyn', 'Ross Bagdasarian', 'Georgine Darcy', 'Sara Berner', 'Frank Cady', 'Jesslyn Fax', 'Rand Harper', 'Irene Winston', 'Havis Davenport', 'Jerry Antes']\n"
     ]
    },
    {
     "name": "stderr",
     "output_type": "stream",
     "text": [
      "\r",
      "51it [02:00,  2.16s/it]"
     ]
    },
    {
     "name": "stdout",
     "output_type": "stream",
     "text": [
      "City Lights: ['Virginia Cherrill', 'Florence Lee', 'Harry Myers', 'Al Ernest Garcia', 'Hank Mann', 'Charles Chaplin', 'Johnny Aber', 'Jack Alexander', 'T.S. Alexander', 'Victor Alexander', 'Albert Austin', 'Harry Ayers', 'Eddie Baker', 'Henry Bergman', 'Edward Biby']\n"
     ]
    },
    {
     "name": "stderr",
     "output_type": "stream",
     "text": [
      "\r",
      "52it [02:02,  2.16s/it]"
     ]
    },
    {
     "name": "stdout",
     "output_type": "stream",
     "text": [
      "Memento: ['Guy Pearce', 'Carrie-Anne Moss', 'Joe Pantoliano', 'Mark Boone Junior', 'Russ Fega', 'Jorja Fox', 'Stephen Tobolowsky', 'Harriet Sansom Harris', 'Thomas Lennon', 'Callum Keith Rennie', 'Kimberly Campbell', 'Marianne Muellerleile', 'Larry Holden', 'Buzz Visconti']\n"
     ]
    },
    {
     "name": "stderr",
     "output_type": "stream",
     "text": [
      "\r",
      "53it [02:04,  2.09s/it]"
     ]
    },
    {
     "name": "stdout",
     "output_type": "stream",
     "text": [
      "Cinema Paradiso: ['Antonella Attili', 'Enzo Cannavale', 'Isa Danieli', 'Leo Gullotta', 'Marco Leonardi', 'Pupella Maggio', 'Agnese Nano', 'Leopoldo Trieste', 'Salvatore Cascio', 'Tano Cimarosa', 'Nicola Di Pinto', 'Roberta Lena', 'Nino Terzo', 'Jacques Perrin', 'Philippe Noiret']\n"
     ]
    },
    {
     "name": "stderr",
     "output_type": "stream",
     "text": [
      "\r",
      "54it [02:06,  2.17s/it]"
     ]
    },
    {
     "name": "stdout",
     "output_type": "stream",
     "text": [
      "Apocalypse Now: ['Marlon Brando', 'Martin Sheen', 'Robert Duvall', 'Frederic Forrest', 'Sam Bottoms', 'Laurence Fishburne', 'Albert Hall', 'Harrison Ford', 'Dennis Hopper', 'G.D. Spradlin', 'Jerry Ziesmer', 'Scott Glenn', 'Bo Byers', 'James Keane', 'Kerry Rossall']\n"
     ]
    },
    {
     "name": "stderr",
     "output_type": "stream",
     "text": [
      "\r",
      "55it [02:08,  2.11s/it]"
     ]
    },
    {
     "name": "stdout",
     "output_type": "stream",
     "text": [
      "Indiana Jones and the Raiders of the Lost Ark: ['Harrison Ford', 'Karen Allen', 'Paul Freeman', 'Ronald Lacey', 'John Rhys-Davies', 'Denholm Elliott', 'Alfred Molina', 'Wolf Kahler', 'Anthony Higgins', 'Vic Tablian', 'Don Fellows', 'William Hootkins', 'Bill Reimbold', 'Fred Sorenson', 'Patrick Durkin']\n"
     ]
    },
    {
     "name": "stderr",
     "output_type": "stream",
     "text": [
      "\r",
      "56it [02:11,  2.14s/it]"
     ]
    },
    {
     "name": "stdout",
     "output_type": "stream",
     "text": [
      "Django Unchained: ['Jamie Foxx', 'Christoph Waltz', 'Leonardo DiCaprio', 'Kerry Washington', 'Samuel L. Jackson', 'Walton Goggins', 'Dennis Christopher', 'James Remar', 'David Steen', 'Dana Gourrier', 'Nichole Galicia', 'Laura Cayouette', 'Ato Essandoh', 'Sammi Rotibi', 'Clay Donahue Fontenot']\n"
     ]
    },
    {
     "name": "stderr",
     "output_type": "stream",
     "text": [
      "\r",
      "57it [02:12,  2.07s/it]"
     ]
    },
    {
     "name": "stdout",
     "output_type": "stream",
     "text": [
      "WALL·E: ['Ben Burtt', 'Elissa Knight', 'Jeff Garlin', 'Fred Willard', 'MacInTalk', 'John Ratzenberger', 'Kathy Najimy', 'Sigourney Weaver', 'Teddy Newton', 'Bob Bergen', 'John Cygan', 'Pete Docter', 'Paul Eiding', 'Donald Fullilove', 'Teresa Ganzel']\n"
     ]
    },
    {
     "name": "stderr",
     "output_type": "stream",
     "text": [
      "\r",
      "58it [02:15,  2.14s/it]"
     ]
    },
    {
     "name": "stdout",
     "output_type": "stream",
     "text": [
      "The Lives of Others: ['Martina Gedeck', 'Ulrich Mühe', 'Sebastian Koch', 'Ulrich Tukur', 'Thomas Thieme', 'Hans-Uwe Bauer', 'Volkmar Kleinert', 'Matthias Brenner', 'Charly Hübner', 'Herbert Knaup', 'Bastian Trost', 'Marie Gruber', 'Volker Michalowski', 'Werner Daehn', 'Martin Brambach']\n"
     ]
    },
    {
     "name": "stderr",
     "output_type": "stream",
     "text": [
      "\r",
      "59it [02:17,  2.16s/it]"
     ]
    },
    {
     "name": "stdout",
     "output_type": "stream",
     "text": [
      "Sunset Blvd.: ['William Holden', 'Gloria Swanson', 'Erich von Stroheim', 'Nancy Olson', 'Fred Clark', 'Lloyd Gough', 'Jack Webb', 'Franklyn Farnum', 'Larry J. Blake', 'Charles Dayton', 'Cecil B. DeMille', 'Hedda Hopper', 'Buster Keaton', 'Anna Q. Nilsson', 'H.B. Warner']\n"
     ]
    },
    {
     "name": "stderr",
     "output_type": "stream",
     "text": [
      "\r",
      "60it [02:19,  2.12s/it]"
     ]
    },
    {
     "name": "stdout",
     "output_type": "stream",
     "text": [
      "The Shining: ['Jack Nicholson', 'Shelley Duvall', 'Danny Lloyd', 'Scatman Crothers', 'Barry Nelson', 'Philip Stone', 'Joe Turkel', 'Anne Jackson', 'Tony Burton', 'Lia Beldam', 'Billie Gibson', 'Barry Dennen', 'David Baxt', 'Manning Redwood', 'Lisa Burns']\n"
     ]
    },
    {
     "name": "stderr",
     "output_type": "stream",
     "text": [
      "\r",
      "61it [02:21,  2.19s/it]"
     ]
    },
    {
     "name": "stdout",
     "output_type": "stream",
     "text": [
      "Paths of Glory: ['Kirk Douglas', 'Ralph Meeker', 'Adolphe Menjou', 'George Macready', 'Wayne Morris', 'Richard Anderson', 'Joe Turkel', 'Christiane Kubrick', 'Jerry Hausner', 'Peter Capell', 'Emile Meyer', 'Bert Freed', 'Kem Dibbs', 'Timothy Carey', 'Fred Bell']\n"
     ]
    },
    {
     "name": "stderr",
     "output_type": "stream",
     "text": [
      "\r",
      "62it [02:23,  2.09s/it]"
     ]
    },
    {
     "name": "stdout",
     "output_type": "stream",
     "text": [
      "The Great Dictator: ['Charles Chaplin', 'Jack Oakie', 'Reginald Gardiner', 'Henry Daniell', 'Billy Gilbert', 'Grace Hayle', 'Carter DeHaven', 'Paulette Goddard', 'Maurice Moscovitch', 'Emma Dunn', 'Bernard Gorcey', 'Paul Weigel', 'Chester Conklin', 'Esther Michelson', 'Hank Mann']\n"
     ]
    },
    {
     "name": "stderr",
     "output_type": "stream",
     "text": [
      "\r",
      "63it [02:27,  2.73s/it]"
     ]
    },
    {
     "name": "stdout",
     "output_type": "stream",
     "text": [
      "Avengers: Infinity War: ['Robert Downey Jr.', 'Chris Hemsworth', 'Mark Ruffalo', 'Chris Evans', 'Scarlett Johansson', 'Don Cheadle', 'Benedict Cumberbatch', 'Tom Holland', 'Chadwick Boseman', 'Zoe Saldana', 'Karen Gillan', 'Tom Hiddleston', 'Paul Bettany', 'Elizabeth Olsen', 'Anthony Mackie']\n"
     ]
    },
    {
     "name": "stderr",
     "output_type": "stream",
     "text": [
      "\r",
      "64it [02:30,  2.78s/it]"
     ]
    },
    {
     "name": "stdout",
     "output_type": "stream",
     "text": [
      "Witness for the Prosecution: ['Tyrone Power', 'Marlene Dietrich', 'Charles Laughton', 'Elsa Lanchester', 'John Williams', 'Henry Daniell', 'Ian Wolfe', 'Torin Thatcher', 'Norma Varden', \"Una O'Connor\", 'Francis Compton', 'Philip Tonge', 'Ruta Lee', 'Patrick Aherne', 'Don Ames']\n"
     ]
    },
    {
     "name": "stderr",
     "output_type": "stream",
     "text": [
      "\r",
      "65it [02:32,  2.50s/it]"
     ]
    },
    {
     "name": "stdout",
     "output_type": "stream",
     "text": [
      "Aliens: ['Sigourney Weaver', 'Carrie Henn', 'Michael Biehn', 'Paul Reiser', 'Lance Henriksen', 'Bill Paxton', 'William Hope', 'Jenette Goldstein', 'Al Matthews', 'Mark Rolston', 'Ricco Ross', 'Colette Hiller', 'Daniel Kash', 'Cynthia Dale Scott', 'Tip Tipping']\n"
     ]
    },
    {
     "name": "stderr",
     "output_type": "stream",
     "text": [
      "\r",
      "66it [02:35,  2.65s/it]"
     ]
    },
    {
     "name": "stdout",
     "output_type": "stream",
     "text": [
      "American Beauty: ['Kevin Spacey', 'Annette Bening', 'Thora Birch', 'Wes Bentley', 'Mena Suvari', 'Peter Gallagher', 'Allison Janney', 'Chris Cooper', 'Scott Bakula', 'Sam Robards', 'Barry Del Sherman', 'Ara Celi', 'John Cho', 'Fort Atkinson', 'Sue Casey']\n"
     ]
    },
    {
     "name": "stderr",
     "output_type": "stream",
     "text": [
      "\r",
      "67it [02:39,  3.01s/it]"
     ]
    },
    {
     "name": "stdout",
     "output_type": "stream",
     "text": [
      "The Dark Knight Rises: ['Christian Bale', 'Gary Oldman', 'Tom Hardy', 'Joseph Gordon-Levitt', 'Anne Hathaway', 'Marion Cotillard', 'Morgan Freeman', 'Michael Caine', 'Matthew Modine', 'Alon Aboutboul', 'Ben Mendelsohn', 'Burn Gorman', 'Daniel Sunjata', 'Aidan Gillen', 'Sam Kennard']\n"
     ]
    },
    {
     "name": "stderr",
     "output_type": "stream",
     "text": [
      "\r",
      "68it [02:42,  2.89s/it]"
     ]
    },
    {
     "name": "stdout",
     "output_type": "stream",
     "text": [
      "Dr. Strangelove or: How I Learned to Stop Worrying and Love the Bomb: ['Peter Sellers', 'George C. Scott', 'Sterling Hayden', 'Keenan Wynn', 'Slim Pickens', 'Peter Bull', 'James Earl Jones', 'Tracy Reed', 'Jack Creley', 'Frank Berry', \"Robert O'Neil\", 'Glenn Beck', 'Roy Stephens', 'Shane Rimmer', 'Hal Galili']\n"
     ]
    },
    {
     "name": "stderr",
     "output_type": "stream",
     "text": [
      "\r",
      "69it [02:44,  2.85s/it]"
     ]
    },
    {
     "name": "stdout",
     "output_type": "stream",
     "text": [
      "Spider-Man: Into the Spider-Verse: ['Shameik Moore', 'Jake Johnson', 'Hailee Steinfeld', 'Mahershala Ali', 'Brian Tyree Henry', 'Lily Tomlin', 'Luna Lauren Velez', 'Zoë Kravitz', 'John Mulaney', 'Kimiko Glenn', 'Nicolas Cage', 'Kathryn Hahn', 'Liev Schreiber', 'Chris Pine', 'Natalie Morales']\n"
     ]
    },
    {
     "name": "stderr",
     "output_type": "stream",
     "text": [
      "\r",
      "70it [02:47,  2.83s/it]"
     ]
    },
    {
     "name": "stdout",
     "output_type": "stream",
     "text": [
      "Joker: ['Joaquin Phoenix', 'Robert De Niro', 'Zazie Beetz', 'Frances Conroy', 'Brett Cullen', 'Shea Whigham', 'Bill Camp', 'Glenn Fleshler', 'Leigh Gill', 'Josh Pais', 'Rocco Luna', 'Marc Maron', 'Sondra James', 'Murphy Guyer', 'Douglas Hodge']\n"
     ]
    },
    {
     "name": "stderr",
     "output_type": "stream",
     "text": [
      "\r",
      "71it [02:49,  2.63s/it]"
     ]
    },
    {
     "name": "stdout",
     "output_type": "stream",
     "text": [
      "Old Boy: ['Choi Min-sik', 'Yoo Ji-Tae', 'Kang Hye-jeong', 'Kim Byeong-Ok', 'Dae-han Ji', 'Dal-su Oh', 'Seung-shin Lee', 'Jin-Seo Yoon', 'Tae-kyung Oh', 'Yoo Yeon-Seok', 'Il-han Oo', 'Young-hee Lee', 'Young-ae Kim', 'Mi Mi Lee', 'Jae-Duk Han']\n"
     ]
    },
    {
     "name": "stderr",
     "output_type": "stream",
     "text": [
      "\r",
      "72it [02:52,  2.63s/it]"
     ]
    },
    {
     "name": "stdout",
     "output_type": "stream",
     "text": [
      "Braveheart: ['James Robinson', 'Sean Lawlor', 'Sandy Nelson', 'James Cosmo', 'Sean McGinley', 'Alan Tall', 'Andrew Weir', 'Gerda Stevenson', 'Ralph Riach', 'Mhairi Calvey', 'Brian Cox', 'Patrick McGoohan', 'Peter Hanly', 'Sophie Marceau', 'Stephen Billington']\n"
     ]
    },
    {
     "name": "stderr",
     "output_type": "stream",
     "text": [
      "\r",
      "73it [02:54,  2.48s/it]"
     ]
    },
    {
     "name": "stdout",
     "output_type": "stream",
     "text": [
      "Toy Story: ['Tom Hanks', 'Tim Allen', 'Don Rickles', 'Jim Varney', 'Wallace Shawn', 'John Ratzenberger', 'Annie Potts', 'John Morris', 'Erik von Detten', 'Laurie Metcalf', 'R. Lee Ermey', 'Sarah Rayne', 'Penn Jillette', 'Jack Angel', 'Spencer Aste']\n"
     ]
    },
    {
     "name": "stderr",
     "output_type": "stream",
     "text": [
      "\r",
      "74it [02:56,  2.36s/it]"
     ]
    },
    {
     "name": "stdout",
     "output_type": "stream",
     "text": [
      "Amadeus: ['F. Murray Abraham', 'Tom Hulce', 'Elizabeth Berridge', 'Roy Dotrice', 'Simon Callow', 'Christine Ebersole', 'Jeffrey Jones', 'Charles Kay', 'Kenneth McMillan', 'Kenny Baker', 'Lisbeth Bartlett', 'Barbara Bryne', 'Martin Cavina', 'Roderick Cook', 'Milan Demjanenko']\n"
     ]
    },
    {
     "name": "stderr",
     "output_type": "stream",
     "text": [
      "\r",
      "75it [02:59,  2.37s/it]"
     ]
    },
    {
     "name": "stdout",
     "output_type": "stream",
     "text": [
      "Coco: ['Anthony Gonzalez', 'Gael García Bernal', 'Benjamin Bratt', 'Alanna Ubach', 'Renee Victor', 'Jaime Camil', 'Alfonso Arau', 'Herbert Siguenza', 'Gabriel Iglesias', 'Lombardo Boyar', 'Ana Ofelia Murguía', 'Natalia Cordova-Buckley', 'Selene Luna', 'Edward James Olmos', 'Sofía Espinosa']\n"
     ]
    },
    {
     "name": "stderr",
     "output_type": "stream",
     "text": [
      "\r",
      "76it [03:01,  2.52s/it]"
     ]
    },
    {
     "name": "stdout",
     "output_type": "stream",
     "text": [
      "Spider-Man: No Way Home: ['Tom Holland', 'Zendaya', 'Benedict Cumberbatch', 'Jacob Batalon', 'Jon Favreau', 'Jamie Foxx', 'Willem Dafoe', 'Alfred Molina', 'Benedict Wong', 'Tony Revolori', 'Marisa Tomei', 'Andrew Garfield', 'Tobey Maguire', 'Angourie Rice', 'Arian Moayed']\n"
     ]
    },
    {
     "name": "stderr",
     "output_type": "stream",
     "text": [
      "\r",
      "77it [03:03,  2.38s/it]"
     ]
    },
    {
     "name": "stdout",
     "output_type": "stream",
     "text": [
      "Inglourious Basterds: ['Brad Pitt', 'Mélanie Laurent', 'Christoph Waltz', 'Eli Roth', 'Michael Fassbender', 'Diane Kruger', 'Daniel Brühl', 'Til Schweiger', 'Gedeon Burkhard', 'Jacky Ido', 'B.J. Novak', 'Omar Doom', 'August Diehl', 'Denis Ménochet', 'Sylvester Groth']\n"
     ]
    },
    {
     "name": "stderr",
     "output_type": "stream",
     "text": [
      "\r",
      "78it [03:06,  2.45s/it]"
     ]
    },
    {
     "name": "stdout",
     "output_type": "stream",
     "text": [
      "The Boat: ['Jürgen Prochnow', 'Herbert Grönemeyer', 'Klaus Wennemann', 'Hubertus Bengsch', 'Martin Semmelrogge', 'Bernd Tauber', 'Erwin Leder', 'Martin May', 'Heinz Hoenig', 'Uwe Ochsenknecht', 'Claude-Oliver Rudolph', 'Jan Fedder', 'Ralf Richter', 'Joachim Bernhard', 'Oliver Stritzel']\n"
     ]
    },
    {
     "name": "stderr",
     "output_type": "stream",
     "text": [
      "\r",
      "79it [03:11,  3.05s/it]"
     ]
    },
    {
     "name": "stdout",
     "output_type": "stream",
     "text": [
      "Avengers: Endgame: ['Robert Downey Jr.', 'Chris Evans', 'Mark Ruffalo', 'Chris Hemsworth', 'Scarlett Johansson', 'Jeremy Renner', 'Don Cheadle', 'Paul Rudd', 'Benedict Cumberbatch', 'Chadwick Boseman', 'Brie Larson', 'Tom Holland', 'Karen Gillan', 'Zoe Saldana', 'Evangeline Lilly']\n"
     ]
    },
    {
     "name": "stderr",
     "output_type": "stream",
     "text": [
      "\r",
      "80it [03:13,  2.89s/it]"
     ]
    },
    {
     "name": "stdout",
     "output_type": "stream",
     "text": [
      "Princess Mononoke: ['Billy Crudup', 'Billy Bob Thornton', 'Minnie Driver', 'John DiMaggio', 'Claire Danes', 'John DeMita', 'Jada Pinkett Smith', 'Gillian Anderson', 'Keith David', 'Corey Burton', 'Tara Strong', 'Julia Fletcher', 'Debi Derryberry', 'Alex Fernandez', 'Jack Fletcher']\n"
     ]
    },
    {
     "name": "stderr",
     "output_type": "stream",
     "text": [
      "\r",
      "81it [03:15,  2.73s/it]"
     ]
    },
    {
     "name": "stdout",
     "output_type": "stream",
     "text": [
      "Once Upon a Time in America: ['Robert De Niro', 'James Woods', 'Elizabeth McGovern', 'Treat Williams', 'Tuesday Weld', 'Burt Young', 'Joe Pesci', 'Danny Aiello', 'William Forsythe', 'James Hayden', 'Darlanne Fluegel', 'Larry Rapp', 'Dutch Miller', 'Robert Harper', 'Richard Bright']\n"
     ]
    },
    {
     "name": "stderr",
     "output_type": "stream",
     "text": [
      "\r",
      "82it [03:17,  2.54s/it]"
     ]
    },
    {
     "name": "stdout",
     "output_type": "stream",
     "text": [
      "Good Will Hunting: ['Matt Damon', 'Ben Affleck', 'Stellan Skarsgård', 'John Mighton', 'Rachel Majorowski', 'Colleen McCauley', 'Casey Affleck', 'Cole Hauser', 'Matt Mercier', 'Ralph St. George', 'Rob Lynds', 'Dan Washington', 'Alison Folland', 'Derrick Bridgeman', 'Vik Sahay']\n"
     ]
    },
    {
     "name": "stderr",
     "output_type": "stream",
     "text": [
      "\r",
      "83it [03:19,  2.38s/it]"
     ]
    },
    {
     "name": "stdout",
     "output_type": "stream",
     "text": [
      "Toy Story 3: ['Tom Hanks', 'Tim Allen', 'Joan Cusack', 'Ned Beatty', 'Don Rickles', 'Michael Keaton', 'Wallace Shawn', 'John Ratzenberger', 'Estelle Harris', 'John Morris', 'Jodi Benson', 'Emily Ricks Hahn', 'Laurie Metcalf', 'Blake Clark', 'Teddy Newton']\n"
     ]
    },
    {
     "name": "stderr",
     "output_type": "stream",
     "text": [
      "\r",
      "84it [03:22,  2.43s/it]"
     ]
    },
    {
     "name": "stdout",
     "output_type": "stream",
     "text": [
      "Requiem for a Dream: ['Ellen Burstyn', 'Jared Leto', 'Jennifer Connelly', 'Marlon Wayans', 'Christopher McDonald', 'Louise Lasser', 'Marcia Jean Kurtz', 'Janet Sarno', 'Suzanne Shepherd', 'Joanne Gordon', 'Charlotte Aronofsky', 'Mark Margolis', 'Michael Kaycheck', \"Jack O'Connell\", 'Chas Mastin']\n"
     ]
    },
    {
     "name": "stderr",
     "output_type": "stream",
     "text": [
      "\r",
      "85it [03:24,  2.41s/it]"
     ]
    },
    {
     "name": "stdout",
     "output_type": "stream",
     "text": [
      "3 Idiots: ['Aamir Khan', 'Madhavan', 'Sharman Joshi', 'Kareena Kapoor', 'Boman Irani', 'Omi Vaidya', 'Mona Singh', 'Olivier Lafont', 'Rahul Kumar', 'Parikshit Sahni', 'Farida Dadi', 'Amardeep Jha', 'Mukund Bhatt', 'Chaitali Bose', 'Jaaved Jaaferi']\n"
     ]
    },
    {
     "name": "stderr",
     "output_type": "stream",
     "text": [
      "\r",
      "86it [03:27,  2.47s/it]"
     ]
    },
    {
     "name": "stdout",
     "output_type": "stream",
     "text": [
      "Your Name.: ['Ryûnosuke Kamiki', 'Mone Kamishiraishi', 'Ryô Narita', 'Aoi Yûki', 'Nobunaga Shimazaki', 'Kaito Ishikawa', 'Kanon Tani', 'Masaki Terasoma', 'Sayaka Ôhara', 'Kazuhiko Inoue', 'Chafûrin', 'Kana Hanazawa', 'Yuka Terasaki', 'Takashi Onozuka', 'Yôhei Namekawa']\n"
     ]
    },
    {
     "name": "stderr",
     "output_type": "stream",
     "text": [
      "\r",
      "87it [03:29,  2.43s/it]"
     ]
    },
    {
     "name": "stdout",
     "output_type": "stream",
     "text": [
      "Singin' in the Rain: ['Gene Kelly', \"Donald O'Connor\", 'Debbie Reynolds', 'Jean Hagen', 'Millard Mitchell', 'Cyd Charisse', 'Douglas Fowley', 'Rita Moreno', 'Dawn Addams', 'John Albright', 'Betty Allen', 'Sue Allen', 'John Angelo', 'Marie Ardell', 'Bette Arlen']\n"
     ]
    },
    {
     "name": "stderr",
     "output_type": "stream",
     "text": [
      "\r",
      "88it [03:32,  2.54s/it]"
     ]
    },
    {
     "name": "stdout",
     "output_type": "stream",
     "text": [
      "Star Wars: Episode VI - Return of the Jedi: ['Mark Hamill', 'Harrison Ford', 'Carrie Fisher', 'Billy Dee Williams', 'Anthony Daniels', 'Peter Mayhew', 'Sebastian Shaw', 'Ian McDiarmid', 'Frank Oz', 'James Earl Jones', 'David Prowse', 'Alec Guinness', 'Kenny Baker', 'Michael Pennington', 'Kenneth Colley']\n"
     ]
    },
    {
     "name": "stderr",
     "output_type": "stream",
     "text": [
      "\r",
      "89it [03:34,  2.37s/it]"
     ]
    },
    {
     "name": "stdout",
     "output_type": "stream",
     "text": [
      "Reservoir Dogs: ['Harvey Keitel', 'Tim Roth', 'Michael Madsen', 'Chris Penn', 'Steve Buscemi', 'Lawrence Tierney', 'Randy Brooks', 'Kirk Baltz', 'Edward Bunker', 'Quentin Tarantino', 'Rich Turner', 'David Steen', 'Tony Cosmo', 'Stevo Polyi', 'Michael Sottile']\n"
     ]
    },
    {
     "name": "stderr",
     "output_type": "stream",
     "text": [
      "\r",
      "90it [03:37,  2.52s/it]"
     ]
    },
    {
     "name": "stdout",
     "output_type": "stream",
     "text": [
      "Eternal Sunshine of the Spotless Mind: ['Jim Carrey', 'Kate Winslet', 'Gerry Robert Byrne', 'Elijah Wood', 'Thomas Jay Ryan', 'Mark Ruffalo', 'Jane Adams', 'David Cross', 'Kirsten Dunst', 'Tom Wilkinson', 'Ryan Whitney', 'Debbon Ayer', 'Amir Ali Said', 'Brian Price', 'Paulie Litt']\n"
     ]
    },
    {
     "name": "stderr",
     "output_type": "stream",
     "text": [
      "\r",
      "91it [03:39,  2.40s/it]"
     ]
    },
    {
     "name": "stdout",
     "output_type": "stream",
     "text": [
      "2001: A Space Odyssey: ['Keir Dullea', 'Gary Lockwood', 'William Sylvester', 'Daniel Richter', 'Leonard Rossiter', 'Margaret Tyzack', 'Robert Beatty', 'Sean Sullivan', 'Douglas Rain', 'Frank Miller', 'Bill Weston', 'Ed Bishop', 'Glenn Beck', 'Alan Gifford', 'Ann Gillis']\n"
     ]
    },
    {
     "name": "stderr",
     "output_type": "stream",
     "text": [
      "\r",
      "92it [03:41,  2.34s/it]"
     ]
    },
    {
     "name": "stdout",
     "output_type": "stream",
     "text": [
      "High and Low: ['Toshirô Mifune', 'Tatsuya Nakadai', 'Kyôko Kagawa', 'Tatsuya Mihashi', 'Isao Kimura', 'Kenjirô Ishiyama', 'Takeshi Katô', 'Takashi Shimura', 'Jun Tazaki', 'Nobuo Nakamura', 'Yûnosuke Itô', 'Tsutomu Yamazaki', 'Minoru Chiaki', 'Eijirô Tôno', 'Masao Shimizu']\n"
     ]
    },
    {
     "name": "stderr",
     "output_type": "stream",
     "text": [
      "\r",
      "93it [03:43,  2.23s/it]"
     ]
    },
    {
     "name": "stdout",
     "output_type": "stream",
     "text": [
      "Citizen Kane: ['Joseph Cotten', 'Dorothy Comingore', 'Agnes Moorehead', 'Ruth Warrick', 'Ray Collins', 'Erskine Sanford', 'Everett Sloane', 'William Alland', 'Paul Stewart', 'George Coulouris', 'Fortunio Bonanova', 'Gus Schilling', 'Philip Van Zandt', 'Georgia Backus', 'Harry Shannon']\n"
     ]
    },
    {
     "name": "stderr",
     "output_type": "stream",
     "text": [
      "\r",
      "94it [03:45,  2.20s/it]"
     ]
    },
    {
     "name": "stdout",
     "output_type": "stream",
     "text": [
      "Lawrence of Arabia: [\"Peter O'Toole\", 'Alec Guinness', 'Anthony Quinn', 'Jack Hawkins', 'Omar Sharif', 'José Ferrer', 'Anthony Quayle', 'Claude Rains', 'Arthur Kennedy', 'Donald Wolfit', 'I.S. Johar', 'Gamil Ratib', 'Michel Ray', 'John Dimech', 'Zia Mohyeddin']\n"
     ]
    },
    {
     "name": "stderr",
     "output_type": "stream",
     "text": [
      "\r",
      "95it [03:48,  2.37s/it]"
     ]
    },
    {
     "name": "stdout",
     "output_type": "stream",
     "text": [
      "Capernaum: ['Zain Al Rafeea', 'Yordanos Shiferaw', 'Boluwatife Treasure Bankole', 'Kawsar Al Haddad', 'Fadi Yousef', 'Cedra Izzam', 'Alaa Chouchnieh', 'Elias Khoury', 'Mohammad Al Abdallah', 'Mohamad Abdellatif', 'Abdo Abdo', 'Hampig Abraham', 'Jamil Ahmad', 'Mohamad Akkar', 'Elias Akobegia']\n"
     ]
    },
    {
     "name": "stderr",
     "output_type": "stream",
     "text": [
      "\r",
      "96it [03:51,  2.42s/it]"
     ]
    },
    {
     "name": "stdout",
     "output_type": "stream",
     "text": [
      "M: ['Peter Lorre', 'Ellen Widmann', 'Inge Landgut', 'Otto Wernicke', 'Theodor Loos', 'Gustaf Gründgens', 'Friedrich Gnaß', 'Fritz Odemar', 'Paul Kemp', 'Theo Lingen', 'Rudolf Blümner', 'Georg John', 'Franz Stein', 'Ernst Stahl-Nachbaur', 'Gerhard Bienert']\n"
     ]
    },
    {
     "name": "stderr",
     "output_type": "stream",
     "text": [
      "\r",
      "97it [03:53,  2.44s/it]"
     ]
    },
    {
     "name": "stdout",
     "output_type": "stream",
     "text": [
      "North by Northwest: ['Cary Grant', 'Eva Marie Saint', 'James Mason', 'Jessie Royce Landis', 'Leo G. Carroll', 'Josephine Hutchinson', 'Philip Ober', 'Martin Landau', 'Adam Williams', 'Edward Platt', 'Robert Ellenstein', 'Les Tremayne', 'Philip Coolidge', 'Patrick McVey', 'Edward Binns']\n"
     ]
    },
    {
     "name": "stderr",
     "output_type": "stream",
     "text": [
      "\r",
      "98it [03:55,  2.31s/it]"
     ]
    },
    {
     "name": "stdout",
     "output_type": "stream",
     "text": [
      "The Hunt: ['Mads Mikkelsen', 'Thomas Bo Larsen', 'Annika Wedderkopp', 'Lasse Fogelstrøm', 'Susse Wold', 'Anne Louise Hassing', 'Lars Ranthe', 'Alexandra Rapaport', 'Sebastian Bull Sarning', 'Steen Ordell Guldbrand Jensen', 'Daniel Engstrup', 'Troels Thorsen', 'Søren Rønholt', 'Hana Shuan', 'Jytte Kvinesdal']\n"
     ]
    },
    {
     "name": "stderr",
     "output_type": "stream",
     "text": [
      "\r",
      "99it [03:58,  2.34s/it]"
     ]
    },
    {
     "name": "stdout",
     "output_type": "stream",
     "text": [
      "Vertigo: ['James Stewart', 'Kim Novak', 'Barbara Bel Geddes', 'Tom Helmore', 'Henry Jones', 'Raymond Bailey', 'Ellen Corby', 'Konstantin Shayne', 'Lee Patrick', 'David Ahdar', 'Isabel Analla', 'Jack Ano', 'Margaret Bacon', 'John Benson', 'Danny Borzage']\n"
     ]
    },
    {
     "name": "stderr",
     "output_type": "stream",
     "text": [
      "\r",
      "100it [04:00,  2.27s/it]"
     ]
    },
    {
     "name": "stdout",
     "output_type": "stream",
     "text": [
      "Amélie: ['Audrey Tautou', 'Mathieu Kassovitz', 'Rufus', 'Lorella Cravotta', 'Serge Merlin', 'Jamel Debbouze', 'Clotilde Mollet', 'Claire Maurier', 'Isabelle Nanty', 'Dominique Pinon', 'Artus de Penguern', 'Yolande Moreau', 'Urbain Cancelier', 'Maurice Bénichou', 'Michel Robin']\n"
     ]
    },
    {
     "name": "stderr",
     "output_type": "stream",
     "text": [
      "\r",
      "101it [04:02,  2.36s/it]"
     ]
    },
    {
     "name": "stdout",
     "output_type": "stream",
     "text": [
      "A Clockwork Orange: ['Malcolm McDowell', 'Patrick Magee', 'Michael Bates', 'Warren Clarke', 'John Clive', 'Adrienne Corri', 'Carl Duering', 'Paul Farrell', 'Clive Francis', 'Michael Gover', 'Miriam Karlin', 'James Marcus', 'Aubrey Morris', 'Godfrey Quigley', 'Sheila Raynor']\n"
     ]
    },
    {
     "name": "stderr",
     "output_type": "stream",
     "text": [
      "\r",
      "102it [04:05,  2.36s/it]"
     ]
    },
    {
     "name": "stdout",
     "output_type": "stream",
     "text": [
      "Full Metal Jacket: ['Matthew Modine', 'Adam Baldwin', \"Vincent D'Onofrio\", 'R. Lee Ermey', 'Dorian Harewood', 'Kevyn Major Howard', 'Arliss Howard', \"Ed O'Ross\", 'John Terry', 'Kieron Jecchinis', 'Kirk Taylor', 'Tim Colceri', 'Jon Stafford', 'Bruce Boa', 'Ian Tyler']\n"
     ]
    },
    {
     "name": "stderr",
     "output_type": "stream",
     "text": [
      "\r",
      "103it [04:07,  2.44s/it]"
     ]
    },
    {
     "name": "stdout",
     "output_type": "stream",
     "text": [
      "Scarface: ['Al Pacino', 'Steven Bauer', 'Michelle Pfeiffer', 'Mary Elizabeth Mastrantonio', 'Robert Loggia', 'Miriam Colon', 'F. Murray Abraham', 'Paul Shenar', 'Harris Yulin', 'Ángel Salazar', 'Arnaldo Santana', 'Pepe Serna', 'Michael P. Moran', 'Al Israel', 'Dennis Holahan']\n"
     ]
    },
    {
     "name": "stderr",
     "output_type": "stream",
     "text": [
      "\r",
      "104it [04:09,  2.34s/it]"
     ]
    },
    {
     "name": "stdout",
     "output_type": "stream",
     "text": [
      "Come and See: ['Aleksey Kravchenko', 'Olga Mironova', 'Liubomiras Laucevicius', 'Vladas Bagdonas', 'Jüri Lumiste', 'Viktors Lorencs', 'Kazimir Rabetsky', 'Evgeniy Tilicheev', 'G. Velts', 'V. Vasilyev', 'Aleksandr Berda', 'Vasiliy Domrachyov', 'Nina Evdokimova', 'Igor Gnevashev', 'Adolf Hitler']\n"
     ]
    },
    {
     "name": "stderr",
     "output_type": "stream",
     "text": [
      "\r",
      "105it [04:11,  2.20s/it]"
     ]
    },
    {
     "name": "stdout",
     "output_type": "stream",
     "text": [
      "Double Indemnity: ['Fred MacMurray', 'Barbara Stanwyck', 'Edward G. Robinson', 'Porter Hall', 'Jean Heather', 'Tom Powers', 'Byron Barr', 'Richard Gaines', 'Fortunio Bonanova', 'John Philliber', 'Lev Abramov', 'James Adamson', 'John Berry', 'Raymond Chandler', 'Edmund Cobb']\n"
     ]
    },
    {
     "name": "stderr",
     "output_type": "stream",
     "text": [
      "\r",
      "106it [04:13,  2.20s/it]"
     ]
    },
    {
     "name": "stdout",
     "output_type": "stream",
     "text": [
      "The Apartment: ['Jack Lemmon', 'Shirley MacLaine', 'Fred MacMurray', 'Ray Walston', 'Jack Kruschen', 'David Lewis', 'Hope Holiday', 'Joan Shawlee', 'Naomi Stevens', 'Johnny Seven', 'Joyce Jameson', 'Willard Waterman', 'David White', 'Edie Adams', 'Dorothy Abbott']\n"
     ]
    },
    {
     "name": "stderr",
     "output_type": "stream",
     "text": [
      "\r",
      "107it [04:15,  2.14s/it]"
     ]
    },
    {
     "name": "stdout",
     "output_type": "stream",
     "text": [
      "Taxi Driver: ['Diahnne Abbott', 'Frank Adu', 'Victor Argo', 'Gino Ardito', 'Garth Avery', 'Peter Boyle', 'Albert Brooks', 'Harry Cohn', 'Copper Cunningham', 'Robert De Niro', 'Brenda Dickson', 'Harry Fischler', 'Jodie Foster', 'Nat Grant', 'Leonard Harris']\n"
     ]
    },
    {
     "name": "stderr",
     "output_type": "stream",
     "text": [
      "\r",
      "108it [04:17,  2.09s/it]"
     ]
    },
    {
     "name": "stdout",
     "output_type": "stream",
     "text": [
      "To Kill a Mockingbird: ['Gregory Peck', 'John Megna', 'Frank Overton', 'Rosemary Murphy', 'Ruth White', 'Brock Peters', 'Estelle Evans', 'Paul Fix', 'Collin Wilcox Paxton', 'James Anderson', 'Alice Ghostley', 'Robert Duvall', 'William Windom', 'Crahan Denton', 'Richard Hale']\n"
     ]
    },
    {
     "name": "stderr",
     "output_type": "stream",
     "text": [
      "\r",
      "109it [04:19,  1.94s/it]"
     ]
    },
    {
     "name": "stdout",
     "output_type": "stream",
     "text": [
      "The Sting: ['Paul Newman', 'Robert Redford', 'Robert Shaw', 'Charles Durning', 'Ray Walston', 'Eileen Brennan', 'Harold Gould', 'John Heffernan', 'Dana Elcar', 'Jack Kehoe', 'Dimitra Arliss', 'Robert Earl Jones', 'James Sloyan', 'Charles Dierkop', 'Lee Paul']\n"
     ]
    },
    {
     "name": "stderr",
     "output_type": "stream",
     "text": [
      "\r",
      "110it [04:22,  2.19s/it]"
     ]
    },
    {
     "name": "stdout",
     "output_type": "stream",
     "text": [
      "Up: ['Edward Asner', 'Christopher Plummer', 'Jordan Nagai', 'Bob Peterson', 'Delroy Lindo', 'Jerome Ranft', 'John Ratzenberger', 'David Kaye', 'Elie Docter', 'Jeremy Leary', 'Mickie McGowan', 'Danny Mann', 'Donald Fullilove', 'Jess Harnell', 'Josh Cooley']\n"
     ]
    },
    {
     "name": "stderr",
     "output_type": "stream",
     "text": [
      "\r",
      "111it [04:24,  2.25s/it]"
     ]
    },
    {
     "name": "stdout",
     "output_type": "stream",
     "text": [
      "L.A. Confidential: ['Kevin Spacey', 'Russell Crowe', 'Guy Pearce', 'James Cromwell', 'Kim Basinger', 'Danny DeVito', 'David Strathairn', 'Ron Rifkin', 'Matt McCoy', 'Paul Guilfoyle', 'Paolo Seganti', 'Elisabeth Granli', 'Sandra Taylor', 'Steve Rankin', 'Graham Beckel']\n"
     ]
    },
    {
     "name": "stderr",
     "output_type": "stream",
     "text": [
      "\r",
      "112it [04:27,  2.33s/it]"
     ]
    },
    {
     "name": "stdout",
     "output_type": "stream",
     "text": [
      "Hamilton: ['Daveed Diggs', 'Renée Elise Goldsberry', 'Jonathan Groff', 'Chris Jackson', 'Jasmine Cephas Jones', 'Lin-Manuel Miranda', 'Leslie Odom Jr.', 'Okieriete Onaodowan', 'Anthony Ramos', 'Phillipa Soo', 'Carleigh Bettiol', 'Ariana DeBose', 'Hope Easterbrook', 'Sydney James Harcourt', 'Sasha Hutchings']\n"
     ]
    },
    {
     "name": "stderr",
     "output_type": "stream",
     "text": [
      "\r",
      "113it [04:29,  2.45s/it]"
     ]
    },
    {
     "name": "stdout",
     "output_type": "stream",
     "text": [
      "Heat: ['Al Pacino', 'Robert De Niro', 'Val Kilmer', 'Jon Voight', 'Tom Sizemore', 'Diane Venora', 'Amy Brenneman', 'Ashley Judd', 'Mykelti Williamson', 'Wes Studi', 'Ted Levine', 'Dennis Haysbert', 'William Fichtner', 'Natalie Portman', 'Tom Noonan']\n"
     ]
    },
    {
     "name": "stderr",
     "output_type": "stream",
     "text": [
      "\r",
      "114it [04:32,  2.38s/it]"
     ]
    },
    {
     "name": "stdout",
     "output_type": "stream",
     "text": [
      "Ikiru: ['Takashi Shimura', \"Shin'ichi Himori\", 'Haruo Tanaka', 'Minoru Chiaki', 'Miki Odagiri', 'Bokuzen Hidari', 'Minosuke Yamada', 'Kamatari Fujiwara', 'Makoto Kobori', 'Nobuo Kaneko', 'Nobuo Nakamura', 'Atsushi Watanabe', 'Isao Kimura', 'Masao Shimizu', 'Yûnosuke Itô']\n"
     ]
    },
    {
     "name": "stderr",
     "output_type": "stream",
     "text": [
      "\r",
      "115it [04:34,  2.31s/it]"
     ]
    },
    {
     "name": "stdout",
     "output_type": "stream",
     "text": [
      "Snatch: ['Ade', 'William Beck', 'Andy Beckwith', 'Ewen Bremner', 'Jason Buckham', 'Mickey Cantwell', 'Nicola Collins', 'Teena Collins', 'Charles Cork', 'James Cunningham', 'Sorcha Cusack', 'Mickey Dee', 'Benicio Del Toro', 'Sam Douglas', 'Dennis Farina']\n"
     ]
    },
    {
     "name": "stderr",
     "output_type": "stream",
     "text": [
      "\r",
      "116it [04:36,  2.20s/it]"
     ]
    },
    {
     "name": "stdout",
     "output_type": "stream",
     "text": [
      "Die Hard: ['Bruce Willis', 'Bonnie Bedelia', 'Reginald VelJohnson', 'Paul Gleason', \"De'voreaux White\", 'William Atherton', 'Hart Bochner', 'James Shigeta', 'Alan Rickman', 'Alexander Godunov', 'Bruno Doyon', 'Andreas Wisniewski', 'Clarence Gilyard Jr.', 'Joey Plewa', 'Lorenzo Caccialanza']\n"
     ]
    },
    {
     "name": "stderr",
     "output_type": "stream",
     "text": [
      "\r",
      "117it [04:39,  2.49s/it]"
     ]
    },
    {
     "name": "stdout",
     "output_type": "stream",
     "text": [
      "Indiana Jones and the Last Crusade: ['Harrison Ford', 'Sean Connery', 'Denholm Elliott', 'Alison Doody', 'John Rhys-Davies', 'Julian Glover', 'River Phoenix', 'Michael Byrne', 'Kevork Malikyan', 'Robert Eddison', 'Richard Young', 'Alexei Sayle', 'Alex Hyde-White', 'Paul Maxwell', 'Isla Blair']\n"
     ]
    },
    {
     "name": "stderr",
     "output_type": "stream",
     "text": [
      "\r",
      "118it [04:42,  2.58s/it]"
     ]
    },
    {
     "name": "stdout",
     "output_type": "stream",
     "text": [
      "A Separation: ['Payman Maadi', 'Leila Hatami', 'Sareh Bayat', 'Shahab Hosseini', 'Sarina Farhadi', \"Merila Zare'i\", 'Ali-Asghar Shahbazi', 'Babak Karimi', 'Kimia Hosseini', 'Shirin Yazdanbakhsh', 'Sohibanoo Zolqadr', 'Mohammadhasan Asghari', 'Shirin Azimiyannezhad', 'Hamid Dadju', 'Mohammad Ebrahimian']\n"
     ]
    },
    {
     "name": "stderr",
     "output_type": "stream",
     "text": [
      "\r",
      "119it [04:44,  2.62s/it]"
     ]
    },
    {
     "name": "stdout",
     "output_type": "stream",
     "text": [
      "Metropolis: ['Alfred Abel', 'Gustav Fröhlich', 'Rudolf Klein-Rogge', 'Fritz Rasp', 'Theodor Loos', 'Erwin Biswanger', 'Heinrich George', 'Brigitte Helm', 'Fritz Alberti', 'Grete Berger', 'Olly Boeheim', 'Max Dietze', 'Ellen Frey', 'Beatrice Garga', 'Heinrich Gotho']\n"
     ]
    },
    {
     "name": "stderr",
     "output_type": "stream",
     "text": [
      "\r",
      "120it [04:47,  2.58s/it]"
     ]
    },
    {
     "name": "stdout",
     "output_type": "stream",
     "text": [
      "Bicycle Thieves: ['Lamberto Maggiorani', 'Enzo Staiola', 'Lianella Carell', 'Elena Altieri', 'Gino Saltamerenda', 'Giulio Chiari', 'Vittorio Antonucci', 'Michele Sakara', 'Fausto Guerzoni', 'Emma Druetti', 'Carlo Jachino', 'Giulio Battiferri', 'Ida Bracci Dorati', 'Nando Bruno', 'Eolo Capritti']\n"
     ]
    },
    {
     "name": "stderr",
     "output_type": "stream",
     "text": [
      "\r",
      "121it [04:49,  2.43s/it]"
     ]
    },
    {
     "name": "stdout",
     "output_type": "stream",
     "text": [
      "Incendies: ['Mustafa Kamel', 'Hussein Sami', 'Rémy Girard', 'Mélissa Désormeaux-Poulin', 'Maxim Gaudette', 'Dominique Briand', 'Lubna Azabal', 'Frédéric Paquet', 'Hamed Najem', 'Ahmad Massad', 'Bader Alami', 'Majida Hussein', 'Asriah Nijres', 'John Dunn-Hill', 'Nadia Essadiqi']\n"
     ]
    },
    {
     "name": "stderr",
     "output_type": "stream",
     "text": [
      "\r",
      "122it [04:52,  2.52s/it]"
     ]
    },
    {
     "name": "stdout",
     "output_type": "stream",
     "text": [
      "1917: ['Dean-Charles Chapman', 'George MacKay', 'Daniel Mays', 'Colin Firth', 'Pip Carter', 'Andy Apollo', 'Paul Tinto', 'Josef Davies', 'Billy Postlethwaite', 'Gabriel Akuwudike', 'Andrew Scott', 'Spike Leighton', 'Robert Maaser', 'Gerran Howell', 'Adam Hugill']\n"
     ]
    },
    {
     "name": "stderr",
     "output_type": "stream",
     "text": [
      "\r",
      "123it [04:54,  2.41s/it]"
     ]
    },
    {
     "name": "stdout",
     "output_type": "stream",
     "text": [
      "Like Stars on Earth: ['Darsheel Safary', 'Aamir Khan', 'Tisca Chopra', 'Vipin Sharma', 'Sachet Engineer', 'Tanay Chheda', 'Lalitha Lajmi', 'Girija Oak', 'Ravi Khanvilkar', 'Pratima Kulkarni', 'Meghna Malik', 'Sonali Sachdev', 'Sanjay Dadich', 'Rajgopal Iyer', 'Bugs Bhargava Krishna']\n"
     ]
    },
    {
     "name": "stderr",
     "output_type": "stream",
     "text": [
      "\r",
      "124it [04:59,  3.09s/it]"
     ]
    },
    {
     "name": "stdout",
     "output_type": "stream",
     "text": [
      "Batman Begins: ['Christian Bale', 'Michael Caine', 'Liam Neeson', 'Katie Holmes', 'Gary Oldman', 'Cillian Murphy', 'Tom Wilkinson', 'Rutger Hauer', 'Ken Watanabe', 'Mark Boone Junior', 'Linus Roache', 'Morgan Freeman', 'Larry Holden', 'Gerard Murphy', 'Colin McFarlane']\n"
     ]
    },
    {
     "name": "stderr",
     "output_type": "stream",
     "text": [
      "\r",
      "125it [05:01,  2.82s/it]"
     ]
    },
    {
     "name": "stdout",
     "output_type": "stream",
     "text": [
      "For a Few Dollars More: ['Clint Eastwood', 'Lee Van Cleef', 'Gian Maria Volontè', 'Mara Krupp', 'Luigi Pistilli', 'Klaus Kinski', 'Luis Rodríguez', 'Benito Stefanelli', 'Panos Papadopulos', 'Aldo Sambrell', 'Roberto Camardiel', 'Joseph Egger', 'Tomás Blanco', 'Lorenzo Robledo', 'Dante Maggio']\n"
     ]
    },
    {
     "name": "stderr",
     "output_type": "stream",
     "text": [
      "\r",
      "126it [05:02,  2.48s/it]"
     ]
    },
    {
     "name": "stdout",
     "output_type": "stream",
     "text": [
      "Dangal: ['Aamir Khan', 'Fatima Sana Shaikh', 'Sanya Malhotra', 'Sakshi Tanwar', 'Aparshakti Khurana', 'Zaira Wasim', 'Suhani Bhatnagar', 'Ritvik Sahore', 'Girish Kulkarni', 'Ravi Aneja', 'Anurag Arora', 'Mahesh Balraj', 'Vivan Bhatena', 'Anmol Charan', 'Karamveer Choudhary']\n"
     ]
    },
    {
     "name": "stderr",
     "output_type": "stream",
     "text": [
      "\r",
      "127it [05:05,  2.47s/it]"
     ]
    },
    {
     "name": "stdout",
     "output_type": "stream",
     "text": [
      "Downfall: ['Bruno Ganz', 'Alexandra Maria Lara', 'Corinna Harfouch', 'Ulrich Matthes', 'Juliane Köhler', 'Heino Ferch', 'Christian Berkel', 'Matthias Habich', 'Thomas Kretschmann', 'Michael Mendl', 'André Hennicke', 'Ulrich Noethen', 'Birgit Minichmayr', 'Rolf Kanies', 'Justus von Dohnányi']\n"
     ]
    },
    {
     "name": "stderr",
     "output_type": "stream",
     "text": [
      "\r",
      "128it [05:08,  2.66s/it]"
     ]
    },
    {
     "name": "stdout",
     "output_type": "stream",
     "text": [
      "The Kid: ['Charles Chaplin', 'Jackie Coogan', 'Carl Miller', 'Edna Purviance', 'Albert Austin', 'Beulah Bains', 'Nellie Bly Baker', 'Henry Bergman', 'Edward Biby', 'B.F. Blinn', 'Kitty Bradbury', 'Frank Campeau', 'Bliss Chevalier', 'Frances Cochran', 'Elsie Codd']\n"
     ]
    },
    {
     "name": "stderr",
     "output_type": "stream",
     "text": [
      "\r",
      "129it [05:11,  2.77s/it]"
     ]
    },
    {
     "name": "stdout",
     "output_type": "stream",
     "text": [
      "Some Like It Hot: ['Marilyn Monroe', 'Tony Curtis', 'Jack Lemmon', 'George Raft', \"Pat O'Brien\", 'Joe E. Brown', 'Nehemiah Persoff', 'Joan Shawlee', 'Billy Gray', 'George E. Stone', 'Dave Barry', 'Mike Mazurki', 'Harry Wilson', 'Beverly Wills', 'Barbara Drew']\n"
     ]
    },
    {
     "name": "stderr",
     "output_type": "stream",
     "text": [
      "\r",
      "130it [05:13,  2.69s/it]"
     ]
    },
    {
     "name": "stdout",
     "output_type": "stream",
     "text": [
      "The Batman: ['Robert Pattinson', 'Zoë Kravitz', 'Jeffrey Wright', 'Colin Farrell', 'Paul Dano', 'John Turturro', 'Andy Serkis', 'Peter Sarsgaard', 'Barry Keoghan', 'Jayme Lawson', 'Gil Perez-Abraham', 'Peter McDonald', \"Con O'Neill\", 'Alex Ferns', 'Rupert Penry-Jones']\n"
     ]
    },
    {
     "name": "stderr",
     "output_type": "stream",
     "text": [
      "\r",
      "131it [05:16,  2.51s/it]"
     ]
    },
    {
     "name": "stdout",
     "output_type": "stream",
     "text": [
      "The Father: ['Olivia Colman', 'Anthony Hopkins', 'Mark Gatiss', 'Olivia Williams', 'Imogen Poots', 'Rufus Sewell', 'Ayesha Dharker', 'Roman Zeller', 'Adnan Kundi', 'Brian Rodger', 'Romulus Stoicescu', 'Evie Wray']\n"
     ]
    },
    {
     "name": "stderr",
     "output_type": "stream",
     "text": [
      "\r",
      "132it [05:18,  2.42s/it]"
     ]
    },
    {
     "name": "stdout",
     "output_type": "stream",
     "text": [
      "All About Eve: ['Bette Davis', 'Anne Baxter', 'George Sanders', 'Celeste Holm', 'Gary Merrill', 'Hugh Marlowe', 'Gregory Ratoff', 'Barbara Bates', 'Marilyn Monroe', 'Thelma Ritter', 'Walter Hampden', 'Randy Stuart', 'Craig Hill', 'Leland Harris', 'Barbara White']\n"
     ]
    },
    {
     "name": "stderr",
     "output_type": "stream",
     "text": [
      "\r",
      "133it [05:20,  2.49s/it]"
     ]
    },
    {
     "name": "stdout",
     "output_type": "stream",
     "text": [
      "The Wolf of Wall Street: ['Leonardo DiCaprio', 'Jonah Hill', 'Margot Robbie', 'Matthew McConaughey', 'Kyle Chandler', 'Rob Reiner', 'Jon Bernthal', 'Jon Favreau', 'Jean Dujardin', 'Joanna Lumley', 'Cristin Milioti', 'Christine Ebersole', 'Shea Whigham', 'Katarina Cas', 'P.J. Byrne']\n"
     ]
    },
    {
     "name": "stderr",
     "output_type": "stream",
     "text": [
      "\r",
      "134it [05:23,  2.60s/it]"
     ]
    },
    {
     "name": "stdout",
     "output_type": "stream",
     "text": [
      "Green Book: ['Viggo Mortensen', 'Mahershala Ali', 'Linda Cardellini', 'Sebastian Maniscalco', 'Dimiter D. Marinov', 'Mike Hatton', 'P.J. Byrne', 'Joe Cortese', 'Maggie Nixon', 'Von Lewis', 'Jon Sortland', 'Don Stark', 'Anthony Mangano', 'Paul Sloan', 'Quinn Duffy']\n"
     ]
    },
    {
     "name": "stderr",
     "output_type": "stream",
     "text": [
      "\r",
      "135it [05:25,  2.36s/it]"
     ]
    },
    {
     "name": "stdout",
     "output_type": "stream",
     "text": [
      "Unforgiven: ['Clint Eastwood', 'Gene Hackman', 'Morgan Freeman', 'Richard Harris', 'Jaimz Woolvett', 'Saul Rubinek', 'Frances Fisher', 'Anna Thomson', 'David Mucci', 'Rob Campbell', 'Anthony James', 'Tara Frederick', 'Beverley Elliott', 'Liisa Repo-Martell', 'Josie Smith']\n"
     ]
    },
    {
     "name": "stderr",
     "output_type": "stream",
     "text": [
      "\r",
      "136it [05:27,  2.34s/it]"
     ]
    },
    {
     "name": "stdout",
     "output_type": "stream",
     "text": [
      "Casino: ['Robert De Niro', 'Sharon Stone', 'Joe Pesci', 'James Woods', 'Don Rickles', 'Alan King', 'Kevin Pollak', 'L.Q. Jones', 'Dick Smothers', 'Frank Vincent', 'John Bloom', 'Pasquale Cajano', 'Melissa Prophet', 'Bill Allison', 'Vinny Vella']\n"
     ]
    },
    {
     "name": "stderr",
     "output_type": "stream",
     "text": [
      "\r",
      "137it [05:29,  2.17s/it]"
     ]
    },
    {
     "name": "stdout",
     "output_type": "stream",
     "text": [
      "Judgment at Nuremberg: ['Spencer Tracy', 'Burt Lancaster', 'Richard Widmark', 'Marlene Dietrich', 'Maximilian Schell', 'Judy Garland', 'Montgomery Clift', 'William Shatner', 'Werner Klemperer', 'Kenneth MacKenna', 'Torben Meyer', 'Joseph Bernard', 'Alan Baxter', 'Edward Binns', 'Virginia Christine']\n"
     ]
    },
    {
     "name": "stderr",
     "output_type": "stream",
     "text": [
      "\r",
      "138it [05:32,  2.39s/it]"
     ]
    },
    {
     "name": "stdout",
     "output_type": "stream",
     "text": [
      "Pan's Labyrinth: ['Ivana Baquero', 'Sergi López', 'Maribel Verdú', 'Doug Jones', 'Ariadna Gil', 'Álex Angulo', 'Manolo Solo', 'César Vea', 'Roger Casamajor', 'Ivan Massagué', 'Gonzalo Uriarte', 'Eusebio Lázaro', 'Francisco Vidal', 'Juanjo Cucalón', 'Lina Mira']\n"
     ]
    },
    {
     "name": "stderr",
     "output_type": "stream",
     "text": [
      "\r",
      "139it [05:34,  2.23s/it]"
     ]
    },
    {
     "name": "stdout",
     "output_type": "stream",
     "text": [
      "Ran: ['Tatsuya Nakadai', 'Akira Terao', 'Jinpachi Nezu', 'Daisuke Ryû', 'Mieko Harada', 'Yoshiko Miyazaki', 'Hisashi Igawa', 'Pîtâ', 'Masayuki Yui', 'Kazuo Katô', 'Norio Matsui', 'Toshiya Ito', 'Kenji Kodama', 'Takashi Watanabe', 'Mansai Nomura']\n"
     ]
    },
    {
     "name": "stderr",
     "output_type": "stream",
     "text": [
      "\r",
      "140it [05:36,  2.21s/it]"
     ]
    },
    {
     "name": "stdout",
     "output_type": "stream",
     "text": [
      "A Beautiful Mind: ['Russell Crowe', 'Ed Harris', 'Jennifer Connelly', 'Christopher Plummer', 'Paul Bettany', 'Adam Goldberg', 'Josh Lucas', 'Anthony Rapp', 'Jason Gray-Stanford', 'Judd Hirsch', 'Austin Pendleton', 'Vivien Cardone', 'Jillie Simon', 'Victor Steinbach', 'Tanya Clarke']\n"
     ]
    },
    {
     "name": "stderr",
     "output_type": "stream",
     "text": [
      "\r",
      "141it [05:38,  2.22s/it]"
     ]
    },
    {
     "name": "stdout",
     "output_type": "stream",
     "text": [
      "The Sixth Sense: ['Bruce Willis', 'Haley Joel Osment', 'Toni Collette', 'Olivia Williams', 'Trevor Morgan', 'Donnie Wahlberg', 'Peter Anthony Tambakis', 'Jeffrey Zubernis', 'Bruce Norris', 'Glenn Fitzgerald', 'Greg Wood', 'Mischa Barton', 'Angelica Page', 'Lisa Summerour', 'Firdous Bamji']\n"
     ]
    },
    {
     "name": "stderr",
     "output_type": "stream",
     "text": [
      "\r",
      "142it [05:40,  2.20s/it]"
     ]
    },
    {
     "name": "stdout",
     "output_type": "stream",
     "text": [
      "Monty Python and the Holy Grail: ['Graham Chapman', 'John Cleese', 'Eric Idle', 'Terry Gilliam', 'Terry Jones', 'Michael Palin', 'Connie Booth', 'Carol Cleveland', 'Neil Innes', 'Bee Duffell', 'John Young', 'Rita Davies', 'Avril Stewart', 'Sally Kinghorn', 'Mark Zycon']\n"
     ]
    },
    {
     "name": "stderr",
     "output_type": "stream",
     "text": [
      "\r",
      "143it [05:43,  2.37s/it]"
     ]
    },
    {
     "name": "stdout",
     "output_type": "stream",
     "text": [
      "There Will Be Blood: ['Daniel Day-Lewis', 'Martin Stringer', 'Matthew Braden Stringer', 'Jacob Stringer', 'Joseph Mussey', 'Barry Del Sherman', 'Harrison Taylor', 'Stockton Taylor', 'Paul F. Tompkins', 'Dillon Freasier', 'Kevin Breznahan', 'Jim Meskimen', 'Erica Sullivan', 'Randall Carver', 'Coco Leigh']\n"
     ]
    },
    {
     "name": "stderr",
     "output_type": "stream",
     "text": [
      "\r",
      "144it [05:46,  2.41s/it]"
     ]
    },
    {
     "name": "stdout",
     "output_type": "stream",
     "text": [
      "The Truman Show: ['Jim Carrey', 'Laura Linney', 'Noah Emmerich', 'Natascha McElhone', 'Holland Taylor', 'Brian Delate', 'Blair Slater', 'Peter Krause', 'Heidi Schanz', 'Ron Taylor', 'Don Taylor', 'Ted Raymond', 'Judy Clayton', 'Fritz Dominique', 'Angel Schmiedt']\n"
     ]
    },
    {
     "name": "stderr",
     "output_type": "stream",
     "text": [
      "\r",
      "145it [05:50,  3.09s/it]"
     ]
    },
    {
     "name": "stdout",
     "output_type": "stream",
     "text": [
      "Yojimbo: ['Toshirô Mifune', 'Tatsuya Nakadai', 'Yôko Tsukasa', 'Isuzu Yamada', 'Daisuke Katô', 'Seizaburô Kawazu', 'Takashi Shimura', 'Hiroshi Tachikawa', 'Yôsuke Natsuki', 'Eijirô Tôno', 'Kamatari Fujiwara', 'Ikio Sawamura', 'Atsushi Watanabe', 'Susumu Fujita', 'Kyû Sazanka']\n"
     ]
    },
    {
     "name": "stderr",
     "output_type": "stream",
     "text": [
      "\r",
      "146it [05:53,  2.86s/it]"
     ]
    },
    {
     "name": "stdout",
     "output_type": "stream",
     "text": [
      "The Treasure of the Sierra Madre: ['Humphrey Bogart', 'Walter Huston', 'Tim Holt', 'Bruce Bennett', 'Barton MacLane', 'Alfonso Bedoya', 'Arturo Soto Rangel', 'Manuel Dondé', 'José Torvay', 'Margarito Luna', 'Robert Blake', 'Guillermo Calles', 'Roberto Cañedo', 'Spencer Chan', 'Jacqueline Dalya']\n"
     ]
    },
    {
     "name": "stderr",
     "output_type": "stream",
     "text": [
      "\r",
      "147it [05:55,  2.74s/it]"
     ]
    },
    {
     "name": "stdout",
     "output_type": "stream",
     "text": [
      "Shutter Island: ['Leonardo DiCaprio', 'Mark Ruffalo', 'Ben Kingsley', 'Max von Sydow', 'Michelle Williams', 'Emily Mortimer', 'Patricia Clarkson', 'Jackie Earle Haley', 'Ted Levine', 'John Carroll Lynch', 'Elias Koteas', 'Robin Bartlett', 'Christopher Denham', 'Nellie Sciutto', 'Joseph Sikora']\n"
     ]
    },
    {
     "name": "stderr",
     "output_type": "stream",
     "text": [
      "\r",
      "148it [05:57,  2.57s/it]"
     ]
    },
    {
     "name": "stdout",
     "output_type": "stream",
     "text": [
      "The Great Escape: ['Steve McQueen', 'James Garner', 'Richard Attenborough', 'James Donald', 'Charles Bronson', 'Donald Pleasence', 'James Coburn', 'Hannes Messemer', 'David McCallum', 'Gordon Jackson', 'John Leyton', 'Angus Lennie', 'Nigel Stock', 'Robert Graf', 'Jud Taylor']\n"
     ]
    },
    {
     "name": "stderr",
     "output_type": "stream",
     "text": [
      "\r",
      "149it [06:00,  2.51s/it]"
     ]
    },
    {
     "name": "stdout",
     "output_type": "stream",
     "text": [
      "Rashomon: ['Toshirô Mifune', 'Machiko Kyô', 'Masayuki Mori', 'Takashi Shimura', 'Minoru Chiaki', 'Kichijirô Ueda', 'Noriko Honma', 'Daisuke Katô']\n"
     ]
    },
    {
     "name": "stderr",
     "output_type": "stream",
     "text": [
      "\r",
      "150it [06:04,  2.93s/it]"
     ]
    },
    {
     "name": "stdout",
     "output_type": "stream",
     "text": [
      "Jurassic Park: ['Sam Neill', 'Laura Dern', 'Jeff Goldblum', 'Richard Attenborough', 'Bob Peck', 'Martin Ferrero', 'BD Wong', 'Joseph Mazzello', 'Ariana Richards', 'Samuel L. Jackson', 'Wayne Knight', 'Gerald R. Molen', 'Miguel Sandoval', 'Cameron Thor', 'Christopher John Fields']\n"
     ]
    },
    {
     "name": "stderr",
     "output_type": "stream",
     "text": [
      "\r",
      "151it [06:06,  2.67s/it]"
     ]
    },
    {
     "name": "stdout",
     "output_type": "stream",
     "text": [
      "Kill Bill: Vol. 1: ['Uma Thurman', 'Lucy Liu', 'Vivica A. Fox', 'Daryl Hannah', 'David Carradine', 'Michael Madsen', 'Julie Dreyfus', 'Chiaki Kuriyama', \"Shin'ichi Chiba\", 'Chia-Hui Liu', 'Michael Parks', 'Michael Bowen', 'Jun Kunimura', 'Kenji Ohba', 'Yuki Kazamatsuri']\n"
     ]
    },
    {
     "name": "stderr",
     "output_type": "stream",
     "text": [
      "\r",
      "152it [06:07,  2.36s/it]"
     ]
    },
    {
     "name": "stdout",
     "output_type": "stream",
     "text": [
      "No Country for Old Men: ['Tommy Lee Jones', 'Javier Bardem', 'Josh Brolin', 'Woody Harrelson', 'Kelly Macdonald', 'Garret Dillahunt', 'Tess Harper', 'Barry Corbin', 'Stephen Root', 'Rodger Boyce', 'Beth Grant', 'Ana Reeder', 'Kit Gwin', 'Zach Hopkins', 'Chip Love']\n"
     ]
    },
    {
     "name": "stderr",
     "output_type": "stream",
     "text": [
      "\r",
      "153it [06:10,  2.31s/it]"
     ]
    },
    {
     "name": "stdout",
     "output_type": "stream",
     "text": [
      "Finding Nemo: ['Albert Brooks', 'Ellen DeGeneres', 'Alexander Gould', 'Willem Dafoe', 'Brad Garrett', 'Allison Janney', 'Austin Pendleton', 'Stephen Root', 'Vicki Lewis', 'Joe Ranft', 'Geoffrey Rush', 'Andrew Stanton', 'Elizabeth Perkins', 'Nicholas Bird', 'Bob Peterson']\n"
     ]
    },
    {
     "name": "stderr",
     "output_type": "stream",
     "text": [
      "\r",
      "154it [06:11,  2.11s/it]"
     ]
    },
    {
     "name": "stdout",
     "output_type": "stream",
     "text": [
      "Raging Bull: ['Robert De Niro', 'Cathy Moriarty', 'Joe Pesci', 'Frank Vincent', 'Nicholas Colasanto', 'Theresa Saldana', 'Mario Gallo', 'Frank Adonis', 'Joseph Bono', 'Frank Topham', 'Lori Anne Flax', 'Charles Scorsese', 'Don Dunphy', 'Bill Hanrahan', 'Rita Bennett']\n"
     ]
    },
    {
     "name": "stderr",
     "output_type": "stream",
     "text": [
      "\r",
      "155it [06:13,  2.12s/it]"
     ]
    },
    {
     "name": "stdout",
     "output_type": "stream",
     "text": [
      "V for Vendetta: ['Natalie Portman', 'Hugo Weaving', 'Stephen Rea', 'Stephen Fry', 'John Hurt', 'Tim Pigott-Smith', 'Rupert Graves', 'Roger Allam', 'Ben Miles', 'Sinéad Cusack', 'Natasha Wightman', 'John Standing', 'Eddie Marsan', 'Clive Ashborn', 'Emma Field-Rayner']\n"
     ]
    },
    {
     "name": "stderr",
     "output_type": "stream",
     "text": [
      "\r",
      "156it [06:16,  2.15s/it]"
     ]
    },
    {
     "name": "stdout",
     "output_type": "stream",
     "text": [
      "The Elephant Man: ['Anthony Hopkins', 'John Hurt', 'Anne Bancroft', 'John Gielgud', 'Wendy Hiller', 'Freddie Jones', 'Michael Elphick', 'Hannah Gordon', 'Helen Ryan', 'John Standing', 'Dexter Fletcher', 'Lesley Dunlop', 'Phoebe Nicholls', 'Pat Gorman', 'Claire Davenport']\n"
     ]
    },
    {
     "name": "stderr",
     "output_type": "stream",
     "text": [
      "\r",
      "157it [06:19,  2.63s/it]"
     ]
    },
    {
     "name": "stdout",
     "output_type": "stream",
     "text": [
      "Gone with the Wind: ['Thomas Mitchell', \"Barbara O'Neil\", 'Vivien Leigh', 'Evelyn Keyes', 'Ann Rutherford', 'George Reeves', 'Fred Crane', 'Hattie McDaniel', 'Oscar Polk', 'Butterfly McQueen', 'Victor Jory', 'Everett Brown', 'Howard Hickman', 'Alicia Rhett', 'Leslie Howard']\n"
     ]
    },
    {
     "name": "stderr",
     "output_type": "stream",
     "text": [
      "\r",
      "158it [06:22,  2.57s/it]"
     ]
    },
    {
     "name": "stdout",
     "output_type": "stream",
     "text": [
      "Chinatown: ['Jack Nicholson', 'Faye Dunaway', 'John Huston', 'Perry Lopez', 'John Hillerman', 'Darrell Zwerling', 'Diane Ladd', 'Roy Jenson', 'Roman Polanski', 'Richard Bakalyan', 'Joe Mantell', 'Bruce Glover', 'Nandu Hinds', \"James O'Rear\", 'James Hong']\n"
     ]
    },
    {
     "name": "stderr",
     "output_type": "stream",
     "text": [
      "\r",
      "159it [06:24,  2.49s/it]"
     ]
    },
    {
     "name": "stdout",
     "output_type": "stream",
     "text": [
      "Inside Out: ['Amy Poehler', 'Phyllis Smith', 'Richard Kind', 'Bill Hader', 'Lewis Black', 'Mindy Kaling', 'Kaitlyn Dias', 'Diane Lane', 'Kyle MacLachlan', 'Paula Poundstone', 'Bobby Moynihan', 'Paula Pell', 'Dave Goelz', 'Frank Oz', 'Josh Cooley']\n"
     ]
    },
    {
     "name": "stderr",
     "output_type": "stream",
     "text": [
      "\r",
      "160it [06:26,  2.38s/it]"
     ]
    },
    {
     "name": "stdout",
     "output_type": "stream",
     "text": [
      "Lock, Stock and Two Smoking Barrels: ['Jason Flemyng', 'Dexter Fletcher', 'Nick Moran', 'Jason Statham', 'Steven Mackintosh', 'Nicholas Rowe', 'Nick Marcq', 'Charles Forbes', 'Vinnie Jones', 'Lenny McLean', 'Peter McNicholl', 'P.H. Moriarty', 'Frank Harper', 'Steve Sweeney', 'Huggy Leaver']\n"
     ]
    },
    {
     "name": "stderr",
     "output_type": "stream",
     "text": [
      "\r",
      "161it [06:28,  2.30s/it]"
     ]
    },
    {
     "name": "stdout",
     "output_type": "stream",
     "text": [
      "The Thing: ['Kurt Russell', 'Wilford Brimley', 'T.K. Carter', 'David Clennon', 'Keith David', 'Richard Dysart', 'Charles Hallahan', 'Peter Maloney', 'Richard Masur', 'Donald Moffat', 'Joel Polis', 'Thomas G. Waites', 'Norbert Weisser', 'Larry Franco', 'Nate Irwin']\n"
     ]
    },
    {
     "name": "stderr",
     "output_type": "stream",
     "text": [
      "\r",
      "162it [06:31,  2.37s/it]"
     ]
    },
    {
     "name": "stdout",
     "output_type": "stream",
     "text": [
      "Dial M for Murder: ['Ray Milland', 'Grace Kelly', 'Robert Cummings', 'John Williams', 'Anthony Dawson', 'Leo Britt', 'Patrick Allen', 'George Leigh', 'George Alderson', 'Robin Hughes', 'Richard Bender', 'Robin Sanders Clark', 'Jack Cunningham', 'Robert Dobson', 'Guy Doleman']\n"
     ]
    },
    {
     "name": "stderr",
     "output_type": "stream",
     "text": [
      "\r",
      "163it [06:33,  2.23s/it]"
     ]
    },
    {
     "name": "stdout",
     "output_type": "stream",
     "text": [
      "The Secret in Their Eyes: ['Soledad Villamil', 'Ricardo Darín', 'Carla Quevedo', 'Pablo Rago', 'Javier Godino', 'Bárbara Palladino', 'Rudy Romano', 'Alejandro Abelenda', 'Mario Alarcón', 'Guillermo Francella', 'Sebastián Blanco', 'Mariano Argento', 'José Luis Gioia', 'Juan José Ortíz', 'Kiko Cerone']\n"
     ]
    },
    {
     "name": "stderr",
     "output_type": "stream",
     "text": [
      "\r",
      "164it [06:35,  2.23s/it]"
     ]
    },
    {
     "name": "stdout",
     "output_type": "stream",
     "text": [
      "Howl's Moving Castle: ['Chieko Baishô', 'Takuya Kimura', 'Akihiro Miwa', 'Tatsuya Gashûin', 'Ryûnosuke Kamiki', 'Mitsunori Isaki', 'Yô Ôizumi', 'Akio Ôtsuka', 'Daijirô Harada', 'Haruko Katô', 'Jean Simmons', 'Christian Bale', 'Lauren Bacall', 'Blythe Danner', 'Emily Mortimer']\n"
     ]
    },
    {
     "name": "stderr",
     "output_type": "stream",
     "text": [
      "\r",
      "165it [06:37,  2.23s/it]"
     ]
    },
    {
     "name": "stdout",
     "output_type": "stream",
     "text": [
      "The Bridge on the River Kwai: ['William Holden', 'Alec Guinness', 'Jack Hawkins', 'Sessue Hayakawa', 'James Donald', 'Geoffrey Horne', 'André Morell', 'Peter Williams', 'John Boxer', 'Percy Herbert', 'Harold Goodwin', 'Ann Sears', 'Heihachirô Ôkawa', 'Keiichirô Katsumoto', 'M.R.B. Chakrabandhu']\n"
     ]
    },
    {
     "name": "stderr",
     "output_type": "stream",
     "text": [
      "\r",
      "166it [06:40,  2.30s/it]"
     ]
    },
    {
     "name": "stdout",
     "output_type": "stream",
     "text": [
      "Trainspotting: ['Ewan McGregor', 'Ewen Bremner', 'Jonny Lee Miller', 'Kevin McKidd', 'Robert Carlyle', 'Kelly Macdonald', 'Peter Mullan', 'James Cosmo', 'Eileen Nicholas', 'Susan Vidler', 'Pauline Lynch', 'Shirley Henderson', 'Stuart McQuarrie', 'Irvine Welsh', 'Dale Winton']\n"
     ]
    },
    {
     "name": "stderr",
     "output_type": "stream",
     "text": [
      "\r",
      "167it [06:41,  2.14s/it]"
     ]
    },
    {
     "name": "stdout",
     "output_type": "stream",
     "text": [
      "Three Billboards Outside Ebbing, Missouri: ['Frances McDormand', 'Caleb Landry Jones', 'Kerry Condon', 'Sam Rockwell', 'Alejandro Barrios', 'Jason Ledford', 'Darrell Britt-Gibson', 'Woody Harrelson', 'Abbie Cornish', 'Riya May Atwood', 'Selah Atwood', 'Lucas Hedges', 'Zeljko Ivanek', 'Amanda Warren', 'Malaya Rivera Drew']\n"
     ]
    },
    {
     "name": "stderr",
     "output_type": "stream",
     "text": [
      "\r",
      "168it [06:44,  2.24s/it]"
     ]
    },
    {
     "name": "stdout",
     "output_type": "stream",
     "text": [
      "Warrior: ['Joel Edgerton', 'Tom Hardy', 'Nick Nolte', 'Jennifer Morrison', 'Frank Grillo', 'Kevin Dunn', 'Maximiliano Hernández', 'Bryan Callen', 'Sam Sheridan', 'Fernando Chien', 'Jake McLaughlin', 'Vanessa Martinez', 'Denzel Whitaker', 'Carlos Miranda', 'Nick Lehane']\n"
     ]
    },
    {
     "name": "stderr",
     "output_type": "stream",
     "text": [
      "\r",
      "169it [06:46,  2.19s/it]"
     ]
    },
    {
     "name": "stdout",
     "output_type": "stream",
     "text": [
      "Gran Torino: ['Clint Eastwood', 'Christopher Carley', 'Bee Vang', 'Ahney Her', 'Brian Haley', 'Geraldine Hughes', 'Dreama Walker', 'Brian Howe', 'John Carroll Lynch', 'William Hill', 'Brooke Chia Thao', 'Chee Thao', 'Choua Kue', 'Scott Eastwood', 'Xia Soua Chang']\n"
     ]
    },
    {
     "name": "stderr",
     "output_type": "stream",
     "text": [
      "\r",
      "170it [06:48,  2.04s/it]"
     ]
    },
    {
     "name": "stdout",
     "output_type": "stream",
     "text": [
      "Fargo: ['William H. Macy', 'Steve Buscemi', 'Peter Stormare', 'Kristin Rudrüd', 'Harve Presnell', 'Tony Denman', 'Gary Houston', 'Sally Wingert', 'Kurt Schweickhardt', 'Larissa Kokernot', 'Melissa Peterman', 'Steve Reevis', 'Warren Keith', 'Steve Edelman', 'Sharon Anderson']\n"
     ]
    },
    {
     "name": "stderr",
     "output_type": "stream",
     "text": [
      "\r",
      "171it [06:50,  2.05s/it]"
     ]
    },
    {
     "name": "stdout",
     "output_type": "stream",
     "text": [
      "My Neighbor Totoro: ['Noriko Hidaka', 'Chika Sakamoto', 'Shigesato Itoi', 'Sumi Shimamoto', 'Tanie Kitabayashi', 'Hitoshi Takagi', 'Yûko Maruyama', 'Machiko Washio', 'Reiko Suzuki', 'Masashi Hirose', 'Toshiyuki Amagasa', 'Shigeru Chiba', 'Naoki Tatsuta', 'Tarako', 'Tomohiro Nishimura']\n"
     ]
    },
    {
     "name": "stderr",
     "output_type": "stream",
     "text": [
      "\r",
      "172it [06:52,  2.14s/it]"
     ]
    },
    {
     "name": "stdout",
     "output_type": "stream",
     "text": [
      "Prisoners: ['Hugh Jackman', 'Jake Gyllenhaal', 'Viola Davis', 'Maria Bello', 'Terrence Howard', 'Melissa Leo', 'Paul Dano', 'Dylan Minnette', 'Zoë Soul', 'Erin Gerasimovich', 'Kyla-Drew', 'Wayne Duvall', 'Len Cariou', 'David Dastmalchian', 'Brad James']\n"
     ]
    },
    {
     "name": "stderr",
     "output_type": "stream",
     "text": [
      "\r",
      "173it [06:55,  2.24s/it]"
     ]
    },
    {
     "name": "stdout",
     "output_type": "stream",
     "text": [
      "Million Dollar Baby: ['Clint Eastwood', 'Hilary Swank', 'Morgan Freeman', 'Jay Baruchel', 'Mike Colter', 'Lucia Rijker', \"Brían F. O'Byrne\", 'Anthony Mackie', 'Margo Martindale', 'Riki Lindhome', 'Michael Peña', 'Benito Martinez', 'Bruce MacVittie', 'David Powledge', \"Joe D'Angerio\"]\n"
     ]
    },
    {
     "name": "stderr",
     "output_type": "stream",
     "text": [
      "\r",
      "174it [06:57,  2.25s/it]"
     ]
    },
    {
     "name": "stdout",
     "output_type": "stream",
     "text": [
      "Blade Runner: ['Harrison Ford', 'Rutger Hauer', 'Sean Young', 'Edward James Olmos', 'M. Emmet Walsh', 'Daryl Hannah', 'William Sanderson', 'Brion James', 'Joe Turkel', 'Joanna Cassidy', 'James Hong', 'Morgan Paull', 'Kevin Thompson', 'John Edward Allen', 'Hy Pyke']\n"
     ]
    },
    {
     "name": "stderr",
     "output_type": "stream",
     "text": [
      "\r",
      "175it [07:00,  2.57s/it]"
     ]
    },
    {
     "name": "stdout",
     "output_type": "stream",
     "text": [
      "Catch Me If You Can: ['Leonardo DiCaprio', 'Tom Hanks', 'Christopher Walken', 'Martin Sheen', 'Nathalie Baye', 'Amy Adams', 'James Brolin', 'Brian Howe', 'Frank John Hughes', 'Steve Eastin', 'Chris Ellis', 'John Finn', 'Jennifer Garner', 'Nancy Lenehan', 'Ellen Pompeo']\n"
     ]
    },
    {
     "name": "stderr",
     "output_type": "stream",
     "text": [
      "\r",
      "176it [07:02,  2.37s/it]"
     ]
    },
    {
     "name": "stdout",
     "output_type": "stream",
     "text": [
      "The Gold Rush: ['Charles Chaplin', 'Mack Swain', 'Tom Murray', 'Henry Bergman', 'Malcolm Waite', 'Georgia Hale', 'Jack Adams', 'Frank Aderias', 'Leona Aderias', 'Lillian Adrian', 'Sam Allen', 'Claude Anderson', 'Harry Arras', 'Albert Austin', 'Marta Belfort']\n"
     ]
    },
    {
     "name": "stderr",
     "output_type": "stream",
     "text": [
      "\r",
      "177it [07:05,  2.58s/it]"
     ]
    },
    {
     "name": "stdout",
     "output_type": "stream",
     "text": [
      "On the Waterfront: ['Marlon Brando', 'Karl Malden', 'Lee J. Cobb', 'Rod Steiger', 'Pat Henning', 'Leif Erickson', 'James Westerfield', 'Tony Galento', 'Tami Mauriello', 'John F. Hamilton', 'John Heldabrand', 'Rudy Bond', 'Don Blackman', 'Arthur Keegan', 'Abe Simon']\n"
     ]
    },
    {
     "name": "stderr",
     "output_type": "stream",
     "text": [
      "\r",
      "178it [07:07,  2.45s/it]"
     ]
    },
    {
     "name": "stdout",
     "output_type": "stream",
     "text": [
      "Children of Heaven: ['Mohammad Amir Naji', 'Amir Farrokh Hashemian', 'Bahare Seddiqi', 'Nafise Jafar-Mohammadi', 'Fereshte Sarabandi', 'Kamal Mirkarimi', 'Behzad Rafi', 'Dariush Mokhtari', 'Mohammad-Hasan Hosseinian', 'Masume Dair', 'Kambiz Peykarnegar', 'Hasan Roohparvari', 'Abbas-Ali Roomandi', 'Jafar Seyfollahi', 'Qolamreza Maleki']\n"
     ]
    },
    {
     "name": "stderr",
     "output_type": "stream",
     "text": [
      "\r",
      "179it [07:11,  2.84s/it]"
     ]
    },
    {
     "name": "stdout",
     "output_type": "stream",
     "text": [
      "Harry Potter and the Deathly Hallows: Part 2: ['Ralph Fiennes', 'Michael Gambon', 'Alan Rickman', 'Daniel Radcliffe', 'Rupert Grint', 'Emma Watson', 'Evanna Lynch', 'Domhnall Gleeson', 'Clémence Poésy', 'Warwick Davis', 'John Hurt', 'Helena Bonham Carter', 'Graham Duff', 'Anthony Allgood', 'Rusty Goffe']\n"
     ]
    },
    {
     "name": "stderr",
     "output_type": "stream",
     "text": [
      "\r",
      "180it [07:13,  2.64s/it]"
     ]
    },
    {
     "name": "stdout",
     "output_type": "stream",
     "text": [
      "The Third Man: ['Joseph Cotten', 'Alida Valli', 'Orson Welles', 'Trevor Howard', 'Paul Hörbiger', 'Ernst Deutsch', 'Erich Ponto', 'Siegfried Breuer', 'Hedwig Bleibtreu', 'Bernard Lee', 'Wilfrid Hyde-White', 'Nelly Arno', 'Jack Arrow', 'Harold Ayer', 'Harry Belcher']\n"
     ]
    },
    {
     "name": "stderr",
     "output_type": "stream",
     "text": [
      "\r",
      "181it [07:16,  2.60s/it]"
     ]
    },
    {
     "name": "stdout",
     "output_type": "stream",
     "text": [
      "Gone Girl: ['Ben Affleck', 'Rosamund Pike', 'Neil Patrick Harris', 'Tyler Perry', 'Carrie Coon', 'Kim Dickens', 'Patrick Fugit', 'David Clennon', 'Lisa Banes', 'Missi Pyle', 'Emily Ratajkowski', 'Casey Wilson', 'Lola Kirke', 'Boyd Holbrook', 'Sela Ward']\n"
     ]
    },
    {
     "name": "stderr",
     "output_type": "stream",
     "text": [
      "\r",
      "182it [07:18,  2.65s/it]"
     ]
    },
    {
     "name": "stdout",
     "output_type": "stream",
     "text": [
      "12 Years a Slave: ['Chiwetel Ejiofor', 'Dwight Henry', 'Dickie Gravois', 'Bryan Batt', 'Ashley Dyke', 'Kelsey Scott', 'Quvenzhané Wallis', 'Cameron Zeigler', 'Tony Bentley', 'Scoot McNairy', 'Taran Killam', 'Christopher Berry', 'Bill Camp', 'Mister Mackey Jr.', 'Chris Chalk']\n"
     ]
    },
    {
     "name": "stderr",
     "output_type": "stream",
     "text": [
      "\r",
      "183it [07:20,  2.44s/it]"
     ]
    },
    {
     "name": "stdout",
     "output_type": "stream",
     "text": [
      "Ben-Hur: ['Charlton Heston', 'Jack Hawkins', 'Haya Harareet', 'Stephen Boyd', 'Hugh Griffith', 'Martha Scott', \"Cathy O'Donnell\", 'Sam Jaffe', 'Finlay Currie', 'Frank Thring', 'Terence Longdon', 'George Relph', 'André Morell', 'Nello Appodia', 'Fortunato Arena']\n"
     ]
    },
    {
     "name": "stderr",
     "output_type": "stream",
     "text": [
      "\r",
      "184it [07:23,  2.51s/it]"
     ]
    },
    {
     "name": "stdout",
     "output_type": "stream",
     "text": [
      "The General: ['Buster Keaton', 'Marion Mack', 'Glen Cavender', 'Jim Farley', 'Frederick Vroom', 'Frank Barnes', 'Charles Henry Smith', 'Joe Keaton', 'Mike Donlin', 'Tom Nawn', 'Henry Baird', 'Joe Bricher', 'Jimmy Bryant', 'Sergeant Bukowski', 'C.C. Cruson']\n"
     ]
    },
    {
     "name": "stderr",
     "output_type": "stream",
     "text": [
      "\r",
      "185it [07:25,  2.38s/it]"
     ]
    },
    {
     "name": "stdout",
     "output_type": "stream",
     "text": [
      "The Deer Hunter: ['Robert De Niro', 'John Cazale', 'John Savage', 'Christopher Walken', 'Meryl Streep', 'George Dzundza', 'Chuck Aspegren', 'Shirley Stoler', 'Rutanya Alda', 'Pierre Segui', 'Mady Kaplan', 'Amy Wright', 'Mary Ann Haenel', 'Richard Kuss', 'Joe Grifasi']\n"
     ]
    },
    {
     "name": "stderr",
     "output_type": "stream",
     "text": [
      "\r",
      "186it [07:27,  2.16s/it]"
     ]
    },
    {
     "name": "stdout",
     "output_type": "stream",
     "text": [
      "Before Sunrise: ['Ethan Hawke', 'Julie Delpy', 'Andrea Eckert', 'Hanno Pöschl', 'Karl Bruckschwaiger', 'Tex Rubinowitz', 'Erni Mangold', 'Dominik Castell', 'Haymon Maria Buttinger', 'Harald Waiglein', 'Bilge Jeschim', 'Kurti', 'Hans Weingartner', 'Liese Lyon', 'Peter Ily Huemer']\n"
     ]
    },
    {
     "name": "stderr",
     "output_type": "stream",
     "text": [
      "\r",
      "187it [07:29,  2.12s/it]"
     ]
    },
    {
     "name": "stdout",
     "output_type": "stream",
     "text": [
      "Wild Strawberries: ['Victor Sjöström', 'Bibi Andersson', 'Ingrid Thulin', 'Gunnar Björnstrand', 'Jullan Kindahl', 'Folke Sundquist', 'Björn Bjelfvenstam', 'Naima Wifstrand', 'Gunnel Broström', 'Gertrud Fridh', 'Sif Ruud', 'Gunnar Sjöberg', 'Max von Sydow', 'Åke Fridell', 'Yngve Nordwall']\n"
     ]
    },
    {
     "name": "stderr",
     "output_type": "stream",
     "text": [
      "\r",
      "188it [07:31,  2.28s/it]"
     ]
    },
    {
     "name": "stdout",
     "output_type": "stream",
     "text": [
      "In the Name of the Father: ['Alison Crosbie', 'Daniel Day-Lewis', 'Philip King', 'Emma Thompson', 'Nye Heron', 'Anthony Brophy', 'Frankie McCafferty', 'Paul Warriner', 'Julian Walsh', 'Stuart Wolfenden', 'Jo Connor', 'Karen Carlisle', 'Seamus Moran', 'Billy Byrne', 'Maureen McBride']\n"
     ]
    },
    {
     "name": "stderr",
     "output_type": "stream",
     "text": [
      "\r",
      "189it [07:34,  2.22s/it]"
     ]
    },
    {
     "name": "stdout",
     "output_type": "stream",
     "text": [
      "The Grand Budapest Hotel: ['Ralph Fiennes', 'F. Murray Abraham', 'Mathieu Amalric', 'Adrien Brody', 'Willem Dafoe', 'Jeff Goldblum', 'Harvey Keitel', 'Jude Law', 'Bill Murray', 'Edward Norton', 'Saoirse Ronan', 'Jason Schwartzman', 'Léa Seydoux', 'Tilda Swinton', 'Tom Wilkinson']\n"
     ]
    },
    {
     "name": "stderr",
     "output_type": "stream",
     "text": [
      "\r",
      "190it [07:36,  2.39s/it]"
     ]
    },
    {
     "name": "stdout",
     "output_type": "stream",
     "text": [
      "Mr. Smith Goes to Washington: ['Jean Arthur', 'James Stewart', 'Claude Rains', 'Edward Arnold', 'Guy Kibbee', 'Thomas Mitchell', 'Eugene Pallette', 'Beulah Bondi', 'H.B. Warner', 'Harry Carey', 'Astrid Allwyn', 'Ruth Donnelly', 'Grant Mitchell', 'Porter Hall', 'H.V. Kaltenborn']\n"
     ]
    },
    {
     "name": "stderr",
     "output_type": "stream",
     "text": [
      "\r",
      "191it [07:39,  2.39s/it]"
     ]
    },
    {
     "name": "stdout",
     "output_type": "stream",
     "text": [
      "Room: ['Brie Larson', 'Jacob Tremblay', 'Sean Bridgers', 'Wendy Crewson', 'Sandy McMaster', 'Matt Gordon', 'Amanda Brugel', 'Joe Pingue', 'Joan Allen', 'Zarrin Darnell-Martin', 'Cas Anvar', 'William H. Macy', 'Jee-Yun Lee', 'Randal Edwards', 'Justin Mader']\n"
     ]
    },
    {
     "name": "stderr",
     "output_type": "stream",
     "text": [
      "\r",
      "192it [07:41,  2.41s/it]"
     ]
    },
    {
     "name": "stdout",
     "output_type": "stream",
     "text": [
      "Hacksaw Ridge: ['Andrew Garfield', 'Richard Pyros', 'Jacob Warner', 'Milo Gibson', 'Darcy Bryce', 'Roman Guerriero', 'James Lugton', 'Kasia Stelmach', 'Hugo Weaving', 'Rachel Griffiths', 'Jarin Towney', 'Tim McGarry', 'Tyler Coppin', 'Teresa Palmer', 'Richard Platt']\n"
     ]
    },
    {
     "name": "stderr",
     "output_type": "stream",
     "text": [
      "\r",
      "193it [07:44,  2.40s/it]"
     ]
    },
    {
     "name": "stdout",
     "output_type": "stream",
     "text": [
      "Sherlock Jr.: ['Buster Keaton', 'Kathryn McGuire', 'Joe Keaton', 'Erwin Connelly', 'Ward Crane', 'Jane Connelly', 'George Davis', 'Doris Deane', 'Christine Francis', 'Betsy Ann Hisle', 'Kewpie Morgan', 'Steve Murphy', 'John Patrick', 'Ford West']\n"
     ]
    },
    {
     "name": "stderr",
     "output_type": "stream",
     "text": [
      "\r",
      "194it [07:46,  2.27s/it]"
     ]
    },
    {
     "name": "stdout",
     "output_type": "stream",
     "text": [
      "Pather Panchali: ['Kanu Bannerjee', 'Karuna Bannerjee', 'Chunibala Devi', 'Uma Das Gupta', 'Subir Banerjee', 'Runki Banerjee', 'Reba Devi', 'Aparna Devi', 'Tulsi Chakraborty', 'Haren Banerjee', 'Rampada Das', 'Nibhanani Devi', 'Rama Gangopadhaya', 'Roma Ganguli', 'Binoy Mukherjee']\n"
     ]
    },
    {
     "name": "stderr",
     "output_type": "stream",
     "text": [
      "\r",
      "195it [07:48,  2.30s/it]"
     ]
    },
    {
     "name": "stdout",
     "output_type": "stream",
     "text": [
      "How to Train Your Dragon: ['Jay Baruchel', 'Gerard Butler', 'Craig Ferguson', 'America Ferrera', 'Jonah Hill', 'Christopher Mintz-Plasse', 'T.J. Miller', 'Kristen Wiig', 'Robin Atkin Downes', 'Philip McGrade', 'Kieron Elliott', 'Ashley Jensen', 'David Tennant']\n"
     ]
    },
    {
     "name": "stderr",
     "output_type": "stream",
     "text": [
      "\r",
      "196it [07:51,  2.54s/it]"
     ]
    },
    {
     "name": "stdout",
     "output_type": "stream",
     "text": [
      "The Wages of Fear: ['Yves Montand', 'Charles Vanel', 'Folco Lulli', 'Peter van Eyck', 'Véra Clouzot', 'William Tubbs', 'Darío Moreno', 'Jo Dest', 'Antonio Centa', 'Luis De Lima', 'Grégoire Gromoff', 'Josep Palau i Fabre', 'Faustini', 'Seguna', 'Darling Légitimus']\n"
     ]
    },
    {
     "name": "stderr",
     "output_type": "stream",
     "text": [
      "\r",
      "197it [07:54,  2.59s/it]"
     ]
    },
    {
     "name": "stdout",
     "output_type": "stream",
     "text": [
      "Barry Lyndon: [\"Ryan O'Neal\", 'Marisa Berenson', 'Patrick Magee', 'Hardy Krüger', 'Steven Berkoff', 'Gay Hamilton', 'Marie Kean', 'Diana Körner', 'Murray Melvin', 'Frank Middlemass', 'André Morell', \"Arthur O'Sullivan\", 'Godfrey Quigley', 'Leonard Rossiter', 'Philip Stone']\n"
     ]
    },
    {
     "name": "stderr",
     "output_type": "stream",
     "text": [
      "\r",
      "198it [07:56,  2.55s/it]"
     ]
    },
    {
     "name": "stdout",
     "output_type": "stream",
     "text": [
      "Memories of Murder: ['Kang-ho Song', 'Kim Sang-kyung', 'Roe-ha Kim', 'Jae-ho Song', 'Byun Hee-Bong', 'Seo-hie Ko', 'Tae-ho Ryu', 'No-shik Park', 'Park Hae-il', 'Mi-seon Jeon', 'Young-hwa Seo', 'Woo Go-na', 'Ok-joo Lee', 'Jong-ryol Choi', 'Seung-mok Yoo']\n"
     ]
    },
    {
     "name": "stderr",
     "output_type": "stream",
     "text": [
      "\r",
      "199it [07:58,  2.28s/it]"
     ]
    },
    {
     "name": "stdout",
     "output_type": "stream",
     "text": [
      "The Seventh Seal: ['Gunnar Björnstrand', 'Bengt Ekerot', 'Nils Poppe', 'Max von Sydow', 'Bibi Andersson', 'Inga Gill', 'Maud Hansson', 'Inga Landgré', 'Gunnel Lindblom', 'Bertil Anderberg', 'Anders Ek', 'Åke Fridell', 'Gunnar Olsson', 'Erik Strandmark', 'Siv Aleros']\n"
     ]
    },
    {
     "name": "stderr",
     "output_type": "stream",
     "text": [
      "\r",
      "200it [08:01,  2.42s/it]"
     ]
    },
    {
     "name": "stdout",
     "output_type": "stream",
     "text": [
      "Klaus: ['Jason Schwartzman', 'J.K. Simmons', 'Rashida Jones', 'Will Sasso', 'Neda Margrethe Labba', 'Sergio Pablos', 'Norm MacDonald', 'Joan Cusack', 'Evan Agos', 'Sky Alexis', 'Jaeden Bettencourt', 'Teddy Blum', 'Mila Brener', 'Sydney Brower', 'Finn Carr']\n"
     ]
    },
    {
     "name": "stderr",
     "output_type": "stream",
     "text": [
      "\r",
      "201it [08:03,  2.45s/it]"
     ]
    },
    {
     "name": "stdout",
     "output_type": "stream",
     "text": [
      "Mad Max: Fury Road: ['Tom Hardy', 'Charlize Theron', 'Nicholas Hoult', 'Hugh Keays-Byrne', 'Josh Helman', 'Nathan Jones', 'Zoë Kravitz', 'Rosie Huntington-Whiteley', 'Riley Keough', 'Abbey Lee', 'Courtney Eaton', 'John Howard', 'Richard Carter', 'Iota', 'Angus Sampson']\n"
     ]
    },
    {
     "name": "stderr",
     "output_type": "stream",
     "text": [
      "\r",
      "202it [08:06,  2.49s/it]"
     ]
    },
    {
     "name": "stdout",
     "output_type": "stream",
     "text": [
      "The Big Lebowski: ['Jeff Bridges', 'John Goodman', 'Julianne Moore', 'Steve Buscemi', 'David Huddleston', 'Philip Seymour Hoffman', 'Tara Reid', 'Philip Moon', 'Mark Pellegrino', 'Peter Stormare', 'Flea', 'Torsten Voges', 'Jimmie Dale Gilmore', 'Jack Kehler', 'John Turturro']\n"
     ]
    },
    {
     "name": "stderr",
     "output_type": "stream",
     "text": [
      "\r",
      "203it [08:08,  2.51s/it]"
     ]
    },
    {
     "name": "stdout",
     "output_type": "stream",
     "text": [
      "Wild Tales: ['Darío Grandinetti', 'María Marull', 'Mónica Villa', 'Diego Starosta', 'Marcelo Frasca', 'Lucila Mangone', 'María Laura Caccamo', 'Carlos Alberto Vavassori', 'Pablo Machado', 'Horacio Vay', 'Javier Pedersoli', 'Héctor Drachtman', 'María Rosa López Ottonello', 'Rita Cortese', 'Julieta Zylberberg']\n"
     ]
    },
    {
     "name": "stderr",
     "output_type": "stream",
     "text": [
      "\r",
      "204it [08:11,  2.44s/it]"
     ]
    },
    {
     "name": "stdout",
     "output_type": "stream",
     "text": [
      "Monsters, Inc.: ['John Goodman', 'Billy Crystal', 'Mary Gibbs', 'Steve Buscemi', 'James Coburn', 'Jennifer Tilly', 'Bob Peterson', 'John Ratzenberger', 'Frank Oz', 'Daniel Gerson', 'Steve Susskind', 'Bonnie Hunt', 'Jeff Pidgeon', 'Samuel Lord Black', 'Jack Angel']\n"
     ]
    },
    {
     "name": "stderr",
     "output_type": "stream",
     "text": [
      "\r",
      "205it [08:13,  2.43s/it]"
     ]
    },
    {
     "name": "stdout",
     "output_type": "stream",
     "text": [
      "Mary and Max: ['Christopher Massey', 'Oliver Marks', 'Daisy Kocher', 'Daniel Marks', 'Hamish Hughes', 'Dan Doherty', 'Julie Forsyth', 'Mandy Mao', 'Eric Bana', 'Patrick McCabe', 'Adam Elliot', 'Mr. Peck', 'Michael James Allen', 'Bill Murphy', 'Shaun Patten']\n"
     ]
    },
    {
     "name": "stderr",
     "output_type": "stream",
     "text": [
      "\r",
      "206it [08:16,  2.64s/it]"
     ]
    },
    {
     "name": "stdout",
     "output_type": "stream",
     "text": [
      "Jaws: ['Roy Scheider', 'Robert Shaw', 'Richard Dreyfuss', 'Lorraine Gary', 'Murray Hamilton', 'Carl Gottlieb', 'Jeffrey Kramer', 'Susan Backlinie', 'Jonathan Filley', 'Ted Grossman', 'Chris Rebello', 'Jay Mello', 'Lee Fierro', 'Jeffrey Voorhees', 'Craig Kingsbury']\n"
     ]
    },
    {
     "name": "stderr",
     "output_type": "stream",
     "text": [
      "\r",
      "207it [08:18,  2.58s/it]"
     ]
    },
    {
     "name": "stdout",
     "output_type": "stream",
     "text": [
      "The Passion of Joan of Arc: ['Maria Falconetti', 'Eugene Silvain', 'André Berley', 'Maurice Schutz', 'Antonin Artaud', 'Michel Simon', \"Jean d'Yd\", 'Louis Ravet', 'Armand Lurville', 'Jacques Arnna', 'Alexandre Mihalesco', 'Léon Larive', 'Jean Aymé', 'Gilbert Dacheux', 'Gilbert Dalleu']\n"
     ]
    },
    {
     "name": "stderr",
     "output_type": "stream",
     "text": [
      "\r",
      "208it [08:21,  2.43s/it]"
     ]
    },
    {
     "name": "stdout",
     "output_type": "stream",
     "text": [
      "Hotel Rwanda: ['Xolani Mali', 'Don Cheadle', 'Desmond Dube', 'Hakeem Kae-Kazim', 'Tony Kgoroge', 'Rosie Motene', 'Neil McCarthy', \"Mabutho 'Kid' Sithole\", 'Nick Nolte', 'Fana Mokoena', 'Jeremiah Ndlovu', 'Sophie Okonedo', 'Lebo Mashile', 'Antonio David Lyons', 'Leleti Khumalo']\n"
     ]
    },
    {
     "name": "stderr",
     "output_type": "stream",
     "text": [
      "\r",
      "209it [08:22,  2.27s/it]"
     ]
    },
    {
     "name": "stdout",
     "output_type": "stream",
     "text": [
      "Rocky: ['Sylvester Stallone', 'Talia Shire', 'Burt Young', 'Carl Weathers', 'Burgess Meredith', 'Thayer David', 'Joe Spinell', 'Jimmy Gambina', 'Bill Baldwin', 'Al Silvani', 'George Memmoli', 'Jodi Letizia', 'Diana Lewis', \"George O'Hanlon\", 'Larry Carroll']\n"
     ]
    },
    {
     "name": "stderr",
     "output_type": "stream",
     "text": [
      "\r",
      "210it [08:25,  2.39s/it]"
     ]
    },
    {
     "name": "stdout",
     "output_type": "stream",
     "text": [
      "Dead Poets Society: ['Robin Williams', 'Robert Sean Leonard', 'Ethan Hawke', 'Josh Charles', 'Gale Hansen', 'Dylan Kussman', 'Allelon Ruggiero', 'James Waterston', 'Norman Lloyd', 'Kurtwood Smith', 'Carla Belver', 'Leon Pownall', 'George Martin', 'Joe Aufiery', 'Matt Carey']\n"
     ]
    },
    {
     "name": "stderr",
     "output_type": "stream",
     "text": [
      "\r",
      "211it [08:28,  2.42s/it]"
     ]
    },
    {
     "name": "stdout",
     "output_type": "stream",
     "text": [
      "Tokyo Story: ['Chishû Ryû', 'Chieko Higashiyama', 'Setsuko Hara', 'Haruko Sugimura', 'Sô Yamamura', 'Kuniko Miyake', 'Kyôko Kagawa', 'Eijirô Tôno', 'Nobuo Nakamura', 'Shirô Ôsaka', 'Hisao Toake', 'Teruko Nagaoka', 'Mutsuko Sakura', 'Toyo Takahashi', 'Tôru Abe']\n"
     ]
    },
    {
     "name": "stderr",
     "output_type": "stream",
     "text": [
      "\r",
      "212it [08:29,  2.25s/it]"
     ]
    },
    {
     "name": "stdout",
     "output_type": "stream",
     "text": [
      "Platoon: ['Keith David', 'Forest Whitaker', 'Francesco Quinn', 'Kevin Dillon', 'John C. McGinley', 'Reggie Johnson', 'Mark Moses', 'Corey Glover', 'Johnny Depp', 'Chris Pedersen', 'Bob Orwig', 'Corkey Ford', 'David Neidorf', 'Tom Berenger', 'Willem Dafoe']\n"
     ]
    },
    {
     "name": "stderr",
     "output_type": "stream",
     "text": [
      "\r",
      "213it [08:32,  2.46s/it]"
     ]
    },
    {
     "name": "stdout",
     "output_type": "stream",
     "text": [
      "Ford v Ferrari: ['Matt Damon', 'Christian Bale', 'Jon Bernthal', 'Caitriona Balfe', 'Josh Lucas', 'Noah Jupe', 'Tracy Letts', 'Remo Girone', 'Ray McKinnon', 'JJ Feild', 'Jack McMullen', 'Corrado Invernizzi', 'Joe Williamson', 'Ian Harding', 'Christopher Darga']\n"
     ]
    },
    {
     "name": "stderr",
     "output_type": "stream",
     "text": [
      "\r",
      "214it [08:35,  2.48s/it]"
     ]
    },
    {
     "name": "stdout",
     "output_type": "stream",
     "text": [
      "The Terminator: ['Arnold Schwarzenegger', 'Michael Biehn', 'Linda Hamilton', 'Paul Winfield', 'Lance Henriksen', 'Rick Rossovich', 'Bess Motta', 'Earl Boen', 'Dick Miller', 'Shawn Schepps', 'Bruce M. Kerner', 'Franco Columbu', 'Bill Paxton', 'Brad Rearden', 'Brian Thompson']\n"
     ]
    },
    {
     "name": "stderr",
     "output_type": "stream",
     "text": [
      "\r",
      "215it [08:37,  2.43s/it]"
     ]
    },
    {
     "name": "stdout",
     "output_type": "stream",
     "text": [
      "Stand by Me: ['Wil Wheaton', 'River Phoenix', 'Corey Feldman', \"Jerry O'Connell\", 'Kiefer Sutherland', 'Casey Siemaszko', 'Gary Riley', 'Bradley Gregg', 'Jason Oliver Lipsett', 'Marshall Bell', 'Frances Lee McCain', 'Bruce Kirby', 'William Bronder', 'Scott Beach', 'Richard Dreyfuss']\n"
     ]
    },
    {
     "name": "stderr",
     "output_type": "stream",
     "text": [
      "\r",
      "216it [08:40,  2.48s/it]"
     ]
    },
    {
     "name": "stdout",
     "output_type": "stream",
     "text": [
      "Rush: ['Chris Hemsworth', 'Daniel Brühl', 'Olivia Wilde', 'Alexandra Maria Lara', 'Pierfrancesco Favino', 'David Calder', 'Natalie Dormer', 'Stephen Mangan', 'Christian McKay', 'Alistair Petrie', 'Julian Rhind-Tutt', 'Colin Stinton', 'Jamie de Courcey', 'Augusto Dallara', 'Ilario Calvo']\n"
     ]
    },
    {
     "name": "stderr",
     "output_type": "stream",
     "text": [
      "\r",
      "217it [08:42,  2.42s/it]"
     ]
    },
    {
     "name": "stdout",
     "output_type": "stream",
     "text": [
      "Into the Wild: ['Emile Hirsch', 'Marcia Gay Harden', 'William Hurt', 'Jena Malone', 'Brian H. Dierker', 'Catherine Keener', 'Vince Vaughn', 'Kristen Stewart', 'Hal Holbrook', 'Jim Gallien', \"James O'Neill\", 'Malinda McCollum', 'Paul Knauls', 'Zach Galifianakis', 'Craig Mutsch']\n"
     ]
    },
    {
     "name": "stderr",
     "output_type": "stream",
     "text": [
      "\r",
      "218it [08:45,  2.52s/it]"
     ]
    },
    {
     "name": "stdout",
     "output_type": "stream",
     "text": [
      "Logan: ['Hugh Jackman', 'Patrick Stewart', 'Dafne Keen', 'Boyd Holbrook', 'Stephen Merchant', 'Elizabeth Rodriguez', 'Richard E. Grant', 'Eriq La Salle', 'Elise Neal', 'Quincy Fouse', 'Al Coronel', 'Frank Gallegos', 'Anthony Escobar', 'Reynaldo Gallegos', 'Krzysztof Soszynski']\n"
     ]
    },
    {
     "name": "stderr",
     "output_type": "stream",
     "text": [
      "\r",
      "219it [08:47,  2.47s/it]"
     ]
    },
    {
     "name": "stdout",
     "output_type": "stream",
     "text": [
      "The Wizard of Oz: ['Judy Garland', 'Frank Morgan', 'Ray Bolger', 'Bert Lahr', 'Jack Haley', 'Billie Burke', 'Margaret Hamilton', 'Charley Grapewin', 'Pat Walshe', 'Clara Blandick', 'Terry', 'The Singer Midgets', 'Franz Balluck', 'Josefine Balluck', 'Dorothy Barrett']\n"
     ]
    },
    {
     "name": "stderr",
     "output_type": "stream",
     "text": [
      "\r",
      "220it [08:49,  2.41s/it]"
     ]
    },
    {
     "name": "stdout",
     "output_type": "stream",
     "text": [
      "Spotlight: ['Mark Ruffalo', 'Michael Keaton', 'Rachel McAdams', 'Liev Schreiber', 'John Slattery', \"Brian d'Arcy James\", 'Stanley Tucci', 'Elena Wohl', 'Gene Amoroso', 'Doug Murray', 'Sharon McFarlane', 'Jamey Sheridan', 'Neal Huff', 'Billy Crudup', 'Robert B. Kennedy']\n"
     ]
    },
    {
     "name": "stderr",
     "output_type": "stream",
     "text": [
      "\r",
      "221it [08:52,  2.29s/it]"
     ]
    },
    {
     "name": "stdout",
     "output_type": "stream",
     "text": [
      "Network: ['Faye Dunaway', 'William Holden', 'Peter Finch', 'Robert Duvall', 'Wesley Addy', 'Ned Beatty', 'Arthur Burghardt', 'Bill Burrows', 'John Carpenter', 'Jordan Charney', 'Kathy Cronkite', 'Ed Crowley', 'Jerome Dempsey', 'Conchata Ferrell', 'Gene Gross']\n"
     ]
    },
    {
     "name": "stderr",
     "output_type": "stream",
     "text": [
      "\r",
      "222it [08:54,  2.32s/it]"
     ]
    },
    {
     "name": "stdout",
     "output_type": "stream",
     "text": [
      "Groundhog Day: ['Bill Murray', 'Andie MacDowell', 'Chris Elliott', 'Stephen Tobolowsky', 'Brian Doyle-Murray', 'Marita Geraghty', 'Angela Paton', 'Rick Ducommun', 'Rick Overton', 'Robin Duke', 'Carol Bivins', 'Willie Garson', 'Ken Hudson Campbell', 'Les Podewell', 'Rod Sell']\n"
     ]
    },
    {
     "name": "stderr",
     "output_type": "stream",
     "text": [
      "\r",
      "223it [08:57,  2.45s/it]"
     ]
    },
    {
     "name": "stdout",
     "output_type": "stream",
     "text": [
      "Ratatouille: ['Patton Oswalt', 'Ian Holm', 'Lou Romano', 'Brian Dennehy', 'Peter Sohn', \"Peter O'Toole\", 'Brad Garrett', 'Janeane Garofalo', 'Will Arnett', 'Julius Callahan', 'James Remar', 'John Ratzenberger', 'Teddy Newton', 'Tony Fucile', 'Jake Steinfeld']\n"
     ]
    },
    {
     "name": "stderr",
     "output_type": "stream",
     "text": [
      "\r",
      "224it [08:59,  2.40s/it]"
     ]
    },
    {
     "name": "stdout",
     "output_type": "stream",
     "text": [
      "The Exorcist: ['Ellen Burstyn', 'Max von Sydow', 'Lee J. Cobb', 'Kitty Winn', 'Jack MacGowran', 'Jason Miller', 'Linda Blair', \"William O'Malley\", 'Barton Heyman', 'Peter Masterson', 'Rudolf Schündler', 'Gina Petrushka', 'Robert Symonds', 'Arthur Storch', 'Thomas Bermingham']\n"
     ]
    },
    {
     "name": "stderr",
     "output_type": "stream",
     "text": [
      "\r",
      "225it [09:02,  2.47s/it]"
     ]
    },
    {
     "name": "stdout",
     "output_type": "stream",
     "text": [
      "Hachi: A Dog's Tale: ['Richard Gere', 'Joan Allen', 'Cary-Hiroyuki Tagawa', 'Sarah Roemer', 'Jason Alexander', 'Erick Avari', 'Davenia McFadden', 'Robbie Sublett', 'Kevin DeCoste', 'Rob Degnan', 'Tora Hallström', 'Donna Sorbello', 'Frank S. Aronson', 'Troy Doherty', 'Ian Sherman']\n"
     ]
    },
    {
     "name": "stderr",
     "output_type": "stream",
     "text": [
      "\r",
      "226it [09:04,  2.45s/it]"
     ]
    },
    {
     "name": "stdout",
     "output_type": "stream",
     "text": [
      "The Incredibles: ['Craig T. Nelson', 'Holly Hunter', 'Samuel L. Jackson', 'Jason Lee', 'Dominique Louis', 'Teddy Newton', 'Jean Sincere', 'Eli Fucile', 'Maeve Andrews', 'Wallace Shawn', 'Spencer Fox', 'Lou Romano', 'Wayne Canney', 'Sarah Vowell', 'Michael Bird']\n"
     ]
    },
    {
     "name": "stderr",
     "output_type": "stream",
     "text": [
      "\r",
      "227it [09:07,  2.49s/it]"
     ]
    },
    {
     "name": "stdout",
     "output_type": "stream",
     "text": [
      "Before Sunset: ['Ethan Hawke', 'Julie Delpy', 'Vernon Dobtcheff', 'Louise Lemoine Torrès', 'Rodolphe Pauly', 'Mariane Plasteig', 'Diabolo', 'Denis Evrard', 'Albert Delpy', 'Marie Pillet']\n"
     ]
    },
    {
     "name": "stderr",
     "output_type": "stream",
     "text": [
      "\r",
      "228it [09:09,  2.50s/it]"
     ]
    },
    {
     "name": "stdout",
     "output_type": "stream",
     "text": [
      "The Best Years of Our Lives: ['Myrna Loy', 'Fredric March', 'Dana Andrews', 'Teresa Wright', 'Virginia Mayo', \"Cathy O'Donnell\", 'Hoagy Carmichael', 'Harold Russell', 'Gladys George', 'Roman Bohnen', 'Ray Collins', 'Minna Gombell', 'Walter Baldwin', 'Steve Cochran', 'Dorothy Adams']\n"
     ]
    },
    {
     "name": "stderr",
     "output_type": "stream",
     "text": [
      "\r",
      "229it [09:11,  2.33s/it]"
     ]
    },
    {
     "name": "stdout",
     "output_type": "stream",
     "text": [
      "Dersu Uzala: ['Yuriy Solomin', 'Maksim Munzuk', 'Mikhail Bychkov', 'Vladimir Khrulyov', 'V. Lastochkin', 'Stanislav Marin', 'Igor Sykhra', 'Vladimir Sergiyakov', 'Yanis Yakobsons', 'Vladimir Khlestov', 'G. Polunin', 'V. Koldin', 'M. Tetov', 'S. Sinyavskiy', 'Vladimir Sverba']\n"
     ]
    },
    {
     "name": "stderr",
     "output_type": "stream",
     "text": [
      "\r",
      "230it [09:13,  2.15s/it]"
     ]
    },
    {
     "name": "stdout",
     "output_type": "stream",
     "text": [
      "Rebecca: ['Laurence Olivier', 'Joan Fontaine', 'George Sanders', 'Judith Anderson', 'Nigel Bruce', 'Reginald Denny', 'C. Aubrey Smith', 'Gladys Cooper', 'Florence Bates', 'Melville Cooper', 'Leo G. Carroll', 'Leonard Carey', 'Lumsden Hare', 'Edward Fielding', 'Philip Winter']\n"
     ]
    },
    {
     "name": "stderr",
     "output_type": "stream",
     "text": [
      "\r",
      "231it [09:15,  2.08s/it]"
     ]
    },
    {
     "name": "stdout",
     "output_type": "stream",
     "text": [
      "My Father and My Son: ['Eser Sariyar', 'Çetin Tekindor', 'Fikret Kuskan', 'Hümeyra', 'Ege Tanman', 'Serif Sezer', 'Yetkin Dikinciler', 'Binnur Kaya', 'Mahmut Gökgöz', 'Nergis Çorakçi', 'Bilge Sen', 'Tuba Büyüküstün', 'Özge Özberk', 'Erdal Tosun', 'Halit Ergenç']\n"
     ]
    },
    {
     "name": "stderr",
     "output_type": "stream",
     "text": [
      "\r",
      "232it [09:17,  2.16s/it]"
     ]
    },
    {
     "name": "stdout",
     "output_type": "stream",
     "text": [
      "Cool Hand Luke: ['Paul Newman', 'George Kennedy', 'J.D. Cannon', 'Lou Antonio', 'Robert Drivas', 'Strother Martin', 'Jo Van Fleet', 'Clifton James', 'Morgan Woodward', 'Luke Askew', 'Marc Cavell', 'Richard Davalos', 'Robert Donner', 'Warren Finnerty', 'Dennis Hopper']\n"
     ]
    },
    {
     "name": "stderr",
     "output_type": "stream",
     "text": [
      "\r",
      "233it [09:20,  2.43s/it]"
     ]
    },
    {
     "name": "stdout",
     "output_type": "stream",
     "text": [
      "The Grapes of Wrath: ['Henry Fonda', 'Jane Darwell', 'John Carradine', 'Charley Grapewin', 'Dorris Bowdon', 'Russell Simpson', 'O.Z. Whitehead', 'John Qualen', 'Eddie Quillan', 'Zeffie Tilbury', 'Frank Sully', 'Frank Darien', 'Darryl Hickman', 'Shirley Mills', 'Roger Imhof']\n"
     ]
    },
    {
     "name": "stderr",
     "output_type": "stream",
     "text": [
      "\r",
      "234it [09:22,  2.26s/it]"
     ]
    },
    {
     "name": "stdout",
     "output_type": "stream",
     "text": [
      "The Battle of Algiers: ['Brahim Hadjadj', 'Jean Martin', 'Yacef Saadi', 'Samia Kerbash', 'Ugo Paletti', 'Fusia El Kader', 'Mohamed Ben Kassen', 'Franco Moruzzi', 'Tommaso Neri', 'Rouïched', 'Gene Wesson']\n"
     ]
    },
    {
     "name": "stderr",
     "output_type": "stream",
     "text": [
      "\r",
      "235it [09:25,  2.62s/it]"
     ]
    },
    {
     "name": "stdout",
     "output_type": "stream",
     "text": [
      "Pirates of the Caribbean: The Curse of the Black Pearl: ['Johnny Depp', 'Geoffrey Rush', 'Orlando Bloom', 'Keira Knightley', 'Jack Davenport', 'Jonathan Pryce', 'Lee Arenberg', 'Mackenzie Crook', \"Damian O'Hare\", 'Giles New', 'Angus Barnett', 'David Bailie', 'Michael Berry Jr.', 'Isaac C. Singleton Jr.', 'Kevin McNally']\n"
     ]
    },
    {
     "name": "stderr",
     "output_type": "stream",
     "text": [
      "\r",
      "236it [09:28,  2.57s/it]"
     ]
    },
    {
     "name": "stdout",
     "output_type": "stream",
     "text": [
      "To Be or Not to Be: ['Carole Lombard', 'Jack Benny', 'Robert Stack', 'Felix Bressart', 'Lionel Atwill', 'Stanley Ridges', 'Sig Ruman', 'Tom Dugan', 'Charles Halton', 'George Lynn', 'Henry Victor', 'Maude Eburne', 'Halliwell Hobbes', 'Miles Mander', 'Rudolph Anders']\n"
     ]
    },
    {
     "name": "stderr",
     "output_type": "stream",
     "text": [
      "\r",
      "237it [09:30,  2.42s/it]"
     ]
    },
    {
     "name": "stdout",
     "output_type": "stream",
     "text": [
      "Amores perros: ['Emilio Echevarría', 'Gael García Bernal', 'Goya Toledo', 'Álvaro Guerrero', 'Vanessa Bauche', 'Jorge Salinas', 'Marco Pérez', 'Rodrigo Murray', 'Humberto Busto', 'Gerardo Campbell', 'Rosa María Bianchi', 'Dunia Saldívar', 'Adriana Barraza', 'José Sefami', 'Lourdes Echevarría']\n"
     ]
    },
    {
     "name": "stderr",
     "output_type": "stream",
     "text": [
      "\r",
      "238it [09:32,  2.35s/it]"
     ]
    },
    {
     "name": "stdout",
     "output_type": "stream",
     "text": [
      "The Sound of Music: ['Julie Andrews', 'Christopher Plummer', 'Eleanor Parker', 'Richard Haydn', 'Peggy Wood', 'Charmian Carr', 'Heather Menzies-Urich', 'Nicholas Hammond', 'Duane Chase', 'Angela Cartwright', 'Debbie Turner', 'Kym Karath', 'Anna Lee', 'Portia Nelson', 'Ben Wright']\n"
     ]
    },
    {
     "name": "stderr",
     "output_type": "stream",
     "text": [
      "\r",
      "239it [09:34,  2.18s/it]"
     ]
    },
    {
     "name": "stdout",
     "output_type": "stream",
     "text": [
      "Life of Brian: ['Graham Chapman', 'John Cleese', 'Terry Gilliam', 'Eric Idle', 'Terry Jones', 'Michael Palin', 'Terence Bayler', 'Carol Cleveland', 'Kenneth Colley', 'Neil Innes', 'Charles McKeown', 'John Young', 'Gwen Taylor', 'Sue Jones-Davies', 'Peter Brett']\n"
     ]
    },
    {
     "name": "stderr",
     "output_type": "stream",
     "text": [
      "\r",
      "240it [09:35,  1.99s/it]"
     ]
    },
    {
     "name": "stdout",
     "output_type": "stream",
     "text": [
      "The 400 Blows: ['Jean-Pierre Léaud', 'Claire Maurier', 'Albert Rémy', 'Guy Decomble', 'Georges Flamant', 'Patrick Auffay', 'Daniel Couturier', 'François Nocher', 'Richard Kanayan', 'Renaud Fontanarosa', 'Michel Girard', 'Serge Moati', 'Bernard Abbou', 'Jean-François Bergouignan', 'Michel Lesignor']\n"
     ]
    },
    {
     "name": "stderr",
     "output_type": "stream",
     "text": [
      "\r",
      "241it [09:38,  2.16s/it]"
     ]
    },
    {
     "name": "stdout",
     "output_type": "stream",
     "text": [
      "Persona: ['Bibi Andersson', 'Liv Ullmann', 'Margaretha Krook', 'Gunnar Björnstrand', 'Jörgen Lindström']\n"
     ]
    },
    {
     "name": "stderr",
     "output_type": "stream",
     "text": [
      "\r",
      "242it [09:40,  2.25s/it]"
     ]
    },
    {
     "name": "stdout",
     "output_type": "stream",
     "text": [
      "It Happened One Night: ['Clark Gable', 'Claudette Colbert', 'Walter Connolly', 'Roscoe Karns', 'Jameson Thomas', 'Alan Hale', 'Arthur Hoyt', 'Blanche Friderici', 'Charles C. Wilson', 'Ernie Adams', 'Jessie Arnold', 'Irving Bacon', 'William Bailey', 'William Begg', 'William A. Boardway']\n"
     ]
    },
    {
     "name": "stderr",
     "output_type": "stream",
     "text": [
      "\r",
      "243it [09:43,  2.37s/it]"
     ]
    },
    {
     "name": "stdout",
     "output_type": "stream",
     "text": [
      "La Haine: ['Vincent Cassel', 'Hubert Koundé', 'Saïd Taghmaoui', 'Abdel Ahmed Ghili', 'Solo', 'Joseph Momo', 'Héloïse Rauth', 'Rywka Wajsbrot', 'Olga Abrego', 'Laurent Labasse', 'Choukri Gabteni', 'Nabil Ben Mhamed', 'Benoît Magimel', 'Médard Niang', 'Arash Mansour']\n"
     ]
    },
    {
     "name": "stderr",
     "output_type": "stream",
     "text": [
      "\r",
      "244it [09:46,  2.46s/it]"
     ]
    },
    {
     "name": "stdout",
     "output_type": "stream",
     "text": [
      "Aladdin: ['Scott Weinger', 'Robin Williams', 'Linda Larkin', 'Jonathan Freeman', 'Frank Welker', 'Gilbert Gottfried', 'Douglas Seale', 'Charlie Adler', 'Jack Angel', 'Corey Burton', 'Philip L. Clarke', 'Jim Cummings', 'Jennifer Darling', 'Debi Derryberry', 'Bruce Gooch']\n"
     ]
    },
    {
     "name": "stderr",
     "output_type": "stream",
     "text": [
      "\r",
      "245it [09:48,  2.37s/it]"
     ]
    },
    {
     "name": "stdout",
     "output_type": "stream",
     "text": [
      "Dune: ['Timothée Chalamet', 'Rebecca Ferguson', 'Oscar Isaac', 'Jason Momoa', 'Stellan Skarsgård', 'Stephen McKinley Henderson', 'Josh Brolin', 'Javier Bardem', 'Sharon Duncan-Brewster', 'Chang Chen', 'Dave Bautista', 'David Dastmalchian', 'Zendaya', 'Charlotte Rampling', 'Babs Olusanmokun']\n"
     ]
    },
    {
     "name": "stderr",
     "output_type": "stream",
     "text": [
      "\r",
      "246it [09:50,  2.30s/it]"
     ]
    },
    {
     "name": "stdout",
     "output_type": "stream",
     "text": [
      "Beauty and the Beast: ['Robby Benson', 'Jesse Corti', 'Rex Everhart', 'Angela Lansbury', \"Paige O'Hara\", 'Jerry Orbach', 'Bradley Pierce', 'David Ogden Stiers', 'Richard White', 'Jo Anne Worley', 'Mary Kay Bergman', 'Brian Cummings', 'Alvin Epstein', 'Tony Jay', 'Alec Murphy']\n"
     ]
    },
    {
     "name": "stderr",
     "output_type": "stream",
     "text": [
      "\r",
      "247it [09:53,  2.37s/it]"
     ]
    },
    {
     "name": "stdout",
     "output_type": "stream",
     "text": [
      "Gandhi: ['Ben Kingsley', 'Rohini Hattangadi', 'Roshan Seth', 'Candice Bergen', 'Edward Fox', 'John Gielgud', 'Trevor Howard', 'John Mills', 'Martin Sheen', 'Ian Charleson', 'Günther Maria Halmer', 'Athol Fugard', 'Saeed Jaffrey', 'Geraldine James', 'Alyque Padamsee']\n"
     ]
    },
    {
     "name": "stderr",
     "output_type": "stream",
     "text": [
      "\r",
      "248it [09:55,  2.28s/it]"
     ]
    },
    {
     "name": "stdout",
     "output_type": "stream",
     "text": [
      "The Help: ['Emma Stone', 'Viola Davis', 'Bryce Dallas Howard', 'Octavia Spencer', 'Jessica Chastain', \"Ahna O'Reilly\", 'Allison Janney', 'Anna Camp', 'Eleanor Henry', 'Emma Henry', 'Christopher Lowell', 'Cicely Tyson', 'Mike Vogel', 'Sissy Spacek', 'Brian Kerwin']\n"
     ]
    },
    {
     "name": "stderr",
     "output_type": "stream",
     "text": [
      "\r",
      "249it [09:57,  2.30s/it]"
     ]
    },
    {
     "name": "stdout",
     "output_type": "stream",
     "text": [
      "The Handmaiden: ['Kim Tae-ri', 'Yong-nyeo Lee', 'Min-chae Yoo', 'Dong-hwi Lee', 'Kim Hae-sook', 'Kim Min-hee', 'Ha Jung-woo', 'Kyu-jung Lee', 'Si-eun Kim', 'Si-yeon Ha', 'Rina Takagi', 'Cho Jin-woong', 'Geun-hee Won', 'Jong-Dae Kim', 'Han-sun Jang']\n"
     ]
    },
    {
     "name": "stderr",
     "output_type": "stream",
     "text": [
      "250it [10:01,  2.40s/it]\n"
     ]
    },
    {
     "name": "stdout",
     "output_type": "stream",
     "text": [
      "Dances with Wolves: ['Kevin Costner', 'Mary McDonnell', 'Graham Greene', 'Rodney A. Grant', \"Floyd 'Red Crow' Westerman\", 'Tantoo Cardinal', 'Robert Pastorelli', 'Charles Rocket', 'Maury Chaykin', 'Jimmy Herman', 'Nathan Lee Chasing His Horse', 'Michael Spears', 'Jason R. Lone Hill', 'Tony Pierce', 'Doris Leader Charge']\n"
     ]
    },
    {
     "name": "stderr",
     "output_type": "stream",
     "text": [
      "100%|██████████| 250/250 [00:00<00:00, 170278.66it/s]\n",
      "100%|██████████| 250/250 [00:00<00:00, 336.29it/s]\n"
     ]
    }
   ],
   "source": [
    "imdb_scraper = IMDBScraper()\n",
    "top_rated_movies = imdb_scraper.get_top_rated_movies()\n",
    "actors = imdb_scraper.get_actors()\n",
    "casting = imdb_scraper.get_casting()"
   ]
  },
  {
   "cell_type": "code",
   "execution_count": 6,
   "metadata": {
    "colab": {
     "base_uri": "https://localhost:8080/",
     "height": 302
    },
    "id": "ZOIwJW5aE5H8",
    "outputId": "0897d594-0867-4af7-c333-fd54266c375c"
   },
   "outputs": [
    {
     "data": {
      "text/html": [
       "\n",
       "  <div id=\"df-35201d6e-a7de-4637-9bd5-68a8582923fe\">\n",
       "    <div class=\"colab-df-container\">\n",
       "      <div>\n",
       "<style scoped>\n",
       "    .dataframe tbody tr th:only-of-type {\n",
       "        vertical-align: middle;\n",
       "    }\n",
       "\n",
       "    .dataframe tbody tr th {\n",
       "        vertical-align: top;\n",
       "    }\n",
       "\n",
       "    .dataframe thead th {\n",
       "        text-align: right;\n",
       "    }\n",
       "</style>\n",
       "<table border=\"1\" class=\"dataframe\">\n",
       "  <thead>\n",
       "    <tr style=\"text-align: right;\">\n",
       "      <th></th>\n",
       "      <th>id</th>\n",
       "      <th>title</th>\n",
       "      <th>release_year</th>\n",
       "      <th>rating</th>\n",
       "      <th>director</th>\n",
       "      <th>runtime</th>\n",
       "    </tr>\n",
       "  </thead>\n",
       "  <tbody>\n",
       "    <tr>\n",
       "      <th>0</th>\n",
       "      <td>1</td>\n",
       "      <td>The Shawshank Redemption</td>\n",
       "      <td>1994</td>\n",
       "      <td>9.3</td>\n",
       "      <td>Frank Darabont</td>\n",
       "      <td>142</td>\n",
       "    </tr>\n",
       "    <tr>\n",
       "      <th>1</th>\n",
       "      <td>2</td>\n",
       "      <td>The Godfather</td>\n",
       "      <td>1972</td>\n",
       "      <td>9.2</td>\n",
       "      <td>Francis Ford Coppola</td>\n",
       "      <td>175</td>\n",
       "    </tr>\n",
       "    <tr>\n",
       "      <th>2</th>\n",
       "      <td>3</td>\n",
       "      <td>The Dark Knight</td>\n",
       "      <td>2008</td>\n",
       "      <td>9.1</td>\n",
       "      <td>Christopher Nolan</td>\n",
       "      <td>152</td>\n",
       "    </tr>\n",
       "    <tr>\n",
       "      <th>3</th>\n",
       "      <td>4</td>\n",
       "      <td>The Godfather: Part II</td>\n",
       "      <td>1974</td>\n",
       "      <td>9.0</td>\n",
       "      <td>Francis Ford Coppola</td>\n",
       "      <td>202</td>\n",
       "    </tr>\n",
       "    <tr>\n",
       "      <th>4</th>\n",
       "      <td>5</td>\n",
       "      <td>12 Angry Men</td>\n",
       "      <td>1957</td>\n",
       "      <td>9.0</td>\n",
       "      <td>Sidney Lumet</td>\n",
       "      <td>96</td>\n",
       "    </tr>\n",
       "  </tbody>\n",
       "</table>\n",
       "</div>\n",
       "      <button class=\"colab-df-convert\" onclick=\"convertToInteractive('df-35201d6e-a7de-4637-9bd5-68a8582923fe')\"\n",
       "              title=\"Convert this dataframe to an interactive table.\"\n",
       "              style=\"display:none;\">\n",
       "        \n",
       "  <svg xmlns=\"http://www.w3.org/2000/svg\" height=\"24px\"viewBox=\"0 0 24 24\"\n",
       "       width=\"24px\">\n",
       "    <path d=\"M0 0h24v24H0V0z\" fill=\"none\"/>\n",
       "    <path d=\"M18.56 5.44l.94 2.06.94-2.06 2.06-.94-2.06-.94-.94-2.06-.94 2.06-2.06.94zm-11 1L8.5 8.5l.94-2.06 2.06-.94-2.06-.94L8.5 2.5l-.94 2.06-2.06.94zm10 10l.94 2.06.94-2.06 2.06-.94-2.06-.94-.94-2.06-.94 2.06-2.06.94z\"/><path d=\"M17.41 7.96l-1.37-1.37c-.4-.4-.92-.59-1.43-.59-.52 0-1.04.2-1.43.59L10.3 9.45l-7.72 7.72c-.78.78-.78 2.05 0 2.83L4 21.41c.39.39.9.59 1.41.59.51 0 1.02-.2 1.41-.59l7.78-7.78 2.81-2.81c.8-.78.8-2.07 0-2.86zM5.41 20L4 18.59l7.72-7.72 1.47 1.35L5.41 20z\"/>\n",
       "  </svg>\n",
       "      </button>\n",
       "      \n",
       "  <style>\n",
       "    .colab-df-container {\n",
       "      display:flex;\n",
       "      flex-wrap:wrap;\n",
       "      gap: 12px;\n",
       "    }\n",
       "\n",
       "    .colab-df-convert {\n",
       "      background-color: #E8F0FE;\n",
       "      border: none;\n",
       "      border-radius: 50%;\n",
       "      cursor: pointer;\n",
       "      display: none;\n",
       "      fill: #1967D2;\n",
       "      height: 32px;\n",
       "      padding: 0 0 0 0;\n",
       "      width: 32px;\n",
       "    }\n",
       "\n",
       "    .colab-df-convert:hover {\n",
       "      background-color: #E2EBFA;\n",
       "      box-shadow: 0px 1px 2px rgba(60, 64, 67, 0.3), 0px 1px 3px 1px rgba(60, 64, 67, 0.15);\n",
       "      fill: #174EA6;\n",
       "    }\n",
       "\n",
       "    [theme=dark] .colab-df-convert {\n",
       "      background-color: #3B4455;\n",
       "      fill: #D2E3FC;\n",
       "    }\n",
       "\n",
       "    [theme=dark] .colab-df-convert:hover {\n",
       "      background-color: #434B5C;\n",
       "      box-shadow: 0px 1px 3px 1px rgba(0, 0, 0, 0.15);\n",
       "      filter: drop-shadow(0px 1px 2px rgba(0, 0, 0, 0.3));\n",
       "      fill: #FFFFFF;\n",
       "    }\n",
       "  </style>\n",
       "\n",
       "      <script>\n",
       "        const buttonEl =\n",
       "          document.querySelector('#df-35201d6e-a7de-4637-9bd5-68a8582923fe button.colab-df-convert');\n",
       "        buttonEl.style.display =\n",
       "          google.colab.kernel.accessAllowed ? 'block' : 'none';\n",
       "\n",
       "        async function convertToInteractive(key) {\n",
       "          const element = document.querySelector('#df-35201d6e-a7de-4637-9bd5-68a8582923fe');\n",
       "          const dataTable =\n",
       "            await google.colab.kernel.invokeFunction('convertToInteractive',\n",
       "                                                     [key], {});\n",
       "          if (!dataTable) return;\n",
       "\n",
       "          const docLinkHtml = 'Like what you see? Visit the ' +\n",
       "            '<a target=\"_blank\" href=https://colab.research.google.com/notebooks/data_table.ipynb>data table notebook</a>'\n",
       "            + ' to learn more about interactive tables.';\n",
       "          element.innerHTML = '';\n",
       "          dataTable['output_type'] = 'display_data';\n",
       "          await google.colab.output.renderOutput(dataTable, element);\n",
       "          const docLink = document.createElement('div');\n",
       "          docLink.innerHTML = docLinkHtml;\n",
       "          element.appendChild(docLink);\n",
       "        }\n",
       "      </script>\n",
       "    </div>\n",
       "  </div>\n",
       "  "
      ],
      "text/plain": [
       "   id                     title  release_year  rating              director  \\\n",
       "0   1  The Shawshank Redemption          1994     9.3        Frank Darabont   \n",
       "1   2             The Godfather          1972     9.2  Francis Ford Coppola   \n",
       "2   3           The Dark Knight          2008     9.1     Christopher Nolan   \n",
       "3   4    The Godfather: Part II          1974     9.0  Francis Ford Coppola   \n",
       "4   5              12 Angry Men          1957     9.0          Sidney Lumet   \n",
       "\n",
       "   runtime  \n",
       "0      142  \n",
       "1      175  \n",
       "2      152  \n",
       "3      202  \n",
       "4       96  "
      ]
     },
     "execution_count": 6,
     "metadata": {},
     "output_type": "execute_result"
    }
   ],
   "source": [
    "top_rated_movies.head()"
   ]
  },
  {
   "cell_type": "code",
   "execution_count": 7,
   "metadata": {
    "colab": {
     "base_uri": "https://localhost:8080/",
     "height": 206
    },
    "id": "wcFHBmnUFB7s",
    "outputId": "7b6788f8-8f32-4d70-80dd-54bc18a054f3"
   },
   "outputs": [
    {
     "data": {
      "text/html": [
       "\n",
       "  <div id=\"df-3c5063a7-79b5-496e-8435-0924cccfc5db\">\n",
       "    <div class=\"colab-df-container\">\n",
       "      <div>\n",
       "<style scoped>\n",
       "    .dataframe tbody tr th:only-of-type {\n",
       "        vertical-align: middle;\n",
       "    }\n",
       "\n",
       "    .dataframe tbody tr th {\n",
       "        vertical-align: top;\n",
       "    }\n",
       "\n",
       "    .dataframe thead th {\n",
       "        text-align: right;\n",
       "    }\n",
       "</style>\n",
       "<table border=\"1\" class=\"dataframe\">\n",
       "  <thead>\n",
       "    <tr style=\"text-align: right;\">\n",
       "      <th></th>\n",
       "      <th>id</th>\n",
       "      <th>name</th>\n",
       "    </tr>\n",
       "  </thead>\n",
       "  <tbody>\n",
       "    <tr>\n",
       "      <th>0</th>\n",
       "      <td>1</td>\n",
       "      <td>Aamir Khan</td>\n",
       "    </tr>\n",
       "    <tr>\n",
       "      <th>1</th>\n",
       "      <td>2</td>\n",
       "      <td>Aaron Eckhart</td>\n",
       "    </tr>\n",
       "    <tr>\n",
       "      <th>2</th>\n",
       "      <td>3</td>\n",
       "      <td>Abbas-Ali Roomandi</td>\n",
       "    </tr>\n",
       "    <tr>\n",
       "      <th>3</th>\n",
       "      <td>4</td>\n",
       "      <td>Abbey Lee</td>\n",
       "    </tr>\n",
       "    <tr>\n",
       "      <th>4</th>\n",
       "      <td>5</td>\n",
       "      <td>Abbie Cornish</td>\n",
       "    </tr>\n",
       "  </tbody>\n",
       "</table>\n",
       "</div>\n",
       "      <button class=\"colab-df-convert\" onclick=\"convertToInteractive('df-3c5063a7-79b5-496e-8435-0924cccfc5db')\"\n",
       "              title=\"Convert this dataframe to an interactive table.\"\n",
       "              style=\"display:none;\">\n",
       "        \n",
       "  <svg xmlns=\"http://www.w3.org/2000/svg\" height=\"24px\"viewBox=\"0 0 24 24\"\n",
       "       width=\"24px\">\n",
       "    <path d=\"M0 0h24v24H0V0z\" fill=\"none\"/>\n",
       "    <path d=\"M18.56 5.44l.94 2.06.94-2.06 2.06-.94-2.06-.94-.94-2.06-.94 2.06-2.06.94zm-11 1L8.5 8.5l.94-2.06 2.06-.94-2.06-.94L8.5 2.5l-.94 2.06-2.06.94zm10 10l.94 2.06.94-2.06 2.06-.94-2.06-.94-.94-2.06-.94 2.06-2.06.94z\"/><path d=\"M17.41 7.96l-1.37-1.37c-.4-.4-.92-.59-1.43-.59-.52 0-1.04.2-1.43.59L10.3 9.45l-7.72 7.72c-.78.78-.78 2.05 0 2.83L4 21.41c.39.39.9.59 1.41.59.51 0 1.02-.2 1.41-.59l7.78-7.78 2.81-2.81c.8-.78.8-2.07 0-2.86zM5.41 20L4 18.59l7.72-7.72 1.47 1.35L5.41 20z\"/>\n",
       "  </svg>\n",
       "      </button>\n",
       "      \n",
       "  <style>\n",
       "    .colab-df-container {\n",
       "      display:flex;\n",
       "      flex-wrap:wrap;\n",
       "      gap: 12px;\n",
       "    }\n",
       "\n",
       "    .colab-df-convert {\n",
       "      background-color: #E8F0FE;\n",
       "      border: none;\n",
       "      border-radius: 50%;\n",
       "      cursor: pointer;\n",
       "      display: none;\n",
       "      fill: #1967D2;\n",
       "      height: 32px;\n",
       "      padding: 0 0 0 0;\n",
       "      width: 32px;\n",
       "    }\n",
       "\n",
       "    .colab-df-convert:hover {\n",
       "      background-color: #E2EBFA;\n",
       "      box-shadow: 0px 1px 2px rgba(60, 64, 67, 0.3), 0px 1px 3px 1px rgba(60, 64, 67, 0.15);\n",
       "      fill: #174EA6;\n",
       "    }\n",
       "\n",
       "    [theme=dark] .colab-df-convert {\n",
       "      background-color: #3B4455;\n",
       "      fill: #D2E3FC;\n",
       "    }\n",
       "\n",
       "    [theme=dark] .colab-df-convert:hover {\n",
       "      background-color: #434B5C;\n",
       "      box-shadow: 0px 1px 3px 1px rgba(0, 0, 0, 0.15);\n",
       "      filter: drop-shadow(0px 1px 2px rgba(0, 0, 0, 0.3));\n",
       "      fill: #FFFFFF;\n",
       "    }\n",
       "  </style>\n",
       "\n",
       "      <script>\n",
       "        const buttonEl =\n",
       "          document.querySelector('#df-3c5063a7-79b5-496e-8435-0924cccfc5db button.colab-df-convert');\n",
       "        buttonEl.style.display =\n",
       "          google.colab.kernel.accessAllowed ? 'block' : 'none';\n",
       "\n",
       "        async function convertToInteractive(key) {\n",
       "          const element = document.querySelector('#df-3c5063a7-79b5-496e-8435-0924cccfc5db');\n",
       "          const dataTable =\n",
       "            await google.colab.kernel.invokeFunction('convertToInteractive',\n",
       "                                                     [key], {});\n",
       "          if (!dataTable) return;\n",
       "\n",
       "          const docLinkHtml = 'Like what you see? Visit the ' +\n",
       "            '<a target=\"_blank\" href=https://colab.research.google.com/notebooks/data_table.ipynb>data table notebook</a>'\n",
       "            + ' to learn more about interactive tables.';\n",
       "          element.innerHTML = '';\n",
       "          dataTable['output_type'] = 'display_data';\n",
       "          await google.colab.output.renderOutput(dataTable, element);\n",
       "          const docLink = document.createElement('div');\n",
       "          docLink.innerHTML = docLinkHtml;\n",
       "          element.appendChild(docLink);\n",
       "        }\n",
       "      </script>\n",
       "    </div>\n",
       "  </div>\n",
       "  "
      ],
      "text/plain": [
       "   id                name\n",
       "0   1          Aamir Khan\n",
       "1   2       Aaron Eckhart\n",
       "2   3  Abbas-Ali Roomandi\n",
       "3   4           Abbey Lee\n",
       "4   5       Abbie Cornish"
      ]
     },
     "execution_count": 7,
     "metadata": {},
     "output_type": "execute_result"
    }
   ],
   "source": [
    "actors.head()"
   ]
  },
  {
   "cell_type": "code",
   "execution_count": 8,
   "metadata": {
    "colab": {
     "base_uri": "https://localhost:8080/",
     "height": 206
    },
    "id": "37g9s0kjFE6m",
    "outputId": "52af5038-e1fc-46cf-b7ac-ba23b925e770"
   },
   "outputs": [
    {
     "data": {
      "text/html": [
       "\n",
       "  <div id=\"df-3b0eb5f4-9950-4959-a816-b831e0fde90f\">\n",
       "    <div class=\"colab-df-container\">\n",
       "      <div>\n",
       "<style scoped>\n",
       "    .dataframe tbody tr th:only-of-type {\n",
       "        vertical-align: middle;\n",
       "    }\n",
       "\n",
       "    .dataframe tbody tr th {\n",
       "        vertical-align: top;\n",
       "    }\n",
       "\n",
       "    .dataframe thead th {\n",
       "        text-align: right;\n",
       "    }\n",
       "</style>\n",
       "<table border=\"1\" class=\"dataframe\">\n",
       "  <thead>\n",
       "    <tr style=\"text-align: right;\">\n",
       "      <th></th>\n",
       "      <th>movie_id</th>\n",
       "      <th>actor_id</th>\n",
       "      <th>ord</th>\n",
       "    </tr>\n",
       "  </thead>\n",
       "  <tbody>\n",
       "    <tr>\n",
       "      <th>0</th>\n",
       "      <td>1</td>\n",
       "      <td>2940</td>\n",
       "      <td>1</td>\n",
       "    </tr>\n",
       "    <tr>\n",
       "      <th>1</th>\n",
       "      <td>1</td>\n",
       "      <td>2185</td>\n",
       "      <td>2</td>\n",
       "    </tr>\n",
       "    <tr>\n",
       "      <th>2</th>\n",
       "      <td>1</td>\n",
       "      <td>329</td>\n",
       "      <td>3</td>\n",
       "    </tr>\n",
       "    <tr>\n",
       "      <th>3</th>\n",
       "      <td>1</td>\n",
       "      <td>3128</td>\n",
       "      <td>4</td>\n",
       "    </tr>\n",
       "    <tr>\n",
       "      <th>4</th>\n",
       "      <td>1</td>\n",
       "      <td>549</td>\n",
       "      <td>5</td>\n",
       "    </tr>\n",
       "  </tbody>\n",
       "</table>\n",
       "</div>\n",
       "      <button class=\"colab-df-convert\" onclick=\"convertToInteractive('df-3b0eb5f4-9950-4959-a816-b831e0fde90f')\"\n",
       "              title=\"Convert this dataframe to an interactive table.\"\n",
       "              style=\"display:none;\">\n",
       "        \n",
       "  <svg xmlns=\"http://www.w3.org/2000/svg\" height=\"24px\"viewBox=\"0 0 24 24\"\n",
       "       width=\"24px\">\n",
       "    <path d=\"M0 0h24v24H0V0z\" fill=\"none\"/>\n",
       "    <path d=\"M18.56 5.44l.94 2.06.94-2.06 2.06-.94-2.06-.94-.94-2.06-.94 2.06-2.06.94zm-11 1L8.5 8.5l.94-2.06 2.06-.94-2.06-.94L8.5 2.5l-.94 2.06-2.06.94zm10 10l.94 2.06.94-2.06 2.06-.94-2.06-.94-.94-2.06-.94 2.06-2.06.94z\"/><path d=\"M17.41 7.96l-1.37-1.37c-.4-.4-.92-.59-1.43-.59-.52 0-1.04.2-1.43.59L10.3 9.45l-7.72 7.72c-.78.78-.78 2.05 0 2.83L4 21.41c.39.39.9.59 1.41.59.51 0 1.02-.2 1.41-.59l7.78-7.78 2.81-2.81c.8-.78.8-2.07 0-2.86zM5.41 20L4 18.59l7.72-7.72 1.47 1.35L5.41 20z\"/>\n",
       "  </svg>\n",
       "      </button>\n",
       "      \n",
       "  <style>\n",
       "    .colab-df-container {\n",
       "      display:flex;\n",
       "      flex-wrap:wrap;\n",
       "      gap: 12px;\n",
       "    }\n",
       "\n",
       "    .colab-df-convert {\n",
       "      background-color: #E8F0FE;\n",
       "      border: none;\n",
       "      border-radius: 50%;\n",
       "      cursor: pointer;\n",
       "      display: none;\n",
       "      fill: #1967D2;\n",
       "      height: 32px;\n",
       "      padding: 0 0 0 0;\n",
       "      width: 32px;\n",
       "    }\n",
       "\n",
       "    .colab-df-convert:hover {\n",
       "      background-color: #E2EBFA;\n",
       "      box-shadow: 0px 1px 2px rgba(60, 64, 67, 0.3), 0px 1px 3px 1px rgba(60, 64, 67, 0.15);\n",
       "      fill: #174EA6;\n",
       "    }\n",
       "\n",
       "    [theme=dark] .colab-df-convert {\n",
       "      background-color: #3B4455;\n",
       "      fill: #D2E3FC;\n",
       "    }\n",
       "\n",
       "    [theme=dark] .colab-df-convert:hover {\n",
       "      background-color: #434B5C;\n",
       "      box-shadow: 0px 1px 3px 1px rgba(0, 0, 0, 0.15);\n",
       "      filter: drop-shadow(0px 1px 2px rgba(0, 0, 0, 0.3));\n",
       "      fill: #FFFFFF;\n",
       "    }\n",
       "  </style>\n",
       "\n",
       "      <script>\n",
       "        const buttonEl =\n",
       "          document.querySelector('#df-3b0eb5f4-9950-4959-a816-b831e0fde90f button.colab-df-convert');\n",
       "        buttonEl.style.display =\n",
       "          google.colab.kernel.accessAllowed ? 'block' : 'none';\n",
       "\n",
       "        async function convertToInteractive(key) {\n",
       "          const element = document.querySelector('#df-3b0eb5f4-9950-4959-a816-b831e0fde90f');\n",
       "          const dataTable =\n",
       "            await google.colab.kernel.invokeFunction('convertToInteractive',\n",
       "                                                     [key], {});\n",
       "          if (!dataTable) return;\n",
       "\n",
       "          const docLinkHtml = 'Like what you see? Visit the ' +\n",
       "            '<a target=\"_blank\" href=https://colab.research.google.com/notebooks/data_table.ipynb>data table notebook</a>'\n",
       "            + ' to learn more about interactive tables.';\n",
       "          element.innerHTML = '';\n",
       "          dataTable['output_type'] = 'display_data';\n",
       "          await google.colab.output.renderOutput(dataTable, element);\n",
       "          const docLink = document.createElement('div');\n",
       "          docLink.innerHTML = docLinkHtml;\n",
       "          element.appendChild(docLink);\n",
       "        }\n",
       "      </script>\n",
       "    </div>\n",
       "  </div>\n",
       "  "
      ],
      "text/plain": [
       "   movie_id  actor_id  ord\n",
       "0         1      2940    1\n",
       "1         1      2185    2\n",
       "2         1       329    3\n",
       "3         1      3128    4\n",
       "4         1       549    5"
      ]
     },
     "execution_count": 8,
     "metadata": {},
     "output_type": "execute_result"
    }
   ],
   "source": [
    "casting.head()"
   ]
  },
  {
   "cell_type": "code",
   "execution_count": 9,
   "metadata": {
    "id": "ZfMD7mKc0i6f"
   },
   "outputs": [],
   "source": [
    "con = sqlite3.connect('imdb.db')\n",
    "top_rated_movies.to_sql('movies', con, index=False)\n",
    "actors.to_sql('actors', con, index=False)\n",
    "casting.to_sql('casting', con, index=False)\n",
    "cur = con.cursor()"
   ]
  },
  {
   "cell_type": "code",
   "execution_count": 10,
   "metadata": {
    "id": "iT2TM750DjQd"
   },
   "outputs": [],
   "source": [
    "create_movies = \"\"\"\n",
    "PRAGMA foreign_keys=off;\n",
    "BEGIN TRANSACTION;\n",
    "ALTER TABLE movies RENAME TO movies_no_keys;\n",
    "CREATE TABLE movies (\n",
    "    id INTEGER,\n",
    "    title TEXT,\n",
    "    release_year INTEGER,\n",
    "    rating REAL,\n",
    "    director TEXT,\n",
    "    runtime int,\n",
    "    PRIMARY KEY (id)\n",
    ");\n",
    "INSERT INTO movies SELECT * FROM movies_no_keys;\n",
    "COMMIT;\n",
    "PRAGMA foreign_keys=on;\n",
    "\"\"\"\n",
    "cur.executescript(create_movies)\n",
    "con.commit()"
   ]
  },
  {
   "cell_type": "code",
   "execution_count": 11,
   "metadata": {
    "id": "gwdwxeaKD93u"
   },
   "outputs": [],
   "source": [
    "create_actors = \"\"\"\n",
    "PRAGMA foreign_keys=off;\n",
    "BEGIN TRANSACTION;\n",
    "ALTER TABLE actors RENAME TO actors_no_keys;\n",
    "CREATE TABLE actors (\n",
    "    id INTEGER,\n",
    "    name TEXT,\n",
    "    PRIMARY KEY (id)\n",
    ");\n",
    "INSERT INTO actors SELECT * FROM actors_no_keys;\n",
    "COMMIT;\n",
    "PRAGMA foreign_keys=on;\n",
    "\"\"\"\n",
    "cur.executescript(create_actors)\n",
    "con.commit()"
   ]
  },
  {
   "cell_type": "code",
   "execution_count": 12,
   "metadata": {
    "id": "kn6WR1wKER-f"
   },
   "outputs": [],
   "source": [
    "create_casting = \"\"\"\n",
    "PRAGMA foreign_keys=off;\n",
    "BEGIN TRANSACTION;\n",
    "ALTER TABLE casting RENAME TO casting_no_keys;\n",
    "CREATE TABLE casting (\n",
    "    movie_id INTEGER,\n",
    "    actor_id INTEGER,\n",
    "    ord INTEGER,\n",
    "    FOREIGN KEY (movie_id) REFERENCES movies (id) \n",
    "            ON DELETE CASCADE ON UPDATE NO ACTION\n",
    "    FOREIGN KEY (actor_id) REFERENCES actors (id) \n",
    "            ON DELETE CASCADE ON UPDATE NO ACTION\n",
    ");\n",
    "INSERT INTO casting SELECT * FROM casting_no_keys;\n",
    "COMMIT;\n",
    "PRAGMA foreign_keys=on;\n",
    "\"\"\"\n",
    "cur.executescript(create_casting)\n",
    "con.commit()"
   ]
  },
  {
   "cell_type": "code",
   "execution_count": 14,
   "metadata": {
    "id": "21GntKklOgRF"
   },
   "outputs": [],
   "source": [
    "drop_tables = \"\"\"\n",
    "DROP TABLE movies_no_keys;\n",
    "DROP TABLE actors_no_keys;\n",
    "DROP TABLE casting_no_keys;\n",
    "\"\"\"\n",
    "cur.executescript(drop_tables)\n",
    "con.commit()"
   ]
  },
  {
   "cell_type": "code",
   "execution_count": 15,
   "metadata": {
    "id": "qyODcf44if-g"
   },
   "outputs": [],
   "source": [
    "con.close()"
   ]
  }
 ],
 "metadata": {
  "colab": {
   "name": "get_imdb_data.ipynb",
   "provenance": []
  },
  "kernelspec": {
   "display_name": "Python 3 (ipykernel)",
   "language": "python",
   "name": "python3"
  },
  "language_info": {
   "codemirror_mode": {
    "name": "ipython",
    "version": 3
   },
   "file_extension": ".py",
   "mimetype": "text/x-python",
   "name": "python",
   "nbconvert_exporter": "python",
   "pygments_lexer": "ipython3",
   "version": "3.8.12"
  }
 },
 "nbformat": 4,
 "nbformat_minor": 1
}
