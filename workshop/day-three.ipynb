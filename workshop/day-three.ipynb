{
 "cells": [
  {
   "cell_type": "markdown",
   "id": "lightweight-fruit",
   "metadata": {
    "slideshow": {
     "slide_type": "slide"
    }
   },
   "source": [
    "# SQL 的五十道練習：初學者友善的資料庫八週專班\n",
    "\n",
    "> 第三天\n",
    "\n",
    "[數聚點](https://www.datainpoint.com/) | 郭耀仁 <yaojenkuo@datainpoint.com>"
   ]
  },
  {
   "cell_type": "code",
   "execution_count": 1,
   "id": "matched-spyware",
   "metadata": {
    "slideshow": {
     "slide_type": "skip"
    }
   },
   "outputs": [],
   "source": [
    "%LOAD sqlite3 db=../databases/imdb.db timeout=2 shared_cache=true"
   ]
  },
  {
   "cell_type": "code",
   "execution_count": 2,
   "id": "f6183d6f",
   "metadata": {
    "slideshow": {
     "slide_type": "skip"
    }
   },
   "outputs": [],
   "source": [
    "ATTACH \"../databases/nba.db\" AS nba;"
   ]
  },
  {
   "cell_type": "code",
   "execution_count": 3,
   "id": "db4b6a81",
   "metadata": {
    "slideshow": {
     "slide_type": "skip"
    }
   },
   "outputs": [],
   "source": [
    "ATTACH \"../databases/kaggleSurvey2022.db\" AS kaggleSurvey2022;"
   ]
  },
  {
   "cell_type": "markdown",
   "id": "36e81167",
   "metadata": {
    "slideshow": {
     "slide_type": "slide"
    }
   },
   "source": [
    "## 子查詢"
   ]
  },
  {
   "cell_type": "markdown",
   "id": "c96a9e07",
   "metadata": {
    "slideshow": {
     "slide_type": "subslide"
    }
   },
   "source": [
    "## 子查詢\n",
    "\n",
    "如果是一段 SQL 敘述中包括另外一段 SQL 敘述、先後使用多個 SQL 敘述，先執行的 SQL 敘述查詢結果將會成回後執行的 SQL 敘述中的依據，這樣的 SQL 敘述結構就稱為子查詢（Subquery）。"
   ]
  },
  {
   "cell_type": "markdown",
   "id": "supposed-spread",
   "metadata": {
    "slideshow": {
     "slide_type": "subslide"
    }
   },
   "source": [
    "## 複合函數（Composite functions）\n",
    "\n",
    "`SUBSTR('Boston', 1, 3)` 函數的輸出為 `'Bos'`，成為 `UPPER()` 函數的輸入，最後的輸出為 `'BOS'`。"
   ]
  },
  {
   "cell_type": "code",
   "execution_count": 4,
   "id": "d40a6859",
   "metadata": {},
   "outputs": [
    {
     "data": {
      "text/html": [
       "<table>\n",
       "<tr>\n",
       "<th>city</th>\n",
       "<th>SUBSTR('Boston', 1, 3)</th>\n",
       "<th>composite_function</th>\n",
       "</tr>\n",
       "<tr>\n",
       "<td>Boston</td>\n",
       "<td>Bos</td>\n",
       "<td>BOS</td>\n",
       "</tr>\n",
       "</table>\n",
       "1 row in set (0.00 sec)"
      ],
      "text/plain": [
       "+--------+------------------------+--------------------+\n",
       "| city   | SUBSTR('Boston', 1, 3) | composite_function |\n",
       "+--------+------------------------+--------------------+\n",
       "| Boston | Bos                    | BOS                |\n",
       "+--------+------------------------+--------------------+\n",
       "1 row in set (0.00 sec)"
      ]
     },
     "execution_count": 4,
     "metadata": {},
     "output_type": "execute_result"
    }
   ],
   "source": [
    "SELECT 'Boston' AS city,\n",
    "       SUBSTR('Boston', 1, 3),\n",
    "       UPPER(SUBSTR('Boston', 1, 3)) AS composite_function;"
   ]
  },
  {
   "cell_type": "markdown",
   "id": "07bdf700",
   "metadata": {
    "slideshow": {
     "slide_type": "subslide"
    }
   },
   "source": [
    "## 常見的子查詢結構外型\n",
    "\n",
    "接續在 `WHERE` 保留字後的結構外型。\n",
    "\n",
    "```sql\n",
    "SELECT columns\n",
    "  FROM table\n",
    " WHERE (SELECT columns FROM table ...);\n",
    "```"
   ]
  },
  {
   "cell_type": "markdown",
   "id": "b7f2e3bf",
   "metadata": {
    "slideshow": {
     "slide_type": "subslide"
    }
   },
   "source": [
    "## 常見的子查詢結構外型（續）\n",
    "\n",
    "接續在 `SELECT` 保留字後的結構外型。\n",
    "\n",
    "```sql\n",
    "SELECT (SELECT columns FROM table ...)\n",
    "  FROM table;\n",
    "```"
   ]
  },
  {
   "cell_type": "markdown",
   "id": "ef22e0f2",
   "metadata": {
    "slideshow": {
     "slide_type": "subslide"
    }
   },
   "source": [
    "## 常見的子查詢結構外型（續）\n",
    "\n",
    "接續在 `FROM` 保留字後的結構外型，這裡要注意的是先前別名是針對欄位名稱，這裡則是將先執行的 SQL 敘述查詢結果視為像資料表（實際上並不是）的存在。\n",
    "\n",
    "```sql\n",
    "SELECT columns\n",
    "  FROM (SELECT columns FROM table ...) AS alias;\n",
    "```"
   ]
  },
  {
   "cell_type": "markdown",
   "id": "803acbfc",
   "metadata": {
    "slideshow": {
     "slide_type": "subslide"
    }
   },
   "source": [
    "## 常見的子查詢應用情境\n",
    "\n",
    "1. 接續在 `WHERE` 保留字後的結構外型，應用於篩選資料表觀測值的條件必須要先經過一個 SQL 敘述查詢才能夠建立。\n",
    "2. 接續在 `SELECT` 保留字後的結構外型，應用於衍生計算欄位的算式部分必須要先經過一個 SQL 敘述查詢才能夠獲得。\n",
    "3. 接續在 `FROM` 保留字後的結構外型，應用於將先執行的 SQL 敘述查詢結果視為像資料表（實際上並不是）對待來取得所需資訊。"
   ]
  },
  {
   "cell_type": "markdown",
   "id": "ca721ec9",
   "metadata": {
    "slideshow": {
     "slide_type": "subslide"
    }
   },
   "source": [
    "## 情境一：接續在 `WHERE` 保留字後的結構外型\n",
    "\n",
    "將問題 \"What programming languages do you use on a regular basis? (Select all that apply)\" 的所有回覆篩選出來。\n",
    "\n",
    "```sql\n",
    "SELECT *\n",
    "  FROM responses\n",
    " WHERE question_id = x;\n",
    " \n",
    "SELECT id\n",
    "  FROM questions\n",
    " WHERE description LIKE '%programming language%';\n",
    "```"
   ]
  },
  {
   "cell_type": "markdown",
   "id": "structural-november",
   "metadata": {
    "slideshow": {
     "slide_type": "subslide"
    }
   },
   "source": [
    "## 將 `x` 替換為 SQL 敘述，並用小括號 `()` 包裝起來\n",
    "\n",
    "就能成功將本來應該分兩次、先後執行的 SQL 敘述，調整為子查詢的結構外型。\n",
    "\n",
    "```sql\n",
    "SELECT *\n",
    "  FROM responses\n",
    " WHERE question_id = (\n",
    "                         SELECT id\n",
    "                           FROM questions\n",
    "                          WHERE description LIKE '%programming language%'\n",
    "                     );\n",
    "```"
   ]
  },
  {
   "cell_type": "markdown",
   "id": "a2f34afc",
   "metadata": {
    "slideshow": {
     "slide_type": "subslide"
    }
   },
   "source": [
    "## 值得注意的地方\n",
    "\n",
    "- 子查詢的結構外型也只能有一個分號 `;` 來標註 SQL 敘述的結束，因此替換之後要記得只留下最後執行 SQL 敘述的分號。\n",
    "- 替換之後因為排版變得比較亂，這時可以善用 SQLiteStudio 的 Format SQL 功能讓寫作的 SQL 敘述之編排、格式和設計具備更高的可讀性。"
   ]
  },
  {
   "cell_type": "markdown",
   "id": "b52ac9ea",
   "metadata": {
    "slideshow": {
     "slide_type": "subslide"
    }
   },
   "source": [
    "## 情境二：接續在 `SELECT` 保留字後的結構外型\n",
    "\n",
    "將問題 \"What programming languages do you use on a regular basis? (Select all that apply)\" 的回覆計算為比例呈現。\n",
    "\n",
    "```sql\n",
    "SELECT choice,\n",
    "       COUNT(*)*1.0 / x AS n_responses\n",
    "  FROM responses\n",
    " WHERE question_id = 11\n",
    " GROUP BY choice\n",
    " ORDER BY n_responses DESC;\n",
    " \n",
    "SELECT COUNT(*) AS total_responses\n",
    "  FROM responses\n",
    " WHERE question_id = 11;\n",
    "```"
   ]
  },
  {
   "cell_type": "markdown",
   "id": "94c7ca3d",
   "metadata": {
    "slideshow": {
     "slide_type": "subslide"
    }
   },
   "source": [
    "## 將 `x` 替換為 SQL 敘述，並用小括號 `()` 包裝起來\n",
    "\n",
    "就能成功將本來應該分兩次、先後執行的 SQL 敘述，調整為子查詢的結構外型。\n",
    "\n",
    "```sql\n",
    "SELECT choice,\n",
    "       COUNT( * )*1.0 / (\n",
    "                        SELECT COUNT( * ) AS total_responses\n",
    "                          FROM responses\n",
    "                         WHERE question_id = 11\n",
    "                    )\n",
    "       AS n_responses\n",
    "  FROM responses\n",
    " WHERE question_id = 11\n",
    " GROUP BY choice\n",
    " ORDER BY n_responses DESC;\n",
    "```"
   ]
  },
  {
   "cell_type": "markdown",
   "id": "5902b323",
   "metadata": {
    "slideshow": {
     "slide_type": "subslide"
    }
   },
   "source": [
    "## 情境三：接續在 `FROM` 保留字後的結構外型\n",
    "\n",
    "將 `nba` 資料庫平均身高大於等於 2 公尺的鋒衛位置挑選出來。\n",
    "\n",
    "```sql\n",
    "SELECT pos,\n",
    "       AVG(heightMeters) AS avg_height_meters\n",
    "  FROM players\n",
    " GROUP BY pos\n",
    "HAVING avg_height_meters >= 2;\n",
    "```"
   ]
  },
  {
   "cell_type": "markdown",
   "id": "70ee0880",
   "metadata": {
    "slideshow": {
     "slide_type": "subslide"
    }
   },
   "source": [
    "## 情境三：接續在 FROM 保留字後的結構外型（續）\n",
    "\n",
    "```sql\n",
    "SELECT *\n",
    "  FROM x\n",
    " WHERE avg_height_meters >= 2;\n",
    "\n",
    "SELECT pos,\n",
    "       AVG(heightMeters) AS avg_height_meters\n",
    "  FROM players\n",
    " GROUP BY pos;\n",
    "```"
   ]
  },
  {
   "cell_type": "markdown",
   "id": "fc13291f",
   "metadata": {
    "slideshow": {
     "slide_type": "subslide"
    }
   },
   "source": [
    "## 將 `x` 替換為 SQL 敘述，並用小括號 `()` 包裝起來\n",
    "\n",
    "就能成功將本來應該分兩次、先後執行的 SQL 敘述，調整為子查詢的結構外型。"
   ]
  },
  {
   "cell_type": "code",
   "execution_count": 5,
   "id": "c5314282",
   "metadata": {},
   "outputs": [
    {
     "data": {
      "text/html": [
       "<table>\n",
       "<tr>\n",
       "<th>pos</th>\n",
       "<th>avg_height_meters</th>\n",
       "</tr>\n",
       "<tr>\n",
       "<td>C</td>\n",
       "<td>2.11878787878788</td>\n",
       "</tr>\n",
       "<tr>\n",
       "<td>C-F</td>\n",
       "<td>2.095</td>\n",
       "</tr>\n",
       "<tr>\n",
       "<td>F</td>\n",
       "<td>2.02348484848485</td>\n",
       "</tr>\n",
       "<tr>\n",
       "<td>F-C</td>\n",
       "<td>2.0785</td>\n",
       "</tr>\n",
       "<tr>\n",
       "<td>F-G</td>\n",
       "<td>2.00217391304348</td>\n",
       "</tr>\n",
       "</table>\n",
       "5 rows in set (0.00 sec)"
      ],
      "text/plain": [
       "+-----+-------------------+\n",
       "| pos | avg_height_meters |\n",
       "+-----+-------------------+\n",
       "| C   | 2.11878787878788  |\n",
       "+-----+-------------------+\n",
       "| C-F | 2.095             |\n",
       "+-----+-------------------+\n",
       "| F   | 2.02348484848485  |\n",
       "+-----+-------------------+\n",
       "| F-C | 2.0785            |\n",
       "+-----+-------------------+\n",
       "| F-G | 2.00217391304348  |\n",
       "+-----+-------------------+\n",
       "5 rows in set (0.00 sec)"
      ]
     },
     "execution_count": 5,
     "metadata": {},
     "output_type": "execute_result"
    }
   ],
   "source": [
    "SELECT *\n",
    "  FROM (\n",
    "           SELECT pos,\n",
    "                  AVG(heightMeters) AS avg_height_meters\n",
    "             FROM players\n",
    "            GROUP BY pos\n",
    "       )\n",
    "       AS avg_height_meters_by_pos\n",
    " WHERE avg_height_meters >= 2;"
   ]
  },
  {
   "cell_type": "markdown",
   "id": "d79b79c7",
   "metadata": {
    "slideshow": {
     "slide_type": "subslide"
    }
   },
   "source": [
    "## 同學上一次直播問的問題\n",
    "\n",
    "> 請問如果資料只有4個，OFFSET 5會顯示資料嗎？"
   ]
  },
  {
   "cell_type": "code",
   "execution_count": 6,
   "id": "fb3bf998",
   "metadata": {},
   "outputs": [
    {
     "data": {
      "text/html": [
       "</table>\n",
       "Empty set (0.00 sec)"
      ],
      "text/plain": [
       "\n",
       "Empty set (0.00 sec)"
      ]
     },
     "execution_count": 6,
     "metadata": {},
     "output_type": "execute_result"
    }
   ],
   "source": [
    "SELECT *\n",
    "  FROM (\n",
    "           SELECT *\n",
    "             FROM movies\n",
    "            LIMIT 4\n",
    "       )\n",
    "       AS four_rows\n",
    " LIMIT 4 OFFSET 5;"
   ]
  },
  {
   "cell_type": "markdown",
   "id": "e09423d9",
   "metadata": {
    "slideshow": {
     "slide_type": "subslide"
    }
   },
   "source": [
    "## 兩次以上的子查詢結構\n",
    "\n",
    "我們想知道 `imdb` 資料庫哪幾部電影 Tom Hanks 有演出？\n",
    "\n",
    "```sql\n",
    "SELECT title\n",
    "  FROM movies\n",
    " WHERE id IN x;\n",
    "\n",
    "SELECT movie_id\n",
    "  FROM casting\n",
    " WHERE actor_id = y;\n",
    "\n",
    "SELECT id\n",
    "  FROM actors\n",
    " WHERE name = 'Tom Hanks';\n",
    "```"
   ]
  },
  {
   "cell_type": "markdown",
   "id": "endless-sodium",
   "metadata": {
    "slideshow": {
     "slide_type": "subslide"
    }
   },
   "source": [
    "## 將 `x` 與 `y` 依序替換為 SQL 敘述，並用小括號 `()` 包裝起來\n",
    "\n",
    "就能成功將本來應該分三次、先後執行的 SQL 敘述，調整為子查詢的結構外型。"
   ]
  },
  {
   "cell_type": "code",
   "execution_count": 7,
   "id": "3401efce",
   "metadata": {},
   "outputs": [
    {
     "data": {
      "text/html": [
       "<table>\n",
       "<tr>\n",
       "<th>title</th>\n",
       "</tr>\n",
       "<tr>\n",
       "<td>Forrest Gump</td>\n",
       "</tr>\n",
       "<tr>\n",
       "<td>Saving Private Ryan</td>\n",
       "</tr>\n",
       "<tr>\n",
       "<td>The Green Mile</td>\n",
       "</tr>\n",
       "<tr>\n",
       "<td>Toy Story</td>\n",
       "</tr>\n",
       "<tr>\n",
       "<td>Toy Story 3</td>\n",
       "</tr>\n",
       "<tr>\n",
       "<td>Catch Me If You Can</td>\n",
       "</tr>\n",
       "</table>\n",
       "6 rows in set (0.00 sec)"
      ],
      "text/plain": [
       "+---------------------+\n",
       "| title               |\n",
       "+---------------------+\n",
       "| Forrest Gump        |\n",
       "+---------------------+\n",
       "| Saving Private Ryan |\n",
       "+---------------------+\n",
       "| The Green Mile      |\n",
       "+---------------------+\n",
       "| Toy Story           |\n",
       "+---------------------+\n",
       "| Toy Story 3         |\n",
       "+---------------------+\n",
       "| Catch Me If You Can |\n",
       "+---------------------+\n",
       "6 rows in set (0.00 sec)"
      ]
     },
     "execution_count": 7,
     "metadata": {},
     "output_type": "execute_result"
    }
   ],
   "source": [
    "SELECT title\n",
    "  FROM movies\n",
    " WHERE id IN (\n",
    "           SELECT movie_id\n",
    "             FROM casting\n",
    "            WHERE actor_id = (\n",
    "                                 SELECT id\n",
    "                                   FROM actors\n",
    "                                  WHERE name = 'Tom Hanks'\n",
    "                             )\n",
    "       );"
   ]
  },
  {
   "cell_type": "markdown",
   "id": "decimal-newsletter",
   "metadata": {
    "slideshow": {
     "slide_type": "slide"
    }
   },
   "source": [
    "## 垂直與水平合併"
   ]
  },
  {
   "cell_type": "markdown",
   "id": "a0e81ba7",
   "metadata": {
    "slideshow": {
     "slide_type": "subslide"
    }
   },
   "source": [
    "## 關聯\n",
    "\n",
    "所謂的關聯，具體來說就是讓資料從兩個維度合併：\n",
    "\n",
    "1. 垂直合併：從垂直的方向關聯資料的列（觀測值）。\n",
    "2. 水平合併：從水平的方向關聯資料的欄（變數）。\n",
    "\n",
    "更簡單的說明，垂直合併就是列的結合，`(m, n)` 外型與 `(m, n)` 外型的資料垂直合併後為 `(2m, n)` 外型；水平合併就是欄的結合，`(m, n)` 外型與 `(m, n)` 外型的資料水平合併後為 `(m, 2n)` 外型（在觀測值一對一對應的前提之下）。"
   ]
  },
  {
   "cell_type": "markdown",
   "id": "5a00d4df",
   "metadata": {
    "slideshow": {
     "slide_type": "subslide"
    }
   },
   "source": [
    "## 以 `JOIN` 水平合併\n",
    "\n",
    "- 資料是以水平維度進行合併，因此還會有左資料表與右資料表之分。\n",
    "- 在 `FROM` 保留字之後的資料表被稱為左資料表（Left table）或稱主要資料表；在 `JOIN` 保留字之後的資料表被稱為右資料表（Right table）或稱次要資料表。\n",
    "\n",
    "```sql\n",
    "SELECT left_table.columns,\n",
    "       right_table.columns\n",
    "  FROM left_table\n",
    "  JOIN right_table\n",
    "    ON left_table.join_key = right_table.join_key;\n",
    "```"
   ]
  },
  {
   "cell_type": "markdown",
   "id": "f76fa49a",
   "metadata": {
    "slideshow": {
     "slide_type": "subslide"
    }
   },
   "source": [
    "## 添加 `JOIN` 與 `ON` 納入更多的次要資料表\n",
    "\n",
    "- 在 `ON` 保留字之後的敘述包含了資料表名稱與連接鍵的宣告 `table.join_key` 中間用 `.` 來區分資料表名稱與連接鍵。\n",
    "- 而在 `SELECT` 保留字之後所選擇的欄位，因為能夠從主要資料表與次要資料表中選擇，為了提升可讀性、同時也避免模糊錯誤（Ambiguity error）的發生，也同樣會以 `table.columns` 明確表示資料表名稱與所選擇欄位。\n",
    "\n",
    "```sql\n",
    "SELECT left_table.columns,\n",
    "       right_table_one.columns,\n",
    "       right_table_two.columns\n",
    "  FROM left_table\n",
    "  JOIN right_table_one\n",
    "    ON left_table.join_key = right_table_one.join_key\n",
    "  JOIN right_table_two\n",
    "    ON left_table.join_key|right_table_one.join_key = right_table_two.join_key;\n",
    "```"
   ]
  },
  {
   "cell_type": "markdown",
   "id": "59889528",
   "metadata": {
    "slideshow": {
     "slide_type": "subslide"
    }
   },
   "source": [
    "## 用水平合併來回答這個問題\n",
    "\n",
    "- 我們想知道 `imdb` 資料庫哪幾部電影 Tom Hanks 有演出？\n",
    "    - 先知道 Tom Hanks 的演員編號 `actor_id` 是多少。\n",
    "    - 從 `casting` 資料表對應出哪些電影編號 `movie_id`。\n",
    "    - 進而再由 `movies` 資料表取得電影資訊 `title`。"
   ]
  },
  {
   "cell_type": "code",
   "execution_count": 8,
   "id": "f79f0388",
   "metadata": {
    "slideshow": {
     "slide_type": "-"
    }
   },
   "outputs": [
    {
     "data": {
      "text/html": [
       "<table>\n",
       "<tr>\n",
       "<th>title</th>\n",
       "</tr>\n",
       "<tr>\n",
       "<td>Forrest Gump</td>\n",
       "</tr>\n",
       "<tr>\n",
       "<td>Saving Private Ryan</td>\n",
       "</tr>\n",
       "<tr>\n",
       "<td>The Green Mile</td>\n",
       "</tr>\n",
       "<tr>\n",
       "<td>Toy Story</td>\n",
       "</tr>\n",
       "<tr>\n",
       "<td>Toy Story 3</td>\n",
       "</tr>\n",
       "<tr>\n",
       "<td>Catch Me If You Can</td>\n",
       "</tr>\n",
       "</table>\n",
       "6 rows in set (0.00 sec)"
      ],
      "text/plain": [
       "+---------------------+\n",
       "| title               |\n",
       "+---------------------+\n",
       "| Forrest Gump        |\n",
       "+---------------------+\n",
       "| Saving Private Ryan |\n",
       "+---------------------+\n",
       "| The Green Mile      |\n",
       "+---------------------+\n",
       "| Toy Story           |\n",
       "+---------------------+\n",
       "| Toy Story 3         |\n",
       "+---------------------+\n",
       "| Catch Me If You Can |\n",
       "+---------------------+\n",
       "6 rows in set (0.00 sec)"
      ]
     },
     "execution_count": 8,
     "metadata": {},
     "output_type": "execute_result"
    }
   ],
   "source": [
    "SELECT movies.title\n",
    "  FROM movies\n",
    "  JOIN casting\n",
    "    ON movies.id = casting.movie_id\n",
    "  JOIN actors\n",
    "    ON casting.actor_id = actors.id\n",
    " WHERE actors.name = 'Tom Hanks';"
   ]
  },
  {
   "cell_type": "markdown",
   "id": "sunset-testing",
   "metadata": {
    "slideshow": {
     "slide_type": "subslide"
    }
   },
   "source": [
    "## 什麼是實體關係圖（Entity Relationship Diagram, ER-Diagram）\n",
    "\n",
    "- 實體關係圖會將關聯式資料庫中每個資料表像清單般展開，最上方是該資料表名稱。\n",
    "- 置頂且粗體的欄位名稱則標註了該資料表中用來區隔「不重複」觀測值的變數，也就是所謂的主鍵（Primary Key），主鍵被用來確認資料的獨一性。\n",
    "- 資料表與資料表之間的連線則描述兩者能夠透過連接鍵關聯，連接鍵也稱為外鍵（Foreign Key），外鍵被用來確認資料的參考完整性。\n",
    "- 我們可以使用 DBeaver 生成學習資料庫的實體關係圖。"
   ]
  },
  {
   "cell_type": "markdown",
   "id": "48f284af",
   "metadata": {
    "slideshow": {
     "slide_type": "subslide"
    }
   },
   "source": [
    "## 實體（Entity）、屬性（Attribute）與鍵（Key）等其實只是「換句話說」\n",
    "\n",
    "- 關聯（Relation）、實體（Entity）：資料表（Table）\n",
    "- 元組（Tuple）：列（Row）、觀測值（Observation）或記錄（Record）\n",
    "- 屬性（Attribute）：欄（Column）、變數（Variable）、鍵（Key）或欄位（Field）"
   ]
  },
  {
   "cell_type": "markdown",
   "id": "b8b9b9bd",
   "metadata": {
    "slideshow": {
     "slide_type": "subslide"
    }
   },
   "source": [
    "## `covid19` 資料庫的實體關係圖\n",
    "\n",
    "可以得知 `daily_report` 的主鍵為 `Combined_Key`、可以透過 `daily_report.Combined_Key` 與 `lookup_table.Combined_Key` 連接；`lookup_table` 主鍵為 `UID`、可以透過 `lookup_table.Country_Region` 與 `time_series.Country_Region` 連接。"
   ]
  },
  {
   "cell_type": "markdown",
   "id": "dd5e9fb8",
   "metadata": {
    "slideshow": {
     "slide_type": "subslide"
    }
   },
   "source": [
    "![](../images/covid19-erd.png)"
   ]
  },
  {
   "cell_type": "markdown",
   "id": "0118981b",
   "metadata": {
    "slideshow": {
     "slide_type": "subslide"
    }
   },
   "source": [
    "## `nba` 資料庫的實體關係圖\n",
    "\n",
    "可以得知 `career_summaries` 的主鍵為 `personId`、可以透過 `career_summaries.personId` 與 `players.personId` 連接；`teams` 主鍵為 `teamId`、可以透過 `teams.teamId` 與 `players.teamId` 連接。"
   ]
  },
  {
   "cell_type": "markdown",
   "id": "645fe5dd",
   "metadata": {
    "slideshow": {
     "slide_type": "subslide"
    }
   },
   "source": [
    "![](../images/nba-erd.png)"
   ]
  },
  {
   "cell_type": "markdown",
   "id": "cf645407",
   "metadata": {
    "slideshow": {
     "slide_type": "subslide"
    }
   },
   "source": [
    "## `twElection2020` 資料庫的實體關係圖\n",
    "\n",
    "可以得知 `admin_regions` 的主鍵為 `id`、可以透過 `admin_regions.id` 與 `legislative_at_large.admin_region_id`、`legislative_regional.admin_region_id`、`presidential.admin_region_id` 連接；`candidates` 主鍵為 `id`、可以透過 `candidates.id` 與 `presidential.candidate_id`、`legislative_regional.candidate_id` 連接，透過 `candidates.party_id` 與 `parties.id` 連接；`parties` 主鍵為 `id`、可以透過 `parties.id` 與 `legislative_at_large.party_id`、`candidates.party_id` 連接。"
   ]
  },
  {
   "cell_type": "markdown",
   "id": "a70268e3",
   "metadata": {
    "slideshow": {
     "slide_type": "subslide"
    }
   },
   "source": [
    "![](../images/twElection2020-erd.png)"
   ]
  },
  {
   "cell_type": "markdown",
   "id": "5af1f33f",
   "metadata": {
    "slideshow": {
     "slide_type": "subslide"
    }
   },
   "source": [
    "## `twElection2022` 資料庫的實體關係圖\n",
    "\n",
    "可以得知 `admin_regions` 的主鍵為 `id`、可以透過 `admin_regions.id` 與 `councillors.admin_region_id`、`mayors.admin_region_id` 連接；`candidates` 主鍵為 `id`、可以透過 `candidates.id` 與 `councillors.candidate_id`、`mayors.candidate_id` 連接，透過 `candidates.party_id` 與 `parties.id` 連接；`parties` 主鍵為 `id`、可以透過 `parties.id` 與 `councillors.party_id`、`mayors.party_id` 連接。"
   ]
  },
  {
   "cell_type": "markdown",
   "id": "cb3e2625",
   "metadata": {
    "slideshow": {
     "slide_type": "subslide"
    }
   },
   "source": [
    "![](../images/twElection2022-erd.png)"
   ]
  },
  {
   "cell_type": "markdown",
   "id": "7ddcf485",
   "metadata": {
    "slideshow": {
     "slide_type": "subslide"
    }
   },
   "source": [
    "## `kaggleSurvey2022` 資料庫的實體關係圖\n",
    "\n",
    "可以得知 `questions` 的主鍵為 `id`、可以透過 `questions.id` 與 `responses.question_id` 連接。"
   ]
  },
  {
   "cell_type": "markdown",
   "id": "09c2030a",
   "metadata": {
    "slideshow": {
     "slide_type": "subslide"
    }
   },
   "source": [
    "![](../images/kaggleSurvey2022-erd.png)"
   ]
  },
  {
   "cell_type": "markdown",
   "id": "c41c5e0e",
   "metadata": {
    "slideshow": {
     "slide_type": "subslide"
    }
   },
   "source": [
    "## 理解實體關係圖、主鍵、外鍵等觀念的最佳方式\n",
    "\n",
    "- 自己建立學習資料庫：\n",
    "    - 第一階段：使用清理後的 `.csv` 檔案建立學習資料庫。\n",
    "    - 第二階段：使用一個程式語言整理資料之後建立學習資料庫。\n",
    "- 在第四天的直播中示範。"
   ]
  },
  {
   "cell_type": "markdown",
   "id": "gentle-watts",
   "metadata": {
    "slideshow": {
     "slide_type": "subslide"
    }
   },
   "source": [
    "## 水平合併的效果\n",
    "\n",
    "- 將三個資料表的欄都集中到了一個查詢結果中：\n",
    "    - `id:runtime` 來自 `movies` 資料表。\n",
    "    - `movie_id:ord` 來自 `casting` 資料表。\n",
    "    - `id:name` 來自 `actors` 資料表。"
   ]
  },
  {
   "cell_type": "code",
   "execution_count": 9,
   "id": "raising-cigarette",
   "metadata": {
    "slideshow": {
     "slide_type": "-"
    }
   },
   "outputs": [
    {
     "data": {
      "text/html": [
       "<table>\n",
       "<tr>\n",
       "<th>id</th>\n",
       "<th>title</th>\n",
       "<th>release_year</th>\n",
       "<th>rating</th>\n",
       "<th>director</th>\n",
       "<th>runtime</th>\n",
       "<th>movie_id</th>\n",
       "<th>actor_id</th>\n",
       "<th>ord</th>\n",
       "<th>id</th>\n",
       "<th>name</th>\n",
       "</tr>\n",
       "<tr>\n",
       "<td>12</td>\n",
       "<td>Forrest Gump</td>\n",
       "<td>1994</td>\n",
       "<td>8.8</td>\n",
       "<td>Robert Zemeckis</td>\n",
       "<td>142</td>\n",
       "<td>12</td>\n",
       "<td>2865</td>\n",
       "<td>1</td>\n",
       "<td>2865</td>\n",
       "<td>Tom Hanks</td>\n",
       "</tr>\n",
       "<tr>\n",
       "<td>26</td>\n",
       "<td>Saving Private Ryan</td>\n",
       "<td>1998</td>\n",
       "<td>8.6</td>\n",
       "<td>Steven Spielberg</td>\n",
       "<td>169</td>\n",
       "<td>26</td>\n",
       "<td>2865</td>\n",
       "<td>1</td>\n",
       "<td>2865</td>\n",
       "<td>Tom Hanks</td>\n",
       "</tr>\n",
       "<tr>\n",
       "<td>27</td>\n",
       "<td>The Green Mile</td>\n",
       "<td>1999</td>\n",
       "<td>8.6</td>\n",
       "<td>Frank Darabont</td>\n",
       "<td>189</td>\n",
       "<td>27</td>\n",
       "<td>2865</td>\n",
       "<td>1</td>\n",
       "<td>2865</td>\n",
       "<td>Tom Hanks</td>\n",
       "</tr>\n",
       "<tr>\n",
       "<td>82</td>\n",
       "<td>Toy Story</td>\n",
       "<td>1995</td>\n",
       "<td>8.3</td>\n",
       "<td>John Lasseter</td>\n",
       "<td>81</td>\n",
       "<td>82</td>\n",
       "<td>2865</td>\n",
       "<td>1</td>\n",
       "<td>2865</td>\n",
       "<td>Tom Hanks</td>\n",
       "</tr>\n",
       "<tr>\n",
       "<td>112</td>\n",
       "<td>Toy Story 3</td>\n",
       "<td>2010</td>\n",
       "<td>8.2</td>\n",
       "<td>Lee Unkrich</td>\n",
       "<td>103</td>\n",
       "<td>112</td>\n",
       "<td>2865</td>\n",
       "<td>1</td>\n",
       "<td>2865</td>\n",
       "<td>Tom Hanks</td>\n",
       "</tr>\n",
       "<tr>\n",
       "<td>189</td>\n",
       "<td>Catch Me If You Can</td>\n",
       "<td>2002</td>\n",
       "<td>8.1</td>\n",
       "<td>Steven Spielberg</td>\n",
       "<td>141</td>\n",
       "<td>189</td>\n",
       "<td>2865</td>\n",
       "<td>2</td>\n",
       "<td>2865</td>\n",
       "<td>Tom Hanks</td>\n",
       "</tr>\n",
       "</table>\n",
       "6 rows in set (0.00 sec)"
      ],
      "text/plain": [
       "+-----+---------------------+--------------+--------+------------------+---------+----------+----------+-----+------+-----------+\n",
       "| id  | title               | release_year | rating | director         | runtime | movie_id | actor_id | ord | id   | name      |\n",
       "+-----+---------------------+--------------+--------+------------------+---------+----------+----------+-----+------+-----------+\n",
       "| 12  | Forrest Gump        | 1994         | 8.8    | Robert Zemeckis  | 142     | 12       | 2865     | 1   | 2865 | Tom Hanks |\n",
       "+-----+---------------------+--------------+--------+------------------+---------+----------+----------+-----+------+-----------+\n",
       "| 26  | Saving Private Ryan | 1998         | 8.6    | Steven Spielberg | 169     | 26       | 2865     | 1   | 2865 | Tom Hanks |\n",
       "+-----+---------------------+--------------+--------+------------------+---------+----------+----------+-----+------+-----------+\n",
       "| 27  | The Green Mile      | 1999         | 8.6    | Frank Darabont   | 189     | 27       | 2865     | 1   | 2865 | Tom Hanks |\n",
       "+-----+---------------------+--------------+--------+------------------+---------+----------+----------+-----+------+-----------+\n",
       "| 82  | Toy Story           | 1995         | 8.3    | John Lasseter    | 81      | 82       | 2865     | 1   | 2865 | Tom Hanks |\n",
       "+-----+---------------------+--------------+--------+------------------+---------+----------+----------+-----+------+-----------+\n",
       "| 112 | Toy Story 3         | 2010         | 8.2    | Lee Unkrich      | 103     | 112      | 2865     | 1   | 2865 | Tom Hanks |\n",
       "+-----+---------------------+--------------+--------+------------------+---------+----------+----------+-----+------+-----------+\n",
       "| 189 | Catch Me If You Can | 2002         | 8.1    | Steven Spielberg | 141     | 189      | 2865     | 2   | 2865 | Tom Hanks |\n",
       "+-----+---------------------+--------------+--------+------------------+---------+----------+----------+-----+------+-----------+\n",
       "6 rows in set (0.00 sec)"
      ]
     },
     "execution_count": 9,
     "metadata": {},
     "output_type": "execute_result"
    }
   ],
   "source": [
    "SELECT *\n",
    "  FROM movies\n",
    "  JOIN casting\n",
    "    ON movies.id = casting.movie_id\n",
    "  JOIN actors\n",
    "    ON casting.actor_id = actors.id\n",
    " WHERE actors.name = 'Tom Hanks';"
   ]
  },
  {
   "cell_type": "markdown",
   "id": "6a42fd5f",
   "metadata": {
    "slideshow": {
     "slide_type": "subslide"
    }
   },
   "source": [
    "## 值得注意的水平合併特性\n",
    "\n",
    "- 留意資料的映射關係。\n",
    "- 留意觀測值的交集、對稱差集與聯集關係。\n",
    "    - 內部連接（交集）。\n",
    "    - 左外部連接（左資料表差集右資料表）。\n",
    "    - 右外部連接（右資料表差集左資料表）。\n",
    "    - 全外部連接（聯集）。"
   ]
  },
  {
   "cell_type": "markdown",
   "id": "fde9ae01",
   "metadata": {
    "slideshow": {
     "slide_type": "subslide"
    }
   },
   "source": [
    "## 資料的映射關係\n",
    "\n",
    "一部電影對應多個演員。"
   ]
  },
  {
   "cell_type": "code",
   "execution_count": 10,
   "id": "379dd005",
   "metadata": {},
   "outputs": [
    {
     "data": {
      "text/html": [
       "<table>\n",
       "<tr>\n",
       "<th>title</th>\n",
       "<th>actor_id</th>\n",
       "</tr>\n",
       "<tr>\n",
       "<td>The Shawshank Redemption</td>\n",
       "<td>2853</td>\n",
       "</tr>\n",
       "<tr>\n",
       "<td>The Shawshank Redemption</td>\n",
       "<td>2097</td>\n",
       "</tr>\n",
       "<tr>\n",
       "<td>The Shawshank Redemption</td>\n",
       "<td>333</td>\n",
       "</tr>\n",
       "<tr>\n",
       "<td>The Shawshank Redemption</td>\n",
       "<td>3029</td>\n",
       "</tr>\n",
       "<tr>\n",
       "<td>The Shawshank Redemption</td>\n",
       "<td>533</td>\n",
       "</tr>\n",
       "<tr>\n",
       "<td>The Shawshank Redemption</td>\n",
       "<td>1042</td>\n",
       "</tr>\n",
       "<tr>\n",
       "<td>The Shawshank Redemption</td>\n",
       "<td>1923</td>\n",
       "</tr>\n",
       "<tr>\n",
       "<td>The Shawshank Redemption</td>\n",
       "<td>1319</td>\n",
       "</tr>\n",
       "<tr>\n",
       "<td>The Shawshank Redemption</td>\n",
       "<td>1370</td>\n",
       "</tr>\n",
       "<tr>\n",
       "<td>The Shawshank Redemption</td>\n",
       "<td>1724</td>\n",
       "</tr>\n",
       "<tr>\n",
       "<td>The Shawshank Redemption</td>\n",
       "<td>2151</td>\n",
       "</tr>\n",
       "<tr>\n",
       "<td>The Shawshank Redemption</td>\n",
       "<td>363</td>\n",
       "</tr>\n",
       "<tr>\n",
       "<td>The Shawshank Redemption</td>\n",
       "<td>659</td>\n",
       "</tr>\n",
       "<tr>\n",
       "<td>The Shawshank Redemption</td>\n",
       "<td>1530</td>\n",
       "</tr>\n",
       "<tr>\n",
       "<td>The Shawshank Redemption</td>\n",
       "<td>1553</td>\n",
       "</tr>\n",
       "</table>\n",
       "15 rows in set (0.00 sec)"
      ],
      "text/plain": [
       "+--------------------------+----------+\n",
       "| title                    | actor_id |\n",
       "+--------------------------+----------+\n",
       "| The Shawshank Redemption | 2853     |\n",
       "+--------------------------+----------+\n",
       "| The Shawshank Redemption | 2097     |\n",
       "+--------------------------+----------+\n",
       "| The Shawshank Redemption | 333      |\n",
       "+--------------------------+----------+\n",
       "| The Shawshank Redemption | 3029     |\n",
       "+--------------------------+----------+\n",
       "| The Shawshank Redemption | 533      |\n",
       "+--------------------------+----------+\n",
       "| The Shawshank Redemption | 1042     |\n",
       "+--------------------------+----------+\n",
       "| The Shawshank Redemption | 1923     |\n",
       "+--------------------------+----------+\n",
       "| The Shawshank Redemption | 1319     |\n",
       "+--------------------------+----------+\n",
       "| The Shawshank Redemption | 1370     |\n",
       "+--------------------------+----------+\n",
       "| The Shawshank Redemption | 1724     |\n",
       "+--------------------------+----------+\n",
       "| The Shawshank Redemption | 2151     |\n",
       "+--------------------------+----------+\n",
       "| The Shawshank Redemption | 363      |\n",
       "+--------------------------+----------+\n",
       "| The Shawshank Redemption | 659      |\n",
       "+--------------------------+----------+\n",
       "| The Shawshank Redemption | 1530     |\n",
       "+--------------------------+----------+\n",
       "| The Shawshank Redemption | 1553     |\n",
       "+--------------------------+----------+\n",
       "15 rows in set (0.00 sec)"
      ]
     },
     "execution_count": 10,
     "metadata": {},
     "output_type": "execute_result"
    }
   ],
   "source": [
    "SELECT movies.title,\n",
    "       casting.actor_id\n",
    "  FROM movies\n",
    "  JOIN casting\n",
    "    ON movies.id = casting.movie_id\n",
    " WHERE movies.id = 1;"
   ]
  },
  {
   "cell_type": "markdown",
   "id": "30ce144a",
   "metadata": {
    "slideshow": {
     "slide_type": "subslide"
    }
   },
   "source": [
    "## 資料的映射關係（續）\n",
    "\n",
    "一個演員對應多部電影。"
   ]
  },
  {
   "cell_type": "code",
   "execution_count": 11,
   "id": "d2045c27",
   "metadata": {},
   "outputs": [
    {
     "data": {
      "text/html": [
       "<table>\n",
       "<tr>\n",
       "<th>name</th>\n",
       "<th>movie_id</th>\n",
       "</tr>\n",
       "<tr>\n",
       "<td>Tom Hanks</td>\n",
       "<td>12</td>\n",
       "</tr>\n",
       "<tr>\n",
       "<td>Tom Hanks</td>\n",
       "<td>26</td>\n",
       "</tr>\n",
       "<tr>\n",
       "<td>Tom Hanks</td>\n",
       "<td>27</td>\n",
       "</tr>\n",
       "<tr>\n",
       "<td>Tom Hanks</td>\n",
       "<td>82</td>\n",
       "</tr>\n",
       "<tr>\n",
       "<td>Tom Hanks</td>\n",
       "<td>112</td>\n",
       "</tr>\n",
       "<tr>\n",
       "<td>Tom Hanks</td>\n",
       "<td>189</td>\n",
       "</tr>\n",
       "</table>\n",
       "6 rows in set (0.00 sec)"
      ],
      "text/plain": [
       "+-----------+----------+\n",
       "| name      | movie_id |\n",
       "+-----------+----------+\n",
       "| Tom Hanks | 12       |\n",
       "+-----------+----------+\n",
       "| Tom Hanks | 26       |\n",
       "+-----------+----------+\n",
       "| Tom Hanks | 27       |\n",
       "+-----------+----------+\n",
       "| Tom Hanks | 82       |\n",
       "+-----------+----------+\n",
       "| Tom Hanks | 112      |\n",
       "+-----------+----------+\n",
       "| Tom Hanks | 189      |\n",
       "+-----------+----------+\n",
       "6 rows in set (0.00 sec)"
      ]
     },
     "execution_count": 11,
     "metadata": {},
     "output_type": "execute_result"
    }
   ],
   "source": [
    "SELECT actors.name,\n",
    "       casting.movie_id\n",
    "  FROM actors\n",
    "  JOIN casting\n",
    "    ON actors.id = casting.actor_id\n",
    " WHERE actors.name = 'Tom Hanks';"
   ]
  },
  {
   "cell_type": "markdown",
   "id": "d40d4e91",
   "metadata": {
    "slideshow": {
     "slide_type": "subslide"
    }
   },
   "source": [
    "## 留意觀測值的的交集、對稱差集與聯集關係\n",
    "\n",
    "舉例來說，如果我們利用子查詢設計左表格為阿甘正傳與搶救雷恩大兵的電影資料；設計右表格為阿甘正傳與神鬼交鋒的演員卡司。"
   ]
  },
  {
   "cell_type": "code",
   "execution_count": 12,
   "id": "92f8cb08",
   "metadata": {
    "slideshow": {
     "slide_type": "-"
    }
   },
   "outputs": [
    {
     "data": {
      "text/html": [
       "<table>\n",
       "<tr>\n",
       "<th>id</th>\n",
       "<th>title</th>\n",
       "<th>release_year</th>\n",
       "<th>rating</th>\n",
       "<th>director</th>\n",
       "<th>runtime</th>\n",
       "</tr>\n",
       "<tr>\n",
       "<td>12</td>\n",
       "<td>Forrest Gump</td>\n",
       "<td>1994</td>\n",
       "<td>8.8</td>\n",
       "<td>Robert Zemeckis</td>\n",
       "<td>142</td>\n",
       "</tr>\n",
       "<tr>\n",
       "<td>26</td>\n",
       "<td>Saving Private Ryan</td>\n",
       "<td>1998</td>\n",
       "<td>8.6</td>\n",
       "<td>Steven Spielberg</td>\n",
       "<td>169</td>\n",
       "</tr>\n",
       "</table>\n",
       "2 rows in set (0.00 sec)"
      ],
      "text/plain": [
       "+----+---------------------+--------------+--------+------------------+---------+\n",
       "| id | title               | release_year | rating | director         | runtime |\n",
       "+----+---------------------+--------------+--------+------------------+---------+\n",
       "| 12 | Forrest Gump        | 1994         | 8.8    | Robert Zemeckis  | 142     |\n",
       "+----+---------------------+--------------+--------+------------------+---------+\n",
       "| 26 | Saving Private Ryan | 1998         | 8.6    | Steven Spielberg | 169     |\n",
       "+----+---------------------+--------------+--------+------------------+---------+\n",
       "2 rows in set (0.00 sec)"
      ]
     },
     "execution_count": 12,
     "metadata": {},
     "output_type": "execute_result"
    }
   ],
   "source": [
    "SELECT *\n",
    "  FROM movies\n",
    " WHERE id IN (12, 26); -- AS left_table"
   ]
  },
  {
   "cell_type": "code",
   "execution_count": 13,
   "id": "161f3562",
   "metadata": {
    "slideshow": {
     "slide_type": "-"
    }
   },
   "outputs": [
    {
     "data": {
      "text/html": [
       "<table>\n",
       "<tr>\n",
       "<th>movie_id</th>\n",
       "<th>actor_id</th>\n",
       "<th>ord</th>\n",
       "</tr>\n",
       "<tr>\n",
       "<td>12</td>\n",
       "<td>2865</td>\n",
       "<td>1</td>\n",
       "</tr>\n",
       "<tr>\n",
       "<td>12</td>\n",
       "<td>2404</td>\n",
       "<td>2</td>\n",
       "</tr>\n",
       "<tr>\n",
       "<td>12</td>\n",
       "<td>2571</td>\n",
       "<td>3</td>\n",
       "</tr>\n",
       "<tr>\n",
       "<td>12</td>\n",
       "<td>2017</td>\n",
       "<td>4</td>\n",
       "</tr>\n",
       "<tr>\n",
       "<td>12</td>\n",
       "<td>1126</td>\n",
       "<td>5</td>\n",
       "</tr>\n",
       "<tr>\n",
       "<td>12</td>\n",
       "<td>1007</td>\n",
       "<td>6</td>\n",
       "</tr>\n",
       "<tr>\n",
       "<td>12</td>\n",
       "<td>337</td>\n",
       "<td>7</td>\n",
       "</tr>\n",
       "<tr>\n",
       "<td>12</td>\n",
       "<td>1488</td>\n",
       "<td>8</td>\n",
       "</tr>\n",
       "<tr>\n",
       "<td>12</td>\n",
       "<td>2575</td>\n",
       "<td>9</td>\n",
       "</tr>\n",
       "<tr>\n",
       "<td>12</td>\n",
       "<td>1894</td>\n",
       "<td>10</td>\n",
       "</tr>\n",
       "<tr>\n",
       "<td>12</td>\n",
       "<td>1233</td>\n",
       "<td>11</td>\n",
       "</tr>\n",
       "<tr>\n",
       "<td>12</td>\n",
       "<td>510</td>\n",
       "<td>12</td>\n",
       "</tr>\n",
       "<tr>\n",
       "<td>12</td>\n",
       "<td>1499</td>\n",
       "<td>13</td>\n",
       "</tr>\n",
       "<tr>\n",
       "<td>12</td>\n",
       "<td>2294</td>\n",
       "<td>14</td>\n",
       "</tr>\n",
       "<tr>\n",
       "<td>12</td>\n",
       "<td>2699</td>\n",
       "<td>15</td>\n",
       "</tr>\n",
       "<tr>\n",
       "<td>189</td>\n",
       "<td>1773</td>\n",
       "<td>1</td>\n",
       "</tr>\n",
       "<tr>\n",
       "<td>189</td>\n",
       "<td>2865</td>\n",
       "<td>2</td>\n",
       "</tr>\n",
       "<tr>\n",
       "<td>189</td>\n",
       "<td>524</td>\n",
       "<td>3</td>\n",
       "</tr>\n",
       "<tr>\n",
       "<td>189</td>\n",
       "<td>1940</td>\n",
       "<td>4</td>\n",
       "</tr>\n",
       "<tr>\n",
       "<td>189</td>\n",
       "<td>2140</td>\n",
       "<td>5</td>\n",
       "</tr>\n",
       "<tr>\n",
       "<td>189</td>\n",
       "<td>118</td>\n",
       "<td>6</td>\n",
       "</tr>\n",
       "<tr>\n",
       "<td>189</td>\n",
       "<td>1295</td>\n",
       "<td>7</td>\n",
       "</tr>\n",
       "<tr>\n",
       "<td>189</td>\n",
       "<td>362</td>\n",
       "<td>8</td>\n",
       "</tr>\n",
       "<tr>\n",
       "<td>189</td>\n",
       "<td>931</td>\n",
       "<td>9</td>\n",
       "</tr>\n",
       "<tr>\n",
       "<td>189</td>\n",
       "<td>2738</td>\n",
       "<td>10</td>\n",
       "</tr>\n",
       "<tr>\n",
       "<td>189</td>\n",
       "<td>492</td>\n",
       "<td>11</td>\n",
       "</tr>\n",
       "<tr>\n",
       "<td>189</td>\n",
       "<td>1466</td>\n",
       "<td>12</td>\n",
       "</tr>\n",
       "<tr>\n",
       "<td>189</td>\n",
       "<td>1378</td>\n",
       "<td>13</td>\n",
       "</tr>\n",
       "<tr>\n",
       "<td>189</td>\n",
       "<td>2124</td>\n",
       "<td>14</td>\n",
       "</tr>\n",
       "<tr>\n",
       "<td>189</td>\n",
       "<td>810</td>\n",
       "<td>15</td>\n",
       "</tr>\n",
       "</table>\n",
       "30 rows in set (0.00 sec)"
      ],
      "text/plain": [
       "+----------+----------+-----+\n",
       "| movie_id | actor_id | ord |\n",
       "+----------+----------+-----+\n",
       "| 12       | 2865     | 1   |\n",
       "+----------+----------+-----+\n",
       "| 12       | 2404     | 2   |\n",
       "+----------+----------+-----+\n",
       "| 12       | 2571     | 3   |\n",
       "+----------+----------+-----+\n",
       "| 12       | 2017     | 4   |\n",
       "+----------+----------+-----+\n",
       "| 12       | 1126     | 5   |\n",
       "+----------+----------+-----+\n",
       "| 12       | 1007     | 6   |\n",
       "+----------+----------+-----+\n",
       "| 12       | 337      | 7   |\n",
       "+----------+----------+-----+\n",
       "| 12       | 1488     | 8   |\n",
       "+----------+----------+-----+\n",
       "| 12       | 2575     | 9   |\n",
       "+----------+----------+-----+\n",
       "| 12       | 1894     | 10  |\n",
       "+----------+----------+-----+\n",
       "| 12       | 1233     | 11  |\n",
       "+----------+----------+-----+\n",
       "| 12       | 510      | 12  |\n",
       "+----------+----------+-----+\n",
       "| 12       | 1499     | 13  |\n",
       "+----------+----------+-----+\n",
       "| 12       | 2294     | 14  |\n",
       "+----------+----------+-----+\n",
       "| 12       | 2699     | 15  |\n",
       "+----------+----------+-----+\n",
       "| 189      | 1773     | 1   |\n",
       "+----------+----------+-----+\n",
       "| 189      | 2865     | 2   |\n",
       "+----------+----------+-----+\n",
       "| 189      | 524      | 3   |\n",
       "+----------+----------+-----+\n",
       "| 189      | 1940     | 4   |\n",
       "+----------+----------+-----+\n",
       "| 189      | 2140     | 5   |\n",
       "+----------+----------+-----+\n",
       "| 189      | 118      | 6   |\n",
       "+----------+----------+-----+\n",
       "| 189      | 1295     | 7   |\n",
       "+----------+----------+-----+\n",
       "| 189      | 362      | 8   |\n",
       "+----------+----------+-----+\n",
       "| 189      | 931      | 9   |\n",
       "+----------+----------+-----+\n",
       "| 189      | 2738     | 10  |\n",
       "+----------+----------+-----+\n",
       "| 189      | 492      | 11  |\n",
       "+----------+----------+-----+\n",
       "| 189      | 1466     | 12  |\n",
       "+----------+----------+-----+\n",
       "| 189      | 1378     | 13  |\n",
       "+----------+----------+-----+\n",
       "| 189      | 2124     | 14  |\n",
       "+----------+----------+-----+\n",
       "| 189      | 810      | 15  |\n",
       "+----------+----------+-----+\n",
       "30 rows in set (0.00 sec)"
      ]
     },
     "execution_count": 13,
     "metadata": {},
     "output_type": "execute_result"
    }
   ],
   "source": [
    "SELECT *\n",
    "  FROM casting\n",
    " WHERE movie_id IN (12, 189); -- AS right_table"
   ]
  },
  {
   "cell_type": "markdown",
   "id": "auburn-accused",
   "metadata": {
    "slideshow": {
     "slide_type": "subslide"
    }
   },
   "source": [
    "## `JOIN` 觀測值的的交集、內部連接\n",
    "\n",
    "將左表格（阿甘正傳與搶救雷恩大兵的電影資料）與右表格（阿甘正傳與神鬼交鋒的演員卡司）水平合併，結果會是左表格與右表格**交集**的觀測值，也就是阿甘正傳的電影資料、演員卡司，而搶救雷恩大兵的電影資料與神鬼交鋒的演員卡司都不會出現在查詢結果中。"
   ]
  },
  {
   "cell_type": "code",
   "execution_count": 14,
   "id": "b522ea4e",
   "metadata": {
    "slideshow": {
     "slide_type": "subslide"
    }
   },
   "outputs": [
    {
     "data": {
      "text/html": [
       "<table>\n",
       "<tr>\n",
       "<th>id</th>\n",
       "<th>title</th>\n",
       "<th>release_year</th>\n",
       "<th>rating</th>\n",
       "<th>director</th>\n",
       "<th>runtime</th>\n",
       "<th>movie_id</th>\n",
       "<th>actor_id</th>\n",
       "<th>ord</th>\n",
       "</tr>\n",
       "<tr>\n",
       "<td>12</td>\n",
       "<td>Forrest Gump</td>\n",
       "<td>1994</td>\n",
       "<td>8.8</td>\n",
       "<td>Robert Zemeckis</td>\n",
       "<td>142</td>\n",
       "<td>12</td>\n",
       "<td>2865</td>\n",
       "<td>1</td>\n",
       "</tr>\n",
       "<tr>\n",
       "<td>12</td>\n",
       "<td>Forrest Gump</td>\n",
       "<td>1994</td>\n",
       "<td>8.8</td>\n",
       "<td>Robert Zemeckis</td>\n",
       "<td>142</td>\n",
       "<td>12</td>\n",
       "<td>2404</td>\n",
       "<td>2</td>\n",
       "</tr>\n",
       "<tr>\n",
       "<td>12</td>\n",
       "<td>Forrest Gump</td>\n",
       "<td>1994</td>\n",
       "<td>8.8</td>\n",
       "<td>Robert Zemeckis</td>\n",
       "<td>142</td>\n",
       "<td>12</td>\n",
       "<td>2571</td>\n",
       "<td>3</td>\n",
       "</tr>\n",
       "<tr>\n",
       "<td>12</td>\n",
       "<td>Forrest Gump</td>\n",
       "<td>1994</td>\n",
       "<td>8.8</td>\n",
       "<td>Robert Zemeckis</td>\n",
       "<td>142</td>\n",
       "<td>12</td>\n",
       "<td>2017</td>\n",
       "<td>4</td>\n",
       "</tr>\n",
       "<tr>\n",
       "<td>12</td>\n",
       "<td>Forrest Gump</td>\n",
       "<td>1994</td>\n",
       "<td>8.8</td>\n",
       "<td>Robert Zemeckis</td>\n",
       "<td>142</td>\n",
       "<td>12</td>\n",
       "<td>1126</td>\n",
       "<td>5</td>\n",
       "</tr>\n",
       "<tr>\n",
       "<td>12</td>\n",
       "<td>Forrest Gump</td>\n",
       "<td>1994</td>\n",
       "<td>8.8</td>\n",
       "<td>Robert Zemeckis</td>\n",
       "<td>142</td>\n",
       "<td>12</td>\n",
       "<td>1007</td>\n",
       "<td>6</td>\n",
       "</tr>\n",
       "<tr>\n",
       "<td>12</td>\n",
       "<td>Forrest Gump</td>\n",
       "<td>1994</td>\n",
       "<td>8.8</td>\n",
       "<td>Robert Zemeckis</td>\n",
       "<td>142</td>\n",
       "<td>12</td>\n",
       "<td>337</td>\n",
       "<td>7</td>\n",
       "</tr>\n",
       "<tr>\n",
       "<td>12</td>\n",
       "<td>Forrest Gump</td>\n",
       "<td>1994</td>\n",
       "<td>8.8</td>\n",
       "<td>Robert Zemeckis</td>\n",
       "<td>142</td>\n",
       "<td>12</td>\n",
       "<td>1488</td>\n",
       "<td>8</td>\n",
       "</tr>\n",
       "<tr>\n",
       "<td>12</td>\n",
       "<td>Forrest Gump</td>\n",
       "<td>1994</td>\n",
       "<td>8.8</td>\n",
       "<td>Robert Zemeckis</td>\n",
       "<td>142</td>\n",
       "<td>12</td>\n",
       "<td>2575</td>\n",
       "<td>9</td>\n",
       "</tr>\n",
       "<tr>\n",
       "<td>12</td>\n",
       "<td>Forrest Gump</td>\n",
       "<td>1994</td>\n",
       "<td>8.8</td>\n",
       "<td>Robert Zemeckis</td>\n",
       "<td>142</td>\n",
       "<td>12</td>\n",
       "<td>1894</td>\n",
       "<td>10</td>\n",
       "</tr>\n",
       "<tr>\n",
       "<td>12</td>\n",
       "<td>Forrest Gump</td>\n",
       "<td>1994</td>\n",
       "<td>8.8</td>\n",
       "<td>Robert Zemeckis</td>\n",
       "<td>142</td>\n",
       "<td>12</td>\n",
       "<td>1233</td>\n",
       "<td>11</td>\n",
       "</tr>\n",
       "<tr>\n",
       "<td>12</td>\n",
       "<td>Forrest Gump</td>\n",
       "<td>1994</td>\n",
       "<td>8.8</td>\n",
       "<td>Robert Zemeckis</td>\n",
       "<td>142</td>\n",
       "<td>12</td>\n",
       "<td>510</td>\n",
       "<td>12</td>\n",
       "</tr>\n",
       "<tr>\n",
       "<td>12</td>\n",
       "<td>Forrest Gump</td>\n",
       "<td>1994</td>\n",
       "<td>8.8</td>\n",
       "<td>Robert Zemeckis</td>\n",
       "<td>142</td>\n",
       "<td>12</td>\n",
       "<td>1499</td>\n",
       "<td>13</td>\n",
       "</tr>\n",
       "<tr>\n",
       "<td>12</td>\n",
       "<td>Forrest Gump</td>\n",
       "<td>1994</td>\n",
       "<td>8.8</td>\n",
       "<td>Robert Zemeckis</td>\n",
       "<td>142</td>\n",
       "<td>12</td>\n",
       "<td>2294</td>\n",
       "<td>14</td>\n",
       "</tr>\n",
       "<tr>\n",
       "<td>12</td>\n",
       "<td>Forrest Gump</td>\n",
       "<td>1994</td>\n",
       "<td>8.8</td>\n",
       "<td>Robert Zemeckis</td>\n",
       "<td>142</td>\n",
       "<td>12</td>\n",
       "<td>2699</td>\n",
       "<td>15</td>\n",
       "</tr>\n",
       "</table>\n",
       "15 rows in set (0.00 sec)"
      ],
      "text/plain": [
       "+----+--------------+--------------+--------+-----------------+---------+----------+----------+-----+\n",
       "| id | title        | release_year | rating | director        | runtime | movie_id | actor_id | ord |\n",
       "+----+--------------+--------------+--------+-----------------+---------+----------+----------+-----+\n",
       "| 12 | Forrest Gump | 1994         | 8.8    | Robert Zemeckis | 142     | 12       | 2865     | 1   |\n",
       "+----+--------------+--------------+--------+-----------------+---------+----------+----------+-----+\n",
       "| 12 | Forrest Gump | 1994         | 8.8    | Robert Zemeckis | 142     | 12       | 2404     | 2   |\n",
       "+----+--------------+--------------+--------+-----------------+---------+----------+----------+-----+\n",
       "| 12 | Forrest Gump | 1994         | 8.8    | Robert Zemeckis | 142     | 12       | 2571     | 3   |\n",
       "+----+--------------+--------------+--------+-----------------+---------+----------+----------+-----+\n",
       "| 12 | Forrest Gump | 1994         | 8.8    | Robert Zemeckis | 142     | 12       | 2017     | 4   |\n",
       "+----+--------------+--------------+--------+-----------------+---------+----------+----------+-----+\n",
       "| 12 | Forrest Gump | 1994         | 8.8    | Robert Zemeckis | 142     | 12       | 1126     | 5   |\n",
       "+----+--------------+--------------+--------+-----------------+---------+----------+----------+-----+\n",
       "| 12 | Forrest Gump | 1994         | 8.8    | Robert Zemeckis | 142     | 12       | 1007     | 6   |\n",
       "+----+--------------+--------------+--------+-----------------+---------+----------+----------+-----+\n",
       "| 12 | Forrest Gump | 1994         | 8.8    | Robert Zemeckis | 142     | 12       | 337      | 7   |\n",
       "+----+--------------+--------------+--------+-----------------+---------+----------+----------+-----+\n",
       "| 12 | Forrest Gump | 1994         | 8.8    | Robert Zemeckis | 142     | 12       | 1488     | 8   |\n",
       "+----+--------------+--------------+--------+-----------------+---------+----------+----------+-----+\n",
       "| 12 | Forrest Gump | 1994         | 8.8    | Robert Zemeckis | 142     | 12       | 2575     | 9   |\n",
       "+----+--------------+--------------+--------+-----------------+---------+----------+----------+-----+\n",
       "| 12 | Forrest Gump | 1994         | 8.8    | Robert Zemeckis | 142     | 12       | 1894     | 10  |\n",
       "+----+--------------+--------------+--------+-----------------+---------+----------+----------+-----+\n",
       "| 12 | Forrest Gump | 1994         | 8.8    | Robert Zemeckis | 142     | 12       | 1233     | 11  |\n",
       "+----+--------------+--------------+--------+-----------------+---------+----------+----------+-----+\n",
       "| 12 | Forrest Gump | 1994         | 8.8    | Robert Zemeckis | 142     | 12       | 510      | 12  |\n",
       "+----+--------------+--------------+--------+-----------------+---------+----------+----------+-----+\n",
       "| 12 | Forrest Gump | 1994         | 8.8    | Robert Zemeckis | 142     | 12       | 1499     | 13  |\n",
       "+----+--------------+--------------+--------+-----------------+---------+----------+----------+-----+\n",
       "| 12 | Forrest Gump | 1994         | 8.8    | Robert Zemeckis | 142     | 12       | 2294     | 14  |\n",
       "+----+--------------+--------------+--------+-----------------+---------+----------+----------+-----+\n",
       "| 12 | Forrest Gump | 1994         | 8.8    | Robert Zemeckis | 142     | 12       | 2699     | 15  |\n",
       "+----+--------------+--------------+--------+-----------------+---------+----------+----------+-----+\n",
       "15 rows in set (0.00 sec)"
      ]
     },
     "execution_count": 14,
     "metadata": {},
     "output_type": "execute_result"
    }
   ],
   "source": [
    "SELECT *\n",
    "  FROM (\n",
    "           SELECT *\n",
    "             FROM movies\n",
    "            WHERE id IN (12, 26)\n",
    "       )\n",
    "       AS left_table\n",
    "  JOIN\n",
    "       (\n",
    "           SELECT *\n",
    "             FROM casting\n",
    "            WHERE movie_id IN (12, 189)\n",
    "       )\n",
    "       AS right_table\n",
    "    ON left_table.id = right_table.movie_id;"
   ]
  },
  {
   "cell_type": "markdown",
   "id": "characteristic-telescope",
   "metadata": {
    "slideshow": {
     "slide_type": "subslide"
    }
   },
   "source": [
    "## `LEFT JOIN` 觀測值的差集（左資料表差集右資料表）、左外部連接\n",
    "\n",
    "改使用 `LEFT JOIN` 可以變為保留左表格（主要表格）的觀測值。也就是阿甘正傳與搶救雷恩大兵的電影資料、阿甘正傳的演員卡司，搶救雷恩大兵因為沒有演員卡司可以連接，所以得到空值 `NULL`。"
   ]
  },
  {
   "cell_type": "code",
   "execution_count": 15,
   "id": "confidential-airline",
   "metadata": {
    "slideshow": {
     "slide_type": "subslide"
    }
   },
   "outputs": [
    {
     "data": {
      "text/html": [
       "<table>\n",
       "<tr>\n",
       "<th>id</th>\n",
       "<th>title</th>\n",
       "<th>release_year</th>\n",
       "<th>rating</th>\n",
       "<th>director</th>\n",
       "<th>runtime</th>\n",
       "<th>movie_id</th>\n",
       "<th>actor_id</th>\n",
       "<th>ord</th>\n",
       "</tr>\n",
       "<tr>\n",
       "<td>12</td>\n",
       "<td>Forrest Gump</td>\n",
       "<td>1994</td>\n",
       "<td>8.8</td>\n",
       "<td>Robert Zemeckis</td>\n",
       "<td>142</td>\n",
       "<td>12</td>\n",
       "<td>2865</td>\n",
       "<td>1</td>\n",
       "</tr>\n",
       "<tr>\n",
       "<td>12</td>\n",
       "<td>Forrest Gump</td>\n",
       "<td>1994</td>\n",
       "<td>8.8</td>\n",
       "<td>Robert Zemeckis</td>\n",
       "<td>142</td>\n",
       "<td>12</td>\n",
       "<td>2404</td>\n",
       "<td>2</td>\n",
       "</tr>\n",
       "<tr>\n",
       "<td>12</td>\n",
       "<td>Forrest Gump</td>\n",
       "<td>1994</td>\n",
       "<td>8.8</td>\n",
       "<td>Robert Zemeckis</td>\n",
       "<td>142</td>\n",
       "<td>12</td>\n",
       "<td>2571</td>\n",
       "<td>3</td>\n",
       "</tr>\n",
       "<tr>\n",
       "<td>12</td>\n",
       "<td>Forrest Gump</td>\n",
       "<td>1994</td>\n",
       "<td>8.8</td>\n",
       "<td>Robert Zemeckis</td>\n",
       "<td>142</td>\n",
       "<td>12</td>\n",
       "<td>2017</td>\n",
       "<td>4</td>\n",
       "</tr>\n",
       "<tr>\n",
       "<td>12</td>\n",
       "<td>Forrest Gump</td>\n",
       "<td>1994</td>\n",
       "<td>8.8</td>\n",
       "<td>Robert Zemeckis</td>\n",
       "<td>142</td>\n",
       "<td>12</td>\n",
       "<td>1126</td>\n",
       "<td>5</td>\n",
       "</tr>\n",
       "<tr>\n",
       "<td>12</td>\n",
       "<td>Forrest Gump</td>\n",
       "<td>1994</td>\n",
       "<td>8.8</td>\n",
       "<td>Robert Zemeckis</td>\n",
       "<td>142</td>\n",
       "<td>12</td>\n",
       "<td>1007</td>\n",
       "<td>6</td>\n",
       "</tr>\n",
       "<tr>\n",
       "<td>12</td>\n",
       "<td>Forrest Gump</td>\n",
       "<td>1994</td>\n",
       "<td>8.8</td>\n",
       "<td>Robert Zemeckis</td>\n",
       "<td>142</td>\n",
       "<td>12</td>\n",
       "<td>337</td>\n",
       "<td>7</td>\n",
       "</tr>\n",
       "<tr>\n",
       "<td>12</td>\n",
       "<td>Forrest Gump</td>\n",
       "<td>1994</td>\n",
       "<td>8.8</td>\n",
       "<td>Robert Zemeckis</td>\n",
       "<td>142</td>\n",
       "<td>12</td>\n",
       "<td>1488</td>\n",
       "<td>8</td>\n",
       "</tr>\n",
       "<tr>\n",
       "<td>12</td>\n",
       "<td>Forrest Gump</td>\n",
       "<td>1994</td>\n",
       "<td>8.8</td>\n",
       "<td>Robert Zemeckis</td>\n",
       "<td>142</td>\n",
       "<td>12</td>\n",
       "<td>2575</td>\n",
       "<td>9</td>\n",
       "</tr>\n",
       "<tr>\n",
       "<td>12</td>\n",
       "<td>Forrest Gump</td>\n",
       "<td>1994</td>\n",
       "<td>8.8</td>\n",
       "<td>Robert Zemeckis</td>\n",
       "<td>142</td>\n",
       "<td>12</td>\n",
       "<td>1894</td>\n",
       "<td>10</td>\n",
       "</tr>\n",
       "<tr>\n",
       "<td>12</td>\n",
       "<td>Forrest Gump</td>\n",
       "<td>1994</td>\n",
       "<td>8.8</td>\n",
       "<td>Robert Zemeckis</td>\n",
       "<td>142</td>\n",
       "<td>12</td>\n",
       "<td>1233</td>\n",
       "<td>11</td>\n",
       "</tr>\n",
       "<tr>\n",
       "<td>12</td>\n",
       "<td>Forrest Gump</td>\n",
       "<td>1994</td>\n",
       "<td>8.8</td>\n",
       "<td>Robert Zemeckis</td>\n",
       "<td>142</td>\n",
       "<td>12</td>\n",
       "<td>510</td>\n",
       "<td>12</td>\n",
       "</tr>\n",
       "<tr>\n",
       "<td>12</td>\n",
       "<td>Forrest Gump</td>\n",
       "<td>1994</td>\n",
       "<td>8.8</td>\n",
       "<td>Robert Zemeckis</td>\n",
       "<td>142</td>\n",
       "<td>12</td>\n",
       "<td>1499</td>\n",
       "<td>13</td>\n",
       "</tr>\n",
       "<tr>\n",
       "<td>12</td>\n",
       "<td>Forrest Gump</td>\n",
       "<td>1994</td>\n",
       "<td>8.8</td>\n",
       "<td>Robert Zemeckis</td>\n",
       "<td>142</td>\n",
       "<td>12</td>\n",
       "<td>2294</td>\n",
       "<td>14</td>\n",
       "</tr>\n",
       "<tr>\n",
       "<td>12</td>\n",
       "<td>Forrest Gump</td>\n",
       "<td>1994</td>\n",
       "<td>8.8</td>\n",
       "<td>Robert Zemeckis</td>\n",
       "<td>142</td>\n",
       "<td>12</td>\n",
       "<td>2699</td>\n",
       "<td>15</td>\n",
       "</tr>\n",
       "<tr>\n",
       "<td>26</td>\n",
       "<td>Saving Private Ryan</td>\n",
       "<td>1998</td>\n",
       "<td>8.6</td>\n",
       "<td>Steven Spielberg</td>\n",
       "<td>169</td>\n",
       "<td>NULL</td>\n",
       "<td>NULL</td>\n",
       "<td>NULL</td>\n",
       "</tr>\n",
       "</table>\n",
       "16 rows in set (0.00 sec)"
      ],
      "text/plain": [
       "+----+---------------------+--------------+--------+------------------+---------+----------+----------+------+\n",
       "| id | title               | release_year | rating | director         | runtime | movie_id | actor_id | ord  |\n",
       "+----+---------------------+--------------+--------+------------------+---------+----------+----------+------+\n",
       "| 12 | Forrest Gump        | 1994         | 8.8    | Robert Zemeckis  | 142     | 12       | 2865     | 1    |\n",
       "+----+---------------------+--------------+--------+------------------+---------+----------+----------+------+\n",
       "| 12 | Forrest Gump        | 1994         | 8.8    | Robert Zemeckis  | 142     | 12       | 2404     | 2    |\n",
       "+----+---------------------+--------------+--------+------------------+---------+----------+----------+------+\n",
       "| 12 | Forrest Gump        | 1994         | 8.8    | Robert Zemeckis  | 142     | 12       | 2571     | 3    |\n",
       "+----+---------------------+--------------+--------+------------------+---------+----------+----------+------+\n",
       "| 12 | Forrest Gump        | 1994         | 8.8    | Robert Zemeckis  | 142     | 12       | 2017     | 4    |\n",
       "+----+---------------------+--------------+--------+------------------+---------+----------+----------+------+\n",
       "| 12 | Forrest Gump        | 1994         | 8.8    | Robert Zemeckis  | 142     | 12       | 1126     | 5    |\n",
       "+----+---------------------+--------------+--------+------------------+---------+----------+----------+------+\n",
       "| 12 | Forrest Gump        | 1994         | 8.8    | Robert Zemeckis  | 142     | 12       | 1007     | 6    |\n",
       "+----+---------------------+--------------+--------+------------------+---------+----------+----------+------+\n",
       "| 12 | Forrest Gump        | 1994         | 8.8    | Robert Zemeckis  | 142     | 12       | 337      | 7    |\n",
       "+----+---------------------+--------------+--------+------------------+---------+----------+----------+------+\n",
       "| 12 | Forrest Gump        | 1994         | 8.8    | Robert Zemeckis  | 142     | 12       | 1488     | 8    |\n",
       "+----+---------------------+--------------+--------+------------------+---------+----------+----------+------+\n",
       "| 12 | Forrest Gump        | 1994         | 8.8    | Robert Zemeckis  | 142     | 12       | 2575     | 9    |\n",
       "+----+---------------------+--------------+--------+------------------+---------+----------+----------+------+\n",
       "| 12 | Forrest Gump        | 1994         | 8.8    | Robert Zemeckis  | 142     | 12       | 1894     | 10   |\n",
       "+----+---------------------+--------------+--------+------------------+---------+----------+----------+------+\n",
       "| 12 | Forrest Gump        | 1994         | 8.8    | Robert Zemeckis  | 142     | 12       | 1233     | 11   |\n",
       "+----+---------------------+--------------+--------+------------------+---------+----------+----------+------+\n",
       "| 12 | Forrest Gump        | 1994         | 8.8    | Robert Zemeckis  | 142     | 12       | 510      | 12   |\n",
       "+----+---------------------+--------------+--------+------------------+---------+----------+----------+------+\n",
       "| 12 | Forrest Gump        | 1994         | 8.8    | Robert Zemeckis  | 142     | 12       | 1499     | 13   |\n",
       "+----+---------------------+--------------+--------+------------------+---------+----------+----------+------+\n",
       "| 12 | Forrest Gump        | 1994         | 8.8    | Robert Zemeckis  | 142     | 12       | 2294     | 14   |\n",
       "+----+---------------------+--------------+--------+------------------+---------+----------+----------+------+\n",
       "| 12 | Forrest Gump        | 1994         | 8.8    | Robert Zemeckis  | 142     | 12       | 2699     | 15   |\n",
       "+----+---------------------+--------------+--------+------------------+---------+----------+----------+------+\n",
       "| 26 | Saving Private Ryan | 1998         | 8.6    | Steven Spielberg | 169     | NULL     | NULL     | NULL |\n",
       "+----+---------------------+--------------+--------+------------------+---------+----------+----------+------+\n",
       "16 rows in set (0.00 sec)"
      ]
     },
     "execution_count": 15,
     "metadata": {},
     "output_type": "execute_result"
    }
   ],
   "source": [
    "SELECT *\n",
    "  FROM (\n",
    "           SELECT *\n",
    "             FROM movies\n",
    "            WHERE id IN (12, 26)\n",
    "       )\n",
    "       AS left_table\n",
    "  LEFT JOIN\n",
    "       (\n",
    "           SELECT *\n",
    "             FROM casting\n",
    "            WHERE movie_id IN (12, 189)\n",
    "       )\n",
    "       AS right_table\n",
    "    ON left_table.id = right_table.movie_id;"
   ]
  },
  {
   "cell_type": "markdown",
   "id": "c27d6d27",
   "metadata": {
    "slideshow": {
     "slide_type": "subslide"
    }
   },
   "source": [
    "## `RIGHT JOIN` 觀測值的差集（右資料表差集左資料表）、右外部連接\n",
    "\n",
    "雖然 SQLite 關聯式資料庫管理系統並沒有 `RIGHT JOIN` 可以直接使用來變為保留右表格（次要表格）的觀測值，但因為左、右是相對的，其實可以沿用 `LEFT JOIN` 但是把左表格與右表格互換，藉此達到預期的效果。也就是阿甘正傳與神鬼交鋒的演員卡司、阿甘正傳的電影資料，神鬼交鋒因為沒有電影資料可以連接，所以得到空值 `NULL`。"
   ]
  },
  {
   "cell_type": "code",
   "execution_count": 16,
   "id": "0b6c05ed",
   "metadata": {
    "slideshow": {
     "slide_type": "subslide"
    }
   },
   "outputs": [
    {
     "data": {
      "text/html": [
       "<table>\n",
       "<tr>\n",
       "<th>movie_id</th>\n",
       "<th>actor_id</th>\n",
       "<th>ord</th>\n",
       "<th>id</th>\n",
       "<th>title</th>\n",
       "<th>release_year</th>\n",
       "<th>rating</th>\n",
       "<th>director</th>\n",
       "<th>runtime</th>\n",
       "</tr>\n",
       "<tr>\n",
       "<td>11</td>\n",
       "<td>782</td>\n",
       "<td>1</td>\n",
       "<td>NULL</td>\n",
       "<td>NULL</td>\n",
       "<td>NULL</td>\n",
       "<td>NULL</td>\n",
       "<td>NULL</td>\n",
       "<td>NULL</td>\n",
       "</tr>\n",
       "<tr>\n",
       "<td>11</td>\n",
       "<td>352</td>\n",
       "<td>2</td>\n",
       "<td>NULL</td>\n",
       "<td>NULL</td>\n",
       "<td>NULL</td>\n",
       "<td>NULL</td>\n",
       "<td>NULL</td>\n",
       "<td>NULL</td>\n",
       "</tr>\n",
       "<tr>\n",
       "<td>11</td>\n",
       "<td>1989</td>\n",
       "<td>3</td>\n",
       "<td>NULL</td>\n",
       "<td>NULL</td>\n",
       "<td>NULL</td>\n",
       "<td>NULL</td>\n",
       "<td>NULL</td>\n",
       "<td>NULL</td>\n",
       "</tr>\n",
       "<tr>\n",
       "<td>11</td>\n",
       "<td>3085</td>\n",
       "<td>4</td>\n",
       "<td>NULL</td>\n",
       "<td>NULL</td>\n",
       "<td>NULL</td>\n",
       "<td>NULL</td>\n",
       "<td>NULL</td>\n",
       "<td>NULL</td>\n",
       "</tr>\n",
       "<tr>\n",
       "<td>11</td>\n",
       "<td>2448</td>\n",
       "<td>5</td>\n",
       "<td>NULL</td>\n",
       "<td>NULL</td>\n",
       "<td>NULL</td>\n",
       "<td>NULL</td>\n",
       "<td>NULL</td>\n",
       "<td>NULL</td>\n",
       "</tr>\n",
       "<tr>\n",
       "<td>11</td>\n",
       "<td>638</td>\n",
       "<td>6</td>\n",
       "<td>NULL</td>\n",
       "<td>NULL</td>\n",
       "<td>NULL</td>\n",
       "<td>NULL</td>\n",
       "<td>NULL</td>\n",
       "<td>NULL</td>\n",
       "</tr>\n",
       "<tr>\n",
       "<td>11</td>\n",
       "<td>1013</td>\n",
       "<td>7</td>\n",
       "<td>NULL</td>\n",
       "<td>NULL</td>\n",
       "<td>NULL</td>\n",
       "<td>NULL</td>\n",
       "<td>NULL</td>\n",
       "<td>NULL</td>\n",
       "</tr>\n",
       "<tr>\n",
       "<td>11</td>\n",
       "<td>867</td>\n",
       "<td>8</td>\n",
       "<td>NULL</td>\n",
       "<td>NULL</td>\n",
       "<td>NULL</td>\n",
       "<td>NULL</td>\n",
       "<td>NULL</td>\n",
       "<td>NULL</td>\n",
       "</tr>\n",
       "<tr>\n",
       "<td>11</td>\n",
       "<td>1165</td>\n",
       "<td>9</td>\n",
       "<td>NULL</td>\n",
       "<td>NULL</td>\n",
       "<td>NULL</td>\n",
       "<td>NULL</td>\n",
       "<td>NULL</td>\n",
       "<td>NULL</td>\n",
       "</tr>\n",
       "<tr>\n",
       "<td>11</td>\n",
       "<td>507</td>\n",
       "<td>10</td>\n",
       "<td>NULL</td>\n",
       "<td>NULL</td>\n",
       "<td>NULL</td>\n",
       "<td>NULL</td>\n",
       "<td>NULL</td>\n",
       "<td>NULL</td>\n",
       "</tr>\n",
       "<tr>\n",
       "<td>11</td>\n",
       "<td>2769</td>\n",
       "<td>11</td>\n",
       "<td>NULL</td>\n",
       "<td>NULL</td>\n",
       "<td>NULL</td>\n",
       "<td>NULL</td>\n",
       "<td>NULL</td>\n",
       "<td>NULL</td>\n",
       "</tr>\n",
       "<tr>\n",
       "<td>11</td>\n",
       "<td>2359</td>\n",
       "<td>12</td>\n",
       "<td>NULL</td>\n",
       "<td>NULL</td>\n",
       "<td>NULL</td>\n",
       "<td>NULL</td>\n",
       "<td>NULL</td>\n",
       "<td>NULL</td>\n",
       "</tr>\n",
       "<tr>\n",
       "<td>11</td>\n",
       "<td>506</td>\n",
       "<td>13</td>\n",
       "<td>NULL</td>\n",
       "<td>NULL</td>\n",
       "<td>NULL</td>\n",
       "<td>NULL</td>\n",
       "<td>NULL</td>\n",
       "<td>NULL</td>\n",
       "</tr>\n",
       "<tr>\n",
       "<td>11</td>\n",
       "<td>2849</td>\n",
       "<td>14</td>\n",
       "<td>NULL</td>\n",
       "<td>NULL</td>\n",
       "<td>NULL</td>\n",
       "<td>NULL</td>\n",
       "<td>NULL</td>\n",
       "<td>NULL</td>\n",
       "</tr>\n",
       "<tr>\n",
       "<td>11</td>\n",
       "<td>880</td>\n",
       "<td>15</td>\n",
       "<td>NULL</td>\n",
       "<td>NULL</td>\n",
       "<td>NULL</td>\n",
       "<td>NULL</td>\n",
       "<td>NULL</td>\n",
       "<td>NULL</td>\n",
       "</tr>\n",
       "<tr>\n",
       "<td>175</td>\n",
       "<td>1131</td>\n",
       "<td>1</td>\n",
       "<td>NULL</td>\n",
       "<td>NULL</td>\n",
       "<td>NULL</td>\n",
       "<td>NULL</td>\n",
       "<td>NULL</td>\n",
       "<td>NULL</td>\n",
       "</tr>\n",
       "<tr>\n",
       "<td>175</td>\n",
       "<td>2551</td>\n",
       "<td>2</td>\n",
       "<td>NULL</td>\n",
       "<td>NULL</td>\n",
       "<td>NULL</td>\n",
       "<td>NULL</td>\n",
       "<td>NULL</td>\n",
       "<td>NULL</td>\n",
       "</tr>\n",
       "<tr>\n",
       "<td>175</td>\n",
       "<td>2630</td>\n",
       "<td>3</td>\n",
       "<td>NULL</td>\n",
       "<td>NULL</td>\n",
       "<td>NULL</td>\n",
       "<td>NULL</td>\n",
       "<td>NULL</td>\n",
       "<td>NULL</td>\n",
       "</tr>\n",
       "<tr>\n",
       "<td>175</td>\n",
       "<td>780</td>\n",
       "<td>4</td>\n",
       "<td>NULL</td>\n",
       "<td>NULL</td>\n",
       "<td>NULL</td>\n",
       "<td>NULL</td>\n",
       "<td>NULL</td>\n",
       "<td>NULL</td>\n",
       "</tr>\n",
       "<tr>\n",
       "<td>175</td>\n",
       "<td>1840</td>\n",
       "<td>5</td>\n",
       "<td>NULL</td>\n",
       "<td>NULL</td>\n",
       "<td>NULL</td>\n",
       "<td>NULL</td>\n",
       "<td>NULL</td>\n",
       "<td>NULL</td>\n",
       "</tr>\n",
       "<tr>\n",
       "<td>175</td>\n",
       "<td>630</td>\n",
       "<td>6</td>\n",
       "<td>NULL</td>\n",
       "<td>NULL</td>\n",
       "<td>NULL</td>\n",
       "<td>NULL</td>\n",
       "<td>NULL</td>\n",
       "<td>NULL</td>\n",
       "</tr>\n",
       "<tr>\n",
       "<td>175</td>\n",
       "<td>3030</td>\n",
       "<td>7</td>\n",
       "<td>NULL</td>\n",
       "<td>NULL</td>\n",
       "<td>NULL</td>\n",
       "<td>NULL</td>\n",
       "<td>NULL</td>\n",
       "<td>NULL</td>\n",
       "</tr>\n",
       "<tr>\n",
       "<td>175</td>\n",
       "<td>369</td>\n",
       "<td>8</td>\n",
       "<td>NULL</td>\n",
       "<td>NULL</td>\n",
       "<td>NULL</td>\n",
       "<td>NULL</td>\n",
       "<td>NULL</td>\n",
       "<td>NULL</td>\n",
       "</tr>\n",
       "<tr>\n",
       "<td>175</td>\n",
       "<td>1439</td>\n",
       "<td>9</td>\n",
       "<td>NULL</td>\n",
       "<td>NULL</td>\n",
       "<td>NULL</td>\n",
       "<td>NULL</td>\n",
       "<td>NULL</td>\n",
       "<td>NULL</td>\n",
       "</tr>\n",
       "<tr>\n",
       "<td>175</td>\n",
       "<td>1419</td>\n",
       "<td>10</td>\n",
       "<td>NULL</td>\n",
       "<td>NULL</td>\n",
       "<td>NULL</td>\n",
       "<td>NULL</td>\n",
       "<td>NULL</td>\n",
       "<td>NULL</td>\n",
       "</tr>\n",
       "<tr>\n",
       "<td>175</td>\n",
       "<td>1304</td>\n",
       "<td>11</td>\n",
       "<td>NULL</td>\n",
       "<td>NULL</td>\n",
       "<td>NULL</td>\n",
       "<td>NULL</td>\n",
       "<td>NULL</td>\n",
       "<td>NULL</td>\n",
       "</tr>\n",
       "<tr>\n",
       "<td>175</td>\n",
       "<td>2098</td>\n",
       "<td>12</td>\n",
       "<td>NULL</td>\n",
       "<td>NULL</td>\n",
       "<td>NULL</td>\n",
       "<td>NULL</td>\n",
       "<td>NULL</td>\n",
       "<td>NULL</td>\n",
       "</tr>\n",
       "<tr>\n",
       "<td>175</td>\n",
       "<td>1656</td>\n",
       "<td>13</td>\n",
       "<td>NULL</td>\n",
       "<td>NULL</td>\n",
       "<td>NULL</td>\n",
       "<td>NULL</td>\n",
       "<td>NULL</td>\n",
       "<td>NULL</td>\n",
       "</tr>\n",
       "<tr>\n",
       "<td>175</td>\n",
       "<td>1463</td>\n",
       "<td>14</td>\n",
       "<td>NULL</td>\n",
       "<td>NULL</td>\n",
       "<td>NULL</td>\n",
       "<td>NULL</td>\n",
       "<td>NULL</td>\n",
       "<td>NULL</td>\n",
       "</tr>\n",
       "<tr>\n",
       "<td>175</td>\n",
       "<td>1207</td>\n",
       "<td>15</td>\n",
       "<td>NULL</td>\n",
       "<td>NULL</td>\n",
       "<td>NULL</td>\n",
       "<td>NULL</td>\n",
       "<td>NULL</td>\n",
       "<td>NULL</td>\n",
       "</tr>\n",
       "</table>\n",
       "30 rows in set (0.00 sec)"
      ],
      "text/plain": [
       "+----------+----------+-----+------+-------+--------------+--------+----------+---------+\n",
       "| movie_id | actor_id | ord | id   | title | release_year | rating | director | runtime |\n",
       "+----------+----------+-----+------+-------+--------------+--------+----------+---------+\n",
       "| 11       | 782      | 1   | NULL | NULL  | NULL         | NULL   | NULL     | NULL    |\n",
       "+----------+----------+-----+------+-------+--------------+--------+----------+---------+\n",
       "| 11       | 352      | 2   | NULL | NULL  | NULL         | NULL   | NULL     | NULL    |\n",
       "+----------+----------+-----+------+-------+--------------+--------+----------+---------+\n",
       "| 11       | 1989     | 3   | NULL | NULL  | NULL         | NULL   | NULL     | NULL    |\n",
       "+----------+----------+-----+------+-------+--------------+--------+----------+---------+\n",
       "| 11       | 3085     | 4   | NULL | NULL  | NULL         | NULL   | NULL     | NULL    |\n",
       "+----------+----------+-----+------+-------+--------------+--------+----------+---------+\n",
       "| 11       | 2448     | 5   | NULL | NULL  | NULL         | NULL   | NULL     | NULL    |\n",
       "+----------+----------+-----+------+-------+--------------+--------+----------+---------+\n",
       "| 11       | 638      | 6   | NULL | NULL  | NULL         | NULL   | NULL     | NULL    |\n",
       "+----------+----------+-----+------+-------+--------------+--------+----------+---------+\n",
       "| 11       | 1013     | 7   | NULL | NULL  | NULL         | NULL   | NULL     | NULL    |\n",
       "+----------+----------+-----+------+-------+--------------+--------+----------+---------+\n",
       "| 11       | 867      | 8   | NULL | NULL  | NULL         | NULL   | NULL     | NULL    |\n",
       "+----------+----------+-----+------+-------+--------------+--------+----------+---------+\n",
       "| 11       | 1165     | 9   | NULL | NULL  | NULL         | NULL   | NULL     | NULL    |\n",
       "+----------+----------+-----+------+-------+--------------+--------+----------+---------+\n",
       "| 11       | 507      | 10  | NULL | NULL  | NULL         | NULL   | NULL     | NULL    |\n",
       "+----------+----------+-----+------+-------+--------------+--------+----------+---------+\n",
       "| 11       | 2769     | 11  | NULL | NULL  | NULL         | NULL   | NULL     | NULL    |\n",
       "+----------+----------+-----+------+-------+--------------+--------+----------+---------+\n",
       "| 11       | 2359     | 12  | NULL | NULL  | NULL         | NULL   | NULL     | NULL    |\n",
       "+----------+----------+-----+------+-------+--------------+--------+----------+---------+\n",
       "| 11       | 506      | 13  | NULL | NULL  | NULL         | NULL   | NULL     | NULL    |\n",
       "+----------+----------+-----+------+-------+--------------+--------+----------+---------+\n",
       "| 11       | 2849     | 14  | NULL | NULL  | NULL         | NULL   | NULL     | NULL    |\n",
       "+----------+----------+-----+------+-------+--------------+--------+----------+---------+\n",
       "| 11       | 880      | 15  | NULL | NULL  | NULL         | NULL   | NULL     | NULL    |\n",
       "+----------+----------+-----+------+-------+--------------+--------+----------+---------+\n",
       "| 175      | 1131     | 1   | NULL | NULL  | NULL         | NULL   | NULL     | NULL    |\n",
       "+----------+----------+-----+------+-------+--------------+--------+----------+---------+\n",
       "| 175      | 2551     | 2   | NULL | NULL  | NULL         | NULL   | NULL     | NULL    |\n",
       "+----------+----------+-----+------+-------+--------------+--------+----------+---------+\n",
       "| 175      | 2630     | 3   | NULL | NULL  | NULL         | NULL   | NULL     | NULL    |\n",
       "+----------+----------+-----+------+-------+--------------+--------+----------+---------+\n",
       "| 175      | 780      | 4   | NULL | NULL  | NULL         | NULL   | NULL     | NULL    |\n",
       "+----------+----------+-----+------+-------+--------------+--------+----------+---------+\n",
       "| 175      | 1840     | 5   | NULL | NULL  | NULL         | NULL   | NULL     | NULL    |\n",
       "+----------+----------+-----+------+-------+--------------+--------+----------+---------+\n",
       "| 175      | 630      | 6   | NULL | NULL  | NULL         | NULL   | NULL     | NULL    |\n",
       "+----------+----------+-----+------+-------+--------------+--------+----------+---------+\n",
       "| 175      | 3030     | 7   | NULL | NULL  | NULL         | NULL   | NULL     | NULL    |\n",
       "+----------+----------+-----+------+-------+--------------+--------+----------+---------+\n",
       "| 175      | 369      | 8   | NULL | NULL  | NULL         | NULL   | NULL     | NULL    |\n",
       "+----------+----------+-----+------+-------+--------------+--------+----------+---------+\n",
       "| 175      | 1439     | 9   | NULL | NULL  | NULL         | NULL   | NULL     | NULL    |\n",
       "+----------+----------+-----+------+-------+--------------+--------+----------+---------+\n",
       "| 175      | 1419     | 10  | NULL | NULL  | NULL         | NULL   | NULL     | NULL    |\n",
       "+----------+----------+-----+------+-------+--------------+--------+----------+---------+\n",
       "| 175      | 1304     | 11  | NULL | NULL  | NULL         | NULL   | NULL     | NULL    |\n",
       "+----------+----------+-----+------+-------+--------------+--------+----------+---------+\n",
       "| 175      | 2098     | 12  | NULL | NULL  | NULL         | NULL   | NULL     | NULL    |\n",
       "+----------+----------+-----+------+-------+--------------+--------+----------+---------+\n",
       "| 175      | 1656     | 13  | NULL | NULL  | NULL         | NULL   | NULL     | NULL    |\n",
       "+----------+----------+-----+------+-------+--------------+--------+----------+---------+\n",
       "| 175      | 1463     | 14  | NULL | NULL  | NULL         | NULL   | NULL     | NULL    |\n",
       "+----------+----------+-----+------+-------+--------------+--------+----------+---------+\n",
       "| 175      | 1207     | 15  | NULL | NULL  | NULL         | NULL   | NULL     | NULL    |\n",
       "+----------+----------+-----+------+-------+--------------+--------+----------+---------+\n",
       "30 rows in set (0.00 sec)"
      ]
     },
     "execution_count": 16,
     "metadata": {},
     "output_type": "execute_result"
    }
   ],
   "source": [
    "SELECT *\n",
    "  FROM (\n",
    "           SELECT *\n",
    "             FROM casting\n",
    "            WHERE movie_id IN (11, 175)  \n",
    "       )\n",
    "       AS left_table\n",
    "  LEFT JOIN\n",
    "       (\n",
    "           SELECT *\n",
    "             FROM movies\n",
    "            WHERE title IN ('Forrest Gump', 'Saving Private Ryan')\n",
    "       )\n",
    "       AS right_table\n",
    "    ON left_table.movie_id = right_table.id;"
   ]
  },
  {
   "cell_type": "markdown",
   "id": "ece98e15",
   "metadata": {
    "slideshow": {
     "slide_type": "subslide"
    }
   },
   "source": [
    "## `FULL JOIN` 觀測值的聯集、全外部連接\n",
    "\n",
    "雖然 SQLite 關聯式資料庫管理系統並沒有 `FULL JOIN` 可以直接使用來變為保留左、右表格（主、次要表格）的觀測值，但我們可以把前述兩個 `LEFT JOIN` 的結果透過 `UNION` 垂直合併，藉此達到預期的效果。也就是阿甘正傳的電影資料與演員卡司、搶救雷恩大兵的電影資料、神鬼交鋒的演員卡司，神鬼交鋒因為沒有電影資料可以連接、搶救雷恩大兵因為沒有演員卡司可以連接，所以都得到空值 `NULL`。"
   ]
  },
  {
   "cell_type": "code",
   "execution_count": 17,
   "id": "b96411de",
   "metadata": {
    "slideshow": {
     "slide_type": "subslide"
    }
   },
   "outputs": [
    {
     "data": {
      "text/html": [
       "<table>\n",
       "<tr>\n",
       "<th>id</th>\n",
       "<th>title</th>\n",
       "<th>actor_id</th>\n",
       "</tr>\n",
       "<tr>\n",
       "<td>NULL</td>\n",
       "<td>NULL</td>\n",
       "<td>352</td>\n",
       "</tr>\n",
       "<tr>\n",
       "<td>NULL</td>\n",
       "<td>NULL</td>\n",
       "<td>369</td>\n",
       "</tr>\n",
       "<tr>\n",
       "<td>NULL</td>\n",
       "<td>NULL</td>\n",
       "<td>506</td>\n",
       "</tr>\n",
       "<tr>\n",
       "<td>NULL</td>\n",
       "<td>NULL</td>\n",
       "<td>507</td>\n",
       "</tr>\n",
       "<tr>\n",
       "<td>NULL</td>\n",
       "<td>NULL</td>\n",
       "<td>630</td>\n",
       "</tr>\n",
       "<tr>\n",
       "<td>NULL</td>\n",
       "<td>NULL</td>\n",
       "<td>638</td>\n",
       "</tr>\n",
       "<tr>\n",
       "<td>NULL</td>\n",
       "<td>NULL</td>\n",
       "<td>780</td>\n",
       "</tr>\n",
       "<tr>\n",
       "<td>NULL</td>\n",
       "<td>NULL</td>\n",
       "<td>782</td>\n",
       "</tr>\n",
       "<tr>\n",
       "<td>NULL</td>\n",
       "<td>NULL</td>\n",
       "<td>867</td>\n",
       "</tr>\n",
       "<tr>\n",
       "<td>NULL</td>\n",
       "<td>NULL</td>\n",
       "<td>880</td>\n",
       "</tr>\n",
       "<tr>\n",
       "<td>NULL</td>\n",
       "<td>NULL</td>\n",
       "<td>1013</td>\n",
       "</tr>\n",
       "<tr>\n",
       "<td>NULL</td>\n",
       "<td>NULL</td>\n",
       "<td>1131</td>\n",
       "</tr>\n",
       "<tr>\n",
       "<td>NULL</td>\n",
       "<td>NULL</td>\n",
       "<td>1165</td>\n",
       "</tr>\n",
       "<tr>\n",
       "<td>NULL</td>\n",
       "<td>NULL</td>\n",
       "<td>1207</td>\n",
       "</tr>\n",
       "<tr>\n",
       "<td>NULL</td>\n",
       "<td>NULL</td>\n",
       "<td>1304</td>\n",
       "</tr>\n",
       "<tr>\n",
       "<td>NULL</td>\n",
       "<td>NULL</td>\n",
       "<td>1419</td>\n",
       "</tr>\n",
       "<tr>\n",
       "<td>NULL</td>\n",
       "<td>NULL</td>\n",
       "<td>1439</td>\n",
       "</tr>\n",
       "<tr>\n",
       "<td>NULL</td>\n",
       "<td>NULL</td>\n",
       "<td>1463</td>\n",
       "</tr>\n",
       "<tr>\n",
       "<td>NULL</td>\n",
       "<td>NULL</td>\n",
       "<td>1656</td>\n",
       "</tr>\n",
       "<tr>\n",
       "<td>NULL</td>\n",
       "<td>NULL</td>\n",
       "<td>1840</td>\n",
       "</tr>\n",
       "<tr>\n",
       "<td>NULL</td>\n",
       "<td>NULL</td>\n",
       "<td>1989</td>\n",
       "</tr>\n",
       "<tr>\n",
       "<td>NULL</td>\n",
       "<td>NULL</td>\n",
       "<td>2098</td>\n",
       "</tr>\n",
       "<tr>\n",
       "<td>NULL</td>\n",
       "<td>NULL</td>\n",
       "<td>2359</td>\n",
       "</tr>\n",
       "<tr>\n",
       "<td>NULL</td>\n",
       "<td>NULL</td>\n",
       "<td>2448</td>\n",
       "</tr>\n",
       "<tr>\n",
       "<td>NULL</td>\n",
       "<td>NULL</td>\n",
       "<td>2551</td>\n",
       "</tr>\n",
       "<tr>\n",
       "<td>NULL</td>\n",
       "<td>NULL</td>\n",
       "<td>2630</td>\n",
       "</tr>\n",
       "<tr>\n",
       "<td>NULL</td>\n",
       "<td>NULL</td>\n",
       "<td>2769</td>\n",
       "</tr>\n",
       "<tr>\n",
       "<td>NULL</td>\n",
       "<td>NULL</td>\n",
       "<td>2849</td>\n",
       "</tr>\n",
       "<tr>\n",
       "<td>NULL</td>\n",
       "<td>NULL</td>\n",
       "<td>3030</td>\n",
       "</tr>\n",
       "<tr>\n",
       "<td>NULL</td>\n",
       "<td>NULL</td>\n",
       "<td>3085</td>\n",
       "</tr>\n",
       "<tr>\n",
       "<td>12</td>\n",
       "<td>Forrest Gump</td>\n",
       "<td>NULL</td>\n",
       "</tr>\n",
       "<tr>\n",
       "<td>26</td>\n",
       "<td>Saving Private Ryan</td>\n",
       "<td>NULL</td>\n",
       "</tr>\n",
       "</table>\n",
       "32 rows in set (0.01 sec)"
      ],
      "text/plain": [
       "+------+---------------------+----------+\n",
       "| id   | title               | actor_id |\n",
       "+------+---------------------+----------+\n",
       "| NULL | NULL                | 352      |\n",
       "+------+---------------------+----------+\n",
       "| NULL | NULL                | 369      |\n",
       "+------+---------------------+----------+\n",
       "| NULL | NULL                | 506      |\n",
       "+------+---------------------+----------+\n",
       "| NULL | NULL                | 507      |\n",
       "+------+---------------------+----------+\n",
       "| NULL | NULL                | 630      |\n",
       "+------+---------------------+----------+\n",
       "| NULL | NULL                | 638      |\n",
       "+------+---------------------+----------+\n",
       "| NULL | NULL                | 780      |\n",
       "+------+---------------------+----------+\n",
       "| NULL | NULL                | 782      |\n",
       "+------+---------------------+----------+\n",
       "| NULL | NULL                | 867      |\n",
       "+------+---------------------+----------+\n",
       "| NULL | NULL                | 880      |\n",
       "+------+---------------------+----------+\n",
       "| NULL | NULL                | 1013     |\n",
       "+------+---------------------+----------+\n",
       "| NULL | NULL                | 1131     |\n",
       "+------+---------------------+----------+\n",
       "| NULL | NULL                | 1165     |\n",
       "+------+---------------------+----------+\n",
       "| NULL | NULL                | 1207     |\n",
       "+------+---------------------+----------+\n",
       "| NULL | NULL                | 1304     |\n",
       "+------+---------------------+----------+\n",
       "| NULL | NULL                | 1419     |\n",
       "+------+---------------------+----------+\n",
       "| NULL | NULL                | 1439     |\n",
       "+------+---------------------+----------+\n",
       "| NULL | NULL                | 1463     |\n",
       "+------+---------------------+----------+\n",
       "| NULL | NULL                | 1656     |\n",
       "+------+---------------------+----------+\n",
       "| NULL | NULL                | 1840     |\n",
       "+------+---------------------+----------+\n",
       "| NULL | NULL                | 1989     |\n",
       "+------+---------------------+----------+\n",
       "| NULL | NULL                | 2098     |\n",
       "+------+---------------------+----------+\n",
       "| NULL | NULL                | 2359     |\n",
       "+------+---------------------+----------+\n",
       "| NULL | NULL                | 2448     |\n",
       "+------+---------------------+----------+\n",
       "| NULL | NULL                | 2551     |\n",
       "+------+---------------------+----------+\n",
       "| NULL | NULL                | 2630     |\n",
       "+------+---------------------+----------+\n",
       "| NULL | NULL                | 2769     |\n",
       "+------+---------------------+----------+\n",
       "| NULL | NULL                | 2849     |\n",
       "+------+---------------------+----------+\n",
       "| NULL | NULL                | 3030     |\n",
       "+------+---------------------+----------+\n",
       "| NULL | NULL                | 3085     |\n",
       "+------+---------------------+----------+\n",
       "| 12   | Forrest Gump        | NULL     |\n",
       "+------+---------------------+----------+\n",
       "| 26   | Saving Private Ryan | NULL     |\n",
       "+------+---------------------+----------+\n",
       "32 rows in set (0.01 sec)"
      ]
     },
     "execution_count": 17,
     "metadata": {},
     "output_type": "execute_result"
    }
   ],
   "source": [
    "SELECT left_table.id,\n",
    "       left_table.title,\n",
    "       right_table.actor_id\n",
    "  FROM (\n",
    "           SELECT *\n",
    "             FROM movies\n",
    "            WHERE title IN ('Forrest Gump', 'Saving Private Ryan') \n",
    "       )\n",
    "       AS left_table\n",
    "  LEFT JOIN\n",
    "       (\n",
    "           SELECT *\n",
    "             FROM casting\n",
    "            WHERE movie_id IN (11, 175) \n",
    "       )\n",
    "       AS right_table\n",
    "    ON left_table.id = right_table.movie_id\n",
    " UNION\n",
    "SELECT right_table.id,\n",
    "       right_table.title,\n",
    "       left_table.actor_id\n",
    "  FROM (\n",
    "           SELECT *\n",
    "             FROM casting\n",
    "            WHERE movie_id IN (11, 175)  \n",
    "       )\n",
    "       AS left_table\n",
    "  LEFT JOIN\n",
    "       (\n",
    "           SELECT *\n",
    "             FROM movies\n",
    "            WHERE title IN ('Forrest Gump', 'Saving Private Ryan')\n",
    "       )\n",
    "       AS right_table\n",
    "    ON left_table.movie_id = right_table.id"
   ]
  },
  {
   "cell_type": "markdown",
   "id": "f229724c",
   "metadata": {
    "slideshow": {
     "slide_type": "slide"
    }
   },
   "source": [
    "## 將截至目前所學的 SQL 保留字集中在一個敘述中，寫作順序必須遵從標準 SQL 的規定\n",
    "\n",
    "```sql\n",
    " SELECT DISTINCT columns AS alias,\n",
    "        CASE WHEN condition_1 THEN result_1\n",
    "             WHEN condition_2 THEN result_2\n",
    "             ...\n",
    "             ELSE result_n END AS alias\n",
    "   FROM left_table\n",
    "   JOIN | LEFT JOIN right_table\n",
    "     ON left_table.join_key = right_table.join_key\n",
    "  WHERE conditions\n",
    "  GROUP BY columns\n",
    " HAVING conditions\n",
    "  UNION | UNION ALL\n",
    "Another SQL statement\n",
    "  ORDER BY columns DESC\n",
    "  LIMIT m OFFSET m;\n",
    "```"
   ]
  },
  {
   "cell_type": "markdown",
   "id": "817e275a",
   "metadata": {
    "slideshow": {
     "slide_type": "subslide"
    }
   },
   "source": [
    "## 第三天的額外練習題\n",
    "\n",
    "- 使用 `kaggleSurvey2022.db` 與 `twElection2022.db`\n",
    "- [練習題連結](https://gke.mybinder.org/v2/gh/datainpoint/environment-hahow-sqlfifty/main?urlpath=git-pull%3Frepo%3Dhttps%253A%252F%252Fgithub.com%252Fdatainpoint%252Fclassroom-hahow-sqlfifty%26urlpath%3Dtree%252Fclassroom-hahow-sqlfifty%252Fworkshop%252Fexercises_day_three.ipynb%26branch%3Dmain)"
   ]
  },
  {
   "cell_type": "markdown",
   "id": "76b0d57e",
   "metadata": {
    "slideshow": {
     "slide_type": "slide"
    }
   },
   "source": [
    "## 學長姐常見問題彙整\n",
    "\n",
    "> 當需要的資料來自不同資料表(情境三)如何判斷何時要使用子查詢，何時使用join的方式來達到目的會比較有效率呢？"
   ]
  },
  {
   "cell_type": "markdown",
   "id": "40230e23",
   "metadata": {
    "slideshow": {
     "slide_type": "subslide"
    }
   },
   "source": [
    "## 學長姐常見問題彙整\n",
    "\n",
    "> 這章作業有很多要確認的欄位，都要土法煉鋼叫出來看，SELECT  *  FROM table_name Limit 1; 查看所有欄位,有沒有比較方便的方式可以代替呢?"
   ]
  },
  {
   "cell_type": "markdown",
   "id": "91b601db",
   "metadata": {
    "slideshow": {
     "slide_type": "subslide"
    }
   },
   "source": [
    "## 學長姐常見問題彙整\n",
    "\n",
    "> 我是程式語言的新手，想要請教一下，因為覺得實務上join表格的狀況，可能會很常出現。因為在上這堂課的時候，發現如果今天是一個實際的問題時，我會有兩個困擾：1.可能table參數不夠熟悉，所以都需要把該資料庫所有的table先select出來，然後再去思考怎麼join 2.能有快速的方法可以得知各table的屬性嗎?那想請教老師除了多做練習，有什麼tip或思考邏輯是可以知道表格間怎麼join會能得到要的答案(尤其是水平合併)?"
   ]
  },
  {
   "cell_type": "markdown",
   "id": "6fbde437",
   "metadata": {
    "slideshow": {
     "slide_type": "subslide"
    }
   },
   "source": [
    "## 學長姐常見問題彙整\n",
    "\n",
    "> 老師您好，我想請問關於左、右表格的書寫順序是只要照著自己的思考方式書寫就可以了嗎?如果未來碰到右表格不只一個的狀況，不同的書寫順序會不會有什麼問題?"
   ]
  },
  {
   "cell_type": "markdown",
   "id": "816b359d",
   "metadata": {
    "slideshow": {
     "slide_type": "slide"
    }
   },
   "source": [
    "## 成為資料分析師的學習地圖\n",
    "\n",
    "- [How I Would Learn Data Analysis (If I Could Start Over)](https://youtu.be/qWEHO8b6WbA)\n",
    "- [How I would learn Machine Learning (if I could start over)](https://youtu.be/wtolixa9XTg)"
   ]
  },
  {
   "cell_type": "markdown",
   "id": "fbf60745",
   "metadata": {
    "slideshow": {
     "slide_type": "subslide"
    }
   },
   "source": [
    "## 選定一個作品集的平台\n",
    "\n",
    "- [GitHub](https://github.com)\n",
    "- [HackMD](https://hackmd.io)\n",
    "- 部落格：英文選擇 [Medium](https://medium.com)、中文可以選擇 [方格子](https://vocus.cc)\n",
    "- 自建部落格：[Hugo](https://gohugo.io)、[Gatsby](https://www.gatsbyjs.com)"
   ]
  },
  {
   "cell_type": "markdown",
   "id": "2727d219",
   "metadata": {
    "slideshow": {
     "slide_type": "subslide"
    }
   },
   "source": [
    "## 選定寫作工具\n",
    "\n",
    "- 假使選擇了「部落格」以外的平台，建議**一定**要學習標記語言（Markdown Language）。\n",
    "- [Markdown 文件](https://markdown.tw)\n",
    "    - [Jupyter Notebook](https://jupyter.org)\n",
    "    - [Quarto](https://quarto.org/)"
   ]
  },
  {
   "cell_type": "markdown",
   "id": "271fdd15",
   "metadata": {
    "slideshow": {
     "slide_type": "subslide"
    }
   },
   "source": [
    "## 第零站：跟電腦變成好朋友\n",
    "\n",
    "寫程式是理解資料科學、統計知識與機器學習理論不可或缺的工具與手段，因此學習的起點必須從程式設計起步，而在開始寫程式之前我們應該跟電腦變成好朋友！首先學習操作終端機以及純文字編輯器，行有餘力的話，再多認識 Git 和 GitHub。"
   ]
  },
  {
   "cell_type": "markdown",
   "id": "12fc621f",
   "metadata": {
    "slideshow": {
     "slide_type": "subslide"
    }
   },
   "source": [
    "## 第一站：使用 SQL 查詢資料\n",
    "\n",
    "從 2022 年的 Kaggle 調查我們得知資料分析師使用最多的語言依序是 Python -> SQL -> R，我會推薦從 SQL 開始，原因是 SQL 作為由資料庫中查詢資料的語言，與人類語言的相似度高、語法單純並且是即戰力的工具。"
   ]
  },
  {
   "cell_type": "markdown",
   "id": "b0038513",
   "metadata": {
    "slideshow": {
     "slide_type": "subslide"
    }
   },
   "source": [
    "## 第二站：使用商業智能軟體作探索性分析\n",
    "\n",
    "懂得如何寫作 SQL 之後，可以跟試算表、商業智能軟體搭配開始進行探索性分析，從 2022 年的 Kaggle 調查我們得知 Tableau 與 Microsoft Power BI 是現在最普遍的商業智能軟體，而這兩個都有免費的版本可供個人電腦使用，如果是使用 Windows 作業系統的學員可以都試用看看，使用 macOS 的學員就試用 Tableau。"
   ]
  },
  {
   "cell_type": "markdown",
   "id": "a97c1a56",
   "metadata": {
    "slideshow": {
     "slide_type": "subslide"
    }
   },
   "source": [
    "## 第三站：學習 Python 程式設計\n",
    "\n",
    "想要勝任工程導向的資料科學團隊職缺，必須學會一個在專案的各個應用都能介接、並且能夠自己整併清理資料的程式語言，從 2022 年的 Kaggle 調查我們得知資料分析師的首選是 Python 程式語言。"
   ]
  },
  {
   "cell_type": "markdown",
   "id": "18b65011",
   "metadata": {
    "slideshow": {
     "slide_type": "subslide"
    }
   },
   "source": [
    "## 第四站：機器學習應用\n",
    "\n",
    "先使用機器學習模組、套件實作 Kaggle 專案，至於為何所引用的函數與類別能夠完成機器學習應用，則留待後續在研讀理論後融會貫通。"
   ]
  },
  {
   "cell_type": "markdown",
   "id": "61c6148f",
   "metadata": {
    "slideshow": {
     "slide_type": "subslide"
    }
   },
   "source": [
    "## 第五站：學習 R 程式設計\n",
    "\n",
    "機器學習理論會牽涉到程式設計與統計理論，特別是條件機率與機率分配等部分，學習統計理論最好的程式語言是 R 語言，如果已經掌握 Python 程式設計以及資料科學模組 NumPy、Pandas，在 R 語言的學習進展將會非常快速，我們會發現兩者在面對資料的處理邏輯上其實有異曲同工之妙。"
   ]
  },
  {
   "cell_type": "markdown",
   "id": "f6693833",
   "metadata": {
    "slideshow": {
     "slide_type": "subslide"
    }
   },
   "source": [
    "## 第六站：統計與機器學習理論\n",
    "\n",
    "不論是找相關工作的技術面試或者實務應用，除了能夠使用現成的機器學習模組、套件，也要能夠理解相關函數、類別的參數設定以及其背後的理論對應，才能夠順利通過面試或勝任工作。"
   ]
  }
 ],
 "metadata": {
  "celltoolbar": "Slideshow",
  "kernelspec": {
   "display_name": "xsql",
   "language": "sqlite",
   "name": "xsql"
  },
  "language_info": {
   "codemirror_mode": "sql",
   "file_extension": "",
   "mimetype": "",
   "name": "mysql",
   "version": "0.1.5"
  }
 },
 "nbformat": 4,
 "nbformat_minor": 5
}
