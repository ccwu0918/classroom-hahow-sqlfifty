{
 "cells": [
  {
   "cell_type": "markdown",
   "id": "lightweight-fruit",
   "metadata": {
    "slideshow": {
     "slide_type": "slide"
    }
   },
   "source": [
    "# SQL 的五十道練習：初學者友善的資料庫八週專班\n",
    "\n",
    "> 第二天\n",
    "\n",
    "[數聚點](https://www.datainpoint.com/) | 郭耀仁 <yaojenkuo@datainpoint.com>"
   ]
  },
  {
   "cell_type": "code",
   "execution_count": 1,
   "id": "bfa07fd1",
   "metadata": {
    "slideshow": {
     "slide_type": "skip"
    }
   },
   "outputs": [],
   "source": [
    "%LOAD sqlite3 db=../databases/imdb.db timeout=2 shared_cache=true"
   ]
  },
  {
   "cell_type": "code",
   "execution_count": 2,
   "id": "0b46f5bb",
   "metadata": {
    "slideshow": {
     "slide_type": "skip"
    }
   },
   "outputs": [],
   "source": [
    "ATTACH \"../databases/covid19.db\" AS covid19;"
   ]
  },
  {
   "cell_type": "markdown",
   "id": "0bce6b28",
   "metadata": {
    "slideshow": {
     "slide_type": "slide"
    }
   },
   "source": [
    "## 運算符"
   ]
  },
  {
   "cell_type": "markdown",
   "id": "2e835666",
   "metadata": {
    "slideshow": {
     "slide_type": "subslide"
    }
   },
   "source": [
    "## 運算符\n",
    "\n",
    "1. 數值運算符：應用在資料類別為整數或浮點數的常數或欄位，運算結果為數值。\n",
    "2. 文字運算符：應用在資料類別為文字的常數或欄位，運算結果為文字。\n",
    "3. 關係運算符：應用會得到條件判斷結果 0（布林值 `False`）或 1（布林值 `True`）兩者其中之一。\n",
    "4. 邏輯運算符：應用在資料類別屬於 0（布林值 `False`）或 1（布林值 `True`）的敘述、常數或欄位，運算結果為布林值。"
   ]
  },
  {
   "cell_type": "markdown",
   "id": "studied-preference",
   "metadata": {
    "slideshow": {
     "slide_type": "subslide"
    }
   },
   "source": [
    "## 數值運算符\n",
    "\n",
    "針對整數（`integer`）與帶小數點的浮點數（`real`）的常數或欄位可以使用數值運算符衍生計算欄位，運算結果為數值，基礎的數值運算符有：\n",
    "\n",
    "|數值運算符|作用描述|\n",
    "|:-------|:------|\n",
    "|`+`|相加|\n",
    "|`-`|相減|\n",
    "|`*`|相乘|\n",
    "|`/`|相除|\n",
    "|`%`|回傳餘數|\n",
    "|`()`|優先運算|"
   ]
  },
  {
   "cell_type": "code",
   "execution_count": 3,
   "id": "839714c5",
   "metadata": {
    "slideshow": {
     "slide_type": "subslide"
    }
   },
   "outputs": [
    {
     "data": {
      "text/html": [
       "<table>\n",
       "<tr>\n",
       "<th>runtime</th>\n",
       "<th>hours</th>\n",
       "<th>minutes</th>\n",
       "</tr>\n",
       "<tr>\n",
       "<td>142</td>\n",
       "<td>2</td>\n",
       "<td>22</td>\n",
       "</tr>\n",
       "<tr>\n",
       "<td>175</td>\n",
       "<td>2</td>\n",
       "<td>55</td>\n",
       "</tr>\n",
       "<tr>\n",
       "<td>202</td>\n",
       "<td>3</td>\n",
       "<td>22</td>\n",
       "</tr>\n",
       "<tr>\n",
       "<td>152</td>\n",
       "<td>2</td>\n",
       "<td>32</td>\n",
       "</tr>\n",
       "<tr>\n",
       "<td>96</td>\n",
       "<td>1</td>\n",
       "<td>36</td>\n",
       "</tr>\n",
       "</table>\n",
       "5 rows in set (0.00 sec)"
      ],
      "text/plain": [
       "+---------+-------+---------+\n",
       "| runtime | hours | minutes |\n",
       "+---------+-------+---------+\n",
       "| 142     | 2     | 22      |\n",
       "+---------+-------+---------+\n",
       "| 175     | 2     | 55      |\n",
       "+---------+-------+---------+\n",
       "| 202     | 3     | 22      |\n",
       "+---------+-------+---------+\n",
       "| 152     | 2     | 32      |\n",
       "+---------+-------+---------+\n",
       "| 96      | 1     | 36      |\n",
       "+---------+-------+---------+\n",
       "5 rows in set (0.00 sec)"
      ]
     },
     "execution_count": 3,
     "metadata": {},
     "output_type": "execute_result"
    }
   ],
   "source": [
    "SELECT runtime,\n",
    "       runtime / 60 AS hours,\n",
    "       runtime % 60 AS minutes\n",
    "  FROM movies\n",
    " LIMIT 5;"
   ]
  },
  {
   "cell_type": "markdown",
   "id": "bigger-berry",
   "metadata": {
    "slideshow": {
     "slide_type": "subslide"
    }
   },
   "source": [
    "## 文字運算符\n",
    "\n",
    "針對文字（`text`）的常數或欄位可以使用文字運算符衍生計算欄位，運算結果為文字，相較於數值運算符，文字運算符的數量少了許多，僅有 `||` 兩個垂直線（可透過 `Shift + \\` 按出來）能夠**連接文字**。 "
   ]
  },
  {
   "cell_type": "code",
   "execution_count": 4,
   "id": "76592763",
   "metadata": {},
   "outputs": [
    {
     "data": {
      "text/html": [
       "<table>\n",
       "<tr>\n",
       "<th>runtime</th>\n",
       "<th>hours_minutes</th>\n",
       "</tr>\n",
       "<tr>\n",
       "<td>142</td>\n",
       "<td>2 hours 22 minutes</td>\n",
       "</tr>\n",
       "<tr>\n",
       "<td>175</td>\n",
       "<td>2 hours 55 minutes</td>\n",
       "</tr>\n",
       "<tr>\n",
       "<td>202</td>\n",
       "<td>3 hours 22 minutes</td>\n",
       "</tr>\n",
       "<tr>\n",
       "<td>152</td>\n",
       "<td>2 hours 32 minutes</td>\n",
       "</tr>\n",
       "<tr>\n",
       "<td>96</td>\n",
       "<td>1 hours 36 minutes</td>\n",
       "</tr>\n",
       "</table>\n",
       "5 rows in set (0.00 sec)"
      ],
      "text/plain": [
       "+---------+--------------------+\n",
       "| runtime | hours_minutes      |\n",
       "+---------+--------------------+\n",
       "| 142     | 2 hours 22 minutes |\n",
       "+---------+--------------------+\n",
       "| 175     | 2 hours 55 minutes |\n",
       "+---------+--------------------+\n",
       "| 202     | 3 hours 22 minutes |\n",
       "+---------+--------------------+\n",
       "| 152     | 2 hours 32 minutes |\n",
       "+---------+--------------------+\n",
       "| 96      | 1 hours 36 minutes |\n",
       "+---------+--------------------+\n",
       "5 rows in set (0.00 sec)"
      ]
     },
     "execution_count": 4,
     "metadata": {},
     "output_type": "execute_result"
    }
   ],
   "source": [
    "SELECT runtime,\n",
    "       (runtime / 60) || ' hours ' || (runtime % 60) || ' minutes' AS hours_minutes\n",
    "  FROM movies\n",
    " LIMIT 5;"
   ]
  },
  {
   "cell_type": "markdown",
   "id": "29d48453",
   "metadata": {
    "slideshow": {
     "slide_type": "subslide"
    }
   },
   "source": [
    "## 關係運算符\n",
    "\n",
    "|關係運算符|作用描述|\n",
    "|:-------|:------|\n",
    "|`=`|相等|\n",
    "|`!=`|不相等|\n",
    "|`>`|大於|\n",
    "|`>=`|大於等於|\n",
    "|`<`|小於|\n",
    "|`<=`|小於等於|\n",
    "|`LIKE`|相似|\n",
    "|`IN`|存在於|\n",
    "|`BETWEEN lower_bound AND upper_bound`|大於等於 `lower_bound` 且小於等於 `upper_bound`|\n",
    "|`IS NULL`|是否為空值|"
   ]
  },
  {
   "cell_type": "markdown",
   "id": "3e24765f",
   "metadata": {
    "slideshow": {
     "slide_type": "subslide"
    }
   },
   "source": [
    "## 邏輯運算符\n",
    "\n",
    "|邏輯運算符|作用描述|\n",
    "|:-------|:------|\n",
    "|`AND`|和，交集|\n",
    "|`OR`|或，聯集|\n",
    "|`NOT`|反轉布林值，將 0（布林值 `False`）與 1（布林值 `True`）互換|"
   ]
  },
  {
   "cell_type": "markdown",
   "id": "fcdf1f13",
   "metadata": {
    "slideshow": {
     "slide_type": "slide"
    }
   },
   "source": [
    "## 函數"
   ]
  },
  {
   "cell_type": "markdown",
   "id": "5cbc5624",
   "metadata": {
    "slideshow": {
     "slide_type": "subslide"
    }
   },
   "source": [
    "## 函數粗略分為兩大類\n",
    "\n",
    "1. 通用函數（Universal functions）。\n",
    "2. 聚合函數（Aggregate functions）。"
   ]
  },
  {
   "cell_type": "markdown",
   "id": "05c83d64",
   "metadata": {
    "slideshow": {
     "slide_type": "subslide"
    }
   },
   "source": [
    "## 通用函數與聚合函數\n",
    "\n",
    "函數的作用方向不同，跟資料表是由列（水平方向）與欄（垂直方向）所組成的二維表格概念契合，通用函數作用在「水平方向」、聚合函數作用在「垂直方向」。"
   ]
  },
  {
   "cell_type": "markdown",
   "id": "complete-breast",
   "metadata": {
    "slideshow": {
     "slide_type": "subslide"
    }
   },
   "source": [
    "## 通用函數的特徵\n",
    "\n",
    "每列觀測值對應一個輸出結果。"
   ]
  },
  {
   "cell_type": "code",
   "execution_count": 5,
   "id": "4dd5f721",
   "metadata": {},
   "outputs": [
    {
     "data": {
      "text/html": [
       "<table>\n",
       "<tr>\n",
       "<th>rating</th>\n",
       "<th>round_rating</th>\n",
       "</tr>\n",
       "<tr>\n",
       "<td>9.3</td>\n",
       "<td>9.0</td>\n",
       "</tr>\n",
       "<tr>\n",
       "<td>9.2</td>\n",
       "<td>9.0</td>\n",
       "</tr>\n",
       "<tr>\n",
       "<td>9</td>\n",
       "<td>9.0</td>\n",
       "</tr>\n",
       "<tr>\n",
       "<td>9</td>\n",
       "<td>9.0</td>\n",
       "</tr>\n",
       "<tr>\n",
       "<td>9</td>\n",
       "<td>9.0</td>\n",
       "</tr>\n",
       "</table>\n",
       "5 rows in set (0.00 sec)"
      ],
      "text/plain": [
       "+--------+--------------+\n",
       "| rating | round_rating |\n",
       "+--------+--------------+\n",
       "| 9.3    | 9.0          |\n",
       "+--------+--------------+\n",
       "| 9.2    | 9.0          |\n",
       "+--------+--------------+\n",
       "| 9      | 9.0          |\n",
       "+--------+--------------+\n",
       "| 9      | 9.0          |\n",
       "+--------+--------------+\n",
       "| 9      | 9.0          |\n",
       "+--------+--------------+\n",
       "5 rows in set (0.00 sec)"
      ]
     },
     "execution_count": 5,
     "metadata": {},
     "output_type": "execute_result"
    }
   ],
   "source": [
    "SELECT rating,\n",
    "       ROUND(rating) AS round_rating\n",
    "  FROM movies\n",
    " LIMIT 5;"
   ]
  },
  {
   "cell_type": "markdown",
   "id": "informal-marriage",
   "metadata": {
    "slideshow": {
     "slide_type": "subslide"
    }
   },
   "source": [
    "## 聚合函數的特徵\n",
    "\n",
    "一欄變數、`m` 列觀測值對應一個輸出結果。"
   ]
  },
  {
   "cell_type": "code",
   "execution_count": 6,
   "id": "80b944d1",
   "metadata": {},
   "outputs": [
    {
     "data": {
      "text/html": [
       "<table>\n",
       "<tr>\n",
       "<th>avg_rating</th>\n",
       "</tr>\n",
       "<tr>\n",
       "<td>8.30519999999997</td>\n",
       "</tr>\n",
       "</table>\n",
       "1 row in set (0.00 sec)"
      ],
      "text/plain": [
       "+------------------+\n",
       "| avg_rating       |\n",
       "+------------------+\n",
       "| 8.30519999999997 |\n",
       "+------------------+\n",
       "1 row in set (0.00 sec)"
      ]
     },
     "execution_count": 6,
     "metadata": {},
     "output_type": "execute_result"
    }
   ],
   "source": [
    "SELECT AVG(rating) AS avg_rating\n",
    "  FROM movies;"
   ]
  },
  {
   "cell_type": "markdown",
   "id": "supposed-spread",
   "metadata": {
    "slideshow": {
     "slide_type": "subslide"
    }
   },
   "source": [
    "## 使用函數的語法\n",
    "\n",
    "```sql\n",
    "SELECT FUNCTION(input, parameter) AS alias\n",
    "```"
   ]
  },
  {
   "cell_type": "code",
   "execution_count": 7,
   "id": "0d254c79",
   "metadata": {},
   "outputs": [
    {
     "data": {
      "text/html": [
       "<table>\n",
       "<tr>\n",
       "<th>e</th>\n",
       "<th>round_e_0</th>\n",
       "<th>round_e_1</th>\n",
       "<th>round_e_2</th>\n",
       "</tr>\n",
       "<tr>\n",
       "<td>2.718</td>\n",
       "<td>3.0</td>\n",
       "<td>2.7</td>\n",
       "<td>2.72</td>\n",
       "</tr>\n",
       "</table>\n",
       "1 row in set (0.00 sec)"
      ],
      "text/plain": [
       "+-------+-----------+-----------+-----------+\n",
       "| e     | round_e_0 | round_e_1 | round_e_2 |\n",
       "+-------+-----------+-----------+-----------+\n",
       "| 2.718 | 3.0       | 2.7       | 2.72      |\n",
       "+-------+-----------+-----------+-----------+\n",
       "1 row in set (0.00 sec)"
      ]
     },
     "execution_count": 7,
     "metadata": {},
     "output_type": "execute_result"
    }
   ],
   "source": [
    "SELECT 2.718 AS e,\n",
    "       ROUND(2.718) AS round_e_0,    -- round to 0 digit\n",
    "       ROUND(2.718, 1) AS round_e_1, -- round to 1 digit\n",
    "       ROUND(2.718, 2) AS round_e_2; -- round to 2 digits"
   ]
  },
  {
   "cell_type": "markdown",
   "id": "3670087c",
   "metadata": {
    "slideshow": {
     "slide_type": "subslide"
    }
   },
   "source": [
    "## 有些函數不需要輸入、有些函數參數具有預設\n",
    "\n",
    "```sql\n",
    "SELECT DATE() AS todays_date,\n",
    "       ROUND(2.718) AS round_e_0;\n",
    "```"
   ]
  },
  {
   "cell_type": "markdown",
   "id": "5c3abe34",
   "metadata": {
    "slideshow": {
     "slide_type": "subslide"
    }
   },
   "source": [
    "## 複合函數（Composite functions）\n",
    "\n",
    "意即在函數中包括函數、先後使用多個函數，先使用的函數輸出將會成為後使用的函數輸入。"
   ]
  },
  {
   "cell_type": "code",
   "execution_count": 8,
   "id": "6f90f776",
   "metadata": {},
   "outputs": [
    {
     "data": {
      "text/html": [
       "<table>\n",
       "<tr>\n",
       "<th>city</th>\n",
       "<th>substr_city</th>\n",
       "<th>upper_substr_city</th>\n",
       "</tr>\n",
       "<tr>\n",
       "<td>Boston</td>\n",
       "<td>Bos</td>\n",
       "<td>BOS</td>\n",
       "</tr>\n",
       "</table>\n",
       "1 row in set (0.00 sec)"
      ],
      "text/plain": [
       "+--------+-------------+-------------------+\n",
       "| city   | substr_city | upper_substr_city |\n",
       "+--------+-------------+-------------------+\n",
       "| Boston | Bos         | BOS               |\n",
       "+--------+-------------+-------------------+\n",
       "1 row in set (0.00 sec)"
      ]
     },
     "execution_count": 8,
     "metadata": {},
     "output_type": "execute_result"
    }
   ],
   "source": [
    "SELECT 'Boston' AS city,\n",
    "       SUBSTR('Boston', 1, 3) AS substr_city,\n",
    "       UPPER(SUBSTR('Boston', 1, 3)) AS upper_substr_city;"
   ]
  },
  {
   "cell_type": "markdown",
   "id": "1677aabc",
   "metadata": {
    "slideshow": {
     "slide_type": "subslide"
    }
   },
   "source": [
    "## 通用函數又細分為四種\n",
    "\n",
    "1. 資料類別相關。\n",
    "2. 計算數值。\n",
    "3. 操作文字。\n",
    "4. 操作日期時間。"
   ]
  },
  {
   "cell_type": "markdown",
   "id": "several-luxembourg",
   "metadata": {
    "slideshow": {
     "slide_type": "subslide"
    }
   },
   "source": [
    "### 通用函數：資料類別相關 `TYPEOF()`\n",
    "\n",
    "使用 `TYPEOF()` 函數顯示常數或者資料表欄位的類別。"
   ]
  },
  {
   "cell_type": "code",
   "execution_count": 9,
   "id": "341be984",
   "metadata": {},
   "outputs": [
    {
     "data": {
      "text/html": [
       "<table>\n",
       "<tr>\n",
       "<th>typeof_release_year</th>\n",
       "<th>typeof_rating</th>\n",
       "<th>typeof_title</th>\n",
       "</tr>\n",
       "<tr>\n",
       "<td>integer</td>\n",
       "<td>real</td>\n",
       "<td>text</td>\n",
       "</tr>\n",
       "</table>\n",
       "1 row in set (0.00 sec)"
      ],
      "text/plain": [
       "+---------------------+---------------+--------------+\n",
       "| typeof_release_year | typeof_rating | typeof_title |\n",
       "+---------------------+---------------+--------------+\n",
       "| integer             | real          | text         |\n",
       "+---------------------+---------------+--------------+\n",
       "1 row in set (0.00 sec)"
      ]
     },
     "execution_count": 9,
     "metadata": {},
     "output_type": "execute_result"
    }
   ],
   "source": [
    "SELECT TYPEOF(release_year) AS typeof_release_year,\n",
    "       TYPEOF(rating) AS typeof_rating,\n",
    "       TYPEOF(title) AS typeof_title\n",
    "  FROM movies\n",
    " LIMIT 1;"
   ]
  },
  {
   "cell_type": "markdown",
   "id": "e664a9ad",
   "metadata": {
    "slideshow": {
     "slide_type": "subslide"
    }
   },
   "source": [
    "### 通用函數：資料類別相關 `IFNULL()`\n",
    "\n",
    "使用 `IFNULL()` 函數回傳輸入常數或者資料表欄位中的第一個非空值資料，若皆為空值則回傳空值。"
   ]
  },
  {
   "cell_type": "code",
   "execution_count": 10,
   "id": "ba7fb73d",
   "metadata": {},
   "outputs": [
    {
     "data": {
      "text/html": [
       "<table>\n",
       "<tr>\n",
       "<th>null_value</th>\n",
       "<th>text_value</th>\n",
       "</tr>\n",
       "<tr>\n",
       "<td>NULL</td>\n",
       "<td>Null replaced by text</td>\n",
       "</tr>\n",
       "</table>\n",
       "1 row in set (0.00 sec)"
      ],
      "text/plain": [
       "+------------+-----------------------+\n",
       "| null_value | text_value            |\n",
       "+------------+-----------------------+\n",
       "| NULL       | Null replaced by text |\n",
       "+------------+-----------------------+\n",
       "1 row in set (0.00 sec)"
      ]
     },
     "execution_count": 10,
     "metadata": {},
     "output_type": "execute_result"
    }
   ],
   "source": [
    "SELECT IFNULL(NULL, NULL) AS null_value,\n",
    "       IFNULL(NULL, 'Null replaced by text') AS text_value;"
   ]
  },
  {
   "cell_type": "code",
   "execution_count": 11,
   "id": "f65bcba1",
   "metadata": {
    "slideshow": {
     "slide_type": "subslide"
    }
   },
   "outputs": [
    {
     "data": {
      "text/html": [
       "<table>\n",
       "<tr>\n",
       "<th>Province_State</th>\n",
       "<th>province_or_text_value</th>\n",
       "<th>Admin2</th>\n",
       "<th>county_or_text_value</th>\n",
       "</tr>\n",
       "<tr>\n",
       "<td>NULL</td>\n",
       "<td>No province data</td>\n",
       "<td>NULL</td>\n",
       "<td>No county data</td>\n",
       "</tr>\n",
       "<tr>\n",
       "<td>NULL</td>\n",
       "<td>No province data</td>\n",
       "<td>NULL</td>\n",
       "<td>No county data</td>\n",
       "</tr>\n",
       "<tr>\n",
       "<td>NULL</td>\n",
       "<td>No province data</td>\n",
       "<td>NULL</td>\n",
       "<td>No county data</td>\n",
       "</tr>\n",
       "<tr>\n",
       "<td>American Samoa</td>\n",
       "<td>American Samoa</td>\n",
       "<td>NULL</td>\n",
       "<td>No county data</td>\n",
       "</tr>\n",
       "<tr>\n",
       "<td>NULL</td>\n",
       "<td>No province data</td>\n",
       "<td>NULL</td>\n",
       "<td>No county data</td>\n",
       "</tr>\n",
       "</table>\n",
       "5 rows in set (0.00 sec)"
      ],
      "text/plain": [
       "+----------------+------------------------+--------+----------------------+\n",
       "| Province_State | province_or_text_value | Admin2 | county_or_text_value |\n",
       "+----------------+------------------------+--------+----------------------+\n",
       "| NULL           | No province data       | NULL   | No county data       |\n",
       "+----------------+------------------------+--------+----------------------+\n",
       "| NULL           | No province data       | NULL   | No county data       |\n",
       "+----------------+------------------------+--------+----------------------+\n",
       "| NULL           | No province data       | NULL   | No county data       |\n",
       "+----------------+------------------------+--------+----------------------+\n",
       "| American Samoa | American Samoa         | NULL   | No county data       |\n",
       "+----------------+------------------------+--------+----------------------+\n",
       "| NULL           | No province data       | NULL   | No county data       |\n",
       "+----------------+------------------------+--------+----------------------+\n",
       "5 rows in set (0.00 sec)"
      ]
     },
     "execution_count": 11,
     "metadata": {},
     "output_type": "execute_result"
    }
   ],
   "source": [
    "SELECT Province_State,\n",
    "       IFNULL(Province_State, 'No province data') AS province_or_text_value,\n",
    "       Admin2,\n",
    "       IFNULL(Admin2, 'No county data') AS county_or_text_value\n",
    "  FROM lookup_table\n",
    " LIMIT 5;"
   ]
  },
  {
   "cell_type": "markdown",
   "id": "valued-season",
   "metadata": {
    "slideshow": {
     "slide_type": "subslide"
    }
   },
   "source": [
    "### 通用函數：操作文字 `TRIM()`/`LTRIM()`/`RTRIM()`\n",
    "\n",
    "- 清除文字資料中的指定特徵。\n",
    "- 沒有指定特徵則清除文字左側或右側的多餘空白。\n",
    "\n",
    "```sql\n",
    "TRIM(string, pattern)\n",
    "```"
   ]
  },
  {
   "cell_type": "code",
   "execution_count": 12,
   "id": "a6dc2e29",
   "metadata": {
    "slideshow": {
     "slide_type": "-"
    }
   },
   "outputs": [
    {
     "data": {
      "text/html": [
       "<table>\n",
       "<tr>\n",
       "<th>tony</th>\n",
       "<th>stark</th>\n",
       "<th>tony_stark</th>\n",
       "<th>trim_tony_stark</th>\n",
       "<th>ltrim_tony_stark</th>\n",
       "<th>rtrim_tony_stark</th>\n",
       "</tr>\n",
       "<tr>\n",
       "<td>Tony</td>\n",
       "<td>Stark</td>\n",
       "<td>16</td>\n",
       "<td>10</td>\n",
       "<td>13</td>\n",
       "<td>13</td>\n",
       "</tr>\n",
       "</table>\n",
       "1 row in set (0.00 sec)"
      ],
      "text/plain": [
       "+------+-------+------------+-----------------+------------------+------------------+\n",
       "| tony | stark | tony_stark | trim_tony_stark | ltrim_tony_stark | rtrim_tony_stark |\n",
       "+------+-------+------------+-----------------+------------------+------------------+\n",
       "| Tony | Stark | 16         | 10              | 13               | 13               |\n",
       "+------+-------+------------+-----------------+------------------+------------------+\n",
       "1 row in set (0.00 sec)"
      ]
     },
     "execution_count": 12,
     "metadata": {},
     "output_type": "execute_result"
    }
   ],
   "source": [
    "SELECT TRIM('Tony Stark', ' Stark') AS tony,\n",
    "       TRIM('Tony Stark', 'Tony ') AS stark,\n",
    "       LENGTH('   Tony Stark   ') AS tony_stark,\n",
    "       LENGTH(TRIM('   Tony Stark   ')) AS trim_tony_stark,\n",
    "       LENGTH(LTRIM('   Tony Stark   ')) AS ltrim_tony_stark,\n",
    "       LENGTH(RTRIM('   Tony Stark   ')) AS rtrim_tony_stark;"
   ]
  },
  {
   "cell_type": "markdown",
   "id": "dd71588b",
   "metadata": {
    "slideshow": {
     "slide_type": "subslide"
    }
   },
   "source": [
    "### 通用函數：操作文字 `REPLACE()`\n",
    "\n",
    "取代文字資料中的指定特徵。\n",
    "\n",
    "```sql\n",
    "REPLACE(string, pattern, replacement)\n",
    "```"
   ]
  },
  {
   "cell_type": "code",
   "execution_count": 13,
   "id": "1531bcac",
   "metadata": {},
   "outputs": [
    {
     "data": {
      "text/html": [
       "<table>\n",
       "<tr>\n",
       "<th>anakin</th>\n",
       "<th>luke</th>\n",
       "</tr>\n",
       "<tr>\n",
       "<td>Anakin Skywalker</td>\n",
       "<td>Luke Skywalker</td>\n",
       "</tr>\n",
       "</table>\n",
       "1 row in set (0.00 sec)"
      ],
      "text/plain": [
       "+------------------+----------------+\n",
       "| anakin           | luke           |\n",
       "+------------------+----------------+\n",
       "| Anakin Skywalker | Luke Skywalker |\n",
       "+------------------+----------------+\n",
       "1 row in set (0.00 sec)"
      ]
     },
     "execution_count": 13,
     "metadata": {},
     "output_type": "execute_result"
    }
   ],
   "source": [
    "SELECT 'Anakin Skywalker' AS anakin,\n",
    "       REPLACE('Anakin Skywalker', 'Anakin', 'Luke') AS luke;"
   ]
  },
  {
   "cell_type": "markdown",
   "id": "1a77e139",
   "metadata": {
    "slideshow": {
     "slide_type": "subslide"
    }
   },
   "source": [
    "### 通用函數：操作文字 `INSTR()`\n",
    "\n",
    "回傳文字資料中指定特徵的位置，若文字資料沒有指定特徵則回傳整數 `0`。\n",
    "\n",
    "```sql\n",
    "INSTR(string, pattern)\n",
    "```"
   ]
  },
  {
   "cell_type": "code",
   "execution_count": 14,
   "id": "dc827dfa",
   "metadata": {},
   "outputs": [
    {
     "data": {
      "text/html": [
       "<table>\n",
       "<tr>\n",
       "<th>tony_stark</th>\n",
       "<th>positive_position</th>\n",
       "<th>zero</th>\n",
       "</tr>\n",
       "<tr>\n",
       "<td>Tony Stark</td>\n",
       "<td>6</td>\n",
       "<td>0</td>\n",
       "</tr>\n",
       "</table>\n",
       "1 row in set (0.00 sec)"
      ],
      "text/plain": [
       "+------------+-------------------+------+\n",
       "| tony_stark | positive_position | zero |\n",
       "+------------+-------------------+------+\n",
       "| Tony Stark | 6                 | 0    |\n",
       "+------------+-------------------+------+\n",
       "1 row in set (0.00 sec)"
      ]
     },
     "execution_count": 14,
     "metadata": {},
     "output_type": "execute_result"
    }
   ],
   "source": [
    "SELECT 'Tony Stark' AS tony_stark,\n",
    "       INSTR('Tony Stark', 'Stark') AS positive_position,\n",
    "       INSTR('Tony Stark', 'Steve') AS zero;"
   ]
  },
  {
   "cell_type": "markdown",
   "id": "2bc645c8",
   "metadata": {
    "slideshow": {
     "slide_type": "subslide"
    }
   },
   "source": [
    "### 通用函數：操作日期時間\n",
    "\n",
    "`DATE('now', 'localtime')`、`TIME('now', 'localtime')` 與 `DATETIME('now', 'localtime')` 函數可以顯示電腦時區現在的日期、時間與日期時間，並且以 ISO-8601 標準格式 `YYYY-MM-DD HH:MM:SS` 呈現\n",
    "\n",
    "```sql\n",
    "SELECT DATE('now', 'localtime') AS date_now,\n",
    "       TIME('now', 'localtime') AS time_now,\n",
    "       DATETIME('now', 'localtime') AS datetime_now;\n",
    "```"
   ]
  },
  {
   "cell_type": "markdown",
   "id": "e4fb0123",
   "metadata": {
    "slideshow": {
     "slide_type": "subslide"
    }
   },
   "source": [
    "## 也可以輸入 ISO-8601 標準格式作為日期、時間或日期時間"
   ]
  },
  {
   "cell_type": "code",
   "execution_count": 15,
   "id": "ec5f16cb",
   "metadata": {
    "slideshow": {
     "slide_type": "-"
    }
   },
   "outputs": [
    {
     "data": {
      "text/html": [
       "<table>\n",
       "<tr>\n",
       "<th>date_20221231</th>\n",
       "<th>time_235959</th>\n",
       "<th>datetime_20221231235959</th>\n",
       "</tr>\n",
       "<tr>\n",
       "<td>2022-12-31</td>\n",
       "<td>23:59:59</td>\n",
       "<td>2022-12-31 23:59:59</td>\n",
       "</tr>\n",
       "</table>\n",
       "1 row in set (0.00 sec)"
      ],
      "text/plain": [
       "+---------------+-------------+-------------------------+\n",
       "| date_20221231 | time_235959 | datetime_20221231235959 |\n",
       "+---------------+-------------+-------------------------+\n",
       "| 2022-12-31    | 23:59:59    | 2022-12-31 23:59:59     |\n",
       "+---------------+-------------+-------------------------+\n",
       "1 row in set (0.00 sec)"
      ]
     },
     "execution_count": 15,
     "metadata": {},
     "output_type": "execute_result"
    }
   ],
   "source": [
    "SELECT DATE('2022-12-31') AS date_20221231,\n",
    "       TIME('23:59:59') AS time_235959,\n",
    "       DATETIME('2022-12-31 23:59:59') AS datetime_20221231235959;"
   ]
  },
  {
   "cell_type": "markdown",
   "id": "norwegian-scenario",
   "metadata": {
    "slideshow": {
     "slide_type": "subslide"
    }
   },
   "source": [
    "### 通用函數：操作日期時間 `STRFTIME()`\n",
    "\n",
    "`STRFTIME()` 函數可以調整日期、時間或日期時間的顯示格式，常用的日期、時間格式參數有：\n",
    "\n",
    "- `%d`：二位數的日（01-31）\n",
    "- `%j`：一年中的第幾天（001-366）\n",
    "- `%m`：二位數的月（01-12）\n",
    "- `%w`：一星期中的第幾天（0-6）\n",
    "- `%W`：一年中的第幾週（00-53）\n",
    "- `%Y`：四位數的年（0000-9999）\n",
    "- `%H`：兩位數的小時（00-24）\n",
    "- `%M`：兩位數的分鐘（00-59）\n",
    "- `%S`：兩位數的秒（00-59）"
   ]
  },
  {
   "cell_type": "code",
   "execution_count": 16,
   "id": "1debea56",
   "metadata": {
    "slideshow": {
     "slide_type": "subslide"
    }
   },
   "outputs": [
    {
     "data": {
      "text/html": [
       "<table>\n",
       "<tr>\n",
       "<th>datetime_20221231235959</th>\n",
       "<th>day_part</th>\n",
       "<th>day_of_year</th>\n",
       "<th>month_part</th>\n",
       "<th>weekday</th>\n",
       "<th>nth_week</th>\n",
       "<th>year_part</th>\n",
       "<th>time_part</th>\n",
       "</tr>\n",
       "<tr>\n",
       "<td>2022-12-31 23:59:59</td>\n",
       "<td>31</td>\n",
       "<td>365</td>\n",
       "<td>12</td>\n",
       "<td>6</td>\n",
       "<td>52</td>\n",
       "<td>2022</td>\n",
       "<td>23:59:59</td>\n",
       "</tr>\n",
       "</table>\n",
       "1 row in set (0.00 sec)"
      ],
      "text/plain": [
       "+-------------------------+----------+-------------+------------+---------+----------+-----------+-----------+\n",
       "| datetime_20221231235959 | day_part | day_of_year | month_part | weekday | nth_week | year_part | time_part |\n",
       "+-------------------------+----------+-------------+------------+---------+----------+-----------+-----------+\n",
       "| 2022-12-31 23:59:59     | 31       | 365         | 12         | 6       | 52       | 2022      | 23:59:59  |\n",
       "+-------------------------+----------+-------------+------------+---------+----------+-----------+-----------+\n",
       "1 row in set (0.00 sec)"
      ]
     },
     "execution_count": 16,
     "metadata": {},
     "output_type": "execute_result"
    }
   ],
   "source": [
    "SELECT '2022-12-31 23:59:59' AS datetime_20221231235959,\n",
    "       STRFTIME('%d', '2022-12-31 23:59:59') AS day_part,\n",
    "       STRFTIME('%j', '2022-12-31 23:59:59') AS day_of_year,\n",
    "       STRFTIME('%m', '2022-12-31 23:59:59') AS month_part,\n",
    "       STRFTIME('%w', '2022-12-31 23:59:59') AS weekday,\n",
    "       STRFTIME('%W', '2022-12-31 23:59:59') AS nth_week,\n",
    "       STRFTIME('%Y', '2022-12-31 23:59:59') AS year_part,\n",
    "       STRFTIME('%H:%M:%S', '2022-12-31 23:59:59') AS time_part;"
   ]
  },
  {
   "cell_type": "markdown",
   "id": "5242a64d",
   "metadata": {
    "slideshow": {
     "slide_type": "subslide"
    }
   },
   "source": [
    "## 使用聚合函數 `COUNT()` 時候注意兩種不同的用法\n",
    "\n",
    "- 輸入 `*` 藉以獲得資料表列數。\n",
    "- 輸入欄位的名稱獲得該欄位「非空值」列數。\n",
    "- 兩種不同用法在沒有空值 `NULL` 的欄位上輸出是相同的。"
   ]
  },
  {
   "cell_type": "code",
   "execution_count": 17,
   "id": "ab634265",
   "metadata": {},
   "outputs": [
    {
     "data": {
      "text/html": [
       "<table>\n",
       "<tr>\n",
       "<th>nrows_table</th>\n",
       "<th>non_null_province</th>\n",
       "<th>non_null_county</th>\n",
       "<th>non_null_country_region</th>\n",
       "</tr>\n",
       "<tr>\n",
       "<td>4175</td>\n",
       "<td>3981</td>\n",
       "<td>3342</td>\n",
       "<td>4175</td>\n",
       "</tr>\n",
       "</table>\n",
       "1 row in set (0.03 sec)"
      ],
      "text/plain": [
       "+-------------+-------------------+-----------------+-------------------------+\n",
       "| nrows_table | non_null_province | non_null_county | non_null_country_region |\n",
       "+-------------+-------------------+-----------------+-------------------------+\n",
       "| 4175        | 3981              | 3342            | 4175                    |\n",
       "+-------------+-------------------+-----------------+-------------------------+\n",
       "1 row in set (0.03 sec)"
      ]
     },
     "execution_count": 17,
     "metadata": {},
     "output_type": "execute_result"
    }
   ],
   "source": [
    "SELECT COUNT(*) AS nrows_table,\n",
    "       COUNT(Province_State) AS non_null_province,\n",
    "       COUNT(Admin2) AS non_null_county,\n",
    "       COUNT(Country_Region) AS non_null_country_region\n",
    "  FROM lookup_table;"
   ]
  },
  {
   "cell_type": "markdown",
   "id": "a4132eb3",
   "metadata": {
    "slideshow": {
     "slide_type": "subslide"
    }
   },
   "source": [
    "## 如何快速釐清不同資料庫管理系統的函數文件\n",
    "\n",
    "- 搜尋「{database name} function reference」，同樣從通用（四個小分類）與聚合兩個角度切入。\n",
    "    - 以 SQLite 舉例。\n",
    "    - 以 MySQL 舉例。\n",
    "    - 以 Oracle Database 舉例。"
   ]
  },
  {
   "cell_type": "markdown",
   "id": "544ad49f",
   "metadata": {
    "slideshow": {
     "slide_type": "slide"
    }
   },
   "source": [
    "## 排序查詢結果"
   ]
  },
  {
   "cell_type": "markdown",
   "id": "ea9bf8c1",
   "metadata": {
    "slideshow": {
     "slide_type": "subslide"
    }
   },
   "source": [
    "## 除了欄位名稱，`ORDER BY` 亦可以指定 `SELECT` 之後的欄位順序"
   ]
  },
  {
   "cell_type": "code",
   "execution_count": 18,
   "id": "fd4a004f",
   "metadata": {},
   "outputs": [
    {
     "data": {
      "text/html": [
       "<table>\n",
       "<tr>\n",
       "<th>title</th>\n",
       "<th>release_year</th>\n",
       "<th>rating</th>\n",
       "</tr>\n",
       "<tr>\n",
       "<td>Zack Snyder's Justice League</td>\n",
       "<td>2021</td>\n",
       "<td>8.3</td>\n",
       "</tr>\n",
       "<tr>\n",
       "<td>Soul</td>\n",
       "<td>2020</td>\n",
       "<td>8.1</td>\n",
       "</tr>\n",
       "<tr>\n",
       "<td>Hamilton</td>\n",
       "<td>2020</td>\n",
       "<td>8.5</td>\n",
       "</tr>\n",
       "<tr>\n",
       "<td>Ford v Ferrari</td>\n",
       "<td>2019</td>\n",
       "<td>8.1</td>\n",
       "</tr>\n",
       "<tr>\n",
       "<td>Portrait of a Lady on Fire</td>\n",
       "<td>2019</td>\n",
       "<td>8.1</td>\n",
       "</tr>\n",
       "<tr>\n",
       "<td>Klaus</td>\n",
       "<td>2019</td>\n",
       "<td>8.2</td>\n",
       "</tr>\n",
       "<tr>\n",
       "<td>7 Kogustaki Mucize</td>\n",
       "<td>2019</td>\n",
       "<td>8.2</td>\n",
       "</tr>\n",
       "<tr>\n",
       "<td>1917</td>\n",
       "<td>2019</td>\n",
       "<td>8.3</td>\n",
       "</tr>\n",
       "<tr>\n",
       "<td>Joker</td>\n",
       "<td>2019</td>\n",
       "<td>8.4</td>\n",
       "</tr>\n",
       "<tr>\n",
       "<td>Avengers: Endgame</td>\n",
       "<td>2019</td>\n",
       "<td>8.4</td>\n",
       "</tr>\n",
       "<tr>\n",
       "<td>Parasite</td>\n",
       "<td>2019</td>\n",
       "<td>8.6</td>\n",
       "</tr>\n",
       "</table>\n",
       "11 rows in set (0.00 sec)"
      ],
      "text/plain": [
       "+------------------------------+--------------+--------+\n",
       "| title                        | release_year | rating |\n",
       "+------------------------------+--------------+--------+\n",
       "| Zack Snyder's Justice League | 2021         | 8.3    |\n",
       "+------------------------------+--------------+--------+\n",
       "| Soul                         | 2020         | 8.1    |\n",
       "+------------------------------+--------------+--------+\n",
       "| Hamilton                     | 2020         | 8.5    |\n",
       "+------------------------------+--------------+--------+\n",
       "| Ford v Ferrari               | 2019         | 8.1    |\n",
       "+------------------------------+--------------+--------+\n",
       "| Portrait of a Lady on Fire   | 2019         | 8.1    |\n",
       "+------------------------------+--------------+--------+\n",
       "| Klaus                        | 2019         | 8.2    |\n",
       "+------------------------------+--------------+--------+\n",
       "| 7 Kogustaki Mucize           | 2019         | 8.2    |\n",
       "+------------------------------+--------------+--------+\n",
       "| 1917                         | 2019         | 8.3    |\n",
       "+------------------------------+--------------+--------+\n",
       "| Joker                        | 2019         | 8.4    |\n",
       "+------------------------------+--------------+--------+\n",
       "| Avengers: Endgame            | 2019         | 8.4    |\n",
       "+------------------------------+--------------+--------+\n",
       "| Parasite                     | 2019         | 8.6    |\n",
       "+------------------------------+--------------+--------+\n",
       "11 rows in set (0.00 sec)"
      ]
     },
     "execution_count": 18,
     "metadata": {},
     "output_type": "execute_result"
    }
   ],
   "source": [
    "SELECT title,\n",
    "       release_year,\n",
    "       rating\n",
    "  FROM movies\n",
    " ORDER BY 2 DESC,\n",
    "          3\n",
    " LIMIT 11;"
   ]
  },
  {
   "cell_type": "markdown",
   "id": "64e33b75",
   "metadata": {
    "slideshow": {
     "slide_type": "subslide"
    }
   },
   "source": [
    "## 排序有 `NULL` 的欄位\n",
    "\n",
    "- 預設從 `NULL` 開始排序。\n",
    "- 可以 `NULLS LAST` 指定讓 `NULL` 排序在末端（預設 `NULLS FIRST`）。"
   ]
  },
  {
   "cell_type": "code",
   "execution_count": 19,
   "id": "132aad47",
   "metadata": {
    "slideshow": {
     "slide_type": "subslide"
    }
   },
   "outputs": [
    {
     "data": {
      "text/html": [
       "<table>\n",
       "<tr>\n",
       "<th>Country_Region</th>\n",
       "<th>Province_State</th>\n",
       "</tr>\n",
       "<tr>\n",
       "<td>Afghanistan</td>\n",
       "<td>NULL</td>\n",
       "</tr>\n",
       "<tr>\n",
       "<td>Albania</td>\n",
       "<td>NULL</td>\n",
       "</tr>\n",
       "<tr>\n",
       "<td>Algeria</td>\n",
       "<td>NULL</td>\n",
       "</tr>\n",
       "<tr>\n",
       "<td>Andorra</td>\n",
       "<td>NULL</td>\n",
       "</tr>\n",
       "<tr>\n",
       "<td>Angola</td>\n",
       "<td>NULL</td>\n",
       "</tr>\n",
       "<tr>\n",
       "<td>Antigua and Barbuda</td>\n",
       "<td>NULL</td>\n",
       "</tr>\n",
       "<tr>\n",
       "<td>Azerbaijan</td>\n",
       "<td>NULL</td>\n",
       "</tr>\n",
       "<tr>\n",
       "<td>Argentina</td>\n",
       "<td>NULL</td>\n",
       "</tr>\n",
       "<tr>\n",
       "<td>Australia</td>\n",
       "<td>NULL</td>\n",
       "</tr>\n",
       "<tr>\n",
       "<td>Austria</td>\n",
       "<td>NULL</td>\n",
       "</tr>\n",
       "</table>\n",
       "10 rows in set (0.00 sec)"
      ],
      "text/plain": [
       "+---------------------+----------------+\n",
       "| Country_Region      | Province_State |\n",
       "+---------------------+----------------+\n",
       "| Afghanistan         | NULL           |\n",
       "+---------------------+----------------+\n",
       "| Albania             | NULL           |\n",
       "+---------------------+----------------+\n",
       "| Algeria             | NULL           |\n",
       "+---------------------+----------------+\n",
       "| Andorra             | NULL           |\n",
       "+---------------------+----------------+\n",
       "| Angola              | NULL           |\n",
       "+---------------------+----------------+\n",
       "| Antigua and Barbuda | NULL           |\n",
       "+---------------------+----------------+\n",
       "| Azerbaijan          | NULL           |\n",
       "+---------------------+----------------+\n",
       "| Argentina           | NULL           |\n",
       "+---------------------+----------------+\n",
       "| Australia           | NULL           |\n",
       "+---------------------+----------------+\n",
       "| Austria             | NULL           |\n",
       "+---------------------+----------------+\n",
       "10 rows in set (0.00 sec)"
      ]
     },
     "execution_count": 19,
     "metadata": {},
     "output_type": "execute_result"
    }
   ],
   "source": [
    "SELECT Country_Region,\n",
    "       Province_State\n",
    "  FROM lookup_table\n",
    " ORDER BY Province_State\n",
    " LIMIT 10;"
   ]
  },
  {
   "cell_type": "code",
   "execution_count": 20,
   "id": "d9147d19",
   "metadata": {
    "slideshow": {
     "slide_type": "subslide"
    }
   },
   "outputs": [
    {
     "data": {
      "text/html": [
       "<table>\n",
       "<tr>\n",
       "<th>Country_Region</th>\n",
       "<th>Province_State</th>\n",
       "</tr>\n",
       "<tr>\n",
       "<td>Afghanistan</td>\n",
       "<td>NULL</td>\n",
       "</tr>\n",
       "<tr>\n",
       "<td>Albania</td>\n",
       "<td>NULL</td>\n",
       "</tr>\n",
       "<tr>\n",
       "<td>Algeria</td>\n",
       "<td>NULL</td>\n",
       "</tr>\n",
       "<tr>\n",
       "<td>Andorra</td>\n",
       "<td>NULL</td>\n",
       "</tr>\n",
       "<tr>\n",
       "<td>Angola</td>\n",
       "<td>NULL</td>\n",
       "</tr>\n",
       "<tr>\n",
       "<td>Antigua and Barbuda</td>\n",
       "<td>NULL</td>\n",
       "</tr>\n",
       "<tr>\n",
       "<td>Azerbaijan</td>\n",
       "<td>NULL</td>\n",
       "</tr>\n",
       "<tr>\n",
       "<td>Argentina</td>\n",
       "<td>NULL</td>\n",
       "</tr>\n",
       "<tr>\n",
       "<td>Australia</td>\n",
       "<td>NULL</td>\n",
       "</tr>\n",
       "<tr>\n",
       "<td>Austria</td>\n",
       "<td>NULL</td>\n",
       "</tr>\n",
       "</table>\n",
       "10 rows in set (0.00 sec)"
      ],
      "text/plain": [
       "+---------------------+----------------+\n",
       "| Country_Region      | Province_State |\n",
       "+---------------------+----------------+\n",
       "| Afghanistan         | NULL           |\n",
       "+---------------------+----------------+\n",
       "| Albania             | NULL           |\n",
       "+---------------------+----------------+\n",
       "| Algeria             | NULL           |\n",
       "+---------------------+----------------+\n",
       "| Andorra             | NULL           |\n",
       "+---------------------+----------------+\n",
       "| Angola              | NULL           |\n",
       "+---------------------+----------------+\n",
       "| Antigua and Barbuda | NULL           |\n",
       "+---------------------+----------------+\n",
       "| Azerbaijan          | NULL           |\n",
       "+---------------------+----------------+\n",
       "| Argentina           | NULL           |\n",
       "+---------------------+----------------+\n",
       "| Australia           | NULL           |\n",
       "+---------------------+----------------+\n",
       "| Austria             | NULL           |\n",
       "+---------------------+----------------+\n",
       "10 rows in set (0.00 sec)"
      ]
     },
     "execution_count": 20,
     "metadata": {},
     "output_type": "execute_result"
    }
   ],
   "source": [
    "SELECT Country_Region,\n",
    "       Province_State\n",
    "  FROM lookup_table\n",
    " ORDER BY Province_State NULLS FIRST\n",
    " LIMIT 10;"
   ]
  },
  {
   "cell_type": "code",
   "execution_count": 21,
   "id": "8a5a9abc",
   "metadata": {
    "slideshow": {
     "slide_type": "subslide"
    }
   },
   "outputs": [
    {
     "data": {
      "text/html": [
       "<table>\n",
       "<tr>\n",
       "<th>Country_Region</th>\n",
       "<th>Province_State</th>\n",
       "</tr>\n",
       "<tr>\n",
       "<td>Nigeria</td>\n",
       "<td>Abia</td>\n",
       "</tr>\n",
       "<tr>\n",
       "<td>Italy</td>\n",
       "<td>Abruzzo</td>\n",
       "</tr>\n",
       "<tr>\n",
       "<td>Brazil</td>\n",
       "<td>Acre</td>\n",
       "</tr>\n",
       "<tr>\n",
       "<td>Nigeria</td>\n",
       "<td>Adamawa</td>\n",
       "</tr>\n",
       "<tr>\n",
       "<td>Russia</td>\n",
       "<td>Adygea Republic</td>\n",
       "</tr>\n",
       "<tr>\n",
       "<td>Mexico</td>\n",
       "<td>Aguascalientes</td>\n",
       "</tr>\n",
       "<tr>\n",
       "<td>Japan</td>\n",
       "<td>Aichi</td>\n",
       "</tr>\n",
       "<tr>\n",
       "<td>Japan</td>\n",
       "<td>Akita</td>\n",
       "</tr>\n",
       "<tr>\n",
       "<td>Nigeria</td>\n",
       "<td>Akwa Ibom</td>\n",
       "</tr>\n",
       "<tr>\n",
       "<td>US</td>\n",
       "<td>Alabama</td>\n",
       "</tr>\n",
       "</table>\n",
       "10 rows in set (0.00 sec)"
      ],
      "text/plain": [
       "+----------------+-----------------+\n",
       "| Country_Region | Province_State  |\n",
       "+----------------+-----------------+\n",
       "| Nigeria        | Abia            |\n",
       "+----------------+-----------------+\n",
       "| Italy          | Abruzzo         |\n",
       "+----------------+-----------------+\n",
       "| Brazil         | Acre            |\n",
       "+----------------+-----------------+\n",
       "| Nigeria        | Adamawa         |\n",
       "+----------------+-----------------+\n",
       "| Russia         | Adygea Republic |\n",
       "+----------------+-----------------+\n",
       "| Mexico         | Aguascalientes  |\n",
       "+----------------+-----------------+\n",
       "| Japan          | Aichi           |\n",
       "+----------------+-----------------+\n",
       "| Japan          | Akita           |\n",
       "+----------------+-----------------+\n",
       "| Nigeria        | Akwa Ibom       |\n",
       "+----------------+-----------------+\n",
       "| US             | Alabama         |\n",
       "+----------------+-----------------+\n",
       "10 rows in set (0.00 sec)"
      ]
     },
     "execution_count": 21,
     "metadata": {},
     "output_type": "execute_result"
    }
   ],
   "source": [
    "SELECT Country_Region,\n",
    "       Province_State\n",
    "  FROM lookup_table\n",
    " ORDER BY Province_State NULLS LAST\n",
    " LIMIT 10;"
   ]
  },
  {
   "cell_type": "markdown",
   "id": "076ebe14",
   "metadata": {
    "slideshow": {
     "slide_type": "subslide"
    }
   },
   "source": [
    "## `ORDER BY` 搭配 `LIMIT` 與 `OFFSET`\n",
    "\n",
    "- `LIMIT m` 可以限制顯示列數 `m` 列。\n",
    "- `OFFSET m` 可以指定要略過前面 `m` 列。"
   ]
  },
  {
   "cell_type": "code",
   "execution_count": 22,
   "id": "fadf73fe",
   "metadata": {
    "slideshow": {
     "slide_type": "subslide"
    }
   },
   "outputs": [
    {
     "data": {
      "text/html": [
       "<table>\n",
       "<tr>\n",
       "<th>title</th>\n",
       "<th>rating</th>\n",
       "</tr>\n",
       "<tr>\n",
       "<td>The Shawshank Redemption</td>\n",
       "<td>9.3</td>\n",
       "</tr>\n",
       "<tr>\n",
       "<td>The Godfather</td>\n",
       "<td>9.2</td>\n",
       "</tr>\n",
       "<tr>\n",
       "<td>The Godfather: Part II</td>\n",
       "<td>9</td>\n",
       "</tr>\n",
       "<tr>\n",
       "<td>The Dark Knight</td>\n",
       "<td>9</td>\n",
       "</tr>\n",
       "<tr>\n",
       "<td>12 Angry Men</td>\n",
       "<td>9</td>\n",
       "</tr>\n",
       "<tr>\n",
       "<td>Schindler's List</td>\n",
       "<td>8.9</td>\n",
       "</tr>\n",
       "<tr>\n",
       "<td>The Lord of the Rings: The Return of the King</td>\n",
       "<td>8.9</td>\n",
       "</tr>\n",
       "</table>\n",
       "7 rows in set (0.00 sec)"
      ],
      "text/plain": [
       "+-----------------------------------------------+--------+\n",
       "| title                                         | rating |\n",
       "+-----------------------------------------------+--------+\n",
       "| The Shawshank Redemption                      | 9.3    |\n",
       "+-----------------------------------------------+--------+\n",
       "| The Godfather                                 | 9.2    |\n",
       "+-----------------------------------------------+--------+\n",
       "| The Godfather: Part II                        | 9      |\n",
       "+-----------------------------------------------+--------+\n",
       "| The Dark Knight                               | 9      |\n",
       "+-----------------------------------------------+--------+\n",
       "| 12 Angry Men                                  | 9      |\n",
       "+-----------------------------------------------+--------+\n",
       "| Schindler's List                              | 8.9    |\n",
       "+-----------------------------------------------+--------+\n",
       "| The Lord of the Rings: The Return of the King | 8.9    |\n",
       "+-----------------------------------------------+--------+\n",
       "7 rows in set (0.00 sec)"
      ]
     },
     "execution_count": 22,
     "metadata": {},
     "output_type": "execute_result"
    }
   ],
   "source": [
    "SELECT title,\n",
    "       rating\n",
    "  FROM movies\n",
    " ORDER BY rating DESC\n",
    " LIMIT 7; -- Top 7"
   ]
  },
  {
   "cell_type": "code",
   "execution_count": 23,
   "id": "c3e747d8",
   "metadata": {
    "slideshow": {
     "slide_type": "subslide"
    }
   },
   "outputs": [
    {
     "data": {
      "text/html": [
       "<table>\n",
       "<tr>\n",
       "<th>title</th>\n",
       "<th>rating</th>\n",
       "</tr>\n",
       "<tr>\n",
       "<td>The Godfather: Part II</td>\n",
       "<td>9</td>\n",
       "</tr>\n",
       "<tr>\n",
       "<td>The Dark Knight</td>\n",
       "<td>9</td>\n",
       "</tr>\n",
       "<tr>\n",
       "<td>12 Angry Men</td>\n",
       "<td>9</td>\n",
       "</tr>\n",
       "<tr>\n",
       "<td>Schindler's List</td>\n",
       "<td>8.9</td>\n",
       "</tr>\n",
       "<tr>\n",
       "<td>The Lord of the Rings: The Return of the King</td>\n",
       "<td>8.9</td>\n",
       "</tr>\n",
       "</table>\n",
       "5 rows in set (0.00 sec)"
      ],
      "text/plain": [
       "+-----------------------------------------------+--------+\n",
       "| title                                         | rating |\n",
       "+-----------------------------------------------+--------+\n",
       "| The Godfather: Part II                        | 9      |\n",
       "+-----------------------------------------------+--------+\n",
       "| The Dark Knight                               | 9      |\n",
       "+-----------------------------------------------+--------+\n",
       "| 12 Angry Men                                  | 9      |\n",
       "+-----------------------------------------------+--------+\n",
       "| Schindler's List                              | 8.9    |\n",
       "+-----------------------------------------------+--------+\n",
       "| The Lord of the Rings: The Return of the King | 8.9    |\n",
       "+-----------------------------------------------+--------+\n",
       "5 rows in set (0.00 sec)"
      ]
     },
     "execution_count": 23,
     "metadata": {},
     "output_type": "execute_result"
    }
   ],
   "source": [
    "SELECT title,\n",
    "       rating\n",
    "  FROM movies\n",
    " ORDER BY rating DESC\n",
    " LIMIT 5 \n",
    "OFFSET 2; -- Top 3rd - 7th"
   ]
  },
  {
   "cell_type": "code",
   "execution_count": 24,
   "id": "3069955a",
   "metadata": {
    "slideshow": {
     "slide_type": "subslide"
    }
   },
   "outputs": [
    {
     "data": {
      "text/html": [
       "<table>\n",
       "<tr>\n",
       "<th>title</th>\n",
       "<th>rating</th>\n",
       "</tr>\n",
       "<tr>\n",
       "<td>The Dark Knight</td>\n",
       "<td>9</td>\n",
       "</tr>\n",
       "</table>\n",
       "1 row in set (0.00 sec)"
      ],
      "text/plain": [
       "+-----------------+--------+\n",
       "| title           | rating |\n",
       "+-----------------+--------+\n",
       "| The Dark Knight | 9      |\n",
       "+-----------------+--------+\n",
       "1 row in set (0.00 sec)"
      ]
     },
     "execution_count": 24,
     "metadata": {},
     "output_type": "execute_result"
    }
   ],
   "source": [
    "SELECT title,\n",
    "       rating\n",
    "  FROM movies\n",
    " ORDER BY rating DESC\n",
    " LIMIT 1\n",
    "OFFSET 3; -- The 4th best movie of all-time"
   ]
  },
  {
   "cell_type": "markdown",
   "id": "a0d07d3e",
   "metadata": {
    "slideshow": {
     "slide_type": "slide"
    }
   },
   "source": [
    "## 篩選觀測值"
   ]
  },
  {
   "cell_type": "markdown",
   "id": "threaded-police",
   "metadata": {
    "slideshow": {
     "slide_type": "subslide"
    }
   },
   "source": [
    "## 文字特徵比對\n",
    "\n",
    "除了使用 `=` 作為作為文字內容精準比對的關係運算符，我們也常需要使用具備特徵比對（Pattern matching）性質的關係運算符 `LIKE`，使用 `LIKE` 作為關係運算符的時候要搭配萬用字元（Wildcards）來描述特徵。\n",
    "\n",
    "|萬用字元|作用描述|\n",
    "|:------|:-----|\n",
    "|`%`|表示任意文字，包含空字元|\n",
    "|`_`|表示剛好一個文字|\n",
    "\n",
    "舉例來說，`'The Lord of the Rings%'` 這個文字特徵表示開頭為 Lord of the Rings 後面接任意文字。"
   ]
  },
  {
   "cell_type": "code",
   "execution_count": 25,
   "id": "activated-regular",
   "metadata": {
    "slideshow": {
     "slide_type": "subslide"
    }
   },
   "outputs": [
    {
     "data": {
      "text/html": [
       "<table>\n",
       "<tr>\n",
       "<th>title</th>\n",
       "</tr>\n",
       "<tr>\n",
       "<td>The Lord of the Rings: The Return of the King</td>\n",
       "</tr>\n",
       "<tr>\n",
       "<td>The Lord of the Rings: The Fellowship of the Ring</td>\n",
       "</tr>\n",
       "<tr>\n",
       "<td>The Lord of the Rings: The Two Towers</td>\n",
       "</tr>\n",
       "</table>\n",
       "3 rows in set (0.00 sec)"
      ],
      "text/plain": [
       "+---------------------------------------------------+\n",
       "| title                                             |\n",
       "+---------------------------------------------------+\n",
       "| The Lord of the Rings: The Return of the King     |\n",
       "+---------------------------------------------------+\n",
       "| The Lord of the Rings: The Fellowship of the Ring |\n",
       "+---------------------------------------------------+\n",
       "| The Lord of the Rings: The Two Towers             |\n",
       "+---------------------------------------------------+\n",
       "3 rows in set (0.00 sec)"
      ]
     },
     "execution_count": 25,
     "metadata": {},
     "output_type": "execute_result"
    }
   ],
   "source": [
    "SELECT title\n",
    "  FROM movies\n",
    " WHERE title LIKE 'The Lord of the Rings%'; -- The Lord of the Rings followed by any characters"
   ]
  },
  {
   "cell_type": "code",
   "execution_count": 26,
   "id": "fewer-milwaukee",
   "metadata": {
    "slideshow": {
     "slide_type": "subslide"
    }
   },
   "outputs": [
    {
     "data": {
      "text/html": [
       "<table>\n",
       "<tr>\n",
       "<th>title</th>\n",
       "</tr>\n",
       "<tr>\n",
       "<td>The Matrix</td>\n",
       "</tr>\n",
       "<tr>\n",
       "<td>The Bandit</td>\n",
       "</tr>\n",
       "</table>\n",
       "2 rows in set (0.00 sec)"
      ],
      "text/plain": [
       "+------------+\n",
       "| title      |\n",
       "+------------+\n",
       "| The Matrix |\n",
       "+------------+\n",
       "| The Bandit |\n",
       "+------------+\n",
       "2 rows in set (0.00 sec)"
      ]
     },
     "execution_count": 26,
     "metadata": {},
     "output_type": "execute_result"
    }
   ],
   "source": [
    "SELECT title\n",
    "  FROM movies\n",
    " WHERE title LIKE 'The ______'; -- The followed by a space and 6 characters"
   ]
  },
  {
   "cell_type": "markdown",
   "id": "ae9fe25f",
   "metadata": {
    "slideshow": {
     "slide_type": "subslide"
    }
   },
   "source": [
    "## 比對 `%` 與 `_` 文字特徵\n",
    "\n",
    "使用 `ESCAPE` 保留字描述跳脫符號 `\\`。"
   ]
  },
  {
   "cell_type": "code",
   "execution_count": 27,
   "id": "2ed6f940",
   "metadata": {
    "slideshow": {
     "slide_type": "subslide"
    }
   },
   "outputs": [
    {
     "data": {
      "text/html": [
       "<table>\n",
       "<tr>\n",
       "<th>text_without_percentage</th>\n",
       "<th>true</th>\n",
       "<th>false</th>\n",
       "<th>text_with_pecentage</th>\n",
       "<th>true</th>\n",
       "</tr>\n",
       "<tr>\n",
       "<td>87</td>\n",
       "<td>1</td>\n",
       "<td>0</td>\n",
       "<td>87%</td>\n",
       "<td>1</td>\n",
       "</tr>\n",
       "</table>\n",
       "1 row in set (0.00 sec)"
      ],
      "text/plain": [
       "+-------------------------+------+-------+---------------------+------+\n",
       "| text_without_percentage | true | false | text_with_pecentage | true |\n",
       "+-------------------------+------+-------+---------------------+------+\n",
       "| 87                      | 1    | 0     | 87%                 | 1    |\n",
       "+-------------------------+------+-------+---------------------+------+\n",
       "1 row in set (0.00 sec)"
      ]
     },
     "execution_count": 27,
     "metadata": {},
     "output_type": "execute_result"
    }
   ],
   "source": [
    "SELECT '87' AS text_without_percentage,\n",
    "       '87' LIKE '__%' AS true,\n",
    "       '87' LIKE '__\\%' ESCAPE '\\' AS false,\n",
    "       '87%' AS text_with_pecentage,\n",
    "       '87%' LIKE '__\\%' ESCAPE '\\' AS true;"
   ]
  },
  {
   "cell_type": "code",
   "execution_count": 28,
   "id": "da6610d3",
   "metadata": {
    "slideshow": {
     "slide_type": "subslide"
    }
   },
   "outputs": [
    {
     "data": {
      "text/html": [
       "<table>\n",
       "<tr>\n",
       "<th>text_without_underscore</th>\n",
       "<th>true</th>\n",
       "<th>false</th>\n",
       "<th>text_with_underscore</th>\n",
       "<th>true</th>\n",
       "</tr>\n",
       "<tr>\n",
       "<td>87</td>\n",
       "<td>1</td>\n",
       "<td>0</td>\n",
       "<td>87_</td>\n",
       "<td>1</td>\n",
       "</tr>\n",
       "</table>\n",
       "1 row in set (0.00 sec)"
      ],
      "text/plain": [
       "+-------------------------+------+-------+----------------------+------+\n",
       "| text_without_underscore | true | false | text_with_underscore | true |\n",
       "+-------------------------+------+-------+----------------------+------+\n",
       "| 87                      | 1    | 0     | 87_                  | 1    |\n",
       "+-------------------------+------+-------+----------------------+------+\n",
       "1 row in set (0.00 sec)"
      ]
     },
     "execution_count": 28,
     "metadata": {},
     "output_type": "execute_result"
    }
   ],
   "source": [
    "SELECT '87' AS text_without_underscore,\n",
    "       '87' LIKE '%_' AS true,\n",
    "       '87' LIKE '%_\\_' ESCAPE '\\' AS false,\n",
    "       '87_' AS text_with_underscore,\n",
    "       '87_' LIKE '%_\\_' ESCAPE '\\' AS true;"
   ]
  },
  {
   "cell_type": "markdown",
   "id": "italic-symposium",
   "metadata": {
    "slideshow": {
     "slide_type": "subslide"
    }
   },
   "source": [
    "## 使用 `AND` 結合兩個條件\n",
    "\n",
    "兩條件皆為真才會判斷為真，其餘狀況均為假。"
   ]
  },
  {
   "cell_type": "code",
   "execution_count": 29,
   "id": "4e615f25",
   "metadata": {
    "slideshow": {
     "slide_type": "-"
    }
   },
   "outputs": [
    {
     "data": {
      "text/html": [
       "<table>\n",
       "<tr>\n",
       "<th>False</th>\n",
       "<th>False</th>\n",
       "<th>False</th>\n",
       "<th>True</th>\n",
       "</tr>\n",
       "<tr>\n",
       "<td>0</td>\n",
       "<td>0</td>\n",
       "<td>0</td>\n",
       "<td>1</td>\n",
       "</tr>\n",
       "</table>\n",
       "1 row in set (0.00 sec)"
      ],
      "text/plain": [
       "+-------+-------+-------+------+\n",
       "| False | False | False | True |\n",
       "+-------+-------+-------+------+\n",
       "| 0     | 0     | 0     | 1    |\n",
       "+-------+-------+-------+------+\n",
       "1 row in set (0.00 sec)"
      ]
     },
     "execution_count": 29,
     "metadata": {},
     "output_type": "execute_result"
    }
   ],
   "source": [
    "SELECT 0 AND 0 AS False,\n",
    "       0 AND 1 AS False,\n",
    "       1 AND 0 AS False,\n",
    "       1 AND 1 AS True;"
   ]
  },
  {
   "cell_type": "markdown",
   "id": "f02c382a",
   "metadata": {
    "slideshow": {
     "slide_type": "subslide"
    }
   },
   "source": [
    "## 使用 `AND` 結合兩個條件（續）\n",
    "\n",
    "最後從資料表中篩選的觀測值，會是 `condition_1_and_condition_2` 為 1（布林值 `True`）的觀測值。"
   ]
  },
  {
   "cell_type": "code",
   "execution_count": 30,
   "id": "f71718be",
   "metadata": {},
   "outputs": [
    {
     "data": {
      "text/html": [
       "<table>\n",
       "<tr>\n",
       "<th>condition_1</th>\n",
       "<th>condition_2</th>\n",
       "<th>condtion_1_and_condition_2</th>\n",
       "</tr>\n",
       "<tr>\n",
       "<td>1</td>\n",
       "<td>1</td>\n",
       "<td>1</td>\n",
       "</tr>\n",
       "<tr>\n",
       "<td>0</td>\n",
       "<td>1</td>\n",
       "<td>0</td>\n",
       "</tr>\n",
       "<tr>\n",
       "<td>0</td>\n",
       "<td>1</td>\n",
       "<td>0</td>\n",
       "</tr>\n",
       "<tr>\n",
       "<td>1</td>\n",
       "<td>1</td>\n",
       "<td>1</td>\n",
       "</tr>\n",
       "<tr>\n",
       "<td>0</td>\n",
       "<td>1</td>\n",
       "<td>0</td>\n",
       "</tr>\n",
       "</table>\n",
       "5 rows in set (0.00 sec)"
      ],
      "text/plain": [
       "+-------------+-------------+----------------------------+\n",
       "| condition_1 | condition_2 | condtion_1_and_condition_2 |\n",
       "+-------------+-------------+----------------------------+\n",
       "| 1           | 1           | 1                          |\n",
       "+-------------+-------------+----------------------------+\n",
       "| 0           | 1           | 0                          |\n",
       "+-------------+-------------+----------------------------+\n",
       "| 0           | 1           | 0                          |\n",
       "+-------------+-------------+----------------------------+\n",
       "| 1           | 1           | 1                          |\n",
       "+-------------+-------------+----------------------------+\n",
       "| 0           | 1           | 0                          |\n",
       "+-------------+-------------+----------------------------+\n",
       "5 rows in set (0.00 sec)"
      ]
     },
     "execution_count": 30,
     "metadata": {},
     "output_type": "execute_result"
    }
   ],
   "source": [
    "SELECT release_year >= 1990 AS condition_1,\n",
    "       release_year <= 2010 AS condition_2,\n",
    "       release_year >= 1990 AND release_year <= 2010 AS condtion_1_and_condition_2\n",
    "  FROM movies\n",
    " LIMIT 5;"
   ]
  },
  {
   "cell_type": "markdown",
   "id": "0dc4aafe",
   "metadata": {
    "slideshow": {
     "slide_type": "subslide"
    }
   },
   "source": [
    "## 以 `AND` 結合 `>=` 與 `<=` 兩個關係運算符之條件\n",
    "\n",
    "可以改使用 `BETWEEN lower_bound AND upper_bound` 作為關係運算符。"
   ]
  },
  {
   "cell_type": "code",
   "execution_count": 31,
   "id": "d8397928",
   "metadata": {},
   "outputs": [
    {
     "data": {
      "text/html": [
       "<table>\n",
       "<tr>\n",
       "<th>condition_1</th>\n",
       "<th>condition_2</th>\n",
       "<th>condtion_1_and_condition_2</th>\n",
       "</tr>\n",
       "<tr>\n",
       "<td>1</td>\n",
       "<td>1</td>\n",
       "<td>1</td>\n",
       "</tr>\n",
       "<tr>\n",
       "<td>0</td>\n",
       "<td>1</td>\n",
       "<td>0</td>\n",
       "</tr>\n",
       "<tr>\n",
       "<td>0</td>\n",
       "<td>1</td>\n",
       "<td>0</td>\n",
       "</tr>\n",
       "<tr>\n",
       "<td>1</td>\n",
       "<td>1</td>\n",
       "<td>1</td>\n",
       "</tr>\n",
       "<tr>\n",
       "<td>0</td>\n",
       "<td>1</td>\n",
       "<td>0</td>\n",
       "</tr>\n",
       "</table>\n",
       "5 rows in set (0.00 sec)"
      ],
      "text/plain": [
       "+-------------+-------------+----------------------------+\n",
       "| condition_1 | condition_2 | condtion_1_and_condition_2 |\n",
       "+-------------+-------------+----------------------------+\n",
       "| 1           | 1           | 1                          |\n",
       "+-------------+-------------+----------------------------+\n",
       "| 0           | 1           | 0                          |\n",
       "+-------------+-------------+----------------------------+\n",
       "| 0           | 1           | 0                          |\n",
       "+-------------+-------------+----------------------------+\n",
       "| 1           | 1           | 1                          |\n",
       "+-------------+-------------+----------------------------+\n",
       "| 0           | 1           | 0                          |\n",
       "+-------------+-------------+----------------------------+\n",
       "5 rows in set (0.00 sec)"
      ]
     },
     "execution_count": 31,
     "metadata": {},
     "output_type": "execute_result"
    }
   ],
   "source": [
    "SELECT release_year >= 1990 AS condition_1,\n",
    "       release_year <= 2010 AS condition_2,\n",
    "       release_year BETWEEN 1990 AND 2010 AS condtion_1_and_condition_2\n",
    "  FROM movies\n",
    " LIMIT 5;"
   ]
  },
  {
   "cell_type": "code",
   "execution_count": 32,
   "id": "ad8cb468",
   "metadata": {
    "slideshow": {
     "slide_type": "subslide"
    }
   },
   "outputs": [
    {
     "data": {
      "text/html": [
       "<table>\n",
       "<tr>\n",
       "<th>title</th>\n",
       "<th>release_year</th>\n",
       "</tr>\n",
       "<tr>\n",
       "<td>The Shawshank Redemption</td>\n",
       "<td>1994</td>\n",
       "</tr>\n",
       "<tr>\n",
       "<td>The Dark Knight</td>\n",
       "<td>2008</td>\n",
       "</tr>\n",
       "<tr>\n",
       "<td>Schindler's List</td>\n",
       "<td>1993</td>\n",
       "</tr>\n",
       "<tr>\n",
       "<td>The Lord of the Rings: The Return of the King</td>\n",
       "<td>2003</td>\n",
       "</tr>\n",
       "<tr>\n",
       "<td>Pulp Fiction</td>\n",
       "<td>1994</td>\n",
       "</tr>\n",
       "</table>\n",
       "5 rows in set (0.00 sec)"
      ],
      "text/plain": [
       "+-----------------------------------------------+--------------+\n",
       "| title                                         | release_year |\n",
       "+-----------------------------------------------+--------------+\n",
       "| The Shawshank Redemption                      | 1994         |\n",
       "+-----------------------------------------------+--------------+\n",
       "| The Dark Knight                               | 2008         |\n",
       "+-----------------------------------------------+--------------+\n",
       "| Schindler's List                              | 1993         |\n",
       "+-----------------------------------------------+--------------+\n",
       "| The Lord of the Rings: The Return of the King | 2003         |\n",
       "+-----------------------------------------------+--------------+\n",
       "| Pulp Fiction                                  | 1994         |\n",
       "+-----------------------------------------------+--------------+\n",
       "5 rows in set (0.00 sec)"
      ]
     },
     "execution_count": 32,
     "metadata": {},
     "output_type": "execute_result"
    }
   ],
   "source": [
    "SELECT title,\n",
    "       release_year\n",
    "  FROM movies\n",
    " WHERE release_year BETWEEN 1990 AND 2010\n",
    " LIMIT 5;"
   ]
  },
  {
   "cell_type": "markdown",
   "id": "later-toddler",
   "metadata": {
    "slideshow": {
     "slide_type": "subslide"
    }
   },
   "source": [
    "## 使用 `OR` 結合兩個條件\n",
    "\n",
    "兩者皆為假才為假，其餘狀況均為真。"
   ]
  },
  {
   "cell_type": "code",
   "execution_count": 33,
   "id": "a3c11a44",
   "metadata": {},
   "outputs": [
    {
     "data": {
      "text/html": [
       "<table>\n",
       "<tr>\n",
       "<th>False</th>\n",
       "<th>True</th>\n",
       "<th>True</th>\n",
       "<th>True</th>\n",
       "</tr>\n",
       "<tr>\n",
       "<td>0</td>\n",
       "<td>1</td>\n",
       "<td>1</td>\n",
       "<td>1</td>\n",
       "</tr>\n",
       "</table>\n",
       "1 row in set (0.00 sec)"
      ],
      "text/plain": [
       "+-------+------+------+------+\n",
       "| False | True | True | True |\n",
       "+-------+------+------+------+\n",
       "| 0     | 1    | 1    | 1    |\n",
       "+-------+------+------+------+\n",
       "1 row in set (0.00 sec)"
      ]
     },
     "execution_count": 33,
     "metadata": {},
     "output_type": "execute_result"
    }
   ],
   "source": [
    "SELECT 0 OR 0 AS False,\n",
    "       0 OR 1 AS True,\n",
    "       1 OR 0 AS True,\n",
    "       1 OR 1 AS True;"
   ]
  },
  {
   "cell_type": "markdown",
   "id": "694450cc",
   "metadata": {
    "slideshow": {
     "slide_type": "subslide"
    }
   },
   "source": [
    "## 使用 `OR` 結合兩個條件（續）\n",
    "\n",
    "最後從資料表中篩選的觀測值，會是 `condition_1_or_condition_2` 為 1（布林值 `True`）的觀測值。"
   ]
  },
  {
   "cell_type": "code",
   "execution_count": 34,
   "id": "d150c563",
   "metadata": {},
   "outputs": [
    {
     "data": {
      "text/html": [
       "<table>\n",
       "<tr>\n",
       "<th>condition_1</th>\n",
       "<th>condition_2</th>\n",
       "<th>condtion_1_or_condition_2</th>\n",
       "</tr>\n",
       "<tr>\n",
       "<td>0</td>\n",
       "<td>0</td>\n",
       "<td>0</td>\n",
       "</tr>\n",
       "<tr>\n",
       "<td>0</td>\n",
       "<td>0</td>\n",
       "<td>0</td>\n",
       "</tr>\n",
       "<tr>\n",
       "<td>0</td>\n",
       "<td>0</td>\n",
       "<td>0</td>\n",
       "</tr>\n",
       "<tr>\n",
       "<td>0</td>\n",
       "<td>1</td>\n",
       "<td>1</td>\n",
       "</tr>\n",
       "<tr>\n",
       "<td>0</td>\n",
       "<td>0</td>\n",
       "<td>0</td>\n",
       "</tr>\n",
       "<tr>\n",
       "<td>1</td>\n",
       "<td>0</td>\n",
       "<td>1</td>\n",
       "</tr>\n",
       "<tr>\n",
       "<td>0</td>\n",
       "<td>0</td>\n",
       "<td>0</td>\n",
       "</tr>\n",
       "<tr>\n",
       "<td>0</td>\n",
       "<td>0</td>\n",
       "<td>0</td>\n",
       "</tr>\n",
       "<tr>\n",
       "<td>0</td>\n",
       "<td>0</td>\n",
       "<td>0</td>\n",
       "</tr>\n",
       "<tr>\n",
       "<td>0</td>\n",
       "<td>0</td>\n",
       "<td>0</td>\n",
       "</tr>\n",
       "</table>\n",
       "10 rows in set (0.00 sec)"
      ],
      "text/plain": [
       "+-------------+-------------+---------------------------+\n",
       "| condition_1 | condition_2 | condtion_1_or_condition_2 |\n",
       "+-------------+-------------+---------------------------+\n",
       "| 0           | 0           | 0                         |\n",
       "+-------------+-------------+---------------------------+\n",
       "| 0           | 0           | 0                         |\n",
       "+-------------+-------------+---------------------------+\n",
       "| 0           | 0           | 0                         |\n",
       "+-------------+-------------+---------------------------+\n",
       "| 0           | 1           | 1                         |\n",
       "+-------------+-------------+---------------------------+\n",
       "| 0           | 0           | 0                         |\n",
       "+-------------+-------------+---------------------------+\n",
       "| 1           | 0           | 1                         |\n",
       "+-------------+-------------+---------------------------+\n",
       "| 0           | 0           | 0                         |\n",
       "+-------------+-------------+---------------------------+\n",
       "| 0           | 0           | 0                         |\n",
       "+-------------+-------------+---------------------------+\n",
       "| 0           | 0           | 0                         |\n",
       "+-------------+-------------+---------------------------+\n",
       "| 0           | 0           | 0                         |\n",
       "+-------------+-------------+---------------------------+\n",
       "10 rows in set (0.00 sec)"
      ]
     },
     "execution_count": 34,
     "metadata": {},
     "output_type": "execute_result"
    }
   ],
   "source": [
    "SELECT director = 'Steven Spielberg' AS condition_1,\n",
    "       director = 'Christopher Nolan' AS condition_2,\n",
    "       director = 'Steven Spielberg' OR director = 'Christopher Nolan' AS condtion_1_or_condition_2\n",
    "  FROM movies\n",
    " LIMIT 10;"
   ]
  },
  {
   "cell_type": "markdown",
   "id": "28fce0b4",
   "metadata": {
    "slideshow": {
     "slide_type": "subslide"
    }
   },
   "source": [
    "## 以 `IN` 作為關係運算符，並以小括號 `()` 表示欲判斷是否存在於目標集合"
   ]
  },
  {
   "cell_type": "code",
   "execution_count": 35,
   "id": "2d5a1590",
   "metadata": {},
   "outputs": [
    {
     "data": {
      "text/html": [
       "<table>\n",
       "<tr>\n",
       "<th>condition_1</th>\n",
       "<th>condition_2</th>\n",
       "<th>condtion_1_or_condition_2</th>\n",
       "</tr>\n",
       "<tr>\n",
       "<td>0</td>\n",
       "<td>0</td>\n",
       "<td>0</td>\n",
       "</tr>\n",
       "<tr>\n",
       "<td>0</td>\n",
       "<td>0</td>\n",
       "<td>0</td>\n",
       "</tr>\n",
       "<tr>\n",
       "<td>0</td>\n",
       "<td>0</td>\n",
       "<td>0</td>\n",
       "</tr>\n",
       "<tr>\n",
       "<td>0</td>\n",
       "<td>1</td>\n",
       "<td>1</td>\n",
       "</tr>\n",
       "<tr>\n",
       "<td>0</td>\n",
       "<td>0</td>\n",
       "<td>0</td>\n",
       "</tr>\n",
       "<tr>\n",
       "<td>1</td>\n",
       "<td>0</td>\n",
       "<td>1</td>\n",
       "</tr>\n",
       "<tr>\n",
       "<td>0</td>\n",
       "<td>0</td>\n",
       "<td>0</td>\n",
       "</tr>\n",
       "<tr>\n",
       "<td>0</td>\n",
       "<td>0</td>\n",
       "<td>0</td>\n",
       "</tr>\n",
       "<tr>\n",
       "<td>0</td>\n",
       "<td>0</td>\n",
       "<td>0</td>\n",
       "</tr>\n",
       "<tr>\n",
       "<td>0</td>\n",
       "<td>0</td>\n",
       "<td>0</td>\n",
       "</tr>\n",
       "</table>\n",
       "10 rows in set (0.00 sec)"
      ],
      "text/plain": [
       "+-------------+-------------+---------------------------+\n",
       "| condition_1 | condition_2 | condtion_1_or_condition_2 |\n",
       "+-------------+-------------+---------------------------+\n",
       "| 0           | 0           | 0                         |\n",
       "+-------------+-------------+---------------------------+\n",
       "| 0           | 0           | 0                         |\n",
       "+-------------+-------------+---------------------------+\n",
       "| 0           | 0           | 0                         |\n",
       "+-------------+-------------+---------------------------+\n",
       "| 0           | 1           | 1                         |\n",
       "+-------------+-------------+---------------------------+\n",
       "| 0           | 0           | 0                         |\n",
       "+-------------+-------------+---------------------------+\n",
       "| 1           | 0           | 1                         |\n",
       "+-------------+-------------+---------------------------+\n",
       "| 0           | 0           | 0                         |\n",
       "+-------------+-------------+---------------------------+\n",
       "| 0           | 0           | 0                         |\n",
       "+-------------+-------------+---------------------------+\n",
       "| 0           | 0           | 0                         |\n",
       "+-------------+-------------+---------------------------+\n",
       "| 0           | 0           | 0                         |\n",
       "+-------------+-------------+---------------------------+\n",
       "10 rows in set (0.00 sec)"
      ]
     },
     "execution_count": 35,
     "metadata": {},
     "output_type": "execute_result"
    }
   ],
   "source": [
    "SELECT director = 'Steven Spielberg' AS condition_1,\n",
    "       director = 'Christopher Nolan' AS condition_2,\n",
    "       director IN ('Steven Spielberg', 'Christopher Nolan') AS condtion_1_or_condition_2\n",
    "  FROM movies\n",
    " LIMIT 10;"
   ]
  },
  {
   "cell_type": "code",
   "execution_count": 36,
   "id": "463fccca",
   "metadata": {
    "slideshow": {
     "slide_type": "subslide"
    }
   },
   "outputs": [
    {
     "data": {
      "text/html": [
       "<table>\n",
       "<tr>\n",
       "<th>title</th>\n",
       "<th>director</th>\n",
       "</tr>\n",
       "<tr>\n",
       "<td>The Dark Knight</td>\n",
       "<td>Christopher Nolan</td>\n",
       "</tr>\n",
       "<tr>\n",
       "<td>Schindler's List</td>\n",
       "<td>Steven Spielberg</td>\n",
       "</tr>\n",
       "<tr>\n",
       "<td>Inception</td>\n",
       "<td>Christopher Nolan</td>\n",
       "</tr>\n",
       "<tr>\n",
       "<td>Saving Private Ryan</td>\n",
       "<td>Steven Spielberg</td>\n",
       "</tr>\n",
       "<tr>\n",
       "<td>Interstellar</td>\n",
       "<td>Christopher Nolan</td>\n",
       "</tr>\n",
       "</table>\n",
       "5 rows in set (0.00 sec)"
      ],
      "text/plain": [
       "+---------------------+-------------------+\n",
       "| title               | director          |\n",
       "+---------------------+-------------------+\n",
       "| The Dark Knight     | Christopher Nolan |\n",
       "+---------------------+-------------------+\n",
       "| Schindler's List    | Steven Spielberg  |\n",
       "+---------------------+-------------------+\n",
       "| Inception           | Christopher Nolan |\n",
       "+---------------------+-------------------+\n",
       "| Saving Private Ryan | Steven Spielberg  |\n",
       "+---------------------+-------------------+\n",
       "| Interstellar        | Christopher Nolan |\n",
       "+---------------------+-------------------+\n",
       "5 rows in set (0.00 sec)"
      ]
     },
     "execution_count": 36,
     "metadata": {},
     "output_type": "execute_result"
    }
   ],
   "source": [
    "SELECT title,\n",
    "       director\n",
    "  FROM movies\n",
    " WHERE director IN ('Steven Spielberg', 'Christopher Nolan')\n",
    " LIMIT 5;"
   ]
  },
  {
   "cell_type": "markdown",
   "id": "d11e14ca",
   "metadata": {
    "slideshow": {
     "slide_type": "subslide"
    }
   },
   "source": [
    "## `NOT` 可以將條件的判斷結果反轉，亦即真假互換"
   ]
  },
  {
   "cell_type": "code",
   "execution_count": 37,
   "id": "fae26ab9",
   "metadata": {},
   "outputs": [
    {
     "data": {
      "text/html": [
       "<table>\n",
       "<tr>\n",
       "<th>False</th>\n",
       "<th>True</th>\n",
       "</tr>\n",
       "<tr>\n",
       "<td>0</td>\n",
       "<td>1</td>\n",
       "</tr>\n",
       "</table>\n",
       "1 row in set (0.00 sec)"
      ],
      "text/plain": [
       "+-------+------+\n",
       "| False | True |\n",
       "+-------+------+\n",
       "| 0     | 1    |\n",
       "+-------+------+\n",
       "1 row in set (0.00 sec)"
      ]
     },
     "execution_count": 37,
     "metadata": {},
     "output_type": "execute_result"
    }
   ],
   "source": [
    "SELECT NOT 1 AS False,\n",
    "       NOT 0 AS True;"
   ]
  },
  {
   "cell_type": "markdown",
   "id": "ff415cab",
   "metadata": {
    "slideshow": {
     "slide_type": "subslide"
    }
   },
   "source": [
    "## `NOT` 可以擺放在條件的前面，也可以放置在關係運算符之前\n",
    "\n",
    "通常我們偏好唸起來與英文更相似的敘述。"
   ]
  },
  {
   "cell_type": "code",
   "execution_count": 38,
   "id": "67e32653",
   "metadata": {},
   "outputs": [
    {
     "data": {
      "text/html": [
       "<table>\n",
       "<tr>\n",
       "<th>title</th>\n",
       "<th>director</th>\n",
       "</tr>\n",
       "<tr>\n",
       "<td>The Shawshank Redemption</td>\n",
       "<td>Frank Darabont</td>\n",
       "</tr>\n",
       "<tr>\n",
       "<td>The Godfather</td>\n",
       "<td>Francis Ford Coppola</td>\n",
       "</tr>\n",
       "<tr>\n",
       "<td>The Godfather: Part II</td>\n",
       "<td>Francis Ford Coppola</td>\n",
       "</tr>\n",
       "<tr>\n",
       "<td>12 Angry Men</td>\n",
       "<td>Sidney Lumet</td>\n",
       "</tr>\n",
       "<tr>\n",
       "<td>The Lord of the Rings: The Return of the King</td>\n",
       "<td>Peter Jackson</td>\n",
       "</tr>\n",
       "</table>\n",
       "5 rows in set (0.00 sec)"
      ],
      "text/plain": [
       "+-----------------------------------------------+----------------------+\n",
       "| title                                         | director             |\n",
       "+-----------------------------------------------+----------------------+\n",
       "| The Shawshank Redemption                      | Frank Darabont       |\n",
       "+-----------------------------------------------+----------------------+\n",
       "| The Godfather                                 | Francis Ford Coppola |\n",
       "+-----------------------------------------------+----------------------+\n",
       "| The Godfather: Part II                        | Francis Ford Coppola |\n",
       "+-----------------------------------------------+----------------------+\n",
       "| 12 Angry Men                                  | Sidney Lumet         |\n",
       "+-----------------------------------------------+----------------------+\n",
       "| The Lord of the Rings: The Return of the King | Peter Jackson        |\n",
       "+-----------------------------------------------+----------------------+\n",
       "5 rows in set (0.00 sec)"
      ]
     },
     "execution_count": 38,
     "metadata": {},
     "output_type": "execute_result"
    }
   ],
   "source": [
    "SELECT title,\n",
    "       director\n",
    "  FROM movies\n",
    " WHERE director NOT IN ('Steven Spielberg', 'Christopher Nolan') -- preferred\n",
    " LIMIT 5;"
   ]
  },
  {
   "cell_type": "code",
   "execution_count": 39,
   "id": "3fc5a30f",
   "metadata": {
    "slideshow": {
     "slide_type": "subslide"
    }
   },
   "outputs": [
    {
     "data": {
      "text/html": [
       "<table>\n",
       "<tr>\n",
       "<th>title</th>\n",
       "<th>director</th>\n",
       "</tr>\n",
       "<tr>\n",
       "<td>The Shawshank Redemption</td>\n",
       "<td>Frank Darabont</td>\n",
       "</tr>\n",
       "<tr>\n",
       "<td>The Godfather</td>\n",
       "<td>Francis Ford Coppola</td>\n",
       "</tr>\n",
       "<tr>\n",
       "<td>The Godfather: Part II</td>\n",
       "<td>Francis Ford Coppola</td>\n",
       "</tr>\n",
       "<tr>\n",
       "<td>12 Angry Men</td>\n",
       "<td>Sidney Lumet</td>\n",
       "</tr>\n",
       "<tr>\n",
       "<td>The Lord of the Rings: The Return of the King</td>\n",
       "<td>Peter Jackson</td>\n",
       "</tr>\n",
       "</table>\n",
       "5 rows in set (0.00 sec)"
      ],
      "text/plain": [
       "+-----------------------------------------------+----------------------+\n",
       "| title                                         | director             |\n",
       "+-----------------------------------------------+----------------------+\n",
       "| The Shawshank Redemption                      | Frank Darabont       |\n",
       "+-----------------------------------------------+----------------------+\n",
       "| The Godfather                                 | Francis Ford Coppola |\n",
       "+-----------------------------------------------+----------------------+\n",
       "| The Godfather: Part II                        | Francis Ford Coppola |\n",
       "+-----------------------------------------------+----------------------+\n",
       "| 12 Angry Men                                  | Sidney Lumet         |\n",
       "+-----------------------------------------------+----------------------+\n",
       "| The Lord of the Rings: The Return of the King | Peter Jackson        |\n",
       "+-----------------------------------------------+----------------------+\n",
       "5 rows in set (0.00 sec)"
      ]
     },
     "execution_count": 39,
     "metadata": {},
     "output_type": "execute_result"
    }
   ],
   "source": [
    "SELECT title,\n",
    "       director\n",
    "  FROM movies\n",
    " WHERE NOT director IN ('Steven Spielberg', 'Christopher Nolan')\n",
    " LIMIT 5;"
   ]
  },
  {
   "cell_type": "markdown",
   "id": "stupid-devil",
   "metadata": {
    "slideshow": {
     "slide_type": "subslide"
    }
   },
   "source": [
    "## 空值的關係運算符\n",
    "\n",
    "`NULL` 空值不適用 `=` 或者 `!=` 關係運算符，必須以 `IS` 作為關係運算符才能夠判斷是否為空值，若逕自使用 `=` 或者 `!=` 則判斷結果依然為 `NULL` 空值，無法得到 0（布林值 `False`）或 1（布林值 `True`）的判斷結果。"
   ]
  },
  {
   "cell_type": "code",
   "execution_count": 40,
   "id": "5a03f7d7",
   "metadata": {},
   "outputs": [
    {
     "data": {
      "text/html": [
       "<table>\n",
       "<tr>\n",
       "<th>null_value</th>\n",
       "<th>null_value</th>\n",
       "<th>True</th>\n",
       "<th>False</th>\n",
       "</tr>\n",
       "<tr>\n",
       "<td>NULL</td>\n",
       "<td>NULL</td>\n",
       "<td>1</td>\n",
       "<td>0</td>\n",
       "</tr>\n",
       "</table>\n",
       "1 row in set (0.00 sec)"
      ],
      "text/plain": [
       "+------------+------------+------+-------+\n",
       "| null_value | null_value | True | False |\n",
       "+------------+------------+------+-------+\n",
       "| NULL       | NULL       | 1    | 0     |\n",
       "+------------+------------+------+-------+\n",
       "1 row in set (0.00 sec)"
      ]
     },
     "execution_count": 40,
     "metadata": {},
     "output_type": "execute_result"
    }
   ],
   "source": [
    "SELECT NULL = NULL AS null_value,\n",
    "       NULL != NULL AS null_value,\n",
    "       NULL IS NULL AS True,\n",
    "       NULL IS NOT NULL AS False;"
   ]
  },
  {
   "cell_type": "markdown",
   "id": "civic-industry",
   "metadata": {
    "slideshow": {
     "slide_type": "subslide"
    }
   },
   "source": [
    "## 在 `covid19` 資料庫的 `lookup_table` 資料表中 `Province_State` 與 `Admin2` 欄都有不少空值的存在"
   ]
  },
  {
   "cell_type": "code",
   "execution_count": 41,
   "id": "cardiovascular-hanging",
   "metadata": {
    "slideshow": {
     "slide_type": "-"
    }
   },
   "outputs": [
    {
     "data": {
      "text/html": [
       "<table>\n",
       "<tr>\n",
       "<th>Province_State</th>\n",
       "<th>Admin2</th>\n",
       "<th>Province_State_equals_to_null</th>\n",
       "<th>Admin2_not_equals_to_null</th>\n",
       "</tr>\n",
       "<tr>\n",
       "<td>NULL</td>\n",
       "<td>NULL</td>\n",
       "<td>NULL</td>\n",
       "<td>NULL</td>\n",
       "</tr>\n",
       "<tr>\n",
       "<td>NULL</td>\n",
       "<td>NULL</td>\n",
       "<td>NULL</td>\n",
       "<td>NULL</td>\n",
       "</tr>\n",
       "<tr>\n",
       "<td>NULL</td>\n",
       "<td>NULL</td>\n",
       "<td>NULL</td>\n",
       "<td>NULL</td>\n",
       "</tr>\n",
       "<tr>\n",
       "<td>American Samoa</td>\n",
       "<td>NULL</td>\n",
       "<td>NULL</td>\n",
       "<td>NULL</td>\n",
       "</tr>\n",
       "<tr>\n",
       "<td>NULL</td>\n",
       "<td>NULL</td>\n",
       "<td>NULL</td>\n",
       "<td>NULL</td>\n",
       "</tr>\n",
       "</table>\n",
       "5 rows in set (0.00 sec)"
      ],
      "text/plain": [
       "+----------------+--------+-------------------------------+---------------------------+\n",
       "| Province_State | Admin2 | Province_State_equals_to_null | Admin2_not_equals_to_null |\n",
       "+----------------+--------+-------------------------------+---------------------------+\n",
       "| NULL           | NULL   | NULL                          | NULL                      |\n",
       "+----------------+--------+-------------------------------+---------------------------+\n",
       "| NULL           | NULL   | NULL                          | NULL                      |\n",
       "+----------------+--------+-------------------------------+---------------------------+\n",
       "| NULL           | NULL   | NULL                          | NULL                      |\n",
       "+----------------+--------+-------------------------------+---------------------------+\n",
       "| American Samoa | NULL   | NULL                          | NULL                      |\n",
       "+----------------+--------+-------------------------------+---------------------------+\n",
       "| NULL           | NULL   | NULL                          | NULL                      |\n",
       "+----------------+--------+-------------------------------+---------------------------+\n",
       "5 rows in set (0.00 sec)"
      ]
     },
     "execution_count": 41,
     "metadata": {},
     "output_type": "execute_result"
    }
   ],
   "source": [
    "SELECT Province_State,\n",
    "       Admin2,\n",
    "       Province_State = NULL AS Province_State_equals_to_null,\n",
    "       Admin2 != NULL AS Admin2_not_equals_to_null\n",
    "  FROM lookup_table\n",
    " LIMIT 5;"
   ]
  },
  {
   "cell_type": "markdown",
   "id": "16dda354",
   "metadata": {
    "slideshow": {
     "slide_type": "subslide"
    }
   },
   "source": [
    "## 必須以 `IS` 作為關係運算符才能夠判斷是否為空值"
   ]
  },
  {
   "cell_type": "code",
   "execution_count": 42,
   "id": "pressed-emission",
   "metadata": {
    "slideshow": {
     "slide_type": "-"
    }
   },
   "outputs": [
    {
     "data": {
      "text/html": [
       "<table>\n",
       "<tr>\n",
       "<th>Province_State</th>\n",
       "<th>Admin2</th>\n",
       "<th>Province_State_is_null</th>\n",
       "<th>Admin2_is_not_null</th>\n",
       "</tr>\n",
       "<tr>\n",
       "<td>NULL</td>\n",
       "<td>NULL</td>\n",
       "<td>1</td>\n",
       "<td>0</td>\n",
       "</tr>\n",
       "<tr>\n",
       "<td>NULL</td>\n",
       "<td>NULL</td>\n",
       "<td>1</td>\n",
       "<td>0</td>\n",
       "</tr>\n",
       "<tr>\n",
       "<td>NULL</td>\n",
       "<td>NULL</td>\n",
       "<td>1</td>\n",
       "<td>0</td>\n",
       "</tr>\n",
       "<tr>\n",
       "<td>American Samoa</td>\n",
       "<td>NULL</td>\n",
       "<td>0</td>\n",
       "<td>0</td>\n",
       "</tr>\n",
       "<tr>\n",
       "<td>NULL</td>\n",
       "<td>NULL</td>\n",
       "<td>1</td>\n",
       "<td>0</td>\n",
       "</tr>\n",
       "</table>\n",
       "5 rows in set (0.00 sec)"
      ],
      "text/plain": [
       "+----------------+--------+------------------------+--------------------+\n",
       "| Province_State | Admin2 | Province_State_is_null | Admin2_is_not_null |\n",
       "+----------------+--------+------------------------+--------------------+\n",
       "| NULL           | NULL   | 1                      | 0                  |\n",
       "+----------------+--------+------------------------+--------------------+\n",
       "| NULL           | NULL   | 1                      | 0                  |\n",
       "+----------------+--------+------------------------+--------------------+\n",
       "| NULL           | NULL   | 1                      | 0                  |\n",
       "+----------------+--------+------------------------+--------------------+\n",
       "| American Samoa | NULL   | 0                      | 0                  |\n",
       "+----------------+--------+------------------------+--------------------+\n",
       "| NULL           | NULL   | 1                      | 0                  |\n",
       "+----------------+--------+------------------------+--------------------+\n",
       "5 rows in set (0.00 sec)"
      ]
     },
     "execution_count": 42,
     "metadata": {},
     "output_type": "execute_result"
    }
   ],
   "source": [
    "SELECT Province_State,\n",
    "       Admin2,\n",
    "       Province_State IS NULL AS Province_State_is_null,\n",
    "       Admin2 IS NOT NULL AS Admin2_is_not_null\n",
    "  FROM lookup_table\n",
    " LIMIT 5;"
   ]
  },
  {
   "cell_type": "code",
   "execution_count": 43,
   "id": "8939320d",
   "metadata": {
    "slideshow": {
     "slide_type": "subslide"
    }
   },
   "outputs": [
    {
     "data": {
      "text/html": [
       "<table>\n",
       "<tr>\n",
       "<th>Province_State</th>\n",
       "<th>Admin2</th>\n",
       "</tr>\n",
       "<tr>\n",
       "<td>Sint Eustatius and Saba</td>\n",
       "<td>Bonaire</td>\n",
       "</tr>\n",
       "<tr>\n",
       "<td>Ascension and Tristan da Cunha</td>\n",
       "<td>Saint Helena</td>\n",
       "</tr>\n",
       "<tr>\n",
       "<td>Puerto Rico</td>\n",
       "<td>Adjuntas</td>\n",
       "</tr>\n",
       "<tr>\n",
       "<td>Puerto Rico</td>\n",
       "<td>Aguada</td>\n",
       "</tr>\n",
       "<tr>\n",
       "<td>Puerto Rico</td>\n",
       "<td>Aguadilla</td>\n",
       "</tr>\n",
       "</table>\n",
       "5 rows in set (0.00 sec)"
      ],
      "text/plain": [
       "+--------------------------------+--------------+\n",
       "| Province_State                 | Admin2       |\n",
       "+--------------------------------+--------------+\n",
       "| Sint Eustatius and Saba        | Bonaire      |\n",
       "+--------------------------------+--------------+\n",
       "| Ascension and Tristan da Cunha | Saint Helena |\n",
       "+--------------------------------+--------------+\n",
       "| Puerto Rico                    | Adjuntas     |\n",
       "+--------------------------------+--------------+\n",
       "| Puerto Rico                    | Aguada       |\n",
       "+--------------------------------+--------------+\n",
       "| Puerto Rico                    | Aguadilla    |\n",
       "+--------------------------------+--------------+\n",
       "5 rows in set (0.00 sec)"
      ]
     },
     "execution_count": 43,
     "metadata": {},
     "output_type": "execute_result"
    }
   ],
   "source": [
    "SELECT Province_State,\n",
    "       Admin2\n",
    "  FROM lookup_table\n",
    " WHERE Province_State IS NOT NULL AND\n",
    "       Admin2 IS NOT NULL\n",
    " LIMIT 5;"
   ]
  },
  {
   "cell_type": "markdown",
   "id": "3ee232a1",
   "metadata": {
    "slideshow": {
     "slide_type": "subslide"
    }
   },
   "source": [
    "## 篩選日期時間的欄位\n",
    "\n",
    "- 善用關係運算符。\n",
    "- 日期時間的常數要加上單引號。\n",
    "- 善用操作日期時間的函數。"
   ]
  },
  {
   "cell_type": "code",
   "execution_count": 44,
   "id": "2ef43bfc",
   "metadata": {
    "slideshow": {
     "slide_type": "subslide"
    }
   },
   "outputs": [
    {
     "data": {
      "text/html": [
       "<table>\n",
       "<tr>\n",
       "<th>Last_Update</th>\n",
       "</tr>\n",
       "<tr>\n",
       "<td>2020-12-21 13:27:30</td>\n",
       "</tr>\n",
       "<tr>\n",
       "<td>2021-01-08 23:22:27</td>\n",
       "</tr>\n",
       "<tr>\n",
       "<td>2021-02-14 23:24:19</td>\n",
       "</tr>\n",
       "<tr>\n",
       "<td>2020-08-04 02:27:56</td>\n",
       "</tr>\n",
       "<tr>\n",
       "<td>2020-08-07 22:34:20</td>\n",
       "</tr>\n",
       "<tr>\n",
       "<td>2021-01-24 23:22:19</td>\n",
       "</tr>\n",
       "<tr>\n",
       "<td>2021-03-14 23:25:24</td>\n",
       "</tr>\n",
       "</table>\n",
       "7 rows in set (0.01 sec)"
      ],
      "text/plain": [
       "+---------------------+\n",
       "| Last_Update         |\n",
       "+---------------------+\n",
       "| 2020-12-21 13:27:30 |\n",
       "+---------------------+\n",
       "| 2021-01-08 23:22:27 |\n",
       "+---------------------+\n",
       "| 2021-02-14 23:24:19 |\n",
       "+---------------------+\n",
       "| 2020-08-04 02:27:56 |\n",
       "+---------------------+\n",
       "| 2020-08-07 22:34:20 |\n",
       "+---------------------+\n",
       "| 2021-01-24 23:22:19 |\n",
       "+---------------------+\n",
       "| 2021-03-14 23:25:24 |\n",
       "+---------------------+\n",
       "7 rows in set (0.01 sec)"
      ]
     },
     "execution_count": 44,
     "metadata": {},
     "output_type": "execute_result"
    }
   ],
   "source": [
    "SELECT DISTINCT Last_Update\n",
    "  FROM daily_report\n",
    " WHERE DATE(Last_Update) != '2021-04-01'; "
   ]
  },
  {
   "cell_type": "code",
   "execution_count": 45,
   "id": "28d37b16",
   "metadata": {
    "slideshow": {
     "slide_type": "subslide"
    }
   },
   "outputs": [
    {
     "data": {
      "text/html": [
       "<table>\n",
       "<tr>\n",
       "<th>Date</th>\n",
       "</tr>\n",
       "<tr>\n",
       "<td>2020-01-22</td>\n",
       "</tr>\n",
       "<tr>\n",
       "<td>2020-01-23</td>\n",
       "</tr>\n",
       "<tr>\n",
       "<td>2020-01-24</td>\n",
       "</tr>\n",
       "<tr>\n",
       "<td>2020-01-25</td>\n",
       "</tr>\n",
       "<tr>\n",
       "<td>2020-01-26</td>\n",
       "</tr>\n",
       "<tr>\n",
       "<td>2020-01-27</td>\n",
       "</tr>\n",
       "<tr>\n",
       "<td>2020-01-28</td>\n",
       "</tr>\n",
       "<tr>\n",
       "<td>2020-01-29</td>\n",
       "</tr>\n",
       "<tr>\n",
       "<td>2020-01-30</td>\n",
       "</tr>\n",
       "<tr>\n",
       "<td>2020-01-31</td>\n",
       "</tr>\n",
       "</table>\n",
       "10 rows in set (0.08 sec)"
      ],
      "text/plain": [
       "+------------+\n",
       "| Date       |\n",
       "+------------+\n",
       "| 2020-01-22 |\n",
       "+------------+\n",
       "| 2020-01-23 |\n",
       "+------------+\n",
       "| 2020-01-24 |\n",
       "+------------+\n",
       "| 2020-01-25 |\n",
       "+------------+\n",
       "| 2020-01-26 |\n",
       "+------------+\n",
       "| 2020-01-27 |\n",
       "+------------+\n",
       "| 2020-01-28 |\n",
       "+------------+\n",
       "| 2020-01-29 |\n",
       "+------------+\n",
       "| 2020-01-30 |\n",
       "+------------+\n",
       "| 2020-01-31 |\n",
       "+------------+\n",
       "10 rows in set (0.08 sec)"
      ]
     },
     "execution_count": 45,
     "metadata": {},
     "output_type": "execute_result"
    }
   ],
   "source": [
    "SELECT DISTINCT Date\n",
    "  FROM time_series\n",
    " WHERE Date BETWEEN '2020-01-22' AND '2020-01-31';"
   ]
  },
  {
   "cell_type": "code",
   "execution_count": 46,
   "id": "eaf8e64f",
   "metadata": {
    "slideshow": {
     "slide_type": "subslide"
    }
   },
   "outputs": [
    {
     "data": {
      "text/html": [
       "<table>\n",
       "<tr>\n",
       "<th>year_month</th>\n",
       "</tr>\n",
       "<tr>\n",
       "<td>2021-01</td>\n",
       "</tr>\n",
       "<tr>\n",
       "<td>2021-02</td>\n",
       "</tr>\n",
       "<tr>\n",
       "<td>2021-03</td>\n",
       "</tr>\n",
       "</table>\n",
       "3 rows in set (0.07 sec)"
      ],
      "text/plain": [
       "+------------+\n",
       "| year_month |\n",
       "+------------+\n",
       "| 2021-01    |\n",
       "+------------+\n",
       "| 2021-02    |\n",
       "+------------+\n",
       "| 2021-03    |\n",
       "+------------+\n",
       "3 rows in set (0.07 sec)"
      ]
     },
     "execution_count": 46,
     "metadata": {},
     "output_type": "execute_result"
    }
   ],
   "source": [
    "SELECT DISTINCT STRFTIME('%Y-%m', Date) AS year_month\n",
    "  FROM time_series\n",
    " WHERE STRFTIME('%Y', Date) == '2021';"
   ]
  },
  {
   "cell_type": "code",
   "execution_count": 47,
   "id": "8358a54f",
   "metadata": {
    "slideshow": {
     "slide_type": "subslide"
    }
   },
   "outputs": [
    {
     "data": {
      "text/html": [
       "<table>\n",
       "<tr>\n",
       "<th>min_date</th>\n",
       "<th>max_date</th>\n",
       "</tr>\n",
       "<tr>\n",
       "<td>2020-01-22</td>\n",
       "<td>2020-12-31</td>\n",
       "</tr>\n",
       "</table>\n",
       "1 row in set (0.02 sec)"
      ],
      "text/plain": [
       "+------------+------------+\n",
       "| min_date   | max_date   |\n",
       "+------------+------------+\n",
       "| 2020-01-22 | 2020-12-31 |\n",
       "+------------+------------+\n",
       "1 row in set (0.02 sec)"
      ]
     },
     "execution_count": 47,
     "metadata": {},
     "output_type": "execute_result"
    }
   ],
   "source": [
    "SELECT MIN(Date) AS min_date,\n",
    "       MAX(Date) AS max_date\n",
    "  FROM time_series\n",
    " WHERE Date < '2021-01-01';"
   ]
  },
  {
   "cell_type": "markdown",
   "id": "d5f228be",
   "metadata": {
    "slideshow": {
     "slide_type": "slide"
    }
   },
   "source": [
    "## 條件邏輯"
   ]
  },
  {
   "cell_type": "markdown",
   "id": "8c0cfaca",
   "metadata": {
    "slideshow": {
     "slide_type": "subslide"
    }
   },
   "source": [
    "## 條件邏輯是第三種生成衍生計算欄位的方式\n",
    "\n",
    "透過條件所得的布林值來決定所指定的資料值為何，在實務中這樣的技巧又被稱為分箱（Binning）、編碼（Encoding）或者分組（Categorizing）。"
   ]
  },
  {
   "cell_type": "markdown",
   "id": "29423e1f",
   "metadata": {
    "slideshow": {
     "slide_type": "subslide"
    }
   },
   "source": [
    "## 使用 `CASE WHEN` 敘述衍生計算欄位\n",
    "\n",
    "```sql\n",
    "SELECT CASE WHEN condition_1 THEN result_1\n",
    "            WHEN condition_2 THEN result_2 END AS alias;\n",
    "```"
   ]
  },
  {
   "cell_type": "code",
   "execution_count": 48,
   "id": "2a6b15a7",
   "metadata": {
    "slideshow": {
     "slide_type": "subslide"
    }
   },
   "outputs": [
    {
     "data": {
      "text/html": [
       "<table>\n",
       "<tr>\n",
       "<th>title</th>\n",
       "<th>release_year</th>\n",
       "<th>before_or_after_millennium</th>\n",
       "</tr>\n",
       "<tr>\n",
       "<td>The Shawshank Redemption</td>\n",
       "<td>1994</td>\n",
       "<td>Before millennium</td>\n",
       "</tr>\n",
       "<tr>\n",
       "<td>The Godfather</td>\n",
       "<td>1972</td>\n",
       "<td>Before millennium</td>\n",
       "</tr>\n",
       "<tr>\n",
       "<td>The Godfather: Part II</td>\n",
       "<td>1974</td>\n",
       "<td>Before millennium</td>\n",
       "</tr>\n",
       "<tr>\n",
       "<td>The Dark Knight</td>\n",
       "<td>2008</td>\n",
       "<td>After millennium</td>\n",
       "</tr>\n",
       "<tr>\n",
       "<td>12 Angry Men</td>\n",
       "<td>1957</td>\n",
       "<td>Before millennium</td>\n",
       "</tr>\n",
       "<tr>\n",
       "<td>Schindler's List</td>\n",
       "<td>1993</td>\n",
       "<td>Before millennium</td>\n",
       "</tr>\n",
       "<tr>\n",
       "<td>The Lord of the Rings: The Return of the King</td>\n",
       "<td>2003</td>\n",
       "<td>After millennium</td>\n",
       "</tr>\n",
       "<tr>\n",
       "<td>Pulp Fiction</td>\n",
       "<td>1994</td>\n",
       "<td>Before millennium</td>\n",
       "</tr>\n",
       "<tr>\n",
       "<td>The Good, the Bad and the Ugly</td>\n",
       "<td>1966</td>\n",
       "<td>Before millennium</td>\n",
       "</tr>\n",
       "<tr>\n",
       "<td>The Lord of the Rings: The Fellowship of the Ring</td>\n",
       "<td>2001</td>\n",
       "<td>After millennium</td>\n",
       "</tr>\n",
       "</table>\n",
       "10 rows in set (0.00 sec)"
      ],
      "text/plain": [
       "+---------------------------------------------------+--------------+----------------------------+\n",
       "| title                                             | release_year | before_or_after_millennium |\n",
       "+---------------------------------------------------+--------------+----------------------------+\n",
       "| The Shawshank Redemption                          | 1994         | Before millennium          |\n",
       "+---------------------------------------------------+--------------+----------------------------+\n",
       "| The Godfather                                     | 1972         | Before millennium          |\n",
       "+---------------------------------------------------+--------------+----------------------------+\n",
       "| The Godfather: Part II                            | 1974         | Before millennium          |\n",
       "+---------------------------------------------------+--------------+----------------------------+\n",
       "| The Dark Knight                                   | 2008         | After millennium           |\n",
       "+---------------------------------------------------+--------------+----------------------------+\n",
       "| 12 Angry Men                                      | 1957         | Before millennium          |\n",
       "+---------------------------------------------------+--------------+----------------------------+\n",
       "| Schindler's List                                  | 1993         | Before millennium          |\n",
       "+---------------------------------------------------+--------------+----------------------------+\n",
       "| The Lord of the Rings: The Return of the King     | 2003         | After millennium           |\n",
       "+---------------------------------------------------+--------------+----------------------------+\n",
       "| Pulp Fiction                                      | 1994         | Before millennium          |\n",
       "+---------------------------------------------------+--------------+----------------------------+\n",
       "| The Good, the Bad and the Ugly                    | 1966         | Before millennium          |\n",
       "+---------------------------------------------------+--------------+----------------------------+\n",
       "| The Lord of the Rings: The Fellowship of the Ring | 2001         | After millennium           |\n",
       "+---------------------------------------------------+--------------+----------------------------+\n",
       "10 rows in set (0.00 sec)"
      ]
     },
     "execution_count": 48,
     "metadata": {},
     "output_type": "execute_result"
    }
   ],
   "source": [
    "SELECT title,\n",
    "       release_year,\n",
    "       CASE WHEN release_year >= 2000 THEN 'After millennium'\n",
    "            WHEN release_year < 2000 THEN 'Before millennium' END AS before_or_after_millennium\n",
    "  FROM movies\n",
    " LIMIT 10;"
   ]
  },
  {
   "cell_type": "markdown",
   "id": "1f14655e",
   "metadata": {
    "slideshow": {
     "slide_type": "subslide"
    }
   },
   "source": [
    "## 分組需求與布林值一樣是二元、非黑即白的時候\n",
    "\n",
    "`CASE WHEN` 敘述可以加入 `ELSE` 取代其中一個條件的敘述。\n",
    "\n",
    "```sql\n",
    "SELECT CASE WHEN condition_1 THEN result_1\n",
    "            ELSE result_2 END AS alias;\n",
    "```"
   ]
  },
  {
   "cell_type": "code",
   "execution_count": 49,
   "id": "e12157e3",
   "metadata": {},
   "outputs": [
    {
     "data": {
      "text/html": [
       "<table>\n",
       "<tr>\n",
       "<th>title</th>\n",
       "<th>release_year</th>\n",
       "<th>before_or_after_millennium</th>\n",
       "</tr>\n",
       "<tr>\n",
       "<td>The Shawshank Redemption</td>\n",
       "<td>1994</td>\n",
       "<td>Before millennium</td>\n",
       "</tr>\n",
       "<tr>\n",
       "<td>The Godfather</td>\n",
       "<td>1972</td>\n",
       "<td>Before millennium</td>\n",
       "</tr>\n",
       "<tr>\n",
       "<td>The Godfather: Part II</td>\n",
       "<td>1974</td>\n",
       "<td>Before millennium</td>\n",
       "</tr>\n",
       "<tr>\n",
       "<td>The Dark Knight</td>\n",
       "<td>2008</td>\n",
       "<td>After millennium</td>\n",
       "</tr>\n",
       "<tr>\n",
       "<td>12 Angry Men</td>\n",
       "<td>1957</td>\n",
       "<td>Before millennium</td>\n",
       "</tr>\n",
       "<tr>\n",
       "<td>Schindler's List</td>\n",
       "<td>1993</td>\n",
       "<td>Before millennium</td>\n",
       "</tr>\n",
       "<tr>\n",
       "<td>The Lord of the Rings: The Return of the King</td>\n",
       "<td>2003</td>\n",
       "<td>After millennium</td>\n",
       "</tr>\n",
       "<tr>\n",
       "<td>Pulp Fiction</td>\n",
       "<td>1994</td>\n",
       "<td>Before millennium</td>\n",
       "</tr>\n",
       "<tr>\n",
       "<td>The Good, the Bad and the Ugly</td>\n",
       "<td>1966</td>\n",
       "<td>Before millennium</td>\n",
       "</tr>\n",
       "<tr>\n",
       "<td>The Lord of the Rings: The Fellowship of the Ring</td>\n",
       "<td>2001</td>\n",
       "<td>After millennium</td>\n",
       "</tr>\n",
       "</table>\n",
       "10 rows in set (0.00 sec)"
      ],
      "text/plain": [
       "+---------------------------------------------------+--------------+----------------------------+\n",
       "| title                                             | release_year | before_or_after_millennium |\n",
       "+---------------------------------------------------+--------------+----------------------------+\n",
       "| The Shawshank Redemption                          | 1994         | Before millennium          |\n",
       "+---------------------------------------------------+--------------+----------------------------+\n",
       "| The Godfather                                     | 1972         | Before millennium          |\n",
       "+---------------------------------------------------+--------------+----------------------------+\n",
       "| The Godfather: Part II                            | 1974         | Before millennium          |\n",
       "+---------------------------------------------------+--------------+----------------------------+\n",
       "| The Dark Knight                                   | 2008         | After millennium           |\n",
       "+---------------------------------------------------+--------------+----------------------------+\n",
       "| 12 Angry Men                                      | 1957         | Before millennium          |\n",
       "+---------------------------------------------------+--------------+----------------------------+\n",
       "| Schindler's List                                  | 1993         | Before millennium          |\n",
       "+---------------------------------------------------+--------------+----------------------------+\n",
       "| The Lord of the Rings: The Return of the King     | 2003         | After millennium           |\n",
       "+---------------------------------------------------+--------------+----------------------------+\n",
       "| Pulp Fiction                                      | 1994         | Before millennium          |\n",
       "+---------------------------------------------------+--------------+----------------------------+\n",
       "| The Good, the Bad and the Ugly                    | 1966         | Before millennium          |\n",
       "+---------------------------------------------------+--------------+----------------------------+\n",
       "| The Lord of the Rings: The Fellowship of the Ring | 2001         | After millennium           |\n",
       "+---------------------------------------------------+--------------+----------------------------+\n",
       "10 rows in set (0.00 sec)"
      ]
     },
     "execution_count": 49,
     "metadata": {},
     "output_type": "execute_result"
    }
   ],
   "source": [
    "SELECT title,\n",
    "       release_year,\n",
    "       CASE WHEN release_year >= 2000 THEN 'After millennium'\n",
    "            ELSE 'Before millennium' END AS before_or_after_millennium\n",
    "  FROM movies\n",
    " LIMIT 10;"
   ]
  },
  {
   "cell_type": "markdown",
   "id": "50028617",
   "metadata": {
    "slideshow": {
     "slide_type": "subslide"
    }
   },
   "source": [
    "## 分組需求超過兩組的時候，只要增加 `WHEN` 敘述與條件即可\n",
    "\n",
    "```sql\n",
    "SELECT CASE WHEN condition_1 THEN result_1\n",
    "            WHEN condition_2 THEN result_2\n",
    "            ...\n",
    "            ELSE result_n END AS alias;\n",
    "```"
   ]
  },
  {
   "cell_type": "code",
   "execution_count": 50,
   "id": "c6d894e2",
   "metadata": {
    "slideshow": {
     "slide_type": "subslide"
    }
   },
   "outputs": [
    {
     "data": {
      "text/html": [
       "<table>\n",
       "<tr>\n",
       "<th>title</th>\n",
       "<th>runtime</th>\n",
       "<th>runtime_category</th>\n",
       "</tr>\n",
       "<tr>\n",
       "<td>The Shawshank Redemption</td>\n",
       "<td>142</td>\n",
       "<td>Over 2 hours</td>\n",
       "</tr>\n",
       "<tr>\n",
       "<td>The Godfather</td>\n",
       "<td>175</td>\n",
       "<td>Over 2 hours</td>\n",
       "</tr>\n",
       "<tr>\n",
       "<td>The Godfather: Part II</td>\n",
       "<td>202</td>\n",
       "<td>Over 3 hours</td>\n",
       "</tr>\n",
       "<tr>\n",
       "<td>The Dark Knight</td>\n",
       "<td>152</td>\n",
       "<td>Over 2 hours</td>\n",
       "</tr>\n",
       "<tr>\n",
       "<td>12 Angry Men</td>\n",
       "<td>96</td>\n",
       "<td>Over 1 hour</td>\n",
       "</tr>\n",
       "<tr>\n",
       "<td>Schindler's List</td>\n",
       "<td>195</td>\n",
       "<td>Over 3 hours</td>\n",
       "</tr>\n",
       "<tr>\n",
       "<td>The Lord of the Rings: The Return of the King</td>\n",
       "<td>201</td>\n",
       "<td>Over 3 hours</td>\n",
       "</tr>\n",
       "<tr>\n",
       "<td>Pulp Fiction</td>\n",
       "<td>154</td>\n",
       "<td>Over 2 hours</td>\n",
       "</tr>\n",
       "<tr>\n",
       "<td>The Good, the Bad and the Ugly</td>\n",
       "<td>178</td>\n",
       "<td>Over 2 hours</td>\n",
       "</tr>\n",
       "<tr>\n",
       "<td>The Lord of the Rings: The Fellowship of the Ring</td>\n",
       "<td>178</td>\n",
       "<td>Over 2 hours</td>\n",
       "</tr>\n",
       "</table>\n",
       "10 rows in set (0.00 sec)"
      ],
      "text/plain": [
       "+---------------------------------------------------+---------+------------------+\n",
       "| title                                             | runtime | runtime_category |\n",
       "+---------------------------------------------------+---------+------------------+\n",
       "| The Shawshank Redemption                          | 142     | Over 2 hours     |\n",
       "+---------------------------------------------------+---------+------------------+\n",
       "| The Godfather                                     | 175     | Over 2 hours     |\n",
       "+---------------------------------------------------+---------+------------------+\n",
       "| The Godfather: Part II                            | 202     | Over 3 hours     |\n",
       "+---------------------------------------------------+---------+------------------+\n",
       "| The Dark Knight                                   | 152     | Over 2 hours     |\n",
       "+---------------------------------------------------+---------+------------------+\n",
       "| 12 Angry Men                                      | 96      | Over 1 hour      |\n",
       "+---------------------------------------------------+---------+------------------+\n",
       "| Schindler's List                                  | 195     | Over 3 hours     |\n",
       "+---------------------------------------------------+---------+------------------+\n",
       "| The Lord of the Rings: The Return of the King     | 201     | Over 3 hours     |\n",
       "+---------------------------------------------------+---------+------------------+\n",
       "| Pulp Fiction                                      | 154     | Over 2 hours     |\n",
       "+---------------------------------------------------+---------+------------------+\n",
       "| The Good, the Bad and the Ugly                    | 178     | Over 2 hours     |\n",
       "+---------------------------------------------------+---------+------------------+\n",
       "| The Lord of the Rings: The Fellowship of the Ring | 178     | Over 2 hours     |\n",
       "+---------------------------------------------------+---------+------------------+\n",
       "10 rows in set (0.00 sec)"
      ]
     },
     "execution_count": 50,
     "metadata": {},
     "output_type": "execute_result"
    }
   ],
   "source": [
    "SELECT title,\n",
    "       runtime,\n",
    "       CASE WHEN runtime > 180 THEN 'Over 3 hours'\n",
    "            WHEN runtime > 120 THEN 'Over 2 hours'\n",
    "            WHEN runtime > 60 THEN 'Over 1 hour'\n",
    "            WHEN runtime <= 60 THEN 'Below 1 hour' END AS runtime_category\n",
    "  FROM movies\n",
    " LIMIT 10;"
   ]
  },
  {
   "cell_type": "markdown",
   "id": "90543254",
   "metadata": {
    "slideshow": {
     "slide_type": "subslide"
    }
   },
   "source": [
    "## 加入 `ELSE` 取代其中一個條件 `runtime <= 60`"
   ]
  },
  {
   "cell_type": "code",
   "execution_count": 51,
   "id": "three-pressure",
   "metadata": {
    "slideshow": {
     "slide_type": "-"
    }
   },
   "outputs": [
    {
     "data": {
      "text/html": [
       "<table>\n",
       "<tr>\n",
       "<th>title</th>\n",
       "<th>runtime</th>\n",
       "<th>runtime_category</th>\n",
       "</tr>\n",
       "<tr>\n",
       "<td>The Shawshank Redemption</td>\n",
       "<td>142</td>\n",
       "<td>Over 2 hours</td>\n",
       "</tr>\n",
       "<tr>\n",
       "<td>The Godfather</td>\n",
       "<td>175</td>\n",
       "<td>Over 2 hours</td>\n",
       "</tr>\n",
       "<tr>\n",
       "<td>The Godfather: Part II</td>\n",
       "<td>202</td>\n",
       "<td>Over 3 hours</td>\n",
       "</tr>\n",
       "<tr>\n",
       "<td>The Dark Knight</td>\n",
       "<td>152</td>\n",
       "<td>Over 2 hours</td>\n",
       "</tr>\n",
       "<tr>\n",
       "<td>12 Angry Men</td>\n",
       "<td>96</td>\n",
       "<td>Over 1 hour</td>\n",
       "</tr>\n",
       "<tr>\n",
       "<td>Schindler's List</td>\n",
       "<td>195</td>\n",
       "<td>Over 3 hours</td>\n",
       "</tr>\n",
       "<tr>\n",
       "<td>The Lord of the Rings: The Return of the King</td>\n",
       "<td>201</td>\n",
       "<td>Over 3 hours</td>\n",
       "</tr>\n",
       "<tr>\n",
       "<td>Pulp Fiction</td>\n",
       "<td>154</td>\n",
       "<td>Over 2 hours</td>\n",
       "</tr>\n",
       "<tr>\n",
       "<td>The Good, the Bad and the Ugly</td>\n",
       "<td>178</td>\n",
       "<td>Over 2 hours</td>\n",
       "</tr>\n",
       "<tr>\n",
       "<td>The Lord of the Rings: The Fellowship of the Ring</td>\n",
       "<td>178</td>\n",
       "<td>Over 2 hours</td>\n",
       "</tr>\n",
       "</table>\n",
       "10 rows in set (0.00 sec)"
      ],
      "text/plain": [
       "+---------------------------------------------------+---------+------------------+\n",
       "| title                                             | runtime | runtime_category |\n",
       "+---------------------------------------------------+---------+------------------+\n",
       "| The Shawshank Redemption                          | 142     | Over 2 hours     |\n",
       "+---------------------------------------------------+---------+------------------+\n",
       "| The Godfather                                     | 175     | Over 2 hours     |\n",
       "+---------------------------------------------------+---------+------------------+\n",
       "| The Godfather: Part II                            | 202     | Over 3 hours     |\n",
       "+---------------------------------------------------+---------+------------------+\n",
       "| The Dark Knight                                   | 152     | Over 2 hours     |\n",
       "+---------------------------------------------------+---------+------------------+\n",
       "| 12 Angry Men                                      | 96      | Over 1 hour      |\n",
       "+---------------------------------------------------+---------+------------------+\n",
       "| Schindler's List                                  | 195     | Over 3 hours     |\n",
       "+---------------------------------------------------+---------+------------------+\n",
       "| The Lord of the Rings: The Return of the King     | 201     | Over 3 hours     |\n",
       "+---------------------------------------------------+---------+------------------+\n",
       "| Pulp Fiction                                      | 154     | Over 2 hours     |\n",
       "+---------------------------------------------------+---------+------------------+\n",
       "| The Good, the Bad and the Ugly                    | 178     | Over 2 hours     |\n",
       "+---------------------------------------------------+---------+------------------+\n",
       "| The Lord of the Rings: The Fellowship of the Ring | 178     | Over 2 hours     |\n",
       "+---------------------------------------------------+---------+------------------+\n",
       "10 rows in set (0.00 sec)"
      ]
     },
     "execution_count": 51,
     "metadata": {},
     "output_type": "execute_result"
    }
   ],
   "source": [
    "SELECT title,\n",
    "       runtime,\n",
    "       CASE WHEN runtime > 180 THEN 'Over 3 hours'\n",
    "            WHEN runtime > 120 THEN 'Over 2 hours'\n",
    "            WHEN runtime > 60 THEN 'Over 1 hour'\n",
    "            ELSE 'Below 1 hour' END AS runtime_category\n",
    "  FROM movies\n",
    " LIMIT 10;"
   ]
  },
  {
   "cell_type": "markdown",
   "id": "dying-intake",
   "metadata": {
    "slideshow": {
     "slide_type": "subslide"
    }
   },
   "source": [
    "## 條件是否互斥與寫作順序\n",
    "\n",
    "- 條件是否互斥（Mutually exclusive）？\n",
    "- 若沒有互斥，那麼寫作的順序就會是賦值的順序。"
   ]
  },
  {
   "cell_type": "code",
   "execution_count": 52,
   "id": "77336018",
   "metadata": {},
   "outputs": [
    {
     "data": {
      "text/html": [
       "<table>\n",
       "<tr>\n",
       "<th>runtime_category</th>\n",
       "</tr>\n",
       "<tr>\n",
       "<td>Over 1 hours</td>\n",
       "</tr>\n",
       "<tr>\n",
       "<td>Below 1 hour</td>\n",
       "</tr>\n",
       "</table>\n",
       "2 rows in set (0.00 sec)"
      ],
      "text/plain": [
       "+------------------+\n",
       "| runtime_category |\n",
       "+------------------+\n",
       "| Over 1 hours     |\n",
       "+------------------+\n",
       "| Below 1 hour     |\n",
       "+------------------+\n",
       "2 rows in set (0.00 sec)"
      ]
     },
     "execution_count": 52,
     "metadata": {},
     "output_type": "execute_result"
    }
   ],
   "source": [
    "SELECT DISTINCT CASE WHEN runtime > 60 THEN 'Over 1 hours' -- unexpected result\n",
    "                WHEN runtime > 120 THEN 'Over 2 hours'\n",
    "                WHEN runtime > 180 THEN 'Over 3 hour'\n",
    "                WHEN runtime <= 60 THEN 'Below 1 hour' END AS runtime_category\n",
    "  FROM movies;"
   ]
  },
  {
   "cell_type": "markdown",
   "id": "lovely-publisher",
   "metadata": {
    "slideshow": {
     "slide_type": "subslide"
    }
   },
   "source": [
    "## 如果不想要特別注意寫作順序，可以把條件設計為互斥"
   ]
  },
  {
   "cell_type": "code",
   "execution_count": 53,
   "id": "gorgeous-drinking",
   "metadata": {},
   "outputs": [
    {
     "data": {
      "text/html": [
       "<table>\n",
       "<tr>\n",
       "<th>runtime_category</th>\n",
       "</tr>\n",
       "<tr>\n",
       "<td>Over 2 hours</td>\n",
       "</tr>\n",
       "<tr>\n",
       "<td>Over 3 hour</td>\n",
       "</tr>\n",
       "<tr>\n",
       "<td>Over 1 hours</td>\n",
       "</tr>\n",
       "<tr>\n",
       "<td>Below 1 hour</td>\n",
       "</tr>\n",
       "</table>\n",
       "4 rows in set (0.00 sec)"
      ],
      "text/plain": [
       "+------------------+\n",
       "| runtime_category |\n",
       "+------------------+\n",
       "| Over 2 hours     |\n",
       "+------------------+\n",
       "| Over 3 hour      |\n",
       "+------------------+\n",
       "| Over 1 hours     |\n",
       "+------------------+\n",
       "| Below 1 hour     |\n",
       "+------------------+\n",
       "4 rows in set (0.00 sec)"
      ]
     },
     "execution_count": 53,
     "metadata": {},
     "output_type": "execute_result"
    }
   ],
   "source": [
    "SELECT DISTINCT CASE WHEN runtime > 60 AND runtime <= 120 THEN 'Over 1 hours' -- expected result\n",
    "                WHEN runtime > 120 AND runtime <= 180 THEN 'Over 2 hours'\n",
    "                WHEN runtime > 180 THEN 'Over 3 hour'\n",
    "                WHEN runtime <= 60 THEN 'Below 1 hour' END AS runtime_category\n",
    "  FROM movies;"
   ]
  },
  {
   "cell_type": "markdown",
   "id": "existing-integrity",
   "metadata": {
    "slideshow": {
     "slide_type": "subslide"
    }
   },
   "source": [
    "## 以 `CASE WHEN` 衍生計算欄位排序\n",
    "\n",
    "`CASE WHEN` 除了能夠在 `SELECT` 敘述後使用，亦能夠在 `ORDER BY` 敘述後使用。想要以 `CASE WHEN` 衍生計算欄位排序，一種方式是在 `SELECT` 後建立別名並在 `ORDER BY` 後加上別名。\n",
    "\n",
    "```sql\n",
    "SELECT CASE WHEN condition_1 THEN result_1\n",
    "            WHEN condition_2 THEN result_2\n",
    "            ...\n",
    "            ELSE result_n END AS alias\n",
    "  FROM TABLE\n",
    " ORDER BY alias;\n",
    "```"
   ]
  },
  {
   "cell_type": "code",
   "execution_count": 54,
   "id": "0f10206d",
   "metadata": {
    "slideshow": {
     "slide_type": "subslide"
    }
   },
   "outputs": [
    {
     "data": {
      "text/html": [
       "<table>\n",
       "<tr>\n",
       "<th>title</th>\n",
       "<th>runtime</th>\n",
       "<th>runtime_category</th>\n",
       "</tr>\n",
       "<tr>\n",
       "<td>Sherlock Jr.</td>\n",
       "<td>45</td>\n",
       "<td>Below 1 hour</td>\n",
       "</tr>\n",
       "<tr>\n",
       "<td>12 Angry Men</td>\n",
       "<td>96</td>\n",
       "<td>Over 1 hour</td>\n",
       "</tr>\n",
       "<tr>\n",
       "<td>Life Is Beautiful</td>\n",
       "<td>116</td>\n",
       "<td>Over 1 hour</td>\n",
       "</tr>\n",
       "<tr>\n",
       "<td>The Silence of the Lambs</td>\n",
       "<td>118</td>\n",
       "<td>Over 1 hour</td>\n",
       "</tr>\n",
       "<tr>\n",
       "<td>Léon: The Professional</td>\n",
       "<td>110</td>\n",
       "<td>Over 1 hour</td>\n",
       "</tr>\n",
       "<tr>\n",
       "<td>The Usual Suspects</td>\n",
       "<td>106</td>\n",
       "<td>Over 1 hour</td>\n",
       "</tr>\n",
       "<tr>\n",
       "<td>The Lion King</td>\n",
       "<td>88</td>\n",
       "<td>Over 1 hour</td>\n",
       "</tr>\n",
       "<tr>\n",
       "<td>Back to the Future</td>\n",
       "<td>116</td>\n",
       "<td>Over 1 hour</td>\n",
       "</tr>\n",
       "<tr>\n",
       "<td>American History X</td>\n",
       "<td>119</td>\n",
       "<td>Over 1 hour</td>\n",
       "</tr>\n",
       "<tr>\n",
       "<td>Modern Times</td>\n",
       "<td>87</td>\n",
       "<td>Over 1 hour</td>\n",
       "</tr>\n",
       "</table>\n",
       "10 rows in set (0.00 sec)"
      ],
      "text/plain": [
       "+--------------------------+---------+------------------+\n",
       "| title                    | runtime | runtime_category |\n",
       "+--------------------------+---------+------------------+\n",
       "| Sherlock Jr.             | 45      | Below 1 hour     |\n",
       "+--------------------------+---------+------------------+\n",
       "| 12 Angry Men             | 96      | Over 1 hour      |\n",
       "+--------------------------+---------+------------------+\n",
       "| Life Is Beautiful        | 116     | Over 1 hour      |\n",
       "+--------------------------+---------+------------------+\n",
       "| The Silence of the Lambs | 118     | Over 1 hour      |\n",
       "+--------------------------+---------+------------------+\n",
       "| Léon: The Professional  | 110     | Over 1 hour      |\n",
       "+--------------------------+---------+------------------+\n",
       "| The Usual Suspects       | 106     | Over 1 hour      |\n",
       "+--------------------------+---------+------------------+\n",
       "| The Lion King            | 88      | Over 1 hour      |\n",
       "+--------------------------+---------+------------------+\n",
       "| Back to the Future       | 116     | Over 1 hour      |\n",
       "+--------------------------+---------+------------------+\n",
       "| American History X       | 119     | Over 1 hour      |\n",
       "+--------------------------+---------+------------------+\n",
       "| Modern Times             | 87      | Over 1 hour      |\n",
       "+--------------------------+---------+------------------+\n",
       "10 rows in set (0.00 sec)"
      ]
     },
     "execution_count": 54,
     "metadata": {},
     "output_type": "execute_result"
    }
   ],
   "source": [
    "SELECT title,\n",
    "       runtime,\n",
    "       CASE WHEN runtime > 180 THEN 'Over 3 hours'\n",
    "            WHEN runtime > 120 THEN 'Over 2 hours'\n",
    "            WHEN runtime > 60 THEN 'Over 1 hour'\n",
    "            ELSE 'Below 1 hour' END AS runtime_category\n",
    "  FROM movies\n",
    " ORDER BY runtime_category\n",
    " LIMIT 10;"
   ]
  },
  {
   "cell_type": "markdown",
   "id": "graphic-collar",
   "metadata": {
    "slideshow": {
     "slide_type": "subslide"
    }
   },
   "source": [
    "## 略過 `SELECT` 後建立別名，直接在 `ORDER BY` 後加上 `CASE WHEN` 敘述\n",
    "\n",
    "要注意這時就得將原本敘述最後的 `AS alias` 省去。\n",
    "\n",
    "```sql\n",
    "SELECT columns\n",
    "  FROM TABLE\n",
    " ORDER BY CASE WHEN condition_1 THEN result_1\n",
    "               WHEN condition_2 THEN result_2\n",
    "               ...\n",
    "               ELSE result_n END;\n",
    "```"
   ]
  },
  {
   "cell_type": "code",
   "execution_count": 55,
   "id": "skilled-burns",
   "metadata": {
    "slideshow": {
     "slide_type": "subslide"
    }
   },
   "outputs": [
    {
     "data": {
      "text/html": [
       "<table>\n",
       "<tr>\n",
       "<th>title</th>\n",
       "<th>runtime</th>\n",
       "</tr>\n",
       "<tr>\n",
       "<td>Sherlock Jr.</td>\n",
       "<td>45</td>\n",
       "</tr>\n",
       "<tr>\n",
       "<td>12 Angry Men</td>\n",
       "<td>96</td>\n",
       "</tr>\n",
       "<tr>\n",
       "<td>Life Is Beautiful</td>\n",
       "<td>116</td>\n",
       "</tr>\n",
       "<tr>\n",
       "<td>The Silence of the Lambs</td>\n",
       "<td>118</td>\n",
       "</tr>\n",
       "<tr>\n",
       "<td>Léon: The Professional</td>\n",
       "<td>110</td>\n",
       "</tr>\n",
       "<tr>\n",
       "<td>The Usual Suspects</td>\n",
       "<td>106</td>\n",
       "</tr>\n",
       "<tr>\n",
       "<td>The Lion King</td>\n",
       "<td>88</td>\n",
       "</tr>\n",
       "<tr>\n",
       "<td>Back to the Future</td>\n",
       "<td>116</td>\n",
       "</tr>\n",
       "<tr>\n",
       "<td>American History X</td>\n",
       "<td>119</td>\n",
       "</tr>\n",
       "<tr>\n",
       "<td>Modern Times</td>\n",
       "<td>87</td>\n",
       "</tr>\n",
       "</table>\n",
       "10 rows in set (0.00 sec)"
      ],
      "text/plain": [
       "+--------------------------+---------+\n",
       "| title                    | runtime |\n",
       "+--------------------------+---------+\n",
       "| Sherlock Jr.             | 45      |\n",
       "+--------------------------+---------+\n",
       "| 12 Angry Men             | 96      |\n",
       "+--------------------------+---------+\n",
       "| Life Is Beautiful        | 116     |\n",
       "+--------------------------+---------+\n",
       "| The Silence of the Lambs | 118     |\n",
       "+--------------------------+---------+\n",
       "| Léon: The Professional  | 110     |\n",
       "+--------------------------+---------+\n",
       "| The Usual Suspects       | 106     |\n",
       "+--------------------------+---------+\n",
       "| The Lion King            | 88      |\n",
       "+--------------------------+---------+\n",
       "| Back to the Future       | 116     |\n",
       "+--------------------------+---------+\n",
       "| American History X       | 119     |\n",
       "+--------------------------+---------+\n",
       "| Modern Times             | 87      |\n",
       "+--------------------------+---------+\n",
       "10 rows in set (0.00 sec)"
      ]
     },
     "execution_count": 55,
     "metadata": {},
     "output_type": "execute_result"
    }
   ],
   "source": [
    "SELECT title,\n",
    "       runtime\n",
    "  FROM movies\n",
    " ORDER BY CASE WHEN runtime > 180 THEN 'Over 3 hours'\n",
    "               WHEN runtime > 120 THEN 'Over 2 hours'\n",
    "               WHEN runtime > 60 THEN 'Over 1 hour'\n",
    "               ELSE 'Below 1 hour' END\n",
    " LIMIT 10;"
   ]
  },
  {
   "cell_type": "markdown",
   "id": "adjacent-reference",
   "metadata": {
    "slideshow": {
     "slide_type": "subslide"
    }
   },
   "source": [
    "## 以 `CASE WHEN` 衍生計算欄位篩選\n",
    "\n",
    "`CASE WHEN` 除了能夠搭配 `SELECT` 敘述、`ORDER BY` 敘述後使用，亦能夠搭配 `WHERE` 敘述使用。想要以 `CASE WHEN` 衍生計算欄位篩選資料表觀測值，在 `SELECT` 後建立別名並在 `WHERE` 後利用別名搭配關係運算符建立條件。\n",
    "\n",
    "```sql\n",
    "SELECT CASE WHEN condition_1 THEN result_1\n",
    "            WHEN condition_2 THEN result_2\n",
    "            ...\n",
    "            ELSE result_n END AS alias\n",
    "  FROM TABLE\n",
    " WHERE conditions;\n",
    "```"
   ]
  },
  {
   "cell_type": "code",
   "execution_count": 56,
   "id": "corrected-trading",
   "metadata": {
    "slideshow": {
     "slide_type": "subslide"
    }
   },
   "outputs": [
    {
     "data": {
      "text/html": [
       "<table>\n",
       "<tr>\n",
       "<th>title</th>\n",
       "<th>runtime</th>\n",
       "<th>runtime_category</th>\n",
       "</tr>\n",
       "<tr>\n",
       "<td>Gangs of Wasseypur</td>\n",
       "<td>321</td>\n",
       "<td>Over 3 hours</td>\n",
       "</tr>\n",
       "<tr>\n",
       "<td>Zack Snyder's Justice League</td>\n",
       "<td>242</td>\n",
       "<td>Over 3 hours</td>\n",
       "</tr>\n",
       "<tr>\n",
       "<td>Gone with the Wind</td>\n",
       "<td>238</td>\n",
       "<td>Over 3 hours</td>\n",
       "</tr>\n",
       "<tr>\n",
       "<td>Once Upon a Time in America</td>\n",
       "<td>229</td>\n",
       "<td>Over 3 hours</td>\n",
       "</tr>\n",
       "<tr>\n",
       "<td>Lawrence of Arabia</td>\n",
       "<td>228</td>\n",
       "<td>Over 3 hours</td>\n",
       "</tr>\n",
       "<tr>\n",
       "<td>Ben-Hur</td>\n",
       "<td>212</td>\n",
       "<td>Over 3 hours</td>\n",
       "</tr>\n",
       "<tr>\n",
       "<td>Seven Samurai</td>\n",
       "<td>207</td>\n",
       "<td>Over 3 hours</td>\n",
       "</tr>\n",
       "<tr>\n",
       "<td>Andrei Rublev</td>\n",
       "<td>205</td>\n",
       "<td>Over 3 hours</td>\n",
       "</tr>\n",
       "<tr>\n",
       "<td>The Godfather: Part II</td>\n",
       "<td>202</td>\n",
       "<td>Over 3 hours</td>\n",
       "</tr>\n",
       "<tr>\n",
       "<td>The Lord of the Rings: The Return of the King</td>\n",
       "<td>201</td>\n",
       "<td>Over 3 hours</td>\n",
       "</tr>\n",
       "<tr>\n",
       "<td>Schindler's List</td>\n",
       "<td>195</td>\n",
       "<td>Over 3 hours</td>\n",
       "</tr>\n",
       "<tr>\n",
       "<td>The Green Mile</td>\n",
       "<td>189</td>\n",
       "<td>Over 3 hours</td>\n",
       "</tr>\n",
       "<tr>\n",
       "<td>Swades</td>\n",
       "<td>189</td>\n",
       "<td>Over 3 hours</td>\n",
       "</tr>\n",
       "<tr>\n",
       "<td>Barry Lyndon</td>\n",
       "<td>185</td>\n",
       "<td>Over 3 hours</td>\n",
       "</tr>\n",
       "<tr>\n",
       "<td>The Deer Hunter</td>\n",
       "<td>183</td>\n",
       "<td>Over 3 hours</td>\n",
       "</tr>\n",
       "<tr>\n",
       "<td>Avengers: Endgame</td>\n",
       "<td>181</td>\n",
       "<td>Over 3 hours</td>\n",
       "</tr>\n",
       "</table>\n",
       "16 rows in set (0.00 sec)"
      ],
      "text/plain": [
       "+-----------------------------------------------+---------+------------------+\n",
       "| title                                         | runtime | runtime_category |\n",
       "+-----------------------------------------------+---------+------------------+\n",
       "| Gangs of Wasseypur                            | 321     | Over 3 hours     |\n",
       "+-----------------------------------------------+---------+------------------+\n",
       "| Zack Snyder's Justice League                  | 242     | Over 3 hours     |\n",
       "+-----------------------------------------------+---------+------------------+\n",
       "| Gone with the Wind                            | 238     | Over 3 hours     |\n",
       "+-----------------------------------------------+---------+------------------+\n",
       "| Once Upon a Time in America                   | 229     | Over 3 hours     |\n",
       "+-----------------------------------------------+---------+------------------+\n",
       "| Lawrence of Arabia                            | 228     | Over 3 hours     |\n",
       "+-----------------------------------------------+---------+------------------+\n",
       "| Ben-Hur                                       | 212     | Over 3 hours     |\n",
       "+-----------------------------------------------+---------+------------------+\n",
       "| Seven Samurai                                 | 207     | Over 3 hours     |\n",
       "+-----------------------------------------------+---------+------------------+\n",
       "| Andrei Rublev                                 | 205     | Over 3 hours     |\n",
       "+-----------------------------------------------+---------+------------------+\n",
       "| The Godfather: Part II                        | 202     | Over 3 hours     |\n",
       "+-----------------------------------------------+---------+------------------+\n",
       "| The Lord of the Rings: The Return of the King | 201     | Over 3 hours     |\n",
       "+-----------------------------------------------+---------+------------------+\n",
       "| Schindler's List                              | 195     | Over 3 hours     |\n",
       "+-----------------------------------------------+---------+------------------+\n",
       "| The Green Mile                                | 189     | Over 3 hours     |\n",
       "+-----------------------------------------------+---------+------------------+\n",
       "| Swades                                        | 189     | Over 3 hours     |\n",
       "+-----------------------------------------------+---------+------------------+\n",
       "| Barry Lyndon                                  | 185     | Over 3 hours     |\n",
       "+-----------------------------------------------+---------+------------------+\n",
       "| The Deer Hunter                               | 183     | Over 3 hours     |\n",
       "+-----------------------------------------------+---------+------------------+\n",
       "| Avengers: Endgame                             | 181     | Over 3 hours     |\n",
       "+-----------------------------------------------+---------+------------------+\n",
       "16 rows in set (0.00 sec)"
      ]
     },
     "execution_count": 56,
     "metadata": {},
     "output_type": "execute_result"
    }
   ],
   "source": [
    "SELECT title,\n",
    "       runtime,\n",
    "       CASE WHEN runtime > 180 THEN 'Over 3 hours'\n",
    "            WHEN runtime > 120 THEN 'Over 2 hours'\n",
    "            WHEN runtime > 60 THEN 'Over 1 hour'\n",
    "            ELSE 'Below 1 hour' END AS runtime_category\n",
    "  FROM movies\n",
    " WHERE runtime_category = 'Over 3 hours'\n",
    " ORDER BY runtime_category, \n",
    "          runtime DESC;"
   ]
  },
  {
   "cell_type": "markdown",
   "id": "68e5c48e",
   "metadata": {
    "slideshow": {
     "slide_type": "slide"
    }
   },
   "source": [
    "## 分組與聚合結果篩選"
   ]
  },
  {
   "cell_type": "markdown",
   "id": "7c42265e",
   "metadata": {
    "slideshow": {
     "slide_type": "subslide"
    }
   },
   "source": [
    "## 以 `GROUP BY` 分組\n",
    "\n",
    "對資料表中的欄位剔除重複值並且遞增排序，這樣的技巧在 SQL 與關聯式資料庫管理系統被稱為「分組」，在 SQL 敘述中加入 `GROUP BY` 就等同於 `DISTINCT` 與 `ORDER BY` 兩者同時作用的效果。\n",
    "\n",
    "```sql\n",
    "SELECT columns\n",
    "  FROM table\n",
    " GROUP BY columns;\n",
    "```"
   ]
  },
  {
   "cell_type": "code",
   "execution_count": 57,
   "id": "eb7893bc",
   "metadata": {
    "slideshow": {
     "slide_type": "subslide"
    }
   },
   "outputs": [
    {
     "data": {
      "text/html": [
       "<table>\n",
       "<tr>\n",
       "<th>director</th>\n",
       "</tr>\n",
       "<tr>\n",
       "<td>Aamir Khan</td>\n",
       "</tr>\n",
       "<tr>\n",
       "<td>Adam Elliot</td>\n",
       "</tr>\n",
       "<tr>\n",
       "<td>Akira Kurosawa</td>\n",
       "</tr>\n",
       "<tr>\n",
       "<td>Alejandro G. Iñárritu</td>\n",
       "</tr>\n",
       "<tr>\n",
       "<td>Alfred Hitchcock</td>\n",
       "</tr>\n",
       "<tr>\n",
       "<td>Andrei Tarkovsky</td>\n",
       "</tr>\n",
       "<tr>\n",
       "<td>Andrew Stanton</td>\n",
       "</tr>\n",
       "<tr>\n",
       "<td>Anthony Russo</td>\n",
       "</tr>\n",
       "<tr>\n",
       "<td>Anurag Kashyap</td>\n",
       "</tr>\n",
       "<tr>\n",
       "<td>Asghar Farhadi</td>\n",
       "</tr>\n",
       "</table>\n",
       "10 rows in set (0.00 sec)"
      ],
      "text/plain": [
       "+-------------------------+\n",
       "| director                |\n",
       "+-------------------------+\n",
       "| Aamir Khan              |\n",
       "+-------------------------+\n",
       "| Adam Elliot             |\n",
       "+-------------------------+\n",
       "| Akira Kurosawa          |\n",
       "+-------------------------+\n",
       "| Alejandro G. Iñárritu |\n",
       "+-------------------------+\n",
       "| Alfred Hitchcock        |\n",
       "+-------------------------+\n",
       "| Andrei Tarkovsky        |\n",
       "+-------------------------+\n",
       "| Andrew Stanton          |\n",
       "+-------------------------+\n",
       "| Anthony Russo           |\n",
       "+-------------------------+\n",
       "| Anurag Kashyap          |\n",
       "+-------------------------+\n",
       "| Asghar Farhadi          |\n",
       "+-------------------------+\n",
       "10 rows in set (0.00 sec)"
      ]
     },
     "execution_count": 57,
     "metadata": {},
     "output_type": "execute_result"
    }
   ],
   "source": [
    "SELECT director\n",
    "  FROM movies\n",
    " GROUP BY director\n",
    " LIMIT 10;"
   ]
  },
  {
   "cell_type": "markdown",
   "id": "6045fc53",
   "metadata": {
    "slideshow": {
     "slide_type": "subslide"
    }
   },
   "source": [
    "## 笛卡兒積（Cartesian product）\n",
    "\n",
    "不同欄位的獨一值會組成所有可能的集合。"
   ]
  },
  {
   "cell_type": "code",
   "execution_count": 58,
   "id": "16e3d4a8",
   "metadata": {},
   "outputs": [
    {
     "data": {
      "text/html": [
       "<table>\n",
       "<tr>\n",
       "<th>director</th>\n",
       "<th>release_year</th>\n",
       "</tr>\n",
       "<tr>\n",
       "<td>Aamir Khan</td>\n",
       "<td>2007</td>\n",
       "</tr>\n",
       "<tr>\n",
       "<td>Adam Elliot</td>\n",
       "<td>2009</td>\n",
       "</tr>\n",
       "<tr>\n",
       "<td>Akira Kurosawa</td>\n",
       "<td>1950</td>\n",
       "</tr>\n",
       "<tr>\n",
       "<td>Akira Kurosawa</td>\n",
       "<td>1952</td>\n",
       "</tr>\n",
       "<tr>\n",
       "<td>Akira Kurosawa</td>\n",
       "<td>1954</td>\n",
       "</tr>\n",
       "<tr>\n",
       "<td>Akira Kurosawa</td>\n",
       "<td>1961</td>\n",
       "</tr>\n",
       "<tr>\n",
       "<td>Akira Kurosawa</td>\n",
       "<td>1963</td>\n",
       "</tr>\n",
       "<tr>\n",
       "<td>Akira Kurosawa</td>\n",
       "<td>1985</td>\n",
       "</tr>\n",
       "<tr>\n",
       "<td>Alejandro G. Iñárritu</td>\n",
       "<td>2000</td>\n",
       "</tr>\n",
       "<tr>\n",
       "<td>Alfred Hitchcock</td>\n",
       "<td>1940</td>\n",
       "</tr>\n",
       "</table>\n",
       "10 rows in set (0.00 sec)"
      ],
      "text/plain": [
       "+-------------------------+--------------+\n",
       "| director                | release_year |\n",
       "+-------------------------+--------------+\n",
       "| Aamir Khan              | 2007         |\n",
       "+-------------------------+--------------+\n",
       "| Adam Elliot             | 2009         |\n",
       "+-------------------------+--------------+\n",
       "| Akira Kurosawa          | 1950         |\n",
       "+-------------------------+--------------+\n",
       "| Akira Kurosawa          | 1952         |\n",
       "+-------------------------+--------------+\n",
       "| Akira Kurosawa          | 1954         |\n",
       "+-------------------------+--------------+\n",
       "| Akira Kurosawa          | 1961         |\n",
       "+-------------------------+--------------+\n",
       "| Akira Kurosawa          | 1963         |\n",
       "+-------------------------+--------------+\n",
       "| Akira Kurosawa          | 1985         |\n",
       "+-------------------------+--------------+\n",
       "| Alejandro G. Iñárritu | 2000         |\n",
       "+-------------------------+--------------+\n",
       "| Alfred Hitchcock        | 1940         |\n",
       "+-------------------------+--------------+\n",
       "10 rows in set (0.00 sec)"
      ]
     },
     "execution_count": 58,
     "metadata": {},
     "output_type": "execute_result"
    }
   ],
   "source": [
    "SELECT director,\n",
    "       release_year\n",
    "  FROM movies\n",
    " GROUP BY director,\n",
    "          release_year\n",
    " LIMIT 10;"
   ]
  },
  {
   "cell_type": "markdown",
   "id": "weird-houston",
   "metadata": {
    "slideshow": {
     "slide_type": "subslide"
    }
   },
   "source": [
    "## 結合聚合函數與 `GROUP BY` 完成分組聚合\n",
    "\n",
    "同時使用聚合函數（例如 `AVG()`、`COUNT()`、`SUM()`...等）以及 `GROUP BY` 可以便捷地達成分組聚合。\n",
    "\n",
    "```sql\n",
    "SELECT AGGREGATE_FUNCTION(column) AS alias\n",
    "  FROM table\n",
    " GROUP BY columns;\n",
    "```"
   ]
  },
  {
   "cell_type": "code",
   "execution_count": 59,
   "id": "c86116de",
   "metadata": {
    "slideshow": {
     "slide_type": "subslide"
    }
   },
   "outputs": [
    {
     "data": {
      "text/html": [
       "<table>\n",
       "<tr>\n",
       "<th>release_year</th>\n",
       "<th>avg_rating</th>\n",
       "</tr>\n",
       "<tr>\n",
       "<td>1921</td>\n",
       "<td>8.3</td>\n",
       "</tr>\n",
       "<tr>\n",
       "<td>1924</td>\n",
       "<td>8.2</td>\n",
       "</tr>\n",
       "<tr>\n",
       "<td>1925</td>\n",
       "<td>8.2</td>\n",
       "</tr>\n",
       "<tr>\n",
       "<td>1926</td>\n",
       "<td>8.1</td>\n",
       "</tr>\n",
       "<tr>\n",
       "<td>1927</td>\n",
       "<td>8.3</td>\n",
       "</tr>\n",
       "<tr>\n",
       "<td>1928</td>\n",
       "<td>8.1</td>\n",
       "</tr>\n",
       "<tr>\n",
       "<td>1931</td>\n",
       "<td>8.4</td>\n",
       "</tr>\n",
       "<tr>\n",
       "<td>1934</td>\n",
       "<td>8.1</td>\n",
       "</tr>\n",
       "<tr>\n",
       "<td>1936</td>\n",
       "<td>8.5</td>\n",
       "</tr>\n",
       "<tr>\n",
       "<td>1939</td>\n",
       "<td>8.1</td>\n",
       "</tr>\n",
       "</table>\n",
       "10 rows in set (0.00 sec)"
      ],
      "text/plain": [
       "+--------------+------------+\n",
       "| release_year | avg_rating |\n",
       "+--------------+------------+\n",
       "| 1921         | 8.3        |\n",
       "+--------------+------------+\n",
       "| 1924         | 8.2        |\n",
       "+--------------+------------+\n",
       "| 1925         | 8.2        |\n",
       "+--------------+------------+\n",
       "| 1926         | 8.1        |\n",
       "+--------------+------------+\n",
       "| 1927         | 8.3        |\n",
       "+--------------+------------+\n",
       "| 1928         | 8.1        |\n",
       "+--------------+------------+\n",
       "| 1931         | 8.4        |\n",
       "+--------------+------------+\n",
       "| 1934         | 8.1        |\n",
       "+--------------+------------+\n",
       "| 1936         | 8.5        |\n",
       "+--------------+------------+\n",
       "| 1939         | 8.1        |\n",
       "+--------------+------------+\n",
       "10 rows in set (0.00 sec)"
      ]
     },
     "execution_count": 59,
     "metadata": {},
     "output_type": "execute_result"
    }
   ],
   "source": [
    "SELECT release_year,\n",
    "       AVG(rating) AS avg_rating\n",
    "  FROM movies\n",
    " GROUP BY release_year\n",
    " LIMIT 10;"
   ]
  },
  {
   "cell_type": "markdown",
   "id": "95aafe5d",
   "metadata": {
    "slideshow": {
     "slide_type": "subslide"
    }
   },
   "source": [
    "## 日期時間與 `GROUP BY`"
   ]
  },
  {
   "cell_type": "code",
   "execution_count": 60,
   "id": "471eb612",
   "metadata": {},
   "outputs": [
    {
     "data": {
      "text/html": [
       "<table>\n",
       "<tr>\n",
       "<th>year_month</th>\n",
       "<th>total_confirmed</th>\n",
       "</tr>\n",
       "<tr>\n",
       "<td>2020-01</td>\n",
       "<td>9927</td>\n",
       "</tr>\n",
       "<tr>\n",
       "<td>2020-02</td>\n",
       "<td>76086</td>\n",
       "</tr>\n",
       "<tr>\n",
       "<td>2020-03</td>\n",
       "<td>789781</td>\n",
       "</tr>\n",
       "<tr>\n",
       "<td>2020-04</td>\n",
       "<td>2404056</td>\n",
       "</tr>\n",
       "<tr>\n",
       "<td>2020-05</td>\n",
       "<td>2908334</td>\n",
       "</tr>\n",
       "<tr>\n",
       "<td>2020-06</td>\n",
       "<td>4269745</td>\n",
       "</tr>\n",
       "<tr>\n",
       "<td>2020-07</td>\n",
       "<td>7146838</td>\n",
       "</tr>\n",
       "<tr>\n",
       "<td>2020-08</td>\n",
       "<td>7904323</td>\n",
       "</tr>\n",
       "<tr>\n",
       "<td>2020-09</td>\n",
       "<td>8502588</td>\n",
       "</tr>\n",
       "<tr>\n",
       "<td>2020-10</td>\n",
       "<td>12130122</td>\n",
       "</tr>\n",
       "<tr>\n",
       "<td>2020-11</td>\n",
       "<td>17268367</td>\n",
       "</tr>\n",
       "<tr>\n",
       "<td>2020-12</td>\n",
       "<td>20148851</td>\n",
       "</tr>\n",
       "<tr>\n",
       "<td>2021-01</td>\n",
       "<td>19467621</td>\n",
       "</tr>\n",
       "<tr>\n",
       "<td>2021-02</td>\n",
       "<td>11151041</td>\n",
       "</tr>\n",
       "<tr>\n",
       "<td>2021-03</td>\n",
       "<td>14645055</td>\n",
       "</tr>\n",
       "</table>\n",
       "15 rows in set (0.10 sec)"
      ],
      "text/plain": [
       "+------------+-----------------+\n",
       "| year_month | total_confirmed |\n",
       "+------------+-----------------+\n",
       "| 2020-01    | 9927            |\n",
       "+------------+-----------------+\n",
       "| 2020-02    | 76086           |\n",
       "+------------+-----------------+\n",
       "| 2020-03    | 789781          |\n",
       "+------------+-----------------+\n",
       "| 2020-04    | 2404056         |\n",
       "+------------+-----------------+\n",
       "| 2020-05    | 2908334         |\n",
       "+------------+-----------------+\n",
       "| 2020-06    | 4269745         |\n",
       "+------------+-----------------+\n",
       "| 2020-07    | 7146838         |\n",
       "+------------+-----------------+\n",
       "| 2020-08    | 7904323         |\n",
       "+------------+-----------------+\n",
       "| 2020-09    | 8502588         |\n",
       "+------------+-----------------+\n",
       "| 2020-10    | 12130122        |\n",
       "+------------+-----------------+\n",
       "| 2020-11    | 17268367        |\n",
       "+------------+-----------------+\n",
       "| 2020-12    | 20148851        |\n",
       "+------------+-----------------+\n",
       "| 2021-01    | 19467621        |\n",
       "+------------+-----------------+\n",
       "| 2021-02    | 11151041        |\n",
       "+------------+-----------------+\n",
       "| 2021-03    | 14645055        |\n",
       "+------------+-----------------+\n",
       "15 rows in set (0.10 sec)"
      ]
     },
     "execution_count": 60,
     "metadata": {},
     "output_type": "execute_result"
    }
   ],
   "source": [
    "SELECT STRFTIME('%Y-%m', Date) AS year_month,\n",
    "       SUM(Daily_Cases) AS total_confirmed\n",
    "  FROM time_series\n",
    " GROUP BY year_month;"
   ]
  },
  {
   "cell_type": "markdown",
   "id": "dff79a43",
   "metadata": {
    "slideshow": {
     "slide_type": "subslide"
    }
   },
   "source": [
    "## 以 `HAVING` 篩選分組聚合結果\n",
    "\n",
    "假如我們希望針對分組聚合的結果進行篩選呢？\n",
    "\n",
    "```sql\n",
    "SELECT release_year,\n",
    "       AVG(rating) AS avg_rating\n",
    "  FROM movies\n",
    " WHERE AVG(rating) >= 8.5\n",
    " GROUP BY release_year;\n",
    "```\n",
    "\n",
    "```\n",
    "Error: sqlite3_statement_backend::prepare: misuse of aggregate: AVG()\n",
    "```"
   ]
  },
  {
   "cell_type": "markdown",
   "id": "8729da27",
   "metadata": {
    "slideshow": {
     "slide_type": "subslide"
    }
   },
   "source": [
    "## 錯誤訊息：`misuse of aggregate: AVG()`\n",
    "\n",
    "`HAVING` 就像是分組聚合版本的 `WHERE`，兩者作用的維度不同，`WHERE` 篩選原始資料表列中的「觀測值」、`HAVING` 篩選聚合結果中的「欄位」。\n",
    "\n",
    "```sql\n",
    "SELECT AGGREGATE_FUNCTION(column) AS alias\n",
    "  FROM table\n",
    " GROUP BY columns\n",
    "HAVING conditions;\n",
    "```"
   ]
  },
  {
   "cell_type": "code",
   "execution_count": 61,
   "id": "7dbab28d",
   "metadata": {
    "slideshow": {
     "slide_type": "subslide"
    }
   },
   "outputs": [
    {
     "data": {
      "text/html": [
       "<table>\n",
       "<tr>\n",
       "<th>release_year</th>\n",
       "<th>avg_rating</th>\n",
       "</tr>\n",
       "<tr>\n",
       "<td>1936</td>\n",
       "<td>8.5</td>\n",
       "</tr>\n",
       "<tr>\n",
       "<td>1946</td>\n",
       "<td>8.6</td>\n",
       "</tr>\n",
       "<tr>\n",
       "<td>1972</td>\n",
       "<td>9.2</td>\n",
       "</tr>\n",
       "<tr>\n",
       "<td>1974</td>\n",
       "<td>8.55</td>\n",
       "</tr>\n",
       "<tr>\n",
       "<td>1977</td>\n",
       "<td>8.6</td>\n",
       "</tr>\n",
       "<tr>\n",
       "<td>1990</td>\n",
       "<td>8.7</td>\n",
       "</tr>\n",
       "<tr>\n",
       "<td>1991</td>\n",
       "<td>8.55</td>\n",
       "</tr>\n",
       "<tr>\n",
       "<td>1994</td>\n",
       "<td>8.8</td>\n",
       "</tr>\n",
       "<tr>\n",
       "<td>1999</td>\n",
       "<td>8.5</td>\n",
       "</tr>\n",
       "<tr>\n",
       "<td>2008</td>\n",
       "<td>8.5</td>\n",
       "</tr>\n",
       "</table>\n",
       "10 rows in set (0.00 sec)"
      ],
      "text/plain": [
       "+--------------+------------+\n",
       "| release_year | avg_rating |\n",
       "+--------------+------------+\n",
       "| 1936         | 8.5        |\n",
       "+--------------+------------+\n",
       "| 1946         | 8.6        |\n",
       "+--------------+------------+\n",
       "| 1972         | 9.2        |\n",
       "+--------------+------------+\n",
       "| 1974         | 8.55       |\n",
       "+--------------+------------+\n",
       "| 1977         | 8.6        |\n",
       "+--------------+------------+\n",
       "| 1990         | 8.7        |\n",
       "+--------------+------------+\n",
       "| 1991         | 8.55       |\n",
       "+--------------+------------+\n",
       "| 1994         | 8.8        |\n",
       "+--------------+------------+\n",
       "| 1999         | 8.5        |\n",
       "+--------------+------------+\n",
       "| 2008         | 8.5        |\n",
       "+--------------+------------+\n",
       "10 rows in set (0.00 sec)"
      ]
     },
     "execution_count": 61,
     "metadata": {},
     "output_type": "execute_result"
    }
   ],
   "source": [
    "SELECT release_year,\n",
    "       AVG(rating) AS avg_rating\n",
    "  FROM movies\n",
    " GROUP BY release_year\n",
    "HAVING AVG(rating) >= 8.5;"
   ]
  },
  {
   "cell_type": "markdown",
   "id": "11b9db10",
   "metadata": {
    "slideshow": {
     "slide_type": "subslide"
    }
   },
   "source": [
    "## 應用 `GROUP BY`、`HAVING` 與 `COUNT()` 尋找重複資料\n",
    "\n",
    "重複的電影名稱（極少數的特例）為何？"
   ]
  },
  {
   "cell_type": "code",
   "execution_count": 62,
   "id": "fee143a8",
   "metadata": {},
   "outputs": [
    {
     "data": {
      "text/html": [
       "<table>\n",
       "<tr>\n",
       "<th>n_movies</th>\n",
       "</tr>\n",
       "<tr>\n",
       "<td>250</td>\n",
       "</tr>\n",
       "</table>\n",
       "1 row in set (0.00 sec)"
      ],
      "text/plain": [
       "+----------+\n",
       "| n_movies |\n",
       "+----------+\n",
       "| 250      |\n",
       "+----------+\n",
       "1 row in set (0.00 sec)"
      ]
     },
     "execution_count": 62,
     "metadata": {},
     "output_type": "execute_result"
    }
   ],
   "source": [
    "SELECT COUNT(title) AS n_movies\n",
    "  FROM movies;"
   ]
  },
  {
   "cell_type": "code",
   "execution_count": 63,
   "id": "1df58adf",
   "metadata": {},
   "outputs": [
    {
     "data": {
      "text/html": [
       "<table>\n",
       "<tr>\n",
       "<th>n_movies</th>\n",
       "</tr>\n",
       "<tr>\n",
       "<td>249</td>\n",
       "</tr>\n",
       "</table>\n",
       "1 row in set (0.00 sec)"
      ],
      "text/plain": [
       "+----------+\n",
       "| n_movies |\n",
       "+----------+\n",
       "| 249      |\n",
       "+----------+\n",
       "1 row in set (0.00 sec)"
      ]
     },
     "execution_count": 63,
     "metadata": {},
     "output_type": "execute_result"
    }
   ],
   "source": [
    "SELECT COUNT(DISTINCT title) AS n_movies\n",
    "  FROM movies;"
   ]
  },
  {
   "cell_type": "code",
   "execution_count": 64,
   "id": "0f4a27e2",
   "metadata": {
    "slideshow": {
     "slide_type": "subslide"
    }
   },
   "outputs": [
    {
     "data": {
      "text/html": [
       "<table>\n",
       "<tr>\n",
       "<th>title</th>\n",
       "<th>n_movies</th>\n",
       "</tr>\n",
       "<tr>\n",
       "<td>12 Angry Men</td>\n",
       "<td>1</td>\n",
       "</tr>\n",
       "<tr>\n",
       "<td>12 Years a Slave</td>\n",
       "<td>1</td>\n",
       "</tr>\n",
       "<tr>\n",
       "<td>1917</td>\n",
       "<td>1</td>\n",
       "</tr>\n",
       "<tr>\n",
       "<td>2001: A Space Odyssey</td>\n",
       "<td>1</td>\n",
       "</tr>\n",
       "<tr>\n",
       "<td>3 Idiots</td>\n",
       "<td>1</td>\n",
       "</tr>\n",
       "</table>\n",
       "5 rows in set (0.00 sec)"
      ],
      "text/plain": [
       "+-----------------------+----------+\n",
       "| title                 | n_movies |\n",
       "+-----------------------+----------+\n",
       "| 12 Angry Men          | 1        |\n",
       "+-----------------------+----------+\n",
       "| 12 Years a Slave      | 1        |\n",
       "+-----------------------+----------+\n",
       "| 1917                  | 1        |\n",
       "+-----------------------+----------+\n",
       "| 2001: A Space Odyssey | 1        |\n",
       "+-----------------------+----------+\n",
       "| 3 Idiots              | 1        |\n",
       "+-----------------------+----------+\n",
       "5 rows in set (0.00 sec)"
      ]
     },
     "execution_count": 64,
     "metadata": {},
     "output_type": "execute_result"
    }
   ],
   "source": [
    "SELECT title,\n",
    "       COUNT(*) AS n_movies\n",
    "  FROM movies\n",
    " GROUP BY title\n",
    " LIMIT 5;"
   ]
  },
  {
   "cell_type": "code",
   "execution_count": 65,
   "id": "172fb195",
   "metadata": {},
   "outputs": [
    {
     "data": {
      "text/html": [
       "<table>\n",
       "<tr>\n",
       "<th>title</th>\n",
       "<th>n_movies</th>\n",
       "</tr>\n",
       "<tr>\n",
       "<td>Drishyam</td>\n",
       "<td>2</td>\n",
       "</tr>\n",
       "</table>\n",
       "1 row in set (0.00 sec)"
      ],
      "text/plain": [
       "+----------+----------+\n",
       "| title    | n_movies |\n",
       "+----------+----------+\n",
       "| Drishyam | 2        |\n",
       "+----------+----------+\n",
       "1 row in set (0.00 sec)"
      ]
     },
     "execution_count": 65,
     "metadata": {},
     "output_type": "execute_result"
    }
   ],
   "source": [
    "SELECT title,\n",
    "       COUNT(*) AS n_movies\n",
    "  FROM movies\n",
    " GROUP BY title\n",
    "HAVING n_movies != 1;"
   ]
  },
  {
   "cell_type": "markdown",
   "id": "fd249b9f",
   "metadata": {
    "slideshow": {
     "slide_type": "subslide"
    }
   },
   "source": [
    "## 寫作順序必須遵從標準 SQL 的規定\n",
    "\n",
    "```sql\n",
    "SELECT DISTINCT columns AS alias,\n",
    "       CASE WHEN condition_1 THEN result_1\n",
    "            WHEN condition_2 THEN result_2\n",
    "            ...\n",
    "            ELSE result_n END AS alias\n",
    "  FROM table\n",
    " WHERE conditions\n",
    " GROUP BY columns\n",
    "HAVING conditions\n",
    " ORDER BY columns DESC\n",
    " LIMIT m\n",
    "OFFSET m;\n",
    "```"
   ]
  },
  {
   "cell_type": "markdown",
   "id": "07b443b9",
   "metadata": {
    "slideshow": {
     "slide_type": "subslide"
    }
   },
   "source": [
    "## 第二天的額外練習題\n",
    "\n",
    "- 使用 `kaggleSurvey2022.db` 與 `twElection2022.db`\n",
    "- [練習題連結](https://gke.mybinder.org/v2/gh/datainpoint/environment-hahow-sqlfifty/main?urlpath=git-pull%3Frepo%3Dhttps%253A%252F%252Fgithub.com%252Fdatainpoint%252Fclassroom-hahow-sqlfifty%26urlpath%3Dtree%252Fclassroom-hahow-sqlfifty%252Fworkshop%252Fexercises_day_two.ipynb%26branch%3Dmain)"
   ]
  },
  {
   "cell_type": "markdown",
   "id": "efff8fb6",
   "metadata": {
    "slideshow": {
     "slide_type": "slide"
    }
   },
   "source": [
    "## 學長姐常見問題彙整\n",
    "\n",
    "> 老師您好，我在做作業16遇到一個問題，當我使用CAST做排序時，使用 CAST(assists AS REAL)/turnovers 及 CAST assists/CAST(turnovers AS REAL)的結排序果一樣，但是若是使用CAST(assists/turnovers AS REAL)的結果卻和上面兩者不同，請問是因為使用 CAST(assists/turnovers AS REAL)這個計算的時候，因為assists/turnovers 先進行計算且只留整數部分，所以即便後面轉成浮點數，小數點後也都是 .00000000 這樣的形式，變成有重複值的出現，最後才造成排序結果不同嗎?謝謝"
   ]
  },
  {
   "cell_type": "markdown",
   "id": "4a425005",
   "metadata": {
    "slideshow": {
     "slide_type": "subslide"
    }
   },
   "source": [
    "## 學長姐常見問題彙整\n",
    "\n",
    "> 老師您好，我想請問 COALESCE 函數的使用方法。\n",
    "查了一下官方文件上的說明後， COALESCE 函數本來是會查詢出第一個非NULL值，如果全部都是NULL的話則顯示NULL。\n",
    "```\n",
    "coalesce(X,Y,...)\n",
    "The coalesce() function returns a copy of its first non-NULL argument, or NULL if all arguments are NULL. Coalesce() must have at least 2 arguments.\n",
    "```\n",
    ">進一步查詢後發現如果要替換NULL值好像通常會提到以 ISNULL 函數操作，相較之下 COALESCE 函數的運用多半在合併資料遞補取代NULL的時候。\n",
    "但實際在DBeaver上以老師的方法寫寫看，的確可以成功把NULL值替換。想請教實際使用時通常會怎麼使用 COALESCE 呢？如果以替換NULL值來說，可以用什麼角度解讀官方提供的用法呢（這樣之後其他函數才可以也觸類旁通）?\n",
    "謝謝老師～"
   ]
  },
  {
   "cell_type": "markdown",
   "id": "1ee84e35",
   "metadata": {
    "slideshow": {
     "slide_type": "subslide"
    }
   },
   "source": [
    "## 學長姐常見問題彙整（續）\n",
    "\n",
    "> 老師好: 我有點困惑，為什麼在Jupyter 中跟SQLiteStudio 上面執行的編號都差1號呢，謝謝。"
   ]
  },
  {
   "cell_type": "markdown",
   "id": "af33767d",
   "metadata": {
    "slideshow": {
     "slide_type": "subslide"
    }
   },
   "source": [
    "## 學長姐常見問題彙整（續）\n",
    "\n",
    "> 老師好，我想要將每一欄都用CAST 轉成REAL，但是為什麼前三欄都無法像第四欄一樣順利轉換?謝謝老師~\n",
    "```sql\n",
    "SELECT CAST(assists AS REAL),\n",
    "       CAST(turnovers AS REAL),\n",
    "       CAST(assists/turnovers AS REAL) AS assist_turnover_ratio,\n",
    "       CAST(assists AS REAL) / turnovers AS assist_turnover_ratio2\n",
    "  FROM career_summaries;\n",
    "```"
   ]
  },
  {
   "cell_type": "markdown",
   "id": "4e645cdd",
   "metadata": {
    "slideshow": {
     "slide_type": "subslide"
    }
   },
   "source": [
    "## 學長姐常見問題彙整（續）\n",
    "\n",
    "> 請問為什麼作業16 是ORDER BY assitsts/ CAST(turnovers AS real) DESC 而不是ORDER BY CAST(assists/turnovers AS real) DESC"
   ]
  },
  {
   "cell_type": "markdown",
   "id": "71685e4b",
   "metadata": {
    "slideshow": {
     "slide_type": "subslide"
    }
   },
   "source": [
    "## 學長姐常見問題彙整（續）\n",
    "\n",
    "> 1. 請問以下OR的錯誤寫法，為何沒有報錯，但只跑出 name = 'Tom Hanks' 的一筆結果呢？ \n",
    "```sql\n",
    "SELECT id,               \n",
    "       name\n",
    "  FROM actors\n",
    " WHERE name = 'Tom Hanks' OR 'Christian Bale' OR 'Leonardo DiCaprio';\n",
    "```\n",
    "> 2. 另外請教老師，若是要使用篩選條件：A欄觀測值=B欄觀測值=C欄觀測值是否可以寫作 WHERE A = B = C 或是寫作WHERE A=B AND B=C 或是有其他正確寫法？"
   ]
  },
  {
   "cell_type": "markdown",
   "id": "da125099",
   "metadata": {
    "slideshow": {
     "slide_type": "subslide"
    }
   },
   "source": [
    "## 學長姐常見問題彙整（續）\n",
    "\n",
    "> 老師  請問第25、26、28、29題中 您在計算數值時，使用count(\\*) 而不用count(column_names),我自己練習操作時，我使用count(column_names) 計算，出來的結果與您的解答相同，還特地回去看了聚合函數的影片，還是不了解為什麼老師解題會使用count(\\*) 謝謝"
   ]
  },
  {
   "cell_type": "markdown",
   "id": "bbbae293",
   "metadata": {
    "slideshow": {
     "slide_type": "subslide"
    }
   },
   "source": [
    "## 學長姐常見問題彙整（續）\n",
    "\n",
    "> 問題1.having 分組聚合後，才對結果做篩選，程式碼如下，為何資料會差1筆？請問以下寫法，意義有甚麼不同\n",
    "```sql\n",
    "having avg(heightMeters)>=2\n",
    "having (heightMeters)>=2\n",
    "```\n",
    "> 問題2.使用goup by聚合後，heightMeters預設是以甚麼方式聚合？\n",
    "```sql\n",
    "select pos,heightMeters\n",
    "from players\n",
    "group by pos\n",
    "```"
   ]
  },
  {
   "cell_type": "markdown",
   "id": "d8a2e26d",
   "metadata": {
    "slideshow": {
     "slide_type": "subslide"
    }
   },
   "source": [
    "## 學長姐常見問題彙整（續）\n",
    "\n",
    "> 想請問最後使用HAVING設定條件產出時，為什麼這邊不能使用avg_height_meters 而必須使用 AVG(heightMeters)呢?\n",
    "我的理解是在一開始SELECT時，已對欄位給予新的指定欄位別名，所以在最後設定條件時，需以新的欄位別名來做HAVING挑選。\n",
    "發文完後發現我一直有誤解，剛Google了解後，書寫順序不代表執行順序阿~~~\n",
    "以下為Google內容：\n",
    "SQL 語句的書寫順序如下：\n",
    "SELECT -> FROM -> WHERE -> GROUP BY -> HAVING -> ORDER BY\n",
    "SQL 語句的執行順序如下：\n",
    "FROM -> WHERE -> GROUP BY -> HAVING -> SELECT -> ORDER BY"
   ]
  }
 ],
 "metadata": {
  "celltoolbar": "Slideshow",
  "kernelspec": {
   "display_name": "xsql",
   "language": "sqlite",
   "name": "xsql"
  },
  "language_info": {
   "codemirror_mode": "sql",
   "file_extension": "",
   "mimetype": "",
   "name": "mysql",
   "version": "0.1.5"
  }
 },
 "nbformat": 4,
 "nbformat_minor": 5
}
