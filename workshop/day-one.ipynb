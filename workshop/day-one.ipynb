{
 "cells": [
  {
   "cell_type": "markdown",
   "id": "lightweight-fruit",
   "metadata": {
    "slideshow": {
     "slide_type": "slide"
    }
   },
   "source": [
    "# SQL 的五十道練習：初學者友善的資料庫八週專班\n",
    "\n",
    "> 第一天\n",
    "\n",
    "[數聚點](https://www.datainpoint.com/) | 郭耀仁 <yaojenkuo@datainpoint.com>"
   ]
  },
  {
   "cell_type": "code",
   "execution_count": 1,
   "id": "textile-inquiry",
   "metadata": {
    "slideshow": {
     "slide_type": "skip"
    }
   },
   "outputs": [],
   "source": [
    "%LOAD sqlite3 db=../databases/imdb.db timeout=2 shared_cache=true"
   ]
  },
  {
   "cell_type": "markdown",
   "id": "bf08e4f5",
   "metadata": {
    "slideshow": {
     "slide_type": "slide"
    }
   },
   "source": [
    "## SQL、關聯式資料庫與關聯式資料庫管理系統"
   ]
  },
  {
   "cell_type": "markdown",
   "id": "2e2320d0",
   "metadata": {
    "slideshow": {
     "slide_type": "subslide"
    }
   },
   "source": [
    "## SQL、關聯式資料庫與關聯式資料庫管理系統\n",
    "\n",
    "- 什麼是 SQL\n",
    "- 什麼是關聯式資料庫\n",
    "- 什麼是關聯式資料庫管理系統"
   ]
  },
  {
   "cell_type": "markdown",
   "id": "3487a4ff",
   "metadata": {
    "slideshow": {
     "slide_type": "subslide"
    }
   },
   "source": [
    "## 什麼是 SQL\n",
    "\n",
    "- SQL 是 Structured Query Language 的縮寫，是一個專門針對關聯式資料庫中所儲存的資料進行查詢、定義、操作與控制的語言。\n",
    "- SQL 在 1970 年代由國際商業機器公司（IBM）創造，剛開發出來時候僅只是為了更有效率地「查詢」儲存於關聯式資料庫中的資料，但是到了現代，除了查詢以外像是資料的建立、更新與刪除，也都能靠著 SQL 來完成。"
   ]
  },
  {
   "cell_type": "markdown",
   "id": "a89e95af",
   "metadata": {
    "slideshow": {
     "slide_type": "subslide"
    }
   },
   "source": [
    "## 什麼是 SQL（續）\n",
    "\n",
    "- 具體來說，SQL 是由保留字（Keyword）、符號、常數與函數所組合而成的一種語言。\n",
    "- 按照 SQL 使用目的可以再細分為:\n",
    "\n",
    "|SQL 的分類|範例|\n",
    "|:---------|:----|\n",
    "|資料查詢語言（Data Query Language, DQL）|`SELECT ...`|\n",
    "|資料定義語言（Data Definition Language, DDL）|`CREATE ...`|\n",
    "|資料操作語言（Data Manipulation Language, DML）|`UPDATE ...`|\n",
    "|資料控制語言（Data Control Language, DCL）|`GRANT ...`|\n",
    "|交易控制語言（Transaction Control Language, TCL）|`COMMIT`|"
   ]
  },
  {
   "cell_type": "markdown",
   "id": "legal-martial",
   "metadata": {
    "slideshow": {
     "slide_type": "subslide"
    }
   },
   "source": [
    "## 什麼是 SQL（續）\n",
    "\n",
    "- 我們可以理解 SQL 是一個能夠與關聯式資料庫互動的專用語言。\n",
    "- 常見的互動有四個：包含創造（Create）、查詢（Read）、更新（Update）與刪除（Delete），這四個動作又在業界與社群被簡稱為 CRUD\n",
    "- 舉例來說在社群應用程式中的一舉一動，不論是透過滑鼠點擊或者手勢觸控，都會被應用程式轉換為 CRUD 的指令：上傳新的動態與貼文，就是創造的體現；瀏覽追蹤對象的動態與貼文，就是查詢的體現；編輯動態與貼文，就是更新的體現；撤掉動態與貼文，就是刪除的體現。"
   ]
  },
  {
   "cell_type": "markdown",
   "id": "06f6f0ee",
   "metadata": {
    "slideshow": {
     "slide_type": "subslide"
    }
   },
   "source": [
    "## 什麼是關聯式資料庫\n",
    "\n",
    "- 我們拆成「關聯式」與「資料庫」分別定義：\n",
    "    - 資料庫是一種特定、經過加工的資料集合，能夠放置在伺服器、個人電腦、手機或者微型電腦之中。\n",
    "    - 關聯式則是描述資料庫中的資料集合是以列（Rows）與欄（Columns）所組成的二維表格形式記錄，並且遵守關聯式模型準則設計，這樣的資料庫就被稱為關聯式資料庫。有時列也有其他別名，像是紀錄（Records）、觀測值（Observations）、元組（Tuples）等；欄的其他別名則有欄位（Fields）、變數（Variables）、屬性（Attributes）等。"
   ]
  },
  {
   "cell_type": "markdown",
   "id": "e7e3a765",
   "metadata": {
    "slideshow": {
     "slide_type": "subslide"
    }
   },
   "source": [
    "## 什麼是關聯式資料庫（續）\n",
    "\n",
    "![](https://upload.wikimedia.org/wikipedia/commons/thumb/7/7c/Relational_database_terms.svg/512px-Relational_database_terms.svg.png)\n",
    "\n",
    "來源：<https://en.wikipedia.org/wiki/Relational_database>"
   ]
  },
  {
   "cell_type": "markdown",
   "id": "87aa5a93",
   "metadata": {
    "slideshow": {
     "slide_type": "subslide"
    }
   },
   "source": [
    "## 能夠被稱為是資料庫的資料集合必須要同時具備兩個特徵\n",
    "\n",
    "1. 觀測值必須具備屬性。\n",
    "2. 資料集合必須具備元資料（Metadata）。"
   ]
  },
  {
   "cell_type": "markdown",
   "id": "hollow-immune",
   "metadata": {
    "slideshow": {
     "slide_type": "subslide"
    }
   },
   "source": [
    "## 觀測值必須具備屬性\n",
    "\n",
    "- 第一個特徵是描述資料表內容必須是完整的，觀測值與屬性都要具備，例如 `id` 到 `runtime` 這六個變數名稱就是屬性的體現。\n",
    "- 如果資料只有觀測值而沒有屬性，例如二維陣列，就不是具備資料庫特徵的資料集合。\n",
    "- 如果資料只有屬性而沒有擺放觀測值的位置，例如一維陣列，就不是具備資料庫特徵的資料集合。"
   ]
  },
  {
   "cell_type": "code",
   "execution_count": 2,
   "id": "40b19aaa",
   "metadata": {},
   "outputs": [
    {
     "data": {
      "text/html": [
       "<table>\n",
       "<tr>\n",
       "<th>id</th>\n",
       "<th>title</th>\n",
       "<th>release_year</th>\n",
       "<th>rating</th>\n",
       "<th>director</th>\n",
       "<th>runtime</th>\n",
       "</tr>\n",
       "<tr>\n",
       "<td>1</td>\n",
       "<td>The Shawshank Redemption</td>\n",
       "<td>1994</td>\n",
       "<td>9.3</td>\n",
       "<td>Frank Darabont</td>\n",
       "<td>142</td>\n",
       "</tr>\n",
       "<tr>\n",
       "<td>2</td>\n",
       "<td>The Godfather</td>\n",
       "<td>1972</td>\n",
       "<td>9.2</td>\n",
       "<td>Francis Ford Coppola</td>\n",
       "<td>175</td>\n",
       "</tr>\n",
       "<tr>\n",
       "<td>3</td>\n",
       "<td>The Godfather: Part II</td>\n",
       "<td>1974</td>\n",
       "<td>9</td>\n",
       "<td>Francis Ford Coppola</td>\n",
       "<td>202</td>\n",
       "</tr>\n",
       "<tr>\n",
       "<td>4</td>\n",
       "<td>The Dark Knight</td>\n",
       "<td>2008</td>\n",
       "<td>9</td>\n",
       "<td>Christopher Nolan</td>\n",
       "<td>152</td>\n",
       "</tr>\n",
       "<tr>\n",
       "<td>5</td>\n",
       "<td>12 Angry Men</td>\n",
       "<td>1957</td>\n",
       "<td>9</td>\n",
       "<td>Sidney Lumet</td>\n",
       "<td>96</td>\n",
       "</tr>\n",
       "</table>\n",
       "5 rows in set (0.00 sec)"
      ],
      "text/plain": [
       "+----+--------------------------+--------------+--------+----------------------+---------+\n",
       "| id | title                    | release_year | rating | director             | runtime |\n",
       "+----+--------------------------+--------------+--------+----------------------+---------+\n",
       "| 1  | The Shawshank Redemption | 1994         | 9.3    | Frank Darabont       | 142     |\n",
       "+----+--------------------------+--------------+--------+----------------------+---------+\n",
       "| 2  | The Godfather            | 1972         | 9.2    | Francis Ford Coppola | 175     |\n",
       "+----+--------------------------+--------------+--------+----------------------+---------+\n",
       "| 3  | The Godfather: Part II   | 1974         | 9      | Francis Ford Coppola | 202     |\n",
       "+----+--------------------------+--------------+--------+----------------------+---------+\n",
       "| 4  | The Dark Knight          | 2008         | 9      | Christopher Nolan    | 152     |\n",
       "+----+--------------------------+--------------+--------+----------------------+---------+\n",
       "| 5  | 12 Angry Men             | 1957         | 9      | Sidney Lumet         | 96      |\n",
       "+----+--------------------------+--------------+--------+----------------------+---------+\n",
       "5 rows in set (0.00 sec)"
      ]
     },
     "execution_count": 2,
     "metadata": {},
     "output_type": "execute_result"
    }
   ],
   "source": [
    "SELECT *\n",
    "  FROM movies\n",
    " LIMIT 5;"
   ]
  },
  {
   "cell_type": "markdown",
   "id": "b3722d0a",
   "metadata": {
    "slideshow": {
     "slide_type": "subslide"
    }
   },
   "source": [
    "## 資料集合必須具備元資料（Metadata）\n",
    "\n",
    "- 第二個特徵是資料集合必須要具備能夠自我解釋（Self-explainable）的能力，這個能力就是所謂的元資料（Metadata）。\n",
    "- 比較能夠幫助理解的譬喻是元資料之於資料表，就像英英字典之於英文單字，當我們在查詢英文單字時英英字典會用另外一段英文來描述；當我們在查詢資料表的詳細資料時，元資料會用另外一個資料表來描述。"
   ]
  },
  {
   "cell_type": "code",
   "execution_count": 3,
   "id": "60d418ea",
   "metadata": {},
   "outputs": [
    {
     "data": {
      "text/html": [
       "<table>\n",
       "<tr>\n",
       "<th>cid</th>\n",
       "<th>name</th>\n",
       "<th>type</th>\n",
       "<th>notnull</th>\n",
       "<th>dflt_value</th>\n",
       "<th>pk</th>\n",
       "</tr>\n",
       "<tr>\n",
       "<td>0</td>\n",
       "<td>id</td>\n",
       "<td>INTEGER</td>\n",
       "<td>0</td>\n",
       "<td>NULL</td>\n",
       "<td>1</td>\n",
       "</tr>\n",
       "<tr>\n",
       "<td>1</td>\n",
       "<td>title</td>\n",
       "<td>TEXT</td>\n",
       "<td>0</td>\n",
       "<td>NULL</td>\n",
       "<td>0</td>\n",
       "</tr>\n",
       "<tr>\n",
       "<td>2</td>\n",
       "<td>release_year</td>\n",
       "<td>INTEGER</td>\n",
       "<td>0</td>\n",
       "<td>NULL</td>\n",
       "<td>0</td>\n",
       "</tr>\n",
       "<tr>\n",
       "<td>3</td>\n",
       "<td>rating</td>\n",
       "<td>REAL</td>\n",
       "<td>0</td>\n",
       "<td>NULL</td>\n",
       "<td>0</td>\n",
       "</tr>\n",
       "<tr>\n",
       "<td>4</td>\n",
       "<td>director</td>\n",
       "<td>TEXT</td>\n",
       "<td>0</td>\n",
       "<td>NULL</td>\n",
       "<td>0</td>\n",
       "</tr>\n",
       "<tr>\n",
       "<td>5</td>\n",
       "<td>runtime</td>\n",
       "<td>INTEGER</td>\n",
       "<td>0</td>\n",
       "<td>NULL</td>\n",
       "<td>0</td>\n",
       "</tr>\n",
       "</table>\n",
       "6 rows in set (0.00 sec)"
      ],
      "text/plain": [
       "+-----+--------------+---------+---------+------------+----+\n",
       "| cid | name         | type    | notnull | dflt_value | pk |\n",
       "+-----+--------------+---------+---------+------------+----+\n",
       "| 0   | id           | INTEGER | 0       | NULL       | 1  |\n",
       "+-----+--------------+---------+---------+------------+----+\n",
       "| 1   | title        | TEXT    | 0       | NULL       | 0  |\n",
       "+-----+--------------+---------+---------+------------+----+\n",
       "| 2   | release_year | INTEGER | 0       | NULL       | 0  |\n",
       "+-----+--------------+---------+---------+------------+----+\n",
       "| 3   | rating       | REAL    | 0       | NULL       | 0  |\n",
       "+-----+--------------+---------+---------+------------+----+\n",
       "| 4   | director     | TEXT    | 0       | NULL       | 0  |\n",
       "+-----+--------------+---------+---------+------------+----+\n",
       "| 5   | runtime      | INTEGER | 0       | NULL       | 0  |\n",
       "+-----+--------------+---------+---------+------------+----+\n",
       "6 rows in set (0.00 sec)"
      ]
     },
     "execution_count": 3,
     "metadata": {},
     "output_type": "execute_result"
    }
   ],
   "source": [
    "SELECT *\n",
    "  FROM PRAGMA_TABLE_INFO('movies');"
   ]
  },
  {
   "cell_type": "markdown",
   "id": "d18b57a8",
   "metadata": {
    "slideshow": {
     "slide_type": "subslide"
    }
   },
   "source": [
    "## 元資料（Metadata）的內容\n",
    "\n",
    "- `cid`：欄流水號（Column ID）。\n",
    "- `name`：欄名。\n",
    "- `type`：欄資料類別。\n",
    "- `notnull`：是否不允許 `NULL` 空值存在。\n",
    "- `dflt_value`：預設值（Default value）。\n",
    "- `pk`：是否為主鍵（Primary key）。"
   ]
  },
  {
   "cell_type": "markdown",
   "id": "4f161315",
   "metadata": {
    "slideshow": {
     "slide_type": "subslide"
    }
   },
   "source": [
    "## 什麼是關聯式資料庫管理系統\n",
    "\n",
    "- 管理關聯式資料庫的電腦軟體稱為關聯式資料庫管理系統（Relational Database Management System, RDBMS）。\n",
    "- 透過關聯式資料庫管理系統，可以讓關聯式資料庫具有多人共用、處理大量資料、自動化讀寫與備份等功能。"
   ]
  },
  {
   "cell_type": "markdown",
   "id": "bc75eb13",
   "metadata": {
    "slideshow": {
     "slide_type": "subslide"
    }
   },
   "source": [
    "## 常見的關聯式資料庫管理系統大致可以分為商業授權與開放原始碼兩個大類\n",
    "\n",
    "- 商業授權\n",
    "    - DB2：國際商業機器公司的關聯式資料庫管理系統。\n",
    "    - SQL Server：微軟公司的關聯式資料庫管理系統。\n",
    "    - Oracle Database：甲骨文公司的關聯式資料庫管理系統。\n",
    "- 開放原始碼\n",
    "    - MySQL：開放原始碼的關聯式資料庫管理系統，現為甲骨文公司所有。\n",
    "    - MariaDB：開放原始碼的關聯式資料庫管理系統，是 MySQL 的分支。\n",
    "    - SQLite：開放原始碼的關聯式資料庫管理系統。"
   ]
  },
  {
   "cell_type": "markdown",
   "id": "cad84363",
   "metadata": {
    "slideshow": {
     "slide_type": "subslide"
    }
   },
   "source": [
    "## SQL、關聯式資料庫與關聯式資料庫管理系統三者的關係\n",
    "\n",
    "|SQL|關聯式資料庫|關聯式資料庫管理系統|\n",
    "|:--|:---------|:----------------|\n",
    "|駕駛車的技術、執照|車|道路、車庫、交通號誌、路線管理|\n",
    "|駕駛船的技術、執照|船|水域、船塢、港口、航線管理|\n",
    "|駕駛飛機的技術、執照|飛機|空域、機場、停機坪、跑道、塔台、航線管理|"
   ]
  },
  {
   "cell_type": "markdown",
   "id": "sporting-davis",
   "metadata": {
    "slideshow": {
     "slide_type": "subslide"
    }
   },
   "source": [
    "## 本課程使用輕量、無伺服器架構並且與主流程式語言都能串接的 SQLite 開放原始碼關聯式資料庫管理系統\n",
    "\n",
    "- 初學者從學習任何一個關聯式資料庫管理系統起步皆可。\n",
    "- 標準 SQL 能順利在常見的關聯式資料庫管理系統運行。\n",
    "- 以駕駛車的技術為例，自用小客車的駕照能夠廣泛應用在轎車、休旅車或廂型車的駕駛。"
   ]
  },
  {
   "cell_type": "markdown",
   "id": "f0994505",
   "metadata": {
    "slideshow": {
     "slide_type": "slide"
    }
   },
   "source": [
    "## SQL 的學習前置作業"
   ]
  },
  {
   "cell_type": "markdown",
   "id": "6650577f",
   "metadata": {
    "slideshow": {
     "slide_type": "subslide"
    }
   },
   "source": [
    "## SQL 的學習門檻\n",
    "\n",
    "- SQL 與其他泛用程式語言（C 語言、Java、Python 等）或者科學計算專用語言（R 語言、Matlab、SAS 等）相較起來學習門檻比較低的。\n",
    "- 原因在於 SQL 是一個與英文高度相似的語言，所以即便完全沒有程式語言、資料科學基礎的讀者，只要具備一定程度的英文能力（可能是全民英檢中高級以上或者多益 650 分以上），在 SQL 的學習上依然能顯得輕鬆寫意。"
   ]
  },
  {
   "cell_type": "markdown",
   "id": "6a84d9a9",
   "metadata": {
    "slideshow": {
     "slide_type": "subslide"
    }
   },
   "source": [
    "## 三個需要克服的難關\n",
    "\n",
    "1. 建立學習環境。\n",
    "2. 範例資料。\n",
    "3. 練習。"
   ]
  },
  {
   "cell_type": "markdown",
   "id": "7d9afcac",
   "metadata": {
    "slideshow": {
     "slide_type": "subslide"
    }
   },
   "source": [
    "## 下載 SQLiteStudio\n",
    "\n",
    "- 本課程使用 SQLiteStudio 的安裝版本 3.2.1（之後更新版本的 SQLiteStudio 都改為免安裝設定）。\n",
    "- Windows 作業系統下載副檔名為 .exe 的安裝檔：<https://bit.ly/gh-sqlite-studio-exe>\n",
    "- macOS 下載副檔名為 .dmg 的安裝檔：<https://bit.ly/gh-sqlite-studio-dmg>"
   ]
  },
  {
   "cell_type": "markdown",
   "id": "658d8c64",
   "metadata": {
    "slideshow": {
     "slide_type": "subslide"
    }
   },
   "source": [
    "## 下載 DBeaver\n",
    "\n",
    "- 本課程使用 DBeaver 的安裝版本 21.0.1\n",
    "- Windows 作業系統下載副檔名為 .exe 的安裝檔：<https://bit.ly/dbeaver-ce-exe>\n",
    "- macOS 下載副檔名為 .dmg 的安裝檔：<https://bit.ly/dbeaver-ce-dmg>"
   ]
  },
  {
   "cell_type": "markdown",
   "id": "07b71738",
   "metadata": {
    "slideshow": {
     "slide_type": "subslide"
    }
   },
   "source": [
    "## 範例資料\n",
    "\n",
    "- 多數課程或教科書所使用的範例資料都是較為制式化的資料內容，像是國家城市資料、超級市場銷售資料或者班級成績資料。\n",
    "- 本課程考量到這點，使用了像是 IMDb 網站的電影與演員資料、NBA 網站的球員、球隊與生涯統計資料、約翰霍普金斯大學 COVID-19 每日報告、地理區域與時間序列資料、中選會的選舉資料與 Kaggle 機器學習與資料科學調查。"
   ]
  },
  {
   "cell_type": "markdown",
   "id": "8c8d5cc8",
   "metadata": {
    "slideshow": {
     "slide_type": "subslide"
    }
   },
   "source": [
    "## 學習資料庫的資料來源\n",
    "\n",
    "1. [covid19.db](https://hahow-sqlfifty.s3-ap-northeast-1.amazonaws.com/covid19.db) 源自 Johns Hopkins 的全球疫情儀表板專案 <https://github.com/CSSEGISandData/COVID-19>\n",
    "2. [imdb.db](https://hahow-sqlfifty.s3-ap-northeast-1.amazonaws.com/twElection2020.db) 源自 [IMDb.com](https://www.imdb.com) 最高評等的 250 部電影 <https://www.imdb.com/chart/top>\n",
    "3. [nba.db](https://hahow-sqlfifty.s3-ap-northeast-1.amazonaws.com/nba.db) 源自 NBA 官方 API <https://data.nba.net/prod/v1/today.json>\n",
    "4. [twElection2020.db](https://hahow-sqlfifty.s3-ap-northeast-1.amazonaws.com/twElection2020.db)、[twElection2022.db](https://hahow-sqlfifty.s3.ap-northeast-1.amazonaws.com/twElection2022.db) 源自中選會選舉資料庫網站 <https://db.cec.gov.tw>\n",
    "5. [kaggleSurvey2022.db](https://hahow-sqlfifty.s3.ap-northeast-1.amazonaws.com/kaggleSurvey2022.db) 源自 [kaggle.com](https://www.kaggle.com/c/kaggle-survey-2022)"
   ]
  },
  {
   "cell_type": "markdown",
   "id": "02153903",
   "metadata": {
    "slideshow": {
     "slide_type": "subslide"
    }
   },
   "source": [
    "## 哈囉世界與學習資料庫中的第一個資料表\n",
    "\n",
    "- 哈囉世界是指在電腦螢幕顯示「Hello, World!」（你好，世界！）字串的電腦程式，通常用來確認一個程式語言的開發環境及運行環境是否已經安裝妥當。\n",
    "- 學習 SQL 也不例外，不過若光是顯示「Hello, World!」還不足以確認是否有順利完成下載學習資料庫並連線，因此還會查詢學習資料庫中第一個資料表（依照英文字母順序排列）的「前五列、所有欄」。"
   ]
  },
  {
   "cell_type": "markdown",
   "id": "b19b3c8a",
   "metadata": {
    "slideshow": {
     "slide_type": "subslide"
    }
   },
   "source": [
    "## 哈囉世界"
   ]
  },
  {
   "cell_type": "code",
   "execution_count": 4,
   "id": "575e4c7f",
   "metadata": {
    "slideshow": {
     "slide_type": "-"
    }
   },
   "outputs": [
    {
     "data": {
      "text/html": [
       "<table>\n",
       "<tr>\n",
       "<th>'Hello, world!'</th>\n",
       "</tr>\n",
       "<tr>\n",
       "<td>Hello, world!</td>\n",
       "</tr>\n",
       "</table>\n",
       "1 row in set (0.00 sec)"
      ],
      "text/plain": [
       "+-----------------+\n",
       "| 'Hello, world!' |\n",
       "+-----------------+\n",
       "| Hello, world!   |\n",
       "+-----------------+\n",
       "1 row in set (0.00 sec)"
      ]
     },
     "execution_count": 4,
     "metadata": {},
     "output_type": "execute_result"
    }
   ],
   "source": [
    "SELECT 'Hello, world!';"
   ]
  },
  {
   "cell_type": "markdown",
   "id": "05fb9acb",
   "metadata": {
    "slideshow": {
     "slide_type": "subslide"
    }
   },
   "source": [
    "## 查詢學習資料庫中第一個資料表"
   ]
  },
  {
   "cell_type": "code",
   "execution_count": 5,
   "id": "fbeeec72",
   "metadata": {},
   "outputs": [
    {
     "data": {
      "text/html": [
       "<table>\n",
       "<tr>\n",
       "<th>id</th>\n",
       "<th>name</th>\n",
       "</tr>\n",
       "<tr>\n",
       "<td>1</td>\n",
       "<td>Aamir Khan</td>\n",
       "</tr>\n",
       "<tr>\n",
       "<td>2</td>\n",
       "<td>Aaron Eckhart</td>\n",
       "</tr>\n",
       "<tr>\n",
       "<td>3</td>\n",
       "<td>Abbas-Ali Roomandi</td>\n",
       "</tr>\n",
       "<tr>\n",
       "<td>4</td>\n",
       "<td>Abbey Lee</td>\n",
       "</tr>\n",
       "<tr>\n",
       "<td>5</td>\n",
       "<td>Abbie Cornish</td>\n",
       "</tr>\n",
       "</table>\n",
       "5 rows in set (0.00 sec)"
      ],
      "text/plain": [
       "+----+--------------------+\n",
       "| id | name               |\n",
       "+----+--------------------+\n",
       "| 1  | Aamir Khan         |\n",
       "+----+--------------------+\n",
       "| 2  | Aaron Eckhart      |\n",
       "+----+--------------------+\n",
       "| 3  | Abbas-Ali Roomandi |\n",
       "+----+--------------------+\n",
       "| 4  | Abbey Lee          |\n",
       "+----+--------------------+\n",
       "| 5  | Abbie Cornish      |\n",
       "+----+--------------------+\n",
       "5 rows in set (0.00 sec)"
      ]
     },
     "execution_count": 5,
     "metadata": {},
     "output_type": "execute_result"
    }
   ],
   "source": [
    "SELECT *\n",
    "  FROM actors\n",
    " LIMIT 5;"
   ]
  },
  {
   "cell_type": "markdown",
   "id": "d9a25499",
   "metadata": {
    "slideshow": {
     "slide_type": "subslide"
    }
   },
   "source": [
    "## 列出學習資料庫所有資料表"
   ]
  },
  {
   "cell_type": "code",
   "execution_count": 6,
   "id": "fb42889b",
   "metadata": {},
   "outputs": [
    {
     "data": {
      "text/html": [
       "<table>\n",
       "<tr>\n",
       "<th>name</th>\n",
       "</tr>\n",
       "<tr>\n",
       "<td>actors</td>\n",
       "</tr>\n",
       "<tr>\n",
       "<td>movies</td>\n",
       "</tr>\n",
       "<tr>\n",
       "<td>casting</td>\n",
       "</tr>\n",
       "</table>\n",
       "3 rows in set (0.00 sec)"
      ],
      "text/plain": [
       "+---------+\n",
       "| name    |\n",
       "+---------+\n",
       "| actors  |\n",
       "+---------+\n",
       "| movies  |\n",
       "+---------+\n",
       "| casting |\n",
       "+---------+\n",
       "3 rows in set (0.00 sec)"
      ]
     },
     "execution_count": 6,
     "metadata": {},
     "output_type": "execute_result"
    }
   ],
   "source": [
    "SELECT name\n",
    "  FROM sqlite_master;"
   ]
  },
  {
   "cell_type": "markdown",
   "id": "4c500f92",
   "metadata": {
    "slideshow": {
     "slide_type": "subslide"
    }
   },
   "source": [
    "## 查詢學習資料庫每一個資料表的元資料（Metadata）\n",
    "\n",
    "```sql\n",
    "SELECT *\n",
    "  FROM PRAGMA_TABLE_INFO('TABLE_NAME');\n",
    "```"
   ]
  },
  {
   "cell_type": "code",
   "execution_count": 7,
   "id": "26e0aaa0",
   "metadata": {
    "slideshow": {
     "slide_type": "-"
    }
   },
   "outputs": [
    {
     "data": {
      "text/html": [
       "<table>\n",
       "<tr>\n",
       "<th>cid</th>\n",
       "<th>name</th>\n",
       "<th>type</th>\n",
       "<th>notnull</th>\n",
       "<th>dflt_value</th>\n",
       "<th>pk</th>\n",
       "</tr>\n",
       "<tr>\n",
       "<td>0</td>\n",
       "<td>id</td>\n",
       "<td>INTEGER</td>\n",
       "<td>0</td>\n",
       "<td>NULL</td>\n",
       "<td>1</td>\n",
       "</tr>\n",
       "<tr>\n",
       "<td>1</td>\n",
       "<td>name</td>\n",
       "<td>TEXT</td>\n",
       "<td>0</td>\n",
       "<td>NULL</td>\n",
       "<td>0</td>\n",
       "</tr>\n",
       "</table>\n",
       "2 rows in set (0.00 sec)"
      ],
      "text/plain": [
       "+-----+------+---------+---------+------------+----+\n",
       "| cid | name | type    | notnull | dflt_value | pk |\n",
       "+-----+------+---------+---------+------------+----+\n",
       "| 0   | id   | INTEGER | 0       | NULL       | 1  |\n",
       "+-----+------+---------+---------+------------+----+\n",
       "| 1   | name | TEXT    | 0       | NULL       | 0  |\n",
       "+-----+------+---------+---------+------------+----+\n",
       "2 rows in set (0.00 sec)"
      ]
     },
     "execution_count": 7,
     "metadata": {},
     "output_type": "execute_result"
    }
   ],
   "source": [
    "SELECT *\n",
    "  FROM PRAGMA_TABLE_INFO('actors');"
   ]
  },
  {
   "cell_type": "code",
   "execution_count": 8,
   "id": "c0f1f5a8",
   "metadata": {
    "slideshow": {
     "slide_type": "subslide"
    }
   },
   "outputs": [
    {
     "data": {
      "text/html": [
       "<table>\n",
       "<tr>\n",
       "<th>cid</th>\n",
       "<th>name</th>\n",
       "<th>type</th>\n",
       "<th>notnull</th>\n",
       "<th>dflt_value</th>\n",
       "<th>pk</th>\n",
       "</tr>\n",
       "<tr>\n",
       "<td>0</td>\n",
       "<td>movie_id</td>\n",
       "<td>INTEGER</td>\n",
       "<td>0</td>\n",
       "<td>NULL</td>\n",
       "<td>0</td>\n",
       "</tr>\n",
       "<tr>\n",
       "<td>1</td>\n",
       "<td>actor_id</td>\n",
       "<td>INTEGER</td>\n",
       "<td>0</td>\n",
       "<td>NULL</td>\n",
       "<td>0</td>\n",
       "</tr>\n",
       "<tr>\n",
       "<td>2</td>\n",
       "<td>ord</td>\n",
       "<td>INTEGER</td>\n",
       "<td>0</td>\n",
       "<td>NULL</td>\n",
       "<td>0</td>\n",
       "</tr>\n",
       "</table>\n",
       "3 rows in set (0.00 sec)"
      ],
      "text/plain": [
       "+-----+----------+---------+---------+------------+----+\n",
       "| cid | name     | type    | notnull | dflt_value | pk |\n",
       "+-----+----------+---------+---------+------------+----+\n",
       "| 0   | movie_id | INTEGER | 0       | NULL       | 0  |\n",
       "+-----+----------+---------+---------+------------+----+\n",
       "| 1   | actor_id | INTEGER | 0       | NULL       | 0  |\n",
       "+-----+----------+---------+---------+------------+----+\n",
       "| 2   | ord      | INTEGER | 0       | NULL       | 0  |\n",
       "+-----+----------+---------+---------+------------+----+\n",
       "3 rows in set (0.00 sec)"
      ]
     },
     "execution_count": 8,
     "metadata": {},
     "output_type": "execute_result"
    }
   ],
   "source": [
    "SELECT *\n",
    "  FROM PRAGMA_TABLE_INFO('casting');"
   ]
  },
  {
   "cell_type": "code",
   "execution_count": 9,
   "id": "83189ff8",
   "metadata": {
    "slideshow": {
     "slide_type": "subslide"
    }
   },
   "outputs": [
    {
     "data": {
      "text/html": [
       "<table>\n",
       "<tr>\n",
       "<th>cid</th>\n",
       "<th>name</th>\n",
       "<th>type</th>\n",
       "<th>notnull</th>\n",
       "<th>dflt_value</th>\n",
       "<th>pk</th>\n",
       "</tr>\n",
       "<tr>\n",
       "<td>0</td>\n",
       "<td>id</td>\n",
       "<td>INTEGER</td>\n",
       "<td>0</td>\n",
       "<td>NULL</td>\n",
       "<td>1</td>\n",
       "</tr>\n",
       "<tr>\n",
       "<td>1</td>\n",
       "<td>title</td>\n",
       "<td>TEXT</td>\n",
       "<td>0</td>\n",
       "<td>NULL</td>\n",
       "<td>0</td>\n",
       "</tr>\n",
       "<tr>\n",
       "<td>2</td>\n",
       "<td>release_year</td>\n",
       "<td>INTEGER</td>\n",
       "<td>0</td>\n",
       "<td>NULL</td>\n",
       "<td>0</td>\n",
       "</tr>\n",
       "<tr>\n",
       "<td>3</td>\n",
       "<td>rating</td>\n",
       "<td>REAL</td>\n",
       "<td>0</td>\n",
       "<td>NULL</td>\n",
       "<td>0</td>\n",
       "</tr>\n",
       "<tr>\n",
       "<td>4</td>\n",
       "<td>director</td>\n",
       "<td>TEXT</td>\n",
       "<td>0</td>\n",
       "<td>NULL</td>\n",
       "<td>0</td>\n",
       "</tr>\n",
       "<tr>\n",
       "<td>5</td>\n",
       "<td>runtime</td>\n",
       "<td>INTEGER</td>\n",
       "<td>0</td>\n",
       "<td>NULL</td>\n",
       "<td>0</td>\n",
       "</tr>\n",
       "</table>\n",
       "6 rows in set (0.00 sec)"
      ],
      "text/plain": [
       "+-----+--------------+---------+---------+------------+----+\n",
       "| cid | name         | type    | notnull | dflt_value | pk |\n",
       "+-----+--------------+---------+---------+------------+----+\n",
       "| 0   | id           | INTEGER | 0       | NULL       | 1  |\n",
       "+-----+--------------+---------+---------+------------+----+\n",
       "| 1   | title        | TEXT    | 0       | NULL       | 0  |\n",
       "+-----+--------------+---------+---------+------------+----+\n",
       "| 2   | release_year | INTEGER | 0       | NULL       | 0  |\n",
       "+-----+--------------+---------+---------+------------+----+\n",
       "| 3   | rating       | REAL    | 0       | NULL       | 0  |\n",
       "+-----+--------------+---------+---------+------------+----+\n",
       "| 4   | director     | TEXT    | 0       | NULL       | 0  |\n",
       "+-----+--------------+---------+---------+------------+----+\n",
       "| 5   | runtime      | INTEGER | 0       | NULL       | 0  |\n",
       "+-----+--------------+---------+---------+------------+----+\n",
       "6 rows in set (0.00 sec)"
      ]
     },
     "execution_count": 9,
     "metadata": {},
     "output_type": "execute_result"
    }
   ],
   "source": [
    "SELECT *\n",
    "  FROM PRAGMA_TABLE_INFO('movies');"
   ]
  },
  {
   "cell_type": "markdown",
   "id": "84552ac5",
   "metadata": {
    "slideshow": {
     "slide_type": "slide"
    }
   },
   "source": [
    "## SQL 敘述"
   ]
  },
  {
   "cell_type": "markdown",
   "id": "8fbb67dc",
   "metadata": {
    "slideshow": {
     "slide_type": "subslide"
    }
   },
   "source": [
    "## SQL 敘述的組成\n",
    "\n",
    "我們可以將 SQL 敘述歸納為以下幾個部分的組成：\n",
    "\n",
    "- 保留字：具有特定功能的指令，例如 `SELECT`、`FROM` 與 `LIMIT`。\n",
    "- 符號：具有特定功能的符號，例如 `*` 與 `;`。\n",
    "- 常數：由使用者給予的資料，例如 `'Hello, world!'`。\n",
    "- 函數：具有特定邏輯的輸入與輸出對應，例如 `PRAGMA_TABLE_INFO()`。"
   ]
  },
  {
   "cell_type": "markdown",
   "id": "3f9c7dcd",
   "metadata": {
    "slideshow": {
     "slide_type": "subslide"
    }
   },
   "source": [
    "## SQL 敘述的組成（續）\n",
    "\n",
    "- `SELECT` 是「選擇」欄的保留字。\n",
    "- `FROM` 是指定「從」哪個資料表查詢。\n",
    "- `LIMIT m` 是讓查詢結果顯示前 `m` 列。\n",
    "- `*` 表示「所有欄」，`;` 表示一段 SQL 敘述的結束。\n",
    "- 我們習慣以 `(m, n)` 來描述一個具有 `m` 列、`n` 欄的資料表或者查詢結果，其中 `m` 不包含欄名那一列。"
   ]
  },
  {
   "cell_type": "markdown",
   "id": "7648b315",
   "metadata": {
    "slideshow": {
     "slide_type": "subslide"
    }
   },
   "source": [
    "## 舉例來說 `SELECT 'Hello, world!';` 的查詢結果是 `(1, 1)`"
   ]
  },
  {
   "cell_type": "code",
   "execution_count": 10,
   "id": "d515c460",
   "metadata": {},
   "outputs": [
    {
     "data": {
      "text/html": [
       "<table>\n",
       "<tr>\n",
       "<th>'Hello, world!'</th>\n",
       "</tr>\n",
       "<tr>\n",
       "<td>Hello, world!</td>\n",
       "</tr>\n",
       "</table>\n",
       "1 row in set (0.00 sec)"
      ],
      "text/plain": [
       "+-----------------+\n",
       "| 'Hello, world!' |\n",
       "+-----------------+\n",
       "| Hello, world!   |\n",
       "+-----------------+\n",
       "1 row in set (0.00 sec)"
      ]
     },
     "execution_count": 10,
     "metadata": {},
     "output_type": "execute_result"
    }
   ],
   "source": [
    "SELECT 'Hello, world!';"
   ]
  },
  {
   "cell_type": "markdown",
   "id": "46d5d6ef",
   "metadata": {
    "slideshow": {
     "slide_type": "subslide"
    }
   },
   "source": [
    "## `SELECT * FROM actors LIMIT 5;` 的查詢結果是 `(5, 2)`"
   ]
  },
  {
   "cell_type": "code",
   "execution_count": 11,
   "id": "44d40cce",
   "metadata": {},
   "outputs": [
    {
     "data": {
      "text/html": [
       "<table>\n",
       "<tr>\n",
       "<th>id</th>\n",
       "<th>name</th>\n",
       "</tr>\n",
       "<tr>\n",
       "<td>1</td>\n",
       "<td>Aamir Khan</td>\n",
       "</tr>\n",
       "<tr>\n",
       "<td>2</td>\n",
       "<td>Aaron Eckhart</td>\n",
       "</tr>\n",
       "<tr>\n",
       "<td>3</td>\n",
       "<td>Abbas-Ali Roomandi</td>\n",
       "</tr>\n",
       "<tr>\n",
       "<td>4</td>\n",
       "<td>Abbey Lee</td>\n",
       "</tr>\n",
       "<tr>\n",
       "<td>5</td>\n",
       "<td>Abbie Cornish</td>\n",
       "</tr>\n",
       "</table>\n",
       "5 rows in set (0.00 sec)"
      ],
      "text/plain": [
       "+----+--------------------+\n",
       "| id | name               |\n",
       "+----+--------------------+\n",
       "| 1  | Aamir Khan         |\n",
       "+----+--------------------+\n",
       "| 2  | Aaron Eckhart      |\n",
       "+----+--------------------+\n",
       "| 3  | Abbas-Ali Roomandi |\n",
       "+----+--------------------+\n",
       "| 4  | Abbey Lee          |\n",
       "+----+--------------------+\n",
       "| 5  | Abbie Cornish      |\n",
       "+----+--------------------+\n",
       "5 rows in set (0.00 sec)"
      ]
     },
     "execution_count": 11,
     "metadata": {},
     "output_type": "execute_result"
    }
   ],
   "source": [
    "SELECT *\n",
    "  FROM actors\n",
    " LIMIT 5;"
   ]
  },
  {
   "cell_type": "markdown",
   "id": "f6d1e752",
   "metadata": {
    "slideshow": {
     "slide_type": "subslide"
    }
   },
   "source": [
    "## 查詢結果顯示常數：`SELECT constants`\n",
    "\n",
    "使用單獨存在的 `SELECT` 保留字指定希望在查詢結果中顯示的常數，常用的常數類別有四種，分別是整數、浮點數、文字與空值，我們可以使用 `TYPEOF()` 函數顯示常數或者資料表欄位的類別，當 `SELECT` 之後有不只一個資料的時候就用逗號 `,` 分隔。\n",
    "\n",
    "|常數類別|範例|\n",
    "|:------|:---|\n",
    "|整數 `integer`|`7`, `19`, `5566`, ...etc.|\n",
    "|浮點數 `real`|`2.718`, `3.14159`, ...etc.|\n",
    "|文字 `text`|`'Hello, World!'`, `'SQL'`, ...etc.|\n",
    "|空值 `null`|`NULL`|"
   ]
  },
  {
   "cell_type": "markdown",
   "id": "33b2d769",
   "metadata": {
    "slideshow": {
     "slide_type": "subslide"
    }
   },
   "source": [
    "## 為查詢結果剔除重複值：`DISTINCT`\n",
    "\n",
    "- `DISTINCT` 只能寫作一次，即便希望查詢多個欄位的獨一值。\n",
    "- `DISTINCT` 要接在 `SELECT` 之後寫，不能在第二個之後才寫。\n",
    "\n",
    "```sql\n",
    "SELECT DISTINCT columns\n",
    "  FROM table;\n",
    "```"
   ]
  },
  {
   "cell_type": "code",
   "execution_count": 12,
   "id": "b7dae07f",
   "metadata": {
    "slideshow": {
     "slide_type": "subslide"
    }
   },
   "outputs": [
    {
     "data": {
      "text/html": [
       "<table>\n",
       "<tr>\n",
       "<th>director</th>\n",
       "</tr>\n",
       "<tr>\n",
       "<td>Frank Darabont</td>\n",
       "</tr>\n",
       "<tr>\n",
       "<td>Francis Ford Coppola</td>\n",
       "</tr>\n",
       "<tr>\n",
       "<td>Christopher Nolan</td>\n",
       "</tr>\n",
       "<tr>\n",
       "<td>Sidney Lumet</td>\n",
       "</tr>\n",
       "<tr>\n",
       "<td>Steven Spielberg</td>\n",
       "</tr>\n",
       "<tr>\n",
       "<td>Peter Jackson</td>\n",
       "</tr>\n",
       "<tr>\n",
       "<td>Quentin Tarantino</td>\n",
       "</tr>\n",
       "<tr>\n",
       "<td>Sergio Leone</td>\n",
       "</tr>\n",
       "<tr>\n",
       "<td>David Fincher</td>\n",
       "</tr>\n",
       "<tr>\n",
       "<td>Robert Zemeckis</td>\n",
       "</tr>\n",
       "</table>\n",
       "10 rows in set (0.00 sec)"
      ],
      "text/plain": [
       "+----------------------+\n",
       "| director             |\n",
       "+----------------------+\n",
       "| Frank Darabont       |\n",
       "+----------------------+\n",
       "| Francis Ford Coppola |\n",
       "+----------------------+\n",
       "| Christopher Nolan    |\n",
       "+----------------------+\n",
       "| Sidney Lumet         |\n",
       "+----------------------+\n",
       "| Steven Spielberg     |\n",
       "+----------------------+\n",
       "| Peter Jackson        |\n",
       "+----------------------+\n",
       "| Quentin Tarantino    |\n",
       "+----------------------+\n",
       "| Sergio Leone         |\n",
       "+----------------------+\n",
       "| David Fincher        |\n",
       "+----------------------+\n",
       "| Robert Zemeckis      |\n",
       "+----------------------+\n",
       "10 rows in set (0.00 sec)"
      ]
     },
     "execution_count": 12,
     "metadata": {},
     "output_type": "execute_result"
    }
   ],
   "source": [
    "SELECT DISTINCT director\n",
    "  FROM movies\n",
    " LIMIT 10;"
   ]
  },
  {
   "cell_type": "markdown",
   "id": "45f37660",
   "metadata": {
    "slideshow": {
     "slide_type": "subslide"
    }
   },
   "source": [
    "## `DISTINCT` 只能寫作一次\n",
    "\n",
    "```sql\n",
    "SELECT DISTINCT director,\n",
    "       DISTINCT release_year\n",
    "  FROM movies\n",
    " LIMIT 10;\n",
    "```"
   ]
  },
  {
   "cell_type": "markdown",
   "id": "21467b74",
   "metadata": {
    "slideshow": {
     "slide_type": "subslide"
    }
   },
   "source": [
    "## `DISTINCT` 要接在 `SELECT` 之後寫，不能在第二個之後才寫\n",
    "\n",
    "```sql\n",
    "SELECT director,\n",
    "       DISTINCT release_year\n",
    "  FROM movies\n",
    " LIMIT 10;\n",
    "```"
   ]
  },
  {
   "cell_type": "markdown",
   "id": "3df1d238",
   "metadata": {
    "slideshow": {
     "slide_type": "slide"
    }
   },
   "source": [
    "## 學長姐常見問題彙整"
   ]
  },
  {
   "cell_type": "markdown",
   "id": "9b387dff",
   "metadata": {
    "slideshow": {
     "slide_type": "subslide"
    }
   },
   "source": [
    "## 學長姐常見問題彙整\n",
    "\n",
    "> 老師你好，\n",
    ">\n",
    "> 我是用SQLstudio來上課，想問有沒有辦法把每次寫好的script存成檔案之後再叫出來?\n",
    ">\n",
    "> 我有google過似乎是會存成sql.，但在在SQLstudio中好像沒看到類似save as 的按鍵。\n",
    ">\n",
    "> 謝謝"
   ]
  },
  {
   "cell_type": "markdown",
   "id": "7bfcf728",
   "metadata": {
    "slideshow": {
     "slide_type": "subslide"
    }
   },
   "source": [
    "## 學長姐常見問題彙整（續）\n",
    "\n",
    "> 老師您好，我目前遇到兩個問題，一是資料庫裡的資料表非常多，我要如何能 (快速/正確) 知道題目或是別人要求我去抓取的資料要從哪裡 FROM 呢？我目前的方法就是一個一個資料表點開來去找，非常得土法煉鋼…"
   ]
  },
  {
   "cell_type": "markdown",
   "id": "2dc2229a",
   "metadata": {
    "slideshow": {
     "slide_type": "subslide"
    }
   },
   "source": [
    "## 學長姐常見問題彙整（續）\n",
    "\n",
    "> 請問如果之後的工作可能會使用SQL server，在這門課程上有什麼需要注意的嗎？\n",
    "> \n",
    "> MS SQL語法是否有哪些要做轉換？\n",
    "> \n",
    "> 在開發環境，老師的資料庫教材可以直接用在VS code/SQL server做讀取嗎？\n",
    ">\n",
    "> 謝謝！"
   ]
  },
  {
   "cell_type": "markdown",
   "id": "8885e873",
   "metadata": {
    "slideshow": {
     "slide_type": "subslide"
    }
   },
   "source": [
    "## 學長姐常見問題彙整（續）\n",
    "\n",
    "> 老師您好。看過之前老師和學員討論有關mysql workbench與sqlitestudio之間的差異，學生有基本的了解。且老師有題及，兩者的 SQL 語法大多數都是相同的，只有在少數特定功能與函數上面有所差別。\n",
    ">\n",
    "> 學生這邊想請教老師，若學生想試著用mysql workbench再進行一次課堂練習。在mysql workbench中，也是可以像在sqlitestudio中直接選取增加database，然後再進行連接的動作嗎?\n",
    ">\n",
    "> 另外，老師好像也有題及不能直接將 .db 轉檔的問題?所以在使用mysql workbench或SQL Server是能直接讀 .db 檔嗎?\n",
    ">\n",
    "> 再麻煩老師解惑，謝謝。"
   ]
  },
  {
   "cell_type": "markdown",
   "id": "940480f1",
   "metadata": {
    "slideshow": {
     "slide_type": "subslide"
    }
   },
   "source": [
    "## 學長姐常見問題彙整（續）\n",
    "\n",
    "> 安裝完dbeaver 要使用出現此訊息,應如何處理呢?謝謝老師"
   ]
  },
  {
   "cell_type": "markdown",
   "id": "0ee29030",
   "metadata": {
    "slideshow": {
     "slide_type": "subslide"
    }
   },
   "source": [
    "## 學長姐常見問題彙整（續）\n",
    "\n",
    "> 老師您好:\n",
    ">\n",
    "> 想向您請教 SQLiteStudio Code 是否可以調整字體大小?"
   ]
  },
  {
   "cell_type": "markdown",
   "id": "52cb56f0",
   "metadata": {
    "slideshow": {
     "slide_type": "slide"
    }
   },
   "source": [
    "## 直播問題與討論"
   ]
  }
 ],
 "metadata": {
  "celltoolbar": "Slideshow",
  "kernelspec": {
   "display_name": "xsql",
   "language": "sqlite",
   "name": "xsql"
  },
  "language_info": {
   "codemirror_mode": "sql",
   "file_extension": "",
   "mimetype": "",
   "name": "mysql",
   "version": "0.1.5"
  }
 },
 "nbformat": 4,
 "nbformat_minor": 5
}
