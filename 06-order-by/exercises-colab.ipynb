{
  "cells": [
    {
      "cell_type": "markdown",
      "metadata": {
        "id": "view-in-github",
        "colab_type": "text"
      },
      "source": [
        "<a href=\"https://colab.research.google.com/github/ccwu0918/classroom-hahow-sqlfifty/blob/main/06-order-by/exercises-colab.ipynb\" target=\"_parent\"><img src=\"https://colab.research.google.com/assets/colab-badge.svg\" alt=\"Open In Colab\"/></a>"
      ]
    },
    {
      "cell_type": "markdown",
      "metadata": {
        "deletable": false,
        "editable": false,
        "id": "x65iV2Mdrhb2"
      },
      "source": [
        "# SQL 的五十道練習\n",
        "\n",
        "> 排序查詢結果\n",
        "\n",
        "[數據交點](https://www.datainpoint.com) | 郭耀仁 <yaojenkuo@datainpoint.com>"
      ]
    },
    {
      "cell_type": "markdown",
      "metadata": {
        "deletable": false,
        "id": "x-yaU27Zrhb3"
      },
      "source": [
        "## 練習題指引\n",
        "\n",
        "- 由於近期 mybinder.org 的服務不穩定，新增 Google Colab 作為另一個寫作練習題的平台。\n",
        "- 開始寫作之前，可以先按上方「Copy to Drive」按鈕將筆記本複製到自己的 Google 雲端硬碟。\n",
        "- 在每份練習題的開始，都會先將四個學習資料庫載入環境。\n",
        "- 因此 SQL 可以指定四個學習資料庫中的資料表，不需要額外指定資料庫。\n",
        "- 在 SQL 語法起點與 SQL 語法終點這兩個單行註解之間撰寫能夠得到預期結果的 SQL。\n",
        "- 可以先在自己電腦的 SQLiteStudio 或者 DBeaver 寫出跟預期結果相同的 SQL 後再複製貼上到練習題。\n",
        "- 執行測試的方式為點選右上角 Connect，然後點選上方選單的 Runtime -> Restart and run all -> Yes -> Run anyway。\n",
        "- 移動到 Google Colab 的最後一個儲存格看測試結果。\n",
        "- 可以每寫一題就執行測試，也可以全部寫完再執行測試。\n",
        "- 練習題閒置超過 10 分鐘會自動斷線，這時只要重新點選練習題連結即可重新啟動。"
      ]
    },
    {
      "cell_type": "code",
      "source": [
        "!git clone https://github.com/ccwu0918/classroom-hahow-sqlfifty.git"
      ],
      "metadata": {
        "id": "Q93Vk9GKbVjj",
        "outputId": "fc4f6c45-5682-4bd8-fccb-cc9266548b1e",
        "colab": {
          "base_uri": "https://localhost:8080/"
        }
      },
      "execution_count": null,
      "outputs": [
        {
          "output_type": "stream",
          "name": "stdout",
          "text": [
            "Cloning into 'classroom-hahow-sqlfifty'...\n",
            "remote: Enumerating objects: 931, done.\u001b[K\n",
            "remote: Counting objects: 100% (182/182), done.\u001b[K\n",
            "remote: Compressing objects: 100% (152/152), done.\u001b[K\n",
            "remote: Total 931 (delta 100), reused 70 (delta 29), pack-reused 749\u001b[K\n",
            "Receiving objects: 100% (931/931), 69.00 MiB | 12.33 MiB/s, done.\n",
            "Resolving deltas: 100% (592/592), done.\n",
            "Updating files: 100% (130/130), done.\n"
          ]
        }
      ]
    },
    {
      "cell_type": "code",
      "source": [
        "%cd classroom-hahow-sqlfifty"
      ],
      "metadata": {
        "id": "HlcICLC8bloZ",
        "outputId": "3143f639-a33a-4b3f-93fc-22b7080ce2fb",
        "colab": {
          "base_uri": "https://localhost:8080/"
        }
      },
      "execution_count": null,
      "outputs": [
        {
          "output_type": "stream",
          "name": "stdout",
          "text": [
            "/content/classroom-hahow-sqlfifty/classroom-hahow-sqlfifty\n"
          ]
        }
      ]
    },
    {
      "cell_type": "code",
      "execution_count": null,
      "metadata": {
        "id": "iFUJM6J9bSHy"
      },
      "outputs": [],
      "source": [
        "# !wget -N https://raw.githubusercontent.com/datainpoint/classroom-hahow-sqlfifty/main/databases/nba.db\n",
        "# !wget -N https://raw.githubusercontent.com/datainpoint/classroom-hahow-sqlfifty/main/databases/covid19.db\n",
        "# !wget -N https://raw.githubusercontent.com/datainpoint/classroom-hahow-sqlfifty/main/databases/twElection2020.db\n",
        "# !wget -N https://raw.githubusercontent.com/datainpoint/classroom-hahow-sqlfifty/main/databases/imdb.db\n",
        "# !wget -N https://raw.githubusercontent.com/datainpoint/classroom-hahow-sqlfifty/main/exercise_index.json"
      ]
    },
    {
      "cell_type": "code",
      "execution_count": null,
      "metadata": {
        "deletable": false,
        "id": "JzoixGNlbSHz",
        "outputId": "13121604-f616-4fa2-d7c7-432778fb6a99",
        "colab": {
          "base_uri": "https://localhost:8080/"
        }
      },
      "outputs": [
        {
          "output_type": "execute_result",
          "data": {
            "text/plain": [
              "<sqlite3.Cursor at 0x7d80f4932ac0>"
            ]
          },
          "metadata": {},
          "execution_count": 59
        }
      ],
      "source": [
        "import sqlite3\n",
        "import unittest\n",
        "import json\n",
        "import os\n",
        "import numpy as np\n",
        "import pandas as pd\n",
        "conn = sqlite3.connect('./databases/nba.db')\n",
        "conn.execute(\"\"\"ATTACH './databases/covid19.db' AS covid19\"\"\")\n",
        "conn.execute(\"\"\"ATTACH './databases/twElection2020.db' AS twElection2020\"\"\")\n",
        "conn.execute(\"\"\"ATTACH './databases/imdb.db' AS imdb\"\"\")"
      ]
    },
    {
      "cell_type": "code",
      "source": [
        "%load_ext sql"
      ],
      "metadata": {
        "id": "vLAGRoijcSb0",
        "outputId": "d119c029-cc2d-4617-d486-ebf4b2c9ef03",
        "colab": {
          "base_uri": "https://localhost:8080/"
        }
      },
      "execution_count": null,
      "outputs": [
        {
          "output_type": "stream",
          "name": "stdout",
          "text": [
            "The sql extension is already loaded. To reload it, use:\n",
            "  %reload_ext sql\n"
          ]
        }
      ]
    },
    {
      "cell_type": "code",
      "source": [
        "%sql sqlite:///./databases/nba.db\n",
        "%sql ATTACH './databases/covid19.db' AS covid19\n",
        "%sql ATTACH './databases/twElection2020.db' AS twElection2020\n",
        "%sql ATTACH './databases/imdb.db' AS imdb"
      ],
      "metadata": {
        "id": "gCsaniX2cz6Z",
        "outputId": "bb50370c-1511-40e6-f3a3-20dd47cebdf9",
        "colab": {
          "base_uri": "https://localhost:8080/"
        }
      },
      "execution_count": null,
      "outputs": [
        {
          "output_type": "stream",
          "name": "stdout",
          "text": [
            " * sqlite:///./databases/nba.db\n",
            "(sqlite3.OperationalError) database covid19 is already in use\n",
            "[SQL: ATTACH './databases/covid19.db' AS covid19]\n",
            "(Background on this error at: https://sqlalche.me/e/20/e3q8)\n",
            " * sqlite:///./databases/nba.db\n",
            "(sqlite3.OperationalError) database twElection2020 is already in use\n",
            "[SQL: ATTACH './databases/twElection2020.db' AS twElection2020]\n",
            "(Background on this error at: https://sqlalche.me/e/20/e3q8)\n",
            " * sqlite:///./databases/nba.db\n",
            "(sqlite3.OperationalError) database imdb is already in use\n",
            "[SQL: ATTACH './databases/imdb.db' AS imdb]\n",
            "(Background on this error at: https://sqlalche.me/e/20/e3q8)\n"
          ]
        }
      ]
    },
    {
      "cell_type": "markdown",
      "metadata": {
        "id": "-St6sXEZrhb4"
      },
      "source": [
        "## 14. 從 `nba` 資料庫的 `career_summaries` 資料表中依據 `ppg`（Points per game，場均得分）找出場均得分最高的 10 名球員，參考下列的預期查詢結果。\n",
        "\n",
        "- 預期輸入：SQL 查詢語法。\n",
        "- 預期輸出：(10, 2) 的查詢結果。\n",
        "\n",
        "```\n",
        "   personId   ppg\n",
        "0    201142  27.1\n",
        "1      2544  27.0\n",
        "2   1629029  25.6\n",
        "3    201935  25.2\n",
        "4   1629627  25.0\n",
        "5    203954  24.7\n",
        "6    203081  24.6\n",
        "7   1629027  24.0\n",
        "8    203076  23.9\n",
        "9    201939  23.8\n",
        "```"
      ]
    },
    {
      "cell_type": "code",
      "source": [
        "%%sql\n",
        "SELECT * FROM career_summaries"
      ],
      "metadata": {
        "id": "xcT1w16Pdt_4"
      },
      "execution_count": null,
      "outputs": []
    },
    {
      "cell_type": "code",
      "source": [
        "pd.read_sql(\"SELECT * FROM career_summaries\", conn)"
      ],
      "metadata": {
        "id": "Eg5WdV6KexYV"
      },
      "execution_count": null,
      "outputs": []
    },
    {
      "cell_type": "code",
      "execution_count": null,
      "metadata": {
        "id": "kIlHFjWXrhb5"
      },
      "outputs": [],
      "source": [
        "find_top_ten_ppg_from_career_summaries =\\\n",
        "\"\"\"\n",
        "-- SQL 查詢語法起點\n",
        "\n",
        "-- SQL 查詢語法終點\n",
        "\"\"\""
      ]
    },
    {
      "cell_type": "markdown",
      "metadata": {
        "id": "YxWL-3mVrhb5"
      },
      "source": [
        "## 15. 從 `covid19` 資料庫的 `time_series` 資料表中依據 `Daily_Cases` 找出前十個單日新增確診數最多的日期，參考下列的預期查詢結果。\n",
        "\n",
        "- 預期輸入：SQL 查詢語法。\n",
        "- 預期輸出：(10, 3) 的查詢結果。\n",
        "\n",
        "```\n",
        "         Date Country_Region  Daily_Cases\n",
        "0  2020-12-10         Turkey       823225\n",
        "1  2021-01-02             US       300308\n",
        "2  2021-01-08             US       293268\n",
        "3  2021-01-07             US       278261\n",
        "4  2021-01-09             US       262622\n",
        "5  2021-01-06             US       255424\n",
        "6  2020-12-18             US       251961\n",
        "7  2020-12-16             US       246702\n",
        "8  2021-01-15             US       242734\n",
        "9  2020-12-11             US       239976\n",
        "```"
      ]
    },
    {
      "cell_type": "code",
      "execution_count": null,
      "metadata": {
        "id": "tdYtFR0yrhb5"
      },
      "outputs": [],
      "source": [
        "find_top_ten_daily_case_from_time_series =\\\n",
        "\"\"\"\n",
        "-- SQL 查詢語法起點\n",
        "\n",
        "-- SQL 查詢語法終點\n",
        "\"\"\""
      ]
    },
    {
      "cell_type": "markdown",
      "metadata": {
        "id": "wnQwEPPXrhb5"
      },
      "source": [
        "## 16. 從 `nba` 資料庫的 `career_summaries` 資料表中依據 `assists`、`turnovers` 欄位以及下列公式衍生計算助攻失誤比，使用 CAST 函數讓衍生計算欄位的資料類型為浮點數 REAL，找出助攻失誤比最高的前 10 名球員，參考下列的預期查詢結果。\n",
        "\n",
        "\\begin{equation}\n",
        "\\text{Assists Turnover Ratio} = \\frac{Assists}{Turnovers}\n",
        "\\end{equation}\n",
        "\n",
        "- 預期輸入：SQL 查詢語法。\n",
        "- 預期輸出：(10, 3) 的查詢結果。\n",
        "\n",
        "```\n",
        "   personId  assists  turnovers\n",
        "0   1630216       10          1\n",
        "1   1630184       69         13\n",
        "2   1628420      682        131\n",
        "3   1629657       20          4\n",
        "4   1626145     1292        269\n",
        "5   1629162      252         62\n",
        "6   1629603        4          1\n",
        "7    101108    10051       2572\n",
        "8   1630201       30          8\n",
        "9   1627853      441        120\n",
        "```"
      ]
    },
    {
      "cell_type": "code",
      "execution_count": null,
      "metadata": {
        "id": "OMM_vQMdrhb5"
      },
      "outputs": [],
      "source": [
        "find_top_ten_ast_to_ratio_from_career_summaries =\\\n",
        "\"\"\"\n",
        "-- SQL 查詢語法起點\n",
        "\n",
        "-- SQL 查詢語法終點\n",
        "\"\"\""
      ]
    },
    {
      "cell_type": "markdown",
      "metadata": {
        "deletable": false,
        "id": "xlZMQlxZrhb5"
      },
      "source": [
        "## 執行測試！\n",
        "\n",
        "Runtime -> Restart and run all -> Yes -> Run anyway."
      ]
    },
    {
      "cell_type": "code",
      "execution_count": null,
      "metadata": {
        "deletable": false,
        "cellView": "form",
        "id": "ANyOfYMCrhb5"
      },
      "outputs": [],
      "source": [
        "# @title\n",
        "class TestOrderBy(unittest.TestCase):\n",
        "    def test_14_find_top_ten_ppg_from_career_summaries(self):\n",
        "        top_ten_ppg_from_career_summaries = pd.read_sql(find_top_ten_ppg_from_career_summaries, conn)\n",
        "        self.assertEqual(top_ten_ppg_from_career_summaries.shape, ((10, 2)))\n",
        "        np.testing.assert_equal(top_ten_ppg_from_career_summaries['personId'].values[:5],\n",
        "                               np.array([201142, 2544, 1629029, 201935, 1629627]))\n",
        "    def test_15_find_top_ten_daily_case_from_time_series(self):\n",
        "        top_ten_daily_case_from_time_series = pd.read_sql(find_top_ten_daily_case_from_time_series, conn)\n",
        "        self.assertEqual(top_ten_daily_case_from_time_series.shape, ((10, 3)))\n",
        "        np.testing.assert_equal(top_ten_daily_case_from_time_series['Date'].values[:5],\n",
        "                               np.array(['2020-12-10', '2021-01-02', '2021-01-08', '2021-01-07', '2021-01-09']))\n",
        "        np.testing.assert_equal(top_ten_daily_case_from_time_series['Country_Region'].values[:5],\n",
        "                               np.array(['Turkey', 'US', 'US', 'US', 'US']))\n",
        "    def test_16_find_top_ten_ast_to_ratio_from_career_summaries(self):\n",
        "        top_ten_ast_to_ratio_from_career_summaries = pd.read_sql(find_top_ten_ast_to_ratio_from_career_summaries, conn)\n",
        "        self.assertEqual(top_ten_ast_to_ratio_from_career_summaries.shape, (10, 3))\n",
        "        np.testing.assert_equal(top_ten_ast_to_ratio_from_career_summaries['personId'].values[:5],\n",
        "                                np.array([1630216, 1630184, 1628420, 1629657, 1626145]))\n",
        "\n",
        "suite = unittest.TestLoader().loadTestsFromTestCase(TestOrderBy)\n",
        "runner = unittest.TextTestRunner(verbosity=2)\n",
        "test_results = runner.run(suite)\n",
        "number_of_failures = len(test_results.failures)\n",
        "number_of_errors = len(test_results.errors)\n",
        "number_of_test_runs = test_results.testsRun\n",
        "number_of_successes = number_of_test_runs - (number_of_failures + number_of_errors)\n",
        "#cwd = os.getcwd()\n",
        "folder_name = \"06-order-by\"\n",
        "with open(\"exercise_index.json\", \"r\") as content:\n",
        "    exercise_index = json.load(content)\n",
        "chapter_name = exercise_index[folder_name]"
      ]
    },
    {
      "cell_type": "code",
      "execution_count": null,
      "metadata": {
        "deletable": false,
        "editable": false,
        "cellView": "form",
        "id": "yCLkaVmTrhb6"
      },
      "outputs": [],
      "source": [
        "# @title\n",
        "print(\"您在「{}」章節中的 {} 道 SQL 練習答對了 {} 題。\".format(chapter_name, number_of_test_runs, number_of_successes))"
      ]
    }
  ],
  "metadata": {
    "celltoolbar": "Edit Metadata",
    "kernelspec": {
      "display_name": "Python 3 (ipykernel)",
      "language": "python",
      "name": "python3"
    },
    "language_info": {
      "codemirror_mode": {
        "name": "ipython",
        "version": 3
      },
      "file_extension": ".py",
      "mimetype": "text/x-python",
      "name": "python",
      "nbconvert_exporter": "python",
      "pygments_lexer": "ipython3",
      "version": "3.9.5"
    },
    "colab": {
      "provenance": [],
      "include_colab_link": true
    }
  },
  "nbformat": 4,
  "nbformat_minor": 0
}