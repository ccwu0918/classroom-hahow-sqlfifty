{
  "cells": [
    {
      "cell_type": "markdown",
      "metadata": {
        "id": "view-in-github",
        "colab_type": "text"
      },
      "source": [
        "<a href=\"https://colab.research.google.com/github/ccwu0918/classroom-hahow-sqlfifty/blob/main/10-subqueries/lecture.ipynb\" target=\"_parent\"><img src=\"https://colab.research.google.com/assets/colab-badge.svg\" alt=\"Open In Colab\"/></a>"
      ]
    },
    {
      "cell_type": "markdown",
      "id": "lightweight-fruit",
      "metadata": {
        "id": "lightweight-fruit"
      },
      "source": [
        "# SQL 的五十道練習\n",
        "\n",
        "> 子查詢\n",
        "\n",
        "[數據交點](https://www.datainpoint.com/) | 郭耀仁 <yaojenkuo@datainpoint.com>"
      ]
    },
    {
      "cell_type": "code",
      "source": [
        "!git clone https://github.com/ccwu0918/classroom-hahow-sqlfifty.git"
      ],
      "metadata": {
        "id": "Q93Vk9GKbVjj",
        "outputId": "fc4f6c45-5682-4bd8-fccb-cc9266548b1e",
        "colab": {
          "base_uri": "https://localhost:8080/"
        }
      },
      "execution_count": null,
      "outputs": [
        {
          "output_type": "stream",
          "name": "stdout",
          "text": [
            "Cloning into 'classroom-hahow-sqlfifty'...\n",
            "remote: Enumerating objects: 931, done.\u001b[K\n",
            "remote: Counting objects: 100% (182/182), done.\u001b[K\n",
            "remote: Compressing objects: 100% (152/152), done.\u001b[K\n",
            "remote: Total 931 (delta 100), reused 70 (delta 29), pack-reused 749\u001b[K\n",
            "Receiving objects: 100% (931/931), 69.00 MiB | 12.33 MiB/s, done.\n",
            "Resolving deltas: 100% (592/592), done.\n",
            "Updating files: 100% (130/130), done.\n"
          ]
        }
      ],
      "id": "Q93Vk9GKbVjj"
    },
    {
      "cell_type": "code",
      "source": [
        "%cd classroom-hahow-sqlfifty"
      ],
      "metadata": {
        "id": "HlcICLC8bloZ",
        "outputId": "3143f639-a33a-4b3f-93fc-22b7080ce2fb",
        "colab": {
          "base_uri": "https://localhost:8080/"
        }
      },
      "execution_count": null,
      "outputs": [
        {
          "output_type": "stream",
          "name": "stdout",
          "text": [
            "/content/classroom-hahow-sqlfifty/classroom-hahow-sqlfifty\n"
          ]
        }
      ],
      "id": "HlcICLC8bloZ"
    },
    {
      "cell_type": "code",
      "source": [
        "%load_ext sql"
      ],
      "metadata": {
        "id": "vLAGRoijcSb0",
        "outputId": "d119c029-cc2d-4617-d486-ebf4b2c9ef03",
        "colab": {
          "base_uri": "https://localhost:8080/"
        }
      },
      "execution_count": null,
      "outputs": [
        {
          "output_type": "stream",
          "name": "stdout",
          "text": [
            "The sql extension is already loaded. To reload it, use:\n",
            "  %reload_ext sql\n"
          ]
        }
      ],
      "id": "vLAGRoijcSb0"
    },
    {
      "cell_type": "code",
      "source": [
        "%sql sqlite:///./databases/imdb.db\n",
        "%sql ATTACH './databases/covid19.db' AS covid19\n",
        "%sql ATTACH './databases/twElection2020.db' AS twElection2020\n",
        "%sql ATTACH './databases/nba.db' AS nba"
      ],
      "metadata": {
        "id": "gCsaniX2cz6Z"
      },
      "execution_count": null,
      "outputs": [],
      "id": "gCsaniX2cz6Z"
    },
    {
      "cell_type": "markdown",
      "id": "supposed-spread",
      "metadata": {
        "id": "supposed-spread"
      },
      "source": [
        "## 什麼是子查詢"
      ]
    },
    {
      "cell_type": "markdown",
      "id": "endless-sodium",
      "metadata": {
        "id": "endless-sodium"
      },
      "source": [
        "## 在「函數」的章節中，我們看過函數包含著其他函數的使用方法\n",
        "\n",
        "前一個函數的輸出，成為下一個函數的輸入。"
      ]
    },
    {
      "cell_type": "code",
      "execution_count": null,
      "id": "superb-principle",
      "metadata": {
        "id": "superb-principle",
        "outputId": "9616c02f-ec16-474e-a0e0-91137c975fad"
      },
      "outputs": [
        {
          "data": {
            "text/html": [
              "<table>\n",
              "<tr>\n",
              "<th>avg_rating</th>\n",
              "</tr>\n",
              "<tr>\n",
              "<td>8.0</td>\n",
              "</tr>\n",
              "</table>\n",
              "1 row in set (0.00 sec)"
            ],
            "text/plain": [
              "+------------+\n",
              "| avg_rating |\n",
              "+------------+\n",
              "| 8.0        |\n",
              "+------------+\n",
              "1 row in set (0.00 sec)"
            ]
          },
          "execution_count": 5,
          "metadata": {},
          "output_type": "execute_result"
        }
      ],
      "source": [
        "%%sql\n",
        "SELECT ROUND(AVG(rating)) AS avg_rating\n",
        "  FROM movies;"
      ]
    },
    {
      "cell_type": "markdown",
      "id": "cordless-relay",
      "metadata": {
        "id": "cordless-relay"
      },
      "source": [
        "## 如果一段 SQL 中包含著另外一段的 SQL，這樣的 SQL 結構就被稱為子查詢（Subquery）"
      ]
    },
    {
      "cell_type": "markdown",
      "id": "structural-november",
      "metadata": {
        "id": "structural-november"
      },
      "source": [
        "## 常見的子查詢應用情境"
      ]
    },
    {
      "cell_type": "markdown",
      "id": "impressive-rochester",
      "metadata": {
        "id": "impressive-rochester"
      },
      "source": [
        "## 在什麼樣的情境下我們會想使用子查詢呢？\n",
        "\n",
        "1. 查詢的篩選條件必須要先做一個查詢才能得知。\n",
        "2. 查詢的計算內容必須要先做一個查詢才能得知。\n",
        "3. 查詢所需要的資料來自不同資料表。"
      ]
    },
    {
      "cell_type": "markdown",
      "id": "posted-acrylic",
      "metadata": {
        "id": "posted-acrylic"
      },
      "source": [
        "## 情境一：查詢的篩選條件必須要先做一個查詢才能得知\n",
        "\n",
        "我們想知道 `imdb` 資料庫的 `movies` 資料表中片長最短的電影是哪一部。\n",
        "\n",
        "```sql\n",
        "SELECT *\n",
        "  FROM movies\n",
        " WHERE runtime = MIN(runtime); -- 這個查詢會得到錯誤，因為聚合函數不能夠寫在 WHERE 後\n",
        "```"
      ]
    },
    {
      "cell_type": "markdown",
      "id": "continuous-nerve",
      "metadata": {
        "id": "continuous-nerve"
      },
      "source": [
        "## 我們要分兩次查詢來完成\n",
        "\n",
        "- 先查詢「最短」的片長是幾分鐘。\n",
        "- 再依據前一個查詢結果作為篩選條件。"
      ]
    },
    {
      "cell_type": "code",
      "execution_count": null,
      "id": "provincial-smith",
      "metadata": {
        "id": "provincial-smith",
        "outputId": "b88ddd35-9aae-4539-8b84-062c8a1c02c4"
      },
      "outputs": [
        {
          "data": {
            "text/html": [
              "<table>\n",
              "<tr>\n",
              "<th>minimum_runtime</th>\n",
              "</tr>\n",
              "<tr>\n",
              "<td>45</td>\n",
              "</tr>\n",
              "</table>\n",
              "1 row in set (0.00 sec)"
            ],
            "text/plain": [
              "+-----------------+\n",
              "| minimum_runtime |\n",
              "+-----------------+\n",
              "| 45              |\n",
              "+-----------------+\n",
              "1 row in set (0.00 sec)"
            ]
          },
          "execution_count": 6,
          "metadata": {},
          "output_type": "execute_result"
        }
      ],
      "source": [
        "%%sql\n",
        "SELECT MIN(runtime) AS minimum_runtime  -- 先查詢「最短」的片長是幾分鐘。\n",
        "  FROM movies;"
      ]
    },
    {
      "cell_type": "code",
      "execution_count": null,
      "id": "alternative-march",
      "metadata": {
        "id": "alternative-march",
        "outputId": "cae1971d-83fc-4f11-8552-4888b53b226e"
      },
      "outputs": [
        {
          "data": {
            "text/html": [
              "<table>\n",
              "<tr>\n",
              "<th>id</th>\n",
              "<th>title</th>\n",
              "<th>release_year</th>\n",
              "<th>rating</th>\n",
              "<th>director</th>\n",
              "<th>runtime</th>\n",
              "</tr>\n",
              "<tr>\n",
              "<td>195</td>\n",
              "<td>Sherlock Jr.</td>\n",
              "<td>1924</td>\n",
              "<td>8.2</td>\n",
              "<td>Buster Keaton</td>\n",
              "<td>45</td>\n",
              "</tr>\n",
              "</table>\n",
              "1 row in set (0.00 sec)"
            ],
            "text/plain": [
              "+-----+--------------+--------------+--------+---------------+---------+\n",
              "| id  | title        | release_year | rating | director      | runtime |\n",
              "+-----+--------------+--------------+--------+---------------+---------+\n",
              "| 195 | Sherlock Jr. | 1924         | 8.2    | Buster Keaton | 45      |\n",
              "+-----+--------------+--------------+--------+---------------+---------+\n",
              "1 row in set (0.00 sec)"
            ]
          },
          "execution_count": 7,
          "metadata": {},
          "output_type": "execute_result"
        }
      ],
      "source": [
        "%%sql\n",
        "SELECT *\n",
        "  FROM movies\n",
        " WHERE runtime = 45;  -- 再依據前一個查詢結果作為篩選條件。"
      ]
    },
    {
      "cell_type": "markdown",
      "id": "induced-cherry",
      "metadata": {
        "id": "induced-cherry"
      },
      "source": [
        "## 面對情境一，我們可以應用子查詢將一段 SQL 查詢結果作為條件\n",
        "\n",
        "```sql\n",
        "SELECT column_names\n",
        "  FROM table_name\n",
        " WHERE conditions (Another SELECT statement);\n",
        "```"
      ]
    },
    {
      "cell_type": "code",
      "execution_count": null,
      "id": "mighty-helena",
      "metadata": {
        "id": "mighty-helena",
        "outputId": "84af50a2-4a55-4037-c0d5-556e0dd6fe53"
      },
      "outputs": [
        {
          "data": {
            "text/html": [
              "<table>\n",
              "<tr>\n",
              "<th>minimum_runtime</th>\n",
              "</tr>\n",
              "<tr>\n",
              "<td>45</td>\n",
              "</tr>\n",
              "</table>\n",
              "1 row in set (0.00 sec)"
            ],
            "text/plain": [
              "+-----------------+\n",
              "| minimum_runtime |\n",
              "+-----------------+\n",
              "| 45              |\n",
              "+-----------------+\n",
              "1 row in set (0.00 sec)"
            ]
          },
          "execution_count": 8,
          "metadata": {},
          "output_type": "execute_result"
        }
      ],
      "source": [
        "%%sql\n",
        "SELECT MIN(runtime) AS minimum_runtime  -- 先查詢「最短」的片長是幾分鐘。\n",
        "  FROM movies;\n",
        "\n",
        "SELECT *\n",
        "  FROM movies\n",
        " WHERE runtime = 45;  -- 再依據前一個查詢結果作為篩選條件。"
      ]
    },
    {
      "cell_type": "markdown",
      "id": "agricultural-presentation",
      "metadata": {
        "id": "agricultural-presentation"
      },
      "source": [
        "## 情境二：查詢的計算內容必須要先做一個查詢才能得知\n",
        "\n",
        "我們想知道 `imdb` 資料庫的 `movies` 資料表中，在千禧年之後上映的電影佔比為多少？"
      ]
    },
    {
      "cell_type": "markdown",
      "id": "complimentary-polyester",
      "metadata": {
        "id": "complimentary-polyester"
      },
      "source": [
        "## 我們要分兩次查詢來完成\n",
        "\n",
        "- 先查詢在千禧年之後上映的電影有幾部。\n",
        "- 再依據前一個查詢結果作為計算內容。"
      ]
    },
    {
      "cell_type": "code",
      "execution_count": null,
      "id": "changing-queen",
      "metadata": {
        "id": "changing-queen",
        "outputId": "165588d2-23e3-45e8-a734-ea5608a0dbe0"
      },
      "outputs": [
        {
          "data": {
            "text/html": [
              "<table>\n",
              "<tr>\n",
              "<th>number_of_movies</th>\n",
              "</tr>\n",
              "<tr>\n",
              "<td>101</td>\n",
              "</tr>\n",
              "</table>\n",
              "1 row in set (0.00 sec)"
            ],
            "text/plain": [
              "+------------------+\n",
              "| number_of_movies |\n",
              "+------------------+\n",
              "| 101              |\n",
              "+------------------+\n",
              "1 row in set (0.00 sec)"
            ]
          },
          "execution_count": 9,
          "metadata": {},
          "output_type": "execute_result"
        }
      ],
      "source": [
        "%%sql\n",
        "SELECT COUNT(*) AS number_of_movies\n",
        "  FROM movies\n",
        " WHERE release_year >= 2000;  -- 先查詢在千禧年之後上映的電影有幾部。"
      ]
    },
    {
      "cell_type": "code",
      "execution_count": null,
      "id": "isolated-madrid",
      "metadata": {
        "id": "isolated-madrid",
        "outputId": "c541e712-262e-43fe-8f36-b19b54e73a5b"
      },
      "outputs": [
        {
          "data": {
            "text/html": [
              "<table>\n",
              "<tr>\n",
              "<th>millennium_percentage</th>\n",
              "</tr>\n",
              "<tr>\n",
              "<td>0.404</td>\n",
              "</tr>\n",
              "</table>\n",
              "1 row in set (0.00 sec)"
            ],
            "text/plain": [
              "+-----------------------+\n",
              "| millennium_percentage |\n",
              "+-----------------------+\n",
              "| 0.404                 |\n",
              "+-----------------------+\n",
              "1 row in set (0.00 sec)"
            ]
          },
          "execution_count": 10,
          "metadata": {},
          "output_type": "execute_result"
        }
      ],
      "source": [
        "%%sql\n",
        "SELECT 101 / CAST(COUNT(*) AS REAL) AS millennium_percentage  -- 再依據前一個查詢結果作為計算內容。\n",
        "  FROM movies;"
      ]
    },
    {
      "cell_type": "markdown",
      "id": "warming-place",
      "metadata": {
        "id": "warming-place"
      },
      "source": [
        "## 面對情境二，我們可以應用子查詢將一段 SQL 查詢結果作為計算內容\n",
        "\n",
        "```sql\n",
        "SELECT (Another SELECT statement) AS alias\n",
        "  FROM table_name;\n",
        "```"
      ]
    },
    {
      "cell_type": "code",
      "execution_count": null,
      "id": "renewable-lithuania",
      "metadata": {
        "id": "renewable-lithuania",
        "outputId": "f6fa23d5-86f6-4551-a57a-6577a17373c7"
      },
      "outputs": [
        {
          "data": {
            "text/html": [
              "<table>\n",
              "<tr>\n",
              "<th>number_of_movies</th>\n",
              "</tr>\n",
              "<tr>\n",
              "<td>101</td>\n",
              "</tr>\n",
              "</table>\n",
              "1 row in set (0.00 sec)"
            ],
            "text/plain": [
              "+------------------+\n",
              "| number_of_movies |\n",
              "+------------------+\n",
              "| 101              |\n",
              "+------------------+\n",
              "1 row in set (0.00 sec)"
            ]
          },
          "execution_count": 11,
          "metadata": {},
          "output_type": "execute_result"
        }
      ],
      "source": [
        "%%sql\n",
        "SELECT COUNT(*) AS number_of_movies\n",
        "  FROM movies\n",
        " WHERE release_year >= 2000;  -- 先查詢在千禧年之後上映的電影有幾部。\n",
        "\n",
        "SELECT 101 / CAST(COUNT(*) AS REAL) AS millennium_percentage  -- 再依據前一個查詢結果作為計算內容。\n",
        "  FROM movies;"
      ]
    },
    {
      "cell_type": "markdown",
      "id": "fancy-kazakhstan",
      "metadata": {
        "id": "fancy-kazakhstan"
      },
      "source": [
        "## 情境三：查詢所需要的資料來自不同的資料表\n",
        "\n",
        "我們想知道在 `imdb` 資料庫中，哪幾部電影 Tom Hanks 有演出？"
      ]
    },
    {
      "cell_type": "markdown",
      "id": "governing-roberts",
      "metadata": {
        "id": "governing-roberts"
      },
      "source": [
        "## 我們要分三次查詢來完成\n",
        "\n",
        "- 先從 `actors` 資料表查詢 Tom Hanks 的演員編號是多少。\n",
        "- 再依據前一個查詢結果去 `casting` 資料表查詢。\n",
        "- 再依據前一個查詢結果去 `movies` 資料表查詢。"
      ]
    },
    {
      "cell_type": "code",
      "execution_count": null,
      "id": "continuing-potter",
      "metadata": {
        "id": "continuing-potter",
        "outputId": "630a0c5f-a15a-48be-b51c-a449cfefc688"
      },
      "outputs": [
        {
          "data": {
            "text/html": [
              "<table>\n",
              "<tr>\n",
              "<th>id</th>\n",
              "</tr>\n",
              "<tr>\n",
              "<td>2865</td>\n",
              "</tr>\n",
              "</table>\n",
              "1 row in set (0.00 sec)"
            ],
            "text/plain": [
              "+------+\n",
              "| id   |\n",
              "+------+\n",
              "| 2865 |\n",
              "+------+\n",
              "1 row in set (0.00 sec)"
            ]
          },
          "execution_count": 12,
          "metadata": {},
          "output_type": "execute_result"
        }
      ],
      "source": [
        "%%sql\n",
        "SELECT id\n",
        "  FROM actors\n",
        " WHERE name = 'Tom Hanks';  -- 先從 actors 資料表查詢 Tom Hanks 的演員編號是多少。"
      ]
    },
    {
      "cell_type": "code",
      "execution_count": null,
      "id": "asian-vector",
      "metadata": {
        "id": "asian-vector",
        "outputId": "5022ae26-c006-4fde-a954-9078d1d2fc91"
      },
      "outputs": [
        {
          "data": {
            "text/html": [
              "<table>\n",
              "<tr>\n",
              "<th>movie_id</th>\n",
              "</tr>\n",
              "<tr>\n",
              "<td>12</td>\n",
              "</tr>\n",
              "<tr>\n",
              "<td>26</td>\n",
              "</tr>\n",
              "<tr>\n",
              "<td>27</td>\n",
              "</tr>\n",
              "<tr>\n",
              "<td>82</td>\n",
              "</tr>\n",
              "<tr>\n",
              "<td>112</td>\n",
              "</tr>\n",
              "<tr>\n",
              "<td>189</td>\n",
              "</tr>\n",
              "</table>\n",
              "6 rows in set (0.00 sec)"
            ],
            "text/plain": [
              "+----------+\n",
              "| movie_id |\n",
              "+----------+\n",
              "| 12       |\n",
              "+----------+\n",
              "| 26       |\n",
              "+----------+\n",
              "| 27       |\n",
              "+----------+\n",
              "| 82       |\n",
              "+----------+\n",
              "| 112      |\n",
              "+----------+\n",
              "| 189      |\n",
              "+----------+\n",
              "6 rows in set (0.00 sec)"
            ]
          },
          "execution_count": 13,
          "metadata": {},
          "output_type": "execute_result"
        }
      ],
      "source": [
        "%%sql\n",
        "SELECT movie_id\n",
        "  FROM casting\n",
        " WHERE actor_id = 2865;  -- 再依據前一個查詢結果去 casting 資料表查詢。"
      ]
    },
    {
      "cell_type": "code",
      "execution_count": null,
      "id": "cordless-polls",
      "metadata": {
        "id": "cordless-polls",
        "outputId": "3f6b5550-4ad4-4b41-d90c-42d55c622400"
      },
      "outputs": [
        {
          "data": {
            "text/html": [
              "<table>\n",
              "<tr>\n",
              "<th>id</th>\n",
              "<th>title</th>\n",
              "<th>release_year</th>\n",
              "<th>rating</th>\n",
              "<th>director</th>\n",
              "<th>runtime</th>\n",
              "</tr>\n",
              "<tr>\n",
              "<td>12</td>\n",
              "<td>Forrest Gump</td>\n",
              "<td>1994</td>\n",
              "<td>8.8</td>\n",
              "<td>Robert Zemeckis</td>\n",
              "<td>142</td>\n",
              "</tr>\n",
              "<tr>\n",
              "<td>26</td>\n",
              "<td>Saving Private Ryan</td>\n",
              "<td>1998</td>\n",
              "<td>8.6</td>\n",
              "<td>Steven Spielberg</td>\n",
              "<td>169</td>\n",
              "</tr>\n",
              "<tr>\n",
              "<td>27</td>\n",
              "<td>The Green Mile</td>\n",
              "<td>1999</td>\n",
              "<td>8.6</td>\n",
              "<td>Frank Darabont</td>\n",
              "<td>189</td>\n",
              "</tr>\n",
              "<tr>\n",
              "<td>82</td>\n",
              "<td>Toy Story</td>\n",
              "<td>1995</td>\n",
              "<td>8.3</td>\n",
              "<td>John Lasseter</td>\n",
              "<td>81</td>\n",
              "</tr>\n",
              "<tr>\n",
              "<td>112</td>\n",
              "<td>Toy Story 3</td>\n",
              "<td>2010</td>\n",
              "<td>8.2</td>\n",
              "<td>Lee Unkrich</td>\n",
              "<td>103</td>\n",
              "</tr>\n",
              "<tr>\n",
              "<td>189</td>\n",
              "<td>Catch Me If You Can</td>\n",
              "<td>2002</td>\n",
              "<td>8.1</td>\n",
              "<td>Steven Spielberg</td>\n",
              "<td>141</td>\n",
              "</tr>\n",
              "</table>\n",
              "6 rows in set (0.00 sec)"
            ],
            "text/plain": [
              "+-----+---------------------+--------------+--------+------------------+---------+\n",
              "| id  | title               | release_year | rating | director         | runtime |\n",
              "+-----+---------------------+--------------+--------+------------------+---------+\n",
              "| 12  | Forrest Gump        | 1994         | 8.8    | Robert Zemeckis  | 142     |\n",
              "+-----+---------------------+--------------+--------+------------------+---------+\n",
              "| 26  | Saving Private Ryan | 1998         | 8.6    | Steven Spielberg | 169     |\n",
              "+-----+---------------------+--------------+--------+------------------+---------+\n",
              "| 27  | The Green Mile      | 1999         | 8.6    | Frank Darabont   | 189     |\n",
              "+-----+---------------------+--------------+--------+------------------+---------+\n",
              "| 82  | Toy Story           | 1995         | 8.3    | John Lasseter    | 81      |\n",
              "+-----+---------------------+--------------+--------+------------------+---------+\n",
              "| 112 | Toy Story 3         | 2010         | 8.2    | Lee Unkrich      | 103     |\n",
              "+-----+---------------------+--------------+--------+------------------+---------+\n",
              "| 189 | Catch Me If You Can | 2002         | 8.1    | Steven Spielberg | 141     |\n",
              "+-----+---------------------+--------------+--------+------------------+---------+\n",
              "6 rows in set (0.00 sec)"
            ]
          },
          "execution_count": 14,
          "metadata": {},
          "output_type": "execute_result"
        }
      ],
      "source": [
        "%%sql\n",
        "SELECT *\n",
        "  FROM movies\n",
        " WHERE id IN (12, 26, 27, 82, 112, 189);  -- 再依據前一個查詢結果去 movies 資料表查詢。"
      ]
    },
    {
      "cell_type": "markdown",
      "id": "educated-calcium",
      "metadata": {
        "id": "educated-calcium"
      },
      "source": [
        "## 面對情境三，我們可以應用子查詢將一段 SQL 查詢結果作為條件\n",
        "\n",
        "```sql\n",
        "SELECT column_names\n",
        "  FROM table_name\n",
        " WHERE conditions (Another SELECT statement);\n",
        "```"
      ]
    },
    {
      "cell_type": "code",
      "execution_count": null,
      "id": "sharp-drinking",
      "metadata": {
        "id": "sharp-drinking",
        "outputId": "20f9dd8b-815e-40e6-8030-bc8d4a416f7d"
      },
      "outputs": [
        {
          "data": {
            "text/html": [
              "<table>\n",
              "<tr>\n",
              "<th>id</th>\n",
              "</tr>\n",
              "<tr>\n",
              "<td>2865</td>\n",
              "</tr>\n",
              "</table>\n",
              "1 row in set (0.00 sec)"
            ],
            "text/plain": [
              "+------+\n",
              "| id   |\n",
              "+------+\n",
              "| 2865 |\n",
              "+------+\n",
              "1 row in set (0.00 sec)"
            ]
          },
          "execution_count": 15,
          "metadata": {},
          "output_type": "execute_result"
        }
      ],
      "source": [
        "%%sql\n",
        "SELECT id\n",
        "  FROM actors\n",
        " WHERE name = 'Tom Hanks';  -- 先從 actors 資料表查詢 Tom Hanks 的演員編號是多少。\n",
        "\n",
        "SELECT movie_id\n",
        "  FROM casting\n",
        " WHERE actor_id = 2865;  -- 再依據前一個查詢結果去 casting 資料表查詢。\n",
        "\n",
        "SELECT *\n",
        "  FROM movies\n",
        " WHERE id IN (12, 26, 27, 82, 112, 189);  -- 再依據前一個查詢結果去 movies 資料表查詢。"
      ]
    },
    {
      "cell_type": "markdown",
      "id": "auburn-accused",
      "metadata": {
        "id": "auburn-accused"
      },
      "source": [
        "## 也可以應用子查詢將一段 SQL 查詢結果作為資料表\n",
        "\n",
        "```sql\n",
        "SELECT column_names\n",
        "  FROM (SELECT column_names FROM table_name) AS alias;\n",
        "```"
      ]
    },
    {
      "cell_type": "code",
      "execution_count": null,
      "id": "hazardous-mattress",
      "metadata": {
        "id": "hazardous-mattress",
        "outputId": "9f70ef48-fe28-42f2-99a9-c30dfdeac2f3"
      },
      "outputs": [
        {
          "data": {
            "text/html": [
              "<table>\n",
              "<tr>\n",
              "<th>release_year</th>\n",
              "<th>max_rating</th>\n",
              "</tr>\n",
              "<tr>\n",
              "<td>2021</td>\n",
              "<td>8.3</td>\n",
              "</tr>\n",
              "<tr>\n",
              "<td>2020</td>\n",
              "<td>8.5</td>\n",
              "</tr>\n",
              "<tr>\n",
              "<td>2019</td>\n",
              "<td>8.6</td>\n",
              "</tr>\n",
              "<tr>\n",
              "<td>2018</td>\n",
              "<td>8.5</td>\n",
              "</tr>\n",
              "<tr>\n",
              "<td>2017</td>\n",
              "<td>8.4</td>\n",
              "</tr>\n",
              "<tr>\n",
              "<td>2016</td>\n",
              "<td>8.4</td>\n",
              "</tr>\n",
              "<tr>\n",
              "<td>2015</td>\n",
              "<td>8.2</td>\n",
              "</tr>\n",
              "<tr>\n",
              "<td>2014</td>\n",
              "<td>8.6</td>\n",
              "</tr>\n",
              "<tr>\n",
              "<td>2013</td>\n",
              "<td>8.4</td>\n",
              "</tr>\n",
              "<tr>\n",
              "<td>2012</td>\n",
              "<td>8.4</td>\n",
              "</tr>\n",
              "</table>\n",
              "10 rows in set (0.00 sec)"
            ],
            "text/plain": [
              "+--------------+------------+\n",
              "| release_year | max_rating |\n",
              "+--------------+------------+\n",
              "| 2021         | 8.3        |\n",
              "+--------------+------------+\n",
              "| 2020         | 8.5        |\n",
              "+--------------+------------+\n",
              "| 2019         | 8.6        |\n",
              "+--------------+------------+\n",
              "| 2018         | 8.5        |\n",
              "+--------------+------------+\n",
              "| 2017         | 8.4        |\n",
              "+--------------+------------+\n",
              "| 2016         | 8.4        |\n",
              "+--------------+------------+\n",
              "| 2015         | 8.2        |\n",
              "+--------------+------------+\n",
              "| 2014         | 8.6        |\n",
              "+--------------+------------+\n",
              "| 2013         | 8.4        |\n",
              "+--------------+------------+\n",
              "| 2012         | 8.4        |\n",
              "+--------------+------------+\n",
              "10 rows in set (0.00 sec)"
            ]
          },
          "execution_count": 18,
          "metadata": {},
          "output_type": "execute_result"
        }
      ],
      "source": [
        "%%sql\n",
        "SELECT *\n",
        "  FROM (SELECT release_year,\n",
        "               MAX(rating) AS max_rating\n",
        "          FROM movies\n",
        "         GROUP BY release_year) AS max_rating_each_year\n",
        " ORDER BY release_year DESC\n",
        " LIMIT 10;"
      ]
    },
    {
      "cell_type": "markdown",
      "id": "handled-occasions",
      "metadata": {
        "id": "handled-occasions"
      },
      "source": [
        "## 重點統整\n",
        "\n",
        "- 在一段 SQL 中包含著另外一段 SQL 的結構稱為子查詢（Subquery）。\n",
        "- 子查詢常見的應用情境有：\n",
        "    - 查詢的篩選條件必須要先做一個查詢才能得知。\n",
        "    - 查詢的計算內容必須要先做一個查詢才能得知。\n",
        "    - 查詢所需要的資料來自不同資料表。"
      ]
    },
    {
      "cell_type": "markdown",
      "id": "understanding-sudan",
      "metadata": {
        "id": "understanding-sudan"
      },
      "source": [
        "## 重點統整（續）\n",
        "\n",
        "- 面對不同情境的子查詢型態有：\n",
        "    - 應用子查詢將一段 SQL 查詢結果作為**條件**。\n",
        "    - 應用子查詢將一段 SQL 查詢結果作為**計算內容**。\n",
        "    - 應用子查詢將一段 SQL 查詢結果作為**資料表**。"
      ]
    },
    {
      "cell_type": "markdown",
      "id": "employed-thousand",
      "metadata": {
        "id": "employed-thousand"
      },
      "source": [
        "```sql\n",
        "/*截至目前學起來的 SQL 有哪些？\n",
        "SQL 寫作順序必須遵從標準 SQL 的規定。*/\n",
        "SELECT column_names     -- 選擇哪些欄位\n",
        "  FROM table_name       -- 從哪個資料庫的資料表\n",
        " WHERE conditions       -- 篩選哪些觀測值\n",
        " GROUP BY column_names  -- 指定依照哪個變數分組\n",
        "HAVING conditions       -- 篩選哪些分組聚合的結果\n",
        " ORDER BY column_names  -- 指定依照哪個變數排序\n",
        " LIMIT m;               -- 查詢結果顯示前 m 列就好\n",
        "```"
      ]
    }
  ],
  "metadata": {
    "celltoolbar": "Slideshow",
    "kernelspec": {
      "display_name": "xsql",
      "language": "sqlite",
      "name": "xsql"
    },
    "language_info": {
      "codemirror_mode": "sql",
      "file_extension": "",
      "mimetype": "",
      "name": "mysql",
      "version": "0.0.8"
    },
    "colab": {
      "provenance": [],
      "include_colab_link": true
    }
  },
  "nbformat": 4,
  "nbformat_minor": 5
}