{
 "cells": [
  {
   "cell_type": "markdown",
   "metadata": {
    "deletable": false,
    "editable": false
   },
   "source": [
    "# SQL 的五十道練習\n",
    "\n",
    "> 衍生計算欄位\n",
    "\n",
    "郭耀仁 <yaojenkuo@datainpoint.com>，[數據交點](https://www.datainpoint.com)"
   ]
  },
  {
   "cell_type": "code",
   "execution_count": 1,
   "metadata": {
    "deletable": false,
    "editable": false
   },
   "outputs": [
    {
     "data": {
      "text/plain": [
       "<sqlite3.Cursor at 0x7ffbfbb73650>"
      ]
     },
     "execution_count": 1,
     "metadata": {},
     "output_type": "execute_result"
    }
   ],
   "source": [
    "import sqlite3\n",
    "import unittest\n",
    "import numpy as np\n",
    "import pandas as pd\n",
    "conn = sqlite3.connect('../databases/nba.db')\n",
    "conn.execute(\"\"\"ATTACH '../databases/covid19.db' AS covid19\"\"\")\n",
    "conn.execute(\"\"\"ATTACH '../databases/twElection2020.db' AS twElection2020\"\"\")\n",
    "conn.execute(\"\"\"ATTACH '../databases/imdb.db' AS imdb\"\"\")"
   ]
  },
  {
   "cell_type": "markdown",
   "metadata": {},
   "source": [
    "## 從新冠肺炎每日報告資料表 `daily_report` 依據 `Confirmed`、`Recovered` 與 `Deaths` 衍生計算欄位 `Active`。\n",
    "\n",
    "\\begin{equation}\n",
    "\\text{Active} = \\text{Confirmed} - \\text{Recovered} - \\text{Deaths}\n",
    "\\end{equation}\n",
    "\n",
    "- 預期輸入：SQL 查詢語法。\n",
    "- 預期輸出：(3976, 4) 的查詢結果。\n",
    "\n",
    "```\n",
    "      Confirmed  Recovered  Deaths  Active\n",
    "0         51526      41727    2191    7608\n",
    "1         58316      33634    1181   23501\n",
    "2         99610      67127    2756   29727\n",
    "3          8049       7432      84     533\n",
    "4         17553      11044     405    6104\n",
    "...         ...        ...     ...     ...\n",
    "3971       1465       1325      35     105\n",
    "3972     138004     117183    1400   19421\n",
    "3973       2099       1394     610      95\n",
    "3974      20725      18660     388    1677\n",
    "3975      13867      11250     363    2254\n",
    "\n",
    "[3976 rows x 4 columns]\n",
    "```"
   ]
  },
  {
   "cell_type": "code",
   "execution_count": 2,
   "metadata": {},
   "outputs": [],
   "source": [
    "calculate_active =\\\n",
    "\"\"\"\n",
    "-- SQL 查詢語法起點\n",
    "\n",
    "-- SQL 查詢語法終點\n",
    "\"\"\""
   ]
  },
  {
   "cell_type": "markdown",
   "metadata": {},
   "source": [
    "## 從 NBA 球員資料表 `players` 依據身高 `heightMeters` 與 `weightKilograms` 衍生計算欄位 `bmi`。\n",
    "\n",
    "\\begin{equation}\n",
    "BMI = \\frac{weight_{kg}}{height_{m}^2}\n",
    "\\end{equation}\n",
    "\n",
    "- 預期輸入：SQL 查詢語法。\n",
    "- 預期輸出：(493, 3) 的查詢結果。\n",
    "\n",
    "```\n",
    "     heightMeters  weightKilograms        bmi\n",
    "0            2.03            102.1  24.776141\n",
    "1            1.83            102.1  30.487623\n",
    "2            2.11            120.2  26.998495\n",
    "3            2.06            115.7  27.264587\n",
    "4            2.11            113.4  25.471126\n",
    "..            ...              ...        ...\n",
    "488          1.96             83.9  21.839858\n",
    "489          2.03            106.6  25.868136\n",
    "490          1.85             81.6  23.842221\n",
    "491          2.11            108.9  24.460367\n",
    "492          2.13            108.9  24.003174\n",
    "\n",
    "[493 rows x 3 columns]\n",
    "```"
   ]
  },
  {
   "cell_type": "code",
   "execution_count": 3,
   "metadata": {},
   "outputs": [],
   "source": [
    "calculate_players_bmi =\\\n",
    "\"\"\"\n",
    "-- SQL 查詢語法起點\n",
    "\n",
    "-- SQL 查詢語法終點\n",
    "\"\"\""
   ]
  },
  {
   "cell_type": "markdown",
   "metadata": {},
   "source": [
    "## 從 NBA 球隊資料表 `teams` 中連結 `divName` 與 `confName` 之後使用 `DISTINCT` 去除重複值。\n",
    "\n",
    "- 預期輸入：SQL 查詢語法。\n",
    "- 預期輸出：(6, 1) 的查詢結果。\n",
    "\n",
    "```\n",
    "          conf_div\n",
    "0  Southeast, East\n",
    "1   Atlantic, East\n",
    "2    Central, East\n",
    "3  Southwest, West\n",
    "4  Northwest, West\n",
    "5    Pacific, West\n",
    "```"
   ]
  },
  {
   "cell_type": "code",
   "execution_count": 4,
   "metadata": {},
   "outputs": [],
   "source": [
    "concatenate_distinct_conference_division =\\\n",
    "\"\"\"\n",
    "-- SQL 查詢語法起點\n",
    "\n",
    "-- SQL 查詢語法終點\n",
    "\"\"\""
   ]
  },
  {
   "cell_type": "markdown",
   "metadata": {
    "deletable": false,
    "editable": false
   },
   "source": [
    "## 執行測試！\n",
    "\n",
    "Kernel -> Restart & Run All."
   ]
  },
  {
   "cell_type": "code",
   "execution_count": 5,
   "metadata": {
    "deletable": false,
    "editable": false
   },
   "outputs": [
    {
     "name": "stderr",
     "output_type": "stream",
     "text": [
      "test_calculate_active (__main__.TestCalculatedFields) ... ERROR\n",
      "test_calculate_players_bmi (__main__.TestCalculatedFields) ... ERROR\n",
      "test_concatenate_distinct_conference_division (__main__.TestCalculatedFields) ... ERROR\n",
      "\n",
      "======================================================================\n",
      "ERROR: test_calculate_active (__main__.TestCalculatedFields)\n",
      "----------------------------------------------------------------------\n",
      "Traceback (most recent call last):\n",
      "  File \"<ipython-input-5-2ba273bf7fa6>\", line 3, in test_calculate_active\n",
      "    active = pd.read_sql(calculate_active, conn)\n",
      "  File \"/Users/kuoyaojen/pyda/lib/python3.6/site-packages/pandas/io/sql.py\", line 489, in read_sql\n",
      "    chunksize=chunksize,\n",
      "  File \"/Users/kuoyaojen/pyda/lib/python3.6/site-packages/pandas/io/sql.py\", line 1728, in read_query\n",
      "    columns = [col_desc[0] for col_desc in cursor.description]\n",
      "TypeError: 'NoneType' object is not iterable\n",
      "\n",
      "======================================================================\n",
      "ERROR: test_calculate_players_bmi (__main__.TestCalculatedFields)\n",
      "----------------------------------------------------------------------\n",
      "Traceback (most recent call last):\n",
      "  File \"<ipython-input-5-2ba273bf7fa6>\", line 10, in test_calculate_players_bmi\n",
      "    players_bmi = pd.read_sql(calculate_players_bmi, conn)\n",
      "  File \"/Users/kuoyaojen/pyda/lib/python3.6/site-packages/pandas/io/sql.py\", line 489, in read_sql\n",
      "    chunksize=chunksize,\n",
      "  File \"/Users/kuoyaojen/pyda/lib/python3.6/site-packages/pandas/io/sql.py\", line 1728, in read_query\n",
      "    columns = [col_desc[0] for col_desc in cursor.description]\n",
      "TypeError: 'NoneType' object is not iterable\n",
      "\n",
      "======================================================================\n",
      "ERROR: test_concatenate_distinct_conference_division (__main__.TestCalculatedFields)\n",
      "----------------------------------------------------------------------\n",
      "Traceback (most recent call last):\n",
      "  File \"<ipython-input-5-2ba273bf7fa6>\", line 15, in test_concatenate_distinct_conference_division\n",
      "    distinct_conference_division = pd.read_sql(concatenate_distinct_conference_division, conn)\n",
      "  File \"/Users/kuoyaojen/pyda/lib/python3.6/site-packages/pandas/io/sql.py\", line 489, in read_sql\n",
      "    chunksize=chunksize,\n",
      "  File \"/Users/kuoyaojen/pyda/lib/python3.6/site-packages/pandas/io/sql.py\", line 1728, in read_query\n",
      "    columns = [col_desc[0] for col_desc in cursor.description]\n",
      "TypeError: 'NoneType' object is not iterable\n",
      "\n",
      "----------------------------------------------------------------------\n",
      "Ran 3 tests in 0.141s\n",
      "\n",
      "FAILED (errors=3)\n"
     ]
    }
   ],
   "source": [
    "class TestCalculatedFields(unittest.TestCase):\n",
    "    def test_calculate_active(self):\n",
    "        active = pd.read_sql(calculate_active, conn)\n",
    "        self.assertEqual(active.shape, (3976, 4))\n",
    "        np.testing.assert_equal(active['Active'].values[:5],\n",
    "                               np.array([7608, 23501, 29727, 533, 6104]))\n",
    "        np.testing.assert_equal(active['Active'].values[-5:],\n",
    "                               np.array([105, 19421, 95, 1677, 2254]))\n",
    "    def test_calculate_players_bmi(self):\n",
    "        players_bmi = pd.read_sql(calculate_players_bmi, conn)\n",
    "        self.assertEqual(players_bmi.shape, (493, 3))\n",
    "        np.testing.assert_equal(players_bmi.columns.values,\n",
    "                               np.array(['heightMeters', 'weightKilograms', 'bmi']))\n",
    "    def test_concatenate_distinct_conference_division(self):\n",
    "        distinct_conference_division = pd.read_sql(concatenate_distinct_conference_division, conn)\n",
    "        self.assertEqual(distinct_conference_division.shape, (6, 1))\n",
    "        np.testing.assert_equal(distinct_conference_division['conf_div'].values,\n",
    "                               np.array(['Southeast, East', 'Atlantic, East', 'Central, East', 'Southwest, West', 'Northwest, West', 'Pacific, West']))\n",
    "\n",
    "suite = unittest.TestLoader().loadTestsFromTestCase(TestCalculatedFields)\n",
    "runner = unittest.TextTestRunner(verbosity=2)\n",
    "test_results = runner.run(suite)\n",
    "number_of_failures = len(test_results.failures)\n",
    "number_of_errors = len(test_results.errors)\n",
    "number_of_test_runs = test_results.testsRun\n",
    "number_of_successes = number_of_test_runs - (number_of_failures + number_of_errors)"
   ]
  },
  {
   "cell_type": "code",
   "execution_count": 6,
   "metadata": {
    "deletable": false,
    "editable": false
   },
   "outputs": [
    {
     "name": "stdout",
     "output_type": "stream",
     "text": [
      "您在 3 道 SQL 練習中答對了 0 題。\n"
     ]
    }
   ],
   "source": [
    "print(\"您在 {} 道 SQL 練習中答對了 {} 題。\".format(number_of_test_runs, number_of_successes))"
   ]
  }
 ],
 "metadata": {
  "kernelspec": {
   "display_name": "Python Data Analysis",
   "language": "python",
   "name": "pyda"
  },
  "language_info": {
   "codemirror_mode": {
    "name": "ipython",
    "version": 3
   },
   "file_extension": ".py",
   "mimetype": "text/x-python",
   "name": "python",
   "nbconvert_exporter": "python",
   "pygments_lexer": "ipython3",
   "version": "3.6.8"
  }
 },
 "nbformat": 4,
 "nbformat_minor": 4
}
