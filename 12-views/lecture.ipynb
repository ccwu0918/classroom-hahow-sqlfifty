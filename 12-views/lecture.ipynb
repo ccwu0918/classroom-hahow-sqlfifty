{
  "cells": [
    {
      "cell_type": "markdown",
      "metadata": {
        "id": "view-in-github",
        "colab_type": "text"
      },
      "source": [
        "<a href=\"https://colab.research.google.com/github/ccwu0918/classroom-hahow-sqlfifty/blob/main/12-views/lecture.ipynb\" target=\"_parent\"><img src=\"https://colab.research.google.com/assets/colab-badge.svg\" alt=\"Open In Colab\"/></a>"
      ]
    },
    {
      "cell_type": "markdown",
      "id": "lightweight-fruit",
      "metadata": {
        "id": "lightweight-fruit"
      },
      "source": [
        "# SQL 的五十道練習\n",
        "\n",
        "> 虛擬資料表\n",
        "\n",
        "[數據交點](https://www.datainpoint.com/) | 郭耀仁 <yaojenkuo@datainpoint.com>"
      ]
    },
    {
      "cell_type": "markdown",
      "id": "associate-buffalo",
      "metadata": {
        "id": "associate-buffalo"
      },
      "source": [
        "## 這個章節要學起來的 SQL 保留字\n",
        "\n",
        "- `CREATE VIEW`\n",
        "- `DROP VIEW`"
      ]
    },
    {
      "cell_type": "code",
      "source": [
        "!git clone https://github.com/ccwu0918/classroom-hahow-sqlfifty.git"
      ],
      "metadata": {
        "id": "Q93Vk9GKbVjj",
        "outputId": "fc4f6c45-5682-4bd8-fccb-cc9266548b1e",
        "colab": {
          "base_uri": "https://localhost:8080/"
        }
      },
      "execution_count": null,
      "outputs": [
        {
          "output_type": "stream",
          "name": "stdout",
          "text": [
            "Cloning into 'classroom-hahow-sqlfifty'...\n",
            "remote: Enumerating objects: 931, done.\u001b[K\n",
            "remote: Counting objects: 100% (182/182), done.\u001b[K\n",
            "remote: Compressing objects: 100% (152/152), done.\u001b[K\n",
            "remote: Total 931 (delta 100), reused 70 (delta 29), pack-reused 749\u001b[K\n",
            "Receiving objects: 100% (931/931), 69.00 MiB | 12.33 MiB/s, done.\n",
            "Resolving deltas: 100% (592/592), done.\n",
            "Updating files: 100% (130/130), done.\n"
          ]
        }
      ],
      "id": "Q93Vk9GKbVjj"
    },
    {
      "cell_type": "code",
      "source": [
        "%cd classroom-hahow-sqlfifty"
      ],
      "metadata": {
        "id": "HlcICLC8bloZ",
        "outputId": "3143f639-a33a-4b3f-93fc-22b7080ce2fb",
        "colab": {
          "base_uri": "https://localhost:8080/"
        }
      },
      "execution_count": null,
      "outputs": [
        {
          "output_type": "stream",
          "name": "stdout",
          "text": [
            "/content/classroom-hahow-sqlfifty/classroom-hahow-sqlfifty\n"
          ]
        }
      ],
      "id": "HlcICLC8bloZ"
    },
    {
      "cell_type": "code",
      "source": [
        "%load_ext sql"
      ],
      "metadata": {
        "id": "vLAGRoijcSb0",
        "outputId": "d119c029-cc2d-4617-d486-ebf4b2c9ef03",
        "colab": {
          "base_uri": "https://localhost:8080/"
        }
      },
      "execution_count": null,
      "outputs": [
        {
          "output_type": "stream",
          "name": "stdout",
          "text": [
            "The sql extension is already loaded. To reload it, use:\n",
            "  %reload_ext sql\n"
          ]
        }
      ],
      "id": "vLAGRoijcSb0"
    },
    {
      "cell_type": "code",
      "source": [
        "%sql sqlite:///./databases/imdb.db\n",
        "%sql ATTACH './databases/covid19.db' AS covid19\n",
        "%sql ATTACH './databases/twElection2020.db' AS twElection2020\n",
        "%sql ATTACH './databases/nba.db' AS nba"
      ],
      "metadata": {
        "id": "gCsaniX2cz6Z"
      },
      "execution_count": null,
      "outputs": [],
      "id": "gCsaniX2cz6Z"
    },
    {
      "cell_type": "markdown",
      "id": "forward-passage",
      "metadata": {
        "id": "forward-passage"
      },
      "source": [
        "## 什麼是虛擬資料表"
      ]
    },
    {
      "cell_type": "markdown",
      "id": "guided-credit",
      "metadata": {
        "id": "guided-credit"
      },
      "source": [
        "## 關聯式資料庫與 SQL 滿足了資料分析的應用情境\n",
        "\n",
        "- 設計資料表彼此之間的「關聯」特性，降低彼此之間的重複性。\n",
        "- 查詢所需要的資料可以源自**不同資料表**。"
      ]
    },
    {
      "cell_type": "markdown",
      "id": "decimal-newsletter",
      "metadata": {
        "id": "decimal-newsletter"
      },
      "source": [
        "## 資料表的豐富度愈高，SQL 的查詢結果也愈進階\n",
        "\n",
        "- 透過子查詢將一段 SQL 查詢結果作為資料表。\n",
        "- 從學習資料庫的實體關係圖（Entity Relationship Diagram，簡稱 ER Diagram）垂直與水平合併資料表。"
      ]
    },
    {
      "cell_type": "markdown",
      "id": "architectural-insured",
      "metadata": {
        "id": "architectural-insured"
      },
      "source": [
        "## 虛擬資料表（Views），也被稱為檢視表或者視圖\n",
        "\n",
        "- 相較於使用過後即被捨棄的子查詢，虛擬資料表會被保存在資料庫中。\n",
        "- 對純粹向資料庫查詢的人而言，虛擬資料表就等同於資料表的存在。\n",
        "- 實際上虛擬資料表中儲存的並不是資料，而是一段 `SELECT` 敘述。\n",
        "- 對虛擬資料表查詢時，才會執行被儲存的 `SELECT` 敘述生成。"
      ]
    },
    {
      "cell_type": "markdown",
      "id": "smaller-transaction",
      "metadata": {
        "id": "smaller-transaction"
      },
      "source": [
        "## 簡單來說，虛擬資料表是一種介於「子查詢」與「建立資料表」之間的功能\n",
        "\n",
        "- 子查詢與虛擬資料表就像是資料表版本的「衍生計算欄位」。\n",
        "- 多數「非資料庫管理員」的分析師不具備建立資料表的權限。\n",
        "- 透過子查詢與虛擬資料表可以滿足新增資料表的需求。"
      ]
    },
    {
      "cell_type": "markdown",
      "id": "supposed-spread",
      "metadata": {
        "id": "supposed-spread"
      },
      "source": [
        "## 建立虛擬資料表"
      ]
    },
    {
      "cell_type": "markdown",
      "id": "impaired-section",
      "metadata": {
        "id": "impaired-section"
      },
      "source": [
        "## 以 `CREATE VIEW` 建立虛擬資料表\n",
        "\n",
        "```sql\n",
        "CREATE VIEW database_name.view_name (column_names)\n",
        "    AS\n",
        "SELECT Statement;\n",
        "```"
      ]
    },
    {
      "cell_type": "code",
      "execution_count": null,
      "id": "clinical-arcade",
      "metadata": {
        "id": "clinical-arcade"
      },
      "outputs": [],
      "source": [
        "%%sql\n",
        "CREATE VIEW imdb.highest_rating_by_year (release_year, max_rating)\n",
        "    AS\n",
        "SELECT release_year,\n",
        "       MAX(rating) AS max_rating\n",
        "  FROM movies\n",
        " GROUP BY release_year;"
      ]
    },
    {
      "cell_type": "code",
      "execution_count": null,
      "id": "demonstrated-workshop",
      "metadata": {
        "id": "demonstrated-workshop",
        "outputId": "335708f0-450c-4fa7-a991-37e837f15ce5"
      },
      "outputs": [
        {
          "data": {
            "text/html": [
              "<table>\n",
              "<tr>\n",
              "<th>release_year</th>\n",
              "<th>max_rating</th>\n",
              "</tr>\n",
              "<tr>\n",
              "<td>1921</td>\n",
              "<td>8.3</td>\n",
              "</tr>\n",
              "<tr>\n",
              "<td>1924</td>\n",
              "<td>8.2</td>\n",
              "</tr>\n",
              "<tr>\n",
              "<td>1925</td>\n",
              "<td>8.2</td>\n",
              "</tr>\n",
              "<tr>\n",
              "<td>1926</td>\n",
              "<td>8.1</td>\n",
              "</tr>\n",
              "<tr>\n",
              "<td>1927</td>\n",
              "<td>8.3</td>\n",
              "</tr>\n",
              "</table>\n",
              "5 rows in set (0.00 sec)"
            ],
            "text/plain": [
              "+--------------+------------+\n",
              "| release_year | max_rating |\n",
              "+--------------+------------+\n",
              "| 1921         | 8.3        |\n",
              "+--------------+------------+\n",
              "| 1924         | 8.2        |\n",
              "+--------------+------------+\n",
              "| 1925         | 8.2        |\n",
              "+--------------+------------+\n",
              "| 1926         | 8.1        |\n",
              "+--------------+------------+\n",
              "| 1927         | 8.3        |\n",
              "+--------------+------------+\n",
              "5 rows in set (0.00 sec)"
            ]
          },
          "execution_count": 6,
          "metadata": {},
          "output_type": "execute_result"
        }
      ],
      "source": [
        "%%sql\n",
        "SELECT *\n",
        "  FROM highest_rating_by_year\n",
        " LIMIT 5;"
      ]
    },
    {
      "cell_type": "markdown",
      "id": "understanding-sudan",
      "metadata": {
        "id": "understanding-sudan"
      },
      "source": [
        "## 刪除虛擬資料表"
      ]
    },
    {
      "cell_type": "markdown",
      "id": "significant-zoning",
      "metadata": {
        "id": "significant-zoning"
      },
      "source": [
        "## 以 `DROP VIEW` 刪除虛擬資料表\n",
        "\n",
        "```sql\n",
        "DROP VIEW database_name.view_name;\n",
        "```"
      ]
    },
    {
      "cell_type": "code",
      "execution_count": null,
      "id": "indoor-think",
      "metadata": {
        "id": "indoor-think"
      },
      "outputs": [],
      "source": [
        "%%sql\n",
        "DROP VIEW imdb.highest_rating_by_year;"
      ]
    },
    {
      "cell_type": "markdown",
      "id": "annoying-graduate",
      "metadata": {
        "id": "annoying-graduate"
      },
      "source": [
        "## 刪除虛擬資料表之後便無法對它查詢"
      ]
    },
    {
      "cell_type": "code",
      "execution_count": null,
      "id": "median-findings",
      "metadata": {
        "id": "median-findings"
      },
      "outputs": [],
      "source": [
        "%%sql\n",
        "SELECT *\n",
        "  FROM highest_rating_by_year\n",
        " LIMIT 5;"
      ]
    },
    {
      "cell_type": "markdown",
      "id": "abandoned-passion",
      "metadata": {
        "id": "abandoned-passion"
      },
      "source": [
        "## 重點統整\n",
        "\n",
        "- 虛擬資料表（Views），也被稱為檢視表或者視圖。\n",
        "- 虛擬資料表是一種介於「子查詢」與「建立資料表」之間的功能。\n",
        "- 相較於使用過後即被捨棄的子查詢，虛擬資料表會被保存在資料庫中。"
      ]
    },
    {
      "cell_type": "markdown",
      "id": "accepting-witch",
      "metadata": {
        "id": "accepting-witch"
      },
      "source": [
        "## 重點統整（續）\n",
        "\n",
        "- 子查詢與虛擬資料表就像是資料表版本的「衍生計算欄位」。\n",
        "- 虛擬資料表中儲存的並不是資料，而是一段 `SELECT` 敘述。"
      ]
    },
    {
      "cell_type": "markdown",
      "source": [
        "```sql\n",
        "\n",
        "/*截至目前學起來的 SQL 有哪些？\n",
        "SQL 寫作順序必須遵從標準 SQL 的規定。*/\n",
        "SELECT column_names     -- 選擇哪些欄位\n",
        "  FROM left_table       -- 從哪個資料庫的資料表\n",
        "  JOIN right_table      -- 與哪個資料表水平合併\n",
        "    ON left_table.join_key = right_table.join_key\n",
        " WHERE conditions       -- 篩選哪些觀測值\n",
        " GROUP BY column_names  -- 指定依照哪個變數分組\n",
        "HAVING conditions       -- 篩選哪些分組聚合的結果\n",
        " UNION SELECT statement -- 與哪段 SQL 垂直合併\n",
        " ORDER BY column_names  -- 指定依照哪個變數排序\n",
        " LIMIT m;               -- 查詢結果顯示前 m 列就好\n",
        "```\n",
        "\n"
      ],
      "metadata": {
        "id": "-4_z5zlf0DS9"
      },
      "id": "-4_z5zlf0DS9"
    },
    {
      "cell_type": "markdown",
      "source": [
        "```sql\n",
        "/*截至目前學起來的 SQL 有哪些？\n",
        "SQL 寫作順序必須遵從標準 SQL 的規定。*/\n",
        "CREATE VIEW database_name.view_name (column_names)\n",
        "    AS\n",
        "SELECT Statement;  -- 建立虛擬資料表\n",
        "DROP VIEW database_name.view_name;  -- 刪除虛擬資料表\n",
        "```\n",
        "\n"
      ],
      "metadata": {
        "id": "J9P4NkIB0Il-"
      },
      "id": "J9P4NkIB0Il-"
    }
  ],
  "metadata": {
    "celltoolbar": "Slideshow",
    "kernelspec": {
      "display_name": "xsql",
      "language": "sqlite",
      "name": "xsql"
    },
    "language_info": {
      "codemirror_mode": "sql",
      "file_extension": "",
      "mimetype": "",
      "name": "mysql",
      "version": "0.0.8"
    },
    "colab": {
      "provenance": [],
      "include_colab_link": true
    }
  },
  "nbformat": 4,
  "nbformat_minor": 5
}