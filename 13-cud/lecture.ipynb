{
  "cells": [
    {
      "cell_type": "markdown",
      "metadata": {
        "id": "view-in-github",
        "colab_type": "text"
      },
      "source": [
        "<a href=\"https://colab.research.google.com/github/ccwu0918/classroom-hahow-sqlfifty/blob/main/13-cud/lecture.ipynb\" target=\"_parent\"><img src=\"https://colab.research.google.com/assets/colab-badge.svg\" alt=\"Open In Colab\"/></a>"
      ]
    },
    {
      "cell_type": "markdown",
      "id": "lightweight-fruit",
      "metadata": {
        "id": "lightweight-fruit"
      },
      "source": [
        "# SQL 的五十道練習\n",
        "\n",
        "> 建立更新與刪除資料表\n",
        "\n",
        "[數據交點](https://www.datainpoint.com/) | 郭耀仁 <yaojenkuo@datainpoint.com>"
      ]
    },
    {
      "cell_type": "markdown",
      "id": "associate-buffalo",
      "metadata": {
        "id": "associate-buffalo"
      },
      "source": [
        "## 這個章節要學起來的 SQL 保留字\n",
        "\n",
        "- `CREATE TABLE`\n",
        "- `INSERT INTO`\n",
        "- `VALUES`\n",
        "- `UPDATE`\n",
        "- `SET`\n",
        "- `DELETE FROM`\n",
        "- `DROP TABLE`"
      ]
    },
    {
      "cell_type": "code",
      "source": [
        "!git clone https://github.com/ccwu0918/classroom-hahow-sqlfifty.git"
      ],
      "metadata": {
        "id": "Q93Vk9GKbVjj",
        "outputId": "fc4f6c45-5682-4bd8-fccb-cc9266548b1e",
        "colab": {
          "base_uri": "https://localhost:8080/"
        }
      },
      "execution_count": null,
      "outputs": [
        {
          "output_type": "stream",
          "name": "stdout",
          "text": [
            "Cloning into 'classroom-hahow-sqlfifty'...\n",
            "remote: Enumerating objects: 931, done.\u001b[K\n",
            "remote: Counting objects: 100% (182/182), done.\u001b[K\n",
            "remote: Compressing objects: 100% (152/152), done.\u001b[K\n",
            "remote: Total 931 (delta 100), reused 70 (delta 29), pack-reused 749\u001b[K\n",
            "Receiving objects: 100% (931/931), 69.00 MiB | 12.33 MiB/s, done.\n",
            "Resolving deltas: 100% (592/592), done.\n",
            "Updating files: 100% (130/130), done.\n"
          ]
        }
      ],
      "id": "Q93Vk9GKbVjj"
    },
    {
      "cell_type": "code",
      "source": [
        "%cd classroom-hahow-sqlfifty"
      ],
      "metadata": {
        "id": "HlcICLC8bloZ",
        "outputId": "3143f639-a33a-4b3f-93fc-22b7080ce2fb",
        "colab": {
          "base_uri": "https://localhost:8080/"
        }
      },
      "execution_count": null,
      "outputs": [
        {
          "output_type": "stream",
          "name": "stdout",
          "text": [
            "/content/classroom-hahow-sqlfifty/classroom-hahow-sqlfifty\n"
          ]
        }
      ],
      "id": "HlcICLC8bloZ"
    },
    {
      "cell_type": "code",
      "source": [
        "%load_ext sql"
      ],
      "metadata": {
        "id": "vLAGRoijcSb0",
        "outputId": "d119c029-cc2d-4617-d486-ebf4b2c9ef03",
        "colab": {
          "base_uri": "https://localhost:8080/"
        }
      },
      "execution_count": null,
      "outputs": [
        {
          "output_type": "stream",
          "name": "stdout",
          "text": [
            "The sql extension is already loaded. To reload it, use:\n",
            "  %reload_ext sql\n"
          ]
        }
      ],
      "id": "vLAGRoijcSb0"
    },
    {
      "cell_type": "code",
      "source": [
        "%sql sqlite:///./databases/imdb.db\n",
        "%sql ATTACH './databases/covid19.db' AS covid19\n",
        "%sql ATTACH './databases/twElection2020.db' AS twElection2020\n",
        "%sql ATTACH './databases/nba.db' AS nba\n",
        "%sql ATTACH './databases/test.db' AS test"
      ],
      "metadata": {
        "id": "gCsaniX2cz6Z"
      },
      "execution_count": null,
      "outputs": [],
      "id": "gCsaniX2cz6Z"
    },
    {
      "cell_type": "markdown",
      "id": "forward-passage",
      "metadata": {
        "id": "forward-passage"
      },
      "source": [
        "## 資料操作"
      ]
    },
    {
      "cell_type": "markdown",
      "id": "guided-credit",
      "metadata": {
        "id": "guided-credit"
      },
      "source": [
        "## SQL（發音為 ess-que-ell 或 sequel）全名為 Structured Query Language，是一個能夠針對資料庫進行「資料操作」的語言。"
      ]
    },
    {
      "cell_type": "markdown",
      "id": "temporal-circulation",
      "metadata": {
        "id": "temporal-circulation"
      },
      "source": [
        "## 「資料操作」涵蓋了 CRUD 這四個動詞：\n",
        "\n",
        "- 創造 **C**reate\n",
        "- 查詢 **R**ead\n",
        "- 更新 **U**pdate\n",
        "- 刪除 **D**elete"
      ]
    },
    {
      "cell_type": "markdown",
      "id": "decimal-newsletter",
      "metadata": {
        "id": "decimal-newsletter"
      },
      "source": [
        "## 對於「非資料庫管理員」的分析師，SQL 最重要的任務就是進行查詢\n",
        "\n",
        "但是 SQL 能夠對資料庫進行的操作不僅止於查詢 Read。"
      ]
    },
    {
      "cell_type": "markdown",
      "id": "architectural-insured",
      "metadata": {
        "id": "architectural-insured"
      },
      "source": [
        "## SQL  的組成可以分為四大部分\n",
        "\n",
        "1. **資料操作語言（Data Manipulation Language, DML）**\n",
        "2. **資料定義語言（Data Definition Language, DDL）**\n",
        "3. 資料控制語言（Data Control Language, DCL）\n",
        "4. 交易控制語言（Transaction Control Language, TCL）"
      ]
    },
    {
      "cell_type": "markdown",
      "id": "choice-serum",
      "metadata": {
        "id": "choice-serum"
      },
      "source": [
        "## CRUD 與 SQL 的關係\n",
        "\n",
        "- 與觀測值相關的 CRUD 屬於**資料操作語言（Data Manipulation Language, DML）**的範疇\n",
        "- 與資料表相關的 CRUD 屬於**資料定義語言（Data Definition Language, DDL）**的範疇"
      ]
    },
    {
      "cell_type": "markdown",
      "id": "supposed-spread",
      "metadata": {
        "id": "supposed-spread"
      },
      "source": [
        "## 建立資料表"
      ]
    },
    {
      "cell_type": "markdown",
      "id": "smaller-transaction",
      "metadata": {
        "id": "smaller-transaction"
      },
      "source": [
        "## 在熟悉的路徑建立一個 `test` 資料庫練習 CUD\n",
        "\n",
        "![create_database](https://github.com/ccwu0918/classroom-hahow-sqlfifty/blob/main/13-cud/create_database.png?raw=1)"
      ]
    },
    {
      "cell_type": "markdown",
      "id": "impaired-section",
      "metadata": {
        "id": "impaired-section"
      },
      "source": [
        "## 以 `CREATE TABLE` 建立資料表\n",
        "\n",
        "```sql\n",
        "CREATE TABLE database_name.table_name (\n",
        "    column_names COLUMN_TYPES\n",
        ");\n",
        "```"
      ]
    },
    {
      "cell_type": "code",
      "execution_count": null,
      "id": "sharing-rugby",
      "metadata": {
        "id": "sharing-rugby"
      },
      "outputs": [],
      "source": [
        "%%sql\n",
        "DROP TABLE IF EXISTS test.favorite_movies;"
      ]
    },
    {
      "cell_type": "code",
      "execution_count": null,
      "id": "clinical-arcade",
      "metadata": {
        "id": "clinical-arcade"
      },
      "outputs": [],
      "source": [
        "%%sql\n",
        "CREATE TABLE test.favorite_movies (\n",
        "    title TEXT,\n",
        "    release_year INTEGER,\n",
        "    imdb_rating REAL\n",
        ");"
      ]
    },
    {
      "cell_type": "code",
      "execution_count": null,
      "id": "demonstrated-workshop",
      "metadata": {
        "id": "demonstrated-workshop",
        "outputId": "3998dbf9-8bda-4a67-befe-1c466ef50ba4"
      },
      "outputs": [
        {
          "data": {
            "text/html": [
              "</table>\n",
              "Empty set (0.00 sec)"
            ],
            "text/plain": [
              "\n",
              "Empty set (0.00 sec)"
            ]
          },
          "execution_count": 8,
          "metadata": {},
          "output_type": "execute_result"
        }
      ],
      "source": [
        "%%sql\n",
        "SELECT *\n",
        "  FROM favorite_movies;"
      ]
    },
    {
      "cell_type": "markdown",
      "id": "understanding-sudan",
      "metadata": {
        "id": "understanding-sudan"
      },
      "source": [
        "## 以 `INSERT INTO` 建立觀測值\n",
        "\n",
        "```sql\n",
        "INSERT INTO database.table_name (column_names)\n",
        "VALUES\n",
        "       (observations);\n",
        "```"
      ]
    },
    {
      "cell_type": "code",
      "execution_count": null,
      "id": "accredited-appeal",
      "metadata": {
        "id": "accredited-appeal"
      },
      "outputs": [],
      "source": [
        "%%sql\n",
        "INSERT INTO test.favorite_movies (title, release_year, imdb_rating)\n",
        "VALUES\n",
        "       ('The Shawshank Redemption', 1995, 9.2),\n",
        "       ('The Godfather', 1972, 9.1),\n",
        "       ('The Dark Knight', 2008, 9.0),\n",
        "       ('Forrest Gump', 1994, 8.8);"
      ]
    },
    {
      "cell_type": "code",
      "execution_count": null,
      "id": "proof-popularity",
      "metadata": {
        "id": "proof-popularity",
        "outputId": "6865a275-31fb-4e8c-c1e3-f9844f1124a3"
      },
      "outputs": [
        {
          "data": {
            "text/html": [
              "<table>\n",
              "<tr>\n",
              "<th>title</th>\n",
              "<th>release_year</th>\n",
              "<th>imdb_rating</th>\n",
              "</tr>\n",
              "<tr>\n",
              "<td>The Shawshank Redemption</td>\n",
              "<td>1995</td>\n",
              "<td>9.2</td>\n",
              "</tr>\n",
              "<tr>\n",
              "<td>The Godfather</td>\n",
              "<td>1972</td>\n",
              "<td>9.1</td>\n",
              "</tr>\n",
              "<tr>\n",
              "<td>The Dark Knight</td>\n",
              "<td>2008</td>\n",
              "<td>9</td>\n",
              "</tr>\n",
              "<tr>\n",
              "<td>Forrest Gump</td>\n",
              "<td>1994</td>\n",
              "<td>8.8</td>\n",
              "</tr>\n",
              "</table>\n",
              "4 rows in set (0.00 sec)"
            ],
            "text/plain": [
              "+--------------------------+--------------+-------------+\n",
              "| title                    | release_year | imdb_rating |\n",
              "+--------------------------+--------------+-------------+\n",
              "| The Shawshank Redemption | 1995         | 9.2         |\n",
              "+--------------------------+--------------+-------------+\n",
              "| The Godfather            | 1972         | 9.1         |\n",
              "+--------------------------+--------------+-------------+\n",
              "| The Dark Knight          | 2008         | 9           |\n",
              "+--------------------------+--------------+-------------+\n",
              "| Forrest Gump             | 1994         | 8.8         |\n",
              "+--------------------------+--------------+-------------+\n",
              "4 rows in set (0.00 sec)"
            ]
          },
          "execution_count": 10,
          "metadata": {},
          "output_type": "execute_result"
        }
      ],
      "source": [
        "%%sql\n",
        "SELECT *\n",
        "  FROM favorite_movies;"
      ]
    },
    {
      "cell_type": "markdown",
      "id": "atmospheric-bradford",
      "metadata": {
        "id": "atmospheric-bradford"
      },
      "source": [
        "## 匯入 CSV 檔案建立資料表\n",
        "\n",
        "使用 SQLiteStudio 或者 DBeaver 的資料匯入（Import）功能。\n",
        "\n",
        "[movies.csv](https://hahow-sqlfifty.s3-ap-northeast-1.amazonaws.com/movies.csv)"
      ]
    },
    {
      "cell_type": "markdown",
      "id": "spatial-yesterday",
      "metadata": {
        "id": "spatial-yesterday"
      },
      "source": [
        "## 更新觀測值"
      ]
    },
    {
      "cell_type": "markdown",
      "id": "significant-zoning",
      "metadata": {
        "id": "significant-zoning"
      },
      "source": [
        "## 以 `UPDATE SET WHERE` 更新觀測值\n",
        "\n",
        "```sql\n",
        "UPDATE database_name.table_name\n",
        "   SET update_columns = update_values\n",
        " WHERE conditions;\n",
        "```"
      ]
    },
    {
      "cell_type": "markdown",
      "id": "intense-cisco",
      "metadata": {
        "id": "intense-cisco"
      },
      "source": [
        "## 刺激1995？\n",
        "\n",
        "The Shawshank Redemption 於 1994-10-14 在美國上映, 於 1995-03-10 在台灣上映，中文片名為「刺激1995」。"
      ]
    },
    {
      "cell_type": "code",
      "execution_count": null,
      "id": "original-struggle",
      "metadata": {
        "id": "original-struggle"
      },
      "outputs": [],
      "source": [
        "%%sql\n",
        "UPDATE test.favorite_movies\n",
        "   SET release_year = 1994\n",
        " WHERE title = 'The Shawshank Redemption';"
      ]
    },
    {
      "cell_type": "code",
      "execution_count": null,
      "id": "bacterial-divorce",
      "metadata": {
        "id": "bacterial-divorce",
        "outputId": "c0796467-7546-4bfb-9e8f-faa5a30a86b2"
      },
      "outputs": [
        {
          "data": {
            "text/html": [
              "<table>\n",
              "<tr>\n",
              "<th>title</th>\n",
              "<th>release_year</th>\n",
              "<th>imdb_rating</th>\n",
              "</tr>\n",
              "<tr>\n",
              "<td>The Shawshank Redemption</td>\n",
              "<td>1994</td>\n",
              "<td>9.2</td>\n",
              "</tr>\n",
              "<tr>\n",
              "<td>The Godfather</td>\n",
              "<td>1972</td>\n",
              "<td>9.1</td>\n",
              "</tr>\n",
              "<tr>\n",
              "<td>The Dark Knight</td>\n",
              "<td>2008</td>\n",
              "<td>9</td>\n",
              "</tr>\n",
              "<tr>\n",
              "<td>Forrest Gump</td>\n",
              "<td>1994</td>\n",
              "<td>8.8</td>\n",
              "</tr>\n",
              "</table>\n",
              "4 rows in set (0.00 sec)"
            ],
            "text/plain": [
              "+--------------------------+--------------+-------------+\n",
              "| title                    | release_year | imdb_rating |\n",
              "+--------------------------+--------------+-------------+\n",
              "| The Shawshank Redemption | 1994         | 9.2         |\n",
              "+--------------------------+--------------+-------------+\n",
              "| The Godfather            | 1972         | 9.1         |\n",
              "+--------------------------+--------------+-------------+\n",
              "| The Dark Knight          | 2008         | 9           |\n",
              "+--------------------------+--------------+-------------+\n",
              "| Forrest Gump             | 1994         | 8.8         |\n",
              "+--------------------------+--------------+-------------+\n",
              "4 rows in set (0.00 sec)"
            ]
          },
          "execution_count": 12,
          "metadata": {},
          "output_type": "execute_result"
        }
      ],
      "source": [
        "%%sql\n",
        "SELECT *\n",
        "  FROM favorite_movies;"
      ]
    },
    {
      "cell_type": "markdown",
      "id": "working-oracle",
      "metadata": {
        "id": "working-oracle"
      },
      "source": [
        "## 以 `DELETE FROM` 刪除觀測值\n",
        "\n",
        "```sql\n",
        "DELETE FROM database_name.table_name\n",
        " WHERE conditions;\n",
        "```"
      ]
    },
    {
      "cell_type": "markdown",
      "id": "painted-demand",
      "metadata": {
        "id": "painted-demand"
      },
      "source": [
        "## 教父對同學可能太過於古老\n",
        "\n",
        "The Godfather 於 1972-03-24 在美國上映。"
      ]
    },
    {
      "cell_type": "code",
      "execution_count": null,
      "id": "macro-expression",
      "metadata": {
        "id": "macro-expression"
      },
      "outputs": [],
      "source": [
        "%%sql\n",
        "DELETE FROM test.favorite_movies\n",
        " WHERE release_year = 1972;"
      ]
    },
    {
      "cell_type": "code",
      "execution_count": null,
      "id": "global-revolution",
      "metadata": {
        "id": "global-revolution",
        "outputId": "85553ceb-2802-440c-b716-5e792450f336"
      },
      "outputs": [
        {
          "data": {
            "text/html": [
              "<table>\n",
              "<tr>\n",
              "<th>title</th>\n",
              "<th>release_year</th>\n",
              "<th>imdb_rating</th>\n",
              "</tr>\n",
              "<tr>\n",
              "<td>The Shawshank Redemption</td>\n",
              "<td>1994</td>\n",
              "<td>9.2</td>\n",
              "</tr>\n",
              "<tr>\n",
              "<td>The Dark Knight</td>\n",
              "<td>2008</td>\n",
              "<td>9</td>\n",
              "</tr>\n",
              "<tr>\n",
              "<td>Forrest Gump</td>\n",
              "<td>1994</td>\n",
              "<td>8.8</td>\n",
              "</tr>\n",
              "</table>\n",
              "3 rows in set (0.00 sec)"
            ],
            "text/plain": [
              "+--------------------------+--------------+-------------+\n",
              "| title                    | release_year | imdb_rating |\n",
              "+--------------------------+--------------+-------------+\n",
              "| The Shawshank Redemption | 1994         | 9.2         |\n",
              "+--------------------------+--------------+-------------+\n",
              "| The Dark Knight          | 2008         | 9           |\n",
              "+--------------------------+--------------+-------------+\n",
              "| Forrest Gump             | 1994         | 8.8         |\n",
              "+--------------------------+--------------+-------------+\n",
              "3 rows in set (0.00 sec)"
            ]
          },
          "execution_count": 14,
          "metadata": {},
          "output_type": "execute_result"
        }
      ],
      "source": [
        "%%sql\n",
        "SELECT *\n",
        "  FROM favorite_movies;"
      ]
    },
    {
      "cell_type": "markdown",
      "id": "first-filter",
      "metadata": {
        "id": "first-filter"
      },
      "source": [
        "## 刪除資料表的「所有」觀測值\n",
        "\n",
        "```sql\n",
        "DELETE FROM database_name.table_name;\n",
        "```"
      ]
    },
    {
      "cell_type": "code",
      "execution_count": null,
      "id": "conventional-practice",
      "metadata": {
        "id": "conventional-practice"
      },
      "outputs": [],
      "source": [
        "%%sql\n",
        "DELETE FROM test.favorite_movies;"
      ]
    },
    {
      "cell_type": "code",
      "execution_count": null,
      "id": "younger-closure",
      "metadata": {
        "id": "younger-closure",
        "outputId": "de278794-e73c-4614-9e56-425e9763bc76"
      },
      "outputs": [
        {
          "data": {
            "text/html": [
              "</table>\n",
              "Empty set (0.00 sec)"
            ],
            "text/plain": [
              "\n",
              "Empty set (0.00 sec)"
            ]
          },
          "execution_count": 16,
          "metadata": {},
          "output_type": "execute_result"
        }
      ],
      "source": [
        "%%sql\n",
        "SELECT *\n",
        "  FROM favorite_movies;"
      ]
    },
    {
      "cell_type": "markdown",
      "id": "annoying-graduate",
      "metadata": {
        "id": "annoying-graduate"
      },
      "source": [
        "## 刪除資料表"
      ]
    },
    {
      "cell_type": "markdown",
      "id": "promotional-hierarchy",
      "metadata": {
        "id": "promotional-hierarchy"
      },
      "source": [
        "## 以 `DROP TABLE` 刪除資料表\n",
        "\n",
        "```sql\n",
        "DROP TABLE database_name.table_name;\n",
        "```"
      ]
    },
    {
      "cell_type": "code",
      "execution_count": null,
      "id": "median-findings",
      "metadata": {
        "id": "median-findings"
      },
      "outputs": [],
      "source": [
        "%%sql\n",
        "DROP TABLE test.favorite_movies;"
      ]
    },
    {
      "cell_type": "code",
      "execution_count": null,
      "id": "funky-scanner",
      "metadata": {
        "id": "funky-scanner",
        "outputId": "7e3f75cd-62e5-495d-86fa-8fae5d33ae4d"
      },
      "outputs": [
        {
          "ename": "Error",
          "evalue": "sqlite3_statement_backend::prepare: no such table: favorite_movies while preparing \"SELECT *\n  FROM favorite_movies;\".",
          "output_type": "error",
          "traceback": [
            "Error: sqlite3_statement_backend::prepare: no such table: favorite_movies while preparing \"SELECT *\n  FROM favorite_movies;\"."
          ]
        }
      ],
      "source": [
        "%%sql\n",
        "SELECT *\n",
        "  FROM favorite_movies;"
      ]
    },
    {
      "cell_type": "markdown",
      "id": "general-textbook",
      "metadata": {
        "id": "general-textbook"
      },
      "source": [
        "## 刪除資料庫\n",
        "\n",
        "- 中斷資料庫連線。\n",
        "- 從資料庫清單移除。\n",
        "- 從電腦中移除。"
      ]
    },
    {
      "cell_type": "markdown",
      "id": "abandoned-passion",
      "metadata": {
        "id": "abandoned-passion"
      },
      "source": [
        "## 重點統整\n",
        "\n",
        "- SQL 能夠對資料庫進行的操作不僅止於查詢 Read。\n",
        "- SQL 的組成可以分為四大部分\n",
        "    - **資料操作語言（Data Manipulation Language, DML）**\n",
        "    - **資料定義語言（Data Definition Language, DDL）**\n",
        "    - 資料控制語言（Data Control Language, DCL）\n",
        "    - 交易控制語言（Transaction Control Language, TCL）"
      ]
    },
    {
      "cell_type": "markdown",
      "id": "accepting-witch",
      "metadata": {
        "id": "accepting-witch"
      },
      "source": [
        "## 重點統整（續）\n",
        "\n",
        "- 與觀測值相關的 CRUD 屬於資料操作語言（Data Manipulation Language, DML）的範疇\n",
        "- 與資料表相關的 CRUD 屬於資料定義語言（Data Definition Language, DDL）的範疇"
      ]
    },
    {
      "cell_type": "markdown",
      "source": [
        "\n",
        "\n",
        "```sql\n",
        "/*截至目前學起來的 SQL 有哪些？\n",
        "SQL 寫作順序必須遵從標準 SQL 的規定。*/\n",
        "SELECT column_names     -- 選擇哪些欄位\n",
        "  FROM left_table       -- 從哪個資料庫的資料表\n",
        "  JOIN right_table      -- 與哪個資料表水平合併\n",
        "    ON left_table.join_key = right_table.join_key\n",
        " WHERE conditions       -- 篩選哪些觀測值\n",
        " GROUP BY column_names  -- 指定依照哪個變數分組\n",
        "HAVING conditions       -- 篩選哪些分組聚合的結果\n",
        " UNION SELECT statement -- 與哪段 SQL 垂直合併\n",
        " ORDER BY column_names  -- 指定依照哪個變數排序\n",
        " LIMIT m;               -- 查詢結果顯示前 m 列就好\n",
        "```\n",
        "\n"
      ],
      "metadata": {
        "id": "Hd8EglHk1xrV"
      },
      "id": "Hd8EglHk1xrV"
    },
    {
      "cell_type": "markdown",
      "source": [
        "\n",
        "\n",
        "```sql\n",
        "/*截至目前學起來的 SQL 有哪些？\n",
        "SQL 寫作順序必須遵從標準 SQL 的規定。*/\n",
        "CREATE VIEW database_name.view_name (column_names)\n",
        "    AS\n",
        "SELECT Statement;  -- 建立虛擬資料表\n",
        "DROP VIEW database_name.view_name;  -- 刪除虛擬資料表\n",
        "```\n",
        "\n"
      ],
      "metadata": {
        "id": "leD-t1_410vW"
      },
      "id": "leD-t1_410vW"
    },
    {
      "cell_type": "markdown",
      "source": [
        "\n",
        "\n",
        "```sql\n",
        "/*截至目前學起來的 SQL 有哪些？\n",
        "SQL 寫作順序必須遵從標準 SQL 的規定。*/\n",
        "CREATE TABLE database_name.table_name (\n",
        "    column_names COLUMN_TYPES\n",
        ");  -- 建立資料表\n",
        "INSERT INTO database.table_name (column_names)\n",
        "VALUES\n",
        "       (observations);  -- 建立觀測值\n",
        "UPDATE database_name.table_name\n",
        "   SET update_columns = update_values\n",
        " WHERE conditions;  -- 更新觀測值\n",
        "DELETE FROM database_name.table_name\n",
        " WHERE conditions;  -- 刪除觀測值\n",
        "DROP TABLE database_name.table_name;  -- 刪除資料表\n",
        "```\n",
        "\n"
      ],
      "metadata": {
        "id": "0EDfUzTt13d5"
      },
      "id": "0EDfUzTt13d5"
    }
  ],
  "metadata": {
    "celltoolbar": "Slideshow",
    "kernelspec": {
      "display_name": "xsql",
      "language": "sqlite",
      "name": "xsql"
    },
    "language_info": {
      "codemirror_mode": "sql",
      "file_extension": "",
      "mimetype": "",
      "name": "mysql",
      "version": "0.0.8"
    },
    "colab": {
      "provenance": [],
      "include_colab_link": true
    }
  },
  "nbformat": 4,
  "nbformat_minor": 5
}