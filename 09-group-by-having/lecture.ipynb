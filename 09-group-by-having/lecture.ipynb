{
  "cells": [
    {
      "cell_type": "markdown",
      "metadata": {
        "id": "view-in-github",
        "colab_type": "text"
      },
      "source": [
        "<a href=\"https://colab.research.google.com/github/ccwu0918/classroom-hahow-sqlfifty/blob/main/09-group-by-having/lecture.ipynb\" target=\"_parent\"><img src=\"https://colab.research.google.com/assets/colab-badge.svg\" alt=\"Open In Colab\"/></a>"
      ]
    },
    {
      "cell_type": "markdown",
      "id": "lightweight-fruit",
      "metadata": {
        "id": "lightweight-fruit"
      },
      "source": [
        "# SQL 的五十道練習\n",
        "\n",
        "> 分組與聚合結果篩選\n",
        "\n",
        "[數據交點](https://www.datainpoint.com/) | 郭耀仁 <yaojenkuo@datainpoint.com>"
      ]
    },
    {
      "cell_type": "markdown",
      "id": "olympic-brave",
      "metadata": {
        "id": "olympic-brave"
      },
      "source": [
        "## 這個章節要學起來的 SQL 保留字\n",
        "\n",
        "- `GROUP BY`\n",
        "- `HAVING`"
      ]
    },
    {
      "cell_type": "code",
      "source": [
        "!git clone https://github.com/ccwu0918/classroom-hahow-sqlfifty.git"
      ],
      "metadata": {
        "id": "Q93Vk9GKbVjj",
        "outputId": "fc4f6c45-5682-4bd8-fccb-cc9266548b1e",
        "colab": {
          "base_uri": "https://localhost:8080/"
        }
      },
      "execution_count": null,
      "outputs": [
        {
          "output_type": "stream",
          "name": "stdout",
          "text": [
            "Cloning into 'classroom-hahow-sqlfifty'...\n",
            "remote: Enumerating objects: 931, done.\u001b[K\n",
            "remote: Counting objects: 100% (182/182), done.\u001b[K\n",
            "remote: Compressing objects: 100% (152/152), done.\u001b[K\n",
            "remote: Total 931 (delta 100), reused 70 (delta 29), pack-reused 749\u001b[K\n",
            "Receiving objects: 100% (931/931), 69.00 MiB | 12.33 MiB/s, done.\n",
            "Resolving deltas: 100% (592/592), done.\n",
            "Updating files: 100% (130/130), done.\n"
          ]
        }
      ],
      "id": "Q93Vk9GKbVjj"
    },
    {
      "cell_type": "code",
      "source": [
        "%cd classroom-hahow-sqlfifty"
      ],
      "metadata": {
        "id": "HlcICLC8bloZ",
        "outputId": "3143f639-a33a-4b3f-93fc-22b7080ce2fb",
        "colab": {
          "base_uri": "https://localhost:8080/"
        }
      },
      "execution_count": null,
      "outputs": [
        {
          "output_type": "stream",
          "name": "stdout",
          "text": [
            "/content/classroom-hahow-sqlfifty/classroom-hahow-sqlfifty\n"
          ]
        }
      ],
      "id": "HlcICLC8bloZ"
    },
    {
      "cell_type": "code",
      "source": [
        "%load_ext sql"
      ],
      "metadata": {
        "id": "vLAGRoijcSb0",
        "outputId": "d119c029-cc2d-4617-d486-ebf4b2c9ef03",
        "colab": {
          "base_uri": "https://localhost:8080/"
        }
      },
      "execution_count": null,
      "outputs": [
        {
          "output_type": "stream",
          "name": "stdout",
          "text": [
            "The sql extension is already loaded. To reload it, use:\n",
            "  %reload_ext sql\n"
          ]
        }
      ],
      "id": "vLAGRoijcSb0"
    },
    {
      "cell_type": "code",
      "source": [
        "%sql sqlite:///./databases/imdb.db\n",
        "%sql ATTACH './databases/covid19.db' AS covid19\n",
        "%sql ATTACH './databases/twElection2020.db' AS twElection2020\n",
        "%sql ATTACH './databases/nba.db' AS nba"
      ],
      "metadata": {
        "id": "gCsaniX2cz6Z",
        "outputId": "bb50370c-1511-40e6-f3a3-20dd47cebdf9",
        "colab": {
          "base_uri": "https://localhost:8080/"
        }
      },
      "execution_count": null,
      "outputs": [
        {
          "output_type": "stream",
          "name": "stdout",
          "text": [
            " * sqlite:///./databases/nba.db\n",
            "(sqlite3.OperationalError) database covid19 is already in use\n",
            "[SQL: ATTACH './databases/covid19.db' AS covid19]\n",
            "(Background on this error at: https://sqlalche.me/e/20/e3q8)\n",
            " * sqlite:///./databases/nba.db\n",
            "(sqlite3.OperationalError) database twElection2020 is already in use\n",
            "[SQL: ATTACH './databases/twElection2020.db' AS twElection2020]\n",
            "(Background on this error at: https://sqlalche.me/e/20/e3q8)\n",
            " * sqlite:///./databases/nba.db\n",
            "(sqlite3.OperationalError) database imdb is already in use\n",
            "[SQL: ATTACH './databases/imdb.db' AS imdb]\n",
            "(Background on this error at: https://sqlalche.me/e/20/e3q8)\n"
          ]
        }
      ],
      "id": "gCsaniX2cz6Z"
    },
    {
      "cell_type": "markdown",
      "id": "supposed-spread",
      "metadata": {
        "id": "supposed-spread"
      },
      "source": [
        "## 以 `GROUP BY` 分組"
      ]
    },
    {
      "cell_type": "markdown",
      "id": "endless-sodium",
      "metadata": {
        "id": "endless-sodium"
      },
      "source": [
        "## 分組 `GROUP BY` 的功能可以視為 `DISTINCT` 與 `ORDER BY` 兩者同時作用\n",
        "\n",
        "```sql\n",
        "SELECT column_names\n",
        "  FROM table_name\n",
        " GROUP BY column_names;\n",
        "```"
      ]
    },
    {
      "cell_type": "markdown",
      "id": "unable-paraguay",
      "metadata": {
        "id": "unable-paraguay"
      },
      "source": [
        "## `DISTINCT` 與 `ORDER BY` 兩者同時作用"
      ]
    },
    {
      "cell_type": "code",
      "execution_count": null,
      "id": "loose-script",
      "metadata": {
        "id": "loose-script",
        "outputId": "f6405a4f-ddc0-43c0-ba12-0cc1c55057f4"
      },
      "outputs": [
        {
          "data": {
            "text/html": [
              "<table>\n",
              "<tr>\n",
              "<th>distinct_pos</th>\n",
              "</tr>\n",
              "<tr>\n",
              "<td>C</td>\n",
              "</tr>\n",
              "<tr>\n",
              "<td>C-F</td>\n",
              "</tr>\n",
              "<tr>\n",
              "<td>F</td>\n",
              "</tr>\n",
              "<tr>\n",
              "<td>F-C</td>\n",
              "</tr>\n",
              "<tr>\n",
              "<td>F-G</td>\n",
              "</tr>\n",
              "<tr>\n",
              "<td>G</td>\n",
              "</tr>\n",
              "<tr>\n",
              "<td>G-F</td>\n",
              "</tr>\n",
              "</table>\n",
              "7 rows in set (0.00 sec)"
            ],
            "text/plain": [
              "+--------------+\n",
              "| distinct_pos |\n",
              "+--------------+\n",
              "| C            |\n",
              "+--------------+\n",
              "| C-F          |\n",
              "+--------------+\n",
              "| F            |\n",
              "+--------------+\n",
              "| F-C          |\n",
              "+--------------+\n",
              "| F-G          |\n",
              "+--------------+\n",
              "| G            |\n",
              "+--------------+\n",
              "| G-F          |\n",
              "+--------------+\n",
              "7 rows in set (0.00 sec)"
            ]
          },
          "execution_count": 5,
          "metadata": {},
          "output_type": "execute_result"
        }
      ],
      "source": [
        "%%sql\n",
        "SELECT DISTINCT pos AS distinct_pos\n",
        "  FROM players\n",
        " ORDER BY distinct_pos;"
      ]
    },
    {
      "cell_type": "markdown",
      "id": "billion-ratio",
      "metadata": {
        "id": "billion-ratio"
      },
      "source": [
        "## 使用分組 `GROUP BY`"
      ]
    },
    {
      "cell_type": "code",
      "execution_count": null,
      "id": "annoying-milton",
      "metadata": {
        "id": "annoying-milton",
        "outputId": "824f6871-2758-49b4-976f-4caba461d6f3"
      },
      "outputs": [
        {
          "data": {
            "text/html": [
              "<table>\n",
              "<tr>\n",
              "<th>distinct_pos</th>\n",
              "</tr>\n",
              "<tr>\n",
              "<td>C</td>\n",
              "</tr>\n",
              "<tr>\n",
              "<td>C-F</td>\n",
              "</tr>\n",
              "<tr>\n",
              "<td>F</td>\n",
              "</tr>\n",
              "<tr>\n",
              "<td>F-C</td>\n",
              "</tr>\n",
              "<tr>\n",
              "<td>F-G</td>\n",
              "</tr>\n",
              "<tr>\n",
              "<td>G</td>\n",
              "</tr>\n",
              "<tr>\n",
              "<td>G-F</td>\n",
              "</tr>\n",
              "</table>\n",
              "7 rows in set (0.00 sec)"
            ],
            "text/plain": [
              "+--------------+\n",
              "| distinct_pos |\n",
              "+--------------+\n",
              "| C            |\n",
              "+--------------+\n",
              "| C-F          |\n",
              "+--------------+\n",
              "| F            |\n",
              "+--------------+\n",
              "| F-C          |\n",
              "+--------------+\n",
              "| F-G          |\n",
              "+--------------+\n",
              "| G            |\n",
              "+--------------+\n",
              "| G-F          |\n",
              "+--------------+\n",
              "7 rows in set (0.00 sec)"
            ]
          },
          "execution_count": 6,
          "metadata": {},
          "output_type": "execute_result"
        }
      ],
      "source": [
        "%%sql\n",
        "SELECT pos AS distinct_pos\n",
        "  FROM players\n",
        " GROUP BY pos;"
      ]
    },
    {
      "cell_type": "markdown",
      "id": "olympic-advertiser",
      "metadata": {
        "id": "olympic-advertiser"
      },
      "source": [
        "## 在「函數」的章節，我們介紹過一種「用來彙總資訊」的函數，稱為聚合函數（Aggregate functions）\n",
        "\n",
        "單獨使用聚合函數的時候，是將一整欄變數的資訊彙總後輸出"
      ]
    },
    {
      "cell_type": "code",
      "execution_count": null,
      "id": "instrumental-dinner",
      "metadata": {
        "id": "instrumental-dinner",
        "outputId": "f88c1d6f-3a9c-42c4-b736-d44c1c89fd12"
      },
      "outputs": [
        {
          "data": {
            "text/html": [
              "<table>\n",
              "<tr>\n",
              "<th>height_meters_avg</th>\n",
              "</tr>\n",
              "<tr>\n",
              "<td>1.989173553719</td>\n",
              "</tr>\n",
              "</table>\n",
              "1 row in set (0.00 sec)"
            ],
            "text/plain": [
              "+-------------------+\n",
              "| height_meters_avg |\n",
              "+-------------------+\n",
              "| 1.989173553719    |\n",
              "+-------------------+\n",
              "1 row in set (0.00 sec)"
            ]
          },
          "execution_count": 7,
          "metadata": {},
          "output_type": "execute_result"
        }
      ],
      "source": [
        "%%sql\n",
        "SELECT AVG(heightMeters) AS height_meters_avg  -- 所有球員的平均身高\n",
        "  FROM players;"
      ]
    },
    {
      "cell_type": "markdown",
      "id": "declared-pendant",
      "metadata": {
        "id": "declared-pendant"
      },
      "source": [
        "## 假如現在希望計算不同 `pos`（鋒衛位置）的球員平均身高，現在我們會怎麼做？\n",
        "\n",
        "- 先知道有哪些鋒衛位置。\n",
        "- 篩選不同鋒衛位置的球員，一一計算平均身高。"
      ]
    },
    {
      "cell_type": "code",
      "execution_count": null,
      "id": "wooden-humanity",
      "metadata": {
        "id": "wooden-humanity",
        "outputId": "ad83ca1e-9883-4a17-94e7-82471113b514"
      },
      "outputs": [
        {
          "data": {
            "text/html": [
              "<table>\n",
              "<tr>\n",
              "<th>pos</th>\n",
              "</tr>\n",
              "<tr>\n",
              "<td>F</td>\n",
              "</tr>\n",
              "<tr>\n",
              "<td>C-F</td>\n",
              "</tr>\n",
              "<tr>\n",
              "<td>G-F</td>\n",
              "</tr>\n",
              "<tr>\n",
              "<td>G</td>\n",
              "</tr>\n",
              "<tr>\n",
              "<td>F-G</td>\n",
              "</tr>\n",
              "<tr>\n",
              "<td>C</td>\n",
              "</tr>\n",
              "<tr>\n",
              "<td>F-C</td>\n",
              "</tr>\n",
              "</table>\n",
              "7 rows in set (0.00 sec)"
            ],
            "text/plain": [
              "+-----+\n",
              "| pos |\n",
              "+-----+\n",
              "| F   |\n",
              "+-----+\n",
              "| C-F |\n",
              "+-----+\n",
              "| G-F |\n",
              "+-----+\n",
              "| G   |\n",
              "+-----+\n",
              "| F-G |\n",
              "+-----+\n",
              "| C   |\n",
              "+-----+\n",
              "| F-C |\n",
              "+-----+\n",
              "7 rows in set (0.00 sec)"
            ]
          },
          "execution_count": 8,
          "metadata": {},
          "output_type": "execute_result"
        }
      ],
      "source": [
        "%%sql\n",
        "SELECT DISTINCT pos  -- 先知道有哪些鋒衛位置\n",
        "  FROM players;"
      ]
    },
    {
      "cell_type": "markdown",
      "id": "local-proceeding",
      "metadata": {
        "id": "local-proceeding"
      },
      "source": [
        "## 篩選不同鋒衛位置的球員，一一計算平均身高\n",
        "\n",
        "```sql\n",
        "SELECT AVG(heightMeters) AS forward_avg_height_meters\n",
        "  FROM players\n",
        " WHERE pos = 'F';\n",
        "SELECT AVG(heightMeters) AS center_forward_avg_height_meters\n",
        "  FROM players\n",
        " WHERE pos = 'C-F';\n",
        "SELECT AVG(heightMeters) AS guard_forward_avg_height_meters\n",
        "  FROM players\n",
        " WHERE pos = 'G-F';\n",
        "-- 繼續篩選剩餘的四個鋒衛位置...\n",
        "```"
      ]
    },
    {
      "cell_type": "markdown",
      "id": "korean-crossing",
      "metadata": {
        "id": "korean-crossing"
      },
      "source": [
        "## 這不是一個聰明的辦法，萬一用來當作篩選條件欄位有很多的獨一值該怎麼辦呢？"
      ]
    },
    {
      "cell_type": "code",
      "execution_count": null,
      "id": "apparent-vacation",
      "metadata": {
        "id": "apparent-vacation",
        "outputId": "63b3db0d-9124-4f1d-84cc-65d919b5aa6d"
      },
      "outputs": [
        {
          "data": {
            "text/html": [
              "<table>\n",
              "<tr>\n",
              "<th>number_of_dist_countries</th>\n",
              "</tr>\n",
              "<tr>\n",
              "<td>43</td>\n",
              "</tr>\n",
              "</table>\n",
              "1 row in set (0.00 sec)"
            ],
            "text/plain": [
              "+--------------------------+\n",
              "| number_of_dist_countries |\n",
              "+--------------------------+\n",
              "| 43                       |\n",
              "+--------------------------+\n",
              "1 row in set (0.00 sec)"
            ]
          },
          "execution_count": 9,
          "metadata": {},
          "output_type": "execute_result"
        }
      ],
      "source": [
        "%%sql\n",
        "SELECT COUNT(DISTINCT country) AS number_of_dist_countries  -- 球員的國籍\n",
        "  FROM players;"
      ]
    },
    {
      "cell_type": "markdown",
      "id": "weird-houston",
      "metadata": {
        "id": "weird-houston"
      },
      "source": [
        "## 結合聚合函數與 `GROUP BY` 可以便捷地完成分組聚合\n",
        "\n",
        "```sql\n",
        "SELECT AGGREGATE_FUNCTION(column_names) AS alias\n",
        "  FROM table_name\n",
        " GROUP BY column_names;\n",
        "```\n",
        "\n",
        "![group by](https://github.com/ccwu0918/classroom-hahow-sqlfifty/blob/main/09-group-by-having/group_by.png?raw=1)"
      ]
    },
    {
      "cell_type": "code",
      "execution_count": null,
      "id": "three-pressure",
      "metadata": {
        "id": "three-pressure",
        "outputId": "8f4d36dc-acd4-4f6f-f588-29c2136ccac6"
      },
      "outputs": [
        {
          "data": {
            "text/html": [
              "<table>\n",
              "<tr>\n",
              "<th>pos</th>\n",
              "<th>avg_height_meters</th>\n",
              "</tr>\n",
              "<tr>\n",
              "<td>C</td>\n",
              "<td>2.12</td>\n",
              "</tr>\n",
              "<tr>\n",
              "<td>C-F</td>\n",
              "<td>2.1</td>\n",
              "</tr>\n",
              "<tr>\n",
              "<td>F</td>\n",
              "<td>2.02</td>\n",
              "</tr>\n",
              "<tr>\n",
              "<td>F-C</td>\n",
              "<td>2.08</td>\n",
              "</tr>\n",
              "<tr>\n",
              "<td>F-G</td>\n",
              "<td>2.0</td>\n",
              "</tr>\n",
              "<tr>\n",
              "<td>G</td>\n",
              "<td>1.91</td>\n",
              "</tr>\n",
              "<tr>\n",
              "<td>G-F</td>\n",
              "<td>1.98</td>\n",
              "</tr>\n",
              "</table>\n",
              "7 rows in set (0.00 sec)"
            ],
            "text/plain": [
              "+-----+-------------------+\n",
              "| pos | avg_height_meters |\n",
              "+-----+-------------------+\n",
              "| C   | 2.12              |\n",
              "+-----+-------------------+\n",
              "| C-F | 2.1               |\n",
              "+-----+-------------------+\n",
              "| F   | 2.02              |\n",
              "+-----+-------------------+\n",
              "| F-C | 2.08              |\n",
              "+-----+-------------------+\n",
              "| F-G | 2.0               |\n",
              "+-----+-------------------+\n",
              "| G   | 1.91              |\n",
              "+-----+-------------------+\n",
              "| G-F | 1.98              |\n",
              "+-----+-------------------+\n",
              "7 rows in set (0.00 sec)"
            ]
          },
          "execution_count": 10,
          "metadata": {},
          "output_type": "execute_result"
        }
      ],
      "source": [
        "%%sql\n",
        "SELECT pos,\n",
        "       ROUND(AVG(heightMeters), 2) AS avg_height_meters\n",
        "  FROM players\n",
        " GROUP BY pos;  -- 計算不同 pos（鋒衛位置）的球員平均身高"
      ]
    },
    {
      "cell_type": "code",
      "execution_count": null,
      "id": "expanded-alert",
      "metadata": {
        "id": "expanded-alert",
        "outputId": "acd3c6a1-0a07-44aa-b20f-c6cc8664658f"
      },
      "outputs": [
        {
          "data": {
            "text/html": [
              "<table>\n",
              "<tr>\n",
              "<th>country</th>\n",
              "<th>avg_height_meters</th>\n",
              "</tr>\n",
              "<tr>\n",
              "<td>Angola</td>\n",
              "<td>2.06</td>\n",
              "</tr>\n",
              "<tr>\n",
              "<td>Argentina</td>\n",
              "<td>1.78</td>\n",
              "</tr>\n",
              "<tr>\n",
              "<td>Australia</td>\n",
              "<td>1.98</td>\n",
              "</tr>\n",
              "<tr>\n",
              "<td>Austria</td>\n",
              "<td>2.16</td>\n",
              "</tr>\n",
              "<tr>\n",
              "<td>Bahamas</td>\n",
              "<td>2.02</td>\n",
              "</tr>\n",
              "</table>\n",
              "5 rows in set (0.00 sec)"
            ],
            "text/plain": [
              "+-----------+-------------------+\n",
              "| country   | avg_height_meters |\n",
              "+-----------+-------------------+\n",
              "| Angola    | 2.06              |\n",
              "+-----------+-------------------+\n",
              "| Argentina | 1.78              |\n",
              "+-----------+-------------------+\n",
              "| Australia | 1.98              |\n",
              "+-----------+-------------------+\n",
              "| Austria   | 2.16              |\n",
              "+-----------+-------------------+\n",
              "| Bahamas   | 2.02              |\n",
              "+-----------+-------------------+\n",
              "5 rows in set (0.00 sec)"
            ]
          },
          "execution_count": 11,
          "metadata": {},
          "output_type": "execute_result"
        }
      ],
      "source": [
        "%%sql\n",
        "SELECT country,\n",
        "       ROUND(AVG(heightMeters), 2) AS avg_height_meters\n",
        "  FROM players\n",
        " GROUP BY country  -- 計算不同國籍球員平均身高\n",
        " LIMIT 5;"
      ]
    },
    {
      "cell_type": "markdown",
      "id": "fatal-capital",
      "metadata": {
        "id": "fatal-capital"
      },
      "source": [
        "## `GROUP BY` 可以加入不只一個變數"
      ]
    },
    {
      "cell_type": "code",
      "execution_count": null,
      "id": "expensive-studio",
      "metadata": {
        "id": "expensive-studio",
        "outputId": "3378e906-7817-4659-8f45-ca7cdc765415"
      },
      "outputs": [
        {
          "data": {
            "text/html": [
              "<table>\n",
              "<tr>\n",
              "<th>pos</th>\n",
              "<th>country</th>\n",
              "<th>avg_height_meters</th>\n",
              "</tr>\n",
              "<tr>\n",
              "<td>C</td>\n",
              "<td>Australia</td>\n",
              "<td>2.08</td>\n",
              "</tr>\n",
              "<tr>\n",
              "<td>C</td>\n",
              "<td>Austria</td>\n",
              "<td>2.16</td>\n",
              "</tr>\n",
              "<tr>\n",
              "<td>C</td>\n",
              "<td>Bahamas</td>\n",
              "<td>2.11</td>\n",
              "</tr>\n",
              "<tr>\n",
              "<td>C</td>\n",
              "<td>Bosnia and Herzegovina</td>\n",
              "<td>2.11</td>\n",
              "</tr>\n",
              "<tr>\n",
              "<td>C</td>\n",
              "<td>Canada</td>\n",
              "<td>2.06</td>\n",
              "</tr>\n",
              "</table>\n",
              "5 rows in set (0.00 sec)"
            ],
            "text/plain": [
              "+-----+------------------------+-------------------+\n",
              "| pos | country                | avg_height_meters |\n",
              "+-----+------------------------+-------------------+\n",
              "| C   | Australia              | 2.08              |\n",
              "+-----+------------------------+-------------------+\n",
              "| C   | Austria                | 2.16              |\n",
              "+-----+------------------------+-------------------+\n",
              "| C   | Bahamas                | 2.11              |\n",
              "+-----+------------------------+-------------------+\n",
              "| C   | Bosnia and Herzegovina | 2.11              |\n",
              "+-----+------------------------+-------------------+\n",
              "| C   | Canada                 | 2.06              |\n",
              "+-----+------------------------+-------------------+\n",
              "5 rows in set (0.00 sec)"
            ]
          },
          "execution_count": 12,
          "metadata": {},
          "output_type": "execute_result"
        }
      ],
      "source": [
        "%%sql\n",
        "SELECT pos,\n",
        "       country,\n",
        "       ROUND(AVG(heightMeters), 2) AS avg_height_meters\n",
        "  FROM players\n",
        " GROUP BY pos,\n",
        "          country\n",
        " LIMIT 5;"
      ]
    },
    {
      "cell_type": "markdown",
      "id": "existing-integrity",
      "metadata": {
        "id": "existing-integrity"
      },
      "source": [
        "## 以 `HAVING` 篩選分組聚合結果"
      ]
    },
    {
      "cell_type": "markdown",
      "id": "humanitarian-undergraduate",
      "metadata": {
        "id": "humanitarian-undergraduate"
      },
      "source": [
        "## 用來篩選資料的兩種方式：\n",
        "\n",
        "1. 作用在「觀測值」的 `WHERE`。\n",
        "2. 作用在「分組聚合結果」的 `HAVING`。"
      ]
    },
    {
      "cell_type": "markdown",
      "id": "graphic-collar",
      "metadata": {
        "id": "graphic-collar"
      },
      "source": [
        "## 作用在「分組聚合結果」的 `HAVING`\n",
        "\n",
        "```sql\n",
        "SELECT AGGREGATE_FUNCTION(column_names) AS alias\n",
        "  FROM table_name\n",
        " GROUP BY column_names\n",
        "HAVING conditions;\n",
        "```"
      ]
    },
    {
      "cell_type": "code",
      "execution_count": null,
      "id": "defined-beach",
      "metadata": {
        "id": "defined-beach",
        "outputId": "2ff64a20-6f27-403a-ecc2-9a7239e4fce6"
      },
      "outputs": [
        {
          "data": {
            "text/html": [
              "<table>\n",
              "<tr>\n",
              "<th>pos</th>\n",
              "<th>avg_height_meters</th>\n",
              "</tr>\n",
              "<tr>\n",
              "<td>C</td>\n",
              "<td>2.12</td>\n",
              "</tr>\n",
              "<tr>\n",
              "<td>C-F</td>\n",
              "<td>2.1</td>\n",
              "</tr>\n",
              "<tr>\n",
              "<td>F</td>\n",
              "<td>2.02</td>\n",
              "</tr>\n",
              "<tr>\n",
              "<td>F-C</td>\n",
              "<td>2.08</td>\n",
              "</tr>\n",
              "<tr>\n",
              "<td>F-G</td>\n",
              "<td>2.0</td>\n",
              "</tr>\n",
              "</table>\n",
              "5 rows in set (0.00 sec)"
            ],
            "text/plain": [
              "+-----+-------------------+\n",
              "| pos | avg_height_meters |\n",
              "+-----+-------------------+\n",
              "| C   | 2.12              |\n",
              "+-----+-------------------+\n",
              "| C-F | 2.1               |\n",
              "+-----+-------------------+\n",
              "| F   | 2.02              |\n",
              "+-----+-------------------+\n",
              "| F-C | 2.08              |\n",
              "+-----+-------------------+\n",
              "| F-G | 2.0               |\n",
              "+-----+-------------------+\n",
              "5 rows in set (0.00 sec)"
            ]
          },
          "execution_count": 13,
          "metadata": {},
          "output_type": "execute_result"
        }
      ],
      "source": [
        "%%sql\n",
        "SELECT pos,\n",
        "       ROUND(AVG(heightMeters), 2) AS avg_height_meters\n",
        "  FROM players\n",
        " GROUP BY pos\n",
        "HAVING AVG(heightMeters) >= 2;  -- 篩選平均身高大於 2 公尺的 pos（鋒衛位置）"
      ]
    },
    {
      "cell_type": "code",
      "execution_count": null,
      "id": "entitled-synthesis",
      "metadata": {
        "id": "entitled-synthesis",
        "outputId": "c56ae933-cb88-4981-ce4a-afdf07ede59d"
      },
      "outputs": [
        {
          "data": {
            "text/html": [
              "<table>\n",
              "<tr>\n",
              "<th>pos</th>\n",
              "<th>avg_height_meters</th>\n",
              "</tr>\n",
              "<tr>\n",
              "<td>C</td>\n",
              "<td>2.12</td>\n",
              "</tr>\n",
              "<tr>\n",
              "<td>C-F</td>\n",
              "<td>2.1</td>\n",
              "</tr>\n",
              "<tr>\n",
              "<td>F</td>\n",
              "<td>2.04</td>\n",
              "</tr>\n",
              "<tr>\n",
              "<td>F-C</td>\n",
              "<td>2.08</td>\n",
              "</tr>\n",
              "<tr>\n",
              "<td>F-G</td>\n",
              "<td>2.03</td>\n",
              "</tr>\n",
              "<tr>\n",
              "<td>G</td>\n",
              "<td>2.02</td>\n",
              "</tr>\n",
              "<tr>\n",
              "<td>G-F</td>\n",
              "<td>2.03</td>\n",
              "</tr>\n",
              "</table>\n",
              "7 rows in set (0.00 sec)"
            ],
            "text/plain": [
              "+-----+-------------------+\n",
              "| pos | avg_height_meters |\n",
              "+-----+-------------------+\n",
              "| C   | 2.12              |\n",
              "+-----+-------------------+\n",
              "| C-F | 2.1               |\n",
              "+-----+-------------------+\n",
              "| F   | 2.04              |\n",
              "+-----+-------------------+\n",
              "| F-C | 2.08              |\n",
              "+-----+-------------------+\n",
              "| F-G | 2.03              |\n",
              "+-----+-------------------+\n",
              "| G   | 2.02              |\n",
              "+-----+-------------------+\n",
              "| G-F | 2.03              |\n",
              "+-----+-------------------+\n",
              "7 rows in set (0.00 sec)"
            ]
          },
          "execution_count": 14,
          "metadata": {},
          "output_type": "execute_result"
        }
      ],
      "source": [
        "%%sql\n",
        "SELECT pos,\n",
        "       ROUND(AVG(heightMeters), 2) AS avg_height_meters\n",
        "  FROM players\n",
        " WHERE heightMeters >= 2 -- 篩選身高大於 2 公尺的球員\n",
        " GROUP BY pos;"
      ]
    },
    {
      "cell_type": "markdown",
      "id": "understanding-sudan",
      "metadata": {
        "id": "understanding-sudan"
      },
      "source": [
        "## 重點統整\n",
        "\n",
        "- 分組 `GROUP BY` 可以視為 `DISTINCT` 與 `ORDER BY` 兩者同時作用。\n",
        "- 結合聚合函數與 `GROUP BY` 可以便捷地完成分組聚合。\n",
        "- 以 `HAVING` 篩選分組聚合結果。"
      ]
    },
    {
      "cell_type": "markdown",
      "id": "employed-thousand",
      "metadata": {
        "id": "employed-thousand"
      },
      "source": [
        "```sql\n",
        "/*截至目前學起來的 SQL 有哪些？\n",
        "SQL 寫作順序必須遵從標準 SQL 的規定。*/\n",
        "SELECT column_names     -- 選擇哪些欄位\n",
        "  FROM table_name       -- 從哪個資料庫的資料表\n",
        " WHERE conditions       -- 篩選哪些觀測值\n",
        " GROUP BY column_names  -- 指定依照哪個變數分組\n",
        "HAVING conditions       -- 篩選哪些分組聚合的結果\n",
        " ORDER BY column_names  -- 指定依照哪個變數排序\n",
        " LIMIT m;               -- 查詢結果顯示前 m 列就好\n",
        "```"
      ]
    }
  ],
  "metadata": {
    "celltoolbar": "Slideshow",
    "kernelspec": {
      "display_name": "xsql",
      "language": "sqlite",
      "name": "xsql"
    },
    "language_info": {
      "codemirror_mode": "sql",
      "file_extension": "",
      "mimetype": "",
      "name": "mysql",
      "version": "0.0.8"
    },
    "colab": {
      "provenance": [],
      "include_colab_link": true
    }
  },
  "nbformat": 4,
  "nbformat_minor": 5
}