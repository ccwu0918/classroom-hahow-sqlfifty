{
  "cells": [
    {
      "cell_type": "markdown",
      "metadata": {
        "id": "view-in-github",
        "colab_type": "text"
      },
      "source": [
        "<a href=\"https://colab.research.google.com/github/ccwu0918/classroom-hahow-sqlfifty/blob/main/01-introduction/lecture.ipynb\" target=\"_parent\"><img src=\"https://colab.research.google.com/assets/colab-badge.svg\" alt=\"Open In Colab\"/></a>"
      ]
    },
    {
      "cell_type": "markdown",
      "id": "lightweight-fruit",
      "metadata": {
        "id": "lightweight-fruit"
      },
      "source": [
        "# SQL 的五十道練習\n",
        "\n",
        "> 簡介\n",
        "\n",
        "[數據交點](https://www.datainpoint.com/) | 郭耀仁 <yaojenkuo@datainpoint.com>"
      ]
    },
    {
      "cell_type": "code",
      "source": [
        "!git clone https://github.com/ccwu0918/classroom-hahow-sqlfifty.git"
      ],
      "metadata": {
        "id": "wEIm5XeFXGr4",
        "outputId": "7ac9342c-82b2-4062-b858-55ccace0f2b8",
        "colab": {
          "base_uri": "https://localhost:8080/"
        }
      },
      "id": "wEIm5XeFXGr4",
      "execution_count": 1,
      "outputs": [
        {
          "output_type": "stream",
          "name": "stdout",
          "text": [
            "Cloning into 'classroom-hahow-sqlfifty'...\n",
            "remote: Enumerating objects: 899, done.\u001b[K\n",
            "remote: Counting objects: 100% (150/150), done.\u001b[K\n",
            "remote: Compressing objects: 100% (120/120), done.\u001b[K\n",
            "remote: Total 899 (delta 79), reused 70 (delta 29), pack-reused 749\u001b[K\n",
            "Receiving objects: 100% (899/899), 68.98 MiB | 15.51 MiB/s, done.\n",
            "Resolving deltas: 100% (571/571), done.\n",
            "Updating files: 100% (130/130), done.\n"
          ]
        }
      ]
    },
    {
      "cell_type": "code",
      "source": [
        "%cd classroom-hahow-sqlfifty"
      ],
      "metadata": {
        "id": "QSWdXQuoXwMq",
        "outputId": "577c3fe4-4891-43bb-d63f-6dfddd27845b",
        "colab": {
          "base_uri": "https://localhost:8080/"
        }
      },
      "id": "QSWdXQuoXwMq",
      "execution_count": 3,
      "outputs": [
        {
          "output_type": "stream",
          "name": "stdout",
          "text": [
            "/content/classroom-hahow-sqlfifty\n"
          ]
        }
      ]
    },
    {
      "cell_type": "code",
      "execution_count": 4,
      "id": "textile-inquiry",
      "metadata": {
        "id": "textile-inquiry"
      },
      "outputs": [],
      "source": [
        "import sqlite3\n",
        "import numpy as np\n",
        "import pandas as pd"
      ]
    },
    {
      "cell_type": "markdown",
      "id": "supposed-spread",
      "metadata": {
        "id": "supposed-spread"
      },
      "source": [
        "## 什麼是 SQL？"
      ]
    },
    {
      "cell_type": "markdown",
      "id": "legal-martial",
      "metadata": {
        "id": "legal-martial"
      },
      "source": [
        "## SQL（發音為 ess-que-ell 或 sequel）全名為 Structured Query Language，是一個能夠針對資料庫進行「資料操作」的語言。"
      ]
    },
    {
      "cell_type": "markdown",
      "id": "d594f5b1",
      "metadata": {
        "id": "d594f5b1"
      },
      "source": [
        "## SQL 按照使用目的可以再細分為三類\n",
        "\n",
        "1. **資料操作語言**（Data Manipulation Language, DML）\n",
        "2. 資料定義語言（Data Definition Language, DDL）\n",
        "3. 資料控制語言（Data Control Language, DCL）"
      ]
    },
    {
      "cell_type": "markdown",
      "id": "79e8e8bd",
      "metadata": {
        "id": "79e8e8bd"
      },
      "source": [
        "## 解釋定義中出現的名詞\n",
        "\n",
        "- 什麼是**資料操作**？\n",
        "- 什麼是資料庫？\n",
        "- 什麼是資料庫管理系統？"
      ]
    },
    {
      "cell_type": "markdown",
      "id": "radio-istanbul",
      "metadata": {
        "id": "radio-istanbul"
      },
      "source": [
        "## 「資料操作」涵蓋了 CRUD 這四個動詞：\n",
        "\n",
        "- 創造 **C**reate\n",
        "- 查詢 **R**ead\n",
        "- 更新 **U**pdate\n",
        "- 刪除 **D**elete"
      ]
    },
    {
      "cell_type": "markdown",
      "id": "plastic-northeast",
      "metadata": {
        "id": "plastic-northeast"
      },
      "source": [
        "## 舉例來說，在使用任何的網頁或手機應用程式時，我們的滑鼠點擊與手勢觸控都會被轉換成 CRUD：\n",
        "\n",
        "- 創造 **C**reate：發佈新的動態。\n",
        "- 查詢 **R**ead：瀏覽追蹤對象的動態。\n",
        "- 更新 **U**pdate：編輯先前發佈動態的內容。\n",
        "- 刪除 **D**elete：撤掉先前所發佈的動態。"
      ]
    },
    {
      "cell_type": "markdown",
      "id": "tribal-photographer",
      "metadata": {
        "id": "tribal-photographer"
      },
      "source": [
        "## 為什麼要學習 SQL？\n",
        "\n",
        "SQL 是一個歷久彌新的語言，早於 1970 年代問世，50 年後今日仍然是資料科學與軟體開發從業者最重要的技能之一。"
      ]
    },
    {
      "cell_type": "markdown",
      "id": "brave-march",
      "metadata": {
        "id": "brave-march"
      },
      "source": [
        "## 2021 Kaggle ML&DS Survey 中 SQL 在資料科學家日常使用語言中排名第二。\n",
        "\n",
        "![](https://github.com/ccwu0918/classroom-hahow-sqlfifty/blob/main/01-introduction/ranked_2nd.png?raw=1)\n",
        "\n",
        "來源：<https://www.kaggle.com/yaojenkuo/analyzing-kaggle-survey-in-a-more-structured-way>"
      ]
    },
    {
      "cell_type": "markdown",
      "id": "ca1b5b11",
      "metadata": {
        "id": "ca1b5b11"
      },
      "source": [
        "## 2021 Kaggle ML&DS Survey 中 SQL 在資料科學家推薦學習語言中排名第三。\n",
        "\n",
        "![](https://github.com/ccwu0918/classroom-hahow-sqlfifty/blob/main/01-introduction/ranked_3rd.png?raw=1)\n",
        "\n",
        "來源：<https://www.kaggle.com/yaojenkuo/analyzing-kaggle-survey-in-a-more-structured-way>"
      ]
    },
    {
      "cell_type": "markdown",
      "id": "positive-cheat",
      "metadata": {
        "id": "positive-cheat"
      },
      "source": [
        "## Stack Overflow 2021 Developer Survey 中 SQL 在軟體工程師受歡迎技術中排名第四。\n",
        "\n",
        "![](https://github.com/ccwu0918/classroom-hahow-sqlfifty/blob/main/01-introduction/ranked_4th.png?raw=1)\n",
        "\n",
        "來源：<https://insights.stackoverflow.com/survey/2021>"
      ]
    },
    {
      "cell_type": "markdown",
      "id": "selective-poultry",
      "metadata": {
        "id": "selective-poultry"
      },
      "source": [
        "## 解釋定義中出現的名詞（續）\n",
        "\n",
        "- 什麼是資料操作？\n",
        "- 什麼是**資料庫**？\n",
        "- 什麼是資料庫管理系統？"
      ]
    },
    {
      "cell_type": "markdown",
      "id": "e7e3a765",
      "metadata": {
        "id": "e7e3a765"
      },
      "source": [
        "## 什麼是資料庫？"
      ]
    },
    {
      "cell_type": "markdown",
      "id": "opponent-volunteer",
      "metadata": {
        "id": "opponent-volunteer"
      },
      "source": [
        "## 資料庫（Database）是儲存在電腦中的資料集合，我們可以透過撰寫 SQL 有效率地對資料庫中的數據進行「資料操作」。"
      ]
    },
    {
      "cell_type": "markdown",
      "id": "hollow-immune",
      "metadata": {
        "id": "hollow-immune"
      },
      "source": [
        "## 什麼樣的資料集合能夠格被稱為資料庫呢？"
      ]
    },
    {
      "cell_type": "markdown",
      "id": "adult-reservoir",
      "metadata": {
        "id": "adult-reservoir"
      },
      "source": [
        "## 具有兩個特徵的資料集合被稱為資料庫：\n",
        "\n",
        "1. 觀測值必須具有屬性。\n",
        "2. 資料集合必須具備有元資料（Metadata）。"
      ]
    },
    {
      "cell_type": "code",
      "execution_count": 5,
      "id": "quantitative-integer",
      "metadata": {
        "id": "quantitative-integer"
      },
      "outputs": [],
      "source": [
        "def show_without_attributes():\n",
        "    conn = sqlite3.connect('./databases/imdb.db')\n",
        "    df = pd.read_sql(\"\"\"SELECT * FROM movies LIMIT 5;\"\"\", conn)\n",
        "    return df.loc[:, ].values"
      ]
    },
    {
      "cell_type": "markdown",
      "id": "tracked-adjustment",
      "metadata": {
        "id": "tracked-adjustment"
      },
      "source": [
        "## 不具有屬性的資料觀測值"
      ]
    },
    {
      "cell_type": "code",
      "execution_count": 6,
      "id": "bound-compression",
      "metadata": {
        "id": "bound-compression",
        "outputId": "9fb7bcdf-eb48-4226-b353-df586345b27c",
        "colab": {
          "base_uri": "https://localhost:8080/"
        }
      },
      "outputs": [
        {
          "output_type": "execute_result",
          "data": {
            "text/plain": [
              "array([[1, 'The Shawshank Redemption', 1994, 9.3, 'Frank Darabont', 142],\n",
              "       [2, 'The Godfather', 1972, 9.2, 'Francis Ford Coppola', 175],\n",
              "       [3, 'The Godfather: Part II', 1974, 9.0, 'Francis Ford Coppola',\n",
              "        202],\n",
              "       [4, 'The Dark Knight', 2008, 9.0, 'Christopher Nolan', 152],\n",
              "       [5, '12 Angry Men', 1957, 9.0, 'Sidney Lumet', 96]], dtype=object)"
            ]
          },
          "metadata": {},
          "execution_count": 6
        }
      ],
      "source": [
        "show_without_attributes()"
      ]
    },
    {
      "cell_type": "markdown",
      "id": "pending-overall",
      "metadata": {
        "id": "pending-overall"
      },
      "source": [
        "## 具有屬性的資料觀測值"
      ]
    },
    {
      "cell_type": "code",
      "execution_count": 8,
      "id": "hungarian-thong",
      "metadata": {
        "id": "hungarian-thong"
      },
      "outputs": [],
      "source": [
        "def show_with_attributes():\n",
        "    conn = sqlite3.connect('./databases/imdb.db')\n",
        "    df = pd.read_sql(\"\"\"SELECT * FROM movies LIMIT 5;\"\"\", conn)\n",
        "    return df"
      ]
    },
    {
      "cell_type": "code",
      "execution_count": 9,
      "id": "vital-planet",
      "metadata": {
        "id": "vital-planet",
        "outputId": "e34922ac-b612-46d4-e234-3cc6cbcac785",
        "colab": {
          "base_uri": "https://localhost:8080/",
          "height": 206
        }
      },
      "outputs": [
        {
          "output_type": "execute_result",
          "data": {
            "text/plain": [
              "   id                     title  release_year  rating              director  \\\n",
              "0   1  The Shawshank Redemption          1994     9.3        Frank Darabont   \n",
              "1   2             The Godfather          1972     9.2  Francis Ford Coppola   \n",
              "2   3    The Godfather: Part II          1974     9.0  Francis Ford Coppola   \n",
              "3   4           The Dark Knight          2008     9.0     Christopher Nolan   \n",
              "4   5              12 Angry Men          1957     9.0          Sidney Lumet   \n",
              "\n",
              "   runtime  \n",
              "0      142  \n",
              "1      175  \n",
              "2      202  \n",
              "3      152  \n",
              "4       96  "
            ],
            "text/html": [
              "\n",
              "  <div id=\"df-f15abc47-a586-47c3-b525-d8a9f167c12a\" class=\"colab-df-container\">\n",
              "    <div>\n",
              "<style scoped>\n",
              "    .dataframe tbody tr th:only-of-type {\n",
              "        vertical-align: middle;\n",
              "    }\n",
              "\n",
              "    .dataframe tbody tr th {\n",
              "        vertical-align: top;\n",
              "    }\n",
              "\n",
              "    .dataframe thead th {\n",
              "        text-align: right;\n",
              "    }\n",
              "</style>\n",
              "<table border=\"1\" class=\"dataframe\">\n",
              "  <thead>\n",
              "    <tr style=\"text-align: right;\">\n",
              "      <th></th>\n",
              "      <th>id</th>\n",
              "      <th>title</th>\n",
              "      <th>release_year</th>\n",
              "      <th>rating</th>\n",
              "      <th>director</th>\n",
              "      <th>runtime</th>\n",
              "    </tr>\n",
              "  </thead>\n",
              "  <tbody>\n",
              "    <tr>\n",
              "      <th>0</th>\n",
              "      <td>1</td>\n",
              "      <td>The Shawshank Redemption</td>\n",
              "      <td>1994</td>\n",
              "      <td>9.3</td>\n",
              "      <td>Frank Darabont</td>\n",
              "      <td>142</td>\n",
              "    </tr>\n",
              "    <tr>\n",
              "      <th>1</th>\n",
              "      <td>2</td>\n",
              "      <td>The Godfather</td>\n",
              "      <td>1972</td>\n",
              "      <td>9.2</td>\n",
              "      <td>Francis Ford Coppola</td>\n",
              "      <td>175</td>\n",
              "    </tr>\n",
              "    <tr>\n",
              "      <th>2</th>\n",
              "      <td>3</td>\n",
              "      <td>The Godfather: Part II</td>\n",
              "      <td>1974</td>\n",
              "      <td>9.0</td>\n",
              "      <td>Francis Ford Coppola</td>\n",
              "      <td>202</td>\n",
              "    </tr>\n",
              "    <tr>\n",
              "      <th>3</th>\n",
              "      <td>4</td>\n",
              "      <td>The Dark Knight</td>\n",
              "      <td>2008</td>\n",
              "      <td>9.0</td>\n",
              "      <td>Christopher Nolan</td>\n",
              "      <td>152</td>\n",
              "    </tr>\n",
              "    <tr>\n",
              "      <th>4</th>\n",
              "      <td>5</td>\n",
              "      <td>12 Angry Men</td>\n",
              "      <td>1957</td>\n",
              "      <td>9.0</td>\n",
              "      <td>Sidney Lumet</td>\n",
              "      <td>96</td>\n",
              "    </tr>\n",
              "  </tbody>\n",
              "</table>\n",
              "</div>\n",
              "    <div class=\"colab-df-buttons\">\n",
              "\n",
              "  <div class=\"colab-df-container\">\n",
              "    <button class=\"colab-df-convert\" onclick=\"convertToInteractive('df-f15abc47-a586-47c3-b525-d8a9f167c12a')\"\n",
              "            title=\"Convert this dataframe to an interactive table.\"\n",
              "            style=\"display:none;\">\n",
              "\n",
              "  <svg xmlns=\"http://www.w3.org/2000/svg\" height=\"24px\" viewBox=\"0 -960 960 960\">\n",
              "    <path d=\"M120-120v-720h720v720H120Zm60-500h600v-160H180v160Zm220 220h160v-160H400v160Zm0 220h160v-160H400v160ZM180-400h160v-160H180v160Zm440 0h160v-160H620v160ZM180-180h160v-160H180v160Zm440 0h160v-160H620v160Z\"/>\n",
              "  </svg>\n",
              "    </button>\n",
              "\n",
              "  <style>\n",
              "    .colab-df-container {\n",
              "      display:flex;\n",
              "      gap: 12px;\n",
              "    }\n",
              "\n",
              "    .colab-df-convert {\n",
              "      background-color: #E8F0FE;\n",
              "      border: none;\n",
              "      border-radius: 50%;\n",
              "      cursor: pointer;\n",
              "      display: none;\n",
              "      fill: #1967D2;\n",
              "      height: 32px;\n",
              "      padding: 0 0 0 0;\n",
              "      width: 32px;\n",
              "    }\n",
              "\n",
              "    .colab-df-convert:hover {\n",
              "      background-color: #E2EBFA;\n",
              "      box-shadow: 0px 1px 2px rgba(60, 64, 67, 0.3), 0px 1px 3px 1px rgba(60, 64, 67, 0.15);\n",
              "      fill: #174EA6;\n",
              "    }\n",
              "\n",
              "    .colab-df-buttons div {\n",
              "      margin-bottom: 4px;\n",
              "    }\n",
              "\n",
              "    [theme=dark] .colab-df-convert {\n",
              "      background-color: #3B4455;\n",
              "      fill: #D2E3FC;\n",
              "    }\n",
              "\n",
              "    [theme=dark] .colab-df-convert:hover {\n",
              "      background-color: #434B5C;\n",
              "      box-shadow: 0px 1px 3px 1px rgba(0, 0, 0, 0.15);\n",
              "      filter: drop-shadow(0px 1px 2px rgba(0, 0, 0, 0.3));\n",
              "      fill: #FFFFFF;\n",
              "    }\n",
              "  </style>\n",
              "\n",
              "    <script>\n",
              "      const buttonEl =\n",
              "        document.querySelector('#df-f15abc47-a586-47c3-b525-d8a9f167c12a button.colab-df-convert');\n",
              "      buttonEl.style.display =\n",
              "        google.colab.kernel.accessAllowed ? 'block' : 'none';\n",
              "\n",
              "      async function convertToInteractive(key) {\n",
              "        const element = document.querySelector('#df-f15abc47-a586-47c3-b525-d8a9f167c12a');\n",
              "        const dataTable =\n",
              "          await google.colab.kernel.invokeFunction('convertToInteractive',\n",
              "                                                    [key], {});\n",
              "        if (!dataTable) return;\n",
              "\n",
              "        const docLinkHtml = 'Like what you see? Visit the ' +\n",
              "          '<a target=\"_blank\" href=https://colab.research.google.com/notebooks/data_table.ipynb>data table notebook</a>'\n",
              "          + ' to learn more about interactive tables.';\n",
              "        element.innerHTML = '';\n",
              "        dataTable['output_type'] = 'display_data';\n",
              "        await google.colab.output.renderOutput(dataTable, element);\n",
              "        const docLink = document.createElement('div');\n",
              "        docLink.innerHTML = docLinkHtml;\n",
              "        element.appendChild(docLink);\n",
              "      }\n",
              "    </script>\n",
              "  </div>\n",
              "\n",
              "\n",
              "<div id=\"df-fc790996-454a-4475-8e59-631c8aafbf54\">\n",
              "  <button class=\"colab-df-quickchart\" onclick=\"quickchart('df-fc790996-454a-4475-8e59-631c8aafbf54')\"\n",
              "            title=\"Suggest charts\"\n",
              "            style=\"display:none;\">\n",
              "\n",
              "<svg xmlns=\"http://www.w3.org/2000/svg\" height=\"24px\"viewBox=\"0 0 24 24\"\n",
              "     width=\"24px\">\n",
              "    <g>\n",
              "        <path d=\"M19 3H5c-1.1 0-2 .9-2 2v14c0 1.1.9 2 2 2h14c1.1 0 2-.9 2-2V5c0-1.1-.9-2-2-2zM9 17H7v-7h2v7zm4 0h-2V7h2v10zm4 0h-2v-4h2v4z\"/>\n",
              "    </g>\n",
              "</svg>\n",
              "  </button>\n",
              "\n",
              "<style>\n",
              "  .colab-df-quickchart {\n",
              "      --bg-color: #E8F0FE;\n",
              "      --fill-color: #1967D2;\n",
              "      --hover-bg-color: #E2EBFA;\n",
              "      --hover-fill-color: #174EA6;\n",
              "      --disabled-fill-color: #AAA;\n",
              "      --disabled-bg-color: #DDD;\n",
              "  }\n",
              "\n",
              "  [theme=dark] .colab-df-quickchart {\n",
              "      --bg-color: #3B4455;\n",
              "      --fill-color: #D2E3FC;\n",
              "      --hover-bg-color: #434B5C;\n",
              "      --hover-fill-color: #FFFFFF;\n",
              "      --disabled-bg-color: #3B4455;\n",
              "      --disabled-fill-color: #666;\n",
              "  }\n",
              "\n",
              "  .colab-df-quickchart {\n",
              "    background-color: var(--bg-color);\n",
              "    border: none;\n",
              "    border-radius: 50%;\n",
              "    cursor: pointer;\n",
              "    display: none;\n",
              "    fill: var(--fill-color);\n",
              "    height: 32px;\n",
              "    padding: 0;\n",
              "    width: 32px;\n",
              "  }\n",
              "\n",
              "  .colab-df-quickchart:hover {\n",
              "    background-color: var(--hover-bg-color);\n",
              "    box-shadow: 0 1px 2px rgba(60, 64, 67, 0.3), 0 1px 3px 1px rgba(60, 64, 67, 0.15);\n",
              "    fill: var(--button-hover-fill-color);\n",
              "  }\n",
              "\n",
              "  .colab-df-quickchart-complete:disabled,\n",
              "  .colab-df-quickchart-complete:disabled:hover {\n",
              "    background-color: var(--disabled-bg-color);\n",
              "    fill: var(--disabled-fill-color);\n",
              "    box-shadow: none;\n",
              "  }\n",
              "\n",
              "  .colab-df-spinner {\n",
              "    border: 2px solid var(--fill-color);\n",
              "    border-color: transparent;\n",
              "    border-bottom-color: var(--fill-color);\n",
              "    animation:\n",
              "      spin 1s steps(1) infinite;\n",
              "  }\n",
              "\n",
              "  @keyframes spin {\n",
              "    0% {\n",
              "      border-color: transparent;\n",
              "      border-bottom-color: var(--fill-color);\n",
              "      border-left-color: var(--fill-color);\n",
              "    }\n",
              "    20% {\n",
              "      border-color: transparent;\n",
              "      border-left-color: var(--fill-color);\n",
              "      border-top-color: var(--fill-color);\n",
              "    }\n",
              "    30% {\n",
              "      border-color: transparent;\n",
              "      border-left-color: var(--fill-color);\n",
              "      border-top-color: var(--fill-color);\n",
              "      border-right-color: var(--fill-color);\n",
              "    }\n",
              "    40% {\n",
              "      border-color: transparent;\n",
              "      border-right-color: var(--fill-color);\n",
              "      border-top-color: var(--fill-color);\n",
              "    }\n",
              "    60% {\n",
              "      border-color: transparent;\n",
              "      border-right-color: var(--fill-color);\n",
              "    }\n",
              "    80% {\n",
              "      border-color: transparent;\n",
              "      border-right-color: var(--fill-color);\n",
              "      border-bottom-color: var(--fill-color);\n",
              "    }\n",
              "    90% {\n",
              "      border-color: transparent;\n",
              "      border-bottom-color: var(--fill-color);\n",
              "    }\n",
              "  }\n",
              "</style>\n",
              "\n",
              "  <script>\n",
              "    async function quickchart(key) {\n",
              "      const quickchartButtonEl =\n",
              "        document.querySelector('#' + key + ' button');\n",
              "      quickchartButtonEl.disabled = true;  // To prevent multiple clicks.\n",
              "      quickchartButtonEl.classList.add('colab-df-spinner');\n",
              "      try {\n",
              "        const charts = await google.colab.kernel.invokeFunction(\n",
              "            'suggestCharts', [key], {});\n",
              "      } catch (error) {\n",
              "        console.error('Error during call to suggestCharts:', error);\n",
              "      }\n",
              "      quickchartButtonEl.classList.remove('colab-df-spinner');\n",
              "      quickchartButtonEl.classList.add('colab-df-quickchart-complete');\n",
              "    }\n",
              "    (() => {\n",
              "      let quickchartButtonEl =\n",
              "        document.querySelector('#df-fc790996-454a-4475-8e59-631c8aafbf54 button');\n",
              "      quickchartButtonEl.style.display =\n",
              "        google.colab.kernel.accessAllowed ? 'block' : 'none';\n",
              "    })();\n",
              "  </script>\n",
              "</div>\n",
              "\n",
              "    </div>\n",
              "  </div>\n"
            ],
            "application/vnd.google.colaboratory.intrinsic+json": {
              "type": "dataframe",
              "summary": "{\n  \"name\": \"show_with_attributes()\",\n  \"rows\": 5,\n  \"fields\": [\n    {\n      \"column\": \"id\",\n      \"properties\": {\n        \"dtype\": \"number\",\n        \"std\": 1,\n        \"min\": 1,\n        \"max\": 5,\n        \"num_unique_values\": 5,\n        \"samples\": [\n          2,\n          5,\n          3\n        ],\n        \"semantic_type\": \"\",\n        \"description\": \"\"\n      }\n    },\n    {\n      \"column\": \"title\",\n      \"properties\": {\n        \"dtype\": \"string\",\n        \"num_unique_values\": 5,\n        \"samples\": [\n          \"The Godfather\",\n          \"12 Angry Men\",\n          \"The Godfather: Part II\"\n        ],\n        \"semantic_type\": \"\",\n        \"description\": \"\"\n      }\n    },\n    {\n      \"column\": \"release_year\",\n      \"properties\": {\n        \"dtype\": \"number\",\n        \"std\": 20,\n        \"min\": 1957,\n        \"max\": 2008,\n        \"num_unique_values\": 5,\n        \"samples\": [\n          1972,\n          1957,\n          1974\n        ],\n        \"semantic_type\": \"\",\n        \"description\": \"\"\n      }\n    },\n    {\n      \"column\": \"rating\",\n      \"properties\": {\n        \"dtype\": \"number\",\n        \"std\": 0.14142135623730961,\n        \"min\": 9.0,\n        \"max\": 9.3,\n        \"num_unique_values\": 3,\n        \"samples\": [\n          9.3,\n          9.2,\n          9.0\n        ],\n        \"semantic_type\": \"\",\n        \"description\": \"\"\n      }\n    },\n    {\n      \"column\": \"director\",\n      \"properties\": {\n        \"dtype\": \"string\",\n        \"num_unique_values\": 4,\n        \"samples\": [\n          \"Francis Ford Coppola\",\n          \"Sidney Lumet\",\n          \"Frank Darabont\"\n        ],\n        \"semantic_type\": \"\",\n        \"description\": \"\"\n      }\n    },\n    {\n      \"column\": \"runtime\",\n      \"properties\": {\n        \"dtype\": \"number\",\n        \"std\": 39,\n        \"min\": 96,\n        \"max\": 202,\n        \"num_unique_values\": 5,\n        \"samples\": [\n          175,\n          96,\n          202\n        ],\n        \"semantic_type\": \"\",\n        \"description\": \"\"\n      }\n    }\n  ]\n}"
            }
          },
          "metadata": {},
          "execution_count": 9
        }
      ],
      "source": [
        "show_with_attributes()"
      ]
    },
    {
      "cell_type": "markdown",
      "id": "recorded-habitat",
      "metadata": {
        "id": "recorded-habitat"
      },
      "source": [
        "## 元資料（Metadata）常見的解釋為「data about data」、「描述資料的資料」。"
      ]
    },
    {
      "cell_type": "code",
      "execution_count": 10,
      "id": "iraqi-alaska",
      "metadata": {
        "id": "iraqi-alaska"
      },
      "outputs": [],
      "source": [
        "def show_metadata():\n",
        "    conn = sqlite3.connect('./databases/imdb.db')\n",
        "    df = pd.read_sql(\"\"\"SELECT * FROM PRAGMA_TABLE_INFO('movies');\"\"\", conn)\n",
        "    return df"
      ]
    },
    {
      "cell_type": "code",
      "execution_count": 11,
      "id": "august-cancer",
      "metadata": {
        "id": "august-cancer",
        "outputId": "c1adcdac-3d56-4756-bdb3-7fcac099be0d",
        "colab": {
          "base_uri": "https://localhost:8080/",
          "height": 237
        }
      },
      "outputs": [
        {
          "output_type": "execute_result",
          "data": {
            "text/plain": [
              "   cid          name     type  notnull dflt_value  pk\n",
              "0    0            id  INTEGER        0       None   1\n",
              "1    1         title     TEXT        0       None   0\n",
              "2    2  release_year  INTEGER        0       None   0\n",
              "3    3        rating     REAL        0       None   0\n",
              "4    4      director     TEXT        0       None   0\n",
              "5    5       runtime  INTEGER        0       None   0"
            ],
            "text/html": [
              "\n",
              "  <div id=\"df-02ee70d6-278e-41a7-a269-e7f533e88d3f\" class=\"colab-df-container\">\n",
              "    <div>\n",
              "<style scoped>\n",
              "    .dataframe tbody tr th:only-of-type {\n",
              "        vertical-align: middle;\n",
              "    }\n",
              "\n",
              "    .dataframe tbody tr th {\n",
              "        vertical-align: top;\n",
              "    }\n",
              "\n",
              "    .dataframe thead th {\n",
              "        text-align: right;\n",
              "    }\n",
              "</style>\n",
              "<table border=\"1\" class=\"dataframe\">\n",
              "  <thead>\n",
              "    <tr style=\"text-align: right;\">\n",
              "      <th></th>\n",
              "      <th>cid</th>\n",
              "      <th>name</th>\n",
              "      <th>type</th>\n",
              "      <th>notnull</th>\n",
              "      <th>dflt_value</th>\n",
              "      <th>pk</th>\n",
              "    </tr>\n",
              "  </thead>\n",
              "  <tbody>\n",
              "    <tr>\n",
              "      <th>0</th>\n",
              "      <td>0</td>\n",
              "      <td>id</td>\n",
              "      <td>INTEGER</td>\n",
              "      <td>0</td>\n",
              "      <td>None</td>\n",
              "      <td>1</td>\n",
              "    </tr>\n",
              "    <tr>\n",
              "      <th>1</th>\n",
              "      <td>1</td>\n",
              "      <td>title</td>\n",
              "      <td>TEXT</td>\n",
              "      <td>0</td>\n",
              "      <td>None</td>\n",
              "      <td>0</td>\n",
              "    </tr>\n",
              "    <tr>\n",
              "      <th>2</th>\n",
              "      <td>2</td>\n",
              "      <td>release_year</td>\n",
              "      <td>INTEGER</td>\n",
              "      <td>0</td>\n",
              "      <td>None</td>\n",
              "      <td>0</td>\n",
              "    </tr>\n",
              "    <tr>\n",
              "      <th>3</th>\n",
              "      <td>3</td>\n",
              "      <td>rating</td>\n",
              "      <td>REAL</td>\n",
              "      <td>0</td>\n",
              "      <td>None</td>\n",
              "      <td>0</td>\n",
              "    </tr>\n",
              "    <tr>\n",
              "      <th>4</th>\n",
              "      <td>4</td>\n",
              "      <td>director</td>\n",
              "      <td>TEXT</td>\n",
              "      <td>0</td>\n",
              "      <td>None</td>\n",
              "      <td>0</td>\n",
              "    </tr>\n",
              "    <tr>\n",
              "      <th>5</th>\n",
              "      <td>5</td>\n",
              "      <td>runtime</td>\n",
              "      <td>INTEGER</td>\n",
              "      <td>0</td>\n",
              "      <td>None</td>\n",
              "      <td>0</td>\n",
              "    </tr>\n",
              "  </tbody>\n",
              "</table>\n",
              "</div>\n",
              "    <div class=\"colab-df-buttons\">\n",
              "\n",
              "  <div class=\"colab-df-container\">\n",
              "    <button class=\"colab-df-convert\" onclick=\"convertToInteractive('df-02ee70d6-278e-41a7-a269-e7f533e88d3f')\"\n",
              "            title=\"Convert this dataframe to an interactive table.\"\n",
              "            style=\"display:none;\">\n",
              "\n",
              "  <svg xmlns=\"http://www.w3.org/2000/svg\" height=\"24px\" viewBox=\"0 -960 960 960\">\n",
              "    <path d=\"M120-120v-720h720v720H120Zm60-500h600v-160H180v160Zm220 220h160v-160H400v160Zm0 220h160v-160H400v160ZM180-400h160v-160H180v160Zm440 0h160v-160H620v160ZM180-180h160v-160H180v160Zm440 0h160v-160H620v160Z\"/>\n",
              "  </svg>\n",
              "    </button>\n",
              "\n",
              "  <style>\n",
              "    .colab-df-container {\n",
              "      display:flex;\n",
              "      gap: 12px;\n",
              "    }\n",
              "\n",
              "    .colab-df-convert {\n",
              "      background-color: #E8F0FE;\n",
              "      border: none;\n",
              "      border-radius: 50%;\n",
              "      cursor: pointer;\n",
              "      display: none;\n",
              "      fill: #1967D2;\n",
              "      height: 32px;\n",
              "      padding: 0 0 0 0;\n",
              "      width: 32px;\n",
              "    }\n",
              "\n",
              "    .colab-df-convert:hover {\n",
              "      background-color: #E2EBFA;\n",
              "      box-shadow: 0px 1px 2px rgba(60, 64, 67, 0.3), 0px 1px 3px 1px rgba(60, 64, 67, 0.15);\n",
              "      fill: #174EA6;\n",
              "    }\n",
              "\n",
              "    .colab-df-buttons div {\n",
              "      margin-bottom: 4px;\n",
              "    }\n",
              "\n",
              "    [theme=dark] .colab-df-convert {\n",
              "      background-color: #3B4455;\n",
              "      fill: #D2E3FC;\n",
              "    }\n",
              "\n",
              "    [theme=dark] .colab-df-convert:hover {\n",
              "      background-color: #434B5C;\n",
              "      box-shadow: 0px 1px 3px 1px rgba(0, 0, 0, 0.15);\n",
              "      filter: drop-shadow(0px 1px 2px rgba(0, 0, 0, 0.3));\n",
              "      fill: #FFFFFF;\n",
              "    }\n",
              "  </style>\n",
              "\n",
              "    <script>\n",
              "      const buttonEl =\n",
              "        document.querySelector('#df-02ee70d6-278e-41a7-a269-e7f533e88d3f button.colab-df-convert');\n",
              "      buttonEl.style.display =\n",
              "        google.colab.kernel.accessAllowed ? 'block' : 'none';\n",
              "\n",
              "      async function convertToInteractive(key) {\n",
              "        const element = document.querySelector('#df-02ee70d6-278e-41a7-a269-e7f533e88d3f');\n",
              "        const dataTable =\n",
              "          await google.colab.kernel.invokeFunction('convertToInteractive',\n",
              "                                                    [key], {});\n",
              "        if (!dataTable) return;\n",
              "\n",
              "        const docLinkHtml = 'Like what you see? Visit the ' +\n",
              "          '<a target=\"_blank\" href=https://colab.research.google.com/notebooks/data_table.ipynb>data table notebook</a>'\n",
              "          + ' to learn more about interactive tables.';\n",
              "        element.innerHTML = '';\n",
              "        dataTable['output_type'] = 'display_data';\n",
              "        await google.colab.output.renderOutput(dataTable, element);\n",
              "        const docLink = document.createElement('div');\n",
              "        docLink.innerHTML = docLinkHtml;\n",
              "        element.appendChild(docLink);\n",
              "      }\n",
              "    </script>\n",
              "  </div>\n",
              "\n",
              "\n",
              "<div id=\"df-17574572-0333-405c-ab33-4807b8654c04\">\n",
              "  <button class=\"colab-df-quickchart\" onclick=\"quickchart('df-17574572-0333-405c-ab33-4807b8654c04')\"\n",
              "            title=\"Suggest charts\"\n",
              "            style=\"display:none;\">\n",
              "\n",
              "<svg xmlns=\"http://www.w3.org/2000/svg\" height=\"24px\"viewBox=\"0 0 24 24\"\n",
              "     width=\"24px\">\n",
              "    <g>\n",
              "        <path d=\"M19 3H5c-1.1 0-2 .9-2 2v14c0 1.1.9 2 2 2h14c1.1 0 2-.9 2-2V5c0-1.1-.9-2-2-2zM9 17H7v-7h2v7zm4 0h-2V7h2v10zm4 0h-2v-4h2v4z\"/>\n",
              "    </g>\n",
              "</svg>\n",
              "  </button>\n",
              "\n",
              "<style>\n",
              "  .colab-df-quickchart {\n",
              "      --bg-color: #E8F0FE;\n",
              "      --fill-color: #1967D2;\n",
              "      --hover-bg-color: #E2EBFA;\n",
              "      --hover-fill-color: #174EA6;\n",
              "      --disabled-fill-color: #AAA;\n",
              "      --disabled-bg-color: #DDD;\n",
              "  }\n",
              "\n",
              "  [theme=dark] .colab-df-quickchart {\n",
              "      --bg-color: #3B4455;\n",
              "      --fill-color: #D2E3FC;\n",
              "      --hover-bg-color: #434B5C;\n",
              "      --hover-fill-color: #FFFFFF;\n",
              "      --disabled-bg-color: #3B4455;\n",
              "      --disabled-fill-color: #666;\n",
              "  }\n",
              "\n",
              "  .colab-df-quickchart {\n",
              "    background-color: var(--bg-color);\n",
              "    border: none;\n",
              "    border-radius: 50%;\n",
              "    cursor: pointer;\n",
              "    display: none;\n",
              "    fill: var(--fill-color);\n",
              "    height: 32px;\n",
              "    padding: 0;\n",
              "    width: 32px;\n",
              "  }\n",
              "\n",
              "  .colab-df-quickchart:hover {\n",
              "    background-color: var(--hover-bg-color);\n",
              "    box-shadow: 0 1px 2px rgba(60, 64, 67, 0.3), 0 1px 3px 1px rgba(60, 64, 67, 0.15);\n",
              "    fill: var(--button-hover-fill-color);\n",
              "  }\n",
              "\n",
              "  .colab-df-quickchart-complete:disabled,\n",
              "  .colab-df-quickchart-complete:disabled:hover {\n",
              "    background-color: var(--disabled-bg-color);\n",
              "    fill: var(--disabled-fill-color);\n",
              "    box-shadow: none;\n",
              "  }\n",
              "\n",
              "  .colab-df-spinner {\n",
              "    border: 2px solid var(--fill-color);\n",
              "    border-color: transparent;\n",
              "    border-bottom-color: var(--fill-color);\n",
              "    animation:\n",
              "      spin 1s steps(1) infinite;\n",
              "  }\n",
              "\n",
              "  @keyframes spin {\n",
              "    0% {\n",
              "      border-color: transparent;\n",
              "      border-bottom-color: var(--fill-color);\n",
              "      border-left-color: var(--fill-color);\n",
              "    }\n",
              "    20% {\n",
              "      border-color: transparent;\n",
              "      border-left-color: var(--fill-color);\n",
              "      border-top-color: var(--fill-color);\n",
              "    }\n",
              "    30% {\n",
              "      border-color: transparent;\n",
              "      border-left-color: var(--fill-color);\n",
              "      border-top-color: var(--fill-color);\n",
              "      border-right-color: var(--fill-color);\n",
              "    }\n",
              "    40% {\n",
              "      border-color: transparent;\n",
              "      border-right-color: var(--fill-color);\n",
              "      border-top-color: var(--fill-color);\n",
              "    }\n",
              "    60% {\n",
              "      border-color: transparent;\n",
              "      border-right-color: var(--fill-color);\n",
              "    }\n",
              "    80% {\n",
              "      border-color: transparent;\n",
              "      border-right-color: var(--fill-color);\n",
              "      border-bottom-color: var(--fill-color);\n",
              "    }\n",
              "    90% {\n",
              "      border-color: transparent;\n",
              "      border-bottom-color: var(--fill-color);\n",
              "    }\n",
              "  }\n",
              "</style>\n",
              "\n",
              "  <script>\n",
              "    async function quickchart(key) {\n",
              "      const quickchartButtonEl =\n",
              "        document.querySelector('#' + key + ' button');\n",
              "      quickchartButtonEl.disabled = true;  // To prevent multiple clicks.\n",
              "      quickchartButtonEl.classList.add('colab-df-spinner');\n",
              "      try {\n",
              "        const charts = await google.colab.kernel.invokeFunction(\n",
              "            'suggestCharts', [key], {});\n",
              "      } catch (error) {\n",
              "        console.error('Error during call to suggestCharts:', error);\n",
              "      }\n",
              "      quickchartButtonEl.classList.remove('colab-df-spinner');\n",
              "      quickchartButtonEl.classList.add('colab-df-quickchart-complete');\n",
              "    }\n",
              "    (() => {\n",
              "      let quickchartButtonEl =\n",
              "        document.querySelector('#df-17574572-0333-405c-ab33-4807b8654c04 button');\n",
              "      quickchartButtonEl.style.display =\n",
              "        google.colab.kernel.accessAllowed ? 'block' : 'none';\n",
              "    })();\n",
              "  </script>\n",
              "</div>\n",
              "\n",
              "    </div>\n",
              "  </div>\n"
            ],
            "application/vnd.google.colaboratory.intrinsic+json": {
              "type": "dataframe",
              "repr_error": "Out of range float values are not JSON compliant: nan"
            }
          },
          "metadata": {},
          "execution_count": 11
        }
      ],
      "source": [
        "show_metadata()"
      ]
    },
    {
      "cell_type": "markdown",
      "id": "alternate-transmission",
      "metadata": {
        "id": "alternate-transmission"
      },
      "source": [
        "## 為什麼資料庫是重要的？\n",
        "\n",
        "- 對於資料科學而言，資料庫是常見的資料來源。\n",
        "- 對於軟體開發而言，資料庫是應用程式與系統不可或缺的元素。\n",
        "- 對於生活應用而言，資料庫無所不在，小至手機的通話紀錄與通訊錄、大至銀行的存款資訊與交易資訊，背後都有資料庫在運作。"
      ]
    },
    {
      "cell_type": "markdown",
      "id": "a68473ff",
      "metadata": {
        "id": "a68473ff"
      },
      "source": [
        "## 解釋定義中出現的名詞（續）\n",
        "\n",
        "- 什麼是資料操作？\n",
        "- 什麼是資料庫？\n",
        "- 什麼是**資料庫管理系統**？"
      ]
    },
    {
      "cell_type": "markdown",
      "id": "sporting-davis",
      "metadata": {
        "id": "sporting-davis"
      },
      "source": [
        "## 什麼是資料庫管理系統？"
      ]
    },
    {
      "cell_type": "markdown",
      "id": "selective-latvia",
      "metadata": {
        "id": "selective-latvia"
      },
      "source": [
        "## DBMS 全名為 DataBase Management System，透過資料庫管理系統，SQL 將能「自動化」且「規模化」地對資料庫進行 CRUD 的「資料操作」。"
      ]
    },
    {
      "cell_type": "markdown",
      "id": "loving-secret",
      "metadata": {
        "id": "loving-secret"
      },
      "source": [
        "## 自動化的體現\n",
        "\n",
        "不需要透過人工、客服就能夠發佈新的動態、瀏覽追蹤對象的動態、編輯先前發佈動態的內容與撤掉先前所發佈的動態。"
      ]
    },
    {
      "cell_type": "markdown",
      "id": "laughing-trash",
      "metadata": {
        "id": "laughing-trash"
      },
      "source": [
        "## 規模化的體現\n",
        "\n",
        "能夠讓成千上萬個使用者同時發佈新的動態、瀏覽追蹤對象的動態、編輯先前發佈動態的內容與撤掉先前所發佈的動態。"
      ]
    },
    {
      "cell_type": "markdown",
      "id": "handy-wiring",
      "metadata": {
        "id": "handy-wiring"
      },
      "source": [
        "## 資料庫管理系統可以分為兩大類：\n",
        "\n",
        "1. 關聯式資料庫管理系統（RDBMS, Relational Database Management System）\n",
        "2. 非關聯式資料庫管理系統（NoSQL DBMS, Not only SQL Database Management System）"
      ]
    },
    {
      "cell_type": "markdown",
      "id": "b6b96d60",
      "metadata": {
        "id": "b6b96d60"
      },
      "source": [
        "## RDBMS vs. NoSQL DBMS\n",
        "\n",
        "- 結構化 vs. 非結構化。\n",
        "- 表格 vs. 文件、鍵值。\n",
        "- 效率 vs. 彈性。"
      ]
    },
    {
      "cell_type": "markdown",
      "id": "sustained-tongue",
      "metadata": {
        "id": "sustained-tongue"
      },
      "source": [
        "## 常見的關聯式資料庫管理系統\n",
        "\n",
        "- 甲骨文（Oracle）的 Oracle Database\n",
        "- 微軟（Microsoft）的 SQL Server\n",
        "- 國際商業機器（IBM）的 DB2\n",
        "- **開放原始碼的 SQLite**\n",
        "- 開放原始碼的 MySQL\n",
        "- 開放原始碼的 PostgreSQL"
      ]
    },
    {
      "cell_type": "markdown",
      "id": "cb4613a1",
      "metadata": {
        "id": "cb4613a1"
      },
      "source": [
        "## 常見的非關聯式資料庫管理系統\n",
        "\n",
        "- 甲骨文（Oracle）的 Coherence\n",
        "- 微軟（Microsoft）的 Azure Cosmos DB\n",
        "- 國際商業機器（IBM）的 Domino\n",
        "- 開放原始碼的 MongoDB\n",
        "- 開放原始碼的 Elasticsearch\n",
        "- 開放原始碼的 Cassandra"
      ]
    },
    {
      "cell_type": "markdown",
      "id": "corporate-mechanism",
      "metadata": {
        "id": "corporate-mechanism"
      },
      "source": [
        "## 課程使用開放原始碼的 SQLite\n",
        "\n",
        "以常見關聯式資料庫管理系統都支援的標準 SQL 基本語法為主。"
      ]
    },
    {
      "cell_type": "markdown",
      "id": "based-element",
      "metadata": {
        "id": "based-element"
      },
      "source": [
        "## SQL、關聯式資料庫與關聯式資料庫管理系統的示意圖\n",
        "\n",
        "![](https://github.com/ccwu0918/classroom-hahow-sqlfifty/blob/main/01-introduction/sql_rdb_rdbms.png?raw=1)"
      ]
    },
    {
      "cell_type": "markdown",
      "id": "computational-africa",
      "metadata": {
        "id": "computational-africa"
      },
      "source": [
        "## 重點統整\n",
        "\n",
        "- SQL 全名為 Structured Query Language，是能夠針對資料庫進行「資料操作」的語言。\n",
        "- 資料庫是儲存在電腦中的資料集合，具有兩個特徵：\n",
        "    - 資料觀測值具有屬性。\n",
        "    - 儲存有元資料（Metadata）。\n",
        "- 透過資料庫管理系統，SQL 能**自動化**且**規模化**地對資料庫進行「資料操作」。"
      ]
    }
  ],
  "metadata": {
    "celltoolbar": "Slideshow",
    "kernelspec": {
      "display_name": "Python Fifty Plus",
      "language": "python",
      "name": "pythonfiftyplus"
    },
    "language_info": {
      "codemirror_mode": {
        "name": "ipython",
        "version": 3
      },
      "file_extension": ".py",
      "mimetype": "text/x-python",
      "name": "python",
      "nbconvert_exporter": "python",
      "pygments_lexer": "ipython3",
      "version": "3.9.7"
    },
    "colab": {
      "provenance": [],
      "include_colab_link": true
    }
  },
  "nbformat": 4,
  "nbformat_minor": 5
}