{
 "cells": [
  {
   "cell_type": "markdown",
   "id": "lightweight-fruit",
   "metadata": {
    "slideshow": {
     "slide_type": "slide"
    }
   },
   "source": [
    "# SQL 的五十道練習\n",
    "\n",
    "> 簡介\n",
    "\n",
    "[數據交點](https://www.datainpoint.com/) | 郭耀仁 <yaojenkuo@datainpoint.com>"
   ]
  },
  {
   "cell_type": "code",
   "execution_count": 1,
   "id": "textile-inquiry",
   "metadata": {
    "slideshow": {
     "slide_type": "skip"
    }
   },
   "outputs": [],
   "source": [
    "import sqlite3\n",
    "import numpy as np\n",
    "import pandas as pd"
   ]
  },
  {
   "cell_type": "markdown",
   "id": "supposed-spread",
   "metadata": {
    "slideshow": {
     "slide_type": "slide"
    }
   },
   "source": [
    "## 什麼是 SQL？"
   ]
  },
  {
   "cell_type": "markdown",
   "id": "legal-martial",
   "metadata": {
    "slideshow": {
     "slide_type": "subslide"
    }
   },
   "source": [
    "## SQL（發音為 ess-que-ell 或 sequel）全名為 Structured Query Language，是一個能夠針對資料庫進行「資料操作」的語言。"
   ]
  },
  {
   "cell_type": "markdown",
   "id": "d594f5b1",
   "metadata": {
    "slideshow": {
     "slide_type": "subslide"
    }
   },
   "source": [
    "## SQL 按照使用目的可以再細分為三類\n",
    "\n",
    "1. **資料操作語言**（Data Manipulation Language, DML）\n",
    "2. 資料定義語言（Data Definition Language, DDL）\n",
    "3. 資料控制語言（Data Control Language, DCL）"
   ]
  },
  {
   "cell_type": "markdown",
   "id": "79e8e8bd",
   "metadata": {
    "slideshow": {
     "slide_type": "subslide"
    }
   },
   "source": [
    "## 解釋定義中出現的名詞\n",
    "\n",
    "- 什麼是**資料操作**？\n",
    "- 什麼是資料庫？\n",
    "- 什麼是資料庫管理系統？"
   ]
  },
  {
   "cell_type": "markdown",
   "id": "radio-istanbul",
   "metadata": {
    "slideshow": {
     "slide_type": "subslide"
    }
   },
   "source": [
    "## 「資料操作」涵蓋了 CRUD 這四個動詞：\n",
    "\n",
    "- 創造 **C**reate\n",
    "- 查詢 **R**ead\n",
    "- 更新 **U**pdate\n",
    "- 刪除 **D**elete"
   ]
  },
  {
   "cell_type": "markdown",
   "id": "plastic-northeast",
   "metadata": {
    "slideshow": {
     "slide_type": "subslide"
    }
   },
   "source": [
    "## 舉例來說，在使用任何的網頁或手機應用程式時，我們的滑鼠點擊與手勢觸控都會被轉換成 CRUD：\n",
    "\n",
    "- 創造 **C**reate：發佈新的動態。\n",
    "- 查詢 **R**ead：瀏覽追蹤對象的動態。\n",
    "- 更新 **U**pdate：編輯先前發佈動態的內容。\n",
    "- 刪除 **D**elete：撤掉先前所發佈的動態。"
   ]
  },
  {
   "cell_type": "markdown",
   "id": "tribal-photographer",
   "metadata": {
    "slideshow": {
     "slide_type": "subslide"
    }
   },
   "source": [
    "## 為什麼要學習 SQL？\n",
    "\n",
    "SQL 是一個歷久彌新的語言，早於 1970 年代問世，50 年後今日仍然是資料科學與軟體開發從業者最重要的技能之一。"
   ]
  },
  {
   "cell_type": "markdown",
   "id": "brave-march",
   "metadata": {
    "slideshow": {
     "slide_type": "subslide"
    }
   },
   "source": [
    "## 2021 Kaggle ML&DS Survey 中 SQL 在資料科學家日常使用語言中排名第二。\n",
    "\n",
    "![](ranked_2nd.png)\n",
    "\n",
    "來源：<https://www.kaggle.com/yaojenkuo/analyzing-kaggle-survey-in-a-more-structured-way>"
   ]
  },
  {
   "cell_type": "markdown",
   "id": "ca1b5b11",
   "metadata": {
    "slideshow": {
     "slide_type": "subslide"
    }
   },
   "source": [
    "## 2021 Kaggle ML&DS Survey 中 SQL 在資料科學家推薦學習語言中排名第三。\n",
    "\n",
    "![](ranked_3rd.png)\n",
    "\n",
    "來源：<https://www.kaggle.com/yaojenkuo/analyzing-kaggle-survey-in-a-more-structured-way>"
   ]
  },
  {
   "cell_type": "markdown",
   "id": "positive-cheat",
   "metadata": {
    "slideshow": {
     "slide_type": "subslide"
    }
   },
   "source": [
    "## Stack Overflow 2021 Developer Survey 中 SQL 在軟體工程師受歡迎技術中排名第四。\n",
    "\n",
    "![](ranked_4th.png)\n",
    "\n",
    "來源：<https://insights.stackoverflow.com/survey/2021>"
   ]
  },
  {
   "cell_type": "markdown",
   "id": "selective-poultry",
   "metadata": {
    "slideshow": {
     "slide_type": "subslide"
    }
   },
   "source": [
    "## 解釋定義中出現的名詞（續）\n",
    "\n",
    "- 什麼是資料操作？\n",
    "- 什麼是**資料庫**？\n",
    "- 什麼是資料庫管理系統？"
   ]
  },
  {
   "cell_type": "markdown",
   "id": "e7e3a765",
   "metadata": {
    "slideshow": {
     "slide_type": "slide"
    }
   },
   "source": [
    "## 什麼是資料庫？"
   ]
  },
  {
   "cell_type": "markdown",
   "id": "opponent-volunteer",
   "metadata": {
    "slideshow": {
     "slide_type": "subslide"
    }
   },
   "source": [
    "## 資料庫（Database）是儲存在電腦中的資料集合，我們可以透過撰寫 SQL 有效率地對資料庫中的數據進行「資料操作」。"
   ]
  },
  {
   "cell_type": "markdown",
   "id": "hollow-immune",
   "metadata": {
    "slideshow": {
     "slide_type": "subslide"
    }
   },
   "source": [
    "## 什麼樣的資料集合能夠格被稱為資料庫呢？"
   ]
  },
  {
   "cell_type": "markdown",
   "id": "adult-reservoir",
   "metadata": {
    "slideshow": {
     "slide_type": "subslide"
    }
   },
   "source": [
    "## 具有兩個特徵的資料集合被稱為資料庫：\n",
    "\n",
    "1. 觀測值必須具有屬性。\n",
    "2. 資料集合必須具備有元資料（Metadata）。"
   ]
  },
  {
   "cell_type": "code",
   "execution_count": 2,
   "id": "quantitative-integer",
   "metadata": {
    "slideshow": {
     "slide_type": "skip"
    }
   },
   "outputs": [],
   "source": [
    "def show_without_attributes():\n",
    "    conn = sqlite3.connect('../databases/imdb.db')\n",
    "    df = pd.read_sql(\"\"\"SELECT * FROM movies LIMIT 5;\"\"\", conn)\n",
    "    return df.loc[:, ].values"
   ]
  },
  {
   "cell_type": "markdown",
   "id": "tracked-adjustment",
   "metadata": {
    "slideshow": {
     "slide_type": "subslide"
    }
   },
   "source": [
    "## 不具有屬性的資料觀測值"
   ]
  },
  {
   "cell_type": "code",
   "execution_count": 3,
   "id": "bound-compression",
   "metadata": {
    "slideshow": {
     "slide_type": "-"
    }
   },
   "outputs": [
    {
     "data": {
      "text/plain": [
       "array([[1, 'The Shawshank Redemption', 1994, 9.3, 'Frank Darabont', 142],\n",
       "       [2, 'The Godfather', 1972, 9.2, 'Francis Ford Coppola', 175],\n",
       "       [3, 'The Godfather: Part II', 1974, 9.0, 'Francis Ford Coppola',\n",
       "        202],\n",
       "       [4, 'The Dark Knight', 2008, 9.0, 'Christopher Nolan', 152],\n",
       "       [5, '12 Angry Men', 1957, 9.0, 'Sidney Lumet', 96]], dtype=object)"
      ]
     },
     "execution_count": 3,
     "metadata": {},
     "output_type": "execute_result"
    }
   ],
   "source": [
    "show_without_attributes()"
   ]
  },
  {
   "cell_type": "markdown",
   "id": "pending-overall",
   "metadata": {
    "slideshow": {
     "slide_type": "subslide"
    }
   },
   "source": [
    "## 具有屬性的資料觀測值"
   ]
  },
  {
   "cell_type": "code",
   "execution_count": 4,
   "id": "hungarian-thong",
   "metadata": {
    "slideshow": {
     "slide_type": "skip"
    }
   },
   "outputs": [],
   "source": [
    "def show_with_attributes():\n",
    "    conn = sqlite3.connect('../databases/imdb.db')\n",
    "    df = pd.read_sql(\"\"\"SELECT * FROM movies LIMIT 5;\"\"\", conn)\n",
    "    return df"
   ]
  },
  {
   "cell_type": "code",
   "execution_count": 5,
   "id": "vital-planet",
   "metadata": {
    "slideshow": {
     "slide_type": "-"
    }
   },
   "outputs": [
    {
     "data": {
      "text/html": [
       "<div>\n",
       "<style scoped>\n",
       "    .dataframe tbody tr th:only-of-type {\n",
       "        vertical-align: middle;\n",
       "    }\n",
       "\n",
       "    .dataframe tbody tr th {\n",
       "        vertical-align: top;\n",
       "    }\n",
       "\n",
       "    .dataframe thead th {\n",
       "        text-align: right;\n",
       "    }\n",
       "</style>\n",
       "<table border=\"1\" class=\"dataframe\">\n",
       "  <thead>\n",
       "    <tr style=\"text-align: right;\">\n",
       "      <th></th>\n",
       "      <th>id</th>\n",
       "      <th>title</th>\n",
       "      <th>release_year</th>\n",
       "      <th>rating</th>\n",
       "      <th>director</th>\n",
       "      <th>runtime</th>\n",
       "    </tr>\n",
       "  </thead>\n",
       "  <tbody>\n",
       "    <tr>\n",
       "      <th>0</th>\n",
       "      <td>1</td>\n",
       "      <td>The Shawshank Redemption</td>\n",
       "      <td>1994</td>\n",
       "      <td>9.3</td>\n",
       "      <td>Frank Darabont</td>\n",
       "      <td>142</td>\n",
       "    </tr>\n",
       "    <tr>\n",
       "      <th>1</th>\n",
       "      <td>2</td>\n",
       "      <td>The Godfather</td>\n",
       "      <td>1972</td>\n",
       "      <td>9.2</td>\n",
       "      <td>Francis Ford Coppola</td>\n",
       "      <td>175</td>\n",
       "    </tr>\n",
       "    <tr>\n",
       "      <th>2</th>\n",
       "      <td>3</td>\n",
       "      <td>The Godfather: Part II</td>\n",
       "      <td>1974</td>\n",
       "      <td>9.0</td>\n",
       "      <td>Francis Ford Coppola</td>\n",
       "      <td>202</td>\n",
       "    </tr>\n",
       "    <tr>\n",
       "      <th>3</th>\n",
       "      <td>4</td>\n",
       "      <td>The Dark Knight</td>\n",
       "      <td>2008</td>\n",
       "      <td>9.0</td>\n",
       "      <td>Christopher Nolan</td>\n",
       "      <td>152</td>\n",
       "    </tr>\n",
       "    <tr>\n",
       "      <th>4</th>\n",
       "      <td>5</td>\n",
       "      <td>12 Angry Men</td>\n",
       "      <td>1957</td>\n",
       "      <td>9.0</td>\n",
       "      <td>Sidney Lumet</td>\n",
       "      <td>96</td>\n",
       "    </tr>\n",
       "  </tbody>\n",
       "</table>\n",
       "</div>"
      ],
      "text/plain": [
       "   id                     title  release_year  rating              director  \\\n",
       "0   1  The Shawshank Redemption          1994     9.3        Frank Darabont   \n",
       "1   2             The Godfather          1972     9.2  Francis Ford Coppola   \n",
       "2   3    The Godfather: Part II          1974     9.0  Francis Ford Coppola   \n",
       "3   4           The Dark Knight          2008     9.0     Christopher Nolan   \n",
       "4   5              12 Angry Men          1957     9.0          Sidney Lumet   \n",
       "\n",
       "   runtime  \n",
       "0      142  \n",
       "1      175  \n",
       "2      202  \n",
       "3      152  \n",
       "4       96  "
      ]
     },
     "execution_count": 5,
     "metadata": {},
     "output_type": "execute_result"
    }
   ],
   "source": [
    "show_with_attributes()"
   ]
  },
  {
   "cell_type": "markdown",
   "id": "recorded-habitat",
   "metadata": {
    "slideshow": {
     "slide_type": "subslide"
    }
   },
   "source": [
    "## 元資料（Metadata）常見的解釋為「data about data」、「描述資料的資料」。"
   ]
  },
  {
   "cell_type": "code",
   "execution_count": 6,
   "id": "iraqi-alaska",
   "metadata": {
    "slideshow": {
     "slide_type": "skip"
    }
   },
   "outputs": [],
   "source": [
    "def show_metadata():\n",
    "    conn = sqlite3.connect('../databases/imdb.db')\n",
    "    df = pd.read_sql(\"\"\"SELECT * FROM PRAGMA_TABLE_INFO('movies');\"\"\", conn)\n",
    "    return df"
   ]
  },
  {
   "cell_type": "code",
   "execution_count": 7,
   "id": "august-cancer",
   "metadata": {
    "slideshow": {
     "slide_type": "subslide"
    }
   },
   "outputs": [
    {
     "data": {
      "text/html": [
       "<div>\n",
       "<style scoped>\n",
       "    .dataframe tbody tr th:only-of-type {\n",
       "        vertical-align: middle;\n",
       "    }\n",
       "\n",
       "    .dataframe tbody tr th {\n",
       "        vertical-align: top;\n",
       "    }\n",
       "\n",
       "    .dataframe thead th {\n",
       "        text-align: right;\n",
       "    }\n",
       "</style>\n",
       "<table border=\"1\" class=\"dataframe\">\n",
       "  <thead>\n",
       "    <tr style=\"text-align: right;\">\n",
       "      <th></th>\n",
       "      <th>cid</th>\n",
       "      <th>name</th>\n",
       "      <th>type</th>\n",
       "      <th>notnull</th>\n",
       "      <th>dflt_value</th>\n",
       "      <th>pk</th>\n",
       "    </tr>\n",
       "  </thead>\n",
       "  <tbody>\n",
       "    <tr>\n",
       "      <th>0</th>\n",
       "      <td>0</td>\n",
       "      <td>id</td>\n",
       "      <td>INTEGER</td>\n",
       "      <td>0</td>\n",
       "      <td>None</td>\n",
       "      <td>1</td>\n",
       "    </tr>\n",
       "    <tr>\n",
       "      <th>1</th>\n",
       "      <td>1</td>\n",
       "      <td>title</td>\n",
       "      <td>TEXT</td>\n",
       "      <td>0</td>\n",
       "      <td>None</td>\n",
       "      <td>0</td>\n",
       "    </tr>\n",
       "    <tr>\n",
       "      <th>2</th>\n",
       "      <td>2</td>\n",
       "      <td>release_year</td>\n",
       "      <td>INTEGER</td>\n",
       "      <td>0</td>\n",
       "      <td>None</td>\n",
       "      <td>0</td>\n",
       "    </tr>\n",
       "    <tr>\n",
       "      <th>3</th>\n",
       "      <td>3</td>\n",
       "      <td>rating</td>\n",
       "      <td>REAL</td>\n",
       "      <td>0</td>\n",
       "      <td>None</td>\n",
       "      <td>0</td>\n",
       "    </tr>\n",
       "    <tr>\n",
       "      <th>4</th>\n",
       "      <td>4</td>\n",
       "      <td>director</td>\n",
       "      <td>TEXT</td>\n",
       "      <td>0</td>\n",
       "      <td>None</td>\n",
       "      <td>0</td>\n",
       "    </tr>\n",
       "    <tr>\n",
       "      <th>5</th>\n",
       "      <td>5</td>\n",
       "      <td>runtime</td>\n",
       "      <td>INTEGER</td>\n",
       "      <td>0</td>\n",
       "      <td>None</td>\n",
       "      <td>0</td>\n",
       "    </tr>\n",
       "  </tbody>\n",
       "</table>\n",
       "</div>"
      ],
      "text/plain": [
       "   cid          name     type  notnull dflt_value  pk\n",
       "0    0            id  INTEGER        0       None   1\n",
       "1    1         title     TEXT        0       None   0\n",
       "2    2  release_year  INTEGER        0       None   0\n",
       "3    3        rating     REAL        0       None   0\n",
       "4    4      director     TEXT        0       None   0\n",
       "5    5       runtime  INTEGER        0       None   0"
      ]
     },
     "execution_count": 7,
     "metadata": {},
     "output_type": "execute_result"
    }
   ],
   "source": [
    "show_metadata()"
   ]
  },
  {
   "cell_type": "markdown",
   "id": "alternate-transmission",
   "metadata": {
    "slideshow": {
     "slide_type": "subslide"
    }
   },
   "source": [
    "## 為什麼資料庫是重要的？\n",
    "\n",
    "- 對於資料科學而言，資料庫是常見的資料來源。\n",
    "- 對於軟體開發而言，資料庫是應用程式與系統不可或缺的元素。\n",
    "- 對於生活應用而言，資料庫無所不在，小至手機的通話紀錄與通訊錄、大至銀行的存款資訊與交易資訊，背後都有資料庫在運作。"
   ]
  },
  {
   "cell_type": "markdown",
   "id": "a68473ff",
   "metadata": {
    "slideshow": {
     "slide_type": "subslide"
    }
   },
   "source": [
    "## 解釋定義中出現的名詞（續）\n",
    "\n",
    "- 什麼是資料操作？\n",
    "- 什麼是資料庫？\n",
    "- 什麼是**資料庫管理系統**？"
   ]
  },
  {
   "cell_type": "markdown",
   "id": "sporting-davis",
   "metadata": {
    "slideshow": {
     "slide_type": "slide"
    }
   },
   "source": [
    "## 什麼是資料庫管理系統？"
   ]
  },
  {
   "cell_type": "markdown",
   "id": "selective-latvia",
   "metadata": {
    "slideshow": {
     "slide_type": "subslide"
    }
   },
   "source": [
    "## DBMS 全名為 DataBase Management System，透過資料庫管理系統，SQL 將能「自動化」且「規模化」地對資料庫進行 CRUD 的「資料操作」。"
   ]
  },
  {
   "cell_type": "markdown",
   "id": "loving-secret",
   "metadata": {
    "slideshow": {
     "slide_type": "subslide"
    }
   },
   "source": [
    "## 自動化的體現\n",
    "\n",
    "不需要透過人工、客服就能夠發佈新的動態、瀏覽追蹤對象的動態、編輯先前發佈動態的內容與撤掉先前所發佈的動態。"
   ]
  },
  {
   "cell_type": "markdown",
   "id": "laughing-trash",
   "metadata": {
    "slideshow": {
     "slide_type": "subslide"
    }
   },
   "source": [
    "## 規模化的體現\n",
    "\n",
    "能夠讓成千上萬個使用者同時發佈新的動態、瀏覽追蹤對象的動態、編輯先前發佈動態的內容與撤掉先前所發佈的動態。"
   ]
  },
  {
   "cell_type": "markdown",
   "id": "handy-wiring",
   "metadata": {
    "slideshow": {
     "slide_type": "subslide"
    }
   },
   "source": [
    "## 資料庫管理系統可以分為兩大類：\n",
    "\n",
    "1. 關聯式資料庫管理系統（RDBMS, Relational Database Management System）\n",
    "2. 非關聯式資料庫管理系統（NoSQL DBMS, Not only SQL Database Management System）"
   ]
  },
  {
   "cell_type": "markdown",
   "id": "b6b96d60",
   "metadata": {
    "slideshow": {
     "slide_type": "subslide"
    }
   },
   "source": [
    "## RDBMS vs. NoSQL DBMS\n",
    "\n",
    "- 結構化 vs. 非結構化。\n",
    "- 表格 vs. 文件、鍵值。\n",
    "- 效率 vs. 彈性。"
   ]
  },
  {
   "cell_type": "markdown",
   "id": "sustained-tongue",
   "metadata": {
    "slideshow": {
     "slide_type": "subslide"
    }
   },
   "source": [
    "## 常見的關聯式資料庫管理系統\n",
    "\n",
    "- 甲骨文（Oracle）的 Oracle Database\n",
    "- 微軟（Microsoft）的 SQL Server\n",
    "- 國際商業機器（IBM）的 DB2\n",
    "- **開放原始碼的 SQLite**\n",
    "- 開放原始碼的 MySQL\n",
    "- 開放原始碼的 PostgreSQL"
   ]
  },
  {
   "cell_type": "markdown",
   "id": "cb4613a1",
   "metadata": {
    "slideshow": {
     "slide_type": "subslide"
    }
   },
   "source": [
    "## 常見的非關聯式資料庫管理系統\n",
    "\n",
    "- 甲骨文（Oracle）的 Coherence\n",
    "- 微軟（Microsoft）的 Azure Cosmos DB\n",
    "- 國際商業機器（IBM）的 Domino\n",
    "- 開放原始碼的 MongoDB\n",
    "- 開放原始碼的 Elasticsearch\n",
    "- 開放原始碼的 Cassandra"
   ]
  },
  {
   "cell_type": "markdown",
   "id": "corporate-mechanism",
   "metadata": {
    "slideshow": {
     "slide_type": "subslide"
    }
   },
   "source": [
    "## 課程使用開放原始碼的 SQLite\n",
    "\n",
    "以常見關聯式資料庫管理系統都支援的標準 SQL 基本語法為主。"
   ]
  },
  {
   "cell_type": "markdown",
   "id": "based-element",
   "metadata": {
    "slideshow": {
     "slide_type": "subslide"
    }
   },
   "source": [
    "## SQL、關聯式資料庫與關聯式資料庫管理系統的示意圖\n",
    "\n",
    "![](sql_rdb_rdbms.png)"
   ]
  },
  {
   "cell_type": "markdown",
   "id": "computational-africa",
   "metadata": {
    "slideshow": {
     "slide_type": "slide"
    }
   },
   "source": [
    "## 重點統整\n",
    "\n",
    "- SQL 全名為 Structured Query Language，是能夠針對資料庫進行「資料操作」的語言。\n",
    "- 資料庫是儲存在電腦中的資料集合，具有兩個特徵：\n",
    "    - 資料觀測值具有屬性。\n",
    "    - 儲存有元資料（Metadata）。\n",
    "- 透過資料庫管理系統，SQL 能**自動化**且**規模化**地對資料庫進行「資料操作」。"
   ]
  }
 ],
 "metadata": {
  "celltoolbar": "Slideshow",
  "kernelspec": {
   "display_name": "Python Fifty Plus",
   "language": "python",
   "name": "pythonfiftyplus"
  },
  "language_info": {
   "codemirror_mode": {
    "name": "ipython",
    "version": 3
   },
   "file_extension": ".py",
   "mimetype": "text/x-python",
   "name": "python",
   "nbconvert_exporter": "python",
   "pygments_lexer": "ipython3",
   "version": "3.9.7"
  }
 },
 "nbformat": 4,
 "nbformat_minor": 5
}
