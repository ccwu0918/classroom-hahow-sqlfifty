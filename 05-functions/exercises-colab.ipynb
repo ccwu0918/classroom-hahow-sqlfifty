{
  "cells": [
    {
      "cell_type": "markdown",
      "metadata": {
        "id": "view-in-github",
        "colab_type": "text"
      },
      "source": [
        "<a href=\"https://colab.research.google.com/github/ccwu0918/classroom-hahow-sqlfifty/blob/main/05-functions/exercises-colab.ipynb\" target=\"_parent\"><img src=\"https://colab.research.google.com/assets/colab-badge.svg\" alt=\"Open In Colab\"/></a>"
      ]
    },
    {
      "cell_type": "markdown",
      "metadata": {
        "deletable": false,
        "editable": false,
        "id": "cZdOOqNRpfsk"
      },
      "source": [
        "# SQL 的五十道練習\n",
        "\n",
        "> 函數\n",
        "\n",
        "[數據交點](https://www.datainpoint.com) | 郭耀仁 <yaojenkuo@datainpoint.com>"
      ]
    },
    {
      "cell_type": "markdown",
      "metadata": {
        "deletable": false,
        "id": "0IeCHUhMpfsl"
      },
      "source": [
        "## 練習題指引\n",
        "\n",
        "- 由於近期 mybinder.org 的服務不穩定，新增 Google Colab 作為另一個寫作練習題的平台。\n",
        "- 開始寫作之前，可以先按上方「Copy to Drive」按鈕將筆記本複製到自己的 Google 雲端硬碟。\n",
        "- 在每份練習題的開始，都會先將四個學習資料庫載入環境。\n",
        "- 因此 SQL 可以指定四個學習資料庫中的資料表，不需要額外指定資料庫。\n",
        "- 在 SQL 語法起點與 SQL 語法終點這兩個單行註解之間撰寫能夠得到預期結果的 SQL。\n",
        "- 可以先在自己電腦的 SQLiteStudio 或者 DBeaver 寫出跟預期結果相同的 SQL 後再複製貼上到練習題。\n",
        "- 執行測試的方式為點選右上角 Connect，然後點選上方選單的 Runtime -> Restart and run all -> Yes -> Run anyway。\n",
        "- 移動到 Google Colab 的最後一個儲存格看測試結果。\n",
        "- 可以每寫一題就執行測試，也可以全部寫完再執行測試。\n",
        "- 練習題閒置超過 10 分鐘會自動斷線，這時只要重新點選練習題連結即可重新啟動。"
      ]
    },
    {
      "cell_type": "code",
      "source": [
        "!git clone https://github.com/ccwu0918/classroom-hahow-sqlfifty.git"
      ],
      "metadata": {
        "id": "Q93Vk9GKbVjj",
        "outputId": "26059a75-0e96-44f5-96d8-a9e39a518129",
        "colab": {
          "base_uri": "https://localhost:8080/"
        }
      },
      "execution_count": 1,
      "outputs": [
        {
          "output_type": "stream",
          "name": "stdout",
          "text": [
            "Cloning into 'classroom-hahow-sqlfifty'...\n",
            "remote: Enumerating objects: 927, done.\u001b[K\n",
            "remote: Counting objects: 100% (178/178), done.\u001b[K\n",
            "remote: Compressing objects: 100% (148/148), done.\u001b[K\n",
            "remote: Total 927 (delta 97), reused 70 (delta 29), pack-reused 749\u001b[K\n",
            "Receiving objects: 100% (927/927), 69.00 MiB | 5.83 MiB/s, done.\n",
            "Resolving deltas: 100% (589/589), done.\n",
            "Updating files: 100% (130/130), done.\n"
          ]
        }
      ]
    },
    {
      "cell_type": "code",
      "source": [
        "%cd classroom-hahow-sqlfifty"
      ],
      "metadata": {
        "id": "HlcICLC8bloZ",
        "outputId": "16a8b7b6-d96f-48b4-f00c-d399c7df6de7",
        "colab": {
          "base_uri": "https://localhost:8080/"
        }
      },
      "execution_count": 2,
      "outputs": [
        {
          "output_type": "stream",
          "name": "stdout",
          "text": [
            "/content/classroom-hahow-sqlfifty\n"
          ]
        }
      ]
    },
    {
      "cell_type": "code",
      "execution_count": null,
      "metadata": {
        "id": "iFUJM6J9bSHy"
      },
      "outputs": [],
      "source": [
        "# !wget -N https://raw.githubusercontent.com/datainpoint/classroom-hahow-sqlfifty/main/databases/nba.db\n",
        "# !wget -N https://raw.githubusercontent.com/datainpoint/classroom-hahow-sqlfifty/main/databases/covid19.db\n",
        "# !wget -N https://raw.githubusercontent.com/datainpoint/classroom-hahow-sqlfifty/main/databases/twElection2020.db\n",
        "# !wget -N https://raw.githubusercontent.com/datainpoint/classroom-hahow-sqlfifty/main/databases/imdb.db\n",
        "# !wget -N https://raw.githubusercontent.com/datainpoint/classroom-hahow-sqlfifty/main/exercise_index.json"
      ]
    },
    {
      "cell_type": "code",
      "execution_count": 3,
      "metadata": {
        "deletable": false,
        "id": "JzoixGNlbSHz",
        "outputId": "b1715819-b1fb-48dc-a1f1-badd15db17fe",
        "colab": {
          "base_uri": "https://localhost:8080/"
        }
      },
      "outputs": [
        {
          "output_type": "execute_result",
          "data": {
            "text/plain": [
              "<sqlite3.Cursor at 0x79d66179e8c0>"
            ]
          },
          "metadata": {},
          "execution_count": 3
        }
      ],
      "source": [
        "import sqlite3\n",
        "import unittest\n",
        "import json\n",
        "import os\n",
        "import numpy as np\n",
        "import pandas as pd\n",
        "conn = sqlite3.connect('./databases/nba.db')\n",
        "conn.execute(\"\"\"ATTACH './databases/covid19.db' AS covid19\"\"\")\n",
        "conn.execute(\"\"\"ATTACH './databases/twElection2020.db' AS twElection2020\"\"\")\n",
        "conn.execute(\"\"\"ATTACH './databases/imdb.db' AS imdb\"\"\")"
      ]
    },
    {
      "cell_type": "code",
      "source": [
        "%load_ext sql"
      ],
      "metadata": {
        "id": "vLAGRoijcSb0"
      },
      "execution_count": 4,
      "outputs": []
    },
    {
      "cell_type": "code",
      "source": [
        "%sql sqlite:///./databases/nba.db\n",
        "%sql ATTACH './databases/covid19.db' AS covid19\n",
        "%sql ATTACH './databases/twElection2020.db' AS twElection2020\n",
        "%sql ATTACH './databases/imdb.db' AS imdb"
      ],
      "metadata": {
        "id": "gCsaniX2cz6Z",
        "outputId": "e2b99956-115f-4c1f-d9b7-fcfd3b24cfd5",
        "colab": {
          "base_uri": "https://localhost:8080/"
        }
      },
      "execution_count": 5,
      "outputs": [
        {
          "output_type": "stream",
          "name": "stdout",
          "text": [
            " * sqlite:///./databases/nba.db\n",
            "Done.\n",
            " * sqlite:///./databases/nba.db\n",
            "Done.\n",
            " * sqlite:///./databases/nba.db\n",
            "Done.\n"
          ]
        },
        {
          "output_type": "execute_result",
          "data": {
            "text/plain": [
              "[]"
            ]
          },
          "metadata": {},
          "execution_count": 5
        }
      ]
    },
    {
      "cell_type": "markdown",
      "metadata": {
        "id": "E4mACUhMpfsl"
      },
      "source": [
        "## 09. 從 `nba` 資料庫的 `players` 資料表依據 `heightMeters`、`weightKilograms` 以及下列公式衍生計算欄位 `bmi`，並使用 `ROUND` 函數將 `bmi` 的小數點位數調整為 2 位，參考下列的預期查詢結果。\n",
        "\n",
        "\\begin{equation}\n",
        "BMI = \\frac{weight_{kg}}{height_{m}^2}\n",
        "\\end{equation}\n",
        "\n",
        "- 預期輸入：SQL 查詢語法。\n",
        "- 預期輸出：(484, 3) 的查詢結果。\n",
        "\n",
        "```\n",
        "     heightMeters  weightKilograms    bmi\n",
        "0            2.06            113.4  26.72\n",
        "1            2.01            108.0  26.73\n",
        "2            2.03            106.6  25.87\n",
        "3            2.08            120.2  27.78\n",
        "4            1.98             97.5  24.87\n",
        "..            ...              ...    ...\n",
        "479          2.01            104.3  25.82\n",
        "480          2.08            106.1  24.52\n",
        "481          1.78             88.5  27.93\n",
        "482          1.98             90.7  23.14\n",
        "483          1.96             83.9  21.84\n",
        "\n",
        "[484 rows x 3 columns]\n",
        "```"
      ]
    },
    {
      "cell_type": "code",
      "source": [
        "%%sql\n",
        "SELECT * FROM players"
      ],
      "metadata": {
        "id": "xcT1w16Pdt_4"
      },
      "execution_count": null,
      "outputs": []
    },
    {
      "cell_type": "code",
      "source": [
        "pd.read_sql(\"SELECT * FROM players \", conn)"
      ],
      "metadata": {
        "id": "Eg5WdV6KexYV"
      },
      "execution_count": null,
      "outputs": []
    },
    {
      "cell_type": "code",
      "execution_count": null,
      "metadata": {
        "id": "fhe5RZjcpfsm"
      },
      "outputs": [],
      "source": [
        "calculate_rounded_bmi_from_players =\\\n",
        "\"\"\"\n",
        "-- SQL 查詢語法起點\n",
        "\n",
        "-- SQL 查詢語法終點\n",
        "\"\"\""
      ]
    },
    {
      "cell_type": "markdown",
      "metadata": {
        "id": "UMj4TWOhpfsm"
      },
      "source": [
        "## 10. 從 `nba` 資料庫的 `career_summaries` 資料表中依據 `assists`、`turnovers` 欄位以及下列公式衍生計算助攻失誤比，使用 `CAST` 函數讓衍生計算欄位的資料類型為浮點數 `REAL`，參考下列的預期查詢結果。\n",
        "\n",
        "\\begin{equation}\n",
        "\\text{Assist Turnover Ratio} = \\frac{Assists}{Turnovers}\n",
        "\\end{equation}\n",
        "\n",
        "PS 在練習題預期的查詢結果看到 `NaN` 或者 `None` 代表的就是遺漏值 `NULL`。\n",
        "\n",
        "- 預期輸入：SQL 查詢語法。\n",
        "- 預期輸出：(484, 3) 的查詢結果。\n",
        "\n",
        "```\n",
        "     assists  turnovers  assist_turnover_ratio\n",
        "0     9669.0     4576.0               2.112981\n",
        "1     3327.0     2981.0               1.116068\n",
        "2      729.0      804.0               0.906716\n",
        "3     1615.0     3225.0               0.500775\n",
        "4     4965.0     2180.0               2.277523\n",
        "..       ...        ...                    ...\n",
        "479      4.0        3.0               1.333333\n",
        "480      0.0        1.0               0.000000\n",
        "481    112.0       39.0               2.871795\n",
        "482      1.0        0.0                    NaN\n",
        "483     12.0        7.0               1.714286\n",
        "\n",
        "[484 rows x 3 columns]\n",
        "```"
      ]
    },
    {
      "cell_type": "code",
      "execution_count": null,
      "metadata": {
        "id": "9epcJ1vspfsm"
      },
      "outputs": [],
      "source": [
        "calculate_ast_to_ratio_from_career_summaries =\\\n",
        "\"\"\"\n",
        "-- SQL 查詢語法起點\n",
        "\n",
        "-- SQL 查詢語法終點\n",
        "\"\"\""
      ]
    },
    {
      "cell_type": "markdown",
      "metadata": {
        "id": "zsRNyKuOpfsm"
      },
      "source": [
        "## 11. 從 `covid19` 資料庫的 `time_series` 資料表依據 `Date` 變數，使用 `STRFTIME` 函數查詢時間序列資料有哪些不重複的月份，參考下列的預期查詢結果。\n",
        "\n",
        "- 預期輸入：SQL 查詢語法。\n",
        "- 預期輸出：(15, 1) 的查詢結果。\n",
        "\n",
        "```\n",
        "   distinct_year_month\n",
        "0              2020-01\n",
        "1              2020-02\n",
        "2              2020-03\n",
        "3              2020-04\n",
        "4              2020-05\n",
        "5              2020-06\n",
        "6              2020-07\n",
        "7              2020-08\n",
        "8              2020-09\n",
        "9              2020-10\n",
        "10             2020-11\n",
        "11             2020-12\n",
        "12             2021-01\n",
        "13             2021-02\n",
        "14             2021-03\n",
        "```"
      ]
    },
    {
      "cell_type": "code",
      "execution_count": null,
      "metadata": {
        "id": "BpM3zAi-pfsm"
      },
      "outputs": [],
      "source": [
        "find_distinct_year_month_from_time_series =\\\n",
        "\"\"\"\n",
        "-- SQL 查詢語法起點\n",
        "\n",
        "-- SQL 查詢語法終點\n",
        "\"\"\""
      ]
    },
    {
      "cell_type": "markdown",
      "metadata": {
        "id": "tYAKuG1jpfsm"
      },
      "source": [
        "## 12. 從 `twElection2020` 資料庫的 `presidential` 資料表利用聚合函數彙總有多少人參與了總統副總統的投票選舉，參考下列的預期查詢結果。\n",
        "\n",
        "- 預期輸入：SQL 查詢語法。\n",
        "- 預期輸出：(1, 1) 的查詢結果。\n",
        "\n",
        "```\n",
        "   total_presidential_votes\n",
        "0                  14300940\n",
        "```"
      ]
    },
    {
      "cell_type": "code",
      "execution_count": null,
      "metadata": {
        "id": "TlTRPdNcpfsm"
      },
      "outputs": [],
      "source": [
        "summarize_total_votes_from_presidential =\\\n",
        "\"\"\"\n",
        "-- SQL 查詢語法起點\n",
        "\n",
        "-- SQL 查詢語法終點\n",
        "\"\"\""
      ]
    },
    {
      "cell_type": "markdown",
      "metadata": {
        "id": "IqhHjSrEpfsm"
      },
      "source": [
        "## 13. 從 `covid19` 資料庫的 `daily_report` 資料表利用聚合函數彙總截至 2021-03-31 全世界總確診數、總痊癒數以及總死亡數，參考下列的預期查詢結果。\n",
        "\n",
        "註：本題不需考慮 `daily_report` 內的 `Last_Update` 時間戳記，`daily_report` 的數據有效期間就是 2021-03-31。\n",
        "\n",
        "- 預期輸入：SQL 查詢語法。\n",
        "- 預期輸出：(1, 3) 的查詢結果。\n",
        "\n",
        "```\n",
        "   total_confirmed  total_recovered  total_deaths\n",
        "0        128822735         73070921       2815166\n",
        "```"
      ]
    },
    {
      "cell_type": "code",
      "execution_count": null,
      "metadata": {
        "id": "C-kzb-ndpfsm"
      },
      "outputs": [],
      "source": [
        "summarize_totals_from_daily_report =\\\n",
        "\"\"\"\n",
        "-- SQL 查詢語法起點\n",
        "\n",
        "-- SQL 查詢語法終點\n",
        "\"\"\""
      ]
    },
    {
      "cell_type": "markdown",
      "metadata": {
        "deletable": false,
        "id": "39H_UBZqpfsm"
      },
      "source": [
        "## 執行測試！\n",
        "\n",
        "Runtime -> Restart and run all -> Yes -> Run anyway."
      ]
    },
    {
      "cell_type": "code",
      "execution_count": null,
      "metadata": {
        "deletable": false,
        "cellView": "form",
        "id": "NO9ZZROZpfsm"
      },
      "outputs": [],
      "source": [
        "# @title\n",
        "class TestFunctions(unittest.TestCase):\n",
        "    def test_09_calculate_rounded_bmi_from_players(self):\n",
        "        rounded_bmi_from_players = pd.read_sql(calculate_rounded_bmi_from_players, conn)\n",
        "        self.assertEqual(rounded_bmi_from_players.shape, (484, 3))\n",
        "        column_values = rounded_bmi_from_players.iloc[:, 2].values\n",
        "        first_value = str(column_values[0])\n",
        "        self.assertTrue(len(first_value) == 5)\n",
        "    def test_10_calculate_ast_to_ratio_from_career_summaries(self):\n",
        "        ast_to_ratio_from_career_summaries = pd.read_sql(calculate_ast_to_ratio_from_career_summaries, conn)\n",
        "        self.assertEqual(ast_to_ratio_from_career_summaries.shape, (484, 3))\n",
        "        variable_dtype = str(ast_to_ratio_from_career_summaries.iloc[:, 2].dtype)\n",
        "        self.assertEqual(variable_dtype, 'float64')\n",
        "    def test_11_find_distinct_year_month_from_time_series(self):\n",
        "        distinct_year_month_from_time_series = pd.read_sql(find_distinct_year_month_from_time_series, conn)\n",
        "        self.assertEqual(distinct_year_month_from_time_series.shape, (15, 1))\n",
        "        column_values = set(distinct_year_month_from_time_series.iloc[:, 0].values)\n",
        "        self.assertTrue('2020-01' in column_values)\n",
        "        self.assertTrue('2021-03' in column_values)\n",
        "    def test_12_summarize_total_votes_from_presidential(self):\n",
        "        total_votes_from_presidential = pd.read_sql(summarize_total_votes_from_presidential, conn)\n",
        "        self.assertEqual(total_votes_from_presidential.shape, (1, 1))\n",
        "        column_value = total_votes_from_presidential.iloc[0, 0]\n",
        "        self.assertEqual(column_value, 14300940)\n",
        "    def test_13_summarize_totals_from_daily_report(self):\n",
        "        totals_from_daily_report = pd.read_sql(summarize_totals_from_daily_report, conn)\n",
        "        self.assertEqual(totals_from_daily_report.shape, (1, 3))\n",
        "        row_values = set(totals_from_daily_report.iloc[0, :].values)\n",
        "        self.assertTrue(128822735 in row_values)\n",
        "        self.assertTrue(73070921 in row_values)\n",
        "        self.assertTrue(2815166 in row_values)\n",
        "\n",
        "suite = unittest.TestLoader().loadTestsFromTestCase(TestFunctions)\n",
        "runner = unittest.TextTestRunner(verbosity=2)\n",
        "test_results = runner.run(suite)\n",
        "number_of_failures = len(test_results.failures)\n",
        "number_of_errors = len(test_results.errors)\n",
        "number_of_test_runs = test_results.testsRun\n",
        "number_of_successes = number_of_test_runs - (number_of_failures + number_of_errors)\n",
        "#cwd = os.getcwd()\n",
        "folder_name = \"05-functions\"\n",
        "with open(\"exercise_index.json\", \"r\") as content:\n",
        "    exercise_index = json.load(content)\n",
        "chapter_name = exercise_index[folder_name]"
      ]
    },
    {
      "cell_type": "code",
      "execution_count": null,
      "metadata": {
        "deletable": false,
        "editable": false,
        "cellView": "form",
        "id": "_cqBiRhQpfsm"
      },
      "outputs": [],
      "source": [
        "# @title\n",
        "print(\"您在「{}」章節中的 {} 道 SQL 練習答對了 {} 題。\".format(chapter_name, number_of_test_runs, number_of_successes))"
      ]
    }
  ],
  "metadata": {
    "celltoolbar": "Edit Metadata",
    "kernelspec": {
      "display_name": "Python 3 (ipykernel)",
      "language": "python",
      "name": "python3"
    },
    "language_info": {
      "codemirror_mode": {
        "name": "ipython",
        "version": 3
      },
      "file_extension": ".py",
      "mimetype": "text/x-python",
      "name": "python",
      "nbconvert_exporter": "python",
      "pygments_lexer": "ipython3",
      "version": "3.9.5"
    },
    "colab": {
      "provenance": [],
      "include_colab_link": true
    }
  },
  "nbformat": 4,
  "nbformat_minor": 0
}