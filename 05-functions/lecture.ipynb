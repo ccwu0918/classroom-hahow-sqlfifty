{
  "cells": [
    {
      "cell_type": "markdown",
      "metadata": {
        "id": "view-in-github",
        "colab_type": "text"
      },
      "source": [
        "<a href=\"https://colab.research.google.com/github/ccwu0918/classroom-hahow-sqlfifty/blob/main/05-functions/lecture.ipynb\" target=\"_parent\"><img src=\"https://colab.research.google.com/assets/colab-badge.svg\" alt=\"Open In Colab\"/></a>"
      ]
    },
    {
      "cell_type": "markdown",
      "id": "lightweight-fruit",
      "metadata": {
        "id": "lightweight-fruit"
      },
      "source": [
        "# SQL 的五十道練習\n",
        "\n",
        "> 函數\n",
        "\n",
        "[數據交點](https://www.datainpoint.com/) | 郭耀仁 <yaojenkuo@datainpoint.com>"
      ]
    },
    {
      "cell_type": "code",
      "source": [
        "!git clone https://github.com/ccwu0918/classroom-hahow-sqlfifty.git"
      ],
      "metadata": {
        "id": "Q93Vk9GKbVjj",
        "outputId": "75a790d6-fcaa-44af-a1cc-3aa487800200",
        "colab": {
          "base_uri": "https://localhost:8080/"
        }
      },
      "execution_count": 1,
      "outputs": [
        {
          "output_type": "stream",
          "name": "stdout",
          "text": [
            "Cloning into 'classroom-hahow-sqlfifty'...\n",
            "remote: Enumerating objects: 923, done.\u001b[K\n",
            "remote: Counting objects: 100% (174/174), done.\u001b[K\n",
            "remote: Compressing objects: 100% (144/144), done.\u001b[K\n",
            "remote: Total 923 (delta 95), reused 70 (delta 29), pack-reused 749\u001b[K\n",
            "Receiving objects: 100% (923/923), 68.99 MiB | 11.11 MiB/s, done.\n",
            "Resolving deltas: 100% (587/587), done.\n",
            "Updating files: 100% (130/130), done.\n"
          ]
        }
      ],
      "id": "Q93Vk9GKbVjj"
    },
    {
      "cell_type": "code",
      "source": [
        "%cd classroom-hahow-sqlfifty"
      ],
      "metadata": {
        "id": "HlcICLC8bloZ",
        "outputId": "1827e150-7141-4b7b-f991-bcc577578f66",
        "colab": {
          "base_uri": "https://localhost:8080/"
        }
      },
      "execution_count": 2,
      "outputs": [
        {
          "output_type": "stream",
          "name": "stdout",
          "text": [
            "/content/classroom-hahow-sqlfifty\n"
          ]
        }
      ],
      "id": "HlcICLC8bloZ"
    },
    {
      "cell_type": "code",
      "source": [
        "%load_ext sql"
      ],
      "metadata": {
        "id": "vLAGRoijcSb0"
      },
      "execution_count": 3,
      "outputs": [],
      "id": "vLAGRoijcSb0"
    },
    {
      "cell_type": "code",
      "source": [
        "%sql sqlite:///./databases/imdb.db\n",
        "%sql ATTACH './databases/covid19.db' AS covid19\n",
        "%sql ATTACH './databases/twElection2020.db' AS twElection2020\n",
        "%sql ATTACH './databases/nba.db' AS nba"
      ],
      "metadata": {
        "id": "gCsaniX2cz6Z",
        "outputId": "8e5a359b-240c-40c6-9e30-ba315ec8f350",
        "colab": {
          "base_uri": "https://localhost:8080/"
        }
      },
      "execution_count": 4,
      "outputs": [
        {
          "output_type": "stream",
          "name": "stdout",
          "text": [
            " * sqlite:///./databases/imdb.db\n",
            "Done.\n",
            " * sqlite:///./databases/imdb.db\n",
            "Done.\n",
            " * sqlite:///./databases/imdb.db\n",
            "Done.\n"
          ]
        },
        {
          "output_type": "execute_result",
          "data": {
            "text/plain": [
              "[]"
            ]
          },
          "metadata": {},
          "execution_count": 4
        }
      ],
      "id": "gCsaniX2cz6Z"
    },
    {
      "cell_type": "markdown",
      "id": "supposed-spread",
      "metadata": {
        "id": "supposed-spread"
      },
      "source": [
        "## 什麼是函數"
      ]
    },
    {
      "cell_type": "markdown",
      "id": "threaded-police",
      "metadata": {
        "id": "threaded-police"
      },
      "source": [
        "## Function，中文翻譯為函數或者函式，在資料分析和程式語言中都扮演舉足輕重的角色\n",
        "\n",
        "函數是預先被定義好的運算處理邏輯，透過它的作用，能夠將「輸入」對應為「輸出」，進而完成計算數值與操作文字等任務。"
      ]
    },
    {
      "cell_type": "markdown",
      "id": "right-confidence",
      "metadata": {
        "id": "right-confidence"
      },
      "source": [
        "## 函數的運作有五個組成：\n",
        "\n",
        "1. 函數的名稱。\n",
        "2. 輸入。\n",
        "3. 參數。\n",
        "4. 運算處理邏輯。\n",
        "5. 輸出。"
      ]
    },
    {
      "cell_type": "markdown",
      "id": "configured-international",
      "metadata": {
        "id": "configured-international"
      },
      "source": [
        "## 以買珍珠奶茶為例\n",
        "\n",
        "![](https://github.com/ccwu0918/classroom-hahow-sqlfifty/blob/main/05-functions/pearl_milk_tea.jpg?raw=1)\n",
        "\n",
        "Source: [Google Search](https://www.google.com/search?q=%E7%8F%8D%E7%8F%A0%E5%A5%B6%E8%8C%B6&sxsrf=ALeKk03IFHCE14mwz0z5yVStCaGHvED-8g:1617364912723&source=lnms&tbm=isch&sa=X&ved=2ahUKEwjZ9eDowd_vAhVgxosBHdTsC_MQ_AUoAXoECAEQAw&biw=1037&bih=1448&dpr=1)"
      ]
    },
    {
      "cell_type": "markdown",
      "id": "shaped-reconstruction",
      "metadata": {
        "id": "shaped-reconstruction"
      },
      "source": [
        "## 以一個常用的文字操作函數 `SUBSTR` 為例"
      ]
    },
    {
      "cell_type": "code",
      "execution_count": 5,
      "id": "pursuant-passport",
      "metadata": {
        "colab": {
          "base_uri": "https://localhost:8080/",
          "height": 98
        },
        "id": "pursuant-passport",
        "outputId": "282c0608-4bbe-490f-ddd5-ff58e6741205"
      },
      "outputs": [
        {
          "output_type": "stream",
          "name": "stdout",
          "text": [
            " * sqlite:///./databases/imdb.db\n",
            "Done.\n"
          ]
        },
        {
          "output_type": "execute_result",
          "data": {
            "text/plain": [
              "[('Tony Stark', 'Tony', 'Stark')]"
            ],
            "text/html": [
              "<table>\n",
              "    <thead>\n",
              "        <tr>\n",
              "            <th>full_name</th>\n",
              "            <th>first_name</th>\n",
              "            <th>last_name</th>\n",
              "        </tr>\n",
              "    </thead>\n",
              "    <tbody>\n",
              "        <tr>\n",
              "            <td>Tony Stark</td>\n",
              "            <td>Tony</td>\n",
              "            <td>Stark</td>\n",
              "        </tr>\n",
              "    </tbody>\n",
              "</table>"
            ]
          },
          "metadata": {},
          "execution_count": 5
        }
      ],
      "source": [
        "%%sql\n",
        "SELECT 'Tony Stark' AS full_name,\n",
        "       SUBSTR('Tony Stark', 1, 4) AS first_name,\n",
        "       SUBSTR('Tony Stark', 6, 5) AS last_name;"
      ]
    },
    {
      "cell_type": "markdown",
      "id": "lovely-documentation",
      "metadata": {
        "id": "lovely-documentation"
      },
      "source": [
        "## 函數可依照功能分為兩大類：\n",
        "\n",
        "- 通用函數（Universal functions）\n",
        "    - 轉換資料類型。\n",
        "    - 計算數值。\n",
        "    - 操作文字。\n",
        "    - 操作日期時間。\n",
        "- 聚合函數（Aggregate functions）"
      ]
    },
    {
      "cell_type": "markdown",
      "id": "complete-breast",
      "metadata": {
        "id": "complete-breast"
      },
      "source": [
        "## 通用函數與聚合函數的不同在於其所作用的維度\n",
        "\n",
        "- 通用函數作用在「水平」方向。\n",
        "- 聚合函數作用在「垂直」方向。"
      ]
    },
    {
      "cell_type": "markdown",
      "id": "twelve-affair",
      "metadata": {
        "id": "twelve-affair"
      },
      "source": [
        "## 作用在「水平」方向的通用函數\n",
        "\n",
        "效果類似「衍生計算欄位」，差別在於一個是以函數輸出衍生計算欄位，一個則是以運算符生成衍生計算欄位。\n",
        "\n",
        "![mutate](https://github.com/ccwu0918/classroom-hahow-sqlfifty/blob/main/05-functions/mutate.png?raw=1)"
      ]
    },
    {
      "cell_type": "markdown",
      "id": "informal-marriage",
      "metadata": {
        "id": "informal-marriage"
      },
      "source": [
        "## 作用在「垂直」方向的聚合函數\n",
        "\n",
        "![aggregate](https://github.com/ccwu0918/classroom-hahow-sqlfifty/blob/main/05-functions/aggregate.png?raw=1)"
      ]
    },
    {
      "cell_type": "markdown",
      "id": "announced-wells",
      "metadata": {
        "id": "announced-wells"
      },
      "source": [
        "## 通用函數的特徵：每個觀測值對應一個輸出"
      ]
    },
    {
      "cell_type": "code",
      "execution_count": 6,
      "id": "written-helicopter",
      "metadata": {
        "colab": {
          "base_uri": "https://localhost:8080/",
          "height": 182
        },
        "id": "written-helicopter",
        "outputId": "c3010a68-6d44-4ffd-b2d4-2bfc78e4c5d6"
      },
      "outputs": [
        {
          "output_type": "stream",
          "name": "stdout",
          "text": [
            " * sqlite:///./databases/imdb.db\n",
            "Done.\n"
          ]
        },
        {
          "output_type": "execute_result",
          "data": {
            "text/plain": [
              "[(2.06, 2.1), (2.01, 2.0), (2.03, 2.0), (2.08, 2.1), (1.98, 2.0)]"
            ],
            "text/html": [
              "<table>\n",
              "    <thead>\n",
              "        <tr>\n",
              "            <th>heightMeters</th>\n",
              "            <th>rounded_height</th>\n",
              "        </tr>\n",
              "    </thead>\n",
              "    <tbody>\n",
              "        <tr>\n",
              "            <td>2.06</td>\n",
              "            <td>2.1</td>\n",
              "        </tr>\n",
              "        <tr>\n",
              "            <td>2.01</td>\n",
              "            <td>2.0</td>\n",
              "        </tr>\n",
              "        <tr>\n",
              "            <td>2.03</td>\n",
              "            <td>2.0</td>\n",
              "        </tr>\n",
              "        <tr>\n",
              "            <td>2.08</td>\n",
              "            <td>2.1</td>\n",
              "        </tr>\n",
              "        <tr>\n",
              "            <td>1.98</td>\n",
              "            <td>2.0</td>\n",
              "        </tr>\n",
              "    </tbody>\n",
              "</table>"
            ]
          },
          "metadata": {},
          "execution_count": 6
        }
      ],
      "source": [
        "%%sql\n",
        "SELECT heightMeters,\n",
        "       ROUND(heightMeters, 1) AS rounded_height\n",
        "  FROM players\n",
        " LIMIT 5;"
      ]
    },
    {
      "cell_type": "markdown",
      "id": "naughty-garlic",
      "metadata": {
        "id": "naughty-garlic"
      },
      "source": [
        "## 聚合函數的特徵：整欄變數對應一個輸出"
      ]
    },
    {
      "cell_type": "code",
      "execution_count": 7,
      "id": "superb-leone",
      "metadata": {
        "colab": {
          "base_uri": "https://localhost:8080/",
          "height": 98
        },
        "id": "superb-leone",
        "outputId": "d8b9b9dc-cb64-4b33-db1d-6663be1e22cd"
      },
      "outputs": [
        {
          "output_type": "stream",
          "name": "stdout",
          "text": [
            " * sqlite:///./databases/imdb.db\n",
            "Done.\n"
          ]
        },
        {
          "output_type": "execute_result",
          "data": {
            "text/plain": [
              "[(1.9891735537190047,)]"
            ],
            "text/html": [
              "<table>\n",
              "    <thead>\n",
              "        <tr>\n",
              "            <th>avg_height</th>\n",
              "        </tr>\n",
              "    </thead>\n",
              "    <tbody>\n",
              "        <tr>\n",
              "            <td>1.9891735537190047</td>\n",
              "        </tr>\n",
              "    </tbody>\n",
              "</table>"
            ]
          },
          "metadata": {},
          "execution_count": 7
        }
      ],
      "source": [
        "%%sql\n",
        "SELECT AVG(heightMeters) AS avg_height\n",
        "  FROM players;"
      ]
    },
    {
      "cell_type": "markdown",
      "id": "raising-earthquake",
      "metadata": {
        "id": "raising-earthquake"
      },
      "source": [
        "## 通用函數"
      ]
    },
    {
      "cell_type": "markdown",
      "id": "several-luxembourg",
      "metadata": {
        "id": "several-luxembourg"
      },
      "source": [
        "## 常見的通用函數又可以細分為四種類型\n",
        "\n",
        "- 轉換資料類型。\n",
        "- 計算數值。\n",
        "- 操作文字。\n",
        "- 操作日期時間。"
      ]
    },
    {
      "cell_type": "markdown",
      "id": "underlying-contribution",
      "metadata": {
        "id": "underlying-contribution"
      },
      "source": [
        "## 通用函數：轉換資料類型"
      ]
    },
    {
      "cell_type": "markdown",
      "id": "friendly-oliver",
      "metadata": {
        "id": "friendly-oliver"
      },
      "source": [
        "## 使用 `CAST` 函數可以將查詢結果的資料類型轉換為指定資料類型\n",
        "\n",
        "```sql\n",
        "CAST(data AS data_type)\n",
        "```"
      ]
    },
    {
      "cell_type": "markdown",
      "id": "pregnant-simon",
      "metadata": {
        "id": "pregnant-simon"
      },
      "source": [
        "## 面對兩個整數相除所衍生的欄位依然會以整數類型存在的情況\n",
        "\n",
        "舉例來說，計算球員的生涯場均得分要以 `points`、`gamesPlayed` 相除。"
      ]
    },
    {
      "cell_type": "code",
      "execution_count": 8,
      "id": "registered-michigan",
      "metadata": {
        "colab": {
          "base_uri": "https://localhost:8080/",
          "height": 182
        },
        "id": "registered-michigan",
        "outputId": "f3875c4f-8127-4776-cba8-3d17d562bc86"
      },
      "outputs": [
        {
          "output_type": "stream",
          "name": "stdout",
          "text": [
            " * sqlite:///./databases/imdb.db\n",
            "Done.\n"
          ]
        },
        {
          "output_type": "execute_result",
          "data": {
            "text/plain": [
              "[(27,), (23,), (7,), (16,), (11,)]"
            ],
            "text/html": [
              "<table>\n",
              "    <thead>\n",
              "        <tr>\n",
              "            <th>points_per_game</th>\n",
              "        </tr>\n",
              "    </thead>\n",
              "    <tbody>\n",
              "        <tr>\n",
              "            <td>27</td>\n",
              "        </tr>\n",
              "        <tr>\n",
              "            <td>23</td>\n",
              "        </tr>\n",
              "        <tr>\n",
              "            <td>7</td>\n",
              "        </tr>\n",
              "        <tr>\n",
              "            <td>16</td>\n",
              "        </tr>\n",
              "        <tr>\n",
              "            <td>11</td>\n",
              "        </tr>\n",
              "    </tbody>\n",
              "</table>"
            ]
          },
          "metadata": {},
          "execution_count": 8
        }
      ],
      "source": [
        "%%sql\n",
        "SELECT points / gamesPlayed AS points_per_game -- 可以應用 CAST 函數在分子或分母\n",
        "  FROM career_summaries\n",
        " LIMIT 5;"
      ]
    },
    {
      "cell_type": "markdown",
      "id": "collect-juvenile",
      "metadata": {
        "id": "collect-juvenile"
      },
      "source": [
        "## 使用 `COALESCE` 函數可以將空值（或稱遺漏值）轉換為指定常數\n",
        "\n",
        "```sql\n",
        "COALESCE(NULL, replacement)\n",
        "```"
      ]
    },
    {
      "cell_type": "markdown",
      "id": "saved-chambers",
      "metadata": {
        "id": "saved-chambers"
      },
      "source": [
        "## 舉例來說，在 `covid19` 資料庫的 `lookup_table` 資料表中有許多國家沒有詳細到有州、省、縣、郡的資訊"
      ]
    },
    {
      "cell_type": "code",
      "execution_count": 9,
      "id": "brazilian-blake",
      "metadata": {
        "colab": {
          "base_uri": "https://localhost:8080/",
          "height": 182
        },
        "id": "brazilian-blake",
        "outputId": "037c81dd-8f77-4288-a848-cd803540e18f"
      },
      "outputs": [
        {
          "output_type": "stream",
          "name": "stdout",
          "text": [
            " * sqlite:///./databases/imdb.db\n",
            "Done.\n"
          ]
        },
        {
          "output_type": "execute_result",
          "data": {
            "text/plain": [
              "[(4, 'Afghanistan', 'AF', 'AFG', 'Afghanistan', None, None, 33.93911, 67.709953, 38928341),\n",
              " (8, 'Albania', 'AL', 'ALB', 'Albania', None, None, 41.1533, 20.1683, 2877800),\n",
              " (12, 'Algeria', 'DZ', 'DZA', 'Algeria', None, None, 28.0339, 1.6596, 43851043),\n",
              " (16, 'American Samoa, US', 'AS', 'ASM', 'US', 'American Samoa', None, -14.270999999999999, -170.132, 55641),\n",
              " (20, 'Andorra', 'AD', 'AND', 'Andorra', None, None, 42.5063, 1.5218, 77265)]"
            ],
            "text/html": [
              "<table>\n",
              "    <thead>\n",
              "        <tr>\n",
              "            <th>UID</th>\n",
              "            <th>Combined_Key</th>\n",
              "            <th>iso2</th>\n",
              "            <th>iso3</th>\n",
              "            <th>Country_Region</th>\n",
              "            <th>Province_State</th>\n",
              "            <th>Admin2</th>\n",
              "            <th>Lat</th>\n",
              "            <th>Long_</th>\n",
              "            <th>Population</th>\n",
              "        </tr>\n",
              "    </thead>\n",
              "    <tbody>\n",
              "        <tr>\n",
              "            <td>4</td>\n",
              "            <td>Afghanistan</td>\n",
              "            <td>AF</td>\n",
              "            <td>AFG</td>\n",
              "            <td>Afghanistan</td>\n",
              "            <td>None</td>\n",
              "            <td>None</td>\n",
              "            <td>33.93911</td>\n",
              "            <td>67.709953</td>\n",
              "            <td>38928341</td>\n",
              "        </tr>\n",
              "        <tr>\n",
              "            <td>8</td>\n",
              "            <td>Albania</td>\n",
              "            <td>AL</td>\n",
              "            <td>ALB</td>\n",
              "            <td>Albania</td>\n",
              "            <td>None</td>\n",
              "            <td>None</td>\n",
              "            <td>41.1533</td>\n",
              "            <td>20.1683</td>\n",
              "            <td>2877800</td>\n",
              "        </tr>\n",
              "        <tr>\n",
              "            <td>12</td>\n",
              "            <td>Algeria</td>\n",
              "            <td>DZ</td>\n",
              "            <td>DZA</td>\n",
              "            <td>Algeria</td>\n",
              "            <td>None</td>\n",
              "            <td>None</td>\n",
              "            <td>28.0339</td>\n",
              "            <td>1.6596</td>\n",
              "            <td>43851043</td>\n",
              "        </tr>\n",
              "        <tr>\n",
              "            <td>16</td>\n",
              "            <td>American Samoa, US</td>\n",
              "            <td>AS</td>\n",
              "            <td>ASM</td>\n",
              "            <td>US</td>\n",
              "            <td>American Samoa</td>\n",
              "            <td>None</td>\n",
              "            <td>-14.270999999999999</td>\n",
              "            <td>-170.132</td>\n",
              "            <td>55641</td>\n",
              "        </tr>\n",
              "        <tr>\n",
              "            <td>20</td>\n",
              "            <td>Andorra</td>\n",
              "            <td>AD</td>\n",
              "            <td>AND</td>\n",
              "            <td>Andorra</td>\n",
              "            <td>None</td>\n",
              "            <td>None</td>\n",
              "            <td>42.5063</td>\n",
              "            <td>1.5218</td>\n",
              "            <td>77265</td>\n",
              "        </tr>\n",
              "    </tbody>\n",
              "</table>"
            ]
          },
          "metadata": {},
          "execution_count": 9
        }
      ],
      "source": [
        "%%sql\n",
        "SELECT * -- 可以應用 COALESCE 函數在 Province_State 或 Admin2\n",
        "  FROM lookup_table\n",
        " LIMIT 5;"
      ]
    },
    {
      "cell_type": "markdown",
      "id": "concrete-summary",
      "metadata": {
        "id": "concrete-summary"
      },
      "source": [
        "## 通用函數：計算數值"
      ]
    },
    {
      "cell_type": "markdown",
      "id": "threaded-trading",
      "metadata": {
        "id": "threaded-trading"
      },
      "source": [
        "## 使用 `ROUND` 函數可以調整查詢結果的小數點位數\n",
        "\n",
        "```sql\n",
        "ROUND(REAL, n_digits)\n",
        "```"
      ]
    },
    {
      "cell_type": "code",
      "execution_count": 10,
      "id": "opposite-westminster",
      "metadata": {
        "colab": {
          "base_uri": "https://localhost:8080/",
          "height": 182
        },
        "id": "opposite-westminster",
        "outputId": "cb9ece6b-fece-469f-9098-62b8b13c3026"
      },
      "outputs": [
        {
          "output_type": "stream",
          "name": "stdout",
          "text": [
            " * sqlite:///./databases/imdb.db\n",
            "Done.\n"
          ]
        },
        {
          "output_type": "execute_result",
          "data": {
            "text/plain": [
              "[(27.016079632465544,),\n",
              " (23.190068493150687,),\n",
              " (7.602564102564102,),\n",
              " (16.333620689655174,),\n",
              " (11.721227621483376,)]"
            ],
            "text/html": [
              "<table>\n",
              "    <thead>\n",
              "        <tr>\n",
              "            <th>points_per_game</th>\n",
              "        </tr>\n",
              "    </thead>\n",
              "    <tbody>\n",
              "        <tr>\n",
              "            <td>27.016079632465544</td>\n",
              "        </tr>\n",
              "        <tr>\n",
              "            <td>23.190068493150687</td>\n",
              "        </tr>\n",
              "        <tr>\n",
              "            <td>7.602564102564102</td>\n",
              "        </tr>\n",
              "        <tr>\n",
              "            <td>16.333620689655174</td>\n",
              "        </tr>\n",
              "        <tr>\n",
              "            <td>11.721227621483376</td>\n",
              "        </tr>\n",
              "    </tbody>\n",
              "</table>"
            ]
          },
          "metadata": {},
          "execution_count": 10
        }
      ],
      "source": [
        "%%sql\n",
        "SELECT CAST(points AS REAL) / gamesPlayed AS points_per_game -- 可以應用 ROUND 函數\n",
        "  FROM career_summaries\n",
        " LIMIT 5;"
      ]
    },
    {
      "cell_type": "markdown",
      "id": "perceived-rubber",
      "metadata": {
        "id": "perceived-rubber"
      },
      "source": [
        "## 通用函數：操作文字"
      ]
    },
    {
      "cell_type": "markdown",
      "id": "sporting-algebra",
      "metadata": {
        "id": "sporting-algebra"
      },
      "source": [
        "## 使用 `LENGTH` 函數可以計算文字中有幾個字元，包含空格、標點符號\n",
        "\n",
        "```sql\n",
        "LENGTH(TEXT)\n",
        "```"
      ]
    },
    {
      "cell_type": "code",
      "execution_count": 11,
      "id": "adverse-facing",
      "metadata": {
        "colab": {
          "base_uri": "https://localhost:8080/",
          "height": 182
        },
        "id": "adverse-facing",
        "outputId": "b1dd4028-1241-4ef7-e025-68ddb3fdbdbb"
      },
      "outputs": [
        {
          "output_type": "stream",
          "name": "stdout",
          "text": [
            " * sqlite:///./databases/imdb.db\n",
            "Done.\n"
          ]
        },
        {
          "output_type": "execute_result",
          "data": {
            "text/plain": [
              "[('LeBron', 'James'),\n",
              " ('Carmelo', 'Anthony'),\n",
              " ('Udonis', 'Haslem'),\n",
              " ('Dwight', 'Howard'),\n",
              " ('Andre', 'Iguodala')]"
            ],
            "text/html": [
              "<table>\n",
              "    <thead>\n",
              "        <tr>\n",
              "            <th>length_of_first_name</th>\n",
              "            <th>length_of_last_name</th>\n",
              "        </tr>\n",
              "    </thead>\n",
              "    <tbody>\n",
              "        <tr>\n",
              "            <td>LeBron</td>\n",
              "            <td>James</td>\n",
              "        </tr>\n",
              "        <tr>\n",
              "            <td>Carmelo</td>\n",
              "            <td>Anthony</td>\n",
              "        </tr>\n",
              "        <tr>\n",
              "            <td>Udonis</td>\n",
              "            <td>Haslem</td>\n",
              "        </tr>\n",
              "        <tr>\n",
              "            <td>Dwight</td>\n",
              "            <td>Howard</td>\n",
              "        </tr>\n",
              "        <tr>\n",
              "            <td>Andre</td>\n",
              "            <td>Iguodala</td>\n",
              "        </tr>\n",
              "    </tbody>\n",
              "</table>"
            ]
          },
          "metadata": {},
          "execution_count": 11
        }
      ],
      "source": [
        "%%sql\n",
        "SELECT firstName AS length_of_first_name, -- 可以應用 LENGTH 函數\n",
        "       lastName AS length_of_last_name    -- 可以應用 LENGTH 函數\n",
        "  FROM players\n",
        " LIMIT 5;"
      ]
    },
    {
      "cell_type": "markdown",
      "id": "unnecessary-denmark",
      "metadata": {
        "id": "unnecessary-denmark"
      },
      "source": [
        "## 使用 `SUBSTR` 函數可利用位置將文字中的指定段落擷取出來\n",
        "\n",
        "```sql\n",
        "SUBSTR(TEXT, start, length)\n",
        "```"
      ]
    },
    {
      "cell_type": "code",
      "execution_count": 18,
      "id": "christian-polymer",
      "metadata": {
        "colab": {
          "base_uri": "https://localhost:8080/",
          "height": 140
        },
        "id": "christian-polymer",
        "outputId": "e56987b9-7cb0-48c9-f628-950ac3d8f72f"
      },
      "outputs": [
        {
          "metadata": {
            "tags": null
          },
          "name": "stdout",
          "output_type": "stream",
          "text": [
            " * sqlite:///./databases/imdb.db\n",
            "Done.\n"
          ]
        },
        {
          "data": {
            "text/html": [
              "<table>\n",
              "    <thead>\n",
              "        <tr>\n",
              "            <th>SUBSTR(city, 1, 3) -- 可以應用 SUBSTR 函數</th>\n",
              "        </tr>\n",
              "    </thead>\n",
              "    <tbody>\n",
              "        <tr>\n",
              "            <td>Atl</td>\n",
              "        </tr>\n",
              "        <tr>\n",
              "            <td>Bos</td>\n",
              "        </tr>\n",
              "        <tr>\n",
              "            <td>Cle</td>\n",
              "        </tr>\n",
              "    </tbody>\n",
              "</table>"
            ],
            "text/plain": [
              "[('Atl',), ('Bos',), ('Cle',)]"
            ]
          },
          "execution_count": 18,
          "metadata": {},
          "output_type": "execute_result"
        }
      ],
      "source": [
        "%%sql\n",
        "SELECT SUBSTR(city, 1, 3) -- 可以應用 SUBSTR 函數\n",
        "  FROM teams\n",
        " LIMIT 3;"
      ]
    },
    {
      "cell_type": "markdown",
      "id": "hawaiian-facial",
      "metadata": {
        "id": "hawaiian-facial"
      },
      "source": [
        "## 使用 `LOWER` 與 `UPPER` 函數可以調整英文的大小寫\n",
        "\n",
        "```sql\n",
        "LOWER(TEXT)\n",
        "UPPER(TEXT)\n",
        "```"
      ]
    },
    {
      "cell_type": "code",
      "execution_count": 21,
      "id": "enhanced-quest",
      "metadata": {
        "colab": {
          "base_uri": "https://localhost:8080/",
          "height": 140
        },
        "id": "enhanced-quest",
        "outputId": "fbd31972-4b3c-478c-afc1-a0c03739c676"
      },
      "outputs": [
        {
          "output_type": "stream",
          "name": "stdout",
          "text": [
            " * sqlite:///./databases/imdb.db\n",
            "Done.\n"
          ]
        },
        {
          "output_type": "execute_result",
          "data": {
            "text/plain": [
              "[('ATLANTA', 'atlanta'), ('BOSTON', 'boston'), ('CLEVELAND', 'cleveland')]"
            ],
            "text/html": [
              "<table>\n",
              "    <thead>\n",
              "        <tr>\n",
              "            <th>upper_tricode</th>\n",
              "            <th>lower_tricode</th>\n",
              "        </tr>\n",
              "    </thead>\n",
              "    <tbody>\n",
              "        <tr>\n",
              "            <td>ATLANTA</td>\n",
              "            <td>atlanta</td>\n",
              "        </tr>\n",
              "        <tr>\n",
              "            <td>BOSTON</td>\n",
              "            <td>boston</td>\n",
              "        </tr>\n",
              "        <tr>\n",
              "            <td>CLEVELAND</td>\n",
              "            <td>cleveland</td>\n",
              "        </tr>\n",
              "    </tbody>\n",
              "</table>"
            ]
          },
          "metadata": {},
          "execution_count": 21
        }
      ],
      "source": [
        "%%sql\n",
        "SELECT UPPER(city) AS upper_tricode, -- 可以應用 UPPER 函數\n",
        "       LOWER(city) AS lower_tricode  -- 可以應用 LOWER 函數\n",
        "  FROM teams\n",
        " LIMIT 3;"
      ]
    },
    {
      "cell_type": "markdown",
      "id": "valued-season",
      "metadata": {
        "id": "valued-season"
      },
      "source": [
        "## 通用函數：操作日期時間"
      ]
    },
    {
      "cell_type": "markdown",
      "id": "biological-associate",
      "metadata": {
        "id": "biological-associate"
      },
      "source": [
        "## 標準的日期、時間與日期時間格式\n",
        "\n",
        "- 以 ISO8601 格式為標準\n",
        "- 日期 `YYYY-MM-DD`\n",
        "- 時間 `HH:MM:SS`\n",
        "- 日期時間 `YYYY-MM-DD HH:MM:SS`"
      ]
    },
    {
      "cell_type": "markdown",
      "id": "norwegian-scenario",
      "metadata": {
        "id": "norwegian-scenario"
      },
      "source": [
        "## 使用 `STRFTIME` 函數調整日期、時間或日期時間的顯示格式\n",
        "\n",
        "```sql\n",
        "STRFTIME(format, DATE/TIME/DATETIME)\n",
        "```"
      ]
    },
    {
      "cell_type": "markdown",
      "id": "demanding-mandate",
      "metadata": {
        "id": "demanding-mandate"
      },
      "source": [
        "## 常見的日期與日期時間格式參數\n",
        "\n",
        "- `%d`：二位數的日（01-31）\n",
        "- `%j`：一年中的第幾天（001-366）\n",
        "- `%m`：二位數的月（01-12）\n",
        "- `%w`：一星期中的第幾天（0-6）\n",
        "- `%W`：一年中的第幾週（00-53）\n",
        "- `%Y`：四位數的年（0000-9999）"
      ]
    },
    {
      "cell_type": "code",
      "execution_count": 22,
      "id": "planned-shade",
      "metadata": {
        "colab": {
          "base_uri": "https://localhost:8080/",
          "height": 98
        },
        "id": "planned-shade",
        "outputId": "e4ec7b92-4586-4dd8-a01c-97ce890c83f0"
      },
      "outputs": [
        {
          "output_type": "stream",
          "name": "stdout",
          "text": [
            " * sqlite:///./databases/imdb.db\n",
            "Done.\n"
          ]
        },
        {
          "output_type": "execute_result",
          "data": {
            "text/plain": [
              "[('2021-04-01 04:27:05', '01', '091', '04', '4', '13', '2021')]"
            ],
            "text/html": [
              "<table>\n",
              "    <thead>\n",
              "        <tr>\n",
              "            <th>Last_Update</th>\n",
              "            <th>day_part</th>\n",
              "            <th>year_day_format</th>\n",
              "            <th>month_part</th>\n",
              "            <th>weekday</th>\n",
              "            <th>nth_week</th>\n",
              "            <th>year_part</th>\n",
              "        </tr>\n",
              "    </thead>\n",
              "    <tbody>\n",
              "        <tr>\n",
              "            <td>2021-04-01 04:27:05</td>\n",
              "            <td>01</td>\n",
              "            <td>091</td>\n",
              "            <td>04</td>\n",
              "            <td>4</td>\n",
              "            <td>13</td>\n",
              "            <td>2021</td>\n",
              "        </tr>\n",
              "    </tbody>\n",
              "</table>"
            ]
          },
          "metadata": {},
          "execution_count": 22
        }
      ],
      "source": [
        "%%sql\n",
        "SELECT Last_Update,\n",
        "       STRFTIME('%d', Last_Update) AS day_part,\n",
        "       STRFTIME('%j', Last_Update) AS year_day_format,\n",
        "       STRFTIME('%m', Last_Update) AS month_part,\n",
        "       STRFTIME('%w', Last_Update) AS weekday,\n",
        "       STRFTIME('%W', Last_Update) AS nth_week,\n",
        "       STRFTIME('%Y', Last_Update) AS year_part\n",
        "  FROM daily_report\n",
        " LIMIT 1;"
      ]
    },
    {
      "cell_type": "markdown",
      "id": "under-raleigh",
      "metadata": {
        "id": "under-raleigh"
      },
      "source": [
        "## SQLite 通用函數與操作日期時間函數的官方文件\n",
        "\n",
        "- [Built-In Scalar SQL Functions](https://www.sqlite.org/lang_corefunc.html)\n",
        "- [Date And Time Functions](https://www.sqlite.org/lang_datefunc.html)"
      ]
    },
    {
      "cell_type": "markdown",
      "id": "pleasant-dynamics",
      "metadata": {
        "id": "pleasant-dynamics"
      },
      "source": [
        "## 聚合函數"
      ]
    },
    {
      "cell_type": "markdown",
      "id": "welcome-wales",
      "metadata": {
        "id": "welcome-wales"
      },
      "source": [
        "## 常見的聚合函數\n",
        "\n",
        "- `AVG(column_name)`：計算變數的平均數\n",
        "- `COUNT(column_name)`：計算變數的「非」遺漏值數\n",
        "- `COUNT(*)`：計算資料表的觀測值數\n",
        "- `MAX(column_name)`：計算變數的最大值\n",
        "- `MIN(column_name)`：計算變數的最小值\n",
        "- `SUM(column_name)`：計算變數的加總"
      ]
    },
    {
      "cell_type": "code",
      "execution_count": 23,
      "id": "announced-masters",
      "metadata": {
        "colab": {
          "base_uri": "https://localhost:8080/",
          "height": 98
        },
        "id": "announced-masters",
        "outputId": "1e516db4-c2b0-4777-8a20-f8a8caf837b5"
      },
      "outputs": [
        {
          "output_type": "stream",
          "name": "stdout",
          "text": [
            " * sqlite:///./databases/imdb.db\n",
            "Done.\n"
          ]
        },
        {
          "output_type": "execute_result",
          "data": {
            "text/plain": [
              "[(32359.3908565687,)]"
            ],
            "text/html": [
              "<table>\n",
              "    <thead>\n",
              "        <tr>\n",
              "            <th>avg_confirmed</th>\n",
              "        </tr>\n",
              "    </thead>\n",
              "    <tbody>\n",
              "        <tr>\n",
              "            <td>32359.3908565687</td>\n",
              "        </tr>\n",
              "    </tbody>\n",
              "</table>"
            ]
          },
          "metadata": {},
          "execution_count": 23
        }
      ],
      "source": [
        "%%sql\n",
        "SELECT AVG(Confirmed) AS avg_confirmed\n",
        "  FROM daily_report;"
      ]
    },
    {
      "cell_type": "code",
      "execution_count": 24,
      "id": "exposed-paraguay",
      "metadata": {
        "colab": {
          "base_uri": "https://localhost:8080/",
          "height": 98
        },
        "id": "exposed-paraguay",
        "outputId": "e78eb3a3-a7ba-4ce7-ab00-40e791fc3717"
      },
      "outputs": [
        {
          "output_type": "stream",
          "name": "stdout",
          "text": [
            " * sqlite:///./databases/imdb.db\n",
            "Done.\n"
          ]
        },
        {
          "output_type": "execute_result",
          "data": {
            "text/plain": [
              "[(3981,)]"
            ],
            "text/html": [
              "<table>\n",
              "    <thead>\n",
              "        <tr>\n",
              "            <th>number_of_states</th>\n",
              "        </tr>\n",
              "    </thead>\n",
              "    <tbody>\n",
              "        <tr>\n",
              "            <td>3981</td>\n",
              "        </tr>\n",
              "    </tbody>\n",
              "</table>"
            ]
          },
          "metadata": {},
          "execution_count": 24
        }
      ],
      "source": [
        "%%sql\n",
        "SELECT COUNT(Province_State) AS number_of_states\n",
        "  FROM lookup_table;"
      ]
    },
    {
      "cell_type": "code",
      "execution_count": 25,
      "id": "becoming-mumbai",
      "metadata": {
        "colab": {
          "base_uri": "https://localhost:8080/",
          "height": 98
        },
        "id": "becoming-mumbai",
        "outputId": "c1cd2ad6-4778-4892-dab0-d2530d8475de"
      },
      "outputs": [
        {
          "output_type": "stream",
          "name": "stdout",
          "text": [
            " * sqlite:///./databases/imdb.db\n",
            "Done.\n"
          ]
        },
        {
          "output_type": "execute_result",
          "data": {
            "text/plain": [
              "[(4175,)]"
            ],
            "text/html": [
              "<table>\n",
              "    <thead>\n",
              "        <tr>\n",
              "            <th>number_of_rows</th>\n",
              "        </tr>\n",
              "    </thead>\n",
              "    <tbody>\n",
              "        <tr>\n",
              "            <td>4175</td>\n",
              "        </tr>\n",
              "    </tbody>\n",
              "</table>"
            ]
          },
          "metadata": {},
          "execution_count": 25
        }
      ],
      "source": [
        "%%sql\n",
        "SELECT COUNT(*) AS number_of_rows\n",
        "  FROM lookup_table;"
      ]
    },
    {
      "cell_type": "code",
      "execution_count": 26,
      "id": "correct-canadian",
      "metadata": {
        "colab": {
          "base_uri": "https://localhost:8080/",
          "height": 98
        },
        "id": "correct-canadian",
        "outputId": "fab93a06-009d-48a6-a574-aceb29c2b653"
      },
      "outputs": [
        {
          "output_type": "stream",
          "name": "stdout",
          "text": [
            " * sqlite:///./databases/imdb.db\n",
            "Done.\n"
          ]
        },
        {
          "output_type": "execute_result",
          "data": {
            "text/plain": [
              "[(4611392,)]"
            ],
            "text/html": [
              "<table>\n",
              "    <thead>\n",
              "        <tr>\n",
              "            <th>max_confirmed</th>\n",
              "        </tr>\n",
              "    </thead>\n",
              "    <tbody>\n",
              "        <tr>\n",
              "            <td>4611392</td>\n",
              "        </tr>\n",
              "    </tbody>\n",
              "</table>"
            ]
          },
          "metadata": {},
          "execution_count": 26
        }
      ],
      "source": [
        "%%sql\n",
        "SELECT MAX(Confirmed) AS max_confirmed\n",
        "  FROM daily_report;"
      ]
    },
    {
      "cell_type": "code",
      "execution_count": 27,
      "id": "heated-timeline",
      "metadata": {
        "colab": {
          "base_uri": "https://localhost:8080/",
          "height": 98
        },
        "id": "heated-timeline",
        "outputId": "21d0b356-5fe4-4c86-b342-06b356d1ad18"
      },
      "outputs": [
        {
          "output_type": "stream",
          "name": "stdout",
          "text": [
            " * sqlite:///./databases/imdb.db\n",
            "Done.\n"
          ]
        },
        {
          "output_type": "execute_result",
          "data": {
            "text/plain": [
              "[(0,)]"
            ],
            "text/html": [
              "<table>\n",
              "    <thead>\n",
              "        <tr>\n",
              "            <th>min_confirmed</th>\n",
              "        </tr>\n",
              "    </thead>\n",
              "    <tbody>\n",
              "        <tr>\n",
              "            <td>0</td>\n",
              "        </tr>\n",
              "    </tbody>\n",
              "</table>"
            ]
          },
          "metadata": {},
          "execution_count": 27
        }
      ],
      "source": [
        "%%sql\n",
        "SELECT MIN(Confirmed) AS min_confirmed\n",
        "  FROM daily_report;"
      ]
    },
    {
      "cell_type": "markdown",
      "id": "solid-conditioning",
      "metadata": {
        "id": "solid-conditioning"
      },
      "source": [
        "## SQLite 聚合函數的官方文件\n",
        "\n",
        "[Built-in Aggregate Functions](https://www.sqlite.org/lang_aggfunc.html)"
      ]
    },
    {
      "cell_type": "markdown",
      "id": "understanding-sudan",
      "metadata": {
        "id": "understanding-sudan"
      },
      "source": [
        "## 重點統整\n",
        "\n",
        "- 函數是預先被定義好的運算處理邏輯，能夠將「輸入」對應為「輸出」。\n",
        "- 函數依照功能區分有兩大類，兩者的差別在於作用的維度不同。\n",
        "    - 通用函數作用在「水平」方向。\n",
        "    - 聚合函數則作用在「垂直」方向。"
      ]
    },
    {
      "cell_type": "markdown",
      "id": "strategic-poverty",
      "metadata": {
        "id": "strategic-poverty"
      },
      "source": [
        "## 重點統整（續）\n",
        "\n",
        "- 通用函數（Universal functions）\n",
        "    - 轉換資料類型。\n",
        "    - 計算數值。\n",
        "    - 操作文字。\n",
        "    - 操作日期時間。\n",
        "- 聚合函數（Aggregate functions）"
      ]
    },
    {
      "cell_type": "markdown",
      "id": "structured-thomson",
      "metadata": {
        "id": "structured-thomson"
      },
      "source": [
        "```sql\n",
        "/*\n",
        "截至目前學起來的 SQL 有哪些？\n",
        "SQL 寫作順序必須遵從標準 SQL 的規定。\n",
        "*/\n",
        "SELECT column_names  -- 選擇哪些欄位\n",
        "  FROM table_name    -- 從哪個資料庫的資料表\n",
        " LIMIT m;            -- 查詢結果顯示前 m 列就好\n",
        "```"
      ]
    }
  ],
  "metadata": {
    "celltoolbar": "Slideshow",
    "kernelspec": {
      "display_name": "Python 3",
      "name": "python3"
    },
    "language_info": {
      "name": "python"
    },
    "colab": {
      "provenance": [],
      "include_colab_link": true
    }
  },
  "nbformat": 4,
  "nbformat_minor": 5
}