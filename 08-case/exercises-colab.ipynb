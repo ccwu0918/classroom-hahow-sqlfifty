{
  "cells": [
    {
      "cell_type": "markdown",
      "metadata": {
        "id": "view-in-github",
        "colab_type": "text"
      },
      "source": [
        "<a href=\"https://colab.research.google.com/github/ccwu0918/classroom-hahow-sqlfifty/blob/main/08-case/exercises-colab.ipynb\" target=\"_parent\"><img src=\"https://colab.research.google.com/assets/colab-badge.svg\" alt=\"Open In Colab\"/></a>"
      ]
    },
    {
      "cell_type": "markdown",
      "metadata": {
        "deletable": false,
        "editable": false,
        "id": "AVzUsAuNtkj-"
      },
      "source": [
        "# SQL 的五十道練習\n",
        "\n",
        "> 條件邏輯\n",
        "\n",
        "[數據交點](https://www.datainpoint.com) | 郭耀仁 <yaojenkuo@datainpoint.com>"
      ]
    },
    {
      "cell_type": "markdown",
      "metadata": {
        "deletable": false,
        "id": "buS8fIxmtkkA"
      },
      "source": [
        "## 練習題指引\n",
        "\n",
        "- 由於近期 mybinder.org 的服務不穩定，新增 Google Colab 作為另一個寫作練習題的平台。\n",
        "- 開始寫作之前，可以先按上方「Copy to Drive」按鈕將筆記本複製到自己的 Google 雲端硬碟。\n",
        "- 在每份練習題的開始，都會先將四個學習資料庫載入環境。\n",
        "- 因此 SQL 可以指定四個學習資料庫中的資料表，不需要額外指定資料庫。\n",
        "- 在 SQL 語法起點與 SQL 語法終點這兩個單行註解之間撰寫能夠得到預期結果的 SQL。\n",
        "- 可以先在自己電腦的 SQLiteStudio 或者 DBeaver 寫出跟預期結果相同的 SQL 後再複製貼上到練習題。\n",
        "- 執行測試的方式為點選右上角 Connect，然後點選上方選單的 Runtime -> Restart and run all -> Yes -> Run anyway。\n",
        "- 移動到 Google Colab 的最後一個儲存格看測試結果。\n",
        "- 可以每寫一題就執行測試，也可以全部寫完再執行測試。\n",
        "- 練習題閒置超過 10 分鐘會自動斷線，這時只要重新點選練習題連結即可重新啟動。"
      ]
    },
    {
      "cell_type": "code",
      "execution_count": null,
      "metadata": {
        "id": "L5lZZTnwtkkA"
      },
      "outputs": [],
      "source": [
        "!wget -N https://raw.githubusercontent.com/datainpoint/classroom-hahow-sqlfifty/main/databases/nba.db\n",
        "!wget -N https://raw.githubusercontent.com/datainpoint/classroom-hahow-sqlfifty/main/databases/covid19.db\n",
        "!wget -N https://raw.githubusercontent.com/datainpoint/classroom-hahow-sqlfifty/main/databases/twElection2020.db\n",
        "!wget -N https://raw.githubusercontent.com/datainpoint/classroom-hahow-sqlfifty/main/databases/imdb.db\n",
        "!wget -N https://raw.githubusercontent.com/datainpoint/classroom-hahow-sqlfifty/main/exercise_index.json"
      ]
    },
    {
      "cell_type": "code",
      "execution_count": null,
      "metadata": {
        "deletable": false,
        "id": "-Plfjc0stkkB"
      },
      "outputs": [],
      "source": [
        "import sqlite3\n",
        "import unittest\n",
        "import json\n",
        "import os\n",
        "import numpy as np\n",
        "import pandas as pd\n",
        "conn = sqlite3.connect('nba.db')\n",
        "conn.execute(\"\"\"ATTACH 'covid19.db' AS covid19\"\"\")\n",
        "conn.execute(\"\"\"ATTACH 'twElection2020.db' AS twElection2020\"\"\")\n",
        "conn.execute(\"\"\"ATTACH 'imdb.db' AS imdb\"\"\")"
      ]
    },
    {
      "cell_type": "markdown",
      "metadata": {
        "id": "EnlaRu97tkkB"
      },
      "source": [
        "## 22. 從 `covid19` 資料庫的 `daily_report` 資料表將「美國」與「非美國」的觀測值用衍生計算欄位區分，美國的觀測值給予整數 1、非美國的觀測值給予整數 0，參考下列的預期查詢結果。\n",
        "\n",
        "- 預期輸入：SQL 查詢語法。\n",
        "- 預期輸出：(3981, 2) 的查詢結果。\n",
        "\n",
        "```\n",
        "                   Combined_Key  is_us\n",
        "0                Abruzzo, Italy      0\n",
        "1                  Acre, Brazil      0\n",
        "2       Adygea Republic, Russia      0\n",
        "3                   Afghanistan      0\n",
        "4        Aguascalientes, Mexico      0\n",
        "...                         ...    ...\n",
        "3976          Yuma, Arizona, US      1\n",
        "3977         Yuma, Colorado, US      1\n",
        "3978          Zapata, Texas, US      1\n",
        "3979          Zavala, Texas, US      1\n",
        "3980  Ziebach, South Dakota, US      1\n",
        "\n",
        "[3981 rows x 2 columns]\n",
        "```"
      ]
    },
    {
      "cell_type": "code",
      "execution_count": null,
      "metadata": {
        "id": "pF5OjDeQtkkB"
      },
      "outputs": [],
      "source": [
        "case_is_us_from_daily_report =\\\n",
        "\"\"\"\n",
        "-- SQL 查詢語法起點\n",
        "\n",
        "-- SQL 查詢語法終點\n",
        "\"\"\""
      ]
    },
    {
      "cell_type": "markdown",
      "metadata": {
        "id": "-bxe2n6OtkkC"
      },
      "source": [
        "## 23. 從 `imdb` 資料庫的 `movies` 資料表將評等超過 8.7（`>8.7`）的電影分類為 `'Awesome'`、將評等超過 8.4（`>8.4`）的電影分類為 `'Terrific'`，再將其餘的電影分類為 `'Great'`，參考下列的預期查詢結果。\n",
        "\n",
        "- 預期輸入：SQL 查詢語法。\n",
        "- 預期輸出：(250, 3) 的查詢結果。\n",
        "\n",
        "```\n",
        "                                              title  rating rating_category\n",
        "0                          The Shawshank Redemption     9.3         Awesome\n",
        "1                                     The Godfather     9.2         Awesome\n",
        "2                            The Godfather: Part II     9.0         Awesome\n",
        "3                                   The Dark Knight     9.0         Awesome\n",
        "4                                      12 Angry Men     9.0         Awesome\n",
        "..                                              ...     ...             ...\n",
        "245  Neon Genesis Evangelion: The End of Evangelion     8.1           Great\n",
        "246                              7 Kogustaki Mucize     8.2           Great\n",
        "247                                      Tangerines     8.2           Great\n",
        "248                                        Drishyam     8.2           Great\n",
        "249                                          Swades     8.2           Great\n",
        "\n",
        "[250 rows x 3 columns]\n",
        "```"
      ]
    },
    {
      "cell_type": "code",
      "execution_count": null,
      "metadata": {
        "id": "KlQZdMuLtkkC"
      },
      "outputs": [],
      "source": [
        "case_rating_category_from_movies =\\\n",
        "\"\"\"\n",
        "-- SQL 查詢語法起點\n",
        "\n",
        "-- SQL 查詢語法終點\n",
        "\"\"\""
      ]
    },
    {
      "cell_type": "markdown",
      "metadata": {
        "id": "jKz-n2vTtkkC"
      },
      "source": [
        "## 24. 從 `twElection2020` 資料庫的 `admin_regions` 資料表將 `county` 分類為 `'六都'`與`'非六都'`，參考下列的預期查詢結果。\n",
        "\n",
        "PS 六都為臺北市、新北市、桃園市、臺中市、臺南市與高雄市。\n",
        "\n",
        "- 預期輸入：SQL 查詢語法。\n",
        "- 預期輸出：(22, 2) 的查詢結果。\n",
        "\n",
        "```\n",
        "   county county_type\n",
        "0     新北市          六都\n",
        "1     桃園市          六都\n",
        "2     臺中市          六都\n",
        "3     臺北市          六都\n",
        "4     臺南市          六都\n",
        "5     高雄市          六都\n",
        "6     南投縣         非六都\n",
        "7     嘉義市         非六都\n",
        "8     嘉義縣         非六都\n",
        "9     基隆市         非六都\n",
        "10    宜蘭縣         非六都\n",
        "11    屏東縣         非六都\n",
        "12    彰化縣         非六都\n",
        "13    新竹市         非六都\n",
        "14    新竹縣         非六都\n",
        "15    澎湖縣         非六都\n",
        "16    臺東縣         非六都\n",
        "17    花蓮縣         非六都\n",
        "18    苗栗縣         非六都\n",
        "19    連江縣         非六都\n",
        "20    金門縣         非六都\n",
        "21    雲林縣         非六都\n",
        "```"
      ]
    },
    {
      "cell_type": "code",
      "execution_count": null,
      "metadata": {
        "id": "vhhSK7kZtkkC"
      },
      "outputs": [],
      "source": [
        "case_county_type_from_admin_regions =\\\n",
        "\"\"\"\n",
        "-- SQL 查詢語法起點\n",
        "\n",
        "-- SQL 查詢語法終點\n",
        "\"\"\""
      ]
    },
    {
      "cell_type": "markdown",
      "metadata": {
        "deletable": false,
        "id": "wz814y3ktkkC"
      },
      "source": [
        "## 執行測試！\n",
        "\n",
        "Runtime -> Restart and run all -> Yes -> Run anyway."
      ]
    },
    {
      "cell_type": "code",
      "execution_count": null,
      "metadata": {
        "deletable": false,
        "cellView": "form",
        "id": "3qFRe2_htkkC"
      },
      "outputs": [],
      "source": [
        "# @title\n",
        "class TestCase(unittest.TestCase):\n",
        "    def test_22_case_is_us_from_daily_report(self):\n",
        "        is_us_from_daily_report = pd.read_sql(case_is_us_from_daily_report, conn)\n",
        "        self.assertEqual(is_us_from_daily_report.shape, (3981, 2))\n",
        "        column_values = set(is_us_from_daily_report.iloc[:, 1].values)\n",
        "        self.assertTrue(0 in column_values)\n",
        "        self.assertTrue(1 in column_values)\n",
        "    def test_23_case_rating_category_from_movies(self):\n",
        "        rating_category_from_movies = pd.read_sql(case_rating_category_from_movies, conn)\n",
        "        self.assertEqual(rating_category_from_movies.shape, (250, 3))\n",
        "        column_values = set(rating_category_from_movies.iloc[:, 2].values)\n",
        "        self.assertTrue('Awesome' in column_values)\n",
        "        self.assertTrue('Terrific' in column_values)\n",
        "        self.assertTrue('Great' in column_values)\n",
        "    def test_24_case_county_type_from_admin_regions(self):\n",
        "        county_type_from_admin_regions = pd.read_sql(case_county_type_from_admin_regions, conn)\n",
        "        self.assertEqual(county_type_from_admin_regions.shape, (22, 2))\n",
        "        column_values = set(county_type_from_admin_regions.iloc[:, 1].values)\n",
        "        column_values_arr = county_type_from_admin_regions.iloc[:, 1].values\n",
        "        self.assertTrue('六都' in column_values)\n",
        "        self.assertTrue('非六都' in column_values)\n",
        "        self.assertEqual(column_values_arr[column_values_arr == '六都'].size, 6)\n",
        "\n",
        "suite = unittest.TestLoader().loadTestsFromTestCase(TestCase)\n",
        "runner = unittest.TextTestRunner(verbosity=2)\n",
        "test_results = runner.run(suite)\n",
        "number_of_failures = len(test_results.failures)\n",
        "number_of_errors = len(test_results.errors)\n",
        "number_of_test_runs = test_results.testsRun\n",
        "number_of_successes = number_of_test_runs - (number_of_failures + number_of_errors)\n",
        "#cwd = os.getcwd()\n",
        "folder_name = \"08-case\"\n",
        "with open(\"exercise_index.json\", \"r\") as content:\n",
        "    exercise_index = json.load(content)\n",
        "chapter_name = exercise_index[folder_name]"
      ]
    },
    {
      "cell_type": "code",
      "execution_count": null,
      "metadata": {
        "deletable": false,
        "editable": false,
        "cellView": "form",
        "id": "FaoZNkwAtkkD"
      },
      "outputs": [],
      "source": [
        "# @title\n",
        "print(\"您在「{}」章節中的 {} 道 SQL 練習答對了 {} 題。\".format(chapter_name, number_of_test_runs, number_of_successes))"
      ]
    }
  ],
  "metadata": {
    "celltoolbar": "Edit Metadata",
    "kernelspec": {
      "display_name": "Python 3 (ipykernel)",
      "language": "python",
      "name": "python3"
    },
    "language_info": {
      "codemirror_mode": {
        "name": "ipython",
        "version": 3
      },
      "file_extension": ".py",
      "mimetype": "text/x-python",
      "name": "python",
      "nbconvert_exporter": "python",
      "pygments_lexer": "ipython3",
      "version": "3.9.5"
    },
    "colab": {
      "provenance": [],
      "include_colab_link": true
    }
  },
  "nbformat": 4,
  "nbformat_minor": 0
}