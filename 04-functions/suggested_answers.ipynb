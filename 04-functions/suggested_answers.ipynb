{
 "cells": [
  {
   "cell_type": "markdown",
   "metadata": {
    "deletable": false,
    "editable": false
   },
   "source": [
    "# SQL 的五十道練習\n",
    "\n",
    "> 函數（或稱函式）\n",
    "\n",
    "郭耀仁 <yaojenkuo@datainpoint.com>，[數據交點](https://www.datainpoint.com)"
   ]
  },
  {
   "cell_type": "code",
   "execution_count": 1,
   "metadata": {
    "deletable": false,
    "editable": false
   },
   "outputs": [
    {
     "data": {
      "text/plain": [
       "<sqlite3.Cursor at 0x7ff240261650>"
      ]
     },
     "execution_count": 1,
     "metadata": {},
     "output_type": "execute_result"
    }
   ],
   "source": [
    "import sqlite3\n",
    "import unittest\n",
    "import numpy as np\n",
    "import pandas as pd\n",
    "conn = sqlite3.connect('../databases/nba.db')\n",
    "conn.execute(\"\"\"ATTACH '../databases/covid19.db' AS covid19\"\"\")\n",
    "conn.execute(\"\"\"ATTACH '../databases/twElection2020.db' AS twElection2020\"\"\")\n",
    "conn.execute(\"\"\"ATTACH '../databases/imdb.db' AS imdb\"\"\")"
   ]
  },
  {
   "cell_type": "markdown",
   "metadata": {},
   "source": [
    "## 從 NBA 球員資料表 `players` 依據身高 `heightMeters` 與 `weightKilograms` 衍生計算欄位 `bmi`，使用 `ROUND()` function 將 `bmi` 的小數點位數調整為 2 位。\n",
    "\n",
    "\\begin{equation}\n",
    "BMI = \\frac{weight_{kg}}{height_{m}^2}\n",
    "\\end{equation}\n",
    "\n",
    "- 預期輸入：SQL 查詢語法。\n",
    "- 預期輸出：(495, 3) 的查詢結果。\n",
    "\n",
    "```\n",
    "    heightMeters weightKilograms    bmi\n",
    "0           2.03           102.1  24.78\n",
    "1           1.83           102.1  30.49\n",
    "2           2.11           120.2  27.00\n",
    "3           2.06           115.7  27.26\n",
    "4           2.11           113.4  25.47\n",
    "..           ...             ...    ...\n",
    "490         1.96            83.9  21.84\n",
    "491         2.03           106.6  25.87\n",
    "492         1.85            81.6  23.84\n",
    "493         2.11           108.9  24.46\n",
    "494         2.13           108.9  24.00\n",
    "\n",
    "[495 rows x 3 columns]\n",
    "```"
   ]
  },
  {
   "cell_type": "code",
   "execution_count": 2,
   "metadata": {},
   "outputs": [],
   "source": [
    "calculate_rounded_bmi =\\\n",
    "\"\"\"\n",
    "-- SQL 查詢語法起點\n",
    "SELECT heightMeters,\n",
    "       weightKilograms,\n",
    "       ROUND(weightKilograms / (heightMeters*heightMeters), 2) AS bmi\n",
    "  FROM players;\n",
    "-- SQL 查詢語法終點\n",
    "\"\"\""
   ]
  },
  {
   "cell_type": "markdown",
   "metadata": {},
   "source": [
    "## 從 NBA 球員生涯攻守資料表 `career_summaries` 中選擇 `assists` 與 `turnovers` 衍生計算助攻失誤比 `ast_to_ratio`，使用 `CAST()` function 讓 `ast_to_ratio` 的資料類型為浮點數 `REAL`。\n",
    "\n",
    "- 預期輸入：SQL 查詢語法。\n",
    "- 預期輸出：(495, 3) 的查詢結果。\n",
    "\n",
    "```\n",
    "    assists turnovers  ast_to_ratio\n",
    "0        16        23      0.695652\n",
    "1        65        28      2.321429\n",
    "2       660       793      0.832282\n",
    "3       746       446      1.672646\n",
    "4      2020      1587      1.272842\n",
    "..      ...       ...           ...\n",
    "490     871       290      3.003448\n",
    "491    1666      1422      1.171589\n",
    "492    1368       670      2.041791\n",
    "493     600       457      1.312910\n",
    "494     223       206      1.082524\n",
    "\n",
    "[495 rows x 3 columns]\n",
    "```"
   ]
  },
  {
   "cell_type": "code",
   "execution_count": 3,
   "metadata": {},
   "outputs": [],
   "source": [
    "calculate_ast_to_ratio =\\\n",
    "\"\"\"\n",
    "-- SQL 查詢語法起點\n",
    "SELECT assists,\n",
    "       turnovers,\n",
    "       CAST(assists AS REAL) / turnovers AS ast_to_ratio\n",
    "  FROM career_summaries;\n",
    "-- SQL 查詢語法終點\n",
    "\"\"\""
   ]
  },
  {
   "cell_type": "markdown",
   "metadata": {},
   "source": [
    "## 從 NBA 球員資料表 `players` 中選擇 `firstName` 與 `lastName`，使用 `UPPER()` 以及 `LOWER()` functions 將 `firstName` 調整為全小寫、將 `lastName` 調整為全大寫。\n",
    "\n",
    "- 預期輸入：SQL 查詢語法。\n",
    "- 預期輸出：(495, 2) 的查詢結果。\n",
    "\n",
    "```\n",
    "    lower_first_name upper_last_name\n",
    "0           precious         ACHIUWA\n",
    "1             jaylen           ADAMS\n",
    "2             steven           ADAMS\n",
    "3                bam         ADEBAYO\n",
    "4           lamarcus        ALDRIDGE\n",
    "..               ...             ...\n",
    "490            delon          WRIGHT\n",
    "491         thaddeus           YOUNG\n",
    "492             trae           YOUNG\n",
    "493             cody          ZELLER\n",
    "494            ivica           ZUBAC\n",
    "\n",
    "[495 rows x 2 columns]\n",
    "```"
   ]
  },
  {
   "cell_type": "code",
   "execution_count": 4,
   "metadata": {},
   "outputs": [],
   "source": [
    "select_lower_firstname_upper_lastname =\\\n",
    "\"\"\"\n",
    "-- SQL 查詢語法起點\n",
    "SELECT LOWER(firstName) AS lower_first_name,\n",
    "       UPPER(lastName) AS upper_last_name\n",
    "  FROM players;\n",
    "-- SQL 查詢語法終點\n",
    "\"\"\""
   ]
  },
  {
   "cell_type": "markdown",
   "metadata": {},
   "source": [
    "## 從 2020 台灣總統大選資料表 `presidential` 中利用聚合函數（或稱函式）彙總有多少人投下總統大選的選票 `total_votes`（有效票數），透過連結 `county`、`town` 與 `village` 計算台灣共有幾個獨一選舉區 `n_electoral_area`。\n",
    "\n",
    "- 預期輸入：SQL 查詢語法。\n",
    "- 預期輸出：(1, 2) 的查詢結果。\n",
    "\n",
    "```\n",
    "   total_votes  n_electoral_area\n",
    "0     14300940              7737\n",
    "```"
   ]
  },
  {
   "cell_type": "code",
   "execution_count": 5,
   "metadata": {},
   "outputs": [],
   "source": [
    "summarize_presidential_votes_electoral_area =\\\n",
    "\"\"\"\n",
    "-- SQL 查詢語法起點\n",
    "SELECT SUM(votes) AS total_votes,\n",
    "       COUNT(DISTINCT county || town || village) AS n_electoral_area\n",
    "  FROM presidential;\n",
    "-- SQL 查詢語法終點\n",
    "\"\"\""
   ]
  },
  {
   "cell_type": "markdown",
   "metadata": {},
   "source": [
    "## 從新冠肺炎每日報告資料表 `daily_report` 中利用聚合函數（或稱函式）彙總截至 2021-01-31 全世界有出現確診數的國家有幾個 `n_countries_affected`、全世界總確診數 `total_confirmed`、全世界總痊癒數 `total_recovered` 以及全世界總死亡數 `total_deaths`。\n",
    "- 預期輸入：SQL 查詢語法。\n",
    "- 預期輸出：(1, 4) 的查詢結果。\n",
    "\n",
    "```\n",
    "   n_countries_affected  total_confirmed  total_recovered  total_deaths\n",
    "0                   192        102965855         57049238       2227905\n",
    "```"
   ]
  },
  {
   "cell_type": "code",
   "execution_count": 6,
   "metadata": {},
   "outputs": [],
   "source": [
    "summarize_daily_report_stats =\\\n",
    "\"\"\"\n",
    "-- SQL 查詢語法起點\n",
    "SELECT COUNT(DISTINCT Country_Region) AS n_countries_affected,\n",
    "       SUM(Confirmed) AS total_confirmed,\n",
    "       SUM(Recovered) AS total_recovered,\n",
    "       SUM(Deaths) AS total_deaths\n",
    "  FROM daily_report;\n",
    "-- SQL 查詢語法終點\n",
    "\"\"\""
   ]
  },
  {
   "cell_type": "markdown",
   "metadata": {
    "deletable": false,
    "editable": false
   },
   "source": [
    "## 執行測試！\n",
    "\n",
    "Kernel -> Restart & Run All."
   ]
  },
  {
   "cell_type": "code",
   "execution_count": 7,
   "metadata": {
    "deletable": false,
    "editable": false
   },
   "outputs": [
    {
     "name": "stderr",
     "output_type": "stream",
     "text": [
      "test_calculate_ast_to_ratio (__main__.TestFunctions) ... ok\n",
      "test_calculate_rounded_bmi (__main__.TestFunctions) ... ok\n",
      "test_select_lower_firstname_upper_lastname (__main__.TestFunctions) ... ok\n",
      "test_summarize_daily_report_stats (__main__.TestFunctions) ... ok\n",
      "test_summarize_presidential_votes_electoral_area (__main__.TestFunctions) ... ok\n",
      "\n",
      "----------------------------------------------------------------------\n",
      "Ran 5 tests in 0.233s\n",
      "\n",
      "OK\n"
     ]
    }
   ],
   "source": [
    "class TestFunctions(unittest.TestCase):\n",
    "    def test_calculate_rounded_bmi(self):\n",
    "        rounded_bmi = pd.read_sql(calculate_rounded_bmi, conn)\n",
    "        self.assertEqual(rounded_bmi.shape, (495, 3))\n",
    "        np.testing.assert_equal(rounded_bmi.columns.values,\n",
    "                               np.array(['heightMeters', 'weightKilograms', 'bmi']))\n",
    "        np.testing.assert_almost_equal(rounded_bmi['bmi'].values[:5],\n",
    "                               np.array([24.78, 30.49, 27.00, 27.26, 25.47]))\n",
    "        np.testing.assert_almost_equal(rounded_bmi['bmi'].values[-5:],\n",
    "                               np.array([21.84, 25.87, 23.84, 24.46, 24.00]))  \n",
    "    def test_calculate_ast_to_ratio(self):\n",
    "        ast_to_ratio = pd.read_sql(calculate_ast_to_ratio, conn)\n",
    "        self.assertEqual(ast_to_ratio.shape, (495, 3))\n",
    "        np.testing.assert_equal(ast_to_ratio.columns.values,\n",
    "                               np.array(['assists', 'turnovers', 'ast_to_ratio']))\n",
    "        self.assertEqual(str(pd.read_sql(calculate_ast_to_ratio, conn)['ast_to_ratio'].dtype), 'float64')\n",
    "        \n",
    "    def test_select_lower_firstname_upper_lastname(self):\n",
    "        lower_firstname_upper_lastname = pd.read_sql(select_lower_firstname_upper_lastname, conn)\n",
    "        self.assertEqual(lower_firstname_upper_lastname.shape, (495, 2))\n",
    "        np.testing.assert_equal(lower_firstname_upper_lastname['lower_first_name'].values[:5],\n",
    "                               np.array(['precious', 'jaylen', 'steven', 'bam', 'lamarcus']))\n",
    "        np.testing.assert_equal(lower_firstname_upper_lastname['upper_last_name'].values[:5],\n",
    "                               np.array(['ACHIUWA', 'ADAMS', 'ADAMS', 'ADEBAYO', 'ALDRIDGE']))\n",
    "        \n",
    "    def test_summarize_daily_report_stats(self):\n",
    "        daily_report_stats = pd.read_sql(summarize_daily_report_stats, conn)\n",
    "        self.assertEqual(daily_report_stats.shape, (1, 4))\n",
    "        np.testing.assert_equal(daily_report_stats.loc[0, :].values,\n",
    "                               np.array([192, 102965855, 57049238, 2227905]))\n",
    "        \n",
    "    def test_summarize_presidential_votes_electoral_area(self):\n",
    "        presidential_votes_electoral_area = pd.read_sql(summarize_presidential_votes_electoral_area, conn)\n",
    "        self.assertEqual(presidential_votes_electoral_area.shape, (1, 2))\n",
    "        np.testing.assert_equal(presidential_votes_electoral_area.loc[0, :].values,\n",
    "                               np.array([14300940, 7737]))\n",
    "\n",
    "suite = unittest.TestLoader().loadTestsFromTestCase(TestFunctions)\n",
    "runner = unittest.TextTestRunner(verbosity=2)\n",
    "test_results = runner.run(suite)\n",
    "number_of_failures = len(test_results.failures)\n",
    "number_of_errors = len(test_results.errors)\n",
    "number_of_test_runs = test_results.testsRun\n",
    "number_of_successes = number_of_test_runs - (number_of_failures + number_of_errors)"
   ]
  },
  {
   "cell_type": "code",
   "execution_count": 8,
   "metadata": {
    "deletable": false,
    "editable": false
   },
   "outputs": [
    {
     "name": "stdout",
     "output_type": "stream",
     "text": [
      "您在 5 道 SQL 練習中答對了 5 題。\n"
     ]
    }
   ],
   "source": [
    "print(\"您在 {} 道 SQL 練習中答對了 {} 題。\".format(number_of_test_runs, number_of_successes))"
   ]
  }
 ],
 "metadata": {
  "celltoolbar": "Edit Metadata",
  "kernelspec": {
   "display_name": "Python Data Analysis",
   "language": "python",
   "name": "pyda"
  },
  "language_info": {
   "codemirror_mode": {
    "name": "ipython",
    "version": 3
   },
   "file_extension": ".py",
   "mimetype": "text/x-python",
   "name": "python",
   "nbconvert_exporter": "python",
   "pygments_lexer": "ipython3",
   "version": "3.6.8"
  }
 },
 "nbformat": 4,
 "nbformat_minor": 4
}
