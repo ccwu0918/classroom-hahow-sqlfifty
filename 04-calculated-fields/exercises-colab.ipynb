{
  "cells": [
    {
      "cell_type": "markdown",
      "metadata": {
        "id": "view-in-github",
        "colab_type": "text"
      },
      "source": [
        "<a href=\"https://colab.research.google.com/github/ccwu0918/classroom-hahow-sqlfifty/blob/main/04-calculated-fields/exercises-colab.ipynb\" target=\"_parent\"><img src=\"https://colab.research.google.com/assets/colab-badge.svg\" alt=\"Open In Colab\"/></a>"
      ]
    },
    {
      "cell_type": "markdown",
      "metadata": {
        "deletable": false,
        "editable": false,
        "id": "LbvGq2fJlTHT"
      },
      "source": [
        "# SQL 的五十道練習\n",
        "\n",
        "> 衍生計算欄位\n",
        "\n",
        "[數據交點](https://www.datainpoint.com/) | 郭耀仁 <yaojenkuo@datainpoint.com>"
      ]
    },
    {
      "cell_type": "markdown",
      "metadata": {
        "deletable": false,
        "id": "P_r2-yMvlTHT"
      },
      "source": [
        "## 練習題指引\n",
        "\n",
        "- 由於近期 mybinder.org 的服務不穩定，新增 Google Colab 作為另一個寫作練習題的平台。\n",
        "- 開始寫作之前，可以先按上方「Copy to Drive」按鈕將筆記本複製到自己的 Google 雲端硬碟。\n",
        "- 在每份練習題的開始，都會先將四個學習資料庫載入環境。\n",
        "- 因此 SQL 可以指定四個學習資料庫中的資料表，不需要額外指定資料庫。\n",
        "- 在 SQL 語法起點與 SQL 語法終點這兩個單行註解之間撰寫能夠得到預期結果的 SQL。\n",
        "- 可以先在自己電腦的 SQLiteStudio 或者 DBeaver 寫出跟預期結果相同的 SQL 後再複製貼上到練習題。\n",
        "- 執行測試的方式為點選右上角 Connect，然後點選上方選單的 Runtime -> Restart and run all -> Yes -> Run anyway。\n",
        "- 移動到 Google Colab 的最後一個儲存格看測試結果。\n",
        "- 可以每寫一題就執行測試，也可以全部寫完再執行測試。\n",
        "- 練習題閒置超過 10 分鐘會自動斷線，這時只要重新點選練習題連結即可重新啟動。"
      ]
    },
    {
      "cell_type": "code",
      "source": [
        "!git clone https://github.com/ccwu0918/classroom-hahow-sqlfifty.git"
      ],
      "metadata": {
        "id": "Q93Vk9GKbVjj",
        "outputId": "5a0e68a3-4783-459a-a528-be0e8e6e9df5",
        "colab": {
          "base_uri": "https://localhost:8080/"
        }
      },
      "execution_count": 2,
      "outputs": [
        {
          "output_type": "stream",
          "name": "stdout",
          "text": [
            "Cloning into 'classroom-hahow-sqlfifty'...\n",
            "remote: Enumerating objects: 919, done.\u001b[K\n",
            "remote: Counting objects: 100% (170/170), done.\u001b[K\n",
            "remote: Compressing objects: 100% (140/140), done.\u001b[K\n",
            "remote: Total 919 (delta 91), reused 70 (delta 29), pack-reused 749\u001b[K\n",
            "Receiving objects: 100% (919/919), 68.99 MiB | 6.96 MiB/s, done.\n",
            "Resolving deltas: 100% (583/583), done.\n",
            "Updating files: 100% (130/130), done.\n"
          ]
        }
      ]
    },
    {
      "cell_type": "code",
      "source": [
        "%cd classroom-hahow-sqlfifty"
      ],
      "metadata": {
        "id": "HlcICLC8bloZ",
        "outputId": "b008378a-1692-40b4-f1ca-82a00de209a8",
        "colab": {
          "base_uri": "https://localhost:8080/"
        }
      },
      "execution_count": 3,
      "outputs": [
        {
          "output_type": "stream",
          "name": "stdout",
          "text": [
            "/content/classroom-hahow-sqlfifty\n"
          ]
        }
      ]
    },
    {
      "cell_type": "code",
      "execution_count": null,
      "metadata": {
        "id": "iFUJM6J9bSHy"
      },
      "outputs": [],
      "source": [
        "# !wget -N https://raw.githubusercontent.com/datainpoint/classroom-hahow-sqlfifty/main/databases/nba.db\n",
        "# !wget -N https://raw.githubusercontent.com/datainpoint/classroom-hahow-sqlfifty/main/databases/covid19.db\n",
        "# !wget -N https://raw.githubusercontent.com/datainpoint/classroom-hahow-sqlfifty/main/databases/twElection2020.db\n",
        "# !wget -N https://raw.githubusercontent.com/datainpoint/classroom-hahow-sqlfifty/main/databases/imdb.db\n",
        "# !wget -N https://raw.githubusercontent.com/datainpoint/classroom-hahow-sqlfifty/main/exercise_index.json"
      ]
    },
    {
      "cell_type": "code",
      "execution_count": 10,
      "metadata": {
        "deletable": false,
        "id": "JzoixGNlbSHz",
        "outputId": "ed83a9d5-c335-4da4-f433-2e2e38d57f98",
        "colab": {
          "base_uri": "https://localhost:8080/"
        }
      },
      "outputs": [
        {
          "output_type": "execute_result",
          "data": {
            "text/plain": [
              "<sqlite3.Cursor at 0x7bc72e058b40>"
            ]
          },
          "metadata": {},
          "execution_count": 10
        }
      ],
      "source": [
        "import sqlite3\n",
        "import unittest\n",
        "import json\n",
        "import os\n",
        "import numpy as np\n",
        "import pandas as pd\n",
        "conn = sqlite3.connect('./databases/nba.db')\n",
        "conn.execute(\"\"\"ATTACH './databases/covid19.db' AS covid19\"\"\")\n",
        "conn.execute(\"\"\"ATTACH './databases/twElection2020.db' AS twElection2020\"\"\")\n",
        "conn.execute(\"\"\"ATTACH './databases/imdb.db' AS imdb\"\"\")"
      ]
    },
    {
      "cell_type": "code",
      "source": [
        "%load_ext sql"
      ],
      "metadata": {
        "id": "vLAGRoijcSb0"
      },
      "execution_count": 5,
      "outputs": []
    },
    {
      "cell_type": "code",
      "source": [
        "%sql sqlite:///./databases/nba.db\n",
        "%sql ATTACH './databases/covid19.db' AS covid19\n",
        "%sql ATTACH './databases/twElection2020.db' AS twElection2020\n",
        "%sql ATTACH './databases/imdb.db' AS imdb"
      ],
      "metadata": {
        "id": "gCsaniX2cz6Z",
        "outputId": "ff7f7489-878b-44e3-ed15-731f7f37be01",
        "colab": {
          "base_uri": "https://localhost:8080/"
        }
      },
      "execution_count": 6,
      "outputs": [
        {
          "output_type": "stream",
          "name": "stdout",
          "text": [
            " * sqlite:///./databases/nba.db\n",
            "Done.\n",
            " * sqlite:///./databases/nba.db\n",
            "Done.\n",
            " * sqlite:///./databases/nba.db\n",
            "Done.\n"
          ]
        },
        {
          "output_type": "execute_result",
          "data": {
            "text/plain": [
              "[]"
            ]
          },
          "metadata": {},
          "execution_count": 6
        }
      ]
    },
    {
      "cell_type": "markdown",
      "metadata": {
        "id": "l8F6-1hDlTHU"
      },
      "source": [
        "## 06. 從 `covid19` 資料庫的 `daily_report` 資料表根據 `Confirmed`、`Recovered`、`Deaths` 欄位以及下列公式衍生計算欄位 `Active`，參考下列的預期查詢結果。\n",
        "\n",
        "\\begin{equation}\n",
        "\\text{Active} = \\text{Confirmed} - \\text{Recovered} - \\text{Deaths}\n",
        "\\end{equation}\n",
        "\n",
        "- 預期輸入：SQL 查詢語法。\n",
        "- 預期輸出：(3981, 4) 的查詢結果。\n",
        "\n",
        "```\n",
        "      Confirmed  Recovered  Deaths   Active\n",
        "0         56454    51550.0    2484   2420.0\n",
        "1        125157    91271.0    2235  31651.0\n",
        "2        117192    81538.0    3093  32561.0\n",
        "3         12010    11315.0     115    580.0\n",
        "4         22311    20493.0     537   1281.0\n",
        "...         ...        ...     ...      ...\n",
        "3976       2603     2359.0      35    209.0\n",
        "3977     242353   215429.0    2627  24297.0\n",
        "3978       4357     1676.0     888   1793.0\n",
        "3979      88418    84592.0    1208   2618.0\n",
        "3980      36882    34686.0    1523    673.0\n",
        "\n",
        "[3981 rows x 4 columns]\n",
        "```"
      ]
    },
    {
      "cell_type": "code",
      "source": [
        "%%sql\n",
        "SELECT * FROM covid19.daily_report"
      ],
      "metadata": {
        "id": "xcT1w16Pdt_4"
      },
      "execution_count": null,
      "outputs": []
    },
    {
      "cell_type": "code",
      "source": [
        "pd.read_sql(\"SELECT * FROM covid19.daily_report \", conn)"
      ],
      "metadata": {
        "id": "Eg5WdV6KexYV"
      },
      "execution_count": null,
      "outputs": []
    },
    {
      "cell_type": "code",
      "execution_count": 16,
      "metadata": {
        "id": "GkHmsQiSlTHU"
      },
      "outputs": [],
      "source": [
        "calculate_active_from_daily_report =\\\n",
        "\"\"\"\n",
        "-- SQL 查詢語法起點\n",
        "\n",
        "-- SQL 查詢語法終點\n",
        "\"\"\""
      ]
    },
    {
      "cell_type": "markdown",
      "metadata": {
        "id": "7xGq0W-0lTHU"
      },
      "source": [
        "## 07. 從 `nba` 資料庫的 `players` 資料表依據 `heightMeters`、`weightKilograms` 欄位以及下列公式衍生計算欄位 `bmi`，參考下列的預期查詢結果。\n",
        "\n",
        "\\begin{equation}\n",
        "BMI = \\frac{weight_{kg}}{height_{m}^2}\n",
        "\\end{equation}\n",
        "\n",
        "- 預期輸入：SQL 查詢語法。\n",
        "- 預期輸出：(484, 3) 的查詢結果。\n",
        "\n",
        "```\n",
        "     heightMeters  weightKilograms        bmi\n",
        "0            2.06            113.4  26.722594\n",
        "1            2.01            108.0  26.732012\n",
        "2            2.03            106.6  25.868136\n",
        "3            2.08            120.2  27.782914\n",
        "4            1.98             97.5  24.869911\n",
        "..            ...              ...        ...\n",
        "479          2.01            104.3  25.816193\n",
        "480          2.08            106.1  24.523854\n",
        "481          1.78             88.5  27.932079\n",
        "482          1.98             90.7  23.135394\n",
        "483          1.96             83.9  21.839858\n",
        "\n",
        "[484 rows x 3 columns]\n",
        "```"
      ]
    },
    {
      "cell_type": "code",
      "execution_count": null,
      "metadata": {
        "id": "-eoAHnrclTHU"
      },
      "outputs": [],
      "source": [
        "calculate_bmi_from_players =\\\n",
        "\"\"\"\n",
        "-- SQL 查詢語法起點\n",
        "\n",
        "-- SQL 查詢語法終點\n",
        "\"\"\""
      ]
    },
    {
      "cell_type": "markdown",
      "metadata": {
        "id": "ih8YKCKvlTHU"
      },
      "source": [
        "## 08. 從 `nba` 資料庫的 `teams` 資料表連接 `confName`、`divName` 欄位後使用 `DISTINCT` 去除重複值，參考下列的預期查詢結果。\n",
        "\n",
        "- 預期輸入：SQL 查詢語法。\n",
        "- 預期輸出：(6, 1) 的查詢結果。\n",
        "\n",
        "```\n",
        "          conf_div\n",
        "0  East, Southeast\n",
        "1   East, Atlantic\n",
        "2    East, Central\n",
        "3  West, Southwest\n",
        "4  West, Northwest\n",
        "5    West, Pacific\n",
        "```"
      ]
    },
    {
      "cell_type": "code",
      "execution_count": null,
      "metadata": {
        "id": "4q4qUbO3lTHU"
      },
      "outputs": [],
      "source": [
        "distinct_concatenate_conference_division_from_teams =\\\n",
        "\"\"\"\n",
        "-- SQL 查詢語法起點\n",
        "\n",
        "-- SQL 查詢語法終點\n",
        "\"\"\""
      ]
    },
    {
      "cell_type": "markdown",
      "metadata": {
        "deletable": false,
        "id": "H3RQPwdTlTHU"
      },
      "source": [
        "## 執行測試！\n",
        "\n",
        "Runtime -> Restart and run all -> Yes -> Run anyway."
      ]
    },
    {
      "cell_type": "code",
      "execution_count": null,
      "metadata": {
        "deletable": false,
        "cellView": "form",
        "id": "LuRgflaUlTHU"
      },
      "outputs": [],
      "source": [
        "# @title\n",
        "class TestCalculatedFields(unittest.TestCase):\n",
        "    def test_06_calculate_active_from_daily_report(self):\n",
        "        active_from_daily_report = pd.read_sql(calculate_active_from_daily_report, conn)\n",
        "        self.assertEqual(active_from_daily_report.shape, (3981, 4))\n",
        "        column_names = set(active_from_daily_report.columns.values)\n",
        "        self.assertTrue('Active' in column_names)\n",
        "    def test_07_calculate_bmi_from_players(self):\n",
        "        bmi_from_players = pd.read_sql(calculate_bmi_from_players, conn)\n",
        "        self.assertEqual(bmi_from_players.shape, (484, 3))\n",
        "        column_names = set(bmi_from_players.columns.values)\n",
        "        self.assertTrue(('bmi' in column_names) or ('BMI' in column_names))\n",
        "    def test_08_distinct_concatenate_conference_division_from_teams(self):\n",
        "        concatenate_conference_division_from_teams = pd.read_sql(distinct_concatenate_conference_division_from_teams, conn)\n",
        "        self.assertEqual(concatenate_conference_division_from_teams.shape, (6, 1))\n",
        "        column_values = set(concatenate_conference_division_from_teams.iloc[:, 0].values)\n",
        "        self.assertTrue(len(column_values) == 6)\n",
        "\n",
        "suite = unittest.TestLoader().loadTestsFromTestCase(TestCalculatedFields)\n",
        "runner = unittest.TextTestRunner(verbosity=2)\n",
        "test_results = runner.run(suite)\n",
        "number_of_failures = len(test_results.failures)\n",
        "number_of_errors = len(test_results.errors)\n",
        "number_of_test_runs = test_results.testsRun\n",
        "number_of_successes = number_of_test_runs - (number_of_failures + number_of_errors)\n",
        "#cwd = os.getcwd()\n",
        "folder_name = \"04-calculated-fields\"\n",
        "with open(\"exercise_index.json\", \"r\") as content:\n",
        "    exercise_index = json.load(content)\n",
        "chapter_name = exercise_index[folder_name]"
      ]
    },
    {
      "cell_type": "code",
      "execution_count": null,
      "metadata": {
        "deletable": false,
        "editable": false,
        "cellView": "form",
        "id": "yiq-0wmtlTHU"
      },
      "outputs": [],
      "source": [
        "# @title\n",
        "print(\"您在「{}」章節中的 {} 道 SQL 練習答對了 {} 題。\".format(chapter_name, number_of_test_runs, number_of_successes))"
      ]
    }
  ],
  "metadata": {
    "celltoolbar": "Edit Metadata",
    "kernelspec": {
      "display_name": "Python 3 (ipykernel)",
      "language": "python",
      "name": "python3"
    },
    "language_info": {
      "codemirror_mode": {
        "name": "ipython",
        "version": 3
      },
      "file_extension": ".py",
      "mimetype": "text/x-python",
      "name": "python",
      "nbconvert_exporter": "python",
      "pygments_lexer": "ipython3",
      "version": "3.9.5"
    },
    "colab": {
      "provenance": [],
      "include_colab_link": true
    }
  },
  "nbformat": 4,
  "nbformat_minor": 0
}