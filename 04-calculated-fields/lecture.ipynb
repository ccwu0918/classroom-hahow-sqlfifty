{
  "cells": [
    {
      "cell_type": "markdown",
      "metadata": {
        "id": "view-in-github",
        "colab_type": "text"
      },
      "source": [
        "<a href=\"https://colab.research.google.com/github/ccwu0918/classroom-hahow-sqlfifty/blob/main/04-calculated-fields/lecture.ipynb\" target=\"_parent\"><img src=\"https://colab.research.google.com/assets/colab-badge.svg\" alt=\"Open In Colab\"/></a>"
      ]
    },
    {
      "cell_type": "markdown",
      "id": "lightweight-fruit",
      "metadata": {
        "id": "lightweight-fruit"
      },
      "source": [
        "# SQL 的五十道練習\n",
        "\n",
        "> 衍生計算欄位\n",
        "\n",
        "[數據交點](https://www.datainpoint.com/) | 郭耀仁 <yaojenkuo@datainpoint.com>"
      ]
    },
    {
      "cell_type": "code",
      "source": [
        "!git clone https://github.com/ccwu0918/classroom-hahow-sqlfifty.git"
      ],
      "metadata": {
        "id": "1MIwMZBokqD-",
        "outputId": "f330fbc5-c4c3-44cf-809c-1ffe38140765",
        "colab": {
          "base_uri": "https://localhost:8080/"
        }
      },
      "id": "1MIwMZBokqD-",
      "execution_count": 1,
      "outputs": [
        {
          "output_type": "stream",
          "name": "stdout",
          "text": [
            "Cloning into 'classroom-hahow-sqlfifty'...\n",
            "remote: Enumerating objects: 915, done.\u001b[K\n",
            "remote: Counting objects: 100% (166/166), done.\u001b[K\n",
            "remote: Compressing objects: 100% (136/136), done.\u001b[K\n",
            "remote: Total 915 (delta 89), reused 70 (delta 29), pack-reused 749\u001b[K\n",
            "Receiving objects: 100% (915/915), 68.99 MiB | 11.46 MiB/s, done.\n",
            "Resolving deltas: 100% (581/581), done.\n",
            "Updating files: 100% (130/130), done.\n"
          ]
        }
      ]
    },
    {
      "cell_type": "code",
      "source": [
        "%cd classroom-hahow-sqlfifty"
      ],
      "metadata": {
        "id": "KeDpkGpvkslV",
        "outputId": "f3c3bcab-c4ab-4254-b51d-6cb4221f248d",
        "colab": {
          "base_uri": "https://localhost:8080/"
        }
      },
      "id": "KeDpkGpvkslV",
      "execution_count": 2,
      "outputs": [
        {
          "output_type": "stream",
          "name": "stdout",
          "text": [
            "/content/classroom-hahow-sqlfifty\n"
          ]
        }
      ]
    },
    {
      "cell_type": "code",
      "source": [
        "%load_ext sql"
      ],
      "metadata": {
        "id": "6twSfc7Wku29"
      },
      "id": "6twSfc7Wku29",
      "execution_count": 3,
      "outputs": []
    },
    {
      "cell_type": "code",
      "source": [
        "%sql sqlite:///./databases/imdb.db\n",
        "%sql ATTACH './databases/covid19.db' AS covid19\n",
        "%sql ATTACH './databases/twElection2020.db' AS twElection2020\n",
        "%sql ATTACH './databases/nba.db' AS nba"
      ],
      "metadata": {
        "id": "OFQzciBekxdF",
        "outputId": "2db57ba5-d3b1-444e-8430-6bccbffa7c8d",
        "colab": {
          "base_uri": "https://localhost:8080/"
        }
      },
      "id": "OFQzciBekxdF",
      "execution_count": 4,
      "outputs": [
        {
          "output_type": "stream",
          "name": "stdout",
          "text": [
            " * sqlite:///./databases/imdb.db\n",
            "Done.\n",
            " * sqlite:///./databases/imdb.db\n",
            "Done.\n",
            " * sqlite:///./databases/imdb.db\n",
            "Done.\n"
          ]
        },
        {
          "output_type": "execute_result",
          "data": {
            "text/plain": [
              "[]"
            ]
          },
          "metadata": {},
          "execution_count": 4
        }
      ]
    },
    {
      "cell_type": "markdown",
      "id": "supposed-spread",
      "metadata": {
        "id": "supposed-spread"
      },
      "source": [
        "## 單獨存在的 `SELECT`"
      ]
    },
    {
      "cell_type": "markdown",
      "id": "threaded-police",
      "metadata": {
        "id": "threaded-police"
      },
      "source": [
        "## 在沒有 `FROM` 的情況下，`SELECT` 也能夠單獨存在於一段 SQL 之中"
      ]
    },
    {
      "cell_type": "code",
      "execution_count": 6,
      "id": "hawaiian-chick",
      "metadata": {
        "id": "hawaiian-chick",
        "outputId": "f10167a2-be1b-4d5d-9844-d38d4360dd78",
        "colab": {
          "base_uri": "https://localhost:8080/",
          "height": 98
        }
      },
      "outputs": [
        {
          "output_type": "stream",
          "name": "stdout",
          "text": [
            " * sqlite:///./databases/imdb.db\n",
            "Done.\n"
          ]
        },
        {
          "output_type": "execute_result",
          "data": {
            "text/plain": [
              "[('Hello, SQL!',)]"
            ],
            "text/html": [
              "<table>\n",
              "    <thead>\n",
              "        <tr>\n",
              "            <th>hello_sql</th>\n",
              "        </tr>\n",
              "    </thead>\n",
              "    <tbody>\n",
              "        <tr>\n",
              "            <td>Hello, SQL!</td>\n",
              "        </tr>\n",
              "    </tbody>\n",
              "</table>"
            ]
          },
          "metadata": {},
          "execution_count": 6
        }
      ],
      "source": [
        "%%sql\n",
        "SELECT 'Hello, SQL!' AS hello_sql; -- 單獨存在的 SELECT"
      ]
    },
    {
      "cell_type": "markdown",
      "id": "shaped-reconstruction",
      "metadata": {
        "id": "shaped-reconstruction"
      },
      "source": [
        "## 在 `SELECT` 後面除了指定資料表的欄位，也能夠擺放常數，常見的常數類型有：\n",
        "\n",
        "- 整數（INTEGER）。\n",
        "- 帶小數點的浮點數（REAL）。\n",
        "- 用單引號或雙引號標記的文字（TEXT）。\n",
        "- 空值、遺漏值（NULL）。"
      ]
    },
    {
      "cell_type": "markdown",
      "id": "opposite-efficiency",
      "metadata": {
        "id": "opposite-efficiency"
      },
      "source": [
        "## 我們使用單獨存在的 `SELECT` 將常見的常數類型顯示出來"
      ]
    },
    {
      "cell_type": "code",
      "execution_count": 7,
      "id": "excess-solid",
      "metadata": {
        "id": "excess-solid",
        "outputId": "97c788d8-b441-4df5-ce34-e0a55b41c1ff",
        "colab": {
          "base_uri": "https://localhost:8080/",
          "height": 98
        }
      },
      "outputs": [
        {
          "output_type": "stream",
          "name": "stdout",
          "text": [
            " * sqlite:///./databases/imdb.db\n",
            "Done.\n"
          ]
        },
        {
          "output_type": "execute_result",
          "data": {
            "text/plain": [
              "[(5566, 5566.0, 'Hello, SQL!', None)]"
            ],
            "text/html": [
              "<table>\n",
              "    <thead>\n",
              "        <tr>\n",
              "            <th>an_integer</th>\n",
              "            <th>a_real</th>\n",
              "            <th>a_text</th>\n",
              "            <th>a_null</th>\n",
              "        </tr>\n",
              "    </thead>\n",
              "    <tbody>\n",
              "        <tr>\n",
              "            <td>5566</td>\n",
              "            <td>5566.0</td>\n",
              "            <td>Hello, SQL!</td>\n",
              "            <td>None</td>\n",
              "        </tr>\n",
              "    </tbody>\n",
              "</table>"
            ]
          },
          "metadata": {},
          "execution_count": 7
        }
      ],
      "source": [
        "%%sql\n",
        "SELECT 5566 AS an_integer,\n",
        "       5566.0 AS a_real,\n",
        "       'Hello, SQL!' AS a_text,\n",
        "       NULL AS a_null;"
      ]
    },
    {
      "cell_type": "markdown",
      "id": "dense-florida",
      "metadata": {
        "id": "dense-florida"
      },
      "source": [
        "## 這表示即便在資料表中沒有儲存常數，依然能在 SQL 中加入這些常數"
      ]
    },
    {
      "cell_type": "code",
      "execution_count": 10,
      "id": "residential-liver",
      "metadata": {
        "id": "residential-liver",
        "outputId": "485039f8-bece-4e26-eddb-1a6307179153",
        "colab": {
          "base_uri": "https://localhost:8080/",
          "height": 182
        }
      },
      "outputs": [
        {
          "output_type": "stream",
          "name": "stdout",
          "text": [
            " * sqlite:///./databases/imdb.db\n",
            "Done.\n"
          ]
        },
        {
          "output_type": "execute_result",
          "data": {
            "text/plain": [
              "[(6, 30.48, 9, 2.54),\n",
              " (6, 30.48, 7, 2.54),\n",
              " (6, 30.48, 8, 2.54),\n",
              " (6, 30.48, 10, 2.54),\n",
              " (6, 30.48, 6, 2.54)]"
            ],
            "text/html": [
              "<table>\n",
              "    <thead>\n",
              "        <tr>\n",
              "            <th>heightFeet</th>\n",
              "            <th>foot_to_cm</th>\n",
              "            <th>heightInches</th>\n",
              "            <th>inch_to_cm</th>\n",
              "        </tr>\n",
              "    </thead>\n",
              "    <tbody>\n",
              "        <tr>\n",
              "            <td>6</td>\n",
              "            <td>30.48</td>\n",
              "            <td>9</td>\n",
              "            <td>2.54</td>\n",
              "        </tr>\n",
              "        <tr>\n",
              "            <td>6</td>\n",
              "            <td>30.48</td>\n",
              "            <td>7</td>\n",
              "            <td>2.54</td>\n",
              "        </tr>\n",
              "        <tr>\n",
              "            <td>6</td>\n",
              "            <td>30.48</td>\n",
              "            <td>8</td>\n",
              "            <td>2.54</td>\n",
              "        </tr>\n",
              "        <tr>\n",
              "            <td>6</td>\n",
              "            <td>30.48</td>\n",
              "            <td>10</td>\n",
              "            <td>2.54</td>\n",
              "        </tr>\n",
              "        <tr>\n",
              "            <td>6</td>\n",
              "            <td>30.48</td>\n",
              "            <td>6</td>\n",
              "            <td>2.54</td>\n",
              "        </tr>\n",
              "    </tbody>\n",
              "</table>"
            ]
          },
          "metadata": {},
          "execution_count": 10
        }
      ],
      "source": [
        "%%sql\n",
        "SELECT heightFeet,\n",
        "       30.48 AS foot_to_cm,\n",
        "       heightInches,\n",
        "       2.54 AS inch_to_cm\n",
        "  FROM players\n",
        " LIMIT 5;"
      ]
    },
    {
      "cell_type": "markdown",
      "id": "studied-preference",
      "metadata": {
        "id": "studied-preference"
      },
      "source": [
        "## 數值運算符"
      ]
    },
    {
      "cell_type": "markdown",
      "id": "cleared-chance",
      "metadata": {
        "id": "cleared-chance"
      },
      "source": [
        "## 針對整數（INTEGER）與帶小數點的浮點數（REAL）可以使用數值運算符衍生計算欄位\n",
        "\n",
        "![mutate](https://github.com/ccwu0918/classroom-hahow-sqlfifty/blob/main/04-calculated-fields/mutate.png?raw=1)"
      ]
    },
    {
      "cell_type": "markdown",
      "id": "minus-calgary",
      "metadata": {
        "id": "minus-calgary"
      },
      "source": [
        "## 基礎數值運算符\n",
        "\n",
        "|數值運算符|作用描述|\n",
        "|--------|-------|\n",
        "|`+`|相加|\n",
        "|`-`|相減|\n",
        "|`*`|相乘|\n",
        "|`/`|相除|\n",
        "|`%`|回傳餘數|\n",
        "|`()`|優先運算|"
      ]
    },
    {
      "cell_type": "markdown",
      "id": "ordered-testing",
      "metadata": {
        "id": "ordered-testing"
      },
      "source": [
        "## 運用數值運算符衍生以公分為單位的球員身高"
      ]
    },
    {
      "cell_type": "code",
      "execution_count": 11,
      "id": "other-optimization",
      "metadata": {
        "id": "other-optimization",
        "outputId": "34373908-af79-4ee8-92c2-79800a2e0377",
        "colab": {
          "base_uri": "https://localhost:8080/",
          "height": 182
        }
      },
      "outputs": [
        {
          "output_type": "stream",
          "name": "stdout",
          "text": [
            " * sqlite:///./databases/imdb.db\n",
            "Done.\n"
          ]
        },
        {
          "output_type": "execute_result",
          "data": {
            "text/plain": [
              "[(6, 9, 205.74),\n",
              " (6, 7, 200.66),\n",
              " (6, 8, 203.2),\n",
              " (6, 10, 208.28),\n",
              " (6, 6, 198.12)]"
            ],
            "text/html": [
              "<table>\n",
              "    <thead>\n",
              "        <tr>\n",
              "            <th>heightFeet</th>\n",
              "            <th>heightInches</th>\n",
              "            <th>heightCentimeters</th>\n",
              "        </tr>\n",
              "    </thead>\n",
              "    <tbody>\n",
              "        <tr>\n",
              "            <td>6</td>\n",
              "            <td>9</td>\n",
              "            <td>205.74</td>\n",
              "        </tr>\n",
              "        <tr>\n",
              "            <td>6</td>\n",
              "            <td>7</td>\n",
              "            <td>200.66</td>\n",
              "        </tr>\n",
              "        <tr>\n",
              "            <td>6</td>\n",
              "            <td>8</td>\n",
              "            <td>203.2</td>\n",
              "        </tr>\n",
              "        <tr>\n",
              "            <td>6</td>\n",
              "            <td>10</td>\n",
              "            <td>208.28</td>\n",
              "        </tr>\n",
              "        <tr>\n",
              "            <td>6</td>\n",
              "            <td>6</td>\n",
              "            <td>198.12</td>\n",
              "        </tr>\n",
              "    </tbody>\n",
              "</table>"
            ]
          },
          "metadata": {},
          "execution_count": 11
        }
      ],
      "source": [
        "%%sql\n",
        "SELECT heightFeet,\n",
        "       heightInches,\n",
        "       heightFeet * 30.48 + heightInches * 2.54 AS heightCentimeters\n",
        "  FROM players\n",
        " LIMIT 5;"
      ]
    },
    {
      "cell_type": "markdown",
      "id": "nuclear-driving",
      "metadata": {
        "id": "nuclear-driving"
      },
      "source": [
        "## 數值運算時要特別注意優先順序，例如先乘除後加減\n",
        "\n",
        "\\begin{equation}\n",
        "Celsius_{(^{\\circ} C)} = (Fahrenheit_{(^{\\circ} F)} - 32) \\times \\frac{5}{9}\n",
        "\\end{equation}"
      ]
    },
    {
      "cell_type": "code",
      "execution_count": 12,
      "id": "incredible-combination",
      "metadata": {
        "id": "incredible-combination",
        "outputId": "c9eb16a9-b62a-4b98-e4fd-b813a316f7e3",
        "colab": {
          "base_uri": "https://localhost:8080/",
          "height": 98
        }
      },
      "outputs": [
        {
          "output_type": "stream",
          "name": "stdout",
          "text": [
            " * sqlite:///./databases/imdb.db\n",
            "Done.\n"
          ]
        },
        {
          "output_type": "execute_result",
          "data": {
            "text/plain": [
              "[(195, 100)]"
            ],
            "text/html": [
              "<table>\n",
              "    <thead>\n",
              "        <tr>\n",
              "            <th>wrong_conversion</th>\n",
              "            <th>correct_conversion</th>\n",
              "        </tr>\n",
              "    </thead>\n",
              "    <tbody>\n",
              "        <tr>\n",
              "            <td>195</td>\n",
              "            <td>100</td>\n",
              "        </tr>\n",
              "    </tbody>\n",
              "</table>"
            ]
          },
          "metadata": {},
          "execution_count": 12
        }
      ],
      "source": [
        "%%sql\n",
        "SELECT 212 - 32 * 5/9 AS wrong_conversion,      -- 錯誤的華氏轉攝氏\n",
        "       (212 - 32) * 5/9 AS correct_conversion;  -- 正確的華氏轉攝氏"
      ]
    },
    {
      "cell_type": "markdown",
      "id": "surprising-electronics",
      "metadata": {
        "id": "surprising-electronics"
      },
      "source": [
        "## 在使用 `/` 相除兩個整數的時候要特別注意所衍生的欄位依然會以整數類型存在"
      ]
    },
    {
      "cell_type": "code",
      "execution_count": 13,
      "id": "electoral-borough",
      "metadata": {
        "id": "electoral-borough",
        "outputId": "829513f5-14ce-4189-b9ee-9d9994c7eada",
        "colab": {
          "base_uri": "https://localhost:8080/",
          "height": 98
        }
      },
      "outputs": [
        {
          "output_type": "stream",
          "name": "stdout",
          "text": [
            " * sqlite:///./databases/imdb.db\n",
            "Done.\n"
          ]
        },
        {
          "output_type": "execute_result",
          "data": {
            "text/plain": [
              "[(0,)]"
            ],
            "text/html": [
              "<table>\n",
              "    <thead>\n",
              "        <tr>\n",
              "            <th>an_integer</th>\n",
              "        </tr>\n",
              "    </thead>\n",
              "    <tbody>\n",
              "        <tr>\n",
              "            <td>0</td>\n",
              "        </tr>\n",
              "    </tbody>\n",
              "</table>"
            ]
          },
          "metadata": {},
          "execution_count": 13
        }
      ],
      "source": [
        "%%sql\n",
        "SELECT 1 / 2 AS an_integer;"
      ]
    },
    {
      "cell_type": "markdown",
      "id": "anticipated-vehicle",
      "metadata": {
        "id": "anticipated-vehicle"
      },
      "source": [
        "## 若希望衍生欄位是浮點數類型，要為分子或者分母加上小數點"
      ]
    },
    {
      "cell_type": "code",
      "execution_count": 15,
      "id": "sacred-designation",
      "metadata": {
        "id": "sacred-designation",
        "outputId": "f9695b8a-28a8-42d4-e4a2-0ec9ef53a04e",
        "colab": {
          "base_uri": "https://localhost:8080/",
          "height": 98
        }
      },
      "outputs": [
        {
          "output_type": "stream",
          "name": "stdout",
          "text": [
            " * sqlite:///./databases/imdb.db\n",
            "Done.\n"
          ]
        },
        {
          "output_type": "execute_result",
          "data": {
            "text/plain": [
              "[(0.5,)]"
            ],
            "text/html": [
              "<table>\n",
              "    <thead>\n",
              "        <tr>\n",
              "            <th>a_real</th>\n",
              "        </tr>\n",
              "    </thead>\n",
              "    <tbody>\n",
              "        <tr>\n",
              "            <td>0.5</td>\n",
              "        </tr>\n",
              "    </tbody>\n",
              "</table>"
            ]
          },
          "metadata": {},
          "execution_count": 15
        }
      ],
      "source": [
        "%%sql\n",
        "SELECT 1.0 / 2 AS a_real;"
      ]
    },
    {
      "cell_type": "markdown",
      "id": "bigger-berry",
      "metadata": {
        "id": "bigger-berry"
      },
      "source": [
        "##  文字運算符"
      ]
    },
    {
      "cell_type": "markdown",
      "id": "balanced-minutes",
      "metadata": {
        "id": "balanced-minutes"
      },
      "source": [
        "##  針對文字（TEXT）可以使用文字運算符衍生計算欄位\n",
        "\n",
        "![mutate](https://github.com/ccwu0918/classroom-hahow-sqlfifty/blob/main/04-calculated-fields/mutate.png?raw=1)"
      ]
    },
    {
      "cell_type": "markdown",
      "id": "concrete-agenda",
      "metadata": {
        "id": "concrete-agenda"
      },
      "source": [
        "## 基礎文字運算符\n",
        "\n",
        "`||`：兩個垂直線（可透過 `Shift + \\` 按出來）能夠連接文字。"
      ]
    },
    {
      "cell_type": "code",
      "execution_count": 16,
      "id": "protective-complex",
      "metadata": {
        "id": "protective-complex",
        "outputId": "c6bc4e20-2238-4aee-b68f-08b8e62198c7",
        "colab": {
          "base_uri": "https://localhost:8080/",
          "height": 182
        }
      },
      "outputs": [
        {
          "output_type": "stream",
          "name": "stdout",
          "text": [
            " * sqlite:///./databases/imdb.db\n",
            "Done.\n"
          ]
        },
        {
          "output_type": "execute_result",
          "data": {
            "text/plain": [
              "[('LeBron', 'James', 'LeBron James'),\n",
              " ('Carmelo', 'Anthony', 'Carmelo Anthony'),\n",
              " ('Udonis', 'Haslem', 'Udonis Haslem'),\n",
              " ('Dwight', 'Howard', 'Dwight Howard'),\n",
              " ('Andre', 'Iguodala', 'Andre Iguodala')]"
            ],
            "text/html": [
              "<table>\n",
              "    <thead>\n",
              "        <tr>\n",
              "            <th>firstName</th>\n",
              "            <th>lastName</th>\n",
              "            <th>player_name</th>\n",
              "        </tr>\n",
              "    </thead>\n",
              "    <tbody>\n",
              "        <tr>\n",
              "            <td>LeBron</td>\n",
              "            <td>James</td>\n",
              "            <td>LeBron James</td>\n",
              "        </tr>\n",
              "        <tr>\n",
              "            <td>Carmelo</td>\n",
              "            <td>Anthony</td>\n",
              "            <td>Carmelo Anthony</td>\n",
              "        </tr>\n",
              "        <tr>\n",
              "            <td>Udonis</td>\n",
              "            <td>Haslem</td>\n",
              "            <td>Udonis Haslem</td>\n",
              "        </tr>\n",
              "        <tr>\n",
              "            <td>Dwight</td>\n",
              "            <td>Howard</td>\n",
              "            <td>Dwight Howard</td>\n",
              "        </tr>\n",
              "        <tr>\n",
              "            <td>Andre</td>\n",
              "            <td>Iguodala</td>\n",
              "            <td>Andre Iguodala</td>\n",
              "        </tr>\n",
              "    </tbody>\n",
              "</table>"
            ]
          },
          "metadata": {},
          "execution_count": 16
        }
      ],
      "source": [
        "%%sql\n",
        "SELECT firstName,\n",
        "       lastName,\n",
        "       firstName || ' ' || lastName AS player_name\n",
        "  FROM players\n",
        " LIMIT 5;"
      ]
    },
    {
      "cell_type": "markdown",
      "id": "computational-africa",
      "metadata": {
        "id": "computational-africa"
      },
      "source": [
        "## 重點統整\n",
        "\n",
        "- `SELECT` 能夠單獨存在於一段 SQL 之中。\n",
        "- 針對整數與帶小數點的浮點數可以使用**數值運算符**衍生計算欄位。\n",
        "- 針對文字可以使用**文字運算符**衍生計算欄位。"
      ]
    },
    {
      "cell_type": "markdown",
      "id": "employed-thousand",
      "metadata": {
        "id": "employed-thousand"
      },
      "source": [
        "```sql\n",
        "/*\n",
        "截至目前學起來的 SQL 有哪些？\n",
        "SQL 寫作順序必須遵從標準 SQL 的規定。\n",
        "*/\n",
        "SELECT column_names  -- 選擇哪些欄位\n",
        "  FROM table_name    -- 從哪個資料庫的資料表\n",
        " LIMIT m;            -- 查詢結果顯示前 m 列就好\n",
        "```"
      ]
    }
  ],
  "metadata": {
    "celltoolbar": "Slideshow",
    "kernelspec": {
      "display_name": "xsql",
      "language": "sqlite",
      "name": "xsql"
    },
    "language_info": {
      "codemirror_mode": "sql",
      "file_extension": "",
      "mimetype": "",
      "name": "mysql",
      "version": "0.0.8"
    },
    "colab": {
      "provenance": [],
      "include_colab_link": true
    }
  },
  "nbformat": 4,
  "nbformat_minor": 5
}