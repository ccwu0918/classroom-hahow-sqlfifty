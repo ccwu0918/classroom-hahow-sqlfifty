{
  "cells": [
    {
      "cell_type": "markdown",
      "metadata": {
        "id": "view-in-github",
        "colab_type": "text"
      },
      "source": [
        "<a href=\"https://colab.research.google.com/github/ccwu0918/classroom-hahow-sqlfifty/blob/main/14-more-exercises/exercises-colab.ipynb\" target=\"_parent\"><img src=\"https://colab.research.google.com/assets/colab-badge.svg\" alt=\"Open In Colab\"/></a>"
      ]
    },
    {
      "cell_type": "markdown",
      "metadata": {
        "deletable": false,
        "editable": false,
        "id": "eip757cB2fVf"
      },
      "source": [
        "# SQL 的五十道練習\n",
        "\n",
        "> 綜合練習題\n",
        "\n",
        "[數據交點](https://www.datainpoint.com) | 郭耀仁 <yaojenkuo@datainpoint.com>"
      ]
    },
    {
      "cell_type": "markdown",
      "metadata": {
        "deletable": false,
        "id": "9GffLXOB2fVf"
      },
      "source": [
        "## 練習題指引\n",
        "\n",
        "- 由於近期 mybinder.org 的服務不穩定，新增 Google Colab 作為另一個寫作練習題的平台。\n",
        "- 開始寫作之前，可以先按上方「Copy to Drive」按鈕將筆記本複製到自己的 Google 雲端硬碟。\n",
        "- 在每份練習題的開始，都會先將四個學習資料庫載入環境。\n",
        "- 因此 SQL 可以指定四個學習資料庫中的資料表，不需要額外指定資料庫。\n",
        "- 在 SQL 語法起點與 SQL 語法終點這兩個單行註解之間撰寫能夠得到預期結果的 SQL。\n",
        "- 可以先在自己電腦的 SQLiteStudio 或者 DBeaver 寫出跟預期結果相同的 SQL 後再複製貼上到練習題。\n",
        "- 執行測試的方式為點選右上角 Connect，然後點選上方選單的 Runtime -> Restart and run all -> Yes -> Run anyway。\n",
        "- 移動到 Google Colab 的最後一個儲存格看測試結果。\n",
        "- 可以每寫一題就執行測試，也可以全部寫完再執行測試。\n",
        "- 練習題閒置超過 10 分鐘會自動斷線，這時只要重新點選練習題連結即可重新啟動。"
      ]
    },
    {
      "cell_type": "code",
      "source": [
        "!git clone https://github.com/ccwu0918/classroom-hahow-sqlfifty.git"
      ],
      "metadata": {
        "id": "Q93Vk9GKbVjj",
        "outputId": "fc4f6c45-5682-4bd8-fccb-cc9266548b1e",
        "colab": {
          "base_uri": "https://localhost:8080/"
        }
      },
      "execution_count": null,
      "outputs": [
        {
          "output_type": "stream",
          "name": "stdout",
          "text": [
            "Cloning into 'classroom-hahow-sqlfifty'...\n",
            "remote: Enumerating objects: 931, done.\u001b[K\n",
            "remote: Counting objects: 100% (182/182), done.\u001b[K\n",
            "remote: Compressing objects: 100% (152/152), done.\u001b[K\n",
            "remote: Total 931 (delta 100), reused 70 (delta 29), pack-reused 749\u001b[K\n",
            "Receiving objects: 100% (931/931), 69.00 MiB | 12.33 MiB/s, done.\n",
            "Resolving deltas: 100% (592/592), done.\n",
            "Updating files: 100% (130/130), done.\n"
          ]
        }
      ]
    },
    {
      "cell_type": "code",
      "source": [
        "%cd classroom-hahow-sqlfifty"
      ],
      "metadata": {
        "id": "HlcICLC8bloZ",
        "outputId": "3143f639-a33a-4b3f-93fc-22b7080ce2fb",
        "colab": {
          "base_uri": "https://localhost:8080/"
        }
      },
      "execution_count": null,
      "outputs": [
        {
          "output_type": "stream",
          "name": "stdout",
          "text": [
            "/content/classroom-hahow-sqlfifty/classroom-hahow-sqlfifty\n"
          ]
        }
      ]
    },
    {
      "cell_type": "code",
      "execution_count": null,
      "metadata": {
        "id": "iFUJM6J9bSHy"
      },
      "outputs": [],
      "source": [
        "# !wget -N https://raw.githubusercontent.com/datainpoint/classroom-hahow-sqlfifty/main/databases/nba.db\n",
        "# !wget -N https://raw.githubusercontent.com/datainpoint/classroom-hahow-sqlfifty/main/databases/covid19.db\n",
        "# !wget -N https://raw.githubusercontent.com/datainpoint/classroom-hahow-sqlfifty/main/databases/twElection2020.db\n",
        "# !wget -N https://raw.githubusercontent.com/datainpoint/classroom-hahow-sqlfifty/main/databases/imdb.db\n",
        "# !wget -N https://raw.githubusercontent.com/datainpoint/classroom-hahow-sqlfifty/main/exercise_index.json"
      ]
    },
    {
      "cell_type": "code",
      "execution_count": null,
      "metadata": {
        "deletable": false,
        "id": "JzoixGNlbSHz",
        "outputId": "13121604-f616-4fa2-d7c7-432778fb6a99",
        "colab": {
          "base_uri": "https://localhost:8080/"
        }
      },
      "outputs": [
        {
          "output_type": "execute_result",
          "data": {
            "text/plain": [
              "<sqlite3.Cursor at 0x7d80f4932ac0>"
            ]
          },
          "metadata": {},
          "execution_count": 59
        }
      ],
      "source": [
        "import sqlite3\n",
        "import unittest\n",
        "import json\n",
        "import os\n",
        "import numpy as np\n",
        "import pandas as pd\n",
        "conn = sqlite3.connect('./databases/nba.db')\n",
        "conn.execute(\"\"\"ATTACH './databases/covid19.db' AS covid19\"\"\")\n",
        "conn.execute(\"\"\"ATTACH './databases/twElection2020.db' AS twElection2020\"\"\")\n",
        "conn.execute(\"\"\"ATTACH './databases/imdb.db' AS imdb\"\"\")"
      ]
    },
    {
      "cell_type": "code",
      "source": [
        "%load_ext sql"
      ],
      "metadata": {
        "id": "vLAGRoijcSb0",
        "outputId": "d119c029-cc2d-4617-d486-ebf4b2c9ef03",
        "colab": {
          "base_uri": "https://localhost:8080/"
        }
      },
      "execution_count": null,
      "outputs": [
        {
          "output_type": "stream",
          "name": "stdout",
          "text": [
            "The sql extension is already loaded. To reload it, use:\n",
            "  %reload_ext sql\n"
          ]
        }
      ]
    },
    {
      "cell_type": "code",
      "source": [
        "%sql sqlite:///./databases/nba.db\n",
        "%sql ATTACH './databases/covid19.db' AS covid19\n",
        "%sql ATTACH './databases/twElection2020.db' AS twElection2020\n",
        "%sql ATTACH './databases/imdb.db' AS imdb"
      ],
      "metadata": {
        "id": "gCsaniX2cz6Z"
      },
      "execution_count": null,
      "outputs": []
    },
    {
      "cell_type": "markdown",
      "metadata": {
        "id": "A8mx_SO52fVg"
      },
      "source": [
        "## 46. 從 `covid19` 資料庫查詢兩艘郵輪（Grand Princess 與 Diamond Princess）的資訊，參考下列的預期查詢結果。\n",
        "\n",
        "- 預期輸入：SQL 查詢語法。\n",
        "- 預期輸出：(4, 4) 的查詢結果。\n",
        "\n",
        "```\n",
        "  iso2 Country_Region    Province_State  Confirmed\n",
        "0   CA         Canada  Diamond Princess          0\n",
        "1   CA         Canada    Grand Princess         13\n",
        "2   US             US  Diamond Princess         49\n",
        "3   US             US    Grand Princess        103\n",
        "```"
      ]
    },
    {
      "cell_type": "code",
      "source": [
        "%%sql\n",
        "SELECT * FROM daily_report"
      ],
      "metadata": {
        "id": "xcT1w16Pdt_4"
      },
      "execution_count": null,
      "outputs": []
    },
    {
      "cell_type": "code",
      "source": [
        "pd.read_sql(\"SELECT * FROM daily_report\", conn)"
      ],
      "metadata": {
        "id": "Eg5WdV6KexYV"
      },
      "execution_count": null,
      "outputs": []
    },
    {
      "cell_type": "code",
      "execution_count": null,
      "metadata": {
        "id": "fpyuzzOS2fVg"
      },
      "outputs": [],
      "source": [
        "find_cruise_ships_from_covid19 =\\\n",
        "\"\"\"\n",
        "-- SQL 查詢語法起點\n",
        "\n",
        "-- SQL 查詢語法終點\n",
        "\"\"\""
      ]
    },
    {
      "cell_type": "markdown",
      "metadata": {
        "id": "QND1vCDj2fVg"
      },
      "source": [
        "## 47. 從 `covid19` 資料庫查詢截至 2021-03-31 所有國家確診與死亡人數的資訊，參考下列的預期查詢結果。\n",
        "\n",
        "- 預期輸入：SQL 查詢語法。\n",
        "- 預期輸出：(192, 3) 的查詢結果。\n",
        "\n",
        "```\n",
        "         Country_Region  Confirmed  Deaths\n",
        "0           Afghanistan      56454    2484\n",
        "1               Albania     125157    2235\n",
        "2               Algeria     117192    3093\n",
        "3               Andorra      12010     115\n",
        "4                Angola      22311     537\n",
        "..                  ...        ...     ...\n",
        "187             Vietnam       2603      35\n",
        "188  West Bank and Gaza     242353    2627\n",
        "189               Yemen       4357     888\n",
        "190              Zambia      88418    1208\n",
        "191            Zimbabwe      36882    1523\n",
        "\n",
        "[192 rows x 3 columns]\n",
        "```"
      ]
    },
    {
      "cell_type": "code",
      "execution_count": null,
      "metadata": {
        "id": "LDy9QQOY2fVg"
      },
      "outputs": [],
      "source": [
        "summarize_confirmed_deaths_by_country_from_covid19 =\\\n",
        "\"\"\"\n",
        "-- SQL 查詢語法起點\n",
        "\n",
        "-- SQL 查詢語法終點\n",
        "\"\"\""
      ]
    },
    {
      "cell_type": "markdown",
      "metadata": {
        "id": "xOn6TMze2fVg"
      },
      "source": [
        "## 48. 從 `imdb` 資料庫查詢「魔戒三部曲」與「蝙蝠俠三部曲」的電影資訊與演員名單，三部曲電影系列中演員重複出演的情況是正常的，這時顯示獨一值即可，參考下列的預期查詢結果。\n",
        "\n",
        "- 預期輸入：SQL 查詢語法。\n",
        "- 預期輸出：(66, 2) 的查詢結果。\n",
        "\n",
        "```\n",
        "                          trilogy                  name\n",
        "0                  Batman Trilogy         Aaron Eckhart\n",
        "1                  Batman Trilogy          Aidan Gillen\n",
        "2                  Batman Trilogy        Alon Aboutboul\n",
        "3                  Batman Trilogy         Anne Hathaway\n",
        "4                  Batman Trilogy  Anthony Michael Hall\n",
        "..                            ...                   ...\n",
        "61  The Lord of the Rings Trilogy         Sadwyn Brophy\n",
        "62  The Lord of the Rings Trilogy            Sala Baker\n",
        "63  The Lord of the Rings Trilogy            Sam Comery\n",
        "64  The Lord of the Rings Trilogy            Sean Astin\n",
        "65  The Lord of the Rings Trilogy             Sean Bean\n",
        "\n",
        "[66 rows x 2 columns]\n",
        "```"
      ]
    },
    {
      "cell_type": "code",
      "execution_count": null,
      "metadata": {
        "id": "_riz0Nyl2fVg"
      },
      "outputs": [],
      "source": [
        "find_two_trilogy_casting_list =\\\n",
        "\"\"\"\n",
        "-- SQL 查詢語法起點\n",
        "\n",
        "-- SQL 查詢語法終點\n",
        "\"\"\""
      ]
    },
    {
      "cell_type": "markdown",
      "metadata": {
        "id": "slIR93X12fVg"
      },
      "source": [
        "## 49. 從 `nba` 資料庫查詢截至 2021-03-31 的得分王（生涯場均得分 `ppg` 最高）、助攻王（生涯場均助攻 `apg` 最高）、籃板王（生涯場均籃板 `rpg` 最高）、抄截王（生涯場均抄截 `spg` 最高）以及阻攻王（生涯場均阻攻 `bpg` 最高），參考下列的預期查詢結果。\n",
        "\n",
        "- 預期輸入：SQL 查詢語法。\n",
        "- 預期輸出：(6, 4) 的查詢結果。\n",
        "\n",
        "```\n",
        "  firstName   lastName category  value\n",
        "0     Andre   Drummond      rpg   13.8\n",
        "1   Anthony      Davis      bpg    2.4\n",
        "2     Chris       Paul      apg    9.4\n",
        "3     Chris       Paul      spg    2.2\n",
        "4    Hassan  Whiteside      bpg    2.4\n",
        "5     Kevin     Durant      ppg   27.1\n",
        "```"
      ]
    },
    {
      "cell_type": "code",
      "execution_count": null,
      "metadata": {
        "id": "EuVT0LhC2fVg"
      },
      "outputs": [],
      "source": [
        "find_max_stats_per_game_from_nba =\\\n",
        "\"\"\"\n",
        "-- SQL 查詢語法起點\n",
        "\n",
        "-- SQL 查詢語法終點\n",
        "\"\"\""
      ]
    },
    {
      "cell_type": "markdown",
      "metadata": {
        "id": "naTBRCay2fVg"
      },
      "source": [
        "## 50. 從 `twElection2020` 資料庫查詢三組總統候選人在各縣市的得票數，參考下列的預期查詢結果。\n",
        "\n",
        "- 預期輸入：SQL 查詢語法。\n",
        "- 預期輸出：(22, 4) 的查詢結果。\n",
        "\n",
        "```\n",
        "   county  soong_yu_votes  han_chang_votes  tsai_lai_votes\n",
        "0     南投縣           13315           133791          152046\n",
        "1     嘉義市            6204            56269           99265\n",
        "2     嘉義縣           11138            98810          197342\n",
        "3     基隆市           11878            99360          114966\n",
        "4     宜蘭縣           10739            90010          173657\n",
        "5     屏東縣           14021           179353          317676\n",
        "6     彰化縣           35060           291835          436336\n",
        "7     新北市          112620           959631         1393936\n",
        "8     新竹市           14103           102725          144274\n",
        "9     新竹縣           18435           154224          152380\n",
        "10    桃園市           63132           529749          718260\n",
        "11    澎湖縣            2583            20911           27410\n",
        "12    臺中市           84800           646366          967304\n",
        "13    臺北市           70769           685830          875854\n",
        "14    臺南市           41075           339702          786471\n",
        "15    臺東縣            4163            67413           44092\n",
        "16    花蓮縣            6869           111834           66509\n",
        "17    苗栗縣           15222           164345          147034\n",
        "18    連江縣             188             4776            1226\n",
        "19    金門縣            1636            35948           10456\n",
        "20    雲林縣           15331           138341          246116\n",
        "21    高雄市           55309           610896         1097621\n",
        "```"
      ]
    },
    {
      "cell_type": "code",
      "execution_count": null,
      "metadata": {
        "id": "4hPfGdSO2fVg"
      },
      "outputs": [],
      "source": [
        "summarize_presidential_votes_from_twelection2020 =\\\n",
        "\"\"\"\n",
        "-- SQL 查詢語法起點\n",
        "\n",
        "-- SQL 查詢語法終點\n",
        "\"\"\""
      ]
    },
    {
      "cell_type": "markdown",
      "metadata": {
        "deletable": false,
        "id": "iAaikdmJ2fVh"
      },
      "source": [
        "## 執行測試！\n",
        "\n",
        "Runtime -> Restart and run all -> Yes -> Run anyway."
      ]
    },
    {
      "cell_type": "code",
      "execution_count": null,
      "metadata": {
        "deletable": false,
        "cellView": "form",
        "id": "LdYBejvX2fVh"
      },
      "outputs": [],
      "source": [
        "# @title\n",
        "class TestMoreExercises(unittest.TestCase):\n",
        "    def test_46_find_cruise_ships_from_covid19(self):\n",
        "        cruise_ships_from_covid19 = pd.read_sql(find_cruise_ships_from_covid19, conn)\n",
        "        self.assertEqual(cruise_ships_from_covid19.shape, (4, 4))\n",
        "        column_values = set(cruise_ships_from_covid19.iloc[:, 1].values)\n",
        "        self.assertTrue('Canada' in column_values)\n",
        "        self.assertTrue('US' in column_values)\n",
        "        column_values = set(cruise_ships_from_covid19.iloc[:, 2].values)\n",
        "        self.assertTrue('Diamond Princess' in column_values)\n",
        "        self.assertTrue('Grand Princess' in column_values)\n",
        "    def test_47_summarize_confirmed_deaths_by_country_from_covid19(self):\n",
        "        confirmed_deaths_by_country_from_covid19 = pd.read_sql(summarize_confirmed_deaths_by_country_from_covid19, conn)\n",
        "        self.assertEqual(confirmed_deaths_by_country_from_covid19.shape, (192, 3))\n",
        "    def test_48_find_two_trilogy_casting_list(self):\n",
        "        two_trilogy_casting_list = pd.read_sql(find_two_trilogy_casting_list, conn)\n",
        "        self.assertEqual(two_trilogy_casting_list.shape, (66, 2))\n",
        "        column_values = set(two_trilogy_casting_list.iloc[:, 1].values)\n",
        "        self.assertTrue('Christian Bale' in column_values)\n",
        "        self.assertTrue('Heath Ledger' in column_values)\n",
        "        self.assertTrue('Anne Hathaway' in column_values)\n",
        "        self.assertTrue('Sean Astin' in column_values)\n",
        "        self.assertTrue('Cate Blanchett' in column_values)\n",
        "        self.assertTrue('Orlando Bloom' in column_values)\n",
        "    def test_49_find_max_stats_per_game_from_nba(self):\n",
        "        max_stats_per_game_from_nba = pd.read_sql(find_max_stats_per_game_from_nba, conn)\n",
        "        self.assertEqual(max_stats_per_game_from_nba.shape, (6, 4))\n",
        "        first_names = set(max_stats_per_game_from_nba.iloc[:, 0].values)\n",
        "        self.assertTrue('Chris' in first_names)\n",
        "        self.assertTrue('Anthony' in first_names)\n",
        "        self.assertTrue('Kevin' in first_names)\n",
        "        categories = set(max_stats_per_game_from_nba.iloc[:, 2].values)\n",
        "        self.assertTrue('apg' in categories)\n",
        "        self.assertTrue('ppg' in categories)\n",
        "        self.assertTrue('spg' in categories)\n",
        "        self.assertTrue('rpg' in categories)\n",
        "        self.assertTrue('rpg' in categories)\n",
        "    def test_50_summarize_presidential_votes_from_twelection2020(self):\n",
        "        presidential_votes_from_twelection2020 = pd.read_sql(summarize_presidential_votes_from_twelection2020, conn)\n",
        "        self.assertEqual(presidential_votes_from_twelection2020.shape, (22, 4))\n",
        "        counties = set(presidential_votes_from_twelection2020.iloc[:, 0].values)\n",
        "        self.assertTrue('臺北市' in counties)\n",
        "        self.assertTrue('新北市' in counties)\n",
        "        self.assertTrue('桃園市' in counties)\n",
        "        self.assertTrue('臺中市' in counties)\n",
        "        self.assertTrue('臺南市' in counties)\n",
        "        self.assertTrue('高雄市' in counties)\n",
        "        self.assertEqual(presidential_votes_from_twelection2020.iloc[:, 1].sum(), 608590)\n",
        "        self.assertEqual(presidential_votes_from_twelection2020.iloc[:, 2].sum(), 5522119)\n",
        "        self.assertEqual(presidential_votes_from_twelection2020.iloc[:, 3].sum(), 8170231)\n",
        "\n",
        "suite = unittest.TestLoader().loadTestsFromTestCase(TestMoreExercises)\n",
        "runner = unittest.TextTestRunner(verbosity=2)\n",
        "test_results = runner.run(suite)\n",
        "number_of_failures = len(test_results.failures)\n",
        "number_of_errors = len(test_results.errors)\n",
        "number_of_test_runs = test_results.testsRun\n",
        "number_of_successes = number_of_test_runs - (number_of_failures + number_of_errors)\n",
        "#cwd = os.getcwd()\n",
        "folder_name = \"14-more-exercises\"\n",
        "with open(\"exercise_index.json\", \"r\") as content:\n",
        "    exercise_index = json.load(content)\n",
        "chapter_name = exercise_index[folder_name]"
      ]
    },
    {
      "cell_type": "code",
      "execution_count": null,
      "metadata": {
        "deletable": false,
        "editable": false,
        "cellView": "form",
        "id": "L1RV8F7P2fVh"
      },
      "outputs": [],
      "source": [
        "# @title\n",
        "print(\"您在「{}」章節中的 {} 道 SQL 練習答對了 {} 題。\".format(chapter_name, number_of_test_runs, number_of_successes))"
      ]
    }
  ],
  "metadata": {
    "celltoolbar": "Edit Metadata",
    "kernelspec": {
      "display_name": "Python 3 (ipykernel)",
      "language": "python",
      "name": "python3"
    },
    "language_info": {
      "codemirror_mode": {
        "name": "ipython",
        "version": 3
      },
      "file_extension": ".py",
      "mimetype": "text/x-python",
      "name": "python",
      "nbconvert_exporter": "python",
      "pygments_lexer": "ipython3",
      "version": "3.9.5"
    },
    "colab": {
      "provenance": [],
      "include_colab_link": true
    }
  },
  "nbformat": 4,
  "nbformat_minor": 0
}