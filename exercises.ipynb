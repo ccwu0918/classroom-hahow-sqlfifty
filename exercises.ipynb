{
 "cells": [
  {
   "cell_type": "markdown",
   "metadata": {
    "deletable": false,
    "editable": false
   },
   "source": [
    "# SQL 的五十道練習\n",
    "\n",
    "> 示範練習\n",
    "\n",
    "郭耀仁 <yaojenkuo@datainpoint.com>，[數據交點](https://www.datainpoint.com)"
   ]
  },
  {
   "cell_type": "code",
   "execution_count": 1,
   "metadata": {
    "deletable": false,
    "editable": false
   },
   "outputs": [
    {
     "data": {
      "text/plain": [
       "<sqlite3.Cursor at 0x7fc9a6a6f5e0>"
      ]
     },
     "execution_count": 1,
     "metadata": {},
     "output_type": "execute_result"
    }
   ],
   "source": [
    "import sqlite3\n",
    "import unittest\n",
    "import numpy as np\n",
    "import pandas as pd\n",
    "conn = sqlite3.connect('databases/nba.db')\n",
    "conn.execute(\"\"\"ATTACH 'databases/covid19.db' AS covid19\"\"\")\n",
    "conn.execute(\"\"\"ATTACH 'databases/twElection2020.db' AS twElection2020\"\"\")\n",
    "conn.execute(\"\"\"ATTACH 'databases/imdb.db' AS imdb\"\"\")"
   ]
  },
  {
   "cell_type": "markdown",
   "metadata": {},
   "source": [
    "## 從 2020 總統大選資料表 `presidential` 中計算三組候選人各獲得幾票，並依照他們的號碼排序。\n",
    "\n",
    "- 預期輸入：SQL 查詢語法。\n",
    "- 預期輸出：(3, 3) 的查詢結果。\n",
    "\n",
    "```\n",
    "  number candidate  total_votes\n",
    "0      1    宋楚瑜/余湘       608590\n",
    "1      2   韓國瑜/張善政      5522119\n",
    "2      3   蔡英文/賴清德      8170231\n",
    "```"
   ]
  },
  {
   "cell_type": "code",
   "execution_count": 2,
   "metadata": {},
   "outputs": [],
   "source": [
    "summarize_presidential_2020 =\\\n",
    "\"\"\"\n",
    "-- SQL 查詢語法起點\n",
    "-- SQL 查詢語法終點\n",
    "\"\"\""
   ]
  },
  {
   "cell_type": "markdown",
   "metadata": {},
   "source": [
    "## 從 2020-12-31 的每日報告資料表 `daily_report` 中計算各個國家新冠肺炎的確診人數為多少，並由大排到小（遞減排序）。\n",
    "\n",
    "- 預期輸入：SQL 查詢語法。\n",
    "- 預期輸出：(191, 2) 的查詢結果。\n",
    "\n",
    "```\n",
    "       Country_Region  n_confirmed\n",
    "0                  US     20032035\n",
    "1               India     10266674\n",
    "2              Brazil      7675973\n",
    "3              Russia      3127347\n",
    "4              France      2677666\n",
    "..                ...          ...\n",
    "186   Solomon Islands           17\n",
    "187        MS Zaandam            9\n",
    "188  Marshall Islands            4\n",
    "189             Samoa            2\n",
    "190           Vanuatu            1\n",
    "\n",
    "[191 rows x 2 columns]\n",
    "```"
   ]
  },
  {
   "cell_type": "code",
   "execution_count": 3,
   "metadata": {},
   "outputs": [],
   "source": [
    "aggregate_confirmed_by_countries =\\\n",
    "\"\"\"\n",
    "-- SQL 查詢語法起點\n",
    "-- SQL 查詢語法終點\n",
    "\"\"\""
   ]
  },
  {
   "cell_type": "markdown",
   "metadata": {},
   "source": [
    "## 從 NBA 球員資料表 `players` 中找出身高最高的球員是誰。\n",
    "\n",
    "- 預期輸入：SQL 查詢語法。\n",
    "- 預期輸出：(1, 3) 的查詢結果。\n",
    "\n",
    "```\n",
    "  firstName lastName  heightMeters\n",
    "0     Tacko     Fall          2.26\n",
    "```"
   ]
  },
  {
   "cell_type": "code",
   "execution_count": 4,
   "metadata": {},
   "outputs": [],
   "source": [
    "find_the_tallest_nba_player =\\\n",
    "\"\"\"\n",
    "-- SQL 查詢語法起點\n",
    "-- SQL 查詢語法終點\n",
    "\"\"\""
   ]
  },
  {
   "cell_type": "markdown",
   "metadata": {},
   "source": [
    "## 從 250 部經典電影資料表 `top_rated_movies` 中找出男星 Tom Hanks 在哪些電影中有演出？\n",
    "\n",
    "- 預期輸入：SQL 查詢語法。\n",
    "- 預期輸出：(6, 3) 的查詢結果。\n",
    "\n",
    "```\n",
    "                 title  release_year  rating\n",
    "0         Forrest Gump          1994     8.8\n",
    "1            Toy Story          1995     8.3\n",
    "2  Saving Private Ryan          1998     8.6\n",
    "3       The Green Mile          1999     8.6\n",
    "4  Catch Me If You Can          2002     8.1\n",
    "5          Toy Story 3          2010     8.2\n",
    "\n",
    "```"
   ]
  },
  {
   "cell_type": "code",
   "execution_count": 5,
   "metadata": {},
   "outputs": [],
   "source": [
    "find_tom_hanks_is_casting =\\\n",
    "\"\"\"\n",
    "-- SQL 查詢語法起點\n",
    "-- SQL 查詢語法終點\n",
    "\"\"\""
   ]
  },
  {
   "cell_type": "markdown",
   "metadata": {
    "deletable": false,
    "editable": false
   },
   "source": [
    "## 執行測試！\n",
    "\n",
    "Kernel -> Restart & Run All."
   ]
  },
  {
   "cell_type": "code",
   "execution_count": 6,
   "metadata": {
    "deletable": false,
    "editable": false
   },
   "outputs": [
    {
     "name": "stderr",
     "output_type": "stream",
     "text": [
      "test_aggregate_confirmed_by_countries (__main__.TestDemoExercises) ... ERROR\n",
      "test_find_the_tallest_nba_player (__main__.TestDemoExercises) ... ERROR\n",
      "test_find_tom_hanks_is_casting (__main__.TestDemoExercises) ... ERROR\n",
      "test_summarize_presidential_2020 (__main__.TestDemoExercises) ... ERROR\n",
      "\n",
      "======================================================================\n",
      "ERROR: test_aggregate_confirmed_by_countries (__main__.TestDemoExercises)\n",
      "----------------------------------------------------------------------\n",
      "Traceback (most recent call last):\n",
      "  File \"<ipython-input-6-269a3a945c22>\", line 16, in test_aggregate_confirmed_by_countries\n",
      "    confirmed_by_countries = pd.read_sql(aggregate_confirmed_by_countries, conn)\n",
      "  File \"/Users/kuoyaojen/pyda/lib/python3.6/site-packages/pandas/io/sql.py\", line 489, in read_sql\n",
      "    chunksize=chunksize,\n",
      "  File \"/Users/kuoyaojen/pyda/lib/python3.6/site-packages/pandas/io/sql.py\", line 1728, in read_query\n",
      "    columns = [col_desc[0] for col_desc in cursor.description]\n",
      "TypeError: 'NoneType' object is not iterable\n",
      "\n",
      "======================================================================\n",
      "ERROR: test_find_the_tallest_nba_player (__main__.TestDemoExercises)\n",
      "----------------------------------------------------------------------\n",
      "Traceback (most recent call last):\n",
      "  File \"<ipython-input-6-269a3a945c22>\", line 10, in test_find_the_tallest_nba_player\n",
      "    the_tallest_nba_player = pd.read_sql(find_the_tallest_nba_player, conn)\n",
      "  File \"/Users/kuoyaojen/pyda/lib/python3.6/site-packages/pandas/io/sql.py\", line 489, in read_sql\n",
      "    chunksize=chunksize,\n",
      "  File \"/Users/kuoyaojen/pyda/lib/python3.6/site-packages/pandas/io/sql.py\", line 1728, in read_query\n",
      "    columns = [col_desc[0] for col_desc in cursor.description]\n",
      "TypeError: 'NoneType' object is not iterable\n",
      "\n",
      "======================================================================\n",
      "ERROR: test_find_tom_hanks_is_casting (__main__.TestDemoExercises)\n",
      "----------------------------------------------------------------------\n",
      "Traceback (most recent call last):\n",
      "  File \"<ipython-input-6-269a3a945c22>\", line 27, in test_find_tom_hanks_is_casting\n",
      "    tom_hanks_is_casting = pd.read_sql(find_tom_hanks_is_casting, conn)\n",
      "  File \"/Users/kuoyaojen/pyda/lib/python3.6/site-packages/pandas/io/sql.py\", line 489, in read_sql\n",
      "    chunksize=chunksize,\n",
      "  File \"/Users/kuoyaojen/pyda/lib/python3.6/site-packages/pandas/io/sql.py\", line 1728, in read_query\n",
      "    columns = [col_desc[0] for col_desc in cursor.description]\n",
      "TypeError: 'NoneType' object is not iterable\n",
      "\n",
      "======================================================================\n",
      "ERROR: test_summarize_presidential_2020 (__main__.TestDemoExercises)\n",
      "----------------------------------------------------------------------\n",
      "Traceback (most recent call last):\n",
      "  File \"<ipython-input-6-269a3a945c22>\", line 3, in test_summarize_presidential_2020\n",
      "    presidential_2020 = pd.read_sql(summarize_presidential_2020, conn)\n",
      "  File \"/Users/kuoyaojen/pyda/lib/python3.6/site-packages/pandas/io/sql.py\", line 489, in read_sql\n",
      "    chunksize=chunksize,\n",
      "  File \"/Users/kuoyaojen/pyda/lib/python3.6/site-packages/pandas/io/sql.py\", line 1728, in read_query\n",
      "    columns = [col_desc[0] for col_desc in cursor.description]\n",
      "TypeError: 'NoneType' object is not iterable\n",
      "\n",
      "----------------------------------------------------------------------\n",
      "Ran 4 tests in 0.144s\n",
      "\n",
      "FAILED (errors=4)\n"
     ]
    }
   ],
   "source": [
    "class TestDemoExercises(unittest.TestCase):\n",
    "    def test_summarize_presidential_2020(self):\n",
    "        presidential_2020 = pd.read_sql(summarize_presidential_2020, conn)\n",
    "        self.assertEqual(presidential_2020.shape, (3, 3))\n",
    "        np.testing.assert_equal(presidential_2020['candidate'].values,\n",
    "                                 np.array(['宋楚瑜/余湘', '韓國瑜/張善政', '蔡英文/賴清德']))\n",
    "        np.testing.assert_equal(presidential_2020['total_votes'].values,\n",
    "                                 np.array([608590, 5522119, 8170231]))\n",
    "    def test_find_the_tallest_nba_player(self):\n",
    "        the_tallest_nba_player = pd.read_sql(find_the_tallest_nba_player, conn)\n",
    "        self.assertEqual(the_tallest_nba_player.shape, (1, 3))\n",
    "        self.assertEqual(the_tallest_nba_player['firstName'][0], 'Tacko')\n",
    "        self.assertEqual(the_tallest_nba_player['lastName'][0], 'Fall')\n",
    "        self.assertAlmostEqual(the_tallest_nba_player['heightMeters'][0], 2.26)\n",
    "    def test_aggregate_confirmed_by_countries(self):\n",
    "        confirmed_by_countries = pd.read_sql(aggregate_confirmed_by_countries, conn)\n",
    "        self.assertEqual(confirmed_by_countries.shape, (191, 2))\n",
    "        np.testing.assert_equal(confirmed_by_countries['Country_Region'].values[:5], \n",
    "                               np.array(['US', 'India', 'Brazil', 'Russia', 'France']))\n",
    "        np.testing.assert_equal(confirmed_by_countries['Country_Region'].values[-5:], \n",
    "                               np.array(['Solomon Islands', 'MS Zaandam', 'Marshall Islands', 'Samoa', 'Vanuatu']))\n",
    "        np.testing.assert_equal(confirmed_by_countries['n_confirmed'].values[:5], \n",
    "                               np.array([20032035, 10266674, 7675973, 3127347, 2677666]))\n",
    "        np.testing.assert_equal(confirmed_by_countries['n_confirmed'].values[-5:], \n",
    "                               np.array([17, 9, 4, 2, 1]))\n",
    "    def test_find_tom_hanks_is_casting(self):\n",
    "        tom_hanks_is_casting = pd.read_sql(find_tom_hanks_is_casting, conn)\n",
    "        self.assertEqual(tom_hanks_is_casting.shape, (6, 3))\n",
    "        np.testing.assert_equal(tom_hanks_is_casting['title'].values,\n",
    "                               np.array(['Forrest Gump', 'Toy Story', 'Saving Private Ryan', 'The Green Mile', 'Catch Me If You Can', 'Toy Story 3']))\n",
    "        np.testing.assert_equal(tom_hanks_is_casting['release_year'].values,\n",
    "                               np.array([1994, 1995, 1998, 1999, 2002, 2010]))\n",
    "        np.testing.assert_equal(tom_hanks_is_casting['rating'].values,\n",
    "                               np.array([8.8, 8.3, 8.6, 8.6, 8.1, 8.2]))\n",
    "\n",
    "suite = unittest.TestLoader().loadTestsFromTestCase(TestDemoExercises)\n",
    "runner = unittest.TextTestRunner(verbosity=2)\n",
    "test_results = runner.run(suite)\n",
    "number_of_failures = len(test_results.failures)\n",
    "number_of_errors = len(test_results.errors)\n",
    "number_of_test_runs = test_results.testsRun\n",
    "number_of_successes = number_of_test_runs - (number_of_failures + number_of_errors)"
   ]
  },
  {
   "cell_type": "code",
   "execution_count": 7,
   "metadata": {
    "deletable": false,
    "editable": false
   },
   "outputs": [
    {
     "name": "stdout",
     "output_type": "stream",
     "text": [
      "您在 4 道 SQL 練習題中答對了 0 道。\n"
     ]
    }
   ],
   "source": [
    "print(\"您在 {} 道 SQL 練習題中答對了 {} 道。\".format(number_of_test_runs, number_of_successes))"
   ]
  }
 ],
 "metadata": {
  "kernelspec": {
   "display_name": "Python Data Analysis",
   "language": "python",
   "name": "pyda"
  },
  "language_info": {
   "codemirror_mode": {
    "name": "ipython",
    "version": 3
   },
   "file_extension": ".py",
   "mimetype": "text/x-python",
   "name": "python",
   "nbconvert_exporter": "python",
   "pygments_lexer": "ipython3",
   "version": "3.6.8"
  }
 },
 "nbformat": 4,
 "nbformat_minor": 4
}
